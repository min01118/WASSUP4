# # 주피터노트북 셀 스타일 조절
# from IPython.core.display import display, HTML
# # display(HTML("<style>.container { font-weight: bold !important; }</style>"))
# display(HTML("<style>.container { width: 100% !important; }</style>"))

# # 경고메시지 숨기기
# import warning
# warnings.filterwarnings(action='ignore')





import numpy as np
np.__version__








a = np.array(0)
a, a.ndim, type(a)


a = np.array([2, 4, 6])
a, a.ndim, type(a)


a = [ 
    [1,2,3],
    [4,5,6] 
]
a



a = np.array(a)
a, a.ndim, type(a)



a = np.array([
    [
        [
            1,
            2,
            3],
        [4,5,6]],
    [[1,2,3],[4,5,6]]
])


a, a.ndim, type(a)


a.flatten()





a.shape


a.shape?


a = np.array(3)
a, a.shape # 행렬이 아니기 때문


a = np.array([1, 
              3, 
              5, 
              7, 
              9])
a, a.ndim ,a.shape


a = np.array([ 
    [1,2,3],
    [4,5,6] 
    ])
a, a.shape


a = np.array([
    [[0, 0, 0, 0], [0, 0, 0, 0], [0, 0, 0, 0]],
    [[0, 0, 0, 0], [0, 0, 0, 0], [0, 0, 0, 0]]
])

a,a.size,len(a), a.shape # 2개의 3행 4열


a.ndim





# 1차원 리스트 객체(이터러블)
myList = [10, 56, 77, 23, 44]
print(myList, type(myList), len(myList))


myArr = np.array(myList)
print(myArr, type(myArr), len(myArr))
print(f'차원={myArr.ndim}, 구조={myArr.shape}, size={myArr.size}, 길이={len(myArr)}')


# 2차원 리스트 객체(이터러블)
myList2 = [
           [1,2,3 ],
           [10,20,30],
           [100,200,300]
          ]
myList2, len(myList2)


myArr2 = np.array(myList2)
print(myArr2, type(myArr2), len(myArr2))
print(f'차원= {myArr2.ndim}, 구조 = {myArr2.shape}, size = {myArr2.size}, 길이={len(myArr2)}' )


# 2차원 리스트에서 각 행의 수가 다를 경우?
myList21 = [ 
        [1,2,3,4],
        [10,20,30,40,50],
        [100,200,]
        ]
print(myList21, type(myList21), len(myList21))


# 길이가 달라 에러 리턴
myArr21 = np.array(myList21)
#print(myArr21, type(myArr21), len(myArr21))
#print(f'차원= {myArr21.ndim}, 구조 = {myArr21.shape}, size = {myArr21.size}')





# 리스트의 산술연산자 +, * 
import numpy as np
listA = [10, 30, 50]
listB = [1, 2, 3]
print(listA + listB) # 리스트의 + 연산자는 조인역할
print(listA + 2) # 불가


print(listA * 2) # 해당 리스트의 반복
print(listA * listB) # 불가


# 넘파이의 산술연산
import numpy as np
arrA = np.array([1, 2, 3])
lis = [1,2,3]
print(arrA + 2)
print(arrA * 2)
print(lis * 2)


arrB = np.array([4, 5, 6])
print(arrA + arrB)
print(arrA * arrB)
print(arrA / arrB)
print(arrA // arrB) # 몫
print(arrA % arrB) # 나머지





# 자료형 테스트
myList_c = ['안녕', 100, 3.14, True, False] # 리스트는 혼합된 형 그대로 유지
print(myList_c)


myArr_c = np.array(myList_c) # 넘파이배열은 '문자열'로 통일 자동형변환
print(myArr_c, type(myArr_c), myArr_c.dtype)


# 정수와 실수가 혼합된 넘파이 배열
myArr_d = np.array([100, 3.14, 23.5, 0])
print(myArr_d, type(myArr_d), myArr_d.dtype) # 정수와 실수 혼합시, 더 큰 실수형으로 통일 자동형변환





np.array([0, 1, -1, 0]) / np.array([1, 0, 0, 0])



np.log(0)


np.exp(-np.inf)





import pandas as pd 

x = np.array([18,   5,  10,  23,  19,  -8,  10,   0,   0,   5,   2,  15,   8,
              2,   5,   4,  15,  -1,   4,  -7, -24,   7,   9,  -6,  23, -13])

s = pd.Series([18,   5,  10,  23,  19,  -8,  10,   0,   0,   5,   2,  15,   8,
              2,   5,   4,  15,  -1,   4,  -7, -24,   7,   9,  -6,  23, -13] ,name="hello")
s




df


x.mean(), s.mean()



np.mean(x),s.mean()


# 분산
np.var(x), s.var()


# 표준편차
np.std(x), s.std()


# 최대
np.max(x), s.max()


# 최소
np.min(x), s.min()


# 중앙값
np.median(x), s.median()





x = np.array([18,   5,  10,  23,  19,  -8,  10,   0,   0,   5,   2,  15,   8,
              2,   5,   4,  15,  -1,   4,  -7, -24,   7,   9,  -6,  23, -13])
print(x.sort())
print(x)

np.percentile(x, 0) # 최소값


np.percentile(x, 25) # 1사분위수


np.percentile(x, 50) # 2사분위수


np.percentile(x, 75) # 3사분위수


np.percentile(x, 100) # 최대값





# 1로 메모리 초기화, 넘파이 함수로 배열을 만들때에는 디폴트가 실수형
print(np.ones(10), np.ones(10).dtype) 


np.ones(10,dtype=np.int64)



print(np.ones((2,4)), np.ones((2,4)).dtype)


print(np.ones(10, dtype = int), np.ones(10, dtype = int).dtype)





# 0으로 메모리 초기화
print(np.zeros(10), np.zeros(10).dtype)


print(np.zeros((3,3)), np.zeros((3,3)).dtype)


# 메모리가 비어있음 -> 메모리가 초기화 되지 않는다.
print(np.empty(10), np.empty(10).dtype)
print(np.empty((3,3)), np.empty((3,3)).dtype)
print(np.empty((3,3)))
print(np.empty((3,3), dtype=int))  # 기존 메모리에 있던 값을 출력한다.(정확히 알수 없음)


# 리스트+레인지
print( list(range(1,21)), type(list(range(1,21))) )


# 1~20으로 구성된 4행 5열의 넘파이 배열print(np.array(list(range(1,21))), type(list(range(1,21))))
print(np.arange(20), type(np.arange(20)))
print(np.arange(1, 20), type(np.arange(1, 20)))
print(np.arange(1, 20, 2), type(np.arange(1, 20,2)))


# linspace 명령이나 logspace 명령은 선형 구간 혹은 로그 구간을 지정한 구간의 수만큼 분할한다.
np.linspace(0, 100)  # 시작, 끝(포함), 갯수


np.linspace?


np.logspace?


np.logspace(-11111111111111, 111111111, 10)





# 0~49까지 구성된 넘파이 배열
arr = np.arange(1,51) 
print(arr, len(arr), arr.size)


arr, arr.ndim, arr.shape


arr = arr.reshape(10,5) 
arr, arr.ndim, arr.shape



arr2 = arr.reshape(5,10)
arr2, arr2.ndim, arr2.shape


arr2 = arr.reshape(4,10)
arr2, arr2.ndim, arr2.shape


# 2차원 -> 1차원
# 넘파이배열.flatten()
arr3 = arr2.flatten()
arr3, arr3.shape, arr3.ndim


# 1~100 사이의 짝수로 된 넘파이 배열 생성
np.arange(2,101,2)


np.arange(2,101,2).reshape(5, 10)





np.arange(1, 31)


# 2차원인데 1개 칼럼의 모형을 만들어보자
# reshape(-1, n) : 2차원 n개의 컬럼으로 구성, -1을 넣으면 자동으로 사이즈를 맞춰준다.
arr4 = np.arange(1, 31).reshape(3, -1)
arr4, arr4.ndim, arr4.shape





np.arange(1, 21).reshape(5, 4)


# -1 사용해서, 5열인 모형으로 바꿔보세요.
np.arange(1, 21).reshape(-1, 5)


# 사이즈는 맞아야 합니다.
np.arange(1, 21).reshape(-1, 7)


a = np.arange(12)
a, a.shape


a.shape = 2, -1
a, a.shape


a.shape = 3, -1
a, a.shape


a.shape = -1, 1
a, a.shape


# flatten
a.shape = -1
a, a.shape





matrix1 = np.arange(1, 10)
matrix1, matrix1.dtype


# 정수형, 3행 3열
matrix = np.arange(1, 10).reshape(3,3)
matrix, matrix.dtype


# 실수형, 3행 3열
matrix = np.arange(1, 51, dtype=float).reshape(5,10)
matrix, matrix.dtype


# 문자열형, 3행 3열 -> 불가
matrix = np.arange(1, 10, dtype='str').reshape(3,3)
matrix, matrix.dtype


# 정수형 => 문자열
matrix.astype('<U5').astype("float")


# 논리형으로 구성된 넘파이 배열 생성
matrix2 = np.array([True, False, True, True])
matrix2, matrix2.dtype


# 불린 -> 정수
matrix2.astype(int)



# 불린형 -> 문자열
matrix2.astype('<U5')


# 문자열 숫자 => 정수 , 실수
matrix3 = np.array(['3.14', '5.5', '0.78'])
matrix3, matrix3.dtype


print(matrix3.astype(float))

print(matrix3.astype(int)) # 불가
print(matrix3.astype(bool)) # 불가


print(matrix3.astype(float))


matrix4 = np.array(['3', '5', '7'])
matrix4.astype(int)  # 가능, 값이 유효하기 때문








a = np.array([1, 3, 5, 7, 9])
a, a.ndim, a.shape, a.size


a[0]


a[4]


a[-1]


a[ [0,2,4] ]


# 행렬구조도 인덱싱이 가능하다.
b = np.array([
    [1, 3],
    [4, 2]
] )
b


# 넘파이 배열1을 넘파이 배열2로 인덱싱하는 경우, 넘파이배열2는 인덱스 번호로 인식
a[b]


print(a)
a[2] = 0
print(a)


a[1] += 2
a


a[0] += 6
a





a = np.arange(15).reshape(3, 5)
a, a.ndim, a.shape, a.size


# 인덱싱값이 하나일 경우에는 행 인덱싱
a[0]


a[1]


# 인덱싱값이 2개 들어가면 행/열 인덱싱
a[0, 0]


a[1, 3]


a[2][ 4]


a[-1, -1]


a[-1][-1]


# 값 변경
a = np.arange(15).reshape(3, -1)
a


a[1] = [1, 3, 5, 7, 9]
a


a[-1] = 10
a


a[0] += [1, 2, 3, 4, 5]
a








a = np.array([1, 3, 5, 7, 9])
a, a.ndim, a.shape, a.size


a[:]


a[1:]


a[-1:]


a[1:4]


a = np.arange(10)
a


# 홀수 뽑기
a[1::2]


# 거꾸로 나열해보세요
a[::-2]





import numpy as np


a = np.arange(10, 25).reshape(3, 5)
a, a.ndim, a.shape, a.size


a[1:]


a[:-3]


a[1:][1:] # 행의 범위, 열의 범위


a[1:,1:]


a[:,4:]


a[: , -1:]


a


a[1:, 2:3]


a[:2, 1:4]


a[:-1, 1:-1]


a[1, 2]


a[1][2]


a


# 행 뒤집기
a[::-1]


# 열 뒤집기
a[::, ::-1]





# 3행 2열
matrix_d = np.arange(1,7).reshape(3,2)
matrix_d


# 2행 3열로 변환
print(matrix_d.T)


# reshape과 transpose은 값이 다름을 유의 (reshape는 flatten이 선행)
print(matrix_d.flatten())
print(matrix_d.reshape(2,3)) 





np.random.randint?


# 1~10 사이의 숫자중에서 10개 출력
np.random.randint(1, 10, 10)


np.random.randint(1, 49, 6)


# 2행 5열로 츨력
np.random.randint(1, 10, (2,5))





np.random.shuffle?


# 10개 무작위 값 만들기
matrix_e = np.arange(1,11).reshape(5,2)
matrix_e


np.random.shuffle(matrix_e)
matrix_e





num= np.arange(1,46)
np.random.shuffle(num)
num[:6]


np.random.randint(1,46,6)





np.random.randn?


matrix1 = np.random.randn(10) # 표준정규분포 0 ~ 분산1
matrix1


matrix2 = np.random.randn(4, 4)
matrix2


matrix1.max(), matrix1.min()


#p, r, e
#parameter
#optional -> default
#

#np.random.choice([1,2,3])
#np.random.choice(np.arange(4))

#np.random.choice([1,2,3],2)
#np.random.choice([1,2,3],(2,2))
#np.random.choice([1,2,3],4,replace=True)
#np.random.choice([1,2,3,4],4,replace=False)
#aa_milne_arr = ['pooh', 'rabbit', 'piglet', 'Christopher']
#np.random.choice(aa_milne_arr, 5,p=[0.25, 0.25, 0.25, 0.25])


#if a is an int and less than zero, 
#np.random.choice(-1)
#np.arange(-1) 

#if a or p are not 1-dimensional,
#np.random.choice([[1,2,3,4],[5,6,7,8]])

#if a is an array-like of size 0, 
#np.random.choice([])

#if p is not a vector of probabilities, 
#np.random.choice([1,2,3],3,True,[0.1,0.2,0.2])
#np.random.choice([1,2,3],3,p=[0.1,0.2,0.7])
#np.random.choice([1,2,3],3,p=[0.1,0.2,0.2])

#if a and p have different lengths,
#np.random.choice([1,2],3,p=[0.1,0.2,0.7])

#if replace=False and the sample size is greater than the population size
#np.random.choice([1,2,3],4,replace=False)

#def choice(k) :
#    if k<0 :
#        raise ValueError(" 0 보다 작아요")
#    np.arange(-1)
#choice(-1)




np.random.choice?





m1 = np.random.randint(1, 10, (5,5))
m1


m1[0,::]


#np.sum?


np.sum(m1, axis=0) # (x)열 합계(행방향 합계


np.sum(m1, axis=1) #행합계 (열방향 합계)








# 1번째행의 합계는
m1[0,:]


np.sum(m1[0,:], axis=0)


# 3번째 열의 합계
np.sum(m1[:, 2], axis=0)





# 정수 난수로 구성된 4x3
m2 = np.random.randint(1, 50,(4,3,3))
m2




#np.sort?


np.sort(m2,axis=1) # 행안에서 열정렬 # default axis = -1 마지막 축을 따라 정렬


m2


np.sort(m2, axis=0) # 열정렬(행방향) 오름차순(요소별로)


m2[::-1, ::-1] # 행전체가 역순으로 바뀌는 것과는 다르다(sort는 +요소별 정렬까지 해줌)


m2


np.sort(m2, axis=1) # 행정렬(열방향 오름차순)


m2[::-1, ::-1] 





x = np.array([9,5,4])
np.argsort(x) # 오름차순 정렬 4 5 9 의 인덱스 값 


x[np.argsort(x)] # 인덱스값으로 실제 값 출력





m3 = np.arange(1,11)
m3


np.insert?


np.insert(m3, 0, 100)


m3[0]


np.insert(m3, -1, 500)  # 인덱싱/슬라이싱 end처럼 인식


len(m3)
m3


m3 = [5,4,3,5,6]
np.insert(m3, len(m3), 500)


m4 = np.arange(1,13).reshape(3,4)
m4


np.insert(m4, 0, 100) # 2차원배열의 경우 axis 미설정시 1차원으로 변경되어 삽입


# 1열으로 [100,100,100] 삽입
np.insert(m4, 0, 100, axis=0)






# 리스트로 삽입
np.insert(m4, 0, [100,200,300], axis=1)   


m4.shape, m4.shape[1], len(m4)


# 마지막 컬럼으로 삽입
#배열명.shape[1] 칼럼 길이
np.insert(m4, m4.shape[1] , [100,200,300], axis=1)



# 마지막 행에 삽입
np.insert(m4, m4.shape[0], [100,200,300], axis=0)


m4, m4.shape


np.delete(m4, 1, axis=1)





a = np.array([1,2,3])
b = np.array([4,5,6])
np.hstack((a,b))



np.hstack((a,b)), np.hstack((a,b)).ndim, np.hstack((a,b)).shape


c = np.array( [
    [1,2,3]
] ) # 2차원
c, c.ndim, c.shape


d = np.array([
    [4,5,6]
]) # 2차원
d, d.ndim, d.shape


f = np.concatenate((c,d), axis=0) #
f, f.ndim, f.shape


f = np.concatenate((c,d), axis=1) #
f, f.ndim, f.shape





matrix = np.arange(1, 21)
matrix


matrix > 10


matrix[matrix > 10]


len(matrix[matrix > 10])


np.sum(matrix > 10)





num = np.random.randint(1, 100, 30)
(num > 30) & (num < 70)


num[(num > 30) & (num < 70)]


# ~은 revere를 의미
num[~(num > 30) ]





# 10보다 작거나 90보다 큰 수,
(num < 10)
(num > 15)
((num < 10) | (num > 80))


(num > 80)
num[((num < 10) | (num > 80))]





n = np.random.randint(1,100,30)
i = np.array([0, 2, 3, 10, 20])
n, n[i]





np.where?


a = np.arange(10)
a, np.where(a < 5, a, 10*a)
# a가 5보다 작으면 a를, 아니면 10을 곱하여 출력


b = np.arange(20, 31)
b, np.where(b<25) # 조건을 하나만 주면 인덱스를 반환함











import pandas as pd

a=pd.DataFrame([[1,2,3,4],
                [5,6,7,8],
                [9,10,11,12]], columns=["a","b","c","d"])
a



pd.DataFrame({"a":[1,5,9],"b":[2,6,10],"c":[3,7,11],"d":[4,8,12]})


pd.DataFrame([{"a":1,"b":2,"c":3,"d":4},
              {"a":5,"b":6,"c":7,"d":8},
              {"a":9,"b":10,"c":11,"d":12}])


zip([1,5,9],[2,6,10])


for i in zip([1,5,9],[2,6,10],[3,7,11],[4,8,12]):
    print(i)



