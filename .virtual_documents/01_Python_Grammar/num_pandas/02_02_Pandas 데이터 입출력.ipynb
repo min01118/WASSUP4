














# pwd
import os
os.getcwd()


os.makedirs(os.getcwd()+ '\\output',exist_ok=True)


%%writefile output/sample1.csv
c1, c2, c3
1, 1.11, one
2, 2.22, two
3, 3.33, three








import pandas as pd


pd.read_csv('output/sample1.csv')





%%writefile output/sample2.csv
1, 1.11, one
2, 2.22, two
3, 3.33, three


#pd.read_csv?


pd.read_csv('output/sample2.csv', names=['c1', 'c2', 'c3'])





pd.read_csv('output/sample1.csv', index_col='c1')







%%writefile output/sample3.txt
c1        c2        c3        c4
0.179181 -1.538472  1.347553  0.43381
1.024209  0.087307 -1.281997  0.49265
0.417899 -2.002308  0.255245 -1.10515


pd.read_table('output/sample3.txt', sep=r'\s+')





%%writefile output/sample4.txt
파일 제목: sample4.txt
데이터 포맷의 설명:
c1, c2, c3
1, 1.11, one
2, 2.22, two
3, 3.33, three


pd.read_csv('output/sample4.txt', skiprows=[0, 1])





%%writefile output/sample5.csv
c1, c2, c3
1, 1.11, one
2, , two
누락, 3.33, three


df = pd.read_csv('output/sample5.csv')
df


df = pd.read_csv('output/sample5.csv', na_values=['누락'])
df








df.to_csv('output/sample6.csv')





!type output\sample6.csv





df.to_csv('output/sample7.txt', sep='|')


!type output\sample7.txt





df


df.to_csv('output/sample8.csv', na_rep='누락') # unicode encoding 처리 필요


!type output\sample8.csv





df.index 


df.index = ["a", "b", "c"]
df


df.to_csv('output/sample9.csv', index=False, header=False)


!type output\sample9.csv








df = pd.read_csv("https://raw.githubusercontent.com/datascienceschool/docker_rpython/master/data/titanic.csv")
df





df.head?


df


df.head()


df.tail()


df.tail(10)











import datetime
dt_start = datetime.datetime(2015, 1, 1)
dt_end = "2016, 6, 30"





pip install pandas_datareader


import pandas_datareader as pdr


pdr.get_data_fred?


gdp = pdr.get_data_fred('GDP', dt_start, dt_end)
gdp.tail()


gdp





inflation = pdr.get_data_fred(["CPIAUCSL", "CPILFESL"], dt_start, dt_end)
inflation.tail()



