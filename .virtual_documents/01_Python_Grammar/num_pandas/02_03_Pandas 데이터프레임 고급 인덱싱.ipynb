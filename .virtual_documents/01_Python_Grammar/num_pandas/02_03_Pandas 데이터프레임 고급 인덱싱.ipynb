














import pandas as pd
import numpy as np


df = pd.DataFrame(np.arange(10, 22).reshape(3, 4),
                  index=["a", "b", "c"],
                  columns=["A", "B", "C", "D"])
df





df





df['A']


df.loc["a"]
df





df.loc["b":"c"]





df["b":"c"]





df.loc[ ["a", "c"] ]





df[["a", "b"]] # KeyError





df.A
df


df.A > 15



df.loc[df.A > 15]





def select_rows(df):
    return df.A > 12


select_rows(df)


df.loc[select_rows(df)]





df['A']


df.loc["b":"c"]  # KeyError


df[["A", "B"]] 





df2 = pd.DataFrame(np.arange(10, 26).reshape(4, 4), columns=["A", "B", "C", "D"])
df2


df2[1:2]


df2.loc[1:2]











df


df.loc["a":, "A"]





df.loc["b": , "A"] 


df.loc["a", :]


df.loc[["a", "c"], ["A", "D"]]





df.A > 10


df.loc[df.A > 10,["C", "D"]]








df


df.iloc[0, 1]


df.iloc[:2, 2]


df.iloc[0, -2:]


df.iloc[2:3, 1:3]





df


df.iloc[-1]


df.iloc[-1] = df.iloc[-1] * 2
df


df.iloc[2:3, 1:3]



