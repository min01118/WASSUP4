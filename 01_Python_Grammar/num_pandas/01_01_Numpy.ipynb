{
 "cells": [
  {
   "cell_type": "code",
   "execution_count": null,
   "id": "15116e2d-9a68-4cdc-9f45-ec993fba8007",
   "metadata": {
    "tags": []
   },
   "outputs": [],
   "source": [
    "# # 주피터노트북 셀 스타일 조절\n",
    "# from IPython.core.display import display, HTML\n",
    "# # display(HTML(\"<style>.container { font-weight: bold !important; }</style>\"))\n",
    "# display(HTML(\"<style>.container { width: 100% !important; }</style>\"))\n",
    "\n",
    "# # 경고메시지 숨기기\n",
    "# import warning\n",
    "# warnings.filterwarnings(action='ignore')"
   ]
  },
  {
   "cell_type": "markdown",
   "id": "99266d2f-0e6e-4d99-a8f6-3374be2e5f55",
   "metadata": {},
   "source": [
    "# Numpy 개요\n",
    "```\n",
    "Numeric + Python = Numpy\n",
    "수학 및 과학 연산을 위한 파이썬 패키지\n",
    "배열이나 행렬 계산에 용이한 메서드를 제공\n",
    "한글로 넘파이로 주로 통칭, 넘피/늄파이라고 부르기도 함\n",
    "관련 사이트 : http://www.numpy.org\n",
    "일반 List에 비해 빠르고, 메모리 효율적\n",
    "\n",
    "반복문 없이 데이터 배열에 대한 처리를 지원함\n",
    "선형대수와 관련된 다양한 기능을 제공함\n",
    "Reference Site\n",
    "cs231 : http://cs231n.github.io/python-numpy-tutorial/#numpy\n",
    "https://docs.scipy.org/doc/numpy-dev/user/quickstart.html\n",
    "데이터사이언스스쿨(파이썬버전) - https://goo.gl/3hsjbS\n",
    "설치 및 임포트\n",
    "넘파이는 외부 라이브러리이므로 설치 필요.(아나콘다는 사전 설치됨)\n",
    "pip install numpy\n",
    "```"
   ]
  },
  {
   "cell_type": "code",
   "execution_count": null,
   "id": "b3ce2354-ea62-4ed0-b802-ea19b64bd59c",
   "metadata": {
    "tags": []
   },
   "outputs": [],
   "source": [
    "import numpy as np\n",
    "np.__version__"
   ]
  },
  {
   "cell_type": "markdown",
   "id": "d569ac61-8b91-4b7c-af42-163219942246",
   "metadata": {},
   "source": [
    "## 넘파이 배열 이해하기"
   ]
  },
  {
   "cell_type": "markdown",
   "id": "b78196d2-3793-4bee-b7ea-92822c05b4f9",
   "metadata": {},
   "source": [
    "## ndim(dimention, rank)\n",
    "몇 차원인지 반환"
   ]
  },
  {
   "cell_type": "code",
   "execution_count": null,
   "id": "94e35dc7-f3b6-4ca8-8ba3-23a07bf72a78",
   "metadata": {
    "tags": []
   },
   "outputs": [],
   "source": [
    "a = np.array(0)\n",
    "a, a.ndim, type(a)"
   ]
  },
  {
   "cell_type": "code",
   "execution_count": null,
   "id": "c30d4cde-669f-4f27-9e63-81f20836ad1f",
   "metadata": {
    "tags": []
   },
   "outputs": [],
   "source": [
    "a = np.array([2, 4, 6])\n",
    "a, a.ndim, type(a)"
   ]
  },
  {
   "cell_type": "code",
   "execution_count": null,
   "id": "5aff549b-a51b-419b-8010-400bf9109407",
   "metadata": {
    "tags": []
   },
   "outputs": [],
   "source": [
    "a = [ \n",
    "    [1,2,3],\n",
    "    [4,5,6] \n",
    "]\n",
    "a\n"
   ]
  },
  {
   "cell_type": "code",
   "execution_count": null,
   "id": "90857562-7891-4e0e-bc2e-44eaa387626c",
   "metadata": {
    "tags": []
   },
   "outputs": [],
   "source": [
    "a = np.array(a)\n",
    "a, a.ndim, type(a)\n"
   ]
  },
  {
   "cell_type": "code",
   "execution_count": null,
   "id": "0f5773e1-6899-45bb-8b4a-a9b1773fcf8b",
   "metadata": {
    "tags": []
   },
   "outputs": [],
   "source": [
    "a = np.array([\n",
    "    [\n",
    "        [\n",
    "            1,\n",
    "            2,\n",
    "            3],\n",
    "        [4,5,6]],\n",
    "    [[1,2,3],[4,5,6]]\n",
    "])\n",
    "\n",
    "\n",
    "a, a.ndim, type(a)"
   ]
  },
  {
   "cell_type": "code",
   "execution_count": null,
   "id": "fc21e1c0-5885-47f0-afbe-b539b82ebb8e",
   "metadata": {},
   "outputs": [],
   "source": [
    "a.flatten()"
   ]
  },
  {
   "cell_type": "markdown",
   "id": "fc870376-cd2d-423b-a7b3-a29a57e7f233",
   "metadata": {},
   "source": [
    "## shape\n",
    "행렬의 차원으로, 몇행 몇열인지 반환"
   ]
  },
  {
   "cell_type": "code",
   "execution_count": null,
   "id": "5fc2591f-5389-4eae-b3cf-416acff8814d",
   "metadata": {
    "tags": []
   },
   "outputs": [],
   "source": [
    "a.shape"
   ]
  },
  {
   "cell_type": "code",
   "execution_count": null,
   "id": "7345c554-dc8e-4dc3-86cd-ac9e0df40467",
   "metadata": {
    "tags": []
   },
   "outputs": [],
   "source": [
    "a.shape?"
   ]
  },
  {
   "cell_type": "code",
   "execution_count": null,
   "id": "93d3e607-e254-46d2-8227-b01f1cdad2e8",
   "metadata": {
    "tags": []
   },
   "outputs": [],
   "source": [
    "a = np.array(3)\n",
    "a, a.shape # 행렬이 아니기 때문"
   ]
  },
  {
   "cell_type": "code",
   "execution_count": null,
   "id": "6d254e28-8921-4de9-916f-da70e082ee58",
   "metadata": {
    "tags": []
   },
   "outputs": [],
   "source": [
    "a = np.array([1, \n",
    "              3, \n",
    "              5, \n",
    "              7, \n",
    "              9])\n",
    "a, a.ndim ,a.shape"
   ]
  },
  {
   "cell_type": "code",
   "execution_count": null,
   "id": "34e50e51-3e0c-4b20-9ec4-1d1bb308aa87",
   "metadata": {
    "tags": []
   },
   "outputs": [],
   "source": [
    "a = np.array([ \n",
    "    [1,2,3],\n",
    "    [4,5,6] \n",
    "    ])\n",
    "a, a.shape"
   ]
  },
  {
   "cell_type": "code",
   "execution_count": null,
   "id": "99aa0125-eef5-430d-a2af-1da1b2157f62",
   "metadata": {
    "tags": []
   },
   "outputs": [],
   "source": [
    "a = np.array([\n",
    "    [[0, 0, 0, 0], [0, 0, 0, 0], [0, 0, 0, 0]],\n",
    "    [[0, 0, 0, 0], [0, 0, 0, 0], [0, 0, 0, 0]]\n",
    "])\n",
    "\n",
    "a,a.size,len(a), a.shape # 2개의 3행 4열"
   ]
  },
  {
   "cell_type": "code",
   "execution_count": null,
   "id": "a46b8ad7-aa35-4ea6-9686-9b555f576fd2",
   "metadata": {
    "tags": []
   },
   "outputs": [],
   "source": [
    "a.ndim"
   ]
  },
  {
   "cell_type": "markdown",
   "id": "58e7d99c-1943-4519-8da4-43b54cbacf34",
   "metadata": {},
   "source": [
    "## 넘파이 배열\n",
    "* 리스트를 넘파이 배열로 생성 np.array(리스트)\n",
    "* 관련 속성 : ndim 차원 반환 int , size 전체 길이 반환 int, shape 구조 반환 tuple"
   ]
  },
  {
   "cell_type": "code",
   "execution_count": null,
   "id": "115f9e1e-0ae1-4eb8-a98b-7ade34af885b",
   "metadata": {
    "tags": []
   },
   "outputs": [],
   "source": [
    "# 1차원 리스트 객체(이터러블)\n",
    "myList = [10, 56, 77, 23, 44]\n",
    "print(myList, type(myList), len(myList))"
   ]
  },
  {
   "cell_type": "code",
   "execution_count": null,
   "id": "ebf0ec62-b4dc-4752-83ee-64466fcf4f6e",
   "metadata": {
    "tags": []
   },
   "outputs": [],
   "source": [
    "myArr = np.array(myList)\n",
    "print(myArr, type(myArr), len(myArr))\n",
    "print(f'차원={myArr.ndim}, 구조={myArr.shape}, size={myArr.size}, 길이={len(myArr)}')"
   ]
  },
  {
   "cell_type": "code",
   "execution_count": null,
   "id": "059b3087-352a-43f3-bd35-7809ebecc6b5",
   "metadata": {
    "tags": []
   },
   "outputs": [],
   "source": [
    "# 2차원 리스트 객체(이터러블)\n",
    "myList2 = [\n",
    "           [1,2,3 ],\n",
    "           [10,20,30],\n",
    "           [100,200,300]\n",
    "          ]\n",
    "myList2, len(myList2)"
   ]
  },
  {
   "cell_type": "code",
   "execution_count": null,
   "id": "53daade5-2fda-480b-a973-048f6c1d5955",
   "metadata": {
    "tags": []
   },
   "outputs": [],
   "source": [
    "myArr2 = np.array(myList2)\n",
    "print(myArr2, type(myArr2), len(myArr2))\n",
    "print(f'차원= {myArr2.ndim}, 구조 = {myArr2.shape}, size = {myArr2.size}, 길이={len(myArr2)}' )"
   ]
  },
  {
   "cell_type": "code",
   "execution_count": null,
   "id": "5828c560-59af-4e52-b2e1-5d350dee2183",
   "metadata": {
    "tags": []
   },
   "outputs": [],
   "source": [
    "# 2차원 리스트에서 각 행의 수가 다를 경우?\n",
    "myList21 = [ \n",
    "        [1,2,3,4],\n",
    "        [10,20,30,40,50],\n",
    "        [100,200,]\n",
    "        ]\n",
    "print(myList21, type(myList21), len(myList21))"
   ]
  },
  {
   "cell_type": "code",
   "execution_count": null,
   "id": "b9264b55-86b9-4568-b165-01698cdb93fe",
   "metadata": {
    "tags": []
   },
   "outputs": [],
   "source": [
    "# 길이가 달라 에러 리턴\n",
    "myArr21 = np.array(myList21)\n",
    "#print(myArr21, type(myArr21), len(myArr21))\n",
    "#print(f'차원= {myArr21.ndim}, 구조 = {myArr21.shape}, size = {myArr21.size}')"
   ]
  },
  {
   "cell_type": "markdown",
   "id": "0f691304-c09b-4f0c-89a0-b46752ca1627",
   "metadata": {},
   "source": [
    "## 넘파이 배열과 리스트와의 차이점\n",
    "* 배열간의 연산 가능 \"브로드캐스팅\", 요소별 연산(element-wise)\n",
    "* 넘파이 메서드 사용 가능 : 평균, 상관계수, 분산, 표준편차 등\n",
    "* 리스트는 자료형 혼합 가능, 넘파이배열은 하나의 자료형만 가능"
   ]
  },
  {
   "cell_type": "code",
   "execution_count": null,
   "id": "2b7b1035-e459-4443-acc4-0a77d4212ef0",
   "metadata": {
    "tags": []
   },
   "outputs": [],
   "source": [
    "# 리스트의 산술연산자 +, * \n",
    "import numpy as np\n",
    "listA = [10, 30, 50]\n",
    "listB = [1, 2, 3]\n",
    "print(listA + listB) # 리스트의 + 연산자는 조인역할\n",
    "print(listA + 2) # 불가"
   ]
  },
  {
   "cell_type": "code",
   "execution_count": null,
   "id": "9bb4e252-92ee-4053-9e3c-a9a4b16030ad",
   "metadata": {
    "tags": []
   },
   "outputs": [],
   "source": [
    "print(listA * 2) # 해당 리스트의 반복\n",
    "print(listA * listB) # 불가"
   ]
  },
  {
   "cell_type": "code",
   "execution_count": null,
   "id": "4dd4ea43-0dbe-44b9-8d10-c324749f5b43",
   "metadata": {
    "tags": []
   },
   "outputs": [],
   "source": [
    "# 넘파이의 산술연산\n",
    "import numpy as np\n",
    "arrA = np.array([1, 2, 3])\n",
    "lis = [1,2,3]\n",
    "print(arrA + 2)\n",
    "print(arrA * 2)\n",
    "print(lis * 2)"
   ]
  },
  {
   "cell_type": "code",
   "execution_count": null,
   "id": "21cb60a5-236f-4763-b51c-2ec733bd2aa6",
   "metadata": {
    "tags": []
   },
   "outputs": [],
   "source": [
    "arrB = np.array([4, 5, 6])\n",
    "print(arrA + arrB)\n",
    "print(arrA * arrB)\n",
    "print(arrA / arrB)\n",
    "print(arrA // arrB) # 몫\n",
    "print(arrA % arrB) # 나머지"
   ]
  },
  {
   "cell_type": "markdown",
   "id": "cad914f4-d782-47cd-86d0-f9406cb7f753",
   "metadata": {},
   "source": [
    "## dtype\n",
    "```\n",
    "https://numpy.org/doc/stable/reference/arrays.dtypes.html\n",
    "데이터 U유형은 각 유니코드 문자를 32비트 정수(예: 4바이트)로 저장합니다. (유니코드 스트링 dtype 인수로 지정할 자료형은 다음 표에 보인것과 같은 “dtype 접두사”로 시작하는 문자열이고 이 글자 뒤에 오는 숫자는 바이트 수 혹은 글자 수를 의미한다.\n",
    "예를 들어 f8은 8바이트(64비트) 부동소수점 실수를 뜻하고 U4 는 4글자 유니코드 문자열을 뜻한다\n",
    "숫자를 생략하면 운영체제에 따라 알맞은 크기를 지정한다.\n",
    "```"
   ]
  },
  {
   "cell_type": "code",
   "execution_count": null,
   "id": "19c9ebc1-95d6-440f-9555-c9641b9d66a4",
   "metadata": {
    "tags": []
   },
   "outputs": [],
   "source": [
    "# 자료형 테스트\n",
    "myList_c = ['안녕', 100, 3.14, True, False] # 리스트는 혼합된 형 그대로 유지\n",
    "print(myList_c)"
   ]
  },
  {
   "cell_type": "code",
   "execution_count": null,
   "id": "a7087f35-e7f9-4ee6-8475-aaef25843575",
   "metadata": {
    "tags": []
   },
   "outputs": [],
   "source": [
    "myArr_c = np.array(myList_c) # 넘파이배열은 '문자열'로 통일 자동형변환\n",
    "print(myArr_c, type(myArr_c), myArr_c.dtype)"
   ]
  },
  {
   "cell_type": "code",
   "execution_count": null,
   "id": "84080d44-e76f-4c45-ace2-6796b2e18f7c",
   "metadata": {
    "tags": []
   },
   "outputs": [],
   "source": [
    "# 정수와 실수가 혼합된 넘파이 배열\n",
    "myArr_d = np.array([100, 3.14, 23.5, 0])\n",
    "print(myArr_d, type(myArr_d), myArr_d.dtype) # 정수와 실수 혼합시, 더 큰 실수형으로 통일 자동형변환"
   ]
  },
  {
   "cell_type": "markdown",
   "id": "cae8cbd9-7e24-49a6-a45b-af795267b15f",
   "metadata": {},
   "source": [
    "## Inf와 NaN\n",
    "```\n",
    "넘파이에서는 무한대를 표현하기 위한 np.inf(infinity)와 정의할 수 없는 숫자를 나타내는 np.nan(not a number)을 사용할 수 있다.\n",
    "다음 예와 같이 1을 0으로 나누려고 하거나 0에 대한 로그 값을 계산하면 무한대인 np.inf이 나온다.\n",
    "0을 0으로 나누려고 시도하면 np.nan이 나온다.\n",
    "```"
   ]
  },
  {
   "cell_type": "code",
   "execution_count": null,
   "id": "4658ecd0-fd99-4d8e-b608-34ed171f3517",
   "metadata": {
    "tags": []
   },
   "outputs": [],
   "source": [
    "np.array([0, 1, -1, 0]) / np.array([1, 0, 0, 0])\n"
   ]
  },
  {
   "cell_type": "code",
   "execution_count": null,
   "id": "844c8a46-61a8-47eb-9191-5cca7a0f63c4",
   "metadata": {
    "tags": []
   },
   "outputs": [],
   "source": [
    "np.log(0)"
   ]
  },
  {
   "cell_type": "code",
   "execution_count": null,
   "id": "67e4a0c9-2505-4512-a04e-3710b3766454",
   "metadata": {
    "tags": []
   },
   "outputs": [],
   "source": [
    "np.exp(-np.inf)"
   ]
  },
  {
   "cell_type": "markdown",
   "id": "769a0617-b57e-4201-8788-af7ff48afd0f",
   "metadata": {},
   "source": [
    "## 기술통계 "
   ]
  },
  {
   "cell_type": "code",
   "execution_count": null,
   "id": "ef251bdc-eb0e-4f9b-8857-780be5ca624e",
   "metadata": {
    "tags": []
   },
   "outputs": [],
   "source": [
    "import pandas as pd \n",
    "\n",
    "x = np.array([18,   5,  10,  23,  19,  -8,  10,   0,   0,   5,   2,  15,   8,\n",
    "              2,   5,   4,  15,  -1,   4,  -7, -24,   7,   9,  -6,  23, -13])\n",
    "\n",
    "s = pd.Series([18,   5,  10,  23,  19,  -8,  10,   0,   0,   5,   2,  15,   8,\n",
    "              2,   5,   4,  15,  -1,   4,  -7, -24,   7,   9,  -6,  23, -13] ,name=\"hello\")\n",
    "s\n",
    "\n"
   ]
  },
  {
   "cell_type": "code",
   "execution_count": null,
   "id": "fb1be9bd-ddc7-448f-92d6-4ace8f634955",
   "metadata": {},
   "outputs": [],
   "source": [
    "df"
   ]
  },
  {
   "cell_type": "code",
   "execution_count": null,
   "id": "7c35b099-e77f-4cf4-8d4b-c9bba223f1c9",
   "metadata": {
    "tags": []
   },
   "outputs": [],
   "source": [
    "x.mean(), s.mean()\n"
   ]
  },
  {
   "cell_type": "code",
   "execution_count": null,
   "id": "dd0aaa4c-7b13-4238-b81a-b0cedd498bad",
   "metadata": {
    "tags": []
   },
   "outputs": [],
   "source": [
    "np.mean(x),s.mean()"
   ]
  },
  {
   "cell_type": "code",
   "execution_count": null,
   "id": "7b57ced3-419c-4f88-ade1-c61b8b6535c9",
   "metadata": {
    "tags": []
   },
   "outputs": [],
   "source": [
    "# 분산\n",
    "np.var(x), s.var()"
   ]
  },
  {
   "cell_type": "code",
   "execution_count": null,
   "id": "206e1e1b-1b93-4880-8516-794d64ba523f",
   "metadata": {
    "tags": []
   },
   "outputs": [],
   "source": [
    "# 표준편차\n",
    "np.std(x), s.std()"
   ]
  },
  {
   "cell_type": "code",
   "execution_count": null,
   "id": "0f8ec9cf-aa46-4654-8702-5c12e8fda35f",
   "metadata": {
    "tags": []
   },
   "outputs": [],
   "source": [
    "# 최대\n",
    "np.max(x), s.max()"
   ]
  },
  {
   "cell_type": "code",
   "execution_count": null,
   "id": "ef969d73-c351-4609-b4e1-35e9ce4821fc",
   "metadata": {
    "tags": []
   },
   "outputs": [],
   "source": [
    "# 최소\n",
    "np.min(x), s.min()"
   ]
  },
  {
   "cell_type": "code",
   "execution_count": null,
   "id": "be344ad7-f03e-4ca3-acb0-bb33c20d06d5",
   "metadata": {
    "tags": []
   },
   "outputs": [],
   "source": [
    "# 중앙값\n",
    "np.median(x), s.median()"
   ]
  },
  {
   "cell_type": "markdown",
   "id": "c6a020d6-10d1-471a-9f4d-146857471464",
   "metadata": {},
   "source": [
    "## 사분위수\n",
    "```\n",
    "사분위수(quartile)는 데이터를 가장 작은 수부터 가장 큰 수까지 크기가 커지는 순서대로 정렬하였을 때 1/4, 2/4, 3/4 위치에 있는 수를 말한다.\n",
    "각각 1사분위수, 2사분위수, 3사분위수라고 한다.\n",
    "1/4의 위치란 전체 데이터의 수가 만약 100개이면 25번째 순서, 즉 하위 25%를 말한다. 따라서 2사분위수는 중앙값과 같다.\n",
    "\n",
    "때로는 위치를 1/100 단위로 나눈 백분위수(percentile)을 사용하기도 한다. 1사분위수는 25% 백분위수와 같다.\n",
    "```"
   ]
  },
  {
   "cell_type": "code",
   "execution_count": null,
   "id": "1e07d25c-1a4b-4ce1-ac99-b84b3e414850",
   "metadata": {
    "tags": []
   },
   "outputs": [],
   "source": [
    "x = np.array([18,   5,  10,  23,  19,  -8,  10,   0,   0,   5,   2,  15,   8,\n",
    "              2,   5,   4,  15,  -1,   4,  -7, -24,   7,   9,  -6,  23, -13])\n",
    "print(x.sort())\n",
    "print(x)\n",
    "\n",
    "np.percentile(x, 0) # 최소값"
   ]
  },
  {
   "cell_type": "code",
   "execution_count": null,
   "id": "4156f277-c156-4414-8dc7-9c3e6dea1547",
   "metadata": {
    "tags": []
   },
   "outputs": [],
   "source": [
    "np.percentile(x, 25) # 1사분위수"
   ]
  },
  {
   "cell_type": "code",
   "execution_count": null,
   "id": "d0537b08-4c28-45c2-8d78-29360c441703",
   "metadata": {
    "tags": []
   },
   "outputs": [],
   "source": [
    "np.percentile(x, 50) # 2사분위수"
   ]
  },
  {
   "cell_type": "code",
   "execution_count": null,
   "id": "c05e2b32-03b8-4712-8ecd-69ac29a7761a",
   "metadata": {
    "tags": []
   },
   "outputs": [],
   "source": [
    "np.percentile(x, 75) # 3사분위수"
   ]
  },
  {
   "cell_type": "code",
   "execution_count": null,
   "id": "8cb84dca-e9a4-4694-82e7-870e861e8530",
   "metadata": {
    "tags": []
   },
   "outputs": [],
   "source": [
    "np.percentile(x, 100) # 최대값"
   ]
  },
  {
   "cell_type": "markdown",
   "id": "9cc273ca-1bec-476a-b103-494d5e3269c1",
   "metadata": {},
   "source": [
    "## 넘파이 함수로 배열 만들기\n",
    "```\n",
    "np.ones(n) , np.ones((x, y))\n",
    "np.zeros(n) , np.zeros((x, y))\n",
    "np.empty(n) , np.empty((x, y))\n",
    "np.aranges(start, end step)\n",
    "\n",
    "reshape(x, y) # 차원 확대\n",
    "flatten(x, y) # 차원 축소\n",
    "```"
   ]
  },
  {
   "cell_type": "code",
   "execution_count": null,
   "id": "eb2f3176-b3d0-4003-bc8d-01e256fb92d0",
   "metadata": {
    "tags": []
   },
   "outputs": [],
   "source": [
    "# 1로 메모리 초기화, 넘파이 함수로 배열을 만들때에는 디폴트가 실수형\n",
    "print(np.ones(10), np.ones(10).dtype) "
   ]
  },
  {
   "cell_type": "code",
   "execution_count": null,
   "id": "e28cb2c2-6ef2-47a4-beaf-a8a5dd459cb5",
   "metadata": {},
   "outputs": [],
   "source": [
    "np.ones(10,dtype=np.int64)\n"
   ]
  },
  {
   "cell_type": "code",
   "execution_count": null,
   "id": "9c63ef41-2b85-4a18-8844-bb56388d291e",
   "metadata": {
    "tags": []
   },
   "outputs": [],
   "source": [
    "print(np.ones((2,4)), np.ones((2,4)).dtype)"
   ]
  },
  {
   "cell_type": "code",
   "execution_count": null,
   "id": "e9cd6e36-1b2d-4aa5-bd0b-53ae7c074c1e",
   "metadata": {
    "tags": []
   },
   "outputs": [],
   "source": [
    "print(np.ones(10, dtype = int), np.ones(10, dtype = int).dtype)"
   ]
  },
  {
   "cell_type": "code",
   "execution_count": null,
   "id": "34a6a4f5-a96d-48d5-888d-125aae90b3d9",
   "metadata": {
    "tags": []
   },
   "outputs": [],
   "source": []
  },
  {
   "cell_type": "code",
   "execution_count": null,
   "id": "362a5ef1-44f7-4959-a12a-a0671f1eccac",
   "metadata": {
    "tags": []
   },
   "outputs": [],
   "source": [
    "# 0으로 메모리 초기화\n",
    "print(np.zeros(10), np.zeros(10).dtype)"
   ]
  },
  {
   "cell_type": "code",
   "execution_count": null,
   "id": "1eaa1f2b-964a-490b-86fd-ddb3e1295e33",
   "metadata": {
    "tags": []
   },
   "outputs": [],
   "source": [
    "print(np.zeros((3,3)), np.zeros((3,3)).dtype)"
   ]
  },
  {
   "cell_type": "code",
   "execution_count": null,
   "id": "5187173a-68cd-42f2-9a67-73ae22bd565f",
   "metadata": {
    "tags": []
   },
   "outputs": [],
   "source": [
    "# 메모리가 비어있음 -> 메모리가 초기화 되지 않는다.\n",
    "print(np.empty(10), np.empty(10).dtype)\n",
    "print(np.empty((3,3)), np.empty((3,3)).dtype)\n",
    "print(np.empty((3,3)))\n",
    "print(np.empty((3,3), dtype=int))  # 기존 메모리에 있던 값을 출력한다.(정확히 알수 없음)"
   ]
  },
  {
   "cell_type": "code",
   "execution_count": null,
   "id": "061d196d-4a1d-448b-979e-1d9b0726cddc",
   "metadata": {
    "tags": []
   },
   "outputs": [],
   "source": [
    "# 리스트+레인지\n",
    "print( list(range(1,21)), type(list(range(1,21))) )"
   ]
  },
  {
   "cell_type": "code",
   "execution_count": null,
   "id": "c1ca7309-a98a-4907-9c47-650d7a16033c",
   "metadata": {
    "tags": []
   },
   "outputs": [],
   "source": [
    "# 1~20으로 구성된 4행 5열의 넘파이 배열print(np.array(list(range(1,21))), type(list(range(1,21))))\n",
    "print(np.arange(20), type(np.arange(20)))\n",
    "print(np.arange(1, 20), type(np.arange(1, 20)))\n",
    "print(np.arange(1, 20, 2), type(np.arange(1, 20,2)))"
   ]
  },
  {
   "cell_type": "code",
   "execution_count": null,
   "id": "78c6a594-d35c-402e-bdc7-4b7faa96e22a",
   "metadata": {
    "tags": []
   },
   "outputs": [],
   "source": [
    "# linspace 명령이나 logspace 명령은 선형 구간 혹은 로그 구간을 지정한 구간의 수만큼 분할한다.\n",
    "np.linspace(0, 100)  # 시작, 끝(포함), 갯수"
   ]
  },
  {
   "cell_type": "code",
   "execution_count": null,
   "id": "3893a1e1-5b98-4586-a6ee-498466266b55",
   "metadata": {
    "tags": []
   },
   "outputs": [],
   "source": [
    "np.linspace?"
   ]
  },
  {
   "cell_type": "code",
   "execution_count": null,
   "id": "73869eb3-0dab-4a54-895a-315d5bbf758f",
   "metadata": {},
   "outputs": [],
   "source": [
    "np.logspace?"
   ]
  },
  {
   "cell_type": "code",
   "execution_count": null,
   "id": "ed0e25d6-f60c-49d7-925b-70b11e93d3fe",
   "metadata": {
    "tags": []
   },
   "outputs": [],
   "source": [
    "np.logspace(-11111111111111, 111111111, 10)"
   ]
  },
  {
   "cell_type": "markdown",
   "id": "970d3d5b-8668-4037-8c46-c0e519749e8b",
   "metadata": {},
   "source": [
    "## reshape 구조의 재배열\n",
    "```\n",
    "reshape함수는 np.reshape(변경할 배열, 차원) 또는 배열.reshape(차원)으로 사용 할 수 있으며,\n",
    "현재의 배열의 차원(1차원,2차원,3차원)을 변경하여 행렬을 반환하거나 하는 경우에 많이 이용되는 함수이다.\n",
    "```"
   ]
  },
  {
   "cell_type": "code",
   "execution_count": null,
   "id": "c0e240d1-8b15-46f3-bfac-b21f528d9bc4",
   "metadata": {
    "tags": []
   },
   "outputs": [],
   "source": [
    "# 0~49까지 구성된 넘파이 배열\n",
    "arr = np.arange(1,51) \n",
    "print(arr, len(arr), arr.size)"
   ]
  },
  {
   "cell_type": "code",
   "execution_count": null,
   "id": "f2f7840b-6cd7-4232-8215-e211362a1dbb",
   "metadata": {
    "tags": []
   },
   "outputs": [],
   "source": [
    "arr, arr.ndim, arr.shape"
   ]
  },
  {
   "cell_type": "code",
   "execution_count": null,
   "id": "07dcaf9d-fbbb-4712-97f7-9c86b40945b3",
   "metadata": {
    "tags": []
   },
   "outputs": [],
   "source": [
    "arr = arr.reshape(10,5) \n",
    "arr, arr.ndim, arr.shape\n"
   ]
  },
  {
   "cell_type": "code",
   "execution_count": null,
   "id": "291eac1e-3d60-490f-9e47-26cf17b2a28c",
   "metadata": {
    "tags": []
   },
   "outputs": [],
   "source": [
    "arr2 = arr.reshape(5,10)\n",
    "arr2, arr2.ndim, arr2.shape"
   ]
  },
  {
   "cell_type": "code",
   "execution_count": null,
   "id": "e2ea4f6d-2706-491c-9774-9074f7c36500",
   "metadata": {
    "tags": []
   },
   "outputs": [],
   "source": [
    "arr2 = arr.reshape(4,10)\n",
    "arr2, arr2.ndim, arr2.shape"
   ]
  },
  {
   "cell_type": "code",
   "execution_count": null,
   "id": "202947d8-8d92-4f81-9c90-5f843be7504b",
   "metadata": {
    "tags": []
   },
   "outputs": [],
   "source": [
    "# 2차원 -> 1차원\n",
    "# 넘파이배열.flatten()\n",
    "arr3 = arr2.flatten()\n",
    "arr3, arr3.shape, arr3.ndim"
   ]
  },
  {
   "cell_type": "code",
   "execution_count": null,
   "id": "afb5c8d6-705b-44a9-a274-36cce2a54187",
   "metadata": {
    "tags": []
   },
   "outputs": [],
   "source": [
    "# 1~100 사이의 짝수로 된 넘파이 배열 생성\n",
    "np.arange(2,101,2)"
   ]
  },
  {
   "cell_type": "code",
   "execution_count": null,
   "id": "ddcae467-1984-45ae-aa78-c533de8adf5e",
   "metadata": {
    "tags": []
   },
   "outputs": [],
   "source": [
    "np.arange(2,101,2).reshape(5, 10)"
   ]
  },
  {
   "cell_type": "code",
   "execution_count": null,
   "id": "b996c0af-04fc-4437-a57e-e3057d0a0c5d",
   "metadata": {},
   "outputs": [],
   "source": []
  },
  {
   "cell_type": "code",
   "execution_count": null,
   "id": "3997a78b-457d-4f0f-9f22-9bed54a9cd1b",
   "metadata": {
    "tags": []
   },
   "outputs": [],
   "source": [
    "np.arange(1, 31)"
   ]
  },
  {
   "cell_type": "code",
   "execution_count": null,
   "id": "124561d0-9985-486d-9a0f-31814225ff05",
   "metadata": {},
   "outputs": [],
   "source": [
    "# 2차원인데 1개 칼럼의 모형을 만들어보자\n",
    "# reshape(-1, n) : 2차원 n개의 컬럼으로 구성, -1을 넣으면 자동으로 사이즈를 맞춰준다.\n",
    "arr4 = np.arange(1, 31).reshape(3, -1)\n",
    "arr4, arr4.ndim, arr4.shape"
   ]
  },
  {
   "cell_type": "markdown",
   "id": "eb672f38-c35b-4ffe-98dd-32c3424fd729",
   "metadata": {},
   "source": [
    "## quiz : 5행 4열로 이루어진 모형을 만들어보자\n",
    "5행 4열"
   ]
  },
  {
   "cell_type": "code",
   "execution_count": null,
   "id": "5d83853e-520c-4849-958a-54b576ab0fcd",
   "metadata": {
    "tags": []
   },
   "outputs": [],
   "source": [
    "np.arange(1, 21).reshape(5, 4)"
   ]
  },
  {
   "cell_type": "code",
   "execution_count": null,
   "id": "d397cad4-1e10-4954-b378-fc5211bc0ba8",
   "metadata": {
    "tags": []
   },
   "outputs": [],
   "source": [
    "# -1 사용해서, 5열인 모형으로 바꿔보세요.\n",
    "np.arange(1, 21).reshape(-1, 5)"
   ]
  },
  {
   "cell_type": "code",
   "execution_count": null,
   "id": "47fc9bd8-0fd6-44b1-855a-685f8f4a9e56",
   "metadata": {
    "tags": []
   },
   "outputs": [],
   "source": [
    "# 사이즈는 맞아야 합니다.\n",
    "np.arange(1, 21).reshape(-1, 7)"
   ]
  },
  {
   "cell_type": "code",
   "execution_count": null,
   "id": "f94c95c2-09bb-4fb3-9e8f-f370300d3c4f",
   "metadata": {
    "tags": []
   },
   "outputs": [],
   "source": [
    "a = np.arange(12)\n",
    "a, a.shape"
   ]
  },
  {
   "cell_type": "code",
   "execution_count": null,
   "id": "3a11d7b4-80d5-4aff-a2bd-8b64c0564468",
   "metadata": {
    "tags": []
   },
   "outputs": [],
   "source": [
    "a.shape = 2, -1\n",
    "a, a.shape"
   ]
  },
  {
   "cell_type": "code",
   "execution_count": null,
   "id": "c27176dc-36d3-46ee-a048-09f9772424f8",
   "metadata": {
    "tags": []
   },
   "outputs": [],
   "source": [
    "a.shape = 3, -1\n",
    "a, a.shape"
   ]
  },
  {
   "cell_type": "code",
   "execution_count": null,
   "id": "ccd0ad08-5922-4b47-a2b2-d579f383840e",
   "metadata": {
    "tags": []
   },
   "outputs": [],
   "source": [
    "a.shape = -1, 1\n",
    "a, a.shape"
   ]
  },
  {
   "cell_type": "code",
   "execution_count": null,
   "id": "e0329118-6cf2-46fa-9b8f-9fe4fa427862",
   "metadata": {
    "tags": []
   },
   "outputs": [],
   "source": [
    "# flatten\n",
    "a.shape = -1\n",
    "a, a.shape"
   ]
  },
  {
   "cell_type": "markdown",
   "id": "b8939652-cb91-4cb4-a5f6-8aa355069404",
   "metadata": {},
   "source": [
    "## 넘파이배열의 자료형 형변환\n",
    "* 배열명2 = 배열명1.astype(자료형)\n",
    "* 자료형 = np.float64, np.int32"
   ]
  },
  {
   "cell_type": "code",
   "execution_count": null,
   "id": "ee04b4b8-148c-4777-8c90-45d08527b629",
   "metadata": {
    "tags": []
   },
   "outputs": [],
   "source": [
    "matrix1 = np.arange(1, 10)\n",
    "matrix1, matrix1.dtype"
   ]
  },
  {
   "cell_type": "code",
   "execution_count": null,
   "id": "17dd1320-eeda-4a07-b6b4-dcd855db3d85",
   "metadata": {
    "tags": []
   },
   "outputs": [],
   "source": [
    "# 정수형, 3행 3열\n",
    "matrix = np.arange(1, 10).reshape(3,3)\n",
    "matrix, matrix.dtype"
   ]
  },
  {
   "cell_type": "code",
   "execution_count": null,
   "id": "13fbf4e9-bba1-4e90-ba6e-20da8722d9a9",
   "metadata": {
    "tags": []
   },
   "outputs": [],
   "source": [
    "# 실수형, 3행 3열\n",
    "matrix = np.arange(1, 51, dtype=float).reshape(5,10)\n",
    "matrix, matrix.dtype"
   ]
  },
  {
   "cell_type": "code",
   "execution_count": null,
   "id": "ef30a6b2-c6a6-4967-a95d-f76a4d09b68a",
   "metadata": {
    "jupyter": {
     "source_hidden": true
    },
    "tags": []
   },
   "outputs": [],
   "source": [
    "# 문자열형, 3행 3열 -> 불가\n",
    "matrix = np.arange(1, 10, dtype='str').reshape(3,3)\n",
    "matrix, matrix.dtype"
   ]
  },
  {
   "cell_type": "code",
   "execution_count": null,
   "id": "ccff1802-bd5c-46ab-8248-a1209731e63c",
   "metadata": {
    "tags": []
   },
   "outputs": [],
   "source": [
    "# 정수형 => 문자열\n",
    "matrix.astype('<U5').astype(\"float\")"
   ]
  },
  {
   "cell_type": "code",
   "execution_count": null,
   "id": "2435f3c5-b046-40e2-aade-ec41555282a3",
   "metadata": {
    "tags": []
   },
   "outputs": [],
   "source": [
    "# 논리형으로 구성된 넘파이 배열 생성\n",
    "matrix2 = np.array([True, False, True, True])\n",
    "matrix2, matrix2.dtype"
   ]
  },
  {
   "cell_type": "code",
   "execution_count": null,
   "id": "22f8d4c6-3582-4525-8e42-0b2c97bba322",
   "metadata": {
    "tags": []
   },
   "outputs": [],
   "source": [
    "# 불린 -> 정수\n",
    "matrix2.astype(int)\n"
   ]
  },
  {
   "cell_type": "code",
   "execution_count": null,
   "id": "6aff85ec-021d-4400-997d-952ed7ca7748",
   "metadata": {
    "tags": []
   },
   "outputs": [],
   "source": [
    "# 불린형 -> 문자열\n",
    "matrix2.astype('<U5')"
   ]
  },
  {
   "cell_type": "code",
   "execution_count": null,
   "id": "b88466e3-3bbc-43b1-9ce0-9a71655cc275",
   "metadata": {
    "tags": []
   },
   "outputs": [],
   "source": [
    "# 문자열 숫자 => 정수 , 실수\n",
    "matrix3 = np.array(['3.14', '5.5', '0.78'])\n",
    "matrix3, matrix3.dtype"
   ]
  },
  {
   "cell_type": "code",
   "execution_count": null,
   "id": "40a501d3-d7c3-4c66-afb1-5553e7931ff5",
   "metadata": {
    "tags": []
   },
   "outputs": [],
   "source": [
    "print(matrix3.astype(float))\n",
    "\n",
    "print(matrix3.astype(int)) # 불가\n",
    "print(matrix3.astype(bool)) # 불가"
   ]
  },
  {
   "cell_type": "code",
   "execution_count": null,
   "id": "b7a0ab30-664e-4b66-ae4b-6401d28624ad",
   "metadata": {},
   "outputs": [],
   "source": [
    "print(matrix3.astype(float))"
   ]
  },
  {
   "cell_type": "code",
   "execution_count": null,
   "id": "08b5267a-95dc-4b6f-ab46-7c443e2166a7",
   "metadata": {
    "tags": []
   },
   "outputs": [],
   "source": [
    "matrix4 = np.array(['3', '5', '7'])\n",
    "matrix4.astype(int)  # 가능, 값이 유효하기 때문"
   ]
  },
  {
   "cell_type": "markdown",
   "id": "d4a80126-2ee3-4f3a-935b-7ec05e03a9df",
   "metadata": {},
   "source": [
    "## 넘파이 배열의 인덱싱\n",
    "\n",
    "넘파이배열[index] 넘파이배열[i, j], 넘파이배열[i][j] : i행 j 열"
   ]
  },
  {
   "cell_type": "markdown",
   "id": "989f23bf-b2c4-4f92-b705-a45caae964f6",
   "metadata": {},
   "source": [
    "###  1D array"
   ]
  },
  {
   "cell_type": "code",
   "execution_count": null,
   "id": "fd12b027-335b-48a1-bb91-0d9a5d5c2391",
   "metadata": {
    "tags": []
   },
   "outputs": [],
   "source": [
    "a = np.array([1, 3, 5, 7, 9])\n",
    "a, a.ndim, a.shape, a.size"
   ]
  },
  {
   "cell_type": "code",
   "execution_count": null,
   "id": "0cac098e-c626-46d6-8e0d-acae628db0d8",
   "metadata": {
    "tags": []
   },
   "outputs": [],
   "source": [
    "a[0]"
   ]
  },
  {
   "cell_type": "code",
   "execution_count": null,
   "id": "ef85513f-90f1-493b-86ca-567b1b9dbde3",
   "metadata": {
    "tags": []
   },
   "outputs": [],
   "source": [
    "a[4]"
   ]
  },
  {
   "cell_type": "code",
   "execution_count": null,
   "id": "010a41f4-1e4a-461b-8cac-d6d64231e90f",
   "metadata": {
    "tags": []
   },
   "outputs": [],
   "source": [
    "a[-1]"
   ]
  },
  {
   "cell_type": "code",
   "execution_count": null,
   "id": "f4a1e1fc-e9c3-438f-a16b-cfd0b1486cb0",
   "metadata": {
    "tags": []
   },
   "outputs": [],
   "source": [
    "a[ [0,2,4] ]"
   ]
  },
  {
   "cell_type": "code",
   "execution_count": null,
   "id": "47d5f792-89cb-4549-bf89-6e19c704b275",
   "metadata": {
    "tags": []
   },
   "outputs": [],
   "source": [
    "# 행렬구조도 인덱싱이 가능하다.\n",
    "b = np.array([\n",
    "    [1, 3],\n",
    "    [4, 2]\n",
    "] )\n",
    "b"
   ]
  },
  {
   "cell_type": "code",
   "execution_count": null,
   "id": "52e70c1b-ad0d-4684-a40f-38e35f12097f",
   "metadata": {
    "tags": []
   },
   "outputs": [],
   "source": [
    "# 넘파이 배열1을 넘파이 배열2로 인덱싱하는 경우, 넘파이배열2는 인덱스 번호로 인식\n",
    "a[b]"
   ]
  },
  {
   "cell_type": "code",
   "execution_count": null,
   "id": "ac0c782e-e7be-4b62-8cc0-4601c51d272e",
   "metadata": {
    "tags": []
   },
   "outputs": [],
   "source": [
    "print(a)\n",
    "a[2] = 0\n",
    "print(a)"
   ]
  },
  {
   "cell_type": "code",
   "execution_count": null,
   "id": "093d39aa-0401-4f98-855a-1faf0b1e4cec",
   "metadata": {
    "tags": []
   },
   "outputs": [],
   "source": [
    "a[1] += 2\n",
    "a"
   ]
  },
  {
   "cell_type": "code",
   "execution_count": null,
   "id": "ff95bc8c-5b6e-4fcc-bc8f-2a0b40f77b34",
   "metadata": {
    "tags": []
   },
   "outputs": [],
   "source": [
    "a[0] += 6\n",
    "a"
   ]
  },
  {
   "cell_type": "markdown",
   "id": "7af12150-07fe-4012-9f76-ca8baeaec3a4",
   "metadata": {},
   "source": [
    "### 2D array"
   ]
  },
  {
   "cell_type": "code",
   "execution_count": null,
   "id": "5ac93579-5620-4198-8863-d41919e6f391",
   "metadata": {
    "tags": []
   },
   "outputs": [],
   "source": [
    "a = np.arange(15).reshape(3, 5)\n",
    "a, a.ndim, a.shape, a.size"
   ]
  },
  {
   "cell_type": "code",
   "execution_count": null,
   "id": "15bd58f1-37d2-4b3f-ac9b-60b9a068cc6b",
   "metadata": {
    "tags": []
   },
   "outputs": [],
   "source": [
    "# 인덱싱값이 하나일 경우에는 행 인덱싱\n",
    "a[0]"
   ]
  },
  {
   "cell_type": "code",
   "execution_count": null,
   "id": "0410fcc6-1223-467d-ac53-a839eaa13b52",
   "metadata": {
    "tags": []
   },
   "outputs": [],
   "source": [
    "a[1]"
   ]
  },
  {
   "cell_type": "code",
   "execution_count": null,
   "id": "a1e90718-fa44-4416-b6fe-e519ddc1c6a7",
   "metadata": {
    "tags": []
   },
   "outputs": [],
   "source": [
    "# 인덱싱값이 2개 들어가면 행/열 인덱싱\n",
    "a[0, 0]"
   ]
  },
  {
   "cell_type": "code",
   "execution_count": null,
   "id": "92190298-1f67-4491-a9c6-70e087a07218",
   "metadata": {
    "tags": []
   },
   "outputs": [],
   "source": [
    "a[1, 3]"
   ]
  },
  {
   "cell_type": "code",
   "execution_count": null,
   "id": "49af2fc1-d82f-4131-8314-93da02839b1d",
   "metadata": {
    "tags": []
   },
   "outputs": [],
   "source": [
    "a[2][ 4]"
   ]
  },
  {
   "cell_type": "code",
   "execution_count": null,
   "id": "6f969454-d667-45b2-bb75-1a85f573f2f2",
   "metadata": {
    "tags": []
   },
   "outputs": [],
   "source": [
    "a[-1, -1]"
   ]
  },
  {
   "cell_type": "code",
   "execution_count": null,
   "id": "eae0c9c3-e3bc-47ca-94ef-63ac78885751",
   "metadata": {
    "tags": []
   },
   "outputs": [],
   "source": [
    "a[-1][-1]"
   ]
  },
  {
   "cell_type": "code",
   "execution_count": null,
   "id": "5bd5c178-b9b6-428c-85ff-f6abc65a8a2d",
   "metadata": {
    "tags": []
   },
   "outputs": [],
   "source": [
    "# 값 변경\n",
    "a = np.arange(15).reshape(3, -1)\n",
    "a"
   ]
  },
  {
   "cell_type": "code",
   "execution_count": null,
   "id": "1119aa74-d496-4d9a-aca7-45e4b53ee634",
   "metadata": {
    "tags": []
   },
   "outputs": [],
   "source": [
    "a[1] = [1, 3, 5, 7, 9]\n",
    "a"
   ]
  },
  {
   "cell_type": "code",
   "execution_count": null,
   "id": "bad7fff6-59e7-4fac-9b7e-803622007814",
   "metadata": {
    "tags": []
   },
   "outputs": [],
   "source": [
    "a[-1] = 10\n",
    "a"
   ]
  },
  {
   "cell_type": "code",
   "execution_count": null,
   "id": "4d329536-cc0a-4aeb-a55b-7dfdcfbcf951",
   "metadata": {
    "tags": []
   },
   "outputs": [],
   "source": [
    "a[0] += [1, 2, 3, 4, 5]\n",
    "a"
   ]
  },
  {
   "cell_type": "markdown",
   "id": "f80dccbf-64a4-4c6e-8760-acdf05cb8386",
   "metadata": {},
   "source": [
    "## 넘파이배열 슬라이싱\n",
    "```\n",
    "1차원\n",
    "넘파이배열[:end]\n",
    "넘파이배열[start:]\n",
    "넘파이배열[start:end]\n",
    "넘파이배열[start:end:step]\n",
    "\n",
    "2차원\n",
    "넘파이배열[행, 열] = [start:end:step, start2:end2:step2]\n",
    "```"
   ]
  },
  {
   "cell_type": "markdown",
   "id": "5c46057b-6983-45ac-b05a-3431f872bbce",
   "metadata": {},
   "source": [
    "### 1D array"
   ]
  },
  {
   "cell_type": "code",
   "execution_count": null,
   "id": "cc02cd3c-eeba-4f64-a2e8-3be8b54de81c",
   "metadata": {
    "tags": []
   },
   "outputs": [],
   "source": [
    "a = np.array([1, 3, 5, 7, 9])\n",
    "a, a.ndim, a.shape, a.size"
   ]
  },
  {
   "cell_type": "code",
   "execution_count": null,
   "id": "147624a1-2552-4aa1-861f-51372c9565bd",
   "metadata": {
    "tags": []
   },
   "outputs": [],
   "source": [
    "a[:]"
   ]
  },
  {
   "cell_type": "code",
   "execution_count": null,
   "id": "e0ec9c83-9405-407e-ae58-14ea772e0b65",
   "metadata": {
    "tags": []
   },
   "outputs": [],
   "source": [
    "a[1:]"
   ]
  },
  {
   "cell_type": "code",
   "execution_count": null,
   "id": "4d98ff72-176e-46c4-9dfc-8a6fef1dcf08",
   "metadata": {
    "tags": []
   },
   "outputs": [],
   "source": [
    "a[-1:]"
   ]
  },
  {
   "cell_type": "code",
   "execution_count": null,
   "id": "c789969e-64fb-45a4-bf95-0a2875cd7408",
   "metadata": {
    "tags": []
   },
   "outputs": [],
   "source": [
    "a[1:4]"
   ]
  },
  {
   "cell_type": "code",
   "execution_count": null,
   "id": "e5572129-d967-4f03-9122-e43b6ec7ad63",
   "metadata": {
    "tags": []
   },
   "outputs": [],
   "source": [
    "a = np.arange(10)\n",
    "a"
   ]
  },
  {
   "cell_type": "code",
   "execution_count": null,
   "id": "2308906a-2494-4bdf-a364-cbcad510f434",
   "metadata": {
    "tags": []
   },
   "outputs": [],
   "source": [
    "# 홀수 뽑기\n",
    "a[1::2]"
   ]
  },
  {
   "cell_type": "code",
   "execution_count": null,
   "id": "6c76ce54-a382-4eef-8d64-f7b427881d44",
   "metadata": {
    "tags": []
   },
   "outputs": [],
   "source": [
    "# 거꾸로 나열해보세요\n",
    "a[::-2]"
   ]
  },
  {
   "cell_type": "markdown",
   "id": "5d617ac0-16dc-4574-97d3-7e8cc6daabff",
   "metadata": {},
   "source": [
    "### 2D array"
   ]
  },
  {
   "cell_type": "code",
   "execution_count": 9,
   "id": "16f42af6-f8bd-456d-a3aa-f57d2e9854a9",
   "metadata": {
    "tags": []
   },
   "outputs": [],
   "source": [
    "import numpy as np"
   ]
  },
  {
   "cell_type": "code",
   "execution_count": 11,
   "id": "ce7a9b30-cb51-494e-b843-63ecf88da554",
   "metadata": {
    "tags": []
   },
   "outputs": [
    {
     "data": {
      "text/plain": [
       "(array([[10, 11, 12, 13, 14],\n",
       "        [15, 16, 17, 18, 19],\n",
       "        [20, 21, 22, 23, 24]]),\n",
       " 2,\n",
       " (3, 5),\n",
       " 15)"
      ]
     },
     "execution_count": 11,
     "metadata": {},
     "output_type": "execute_result"
    }
   ],
   "source": [
    "a = np.arange(10, 25).reshape(3, 5)\n",
    "a, a.ndim, a.shape, a.size"
   ]
  },
  {
   "cell_type": "code",
   "execution_count": 13,
   "id": "0c4cf5b3-087b-4864-9d31-89a4ce6dba47",
   "metadata": {
    "tags": []
   },
   "outputs": [
    {
     "data": {
      "text/plain": [
       "array([[15, 16, 17, 18, 19],\n",
       "       [20, 21, 22, 23, 24]])"
      ]
     },
     "execution_count": 13,
     "metadata": {},
     "output_type": "execute_result"
    }
   ],
   "source": [
    "a[1:]"
   ]
  },
  {
   "cell_type": "code",
   "execution_count": 15,
   "id": "574bdabd-2621-4084-919d-f13344516375",
   "metadata": {
    "tags": []
   },
   "outputs": [
    {
     "data": {
      "text/plain": [
       "array([], shape=(0, 5), dtype=int32)"
      ]
     },
     "execution_count": 15,
     "metadata": {},
     "output_type": "execute_result"
    }
   ],
   "source": [
    "a[:-3]"
   ]
  },
  {
   "cell_type": "code",
   "execution_count": 17,
   "id": "6916dfb6-b697-4ff6-950a-279de527da94",
   "metadata": {
    "tags": []
   },
   "outputs": [
    {
     "data": {
      "text/plain": [
       "array([[20, 21, 22, 23, 24]])"
      ]
     },
     "execution_count": 17,
     "metadata": {},
     "output_type": "execute_result"
    }
   ],
   "source": [
    "a[1:][1:] # 행의 범위, 열의 범위"
   ]
  },
  {
   "cell_type": "code",
   "execution_count": 19,
   "id": "09e840a4-9889-40a0-84c7-5bec3507135a",
   "metadata": {
    "tags": []
   },
   "outputs": [
    {
     "data": {
      "text/plain": [
       "array([[16, 17, 18, 19],\n",
       "       [21, 22, 23, 24]])"
      ]
     },
     "execution_count": 19,
     "metadata": {},
     "output_type": "execute_result"
    }
   ],
   "source": [
    "a[1:,1:]"
   ]
  },
  {
   "cell_type": "code",
   "execution_count": null,
   "id": "e62c9ccf-7097-4152-9e95-0613dd1ba5c2",
   "metadata": {
    "tags": []
   },
   "outputs": [],
   "source": [
    "a[:,4:]"
   ]
  },
  {
   "cell_type": "code",
   "execution_count": null,
   "id": "6bf8b10c-9aeb-49db-8a5a-d20baf30148d",
   "metadata": {
    "tags": []
   },
   "outputs": [],
   "source": [
    "a[: , -1:]"
   ]
  },
  {
   "cell_type": "code",
   "execution_count": null,
   "id": "314f767c-ea7f-4524-b483-55990d91fa88",
   "metadata": {},
   "outputs": [],
   "source": [
    "a"
   ]
  },
  {
   "cell_type": "code",
   "execution_count": null,
   "id": "d9a4d284-2f8b-45ca-bd92-535d6ff1c47b",
   "metadata": {
    "tags": []
   },
   "outputs": [],
   "source": [
    "a[1:, 2:3]"
   ]
  },
  {
   "cell_type": "code",
   "execution_count": null,
   "id": "51eceb1a-515e-4fea-8e88-40738967e331",
   "metadata": {
    "tags": []
   },
   "outputs": [],
   "source": [
    "a[:2, 1:4]"
   ]
  },
  {
   "cell_type": "code",
   "execution_count": null,
   "id": "42171d03-bab6-42ba-8c1d-a7ac873497cd",
   "metadata": {
    "tags": []
   },
   "outputs": [],
   "source": [
    "a[:-1, 1:-1]"
   ]
  },
  {
   "cell_type": "code",
   "execution_count": null,
   "id": "5683364b-73e5-4d1c-aa64-c4aaf6285763",
   "metadata": {
    "tags": []
   },
   "outputs": [],
   "source": [
    "a[1, 2]"
   ]
  },
  {
   "cell_type": "code",
   "execution_count": null,
   "id": "d8736591-c9a4-4666-8387-98440caf09bb",
   "metadata": {
    "tags": []
   },
   "outputs": [],
   "source": [
    "a[1][2]"
   ]
  },
  {
   "cell_type": "code",
   "execution_count": null,
   "id": "2db30add-891c-4b5e-8441-adb8dc6874cf",
   "metadata": {
    "tags": []
   },
   "outputs": [],
   "source": [
    "a"
   ]
  },
  {
   "cell_type": "code",
   "execution_count": null,
   "id": "6bcd3b93-b7d0-49c6-9e93-9494604b707e",
   "metadata": {
    "tags": []
   },
   "outputs": [],
   "source": [
    "# 행 뒤집기\n",
    "a[::-1]"
   ]
  },
  {
   "cell_type": "code",
   "execution_count": null,
   "id": "f9947a4a-46a2-4f15-b3f7-45818ba8131f",
   "metadata": {
    "tags": []
   },
   "outputs": [],
   "source": [
    "# 열 뒤집기\n",
    "a[::, ::-1]"
   ]
  },
  {
   "cell_type": "markdown",
   "id": "66c1cb72-dad6-4aa7-b659-d73e3d3fcbeb",
   "metadata": {},
   "source": [
    "## 전치행렬"
   ]
  },
  {
   "cell_type": "code",
   "execution_count": null,
   "id": "f8ea147c-1f9a-4ec9-b632-3ced7eb5d05a",
   "metadata": {
    "tags": []
   },
   "outputs": [],
   "source": [
    "# 3행 2열\n",
    "matrix_d = np.arange(1,7).reshape(3,2)\n",
    "matrix_d"
   ]
  },
  {
   "cell_type": "code",
   "execution_count": null,
   "id": "3196ffe6-fade-40ac-ab30-f9976202f31a",
   "metadata": {
    "tags": []
   },
   "outputs": [],
   "source": [
    "# 2행 3열로 변환\n",
    "print(matrix_d.T)"
   ]
  },
  {
   "cell_type": "code",
   "execution_count": null,
   "id": "54984ee7-29bb-4871-9430-2ba7c3e8528f",
   "metadata": {
    "tags": []
   },
   "outputs": [],
   "source": [
    "# reshape과 transpose은 값이 다름을 유의 (reshape는 flatten이 선행)\n",
    "print(matrix_d.flatten())\n",
    "print(matrix_d.reshape(2,3)) "
   ]
  },
  {
   "cell_type": "markdown",
   "id": "5063ca27-d407-4092-9e33-51e5d42c0baf",
   "metadata": {},
   "source": [
    "## 난수로 구성된 넘파이 배열\n",
    "* np.random.randint(start, end, n) : 정수 난수\n",
    "* np.random.randint(start, end, (i, j))"
   ]
  },
  {
   "cell_type": "code",
   "execution_count": null,
   "id": "bf60f041-bf75-445a-ad9b-df9372368631",
   "metadata": {
    "tags": []
   },
   "outputs": [],
   "source": [
    "np.random.randint?"
   ]
  },
  {
   "cell_type": "code",
   "execution_count": null,
   "id": "c092fcbb-2ed1-48f5-8482-785291a8f3df",
   "metadata": {
    "tags": []
   },
   "outputs": [],
   "source": [
    "# 1~10 사이의 숫자중에서 10개 출력\n",
    "np.random.randint(1, 10, 10)"
   ]
  },
  {
   "cell_type": "code",
   "execution_count": null,
   "id": "afa345d9-d343-4abb-8844-f8ebe8fb76cd",
   "metadata": {
    "tags": []
   },
   "outputs": [],
   "source": [
    "np.random.randint(1, 49, 6)"
   ]
  },
  {
   "cell_type": "code",
   "execution_count": null,
   "id": "16af5209-aa79-490c-9fa8-bd2a0979c2f2",
   "metadata": {
    "tags": []
   },
   "outputs": [],
   "source": [
    "# 2행 5열로 츨력\n",
    "np.random.randint(1, 10, (2,5))"
   ]
  },
  {
   "cell_type": "markdown",
   "id": "86fafe1b-957c-4df5-9d85-288be59c5e79",
   "metadata": {},
   "source": [
    "## 섞기\n",
    "* np.random.shuffle(넘파이배열) 원본에 바로 적용"
   ]
  },
  {
   "cell_type": "code",
   "execution_count": null,
   "id": "e3cd1900-d67a-453d-86b1-b284d992567b",
   "metadata": {
    "tags": []
   },
   "outputs": [],
   "source": [
    "np.random.shuffle?"
   ]
  },
  {
   "cell_type": "code",
   "execution_count": null,
   "id": "7b9c39bb-e485-4805-9eea-827a781b2e64",
   "metadata": {
    "tags": []
   },
   "outputs": [],
   "source": [
    "# 10개 무작위 값 만들기\n",
    "matrix_e = np.arange(1,11).reshape(5,2)\n",
    "matrix_e"
   ]
  },
  {
   "cell_type": "code",
   "execution_count": null,
   "id": "2a8bbc2b-1e54-487d-8dae-7d38814e3414",
   "metadata": {
    "tags": []
   },
   "outputs": [],
   "source": [
    "np.random.shuffle(matrix_e)\n",
    "matrix_e"
   ]
  },
  {
   "cell_type": "markdown",
   "id": "7fb9528b-9518-4ec3-ad58-4bd999f862b3",
   "metadata": {},
   "source": [
    "## Quiz : 1~45까지 구성된 숫자 중에서 6개를 뽑아서 로또 번호를 생성하라"
   ]
  },
  {
   "cell_type": "code",
   "execution_count": null,
   "id": "27f351bd-d7b3-4410-986c-3d81fc9f8d29",
   "metadata": {
    "tags": []
   },
   "outputs": [],
   "source": [
    "num= np.arange(1,46)\n",
    "np.random.shuffle(num)\n",
    "num[:6]"
   ]
  },
  {
   "cell_type": "code",
   "execution_count": null,
   "id": "3605b918-b15f-4e13-9b0a-ccc57bce9c1d",
   "metadata": {
    "tags": []
   },
   "outputs": [],
   "source": [
    "np.random.randint(1,46,6)"
   ]
  },
  {
   "cell_type": "markdown",
   "id": "db0c2739-0d9a-49f4-b943-ed754c6ae6f7",
   "metadata": {},
   "source": [
    "## 실수 난수\n",
    "* np.random.randn(n)\n",
    "* np.random.randn(i, j)"
   ]
  },
  {
   "cell_type": "code",
   "execution_count": null,
   "id": "eba54421-fa41-4f56-b382-bde6074d1a53",
   "metadata": {
    "tags": []
   },
   "outputs": [],
   "source": [
    "np.random.randn?"
   ]
  },
  {
   "cell_type": "code",
   "execution_count": null,
   "id": "9b782839-0e11-4e5a-b6be-4300680c3e7e",
   "metadata": {
    "tags": []
   },
   "outputs": [],
   "source": [
    "matrix1 = np.random.randn(10) # 표준정규분포 0 ~ 분산1\n",
    "matrix1"
   ]
  },
  {
   "cell_type": "code",
   "execution_count": null,
   "id": "838766fe-cd87-45e5-8587-ed791ef7e611",
   "metadata": {
    "tags": []
   },
   "outputs": [],
   "source": [
    "matrix2 = np.random.randn(4, 4)\n",
    "matrix2"
   ]
  },
  {
   "cell_type": "code",
   "execution_count": null,
   "id": "5cb3ff30-1cde-4515-b863-58082d78b903",
   "metadata": {
    "tags": []
   },
   "outputs": [],
   "source": [
    "matrix1.max(), matrix1.min()"
   ]
  },
  {
   "cell_type": "code",
   "execution_count": null,
   "id": "0b012a99-e629-422e-8032-0539c5ecfe10",
   "metadata": {
    "scrolled": true
   },
   "outputs": [],
   "source": [
    "#p, r, e\n",
    "#parameter\n",
    "#optional -> default\n",
    "#\n",
    "\n",
    "#np.random.choice([1,2,3])\n",
    "#np.random.choice(np.arange(4))\n",
    "\n",
    "#np.random.choice([1,2,3],2)\n",
    "#np.random.choice([1,2,3],(2,2))\n",
    "#np.random.choice([1,2,3],4,replace=True)\n",
    "#np.random.choice([1,2,3,4],4,replace=False)\n",
    "#aa_milne_arr = ['pooh', 'rabbit', 'piglet', 'Christopher']\n",
    "#np.random.choice(aa_milne_arr, 5,p=[0.25, 0.25, 0.25, 0.25])\n",
    "\n",
    "\n",
    "#if a is an int and less than zero, \n",
    "#np.random.choice(-1)\n",
    "#np.arange(-1) \n",
    "\n",
    "#if a or p are not 1-dimensional,\n",
    "#np.random.choice([[1,2,3,4],[5,6,7,8]])\n",
    "\n",
    "#if a is an array-like of size 0, \n",
    "#np.random.choice([])\n",
    "\n",
    "#if p is not a vector of probabilities, \n",
    "#np.random.choice([1,2,3],3,True,[0.1,0.2,0.2])\n",
    "#np.random.choice([1,2,3],3,p=[0.1,0.2,0.7])\n",
    "#np.random.choice([1,2,3],3,p=[0.1,0.2,0.2])\n",
    "\n",
    "#if a and p have different lengths,\n",
    "#np.random.choice([1,2],3,p=[0.1,0.2,0.7])\n",
    "\n",
    "#if replace=False and the sample size is greater than the population size\n",
    "#np.random.choice([1,2,3],4,replace=False)\n",
    "\n",
    "#def choice(k) :\n",
    "#    if k<0 :\n",
    "#        raise ValueError(\" 0 보다 작아요\")\n",
    "#    np.arange(-1)\n",
    "#choice(-1)\n",
    "\n"
   ]
  },
  {
   "cell_type": "code",
   "execution_count": null,
   "id": "f0de1cae-ec56-486b-a931-59c126a2a05b",
   "metadata": {
    "tags": []
   },
   "outputs": [],
   "source": [
    "np.random.choice?"
   ]
  },
  {
   "cell_type": "markdown",
   "id": "e31b81b8-c029-4beb-838f-02dbea49be35",
   "metadata": {},
   "source": [
    "## 집계함수에서의 축\n",
    "* 2차원에서의 집계합수(sum, mean)\n",
    "* axis = 0, 1\n",
    "* np.sum(넘파이배열, axis=0/1)\n",
    "* np.mean(넘파이배열, axis=0/1)\n",
    "* np.sort(넘파이배열, axis=0/1)"
   ]
  },
  {
   "cell_type": "code",
   "execution_count": null,
   "id": "5b2560c0-9d59-4cc6-90b6-31fd4af25875",
   "metadata": {
    "tags": []
   },
   "outputs": [],
   "source": [
    "m1 = np.random.randint(1, 10, (5,5))\n",
    "m1"
   ]
  },
  {
   "cell_type": "code",
   "execution_count": null,
   "id": "aabde66d-625b-4eeb-b665-fcbc49287bc1",
   "metadata": {
    "tags": []
   },
   "outputs": [],
   "source": [
    "m1[0,::]"
   ]
  },
  {
   "cell_type": "code",
   "execution_count": null,
   "id": "ca8ee304-f5ee-4e84-8c62-8d9013a96ccb",
   "metadata": {
    "tags": []
   },
   "outputs": [],
   "source": [
    "#np.sum?"
   ]
  },
  {
   "cell_type": "code",
   "execution_count": null,
   "id": "846a402e-b5ee-457f-9c16-4909c0cfd1ee",
   "metadata": {
    "tags": []
   },
   "outputs": [],
   "source": [
    "np.sum(m1, axis=0) # (x)열 합계(행방향 합계"
   ]
  },
  {
   "cell_type": "code",
   "execution_count": null,
   "id": "57190bd0-d77a-4f3b-98e9-29efd78150da",
   "metadata": {
    "tags": []
   },
   "outputs": [],
   "source": [
    "np.sum(m1, axis=1) #행합계 (열방향 합계)"
   ]
  },
  {
   "cell_type": "code",
   "execution_count": null,
   "id": "ac66676b-4f81-42a4-a3db-d330aa7a6546",
   "metadata": {},
   "outputs": [],
   "source": []
  },
  {
   "cell_type": "markdown",
   "id": "7622a617-86bf-4f75-a925-4a8ae2f3970e",
   "metadata": {},
   "source": [
    "## quiz"
   ]
  },
  {
   "cell_type": "code",
   "execution_count": null,
   "id": "5dfb6011-a843-4f3a-87dc-6b5c32f7c2de",
   "metadata": {
    "tags": []
   },
   "outputs": [],
   "source": [
    "# 1번째행의 합계는\n",
    "m1[0,:]"
   ]
  },
  {
   "cell_type": "code",
   "execution_count": null,
   "id": "15ace5ab-213d-4772-a3c8-be37a13a3702",
   "metadata": {
    "tags": []
   },
   "outputs": [],
   "source": [
    "np.sum(m1[0,:], axis=0)"
   ]
  },
  {
   "cell_type": "code",
   "execution_count": null,
   "id": "0c100e2d-b952-4543-a246-8caf4fa3d591",
   "metadata": {
    "tags": []
   },
   "outputs": [],
   "source": [
    "# 3번째 열의 합계\n",
    "np.sum(m1[:, 2], axis=0)"
   ]
  },
  {
   "cell_type": "markdown",
   "id": "23f0d46b-7c2e-4581-a2a0-965e95decc6f",
   "metadata": {},
   "source": [
    "## np.sort()"
   ]
  },
  {
   "cell_type": "code",
   "execution_count": null,
   "id": "62f7e81c-0f82-4a71-8601-3b17586f7438",
   "metadata": {
    "tags": []
   },
   "outputs": [],
   "source": [
    "# 정수 난수로 구성된 4x3\n",
    "m2 = np.random.randint(1, 50,(4,3,3))\n",
    "m2\n",
    "\n"
   ]
  },
  {
   "cell_type": "code",
   "execution_count": null,
   "id": "7ba129c8-d484-40a6-994d-f4c0b49e4483",
   "metadata": {
    "tags": []
   },
   "outputs": [],
   "source": [
    "#np.sort?"
   ]
  },
  {
   "cell_type": "code",
   "execution_count": null,
   "id": "075a8ab1-b561-49b7-993c-24c191a7a0b5",
   "metadata": {
    "tags": []
   },
   "outputs": [],
   "source": [
    "np.sort(m2,axis=1) # 행안에서 열정렬 # default axis = -1 마지막 축을 따라 정렬"
   ]
  },
  {
   "cell_type": "code",
   "execution_count": null,
   "id": "65a36c9a-9767-40a4-a99b-9c78fe86e43c",
   "metadata": {
    "tags": []
   },
   "outputs": [],
   "source": [
    "m2"
   ]
  },
  {
   "cell_type": "code",
   "execution_count": null,
   "id": "f0734404-449d-4438-8295-f70a2d601070",
   "metadata": {
    "tags": []
   },
   "outputs": [],
   "source": [
    "np.sort(m2, axis=0) # 열정렬(행방향) 오름차순(요소별로)"
   ]
  },
  {
   "cell_type": "code",
   "execution_count": null,
   "id": "d9cb314f-1167-41d1-8173-764160e01ba1",
   "metadata": {
    "tags": []
   },
   "outputs": [],
   "source": [
    "m2[::-1, ::-1] # 행전체가 역순으로 바뀌는 것과는 다르다(sort는 +요소별 정렬까지 해줌)"
   ]
  },
  {
   "cell_type": "code",
   "execution_count": null,
   "id": "2d16f723-b24d-4cb9-9af1-a9bf5313ff22",
   "metadata": {
    "tags": []
   },
   "outputs": [],
   "source": [
    "m2"
   ]
  },
  {
   "cell_type": "code",
   "execution_count": null,
   "id": "0dffd7d5-09be-4ab8-91c3-8af7d8618eb6",
   "metadata": {
    "tags": []
   },
   "outputs": [],
   "source": [
    "np.sort(m2, axis=1) # 행정렬(열방향 오름차순)"
   ]
  },
  {
   "cell_type": "code",
   "execution_count": null,
   "id": "7f2926ef-4ba6-43a9-a6cd-4384a545c076",
   "metadata": {
    "tags": []
   },
   "outputs": [],
   "source": [
    "m2[::-1, ::-1] "
   ]
  },
  {
   "cell_type": "markdown",
   "id": "a108fa80-c8ec-468a-afb7-31ce273956f1",
   "metadata": {},
   "source": [
    "## 인덱스 소팅\n",
    "np.argsort(넘파이배열, axis=0,1)\n",
    "\n",
    "정렬값을 인덱스로 반환 (np.sort()를 인덱스로)"
   ]
  },
  {
   "cell_type": "code",
   "execution_count": null,
   "id": "422a8765-8345-44b3-96d0-97c60f9d74b6",
   "metadata": {
    "tags": []
   },
   "outputs": [],
   "source": [
    "x = np.array([9,5,4])\n",
    "np.argsort(x) # 오름차순 정렬 4 5 9 의 인덱스 값 "
   ]
  },
  {
   "cell_type": "code",
   "execution_count": null,
   "id": "4e32cf7c-0318-49dd-8e65-5bb0858af842",
   "metadata": {
    "tags": []
   },
   "outputs": [],
   "source": [
    "x[np.argsort(x)] # 인덱스값으로 실제 값 출력"
   ]
  },
  {
   "cell_type": "markdown",
   "id": "0b6919f6-6504-4b66-a186-13d33091ca44",
   "metadata": {},
   "source": [
    "## 넘파이 배열 요소 추가와 삭제\n",
    "```\n",
    "삽입\n",
    "\n",
    "np.insert(배열, 위치인덱스, 값, axis=0/1)\n",
    "2차원인 경우 axis를 설정하지 않으면 1차원 배열로 변경되어 삽입출력\n",
    "삭제\n",
    "\n",
    "np.delete(배열명, 위치인덱스, axis=0/1)\n",
    "```"
   ]
  },
  {
   "cell_type": "code",
   "execution_count": null,
   "id": "b8b3aab9-8bea-493d-8e13-2a5504339cc8",
   "metadata": {
    "tags": []
   },
   "outputs": [],
   "source": [
    "m3 = np.arange(1,11)\n",
    "m3"
   ]
  },
  {
   "cell_type": "code",
   "execution_count": null,
   "id": "32b786f9-df7e-4466-86c9-a95b42aaf254",
   "metadata": {
    "tags": []
   },
   "outputs": [],
   "source": [
    "np.insert?"
   ]
  },
  {
   "cell_type": "code",
   "execution_count": null,
   "id": "2e9e844c-21d3-4251-990f-ebff4a729eff",
   "metadata": {
    "tags": []
   },
   "outputs": [],
   "source": [
    "np.insert(m3, 0, 100)"
   ]
  },
  {
   "cell_type": "code",
   "execution_count": null,
   "id": "6d590317-8b9b-48c9-8bfe-a838c4cce24f",
   "metadata": {
    "tags": []
   },
   "outputs": [],
   "source": [
    "m3[0]"
   ]
  },
  {
   "cell_type": "code",
   "execution_count": null,
   "id": "e57b43ce-7a4e-416e-a51a-df38894e74ce",
   "metadata": {
    "tags": []
   },
   "outputs": [],
   "source": [
    "np.insert(m3, -1, 500)  # 인덱싱/슬라이싱 end처럼 인식"
   ]
  },
  {
   "cell_type": "code",
   "execution_count": null,
   "id": "e3a2f253-a875-48c7-abff-6a8ebd073f0e",
   "metadata": {},
   "outputs": [],
   "source": [
    "len(m3)\n",
    "m3"
   ]
  },
  {
   "cell_type": "code",
   "execution_count": null,
   "id": "1d4a9f78-d7eb-4822-be5e-6b3ffe758f1b",
   "metadata": {
    "tags": []
   },
   "outputs": [],
   "source": [
    "m3 = [5,4,3,5,6]\n",
    "np.insert(m3, len(m3), 500)"
   ]
  },
  {
   "cell_type": "code",
   "execution_count": null,
   "id": "5e375d6a-0a25-4935-98b3-464c11bd0e3a",
   "metadata": {
    "tags": []
   },
   "outputs": [],
   "source": [
    "m4 = np.arange(1,13).reshape(3,4)\n",
    "m4"
   ]
  },
  {
   "cell_type": "code",
   "execution_count": null,
   "id": "0dbe9b67-1248-4269-b7e7-0227d8c068e2",
   "metadata": {
    "tags": []
   },
   "outputs": [],
   "source": [
    "np.insert(m4, 0, 100) # 2차원배열의 경우 axis 미설정시 1차원으로 변경되어 삽입"
   ]
  },
  {
   "cell_type": "code",
   "execution_count": null,
   "id": "eabb91ca-c917-4478-a19e-251e377b0136",
   "metadata": {
    "tags": []
   },
   "outputs": [],
   "source": [
    "# 1열으로 [100,100,100] 삽입\n",
    "np.insert(m4, 0, 100, axis=0)\n"
   ]
  },
  {
   "cell_type": "code",
   "execution_count": null,
   "id": "53693750-e95d-43a7-a3d1-e5fb0e3ccb62",
   "metadata": {},
   "outputs": [],
   "source": []
  },
  {
   "cell_type": "code",
   "execution_count": null,
   "id": "d942e5f8-ba15-4bd6-928d-e4b6a7613a50",
   "metadata": {
    "tags": []
   },
   "outputs": [],
   "source": [
    "# 리스트로 삽입\n",
    "np.insert(m4, 0, [100,200,300], axis=1)   "
   ]
  },
  {
   "cell_type": "code",
   "execution_count": null,
   "id": "e323493c-7547-4542-8d4a-00be0915d133",
   "metadata": {
    "tags": []
   },
   "outputs": [],
   "source": [
    "m4.shape, m4.shape[1], len(m4)"
   ]
  },
  {
   "cell_type": "code",
   "execution_count": null,
   "id": "fb02160c-7f30-4bca-ba88-dae382f446a1",
   "metadata": {
    "tags": []
   },
   "outputs": [],
   "source": [
    "# 마지막 컬럼으로 삽입\n",
    "#배열명.shape[1] 칼럼 길이\n",
    "np.insert(m4, m4.shape[1] , [100,200,300], axis=1)\n"
   ]
  },
  {
   "cell_type": "code",
   "execution_count": null,
   "id": "baf4cf94-943a-45fe-a0f5-d91f02bf5fcd",
   "metadata": {
    "tags": []
   },
   "outputs": [],
   "source": [
    "# 마지막 행에 삽입\n",
    "np.insert(m4, m4.shape[0], [100,200,300], axis=0)"
   ]
  },
  {
   "cell_type": "code",
   "execution_count": null,
   "id": "e492de2b-5457-4f99-b2eb-44de9a9843d4",
   "metadata": {
    "tags": []
   },
   "outputs": [],
   "source": [
    "m4, m4.shape"
   ]
  },
  {
   "cell_type": "code",
   "execution_count": null,
   "id": "247b1b98-e61d-44b3-afab-95a77022cd3f",
   "metadata": {
    "tags": []
   },
   "outputs": [],
   "source": [
    "np.delete(m4, 1, axis=1)"
   ]
  },
  {
   "cell_type": "markdown",
   "id": "1c77ac65-765b-4125-a40a-93cc9fc3fb4a",
   "metadata": {},
   "source": [
    "## 배열 합치기\n",
    "* np.vstack((배열1,배열2....)) : 세로 합치기\n",
    "* np.hstack((배열1,배열2....)) : 가로 합치기\n",
    "* np.concatenate((배열1, 배열2), axis=0/1 ) 2차원만 가능"
   ]
  },
  {
   "cell_type": "code",
   "execution_count": null,
   "id": "eb9c4dd7-f407-4dca-bc07-1dbfad8f3c36",
   "metadata": {
    "tags": []
   },
   "outputs": [],
   "source": [
    "a = np.array([1,2,3])\n",
    "b = np.array([4,5,6])\n",
    "np.hstack((a,b))\n"
   ]
  },
  {
   "cell_type": "code",
   "execution_count": null,
   "id": "a1093140-7dbb-428d-95d6-7736a90f6538",
   "metadata": {
    "tags": []
   },
   "outputs": [],
   "source": [
    "np.hstack((a,b)), np.hstack((a,b)).ndim, np.hstack((a,b)).shape"
   ]
  },
  {
   "cell_type": "code",
   "execution_count": null,
   "id": "4a3e15b3-7c5e-4ffd-9e59-3b50ed8a64c7",
   "metadata": {
    "tags": []
   },
   "outputs": [],
   "source": [
    "c = np.array( [\n",
    "    [1,2,3]\n",
    "] ) # 2차원\n",
    "c, c.ndim, c.shape"
   ]
  },
  {
   "cell_type": "code",
   "execution_count": null,
   "id": "c1938896-fc39-40b9-9b6a-e0196c72b32d",
   "metadata": {
    "tags": []
   },
   "outputs": [],
   "source": [
    "d = np.array([\n",
    "    [4,5,6]\n",
    "]) # 2차원\n",
    "d, d.ndim, d.shape"
   ]
  },
  {
   "cell_type": "code",
   "execution_count": null,
   "id": "8a351d6d-4608-48a7-ad28-492385ae11d7",
   "metadata": {
    "tags": []
   },
   "outputs": [],
   "source": [
    "f = np.concatenate((c,d), axis=0) #\n",
    "f, f.ndim, f.shape"
   ]
  },
  {
   "cell_type": "code",
   "execution_count": null,
   "id": "15f6c89f-81c0-418c-8357-063ca49d6868",
   "metadata": {
    "tags": []
   },
   "outputs": [],
   "source": [
    "f = np.concatenate((c,d), axis=1) #\n",
    "f, f.ndim, f.shape"
   ]
  },
  {
   "cell_type": "markdown",
   "id": "0b17af4d-930a-4c9b-b692-c86cbc464226",
   "metadata": {},
   "source": [
    "## boolean indexing, mask\n",
    "* 조건절의 결과는 True, False로 반환\n",
    "* True인 결과의 데이터 반환\n",
    "* 넘파이배열[조건절] : ==, !=, <=, >=, &, |, ~"
   ]
  },
  {
   "cell_type": "code",
   "execution_count": null,
   "id": "97405a9e-4d6c-4bf3-b08e-c7c5dfb26c86",
   "metadata": {
    "tags": []
   },
   "outputs": [],
   "source": [
    "matrix = np.arange(1, 21)\n",
    "matrix"
   ]
  },
  {
   "cell_type": "code",
   "execution_count": null,
   "id": "3e406b17-4abd-4538-9fbd-86880dffcef3",
   "metadata": {
    "tags": []
   },
   "outputs": [],
   "source": [
    "matrix > 10"
   ]
  },
  {
   "cell_type": "code",
   "execution_count": null,
   "id": "63630e6a-e098-4c14-9da0-483dcdf10417",
   "metadata": {
    "tags": []
   },
   "outputs": [],
   "source": [
    "matrix[matrix > 10]"
   ]
  },
  {
   "cell_type": "code",
   "execution_count": null,
   "id": "13ed2a65-8552-4287-a743-75f3f6409c8d",
   "metadata": {
    "tags": []
   },
   "outputs": [],
   "source": [
    "len(matrix[matrix > 10])"
   ]
  },
  {
   "cell_type": "code",
   "execution_count": null,
   "id": "a607e29d-376e-4dd1-ac8f-02f1d5cd3548",
   "metadata": {
    "tags": []
   },
   "outputs": [],
   "source": [
    "np.sum(matrix > 10)"
   ]
  },
  {
   "cell_type": "markdown",
   "id": "c5843b24-4eca-4a5c-99db-b05a90c13223",
   "metadata": {},
   "source": [
    "## Quiz : 1~100사이 난수 30개를 추출하여 넘파이 배열을 생성하고, 30보다 크거나 70보다 작은 수를 출력하라"
   ]
  },
  {
   "cell_type": "code",
   "execution_count": null,
   "id": "94fe6cdf-b13b-4c8b-8b66-54921de01d47",
   "metadata": {
    "tags": []
   },
   "outputs": [],
   "source": [
    "num = np.random.randint(1, 100, 30)\n",
    "(num > 30) & (num < 70)"
   ]
  },
  {
   "cell_type": "code",
   "execution_count": null,
   "id": "3cb2efe2-984b-4f61-8f3f-920ee6c858ea",
   "metadata": {
    "tags": []
   },
   "outputs": [],
   "source": [
    "num[(num > 30) & (num < 70)]"
   ]
  },
  {
   "cell_type": "code",
   "execution_count": null,
   "id": "ff020a9f-9556-461b-bcec-c67f557e9cc1",
   "metadata": {
    "tags": []
   },
   "outputs": [],
   "source": [
    "# ~은 revere를 의미\n",
    "num[~(num > 30) ]"
   ]
  },
  {
   "cell_type": "markdown",
   "id": "e02d6921-9513-48ed-ae9d-8add8ca36c2e",
   "metadata": {},
   "source": [
    "## 10보다 작거나 90보다 큰수 출력하기"
   ]
  },
  {
   "cell_type": "code",
   "execution_count": null,
   "id": "36807a5e-9197-42bf-ad1a-09c508741139",
   "metadata": {
    "tags": []
   },
   "outputs": [],
   "source": [
    "# 10보다 작거나 90보다 큰 수,\n",
    "(num < 10)\n",
    "(num > 15)\n",
    "((num < 10) | (num > 80))"
   ]
  },
  {
   "cell_type": "code",
   "execution_count": null,
   "id": "7ee981b0-01b4-4e2e-8cde-55088ba7004e",
   "metadata": {},
   "outputs": [],
   "source": [
    "(num > 80)\n",
    "num[((num < 10) | (num > 80))]"
   ]
  },
  {
   "cell_type": "markdown",
   "id": "a00aeaad-1480-47a3-8eb8-c11320ae516d",
   "metadata": {},
   "source": [
    "## fancy indexing(filtering)\n",
    "```\n",
    "넘파이 배열에 배열로 인덱싱하면 인덱스 번호로 인식한다.\n",
    "\n",
    "넘파이배열1[넘파이배열2]\n",
    "넘파이배열2 : 인덱스 역할 (only 정수형)\n",
    "```"
   ]
  },
  {
   "cell_type": "code",
   "execution_count": null,
   "id": "ee627512-8edd-40cb-820a-968d7cceef93",
   "metadata": {
    "tags": []
   },
   "outputs": [],
   "source": [
    "n = np.random.randint(1,100,30)\n",
    "i = np.array([0, 2, 3, 10, 20])\n",
    "n, n[i]"
   ]
  },
  {
   "cell_type": "markdown",
   "id": "574e8e03-abd0-44fa-8523-d6676dd720ae",
   "metadata": {},
   "source": [
    "## np.where()를 이용한 필터링\n",
    "* np.where(조건식) : 조건식 만족하는 인덱스 반환\n",
    "* np.where(조건식, T, F) : 조건식 만족하면 T값, 아니면F값\n",
    "* 배열[np.where(조건식)] : 조건식 만족하는 실제 배열값"
   ]
  },
  {
   "cell_type": "code",
   "execution_count": null,
   "id": "a439a419-5253-4e60-94b1-87e8a48a7294",
   "metadata": {
    "tags": []
   },
   "outputs": [],
   "source": [
    "np.where?"
   ]
  },
  {
   "cell_type": "code",
   "execution_count": null,
   "id": "42a8d73b-4aab-45f0-957c-41083ab38fb0",
   "metadata": {
    "tags": []
   },
   "outputs": [],
   "source": [
    "a = np.arange(10)\n",
    "a, np.where(a < 5, a, 10*a)\n",
    "# a가 5보다 작으면 a를, 아니면 10을 곱하여 출력"
   ]
  },
  {
   "cell_type": "code",
   "execution_count": null,
   "id": "81ed48c1-5ec4-4ed9-9338-403338fa3f96",
   "metadata": {
    "tags": []
   },
   "outputs": [],
   "source": [
    "b = np.arange(20, 31)\n",
    "b, np.where(b<25) # 조건을 하나만 주면 인덱스를 반환함"
   ]
  },
  {
   "cell_type": "code",
   "execution_count": null,
   "id": "3d8fe2b6-f1ff-4b87-958a-d616aeef30fd",
   "metadata": {},
   "outputs": [],
   "source": []
  },
  {
   "cell_type": "code",
   "execution_count": null,
   "id": "acfb8bf3-cd10-4e9f-903c-96d49db51842",
   "metadata": {},
   "outputs": [],
   "source": []
  },
  {
   "cell_type": "code",
   "execution_count": null,
   "id": "6026478c-33be-4710-9306-d84bf301cb37",
   "metadata": {},
   "outputs": [],
   "source": []
  },
  {
   "cell_type": "code",
   "execution_count": 3,
   "id": "eaaf6810-645c-4970-aa75-f9be8f784880",
   "metadata": {},
   "outputs": [
    {
     "data": {
      "text/html": [
       "<div>\n",
       "<style scoped>\n",
       "    .dataframe tbody tr th:only-of-type {\n",
       "        vertical-align: middle;\n",
       "    }\n",
       "\n",
       "    .dataframe tbody tr th {\n",
       "        vertical-align: top;\n",
       "    }\n",
       "\n",
       "    .dataframe thead th {\n",
       "        text-align: right;\n",
       "    }\n",
       "</style>\n",
       "<table border=\"1\" class=\"dataframe\">\n",
       "  <thead>\n",
       "    <tr style=\"text-align: right;\">\n",
       "      <th></th>\n",
       "      <th>a</th>\n",
       "      <th>b</th>\n",
       "      <th>c</th>\n",
       "      <th>d</th>\n",
       "    </tr>\n",
       "  </thead>\n",
       "  <tbody>\n",
       "    <tr>\n",
       "      <th>0</th>\n",
       "      <td>1</td>\n",
       "      <td>2</td>\n",
       "      <td>3</td>\n",
       "      <td>4</td>\n",
       "    </tr>\n",
       "    <tr>\n",
       "      <th>1</th>\n",
       "      <td>5</td>\n",
       "      <td>6</td>\n",
       "      <td>7</td>\n",
       "      <td>8</td>\n",
       "    </tr>\n",
       "    <tr>\n",
       "      <th>2</th>\n",
       "      <td>9</td>\n",
       "      <td>10</td>\n",
       "      <td>11</td>\n",
       "      <td>12</td>\n",
       "    </tr>\n",
       "  </tbody>\n",
       "</table>\n",
       "</div>"
      ],
      "text/plain": [
       "   a   b   c   d\n",
       "0  1   2   3   4\n",
       "1  5   6   7   8\n",
       "2  9  10  11  12"
      ]
     },
     "execution_count": 3,
     "metadata": {},
     "output_type": "execute_result"
    }
   ],
   "source": [
    "import pandas as pd\n",
    "\n",
    "a=pd.DataFrame([[1,2,3,4],\n",
    "                [5,6,7,8],\n",
    "                [9,10,11,12]], columns=[\"a\",\"b\",\"c\",\"d\"])\n",
    "a\n"
   ]
  },
  {
   "cell_type": "code",
   "execution_count": null,
   "id": "fa0a426d-2272-4c53-9a38-190a1cb617b4",
   "metadata": {},
   "outputs": [],
   "source": [
    "pd.DataFrame({\"a\":[1,5,9],\"b\":[2,6,10],\"c\":[3,7,11],\"d\":[4,8,12]})"
   ]
  },
  {
   "cell_type": "code",
   "execution_count": 5,
   "id": "992563d6-1044-4ca4-a686-d615b97538ef",
   "metadata": {},
   "outputs": [
    {
     "data": {
      "text/html": [
       "<div>\n",
       "<style scoped>\n",
       "    .dataframe tbody tr th:only-of-type {\n",
       "        vertical-align: middle;\n",
       "    }\n",
       "\n",
       "    .dataframe tbody tr th {\n",
       "        vertical-align: top;\n",
       "    }\n",
       "\n",
       "    .dataframe thead th {\n",
       "        text-align: right;\n",
       "    }\n",
       "</style>\n",
       "<table border=\"1\" class=\"dataframe\">\n",
       "  <thead>\n",
       "    <tr style=\"text-align: right;\">\n",
       "      <th></th>\n",
       "      <th>a</th>\n",
       "      <th>b</th>\n",
       "      <th>c</th>\n",
       "      <th>d</th>\n",
       "    </tr>\n",
       "  </thead>\n",
       "  <tbody>\n",
       "    <tr>\n",
       "      <th>0</th>\n",
       "      <td>1</td>\n",
       "      <td>2</td>\n",
       "      <td>3</td>\n",
       "      <td>4</td>\n",
       "    </tr>\n",
       "    <tr>\n",
       "      <th>1</th>\n",
       "      <td>5</td>\n",
       "      <td>6</td>\n",
       "      <td>7</td>\n",
       "      <td>8</td>\n",
       "    </tr>\n",
       "    <tr>\n",
       "      <th>2</th>\n",
       "      <td>9</td>\n",
       "      <td>10</td>\n",
       "      <td>11</td>\n",
       "      <td>12</td>\n",
       "    </tr>\n",
       "  </tbody>\n",
       "</table>\n",
       "</div>"
      ],
      "text/plain": [
       "   a   b   c   d\n",
       "0  1   2   3   4\n",
       "1  5   6   7   8\n",
       "2  9  10  11  12"
      ]
     },
     "execution_count": 5,
     "metadata": {},
     "output_type": "execute_result"
    }
   ],
   "source": [
    "pd.DataFrame([{\"a\":1,\"b\":2,\"c\":3,\"d\":4},\n",
    "              {\"a\":5,\"b\":6,\"c\":7,\"d\":8},\n",
    "              {\"a\":9,\"b\":10,\"c\":11,\"d\":12}])"
   ]
  },
  {
   "cell_type": "code",
   "execution_count": null,
   "id": "dfcec703-ffcb-476d-b403-0e4d6e56a391",
   "metadata": {},
   "outputs": [],
   "source": [
    "zip([1,5,9],[2,6,10])"
   ]
  },
  {
   "cell_type": "code",
   "execution_count": null,
   "id": "0320f92a-344a-4ec4-9ec9-cbcdda192231",
   "metadata": {},
   "outputs": [],
   "source": [
    "for i in zip([1,5,9],[2,6,10],[3,7,11],[4,8,12]):\n",
    "    print(i)"
   ]
  },
  {
   "cell_type": "code",
   "execution_count": null,
   "id": "79348817-052e-4b09-b17b-a7e8c691aaa5",
   "metadata": {},
   "outputs": [],
   "source": []
  }
 ],
 "metadata": {
  "kernelspec": {
   "display_name": "Python 3 (ipykernel)",
   "language": "python",
   "name": "python3"
  },
  "language_info": {
   "codemirror_mode": {
    "name": "ipython",
    "version": 3
   },
   "file_extension": ".py",
   "mimetype": "text/x-python",
   "name": "python",
   "nbconvert_exporter": "python",
   "pygments_lexer": "ipython3",
   "version": "3.12.4"
  }
 },
 "nbformat": 4,
 "nbformat_minor": 5
}
