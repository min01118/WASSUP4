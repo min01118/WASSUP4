{
 "cells": [
  {
   "cell_type": "code",
   "execution_count": 42,
   "id": "38028b12-17b6-4380-a5da-8d6ae7b0de95",
   "metadata": {},
   "outputs": [
    {
     "name": "stdout",
     "output_type": "stream",
     "text": [
      "서울    9904312\n",
      "부산    3448737\n",
      "인천    2890451\n",
      "대구    2466052\n",
      "Name: a, dtype: int64\n",
      "서울    904312\n",
      "부산    448737\n",
      "인천    890451\n",
      "대구    466052\n",
      "Name: b, dtype: int64\n"
     ]
    },
    {
     "data": {
      "text/plain": [
       "서울    9904312\n",
       "부산     904312\n",
       "인천    9904312\n",
       "대구     904312\n",
       "Name: 0, dtype: int64"
      ]
     },
     "execution_count": 42,
     "metadata": {},
     "output_type": "execute_result"
    }
   ],
   "source": [
    "import numpy as np\n",
    "import pandas as pd\n",
    "\n",
    "s = pd.DataFrame({\n",
    "                 \"a\":[9904312, 3448737, 2890451, 2466052],\n",
    "                 \"b\":[904312, 448737, 890451, 466052]\n",
    "                },\n",
    "              index=[\"서울\", \"부산\", \"인천\", \"대구\"])\n",
    "print(s.a)\n",
    "print(s.b)\n",
    "\n",
    "s = pd.DataFrame([\n",
    "                 [9904312, 3448737, 2890451, 2466052],\n",
    "                 [904312, 448737, 890451, 466052],\n",
    "                 [9904312, 3448737, 2890451, 2466052],\n",
    "                 [904312, 448737, 890451, 466052]\n",
    "                    ],\n",
    "              index=[\"서울\", \"부산\", \"인천\", \"대구\"])\n",
    "s[0]"
   ]
  },
  {
   "cell_type": "code",
   "execution_count": 7,
   "id": "c1f75f40-72b7-4d78-9c40-83399cf05857",
   "metadata": {},
   "outputs": [
    {
     "data": {
      "text/plain": [
       "서울    9904312\n",
       "부산    3448737\n",
       "인천    2890451\n",
       "대구    2466052\n",
       "dtype: int64"
      ]
     },
     "execution_count": 7,
     "metadata": {},
     "output_type": "execute_result"
    }
   ],
   "source": []
  },
  {
   "cell_type": "code",
   "execution_count": null,
   "id": "03ec69b8-6157-4ad1-9081-21ace72388d7",
   "metadata": {},
   "outputs": [],
   "source": []
  }
 ],
 "metadata": {
  "kernelspec": {
   "display_name": "Python 3 (ipykernel)",
   "language": "python",
   "name": "python3"
  },
  "language_info": {
   "codemirror_mode": {
    "name": "ipython",
    "version": 3
   },
   "file_extension": ".py",
   "mimetype": "text/x-python",
   "name": "python",
   "nbconvert_exporter": "python",
   "pygments_lexer": "ipython3",
   "version": "3.12.4"
  }
 },
 "nbformat": 4,
 "nbformat_minor": 5
}
