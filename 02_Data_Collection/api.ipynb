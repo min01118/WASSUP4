{
 "cells": [
  {
   "cell_type": "code",
   "execution_count": null,
   "id": "f07f38e5-8ecd-48f5-8fc9-686439314a6c",
   "metadata": {},
   "outputs": [],
   "source": [
    "url = \"http://www.krei.re.kr:18181/chart/main_chart/index/kind/W/sdate/2019-01-01/edate/2019-12-31\""
   ]
  },
  {
   "cell_type": "code",
   "execution_count": null,
   "id": "02712309-f903-4905-a3b1-11cd1093445e",
   "metadata": {},
   "outputs": [],
   "source": [
    "import requests, json, pandas as pd"
   ]
  },
  {
   "cell_type": "code",
   "execution_count": null,
   "id": "78b199f4-5b4c-448c-9516-6e08f7cf0b28",
   "metadata": {},
   "outputs": [],
   "source": [
    "URL = 'http://www.krei.re.kr:18181/chart/main_chart/index/kind/W/sdate/2019-01-01/edate/2019-12-31'\n",
    "resp = requests.get(URL)\n",
    "resp "
   ]
  },
  {
   "cell_type": "code",
   "execution_count": null,
   "id": "839ed16b-df97-4120-a923-b490a2c97f82",
   "metadata": {},
   "outputs": [],
   "source": [
    "\n",
    "\"[{'a':'b'},{'c':'d'}]\"\n",
    "[{'a':'b'},{'c':'d'}]\n",
    "data2 = resp.json()\n",
    "\n",
    "print(type(data2), len(data2))\n",
    "#data2"
   ]
  },
  {
   "cell_type": "code",
   "execution_count": null,
   "id": "2438d233-b162-4a11-a3e9-4afcc0e59b58",
   "metadata": {},
   "outputs": [],
   "source": [
    "data = resp.text\n",
    "data[0]\n",
    "print(type(data), len(data))\n",
    "#data"
   ]
  },
  {
   "cell_type": "code",
   "execution_count": null,
   "id": "b7f841a0-afb3-4854-9665-c4e838d278e6",
   "metadata": {},
   "outputs": [],
   "source": [
    "data2[0]['id']\n",
    "\n"
   ]
  },
  {
   "cell_type": "code",
   "execution_count": null,
   "id": "312a744f-5e40-4e27-aee1-ade44a5bf2f4",
   "metadata": {},
   "outputs": [],
   "source": [
    "id_, date, symbol, open_, close= [], [], [], [], []\n",
    "for item in data2 :\n",
    "    id_.append(item['id'])\n",
    "    date.append(item['date'])\n",
    "    symbol.append(item['symbol'])\n",
    "    open_.append(item['open'])\n",
    "    close.append(item['close'])\n"
   ]
  },
  {
   "cell_type": "code",
   "execution_count": null,
   "id": "0fd36e55-9b7d-409b-a160-805cbe3ee04d",
   "metadata": {},
   "outputs": [],
   "source": [
    "df = pd.DataFrame({\n",
    "    'id' : id_,\n",
    "    'date' : date,\n",
    "    'symbol' :symbol,\n",
    "    'open' : open_,\n",
    "    'close' : close,\n",
    "})"
   ]
  },
  {
   "cell_type": "code",
   "execution_count": null,
   "id": "b2de5e80-cd9e-4f37-b82f-c13b81d16381",
   "metadata": {},
   "outputs": [],
   "source": [
    "df"
   ]
  },
  {
   "cell_type": "code",
   "execution_count": 364,
   "id": "0fc8a488-306a-4de9-ab3f-a3dfed00ce88",
   "metadata": {},
   "outputs": [
    {
     "name": "stdout",
     "output_type": "stream",
     "text": [
      "==================================================\n"
     ]
    }
   ],
   "source": [
    "\n",
    "\n",
    "import requests, pandas as pd\n",
    "from bs4 import BeautifulSoup\n",
    "\n",
    "def default_text(node, text):\n",
    "    if node != None:\n",
    "        return node.text.strip()\n",
    "    else:\n",
    "        return text\n",
    "\n",
    "date = '201512'\n",
    "region_code = '11110'\n",
    "apikey = 'QjITnZtxSg5%2Bhzh%2BWR8hYLMstCDRuf1REcb5E59648Wy77%2B7z8aQBHgv95ylOhyoP31mFZWlyiqd2TrMu7HTuw%3D%3D'\n",
    "url = f'http://openapi.molit.go.kr/OpenAPI_ToolInstallPackage/service/rest/RTMSOBJSvc/getRTMSDataSvcAptTradeDev?LAWD_CD={region_code}&DEAL_YMD={date}&serviceKey={apikey}'\n",
    "\n",
    "res = requests.get(url)\n",
    "textsrc = res.text\n",
    "\n",
    "soup = BeautifulSoup(textsrc, 'xml')\n",
    "items = soup.select('response > body > items > item') \n",
    "\n",
    "item_list = ['거래금액', '건축년도', '년', '법정동', '아파트', '월', '일', '전용면적', '지번', '지역코드', '층']\n",
    "data_list = []\n",
    "\n",
    "for item in items:\n",
    "    data_list.append([ default_text(item.select_one(tag), '') for tag in item_list]) # value를 행기준으로 맞춤, 110 X 11\n",
    "#print(data_list)\n",
    "\n",
    "df = pd.DataFrame(data_list, columns=item_list)\n",
    "print('='*50)\n",
    "df.to_csv('./sample/아파트매매실거래자료수집_.csv', index=True)"
   ]
  },
  {
   "cell_type": "code",
   "execution_count": null,
   "id": "91e4d5c1-03b8-41a1-ada7-a0c813d7e057",
   "metadata": {},
   "outputs": [],
   "source": [
    "import requests\n",
    "from bs4 import BeautifulSoup\n",
    "\n",
    "# http://openapi.molit.go.kr:8081/OpenAPI_ToolInstallPackage/service/rest/RTMSOBJSvc/getRTMSDataSvcAptTrade?LAWD_CD=11110&DEAL_YMD=201512&serviceKey=서비스키\n",
    "date = '201512'\n",
    "region_code = '11110'\n",
    "key = \"QjITnZtxSg5%2Bhzh%2BWR8hYLMstCDRuf1REcb5E59648Wy77%2B7z8aQBHgv95ylOhyoP31mFZWlyiqd2TrMu7HTuw%3D%3D\"\n",
    "\n",
    "url = f'http://openapi.molit.go.kr:8081/OpenAPI_ToolInstallPackage/service/rest/RTMSOBJSvc/getRTMSDataSvcAptTrade?LAWD_CD={region_code}&DEAL_YMD={date}&serviceKey={key}'\n",
    "\n",
    "resp = requests.get(url)\n",
    "textsrc= resp.text\n",
    "textsrc[:600]\n",
    "#'<reponse><header></header><body><items><item></item><item></item></items></body></response>'\n",
    "\n",
    "soup = BeautifulSoup(textsrc, 'xml')\n",
    "soup\n",
    "items = soup.select('response items item')\n",
    "items\n",
    "\n",
    "a = items[0].select('거래금액')\n",
    "print(type(a), a)\n",
    "\n",
    "a = items[0].select_one('거래금액')\n",
    "print(type(a), a)\n",
    "a = items[0].find('거래금액')\n",
    "print(type(a), a)\n",
    "items[0].select_one('거래금액').text.strip()\n",
    "\n",
    "for item in items:\n",
    "    print(item.select_one('거래금액').text.strip(),\n",
    "          item.select_one('건축년도').text,\n",
    "          item.select_one('년').text,\n",
    "          item.select_one('법정동').text.strip(),\n",
    "          item.select_one('아파트').text,\n",
    "          item.select_one('월').text,\n",
    "          item.select_one('일').text,\n",
    "          item.select_one('전용면적').text,\n",
    "          item.select_one('지번').text,\n",
    "          item.select_one('지역코드').text,\n",
    "          item.select_one('층').text)\n",
    "\n",
    "# 반복되는 코드 정리\n",
    "item_list = ['거래금액','건축년도', '년', '법정동', '아파트', '월', '일', '전용면적', '지번', '지역코드', '층']\n",
    "print(items[0].select_one(\"kkaksjd\"))\n",
    "for item in items:\n",
    "    for tag in item_list:\n",
    "        print(item.select_one(tag).text.strip(), end=' ')\n",
    "    print()\n",
    "\n",
    "def default_text(node, text):\n",
    "    if node != None:\n",
    "        return node.text.strip()\n",
    "    else:\n",
    "        return text\n",
    "\n",
    "\n",
    "item_list = ['거래금액', '건축년도', '년', '법정동', '아파트', '월', '일', '전용면적', '지번', '지역코드', '층']\n",
    "for item in items:\n",
    "    for tag in item_list:\n",
    "        print(default_text(item.select_one(tag), ''), end=' ')\n",
    "    print()"
   ]
  },
  {
   "cell_type": "code",
   "execution_count": null,
   "id": "7113db33-6a1d-4841-b5a3-637faee73264",
   "metadata": {},
   "outputs": [],
   "source": [
    "l = []\n",
    "for item in items:\n",
    "    print(default_text(item.select_one('거래금액'), ''),\n",
    "          default_text(item.select_one('건축년도'), ''),\n",
    "          default_text(item.select_one('년'), ''),\n",
    "          default_text(item.select_one('법정동'), ''),\n",
    "          default_text(item.select_one('아파트'), ''),\n",
    "          default_text(item.select_one('월'), ''),\n",
    "          default_text(item.select_one('일'), ''),\n",
    "          default_text(item.select_one('전용면적'), ''),\n",
    "          default_text(item.select_one('지번'), ''),\n",
    "          default_text(item.select_one('지번'), ''),\n",
    "          default_text(item.select_one('지역코드'), ''),\n",
    "          default_text(item.select_one('층'), ''))\n",
    "    l.append([default_text(item.select_one('거래금액'), ''),\n",
    "          default_text(item.select_one('건축년도'), ''),\n",
    "          default_text(item.select_one('년'), ''),\n",
    "          default_text(item.select_one('법정동'), ''),\n",
    "          default_text(item.select_one('아파트'), ''),\n",
    "          default_text(item.select_one('월'), ''),\n",
    "          default_text(item.select_one('일'), ''),\n",
    "          default_text(item.select_one('전용면적'), ''),\n",
    "          default_text(item.select_one('지번'), ''),\n",
    "          default_text(item.select_one('지번'), ''),\n",
    "          default_text(item.select_one('지역코드'), ''),\n",
    "          default_text(item.select_one('층'), '')])"
   ]
  },
  {
   "cell_type": "code",
   "execution_count": 356,
   "id": "a6234df3-edb7-4fbc-ae3a-8732cd95bcb3",
   "metadata": {},
   "outputs": [
    {
     "name": "stdout",
     "output_type": "stream",
     "text": [
      "2023-01-01 00:00:00\n",
      "2024-02-02 01:01:01\n"
     ]
    }
   ],
   "source": [
    "import datetime, dateutil\n",
    "start_datetime = datetime.datetime(2023, 1, 1)\n",
    "print(start_datetime)\n",
    "end_datetime = start_datetime + dateutil.relativedelta.relativedelta(years=1,months=1,days=1,hours=1,minutes=1,seconds=1)\n",
    "print(end_datetime) \n"
   ]
  },
  {
   "cell_type": "code",
   "execution_count": null,
   "id": "adae840b-27f3-45ca-b4b6-4ba21759fe80",
   "metadata": {},
   "outputs": [],
   "source": [
    "\n",
    "import requests, datetime, dateutil, pandas as pd\n",
    "from bs4 import BeautifulSoup\n",
    "\n",
    "def default_text(node, text):\n",
    "    if node != None:\n",
    "        return node.text.strip()\n",
    "    else:\n",
    "        return text\n",
    "    \n",
    "start_datetime = datetime.datetime(2023, 1, 1)\n",
    "\n",
    "data_list = []\n",
    "item_list = ['거래금액', '건축년도', '년', '법정동', '아파트', '월', '일', '전용면적', '지번', '지역코드', '층']\n",
    "\n",
    "while True:\n",
    "    date = start_datetime.strftime('%Y%m') #202301\n",
    "    \n",
    "    if date >= '202309':\n",
    "        break\n",
    "        \n",
    "    region_code = '11110'\n",
    "    \n",
    "    apikey = 'QjITnZtxSg5%2Bhzh%2BWR8hYLMstCDRuf1REcb5E59648Wy77%2B7z8aQBHgv95ylOhyoP31mFZWlyiqd2TrMu7HTuw%3D%3D'\n",
    "    url = f'http://openapi.molit.go.kr/OpenAPI_ToolInstallPackage/service/rest/RTMSOBJSvc/getRTMSDataSvcAptTradeDev?LAWD_CD={region_code}&DEAL_YMD={date}&serviceKey={apikey}'\n",
    "\n",
    "    res = requests.get(url)\n",
    "    textsrc = res.text\n",
    "\n",
    "    soup = BeautifulSoup(textsrc, 'xml')\n",
    "    items = soup.select('response > body > items > item') \n",
    "    \n",
    "    print('='*10, date, '='*10)\n",
    "    \n",
    "    for item in items:\n",
    "        data_list.append([ default_text(item.select_one(i), '') for i in item_list]) # value를 행기준으로 맞춤, 110 X 11\n",
    "        print(data_list)\n",
    "    \n",
    "    start_datetime = start_datetime + dateutil.relativedelta.relativedelta(months=1)  # += 1달 \n",
    "\n",
    "df = pd.DataFrame(data_list, columns=item_list)\n",
    "df.to_csv('output/아파트매매 실거래자료.csv', index=False, encoding='cp949') "
   ]
  },
  {
   "cell_type": "code",
   "execution_count": null,
   "id": "f5101edf-e56b-4925-9c32-fc2615003bfd",
   "metadata": {},
   "outputs": [],
   "source": [
    "import requests, datetime, dateutil, pandas as pd\n",
    "from bs4 import BeautifulSoup\n",
    "\n",
    "def default_text(node, text):\n",
    "    if node != None:\n",
    "        return node.text.strip()\n",
    "    else:\n",
    "        return text\n",
    "\n",
    "item_list = ['거래금액', '건축년도', '년', '법정동', '아파트', '월', '일', '전용면적', '지번', '지역코드', '층']\n",
    "data_list = []        \n",
    "lawd_cds = [11140, 11170, 11200]\n",
    "# lawd_cds = [11110, 11140, 11170, 11200, 11215, 11230, 11260, 11290, 11305,\n",
    "#        11320, 11350, 11380, 11410, 11440, 11470, 11500, 11530, 11545,\n",
    "#        11560, 11590, 11620, 11650, 11680, 11710, 11740]\n",
    "\n",
    "start_datetime = datetime.datetime(2023, 1, 1)\n",
    "\n",
    "while True:\n",
    "    apikey = 'QjITnZtxSg5%2Bhzh%2BWR8hYLMstCDRuf1REcb5E59648Wy77%2B7z8aQBHgv95ylOhyoP31mFZWlyiqd2TrMu7HTuw%3D%3D'    \n",
    "    \n",
    "    date = start_datetime.strftime('%Y%m') #202301\n",
    "    if date >= '202309':\n",
    "        break\n",
    "        \n",
    "    for lawd_cd in lawd_cds:\n",
    "        print('='*5, date, lawd_cd, '='*5)\n",
    "        url = f'http://openapi.molit.go.kr/OpenAPI_ToolInstallPackage/service/rest/RTMSOBJSvc/getRTMSDataSvcAptTradeDev?LAWD_CD={lawd_cd}&DEAL_YMD={date}&serviceKey={apikey}'\n",
    "\n",
    "        res = requests.get(url)\n",
    "        textsrc = res.text\n",
    "\n",
    "        soup = BeautifulSoup(textsrc, 'xml')\n",
    "        items = soup.select('response > body > items > item') \n",
    "           \n",
    "        for item in items:\n",
    "            data_list.append([ default_text(item.select_one(i), '') for i in item_list]) # value를 행기준으로 맞춤, 110 X 11\n",
    "        print(data_list)\n",
    "        \n",
    "    start_datetime = start_datetime + dateutil.relativedelta.relativedelta(months=1) #  += 1달\n",
    "\n",
    "df = pd.DataFrame(data_list, columns=item_list)\n",
    "df.to_csv('output/아파트매매 실거래자료.csv', index=False, encoding='cp949')\n",
    "print('저장 완료')"
   ]
  },
  {
   "cell_type": "code",
   "execution_count": 388,
   "id": "45c79a53-3acd-4798-9a91-59c8a68261ad",
   "metadata": {},
   "outputs": [
    {
     "data": {
      "text/plain": [
       "<Response [200]>"
      ]
     },
     "execution_count": 388,
     "metadata": {},
     "output_type": "execute_result"
    }
   ],
   "source": [
    "import requests, time, os, json\n",
    "from html import unescape\n",
    "# input\n",
    "client_id = 've7cfMbnwwUb1RzCEHj4'\n",
    "client_secret = 'i8GhJ9BiFa'\n",
    "\n",
    "queries = ['전주 여행', '경주 여행']\n",
    "goal_page = 5\n",
    "# setting\n",
    "user_agent = \"Mozilla/5.0 (Windows NT 10.0; WOW64) \" + \\\n",
    "             \"AppleWebKit/537.36 (KHTML, like Gecko) \" + \\\n",
    "             \"Chrome/51.0.2704.103 Safari/537.36\"\n",
    "\n",
    "headers = {\"User-Agent\": user_agent,\n",
    "        \"X-Naver-Client-Id\": client_id,\n",
    "        \"X-Naver-Client-Secret\": client_secret}\n",
    "file_name = 'output/naver_kin.txt'\n",
    "\n",
    "with open(file_name, 'w', encoding='utf-8') as f :\n",
    "    f.write('query\\tno\\ttitle\\tlink\\tdescription\\ttotal_text\\n')\n",
    "url = \"https://openapi.naver.com/v1/search/kin.json?display=100&query=\" + queries[0] + \"&start=\" + str(1)\n",
    "response = requests.get(url, headers=headers)\n",
    "response"
   ]
  },
  {
   "cell_type": "code",
   "execution_count": null,
   "id": "d8c04bb2-3bdf-4e82-aab7-44422e23f33c",
   "metadata": {},
   "outputs": [],
   "source": [
    "#response.text"
   ]
  },
  {
   "cell_type": "code",
   "execution_count": null,
   "id": "99d38d9c-9952-46be-a343-bc5ae2213a47",
   "metadata": {},
   "outputs": [],
   "source": [
    "#json.loads(response.text)"
   ]
  },
  {
   "cell_type": "code",
   "execution_count": 384,
   "id": "15d52ebd-9792-47be-a888-01d44b779ac4",
   "metadata": {},
   "outputs": [
    {
     "data": {
      "text/plain": [
       "{'title': '<b>전주</b>펜션 한옥으로 된곳이요!',\n",
       " 'link': 'https://kin.naver.com/qna/detail.naver?d1id=9&dirId=9011403&docId=474260729&qb=7KCE7KO8IOyXrO2WiQ==&enc=utf8&section=kin.qna&rank=1&search_sort=0&spq=0',\n",
       " 'description': '이번에 남자친구랑 같이 2박3일 <b>전주여행</b> 가기로해서 얼른 전주펜션 알아봐야하는데 한옥마을 근처나 한옥느낌 나는 전주펜션 쪽으로 갈만한데 없을까요?? 내부는 정감있는 분위기면 다 좋을 것 같아요ㅋㅋ 빠른답변 꼭 부탁드랴용ㅠ... '}"
      ]
     },
     "execution_count": 384,
     "metadata": {},
     "output_type": "execute_result"
    }
   ],
   "source": [
    "elements = json.loads(response.text)['items']\n",
    "elements[0]"
   ]
  },
  {
   "cell_type": "code",
   "execution_count": 386,
   "id": "d0b68885-8edd-4a02-8bdb-2e1ecf6736d0",
   "metadata": {},
   "outputs": [],
   "source": [
    "def get_list(query, page):\n",
    "    print('='*5, query, page, '='*5)\n",
    "    url = \"https://openapi.naver.com/v1/search/kin.json?display=100&query=\" + query + \"&start=\" + str(page+1)\n",
    "    response = requests.get(url, headers=headers)\n",
    "    elements = json.loads(response.text)['items']\n",
    "\n",
    "    for i, elm in enumerate(elements):\n",
    "        title = elm['title'].replace(\"<b>\", \"\").replace(\"</b>\", \"\")\n",
    "        title = unescape(title) # escape된 문자를 unescape문자로 변경\n",
    "        link = elm['link']\n",
    "        description = unescape(elm['description'].replace(\"<b>\", \"\").replace(\"</b>\", \"\"))\n",
    "        # description = unescape(description)\n",
    "        \n",
    "        print([query, (page*100)+(i+1), title, link, description, title+\" \"+description])\n",
    "\n",
    "        with open(file_name, 'a', encoding='utf-8') as f: # overwrite 안되도록 add할 것\n",
    "            f.write( f'{query}\\t{(page*100)+(i+1)}\\t{title}\\t{link}\\t{description}\\t{title+\" \"+description}\\n')\n",
    "\n",
    "    return"
   ]
  },
  {
   "cell_type": "code",
   "execution_count": null,
   "id": "27691e0f-e29f-4fbb-ad68-0a83de727e5d",
   "metadata": {},
   "outputs": [],
   "source": [
    "for query in queries:\n",
    "    for page in range(goal_page):\n",
    "        kin_list = get_list(query, page)\n",
    "        time.sleep(0.5)"
   ]
  },
  {
   "cell_type": "code",
   "execution_count": 390,
   "id": "178268de-e4b8-4f19-9aa3-8de2ed1c296c",
   "metadata": {},
   "outputs": [
    {
     "data": {
      "text/plain": [
       "range(0, 5)"
      ]
     },
     "execution_count": 390,
     "metadata": {},
     "output_type": "execute_result"
    }
   ],
   "source": [
    "range(5)"
   ]
  },
  {
   "cell_type": "code",
   "execution_count": 392,
   "id": "9a434b45-7008-4d20-ae33-ee736b451fad",
   "metadata": {},
   "outputs": [
    {
     "data": {
      "text/plain": [
       "[0, 1, 2, 3, 4]"
      ]
     },
     "execution_count": 392,
     "metadata": {},
     "output_type": "execute_result"
    }
   ],
   "source": [
    "list(range(5))"
   ]
  },
  {
   "cell_type": "code",
   "execution_count": null,
   "id": "a586fac6-8983-4b71-b3f9-163c1a705519",
   "metadata": {},
   "outputs": [],
   "source": []
  }
 ],
 "metadata": {
  "kernelspec": {
   "display_name": "Python 3 (ipykernel)",
   "language": "python",
   "name": "python3"
  },
  "language_info": {
   "codemirror_mode": {
    "name": "ipython",
    "version": 3
   },
   "file_extension": ".py",
   "mimetype": "text/x-python",
   "name": "python",
   "nbconvert_exporter": "python",
   "pygments_lexer": "ipython3",
   "version": "3.12.4"
  }
 },
 "nbformat": 4,
 "nbformat_minor": 5
}
