{
 "cells": [
  {
   "cell_type": "code",
   "execution_count": 25,
   "id": "6eba035d-785e-4aaa-bcff-b09e184ed90e",
   "metadata": {},
   "outputs": [],
   "source": [
    "from selenium import webdriver\n",
    "from selenium.webdriver.common.by import By\n",
    "from selenium.webdriver.chrome.options import Options\n",
    "import numpy as np\n",
    "import math, time\n",
    "#import tempfile\n",
    "#temp_dir = tempfile.mkdtemp()\n",
    "\n",
    "options = Options()\n",
    "options.add_argument('--window-size=700,1000')\n",
    "options.add_argument('--window-position=-7,0')\n",
    "#options.add_argument(f\"--disk-cache-dir={temp_dir}\")\n",
    "options.add_experimental_option(\"detach\", True)"
   ]
  },
  {
   "cell_type": "code",
   "execution_count": 29,
   "id": "efb9359c-23bb-4568-8619-711504a05ff4",
   "metadata": {},
   "outputs": [
    {
     "name": "stdin",
     "output_type": "stream",
     "text": [
      "검색어를 입력하세요. 제주도\n"
     ]
    }
   ],
   "source": [
    "search = input('검색어를 입력하세요.')\n",
    "\n",
    "\n",
    "URL = 'https://korean.visitkorea.or.kr/search/search_list.do?keyword='+search\n",
    "driver = webdriver.Chrome(options=options)\n",
    "driver.get(URL)\n",
    "#print(\"완료\")\n",
    "#time.sleep(np.random.randint(2,3))"
   ]
  },
  {
   "cell_type": "code",
   "execution_count": 37,
   "id": "3dfac82f-5d74-4e2a-855f-af250139717a",
   "metadata": {},
   "outputs": [],
   "source": [
    "# id => #\n",
    "# class => .\n",
    "# tag => \n",
    "# 바로 자식 => >\n",
    "a=driver.find_element(By.CSS_SELECTOR,\"#s_recommend > .more_view > a\")\n",
    "a.click()"
   ]
  },
  {
   "cell_type": "code",
   "execution_count": 19,
   "id": "d713aad1-17df-40ba-81bf-cdff76990ad8",
   "metadata": {},
   "outputs": [],
   "source": [
    "a = driver.find_element(By.CSS_SELECTOR,\"#s_recommend > .more_view > a\")\n",
    "a.click()"
   ]
  },
  {
   "cell_type": "code",
   "execution_count": 65,
   "id": "25dceb48-8e14-42e4-a118-d7860a32c4ed",
   "metadata": {},
   "outputs": [
    {
     "name": "stdout",
     "output_type": "stream",
     "text": [
      "제주도의 숨겨진 재미를 찾는\n",
      "<놀멍, 배우멍 제주마을체험 - 1일형 체험학습>\n",
      "\n",
      "제주도가 품은 신비의 화산 숲, 환상숲곶자왈공원\n",
      "\n",
      "제주도 조천읍 버킷리스트 여행지 작성하기\n",
      "\n",
      "김창열의 회귀 철학을 건축으로 표현한 미술관, 제주도립김창열미술관\n",
      "\n",
      "[국내 트레킹 추천]\n",
      "제주 올레길 걷기 여행,\n",
      "준비부터 코스 선택까지 꿀팁 총정리!\n",
      "\n",
      "4월 제주도 가볼 만한, 가파도 청보리 축제\n",
      "\n",
      "[제주도민추천 '갓성비' 제주여행 2탄]\n",
      "뚜벅이 여행자를 위한 서귀포 일일여행\n",
      "\n",
      "제주도민이 알려주는 숨겨진 제주도 피서명소 4종 세트 : 강정천, 쌍계암 계곡, 도리빨, 판포포구\n",
      "\n",
      "제주도 유채꽃 명소 추천, 봄에 떠나는 인생샷 여행\n",
      "\n",
      "새하얀 눈으로 덮인 제주도 설경 명소 4\n",
      "\n"
     ]
    }
   ],
   "source": [
    "b = driver.find_elements(By.XPATH,\"//*[@id='search_result']/ul/li[*]/div[1]/div[1]/a\")\n",
    "for i in b :\n",
    "    print(i.text)\n",
    "    print(\"\")"
   ]
  },
  {
   "cell_type": "code",
   "execution_count": 229,
   "id": "96e84136-30d3-4dea-ac3b-154d83d2379f",
   "metadata": {},
   "outputs": [
    {
     "name": "stdout",
     "output_type": "stream",
     "text": [
      "1 제주도의 숨겨진 재미를 찾는\n",
      "<놀멍, 배우멍 제주마을체험 - 1일형 체험학습>\n",
      "2 제주도가 품은 신비의 화산 숲, 환상숲곶자왈공원\n",
      "3 제주도 조천읍 버킷리스트 여행지 작성하기\n",
      "4 김창열의 회귀 철학을 건축으로 표현한 미술관, 제주도립김창열미술관\n",
      "5 [국내 트레킹 추천]\n",
      "제주 올레길 걷기 여행,\n",
      "준비부터 코스 선택까지 꿀팁 총정리!\n",
      "6 4월 제주도 가볼 만한, 가파도 청보리 축제\n",
      "7 [제주도민추천 '갓성비' 제주여행 2탄]\n",
      "뚜벅이 여행자를 위한 서귀포 일일여행\n",
      "8 제주도민이 알려주는 숨겨진 제주도 피서명소 4종 세트 : 강정천, 쌍계암 계곡, 도리빨, 판포포구\n",
      "9 제주도 유채꽃 명소 추천, 봄에 떠나는 인생샷 여행\n",
      "10 새하얀 눈으로 덮인 제주도 설경 명소 4\n"
     ]
    }
   ],
   "source": [
    "b=driver.find_elements(By.CSS_SELECTOR,\"#search_result .common_list .tit\")\n",
    "for i,d in enumerate(b,1):\n",
    "    print(i,d.text)"
   ]
  },
  {
   "cell_type": "code",
   "execution_count": 237,
   "id": "f8af8360-c3f6-410f-97f2-9bf5489d728e",
   "metadata": {},
   "outputs": [
    {
     "name": "stdout",
     "output_type": "stream",
     "text": [
      "제주도의 숨겨진 재미를 찾는\n",
      "<놀멍, 배우멍 제주마을체험 - 1일형 체험학습>\n",
      "제주도가 품은 신비의 화산 숲, 환상숲곶자왈공원\n",
      "제주도 조천읍 버킷리스트 여행지 작성하기\n",
      "김창열의 회귀 철학을 건축으로 표현한 미술관, 제주도립김창열미술관\n",
      "[국내 트레킹 추천]\n",
      "제주 올레길 걷기 여행,\n",
      "준비부터 코스 선택까지 꿀팁 총정리!\n",
      "4월 제주도 가볼 만한, 가파도 청보리 축제\n",
      "[제주도민추천 '갓성비' 제주여행 2탄]\n",
      "뚜벅이 여행자를 위한 서귀포 일일여행\n",
      "제주도민이 알려주는 숨겨진 제주도 피서명소 4종 세트 : 강정천, 쌍계암 계곡, 도리빨, 판포포구\n",
      "제주도 유채꽃 명소 추천, 봄에 떠나는 인생샷 여행\n",
      "새하얀 눈으로 덮인 제주도 설경 명소 4\n"
     ]
    }
   ],
   "source": [
    "for j in range(len(b)):\n",
    "    print(b[j].text)"
   ]
  },
  {
   "cell_type": "code",
   "execution_count": 251,
   "id": "d2e798ff-8bff-4de0-a616-4b9935604d27",
   "metadata": {},
   "outputs": [
    {
     "name": "stdout",
     "output_type": "stream",
     "text": [
      "1 제주도의 숨겨진 재미를 찾는\n",
      "<놀멍, 배우멍 제주마을체험 - 1일형 체험학습>\n",
      "2 제주도가 품은 신비의 화산 숲, 환상숲곶자왈공원\n",
      "3 제주도 조천읍 버킷리스트 여행지 작성하기\n",
      "4 김창열의 회귀 철학을 건축으로 표현한 미술관, 제주도립김창열미술관\n",
      "5 [국내 트레킹 추천]\n",
      "제주 올레길 걷기 여행,\n",
      "준비부터 코스 선택까지 꿀팁 총정리!\n",
      "6 4월 제주도 가볼 만한, 가파도 청보리 축제\n",
      "7 [제주도민추천 '갓성비' 제주여행 2탄]\n",
      "뚜벅이 여행자를 위한 서귀포 일일여행\n",
      "8 제주도민이 알려주는 숨겨진 제주도 피서명소 4종 세트 : 강정천, 쌍계암 계곡, 도리빨, 판포포구\n",
      "9 제주도 유채꽃 명소 추천, 봄에 떠나는 인생샷 여행\n",
      "10 새하얀 눈으로 덮인 제주도 설경 명소 4\n"
     ]
    }
   ],
   "source": [
    "a = driver.find_elements(By.XPATH, '//*[@id=\"search_result\"]/ul/li[*]/div[1]/div[1]/a')\n",
    "for i, d in enumerate(a,1):\n",
    "    print(i,d.text)"
   ]
  },
  {
   "cell_type": "code",
   "execution_count": null,
   "id": "53c59404-6622-4f07-9cb6-58ff2c0fbee6",
   "metadata": {},
   "outputs": [],
   "source": []
  },
  {
   "cell_type": "code",
   "execution_count": 275,
   "id": "8e108d42-e55f-458f-9876-0479b4be4b7f",
   "metadata": {},
   "outputs": [
    {
     "name": "stdout",
     "output_type": "stream",
     "text": [
      "완료\n"
     ]
    }
   ],
   "source": [
    "page_number = driver.find_element(By.CSS_SELECTOR,\"#page_box [id='2']\")\n",
    "page_number.click()\n",
    "print(\"완료\")"
   ]
  },
  {
   "cell_type": "code",
   "execution_count": 75,
   "id": "49e69476-044f-4f57-9d45-608ff847bf62",
   "metadata": {},
   "outputs": [],
   "source": [
    "driver.find_element(By.CSS_SELECTOR,\"#page_box [id='2']\").click()"
   ]
  },
  {
   "cell_type": "code",
   "execution_count": 140,
   "id": "09ba452b-cb24-43b8-97a1-dcc48079f2e5",
   "metadata": {},
   "outputs": [
    {
     "name": "stdin",
     "output_type": "stream",
     "text": [
      "스크래핑 건수 70\n"
     ]
    },
    {
     "data": {
      "text/plain": [
       "70"
      ]
     },
     "execution_count": 140,
     "metadata": {},
     "output_type": "execute_result"
    }
   ],
   "source": [
    "cnt = int(input('스크래핑 건수'))\n",
    "cnt"
   ]
  },
  {
   "cell_type": "code",
   "execution_count": 144,
   "id": "2daf44fc-ec7a-4a7f-a428-a4e42167d706",
   "metadata": {},
   "outputs": [
    {
     "name": "stdout",
     "output_type": "stream",
     "text": [
      "7\n"
     ]
    }
   ],
   "source": [
    "page_cnt=math.ceil(cnt/10)\n",
    "print(page_cnt)"
   ]
  },
  {
   "cell_type": "code",
   "execution_count": 146,
   "id": "ea78164f-c097-4af0-aca9-833596b560e0",
   "metadata": {},
   "outputs": [
    {
     "name": "stdout",
     "output_type": "stream",
     "text": [
      "1 제주도의 숨겨진 재미를 찾는\n",
      "<놀멍, 배우멍 제주마을체험 - 1일형 체험학습>\n",
      "2 제주도가 품은 신비의 화산 숲, 환상숲곶자왈공원\n",
      "3 제주도 조천읍 버킷리스트 여행지 작성하기\n",
      "4 김창열의 회귀 철학을 건축으로 표현한 미술관, 제주도립김창열미술관\n",
      "5 [국내 트레킹 추천]\n",
      "제주 올레길 걷기 여행,\n",
      "준비부터 코스 선택까지 꿀팁 총정리!\n",
      "6 4월 제주도 가볼 만한, 가파도 청보리 축제\n",
      "7 [제주도민추천 '갓성비' 제주여행 2탄]\n",
      "뚜벅이 여행자를 위한 서귀포 일일여행\n",
      "8 제주도민이 알려주는 숨겨진 제주도 피서명소 4종 세트 : 강정천, 쌍계암 계곡, 도리빨, 판포포구\n",
      "9 제주도 유채꽃 명소 추천, 봄에 떠나는 인생샷 여행\n",
      "10 새하얀 눈으로 덮인 제주도 설경 명소 4\n",
      "11 [제주도민추천 '갓성비' 제주여행 1탄]\n",
      "제주여행물가 팩트 체크\n",
      "12 [제주도민추천 '갓성비' 제주여행 3탄]\n",
      "36개월 미만 무료입장 여행지 추천\n",
      "13 제주도민이 알려주는 동쪽 서쪽 일몰 명소 BEST 13\n",
      "14 소소한 '제주여행' 꿀팁! 〈겨울편〉\n",
      "15 사계절 자연의 아름다움을 간직한 제주시 댕댕이 추천코스\n",
      "16 제주도 '한정'여행지,\n",
      "제주도의 이색 공간을 찾아서\n",
      "17 [더가게 함께가게] 한 번에 끝내는 제주스러운 로컬 여행 코스 추천\n",
      "18 연말연시 제주도 여행 추천 코스,\n",
      "가족여행 가볼 만한 곳\n",
      "19 멈춤과 완보로 만나는 제주 생각하는정원\n",
      "20 2월 놓치지 말아야 할 제주 관광 10선\n",
      "<2월 제주, 먼저 온 봄기운에 마음 돌랑돌랑>\n",
      "21 제주의 아크로폴리스를 아시나요? - 제주 원도심 (제주목관아 중심)\n",
      "22 맛있는 음식에 여행의 기쁨은 두 배! <제주 식도락 여행>\n",
      "23 제주 여행, 은빛 물결이 일렁이는 제주도 억새 명소 모음\n",
      "24 제주 6월 걷기 좋은 길, 성안올레 1코스 원도심 투어\n",
      "25 반려견과 떠나는 여행 <제주 반려견 숙소&카페>\n",
      "26 마음까지 화사해지는\n",
      "제주도 봄꽃 여행\n",
      "27 제주도 서쪽에서 즐기는 꽉 찬 여행 코스\n",
      "28 제주의 숨겨진 구석구석을 살펴보자, 제주도 박물관 여행\n",
      "29 설렘과 여유가 가득한 제주 여행\n",
      "30 빛으로 물든 '로맨틱 제주' <제주 야간 관광지>\n",
      "31 12월 놓치지 말아야 할 제주 관광 10선\n",
      "<올해도 애쓴 당신과 나, 12월의 제주에서 쉬멍쉬멍>\n",
      "32 섬 속의 섬 그리고 가장 제주다운 섬, 제주 우도\n",
      "33 [K-로컬 미식여행 33선]\n",
      "15. 쫀득한 지방과 풍부한 육즙의 조화, 제주 흑돼지\n",
      "34 제주도 서귀포 가볼 만한 곳,\n",
      "초록이 가득한 남쪽 여행 코스\n",
      "35 [팜스테이션] 제주공항과 아름다운 해안이 인접한 워케이션 공간\n",
      "36 안심관광에 알맞은 최고의 야외 공연과 체험 - 제주 더마(馬)파크\n",
      "37 [디어먼데이 제주] 월요병이 없는 세상을 꿈꾸는 이들의 제주 워케이션\n",
      "38 [질그랭이 거점 센터] 조용한 제주 해안마을에서 즐기는 워케이션\n",
      "39 [제주] 푸른 밤의 따뜻한 꿈\n",
      "40 비움과 채움의 조화로 완성한 웰니스 라이프, 제주901\n",
      "41 1월 놓치지 말아야 할 제주 관광 10선\n",
      "<멋진 새날을 희망하며, 엄블랑한 1월 제주>\n",
      "42 환경생태가 살아있는 진짜 제주의 숲을 만나다 – 제주절물자연휴양림과 장생의 숲길\n",
      "43 [제주도 가볼 만한 곳] 섬 안에 섬을 여행하는 방법, 가파도 여행 코스\n",
      "44 제주 가볼만한 곳. 가족과 함께 제주도 구석구석, 당일치기 필수 코스 4\n",
      "45 [번아웃 트래블 EP.1] 넉살 발성에 귀가 뚫렸습니다! | 제주도여행\n",
      "46 제주 해녀들의 “호오이 호오이” 숨비소리 찾는 여행 – 제주해녀박물관과 숨비소리길\n",
      "47 엄마 아빠에겐 쉼표, 아이에겐 느낌표! 아이와 떠나는 제주 여행\n",
      "48 랜선으로 먼저 온 봄 맞이하기!\n",
      "일출로 시작하는 제주도 동쪽 코스\n",
      "49 돌이 나에게 말을 걸어오는 시적(詩的)인 곳– 제주돌문화공원\n",
      "50 [국내여행 버킷리스트 3탄] 올 여름엔 제주도 자전거 여행이다!\n",
      "51 제주의 자연과 제주인의 삶을 최단시간에 알 수 있는 곳! - 제주민속자연사박물관\n",
      "52 식재료 수확체험부터 시작하는 완벽한 쿠킹클래스 - 제주 토토아뜰리에\n",
      "53 탄소 없는 섬, 제주의 미래를 만나다_제주CFI에너지미래관\n",
      "54 자연 속에서 더욱 단단해지는 가족애, 제주돌문화공원과 교래자연휴양림\n",
      "55 [김녕 어촌체험휴양마을] 제주 김녕바다를 바라보며 업무를 즐기는 워케이션\n",
      "56 [온실(프립캠프)] 업무와 휴식, 액티비티까지 한 번에 즐기는 제주도 워케이션\n",
      "57 해변산책부터 레이싱까지, 제주 반려동물 동반여행 추천 코스\n",
      "58 2월 제주 여행, 성산일출봉 근처 인생사진 명소로 유명한 제주 동쪽 핫플레이스 4\n",
      "59 [코사이어티 빌리지] 녹음이 우거진 제주 동쪽 영감의 공간\n",
      "60 가장 먼저 맞이하는 봄날의 하이라이트 '제주 벚꽃 명소'\n",
      "61 나만 알고 싶은 제주 액티비티 ①\n",
      "원시 숲과 벵뒤못과 밀리터리 카,\n",
      "어디에도 없던 리얼 오프로드의 세계\n",
      "62 감성 넘치는 인생 사진, 가을 제주 120% 즐기기\n",
      "63 [제주] 연말을 조금 더 특별하게 제주도의 방\n",
      "64 보석 같은 섬에 예술을 덧입히다,\n",
      "제주 추자도\n",
      "65 [여행 카드] 제주도에서 만나는 스위스 마을\n",
      "66 '효리네 민박'의 색다른 변신!\n",
      "감성 넘치는 제주 로컬 소품샵 소길별하\n",
      "67 '제주 별미 여행' 흑돼지, 말고기에 각재기국과 어랭이물회도 맛보자\n",
      "68 마음에 위안을 주는 제주의 맛\n",
      "69 겨울에 만나는 초록빛 곶자왈, 제주 청수마을\n",
      "70 화산섬 제주의 아름다움을 찾아나선 꿈결 같은 산책, 사려니숲길(제주시험림)\n"
     ]
    }
   ],
   "source": [
    "no = 0\n",
    "for i in range(1,page_cnt+1):\n",
    "    b=driver.find_elements(By.CSS_SELECTOR,\"#search_result .common_list .tit\")\n",
    "    for j in b:\n",
    "        no +=1\n",
    "        if no > cnt :\n",
    "            break\n",
    "        print(no,j.text)\n",
    "    if i >= page_cnt :\n",
    "        break\n",
    "    button = driver.find_element(By.CSS_SELECTOR,f\"#page_box [id='{i+1}']\")\n",
    "    driver.execute_script(\"arguments[0].click();\",button)\n",
    "    time.sleep(2)"
   ]
  },
  {
   "cell_type": "code",
   "execution_count": null,
   "id": "d9ebefd1-85d0-426b-bedd-ad2f7e10de03",
   "metadata": {},
   "outputs": [],
   "source": []
  },
  {
   "cell_type": "code",
   "execution_count": null,
   "id": "0cda34e2-4865-46b8-a6cf-10219e1747ef",
   "metadata": {},
   "outputs": [],
   "source": []
  },
  {
   "cell_type": "code",
   "execution_count": null,
   "id": "52c3342e-fcdc-470c-82bf-6190d59369c0",
   "metadata": {},
   "outputs": [],
   "source": []
  },
  {
   "cell_type": "code",
   "execution_count": null,
   "id": "bc6d64c9-8423-47c8-99c3-4e7e9e730ac4",
   "metadata": {},
   "outputs": [],
   "source": []
  },
  {
   "cell_type": "code",
   "execution_count": null,
   "id": "845cbe4e-5cfb-4f23-a3f9-85f855381fa5",
   "metadata": {},
   "outputs": [],
   "source": []
  },
  {
   "cell_type": "code",
   "execution_count": null,
   "id": "297953b5-3a08-4488-9bc1-afe8f03c3e3b",
   "metadata": {},
   "outputs": [],
   "source": []
  },
  {
   "cell_type": "code",
   "execution_count": 490,
   "id": "b59ef0f3-7d8d-4791-a454-661f25786fa6",
   "metadata": {},
   "outputs": [
    {
     "name": "stdout",
     "output_type": "stream",
     "text": [
      "C:\\Users\\min\\AppData\\Local\\Temp\\tmpqqt9c03i\n"
     ]
    }
   ],
   "source": [
    "print(temp_dir)"
   ]
  },
  {
   "cell_type": "code",
   "execution_count": null,
   "id": "a8a309a6-e91f-4eca-83ea-e45854db3042",
   "metadata": {},
   "outputs": [],
   "source": []
  },
  {
   "cell_type": "code",
   "execution_count": null,
   "id": "30bf11e7-c7a9-4a2c-9c53-862174e0fdee",
   "metadata": {},
   "outputs": [],
   "source": []
  },
  {
   "cell_type": "code",
   "execution_count": null,
   "id": "1515ec38-8ceb-4da6-ba17-88bdb73a40f9",
   "metadata": {},
   "outputs": [],
   "source": []
  },
  {
   "cell_type": "code",
   "execution_count": null,
   "id": "693d785f-296f-4b7b-96f3-937466cb1b68",
   "metadata": {},
   "outputs": [],
   "source": []
  },
  {
   "cell_type": "code",
   "execution_count": null,
   "id": "0443c573-edba-405b-8c96-6972b34a2351",
   "metadata": {},
   "outputs": [],
   "source": []
  },
  {
   "cell_type": "code",
   "execution_count": null,
   "id": "49b3b75d-aab5-4373-b214-14a89fd53813",
   "metadata": {},
   "outputs": [],
   "source": []
  },
  {
   "cell_type": "code",
   "execution_count": null,
   "id": "b3ce1863-3458-4214-8c0e-0abe22ab692f",
   "metadata": {},
   "outputs": [],
   "source": []
  },
  {
   "cell_type": "code",
   "execution_count": 80,
   "id": "ba02b777-2448-4b51-9eea-bdbaea2a468c",
   "metadata": {},
   "outputs": [],
   "source": [
    "driver.find_element(By.CSS_SELECTOR,\"#s_recommend > .more_view > a\").click()\n",
    "time.sleep(random.randint(2,3))"
   ]
  },
  {
   "cell_type": "code",
   "execution_count": 125,
   "id": "29193a87-3ce5-4121-8837-b9c01058a1b5",
   "metadata": {},
   "outputs": [
    {
     "name": "stdout",
     "output_type": "stream",
     "text": [
      "<selenium.webdriver.remote.webelement.WebElement (session=\"69c1938b386ba7db714addf114e8da14\", element=\"f.A65C4501DC2C25C3BB97C6156E2D9B6D.d.1BD1F9A7A5CEB6F9400D161C1C130FB0.e.824\")>\n",
      "\n"
     ]
    }
   ],
   "source": [
    "l = driver.find_elements(By.CSS_SELECTOR,\"#search_result\")\n",
    "for i in l :\n",
    "    print(i)\n",
    "    print(\"\")"
   ]
  },
  {
   "cell_type": "code",
   "execution_count": 129,
   "id": "3c0067aa-e876-48fc-9282-c5615d1df5ea",
   "metadata": {},
   "outputs": [
    {
     "name": "stdout",
     "output_type": "stream",
     "text": [
      "제주도의 숨겨진 재미를 찾는\n",
      "<놀멍, 배우멍 제주마을체험 - 1일형 체험학습>\n",
      "\n",
      "제주도가 품은 신비의 화산 숲, 환상숲곶자왈공원\n",
      "\n",
      "제주도 조천읍 버킷리스트 여행지 작성하기\n",
      "\n",
      "김창열의 회귀 철학을 건축으로 표현한 미술관, 제주도립김창열미술관\n",
      "\n",
      "[국내 트레킹 추천]\n",
      "제주 올레길 걷기 여행,\n",
      "준비부터 코스 선택까지 꿀팁 총정리!\n",
      "\n",
      "4월 제주도 가볼 만한, 가파도 청보리 축제\n",
      "\n",
      "[제주도민추천 '갓성비' 제주여행 2탄]\n",
      "뚜벅이 여행자를 위한 서귀포 일일여행\n",
      "\n",
      "제주도민이 알려주는 숨겨진 제주도 피서명소 4종 세트 : 강정천, 쌍계암 계곡, 도리빨, 판포포구\n",
      "\n",
      "제주도 유채꽃 명소 추천, 봄에 떠나는 인생샷 여행\n",
      "\n",
      "새하얀 눈으로 덮인 제주도 설경 명소 4\n",
      "\n"
     ]
    }
   ],
   "source": [
    "list_a = driver.find_elements(By.CSS_SELECTOR,\"#search_result .common_list li .cont .tit a\")\n",
    "for i in list_a :\n",
    "    print(i.text)\n",
    "    print(\"\")"
   ]
  },
  {
   "cell_type": "code",
   "execution_count": 65,
   "id": "9570c46f-fdf8-41d7-b967-e7fb42f26114",
   "metadata": {},
   "outputs": [
    {
     "name": "stdout",
     "output_type": "stream",
     "text": [
      "제주도의 숨겨진 재미를 찾는\n",
      "<놀멍, 배우멍 제주마을체험 - 1일형 체험학습>\n",
      " \n",
      "제주도가 품은 신비의 화산 숲, 환상숲곶자왈공원\n",
      " \n",
      "제주도 조천읍 버킷리스트 여행지 작성하기\n",
      " \n",
      "김창열의 회귀 철학을 건축으로 표현한 미술관, 제주도립김창열미술관\n",
      " \n",
      "[국내 트레킹 추천]\n",
      "제주 올레길 걷기 여행,\n",
      "준비부터 코스 선택까지 꿀팁 총정리!\n",
      " \n",
      "4월 제주도 가볼 만한, 가파도 청보리 축제\n",
      " \n",
      "[제주도민추천 '갓성비' 제주여행 2탄]\n",
      "뚜벅이 여행자를 위한 서귀포 일일여행\n",
      " \n",
      "제주도민이 알려주는 숨겨진 제주도 피서명소 4종 세트 : 강정천, 쌍계암 계곡, 도리빨, 판포포구\n",
      " \n",
      "제주도 유채꽃 명소 추천, 봄에 떠나는 인생샷 여행\n",
      " \n",
      "새하얀 눈으로 덮인 제주도 설경 명소 4\n",
      " \n"
     ]
    }
   ],
   "source": [
    "l = driver.find_elements(By.XPATH,\"/html/body/div[3]/div/div[1]/div[13]/ul/li[*]/div[1]/div[1]/a\")\n",
    "for i in l : \n",
    "    print(i.text)\n",
    "    print(\" \")"
   ]
  },
  {
   "cell_type": "code",
   "execution_count": 73,
   "id": "203c21dd-0634-49bb-8773-1cf3e8c84677",
   "metadata": {},
   "outputs": [
    {
     "name": "stdout",
     "output_type": "stream",
     "text": [
      "1 제주도의 숨겨진 재미를 찾는\n",
      "<놀멍, 배우멍 제주마을체험 - 1일형 체험학습>\n",
      " \n",
      "2 제주도가 품은 신비의 화산 숲, 환상숲곶자왈공원\n",
      " \n",
      "3 제주도 조천읍 버킷리스트 여행지 작성하기\n",
      " \n",
      "4 김창열의 회귀 철학을 건축으로 표현한 미술관, 제주도립김창열미술관\n",
      " \n",
      "5 [국내 트레킹 추천]\n",
      "제주 올레길 걷기 여행,\n",
      "준비부터 코스 선택까지 꿀팁 총정리!\n",
      " \n",
      "6 4월 제주도 가볼 만한, 가파도 청보리 축제\n",
      " \n",
      "7 [제주도민추천 '갓성비' 제주여행 2탄]\n",
      "뚜벅이 여행자를 위한 서귀포 일일여행\n",
      " \n",
      "8 제주도민이 알려주는 숨겨진 제주도 피서명소 4종 세트 : 강정천, 쌍계암 계곡, 도리빨, 판포포구\n",
      " \n",
      "9 제주도 유채꽃 명소 추천, 봄에 떠나는 인생샷 여행\n",
      " \n",
      "10 새하얀 눈으로 덮인 제주도 설경 명소 4\n",
      " \n"
     ]
    }
   ],
   "source": [
    "for i, title in enumerate(l,1):\n",
    "#     print(i, title.text)\n",
    "    print(i, title.text)\n",
    "    print(\" \")"
   ]
  },
  {
   "cell_type": "code",
   "execution_count": 163,
   "id": "6d1fbfc4-4203-45bb-9625-ed16023c89b7",
   "metadata": {},
   "outputs": [
    {
     "data": {
      "text/plain": [
       "'2'"
      ]
     },
     "execution_count": 163,
     "metadata": {},
     "output_type": "execute_result"
    }
   ],
   "source": [
    "page2 = driver.find_element(By.CSS_SELECTOR,\"#page_box [id='2']\")\n",
    "page2.text"
   ]
  },
  {
   "cell_type": "code",
   "execution_count": 478,
   "id": "7452dbec-28b5-4c8b-b4dd-3005e3996c9d",
   "metadata": {},
   "outputs": [
    {
     "name": "stdin",
     "output_type": "stream",
     "text": [
      "글 수 20\n"
     ]
    },
    {
     "name": "stdout",
     "output_type": "stream",
     "text": [
      "20\n"
     ]
    }
   ],
   "source": [
    "cnt = input('글 수')\n",
    "total = int(driver.find_element(By.ID,\"totalCnt\").text)\n",
    "try :\n",
    "    cnt=int(cnt)\n",
    "except :\n",
    "    cnt= total\n",
    "if cnt > total:\n",
    "    cnt = total\n",
    "\n",
    "print(cnt)\n",
    "\n",
    "    "
   ]
  },
  {
   "cell_type": "code",
   "execution_count": 293,
   "id": "17393c01-a77b-4dbb-abed-a15e91e0d597",
   "metadata": {},
   "outputs": [
    {
     "data": {
      "text/plain": [
       "30"
      ]
     },
     "execution_count": 293,
     "metadata": {},
     "output_type": "execute_result"
    }
   ],
   "source": [
    "page_count=math.ceil(cnt/10)\n",
    "page_count"
   ]
  },
  {
   "cell_type": "code",
   "execution_count": 287,
   "id": "f7e2c75e-1c72-49cb-af50-2c232bbf887a",
   "metadata": {},
   "outputs": [
    {
     "data": {
      "text/plain": [
       "29.6"
      ]
     },
     "execution_count": 287,
     "metadata": {},
     "output_type": "execute_result"
    }
   ],
   "source": [
    "page_count"
   ]
  },
  {
   "cell_type": "code",
   "execution_count": 368,
   "id": "9389505e-88b4-4eca-82c8-ff34e6ced337",
   "metadata": {},
   "outputs": [
    {
     "data": {
      "text/plain": [
       "\u001b[1;31mSignature:\u001b[0m \u001b[0mur\u001b[0m\u001b[1;33m.\u001b[0m\u001b[0murlretrieve\u001b[0m\u001b[1;33m(\u001b[0m\u001b[0murl\u001b[0m\u001b[1;33m,\u001b[0m \u001b[0mfilename\u001b[0m\u001b[1;33m=\u001b[0m\u001b[1;32mNone\u001b[0m\u001b[1;33m,\u001b[0m \u001b[0mreporthook\u001b[0m\u001b[1;33m=\u001b[0m\u001b[1;32mNone\u001b[0m\u001b[1;33m,\u001b[0m \u001b[0mdata\u001b[0m\u001b[1;33m=\u001b[0m\u001b[1;32mNone\u001b[0m\u001b[1;33m)\u001b[0m\u001b[1;33m\u001b[0m\u001b[1;33m\u001b[0m\u001b[0m\n",
       "\u001b[1;31mDocstring:\u001b[0m\n",
       "Retrieve a URL into a temporary location on disk.\n",
       "\n",
       "Requires a URL argument. If a filename is passed, it is used as\n",
       "the temporary file location. The reporthook argument should be\n",
       "a callable that accepts a block number, a read size, and the\n",
       "total file size of the URL target. The data argument should be\n",
       "valid URL encoded data.\n",
       "\n",
       "If a filename is passed and the URL points to a local resource,\n",
       "the result is a copy from local file to new file.\n",
       "\n",
       "Returns a tuple containing the path to the newly created\n",
       "data file as well as the resulting HTTPMessage object.\n",
       "\u001b[1;31mFile:\u001b[0m      c:\\users\\min\\anaconda3\\lib\\urllib\\request.py\n",
       "\u001b[1;31mType:\u001b[0m      function"
      ]
     },
     "metadata": {},
     "output_type": "display_data"
    }
   ],
   "source": [
    "import urllib.request as ur\n",
    "ur.urlretrieve?"
   ]
  },
  {
   "cell_type": "code",
   "execution_count": 482,
   "id": "972c9ff9-4dd9-488c-a627-d7c05ec8480d",
   "metadata": {},
   "outputs": [
    {
     "ename": "RemoteDisconnected",
     "evalue": "Remote end closed connection without response",
     "output_type": "error",
     "traceback": [
      "\u001b[1;31m---------------------------------------------------------------------------\u001b[0m",
      "\u001b[1;31mRemoteDisconnected\u001b[0m                        Traceback (most recent call last)",
      "Cell \u001b[1;32mIn[482], line 43\u001b[0m\n\u001b[0;32m     41\u001b[0m \u001b[38;5;28;01mfor\u001b[39;00m img \u001b[38;5;129;01min\u001b[39;00m img_data : \n\u001b[0;32m     42\u001b[0m     \u001b[38;5;28;01mfor\u001b[39;00m i, src \u001b[38;5;129;01min\u001b[39;00m \u001b[38;5;28menumerate\u001b[39m(img_data[img]):\n\u001b[1;32m---> 43\u001b[0m         urllib\u001b[38;5;241m.\u001b[39mrequest\u001b[38;5;241m.\u001b[39murlretrieve(src,\u001b[38;5;124mf\u001b[39m\u001b[38;5;124m\"\u001b[39m\u001b[38;5;124moutput/img/t\u001b[39m\u001b[38;5;132;01m{\u001b[39;00mimg\u001b[38;5;132;01m}\u001b[39;00m\u001b[38;5;124m_\u001b[39m\u001b[38;5;132;01m{\u001b[39;00mi\u001b[38;5;132;01m}\u001b[39;00m\u001b[38;5;124m.jpg\u001b[39m\u001b[38;5;124m\"\u001b[39m)\n",
      "File \u001b[1;32m~\\anaconda3\\Lib\\urllib\\request.py:240\u001b[0m, in \u001b[0;36murlretrieve\u001b[1;34m(url, filename, reporthook, data)\u001b[0m\n\u001b[0;32m    223\u001b[0m \u001b[38;5;250m\u001b[39m\u001b[38;5;124;03m\"\"\"\u001b[39;00m\n\u001b[0;32m    224\u001b[0m \u001b[38;5;124;03mRetrieve a URL into a temporary location on disk.\u001b[39;00m\n\u001b[0;32m    225\u001b[0m \n\u001b[1;32m   (...)\u001b[0m\n\u001b[0;32m    236\u001b[0m \u001b[38;5;124;03mdata file as well as the resulting HTTPMessage object.\u001b[39;00m\n\u001b[0;32m    237\u001b[0m \u001b[38;5;124;03m\"\"\"\u001b[39;00m\n\u001b[0;32m    238\u001b[0m url_type, path \u001b[38;5;241m=\u001b[39m _splittype(url)\n\u001b[1;32m--> 240\u001b[0m \u001b[38;5;28;01mwith\u001b[39;00m contextlib\u001b[38;5;241m.\u001b[39mclosing(urlopen(url, data)) \u001b[38;5;28;01mas\u001b[39;00m fp:\n\u001b[0;32m    241\u001b[0m     headers \u001b[38;5;241m=\u001b[39m fp\u001b[38;5;241m.\u001b[39minfo()\n\u001b[0;32m    243\u001b[0m     \u001b[38;5;66;03m# Just return the local path and the \"headers\" for file://\u001b[39;00m\n\u001b[0;32m    244\u001b[0m     \u001b[38;5;66;03m# URLs. No sense in performing a copy unless requested.\u001b[39;00m\n",
      "File \u001b[1;32m~\\anaconda3\\Lib\\urllib\\request.py:215\u001b[0m, in \u001b[0;36murlopen\u001b[1;34m(url, data, timeout, cafile, capath, cadefault, context)\u001b[0m\n\u001b[0;32m    213\u001b[0m \u001b[38;5;28;01melse\u001b[39;00m:\n\u001b[0;32m    214\u001b[0m     opener \u001b[38;5;241m=\u001b[39m _opener\n\u001b[1;32m--> 215\u001b[0m \u001b[38;5;28;01mreturn\u001b[39;00m opener\u001b[38;5;241m.\u001b[39mopen(url, data, timeout)\n",
      "File \u001b[1;32m~\\anaconda3\\Lib\\urllib\\request.py:515\u001b[0m, in \u001b[0;36mOpenerDirector.open\u001b[1;34m(self, fullurl, data, timeout)\u001b[0m\n\u001b[0;32m    512\u001b[0m     req \u001b[38;5;241m=\u001b[39m meth(req)\n\u001b[0;32m    514\u001b[0m sys\u001b[38;5;241m.\u001b[39maudit(\u001b[38;5;124m'\u001b[39m\u001b[38;5;124murllib.Request\u001b[39m\u001b[38;5;124m'\u001b[39m, req\u001b[38;5;241m.\u001b[39mfull_url, req\u001b[38;5;241m.\u001b[39mdata, req\u001b[38;5;241m.\u001b[39mheaders, req\u001b[38;5;241m.\u001b[39mget_method())\n\u001b[1;32m--> 515\u001b[0m response \u001b[38;5;241m=\u001b[39m \u001b[38;5;28mself\u001b[39m\u001b[38;5;241m.\u001b[39m_open(req, data)\n\u001b[0;32m    517\u001b[0m \u001b[38;5;66;03m# post-process response\u001b[39;00m\n\u001b[0;32m    518\u001b[0m meth_name \u001b[38;5;241m=\u001b[39m protocol\u001b[38;5;241m+\u001b[39m\u001b[38;5;124m\"\u001b[39m\u001b[38;5;124m_response\u001b[39m\u001b[38;5;124m\"\u001b[39m\n",
      "File \u001b[1;32m~\\anaconda3\\Lib\\urllib\\request.py:532\u001b[0m, in \u001b[0;36mOpenerDirector._open\u001b[1;34m(self, req, data)\u001b[0m\n\u001b[0;32m    529\u001b[0m     \u001b[38;5;28;01mreturn\u001b[39;00m result\n\u001b[0;32m    531\u001b[0m protocol \u001b[38;5;241m=\u001b[39m req\u001b[38;5;241m.\u001b[39mtype\n\u001b[1;32m--> 532\u001b[0m result \u001b[38;5;241m=\u001b[39m \u001b[38;5;28mself\u001b[39m\u001b[38;5;241m.\u001b[39m_call_chain(\u001b[38;5;28mself\u001b[39m\u001b[38;5;241m.\u001b[39mhandle_open, protocol, protocol \u001b[38;5;241m+\u001b[39m\n\u001b[0;32m    533\u001b[0m                           \u001b[38;5;124m'\u001b[39m\u001b[38;5;124m_open\u001b[39m\u001b[38;5;124m'\u001b[39m, req)\n\u001b[0;32m    534\u001b[0m \u001b[38;5;28;01mif\u001b[39;00m result:\n\u001b[0;32m    535\u001b[0m     \u001b[38;5;28;01mreturn\u001b[39;00m result\n",
      "File \u001b[1;32m~\\anaconda3\\Lib\\urllib\\request.py:492\u001b[0m, in \u001b[0;36mOpenerDirector._call_chain\u001b[1;34m(self, chain, kind, meth_name, *args)\u001b[0m\n\u001b[0;32m    490\u001b[0m \u001b[38;5;28;01mfor\u001b[39;00m handler \u001b[38;5;129;01min\u001b[39;00m handlers:\n\u001b[0;32m    491\u001b[0m     func \u001b[38;5;241m=\u001b[39m \u001b[38;5;28mgetattr\u001b[39m(handler, meth_name)\n\u001b[1;32m--> 492\u001b[0m     result \u001b[38;5;241m=\u001b[39m func(\u001b[38;5;241m*\u001b[39margs)\n\u001b[0;32m    493\u001b[0m     \u001b[38;5;28;01mif\u001b[39;00m result \u001b[38;5;129;01mis\u001b[39;00m \u001b[38;5;129;01mnot\u001b[39;00m \u001b[38;5;28;01mNone\u001b[39;00m:\n\u001b[0;32m    494\u001b[0m         \u001b[38;5;28;01mreturn\u001b[39;00m result\n",
      "File \u001b[1;32m~\\anaconda3\\Lib\\urllib\\request.py:1392\u001b[0m, in \u001b[0;36mHTTPSHandler.https_open\u001b[1;34m(self, req)\u001b[0m\n\u001b[0;32m   1391\u001b[0m \u001b[38;5;28;01mdef\u001b[39;00m \u001b[38;5;21mhttps_open\u001b[39m(\u001b[38;5;28mself\u001b[39m, req):\n\u001b[1;32m-> 1392\u001b[0m     \u001b[38;5;28;01mreturn\u001b[39;00m \u001b[38;5;28mself\u001b[39m\u001b[38;5;241m.\u001b[39mdo_open(http\u001b[38;5;241m.\u001b[39mclient\u001b[38;5;241m.\u001b[39mHTTPSConnection, req,\n\u001b[0;32m   1393\u001b[0m                         context\u001b[38;5;241m=\u001b[39m\u001b[38;5;28mself\u001b[39m\u001b[38;5;241m.\u001b[39m_context)\n",
      "File \u001b[1;32m~\\anaconda3\\Lib\\urllib\\request.py:1348\u001b[0m, in \u001b[0;36mAbstractHTTPHandler.do_open\u001b[1;34m(self, http_class, req, **http_conn_args)\u001b[0m\n\u001b[0;32m   1346\u001b[0m     \u001b[38;5;28;01mexcept\u001b[39;00m \u001b[38;5;167;01mOSError\u001b[39;00m \u001b[38;5;28;01mas\u001b[39;00m err: \u001b[38;5;66;03m# timeout error\u001b[39;00m\n\u001b[0;32m   1347\u001b[0m         \u001b[38;5;28;01mraise\u001b[39;00m URLError(err)\n\u001b[1;32m-> 1348\u001b[0m     r \u001b[38;5;241m=\u001b[39m h\u001b[38;5;241m.\u001b[39mgetresponse()\n\u001b[0;32m   1349\u001b[0m \u001b[38;5;28;01mexcept\u001b[39;00m:\n\u001b[0;32m   1350\u001b[0m     h\u001b[38;5;241m.\u001b[39mclose()\n",
      "File \u001b[1;32m~\\anaconda3\\Lib\\http\\client.py:1428\u001b[0m, in \u001b[0;36mHTTPConnection.getresponse\u001b[1;34m(self)\u001b[0m\n\u001b[0;32m   1426\u001b[0m \u001b[38;5;28;01mtry\u001b[39;00m:\n\u001b[0;32m   1427\u001b[0m     \u001b[38;5;28;01mtry\u001b[39;00m:\n\u001b[1;32m-> 1428\u001b[0m         response\u001b[38;5;241m.\u001b[39mbegin()\n\u001b[0;32m   1429\u001b[0m     \u001b[38;5;28;01mexcept\u001b[39;00m \u001b[38;5;167;01mConnectionError\u001b[39;00m:\n\u001b[0;32m   1430\u001b[0m         \u001b[38;5;28mself\u001b[39m\u001b[38;5;241m.\u001b[39mclose()\n",
      "File \u001b[1;32m~\\anaconda3\\Lib\\http\\client.py:331\u001b[0m, in \u001b[0;36mHTTPResponse.begin\u001b[1;34m(self)\u001b[0m\n\u001b[0;32m    329\u001b[0m \u001b[38;5;66;03m# read until we get a non-100 response\u001b[39;00m\n\u001b[0;32m    330\u001b[0m \u001b[38;5;28;01mwhile\u001b[39;00m \u001b[38;5;28;01mTrue\u001b[39;00m:\n\u001b[1;32m--> 331\u001b[0m     version, status, reason \u001b[38;5;241m=\u001b[39m \u001b[38;5;28mself\u001b[39m\u001b[38;5;241m.\u001b[39m_read_status()\n\u001b[0;32m    332\u001b[0m     \u001b[38;5;28;01mif\u001b[39;00m status \u001b[38;5;241m!=\u001b[39m CONTINUE:\n\u001b[0;32m    333\u001b[0m         \u001b[38;5;28;01mbreak\u001b[39;00m\n",
      "File \u001b[1;32m~\\anaconda3\\Lib\\http\\client.py:300\u001b[0m, in \u001b[0;36mHTTPResponse._read_status\u001b[1;34m(self)\u001b[0m\n\u001b[0;32m    296\u001b[0m     \u001b[38;5;28mprint\u001b[39m(\u001b[38;5;124m\"\u001b[39m\u001b[38;5;124mreply:\u001b[39m\u001b[38;5;124m\"\u001b[39m, \u001b[38;5;28mrepr\u001b[39m(line))\n\u001b[0;32m    297\u001b[0m \u001b[38;5;28;01mif\u001b[39;00m \u001b[38;5;129;01mnot\u001b[39;00m line:\n\u001b[0;32m    298\u001b[0m     \u001b[38;5;66;03m# Presumably, the server closed the connection before\u001b[39;00m\n\u001b[0;32m    299\u001b[0m     \u001b[38;5;66;03m# sending a valid response.\u001b[39;00m\n\u001b[1;32m--> 300\u001b[0m     \u001b[38;5;28;01mraise\u001b[39;00m RemoteDisconnected(\u001b[38;5;124m\"\u001b[39m\u001b[38;5;124mRemote end closed connection without\u001b[39m\u001b[38;5;124m\"\u001b[39m\n\u001b[0;32m    301\u001b[0m                              \u001b[38;5;124m\"\u001b[39m\u001b[38;5;124m response\u001b[39m\u001b[38;5;124m\"\u001b[39m)\n\u001b[0;32m    302\u001b[0m \u001b[38;5;28;01mtry\u001b[39;00m:\n\u001b[0;32m    303\u001b[0m     version, status, reason \u001b[38;5;241m=\u001b[39m line\u001b[38;5;241m.\u001b[39msplit(\u001b[38;5;28;01mNone\u001b[39;00m, \u001b[38;5;241m2\u001b[39m)\n",
      "\u001b[1;31mRemoteDisconnected\u001b[0m: Remote end closed connection without response"
     ]
    }
   ],
   "source": [
    "no = 1\n",
    "img_data = {}\n",
    "for i in range(1, page_count+1):\n",
    "    if no > cnt : \n",
    "        break\n",
    "    page2 = driver.find_element(By.CSS_SELECTOR,f\"#page_box [id='{i}']\")\n",
    "    driver.execute_script('arguments[0].click()',page2)\n",
    "    time.sleep(2)\n",
    "    \n",
    "    a = driver.find_elements(By.XPATH, '//*[@id=\"search_result\"]/ul/li[*]/div[1]/div[1]/a')\n",
    "    for d in range(len(a)):\n",
    "        if no > cnt : \n",
    "            break\n",
    "        a = driver.find_elements(By.XPATH, '//*[@id=\"search_result\"]/ul/li[*]/div[1]/div[1]/a')\n",
    "        \n",
    "        #print(no,a[d].text)\n",
    "        driver.execute_script('arguments[0].click();',a[d])\n",
    "        time.sleep(4)\n",
    "        driver.execute_script('window.scrollTo(0, document.body.scrollHeight);')\n",
    "        top_title = driver.find_element(By.ID,\"topTitle\").text\n",
    "        #print(top_title)\n",
    "        \n",
    "        con=\" \".join(map(lambda i: i.text,driver.find_elements(By.CSS_SELECTOR,'.txt_p , .ar_title')))\n",
    "        #print(con) \n",
    "\n",
    "        imgs=[]\n",
    "        for j,el in enumerate(driver.find_elements(By.CSS_SELECTOR,\".box_txtPhoto img\"),1):\n",
    "            src = el.get_attribute('src')\n",
    "            imgs.append(src)\n",
    "            #urllib.request.urlretrieve(src,f\"output/img/t{d}_{j}.jpg\")\n",
    "        \n",
    "        img_data[no]=imgs\n",
    "        driver.back()\n",
    "        time.sleep(2)\n",
    "        \n",
    "\n",
    "        \n",
    "        no += 1\n",
    "    \n",
    "    \n",
    "for img in img_data : \n",
    "    for i, src in enumerate(img_data[img]):\n",
    "        urllib.request.urlretrieve(src,f\"output/img/t{img}_{i}.jpg\")"
   ]
  },
  {
   "cell_type": "code",
   "execution_count": 422,
   "id": "26da94f6-6193-426d-8c13-25420649ec91",
   "metadata": {},
   "outputs": [
    {
     "data": {
      "text/plain": [
       "[4]"
      ]
     },
     "execution_count": 422,
     "metadata": {},
     "output_type": "execute_result"
    }
   ],
   "source": [
    "list(map(lambda a : a*2,[2]))"
   ]
  },
  {
   "cell_type": "code",
   "execution_count": 430,
   "id": "297c9872-a56d-4299-a9a0-46838622259f",
   "metadata": {},
   "outputs": [
    {
     "data": {
      "text/plain": [
       "\u001b[1;31mSignature:\u001b[0m \u001b[0murllib\u001b[0m\u001b[1;33m.\u001b[0m\u001b[0mrequest\u001b[0m\u001b[1;33m.\u001b[0m\u001b[0murlretrieve\u001b[0m\u001b[1;33m(\u001b[0m\u001b[0murl\u001b[0m\u001b[1;33m,\u001b[0m \u001b[0mfilename\u001b[0m\u001b[1;33m=\u001b[0m\u001b[1;32mNone\u001b[0m\u001b[1;33m,\u001b[0m \u001b[0mreporthook\u001b[0m\u001b[1;33m=\u001b[0m\u001b[1;32mNone\u001b[0m\u001b[1;33m,\u001b[0m \u001b[0mdata\u001b[0m\u001b[1;33m=\u001b[0m\u001b[1;32mNone\u001b[0m\u001b[1;33m)\u001b[0m\u001b[1;33m\u001b[0m\u001b[1;33m\u001b[0m\u001b[0m\n",
       "\u001b[1;31mDocstring:\u001b[0m\n",
       "Retrieve a URL into a temporary location on disk.\n",
       "\n",
       "Requires a URL argument. If a filename is passed, it is used as\n",
       "the temporary file location. The reporthook argument should be\n",
       "a callable that accepts a block number, a read size, and the\n",
       "total file size of the URL target. The data argument should be\n",
       "valid URL encoded data.\n",
       "\n",
       "If a filename is passed and the URL points to a local resource,\n",
       "the result is a copy from local file to new file.\n",
       "\n",
       "Returns a tuple containing the path to the newly created\n",
       "data file as well as the resulting HTTPMessage object.\n",
       "\u001b[1;31mFile:\u001b[0m      c:\\users\\min\\anaconda3\\lib\\urllib\\request.py\n",
       "\u001b[1;31mType:\u001b[0m      function"
      ]
     },
     "metadata": {},
     "output_type": "display_data"
    }
   ],
   "source": [
    "urllib.request.urlretrieve?"
   ]
  },
  {
   "cell_type": "code",
   "execution_count": null,
   "id": "326a5f1f-3710-4799-ab6a-81b6b132de45",
   "metadata": {},
   "outputs": [],
   "source": []
  }
 ],
 "metadata": {
  "kernelspec": {
   "display_name": "Python 3 (ipykernel)",
   "language": "python",
   "name": "python3"
  },
  "language_info": {
   "codemirror_mode": {
    "name": "ipython",
    "version": 3
   },
   "file_extension": ".py",
   "mimetype": "text/x-python",
   "name": "python",
   "nbconvert_exporter": "python",
   "pygments_lexer": "ipython3",
   "version": "3.12.4"
  }
 },
 "nbformat": 4,
 "nbformat_minor": 5
}
