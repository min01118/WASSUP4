{
 "cells": [
  {
   "cell_type": "markdown",
   "id": "7ffbeb4d-a26b-4fd5-8b6f-f4095e3f74e4",
   "metadata": {},
   "source": [
    "# "
   ]
  },
  {
   "cell_type": "code",
   "execution_count": 1,
   "id": "046fb129-b98f-43c5-9f50-de693811c17d",
   "metadata": {},
   "outputs": [
    {
     "name": "stdout",
     "output_type": "stream",
     "text": [
      "Collecting selenium\n",
      "  Downloading selenium-4.25.0-py3-none-any.whl.metadata (7.1 kB)\n",
      "Requirement already satisfied: urllib3<3,>=1.26 in c:\\users\\min\\anaconda3\\lib\\site-packages (from urllib3[socks]<3,>=1.26->selenium) (2.2.2)\n",
      "Collecting trio~=0.17 (from selenium)\n",
      "  Downloading trio-0.26.2-py3-none-any.whl.metadata (8.6 kB)\n",
      "Collecting trio-websocket~=0.9 (from selenium)\n",
      "  Downloading trio_websocket-0.11.1-py3-none-any.whl.metadata (4.7 kB)\n",
      "Requirement already satisfied: certifi>=2021.10.8 in c:\\users\\min\\anaconda3\\lib\\site-packages (from selenium) (2024.7.4)\n",
      "Requirement already satisfied: typing_extensions~=4.9 in c:\\users\\min\\anaconda3\\lib\\site-packages (from selenium) (4.11.0)\n",
      "Requirement already satisfied: websocket-client~=1.8 in c:\\users\\min\\anaconda3\\lib\\site-packages (from selenium) (1.8.0)\n",
      "Collecting attrs>=23.2.0 (from trio~=0.17->selenium)\n",
      "  Downloading attrs-24.2.0-py3-none-any.whl.metadata (11 kB)\n",
      "Requirement already satisfied: sortedcontainers in c:\\users\\min\\anaconda3\\lib\\site-packages (from trio~=0.17->selenium) (2.4.0)\n",
      "Requirement already satisfied: idna in c:\\users\\min\\anaconda3\\lib\\site-packages (from trio~=0.17->selenium) (3.7)\n",
      "Collecting outcome (from trio~=0.17->selenium)\n",
      "  Downloading outcome-1.3.0.post0-py2.py3-none-any.whl.metadata (2.6 kB)\n",
      "Requirement already satisfied: sniffio>=1.3.0 in c:\\users\\min\\anaconda3\\lib\\site-packages (from trio~=0.17->selenium) (1.3.0)\n",
      "Requirement already satisfied: cffi>=1.14 in c:\\users\\min\\anaconda3\\lib\\site-packages (from trio~=0.17->selenium) (1.16.0)\n",
      "Collecting wsproto>=0.14 (from trio-websocket~=0.9->selenium)\n",
      "  Downloading wsproto-1.2.0-py3-none-any.whl.metadata (5.6 kB)\n",
      "Requirement already satisfied: pysocks!=1.5.7,<2.0,>=1.5.6 in c:\\users\\min\\anaconda3\\lib\\site-packages (from urllib3[socks]<3,>=1.26->selenium) (1.7.1)\n",
      "Requirement already satisfied: pycparser in c:\\users\\min\\anaconda3\\lib\\site-packages (from cffi>=1.14->trio~=0.17->selenium) (2.21)\n",
      "Requirement already satisfied: h11<1,>=0.9.0 in c:\\users\\min\\anaconda3\\lib\\site-packages (from wsproto>=0.14->trio-websocket~=0.9->selenium) (0.14.0)\n",
      "Downloading selenium-4.25.0-py3-none-any.whl (9.7 MB)\n",
      "   ---------------------------------------- 0.0/9.7 MB ? eta -:--:--\n",
      "   ---------------------------------------- 0.0/9.7 MB ? eta -:--:--\n",
      "   ---------------------------------------- 0.1/9.7 MB 1.3 MB/s eta 0:00:08\n",
      "   -- ------------------------------------- 0.5/9.7 MB 4.0 MB/s eta 0:00:03\n",
      "   --- ------------------------------------ 0.9/9.7 MB 5.8 MB/s eta 0:00:02\n",
      "   ----- ---------------------------------- 1.3/9.7 MB 6.4 MB/s eta 0:00:02\n",
      "   ------- -------------------------------- 1.8/9.7 MB 7.0 MB/s eta 0:00:02\n",
      "   --------- ------------------------------ 2.2/9.7 MB 7.3 MB/s eta 0:00:02\n",
      "   ---------- ----------------------------- 2.6/9.7 MB 7.5 MB/s eta 0:00:01\n",
      "   ------------ --------------------------- 3.0/9.7 MB 7.7 MB/s eta 0:00:01\n",
      "   -------------- ------------------------- 3.4/9.7 MB 7.8 MB/s eta 0:00:01\n",
      "   --------------- ------------------------ 3.9/9.7 MB 8.0 MB/s eta 0:00:01\n",
      "   ----------------- ---------------------- 4.3/9.7 MB 8.0 MB/s eta 0:00:01\n",
      "   ------------------- -------------------- 4.7/9.7 MB 8.1 MB/s eta 0:00:01\n",
      "   --------------------- ------------------ 5.1/9.7 MB 8.1 MB/s eta 0:00:01\n",
      "   ---------------------- ----------------- 5.5/9.7 MB 8.2 MB/s eta 0:00:01\n",
      "   ------------------------ --------------- 5.9/9.7 MB 8.2 MB/s eta 0:00:01\n",
      "   ------------------------- -------------- 6.3/9.7 MB 8.2 MB/s eta 0:00:01\n",
      "   --------------------------- ------------ 6.8/9.7 MB 8.3 MB/s eta 0:00:01\n",
      "   ----------------------------- ---------- 7.2/9.7 MB 8.4 MB/s eta 0:00:01\n",
      "   ------------------------------- -------- 7.6/9.7 MB 8.4 MB/s eta 0:00:01\n",
      "   --------------------------------- ------ 8.0/9.7 MB 8.4 MB/s eta 0:00:01\n",
      "   ----------------------------------- ---- 8.5/9.7 MB 8.5 MB/s eta 0:00:01\n",
      "   ------------------------------------ --- 8.9/9.7 MB 8.5 MB/s eta 0:00:01\n",
      "   -------------------------------------- - 9.4/9.7 MB 8.6 MB/s eta 0:00:01\n",
      "   ---------------------------------------  9.7/9.7 MB 8.6 MB/s eta 0:00:01\n",
      "   ---------------------------------------- 9.7/9.7 MB 8.4 MB/s eta 0:00:00\n",
      "Downloading trio-0.26.2-py3-none-any.whl (475 kB)\n",
      "   ---------------------------------------- 0.0/476.0 kB ? eta -:--:--\n",
      "   ------------------------------------- -- 440.3/476.0 kB 9.2 MB/s eta 0:00:01\n",
      "   ---------------------------------------- 476.0/476.0 kB 7.5 MB/s eta 0:00:00\n",
      "Downloading trio_websocket-0.11.1-py3-none-any.whl (17 kB)\n",
      "Downloading attrs-24.2.0-py3-none-any.whl (63 kB)\n",
      "   ---------------------------------------- 0.0/63.0 kB ? eta -:--:--\n",
      "   ---------------------------------------- 63.0/63.0 kB 3.3 MB/s eta 0:00:00\n",
      "Downloading wsproto-1.2.0-py3-none-any.whl (24 kB)\n",
      "Downloading outcome-1.3.0.post0-py2.py3-none-any.whl (10 kB)\n",
      "Installing collected packages: wsproto, attrs, outcome, trio, trio-websocket, selenium\n",
      "  Attempting uninstall: attrs\n",
      "    Found existing installation: attrs 23.1.0\n",
      "    Uninstalling attrs-23.1.0:\n",
      "      Successfully uninstalled attrs-23.1.0\n",
      "Successfully installed attrs-24.2.0 outcome-1.3.0.post0 selenium-4.25.0 trio-0.26.2 trio-websocket-0.11.1 wsproto-1.2.0\n",
      "Note: you may need to restart the kernel to use updated packages.\n"
     ]
    }
   ],
   "source": [
    "pip install selenium"
   ]
  },
  {
   "cell_type": "code",
   "execution_count": 3,
   "id": "675ac6ec-5cf5-4855-a568-67adf558ef1b",
   "metadata": {},
   "outputs": [
    {
     "data": {
      "text/plain": [
       "<selenium.webdriver.chrome.options.Options at 0x1a3c0f4c950>"
      ]
     },
     "execution_count": 3,
     "metadata": {},
     "output_type": "execute_result"
    }
   ],
   "source": [
    "from selenium import webdriver\n",
    "from selenium.webdriver.common.by import By\n",
    "from selenium.webdriver.chrome.options import Options\n",
    "import time\n",
    "options= Options()\n",
    "options"
   ]
  },
  {
   "cell_type": "code",
   "execution_count": 5,
   "id": "23c4e69b-6595-45d1-bfb4-fcf8edd5aba5",
   "metadata": {},
   "outputs": [],
   "source": [
    "options.add_experimental_option('detach',True)"
   ]
  },
  {
   "cell_type": "code",
   "execution_count": 7,
   "id": "0b629bc0-bdae-4fe8-a3c8-764992dd95ee",
   "metadata": {},
   "outputs": [],
   "source": [
    "url = 'https://naver.com'\n",
    "driver = webdriver.Chrome(options=options)"
   ]
  },
  {
   "cell_type": "code",
   "execution_count": 9,
   "id": "c0cae418-9d02-41d4-959a-71f8b1026847",
   "metadata": {},
   "outputs": [],
   "source": [
    "driver.get(url)\n",
    "time.sleep(2)"
   ]
  },
  {
   "cell_type": "code",
   "execution_count": 11,
   "id": "6399ac21-0bf6-43e7-9653-1a1a913280d7",
   "metadata": {},
   "outputs": [],
   "source": [
    "driver.back()"
   ]
  },
  {
   "cell_type": "code",
   "execution_count": 15,
   "id": "a4057c56-35de-481f-8f52-c8ef943ad93f",
   "metadata": {},
   "outputs": [],
   "source": [
    "driver.forward()"
   ]
  },
  {
   "cell_type": "code",
   "execution_count": 17,
   "id": "7117ba12-fd94-4595-964f-d0cac8abf30a",
   "metadata": {},
   "outputs": [],
   "source": [
    "driver.refresh()"
   ]
  },
  {
   "cell_type": "code",
   "execution_count": 19,
   "id": "7d312b3d-8f23-41bb-a75d-7386402068a1",
   "metadata": {},
   "outputs": [
    {
     "data": {
      "text/plain": [
       "\u001b[1;31mSignature:\u001b[0m \u001b[0mdriver\u001b[0m\u001b[1;33m.\u001b[0m\u001b[0mfind_element\u001b[0m\u001b[1;33m(\u001b[0m\u001b[0mby\u001b[0m\u001b[1;33m=\u001b[0m\u001b[1;34m'id'\u001b[0m\u001b[1;33m,\u001b[0m \u001b[0mvalue\u001b[0m\u001b[1;33m:\u001b[0m \u001b[0mOptional\u001b[0m\u001b[1;33m[\u001b[0m\u001b[0mstr\u001b[0m\u001b[1;33m]\u001b[0m \u001b[1;33m=\u001b[0m \u001b[1;32mNone\u001b[0m\u001b[1;33m)\u001b[0m \u001b[1;33m->\u001b[0m \u001b[0mselenium\u001b[0m\u001b[1;33m.\u001b[0m\u001b[0mwebdriver\u001b[0m\u001b[1;33m.\u001b[0m\u001b[0mremote\u001b[0m\u001b[1;33m.\u001b[0m\u001b[0mwebelement\u001b[0m\u001b[1;33m.\u001b[0m\u001b[0mWebElement\u001b[0m\u001b[1;33m\u001b[0m\u001b[1;33m\u001b[0m\u001b[0m\n",
       "\u001b[1;31mDocstring:\u001b[0m\n",
       "Find an element given a By strategy and locator.\n",
       "\n",
       ":Usage:\n",
       "    ::\n",
       "\n",
       "        element = driver.find_element(By.ID, 'foo')\n",
       "\n",
       ":rtype: WebElement\n",
       "\u001b[1;31mFile:\u001b[0m      c:\\users\\min\\anaconda3\\lib\\site-packages\\selenium\\webdriver\\remote\\webdriver.py\n",
       "\u001b[1;31mType:\u001b[0m      method"
      ]
     },
     "metadata": {},
     "output_type": "display_data"
    }
   ],
   "source": [
    "driver.find_element?"
   ]
  },
  {
   "cell_type": "code",
   "execution_count": 21,
   "id": "13a65f93-403d-4e19-b019-a5f99fab1645",
   "metadata": {},
   "outputs": [
    {
     "data": {
      "text/plain": [
       "<selenium.webdriver.remote.webelement.WebElement (session=\"9087faaca588bc3881aa22aec06bbece\", element=\"f.E7DDE70F9133850931CF2C1D8A90C979.d.FA5033C366C876238297685905A4AD50.e.2409\")>"
      ]
     },
     "execution_count": 21,
     "metadata": {},
     "output_type": "execute_result"
    }
   ],
   "source": [
    "driver.find_element(By.ID,'query')"
   ]
  },
  {
   "cell_type": "code",
   "execution_count": 23,
   "id": "53d1d00b-8961-4b10-b4d1-da2fc8910a99",
   "metadata": {},
   "outputs": [],
   "source": [
    "driver.find_element(By.ID,'query').send_keys('뉴진스')"
   ]
  },
  {
   "cell_type": "code",
   "execution_count": 25,
   "id": "f0811c94-d95f-44f4-bdc4-056d1b735a90",
   "metadata": {},
   "outputs": [],
   "source": [
    "driver.find_element(By.CLASS_NAME,'search_input').send_keys('블랙핑크');"
   ]
  },
  {
   "cell_type": "code",
   "execution_count": 27,
   "id": "b932f923-50d9-45a0-af04-5d8a19e8e634",
   "metadata": {},
   "outputs": [],
   "source": [
    "driver.find_element(By.NAME,'query').send_keys('르세라핌');"
   ]
  },
  {
   "cell_type": "code",
   "execution_count": 29,
   "id": "c5df1626-2971-47e9-8fe0-6c9b26062826",
   "metadata": {},
   "outputs": [],
   "source": [
    "driver.find_element(By.CSS_SELECTOR,'#query').send_keys('에스파')"
   ]
  },
  {
   "cell_type": "code",
   "execution_count": 31,
   "id": "d8fcddc1-5dad-4605-8f8a-3906d8ce74b1",
   "metadata": {},
   "outputs": [],
   "source": [
    "driver.find_element(By.CSS_SELECTOR,\".search_input\").send_keys(\"세븐틴\")"
   ]
  },
  {
   "cell_type": "code",
   "execution_count": 35,
   "id": "16cfdaaa-ede6-4af9-b339-1a358b50fd07",
   "metadata": {},
   "outputs": [],
   "source": [
    "driver.find_element(By.CSS_SELECTOR,\"[title='검색어를 입력해 주세요.']\").send_keys(\"트와이스\")"
   ]
  },
  {
   "cell_type": "code",
   "execution_count": null,
   "id": "638b3550-0221-4643-b7f5-5c030629bfc3",
   "metadata": {},
   "outputs": [],
   "source": [
    "#태그 우클릭, 카피 들을 하면 복사된다."
   ]
  },
  {
   "cell_type": "code",
   "execution_count": 39,
   "id": "20a5d746-4c74-445b-b3bc-8ae5a8ac355d",
   "metadata": {},
   "outputs": [],
   "source": [
    "driver.find_element(By.XPATH,\"//*[@id='query']\").send_keys(\"BTS\")"
   ]
  },
  {
   "cell_type": "code",
   "execution_count": 65,
   "id": "14ae6cf0-0117-464a-a223-00bcb057b28b",
   "metadata": {},
   "outputs": [],
   "source": [
    "#네이퍼 쇼핑 메뉴를 클릭해 보자\n",
    "driver.find_element(By.LINK_TEXT,'쇼핑').click()"
   ]
  },
  {
   "cell_type": "code",
   "execution_count": 63,
   "id": "69a72366-7a84-4361-b225-1dbd5f6b6042",
   "metadata": {},
   "outputs": [],
   "source": [
    "driver.find_element(By.PARTIAL_LINK_TEXT,'증').click()"
   ]
  },
  {
   "cell_type": "code",
   "execution_count": 67,
   "id": "12951a8f-5263-432e-af6c-16d1a1358810",
   "metadata": {},
   "outputs": [
    {
     "data": {
      "text/plain": [
       "<selenium.webdriver.remote.webelement.WebElement (session=\"9087faaca588bc3881aa22aec06bbece\", element=\"f.E7DDE70F9133850931CF2C1D8A90C979.d.FA5033C366C876238297685905A4AD50.e.2433\")>"
      ]
     },
     "execution_count": 67,
     "metadata": {},
     "output_type": "execute_result"
    }
   ],
   "source": [
    "driver.find_element(By.TAG_NAME,'ul')"
   ]
  },
  {
   "cell_type": "code",
   "execution_count": 61,
   "id": "cff7181a-55b7-401e-a876-b9311274f574",
   "metadata": {},
   "outputs": [
    {
     "data": {
      "text/plain": [
       "[<selenium.webdriver.remote.webelement.WebElement (session=\"9087faaca588bc3881aa22aec06bbece\", element=\"f.E7DDE70F9133850931CF2C1D8A90C979.d.FA5033C366C876238297685905A4AD50.e.4267\")>,\n",
       " <selenium.webdriver.remote.webelement.WebElement (session=\"9087faaca588bc3881aa22aec06bbece\", element=\"f.E7DDE70F9133850931CF2C1D8A90C979.d.FA5033C366C876238297685905A4AD50.e.4270\")>,\n",
       " <selenium.webdriver.remote.webelement.WebElement (session=\"9087faaca588bc3881aa22aec06bbece\", element=\"f.E7DDE70F9133850931CF2C1D8A90C979.d.FA5033C366C876238297685905A4AD50.e.4273\")>,\n",
       " <selenium.webdriver.remote.webelement.WebElement (session=\"9087faaca588bc3881aa22aec06bbece\", element=\"f.E7DDE70F9133850931CF2C1D8A90C979.d.FA5033C366C876238297685905A4AD50.e.3934\")>,\n",
       " <selenium.webdriver.remote.webelement.WebElement (session=\"9087faaca588bc3881aa22aec06bbece\", element=\"f.E7DDE70F9133850931CF2C1D8A90C979.d.FA5033C366C876238297685905A4AD50.e.4278\")>,\n",
       " <selenium.webdriver.remote.webelement.WebElement (session=\"9087faaca588bc3881aa22aec06bbece\", element=\"f.E7DDE70F9133850931CF2C1D8A90C979.d.FA5033C366C876238297685905A4AD50.e.4281\")>,\n",
       " <selenium.webdriver.remote.webelement.WebElement (session=\"9087faaca588bc3881aa22aec06bbece\", element=\"f.E7DDE70F9133850931CF2C1D8A90C979.d.FA5033C366C876238297685905A4AD50.e.4284\")>,\n",
       " <selenium.webdriver.remote.webelement.WebElement (session=\"9087faaca588bc3881aa22aec06bbece\", element=\"f.E7DDE70F9133850931CF2C1D8A90C979.d.FA5033C366C876238297685905A4AD50.e.4287\")>,\n",
       " <selenium.webdriver.remote.webelement.WebElement (session=\"9087faaca588bc3881aa22aec06bbece\", element=\"f.E7DDE70F9133850931CF2C1D8A90C979.d.FA5033C366C876238297685905A4AD50.e.4290\")>,\n",
       " <selenium.webdriver.remote.webelement.WebElement (session=\"9087faaca588bc3881aa22aec06bbece\", element=\"f.E7DDE70F9133850931CF2C1D8A90C979.d.FA5033C366C876238297685905A4AD50.e.4293\")>,\n",
       " <selenium.webdriver.remote.webelement.WebElement (session=\"9087faaca588bc3881aa22aec06bbece\", element=\"f.E7DDE70F9133850931CF2C1D8A90C979.d.FA5033C366C876238297685905A4AD50.e.4298\")>]"
      ]
     },
     "execution_count": 61,
     "metadata": {},
     "output_type": "execute_result"
    }
   ],
   "source": [
    "driver.find_elements(By.CSS_SELECTOR,'.link_service')"
   ]
  },
  {
   "cell_type": "code",
   "execution_count": 77,
   "id": "f309c364-2ab3-44cb-a82a-38608bece2d2",
   "metadata": {},
   "outputs": [
    {
     "name": "stdout",
     "output_type": "stream",
     "text": [
      "https://mail.naver.com\n",
      "https://cafe.naver.com\n",
      "https://blog.naver.com\n",
      "https://shopping.naver.com/home\n",
      "https://news.naver.com/\n",
      "https://finance.naver.com/\n",
      "https://land.naver.com/\n",
      "https://map.naver.com\n",
      "https://comic.naver.com\n",
      "https://chzzk.naver.com/\n",
      "#\n"
     ]
    }
   ],
   "source": [
    "for i in driver.find_elements(By.CSS_SELECTOR,'.link_service'):\n",
    "     print(i.get_dom_attribute('href'))"
   ]
  },
  {
   "cell_type": "code",
   "execution_count": 85,
   "id": "b71c2365-0e6d-4044-bda1-4203b89a05a4",
   "metadata": {},
   "outputs": [],
   "source": [
    "url = 'C://workspace/WASSUP4/02_Data_Collection/sample/signin.html'\n",
    "driver = webdriver.Chrome(options=options)\n",
    "driver.get(url)\n",
    "time.sleep(2)"
   ]
  },
  {
   "cell_type": "code",
   "execution_count": 87,
   "id": "9766a234-2271-41bb-bc42-b1c7fdeb62d1",
   "metadata": {},
   "outputs": [],
   "source": [
    "username = driver.find_element(By.NAME,'username')\n",
    "username.send_keys('korea')\n",
    "password = driver.find_element(By.NAME,'password')\n",
    "password.send_keys('1234')"
   ]
  },
  {
   "cell_type": "code",
   "execution_count": 89,
   "id": "79e03c2f-6413-4816-8f9c-7f2c347a84e0",
   "metadata": {},
   "outputs": [],
   "source": [
    "login = driver.find_element(By.XPATH,'//*[@id=\"loginForm\"]/input[3]')\n",
    "login.click()\n",
    "time.sleep(1)"
   ]
  },
  {
   "cell_type": "code",
   "execution_count": 91,
   "id": "7c0a90d8-11f4-430e-8c5c-43de8ebb4483",
   "metadata": {},
   "outputs": [],
   "source": [
    "driver.back()"
   ]
  },
  {
   "cell_type": "code",
   "execution_count": 93,
   "id": "a95a6fb2-1be8-4150-a03e-e35e33fdd169",
   "metadata": {},
   "outputs": [],
   "source": [
    "login = driver.find_element(By.CSS_SELECTOR,'[value=Login]')\n",
    "login.click()"
   ]
  },
  {
   "cell_type": "code",
   "execution_count": 95,
   "id": "cb2fec50-8bd3-49b2-8f1f-c70c08164569",
   "metadata": {},
   "outputs": [],
   "source": [
    "driver.back()"
   ]
  },
  {
   "cell_type": "code",
   "execution_count": 107,
   "id": "4cad7ade-652b-420b-ba45-dd36b649a3ba",
   "metadata": {},
   "outputs": [],
   "source": [
    "username = driver.find_element(By.NAME,'username')\n",
    "username.clear()\n"
   ]
  },
  {
   "cell_type": "code",
   "execution_count": 101,
   "id": "7083aa9a-9a51-4d17-9c46-6a5dff0bb223",
   "metadata": {},
   "outputs": [],
   "source": [
    "username = driver.find_element(By.NAME,'username')\n",
    "username.send_keys('korea')\n",
    "password = driver.find_element(By.NAME,'password')\n",
    "password.send_keys('1234')"
   ]
  },
  {
   "cell_type": "code",
   "execution_count": 103,
   "id": "d4131f19-ad67-4160-9a84-dd1dfd5f5146",
   "metadata": {},
   "outputs": [],
   "source": [
    "username.submit()"
   ]
  },
  {
   "cell_type": "code",
   "execution_count": 105,
   "id": "8bd88816-ed41-4b07-84e0-4857c2da3e6a",
   "metadata": {},
   "outputs": [],
   "source": [
    "driver.back()"
   ]
  },
  {
   "cell_type": "code",
   "execution_count": 109,
   "id": "d75568f5-796a-461b-8567-74350f96442a",
   "metadata": {},
   "outputs": [
    {
     "data": {
      "text/plain": [
       "'Are you sure you want to do this?'"
      ]
     },
     "execution_count": 109,
     "metadata": {},
     "output_type": "execute_result"
    }
   ],
   "source": [
    "driver.find_element(By.TAG_NAME,'p').text"
   ]
  },
  {
   "cell_type": "code",
   "execution_count": 111,
   "id": "78aeb218-c134-4a9f-8bbb-68eca47c4a93",
   "metadata": {},
   "outputs": [
    {
     "data": {
      "text/plain": [
       "'<html><head></head><body>\\n        <h1> Sign In </h1>\\n        <form action=\"moved.html\" id=\"loginForm\">\\n            ID : <input name=\"username\" type=\"text\"> <br>\\n            Password : <input name=\"password\" type=\"password\"> <br>\\n\\n            <input name=\"continue\" type=\"submit\" value=\"Login\">\\n            <input name=\"continue\" type=\"button\" value=\"Clear\">\\n        \\n        </form>\\n\\n        <p>Are you sure you want to do this?</p>\\n        <a href=\"continue.html\">Continue</a>\\n        <a href=\"cancel.html\">Cancel</a>\\n\\n        <h1>Welcome</h1>\\n        <p>Site content goes here.</p>\\n        <p class=\"content\">Site content goes here.</p>\\n    \\n</body></html>'"
      ]
     },
     "execution_count": 111,
     "metadata": {},
     "output_type": "execute_result"
    }
   ],
   "source": [
    "driver.page_source"
   ]
  },
  {
   "cell_type": "code",
   "execution_count": 113,
   "id": "476b6170-c359-4239-b60a-c339533129b8",
   "metadata": {},
   "outputs": [
    {
     "ename": "WebDriverException",
     "evalue": "Message: disconnected: Unable to receive message from renderer\n  (failed to check if window was closed: disconnected: not connected to DevTools)\n  (Session info: chrome=129.0.6668.60)\nStacktrace:\n\tGetHandleVerifier [0x00007FF71A87B125+29573]\n\t(No symbol) [0x00007FF71A7EFF50]\n\t(No symbol) [0x00007FF71A6AB6EA]\n\t(No symbol) [0x00007FF71A6941E7]\n\t(No symbol) [0x00007FF71A691D65]\n\t(No symbol) [0x00007FF71A6925BF]\n\t(No symbol) [0x00007FF71A6ABD03]\n\t(No symbol) [0x00007FF71A67F7BD]\n\t(No symbol) [0x00007FF71A7375B7]\n\t(No symbol) [0x00007FF71A736B53]\n\t(No symbol) [0x00007FF71A7272C0]\n\t(No symbol) [0x00007FF71A6F12DF]\n\t(No symbol) [0x00007FF71A6F2441]\n\tGetHandleVerifier [0x00007FF71ABAC76D+3377613]\n\tGetHandleVerifier [0x00007FF71ABF7B67+3685831]\n\tGetHandleVerifier [0x00007FF71ABECF8B+3641835]\n\tGetHandleVerifier [0x00007FF71A93B2A6+816390]\n\t(No symbol) [0x00007FF71A7FB25F]\n\t(No symbol) [0x00007FF71A7F7084]\n\t(No symbol) [0x00007FF71A7F7220]\n\t(No symbol) [0x00007FF71A7E607F]\n\tBaseThreadInitThunk [0x00007FFCA0707034+20]\n\tRtlUserThreadStart [0x00007FFCA0C82651+33]\n",
     "output_type": "error",
     "traceback": [
      "\u001b[1;31m---------------------------------------------------------------------------\u001b[0m",
      "\u001b[1;31mWebDriverException\u001b[0m                        Traceback (most recent call last)",
      "Cell \u001b[1;32mIn[113], line 1\u001b[0m\n\u001b[1;32m----> 1\u001b[0m driver\u001b[38;5;241m.\u001b[39mclose()\n",
      "File \u001b[1;32m~\\anaconda3\\Lib\\site-packages\\selenium\\webdriver\\remote\\webdriver.py:465\u001b[0m, in \u001b[0;36mWebDriver.close\u001b[1;34m(self)\u001b[0m\n\u001b[0;32m    457\u001b[0m \u001b[38;5;28;01mdef\u001b[39;00m \u001b[38;5;21mclose\u001b[39m(\u001b[38;5;28mself\u001b[39m) \u001b[38;5;241m-\u001b[39m\u001b[38;5;241m>\u001b[39m \u001b[38;5;28;01mNone\u001b[39;00m:\n\u001b[0;32m    458\u001b[0m \u001b[38;5;250m    \u001b[39m\u001b[38;5;124;03m\"\"\"Closes the current window.\u001b[39;00m\n\u001b[0;32m    459\u001b[0m \n\u001b[0;32m    460\u001b[0m \u001b[38;5;124;03m    :Usage:\u001b[39;00m\n\u001b[1;32m   (...)\u001b[0m\n\u001b[0;32m    463\u001b[0m \u001b[38;5;124;03m            driver.close()\u001b[39;00m\n\u001b[0;32m    464\u001b[0m \u001b[38;5;124;03m    \"\"\"\u001b[39;00m\n\u001b[1;32m--> 465\u001b[0m     \u001b[38;5;28mself\u001b[39m\u001b[38;5;241m.\u001b[39mexecute(Command\u001b[38;5;241m.\u001b[39mCLOSE)\n",
      "File \u001b[1;32m~\\anaconda3\\Lib\\site-packages\\selenium\\webdriver\\remote\\webdriver.py:354\u001b[0m, in \u001b[0;36mWebDriver.execute\u001b[1;34m(self, driver_command, params)\u001b[0m\n\u001b[0;32m    352\u001b[0m response \u001b[38;5;241m=\u001b[39m \u001b[38;5;28mself\u001b[39m\u001b[38;5;241m.\u001b[39mcommand_executor\u001b[38;5;241m.\u001b[39mexecute(driver_command, params)\n\u001b[0;32m    353\u001b[0m \u001b[38;5;28;01mif\u001b[39;00m response:\n\u001b[1;32m--> 354\u001b[0m     \u001b[38;5;28mself\u001b[39m\u001b[38;5;241m.\u001b[39merror_handler\u001b[38;5;241m.\u001b[39mcheck_response(response)\n\u001b[0;32m    355\u001b[0m     response[\u001b[38;5;124m\"\u001b[39m\u001b[38;5;124mvalue\u001b[39m\u001b[38;5;124m\"\u001b[39m] \u001b[38;5;241m=\u001b[39m \u001b[38;5;28mself\u001b[39m\u001b[38;5;241m.\u001b[39m_unwrap_value(response\u001b[38;5;241m.\u001b[39mget(\u001b[38;5;124m\"\u001b[39m\u001b[38;5;124mvalue\u001b[39m\u001b[38;5;124m\"\u001b[39m, \u001b[38;5;28;01mNone\u001b[39;00m))\n\u001b[0;32m    356\u001b[0m     \u001b[38;5;28;01mreturn\u001b[39;00m response\n",
      "File \u001b[1;32m~\\anaconda3\\Lib\\site-packages\\selenium\\webdriver\\remote\\errorhandler.py:229\u001b[0m, in \u001b[0;36mErrorHandler.check_response\u001b[1;34m(self, response)\u001b[0m\n\u001b[0;32m    227\u001b[0m         alert_text \u001b[38;5;241m=\u001b[39m value[\u001b[38;5;124m\"\u001b[39m\u001b[38;5;124malert\u001b[39m\u001b[38;5;124m\"\u001b[39m]\u001b[38;5;241m.\u001b[39mget(\u001b[38;5;124m\"\u001b[39m\u001b[38;5;124mtext\u001b[39m\u001b[38;5;124m\"\u001b[39m)\n\u001b[0;32m    228\u001b[0m     \u001b[38;5;28;01mraise\u001b[39;00m exception_class(message, screen, stacktrace, alert_text)  \u001b[38;5;66;03m# type: ignore[call-arg]  # mypy is not smart enough here\u001b[39;00m\n\u001b[1;32m--> 229\u001b[0m \u001b[38;5;28;01mraise\u001b[39;00m exception_class(message, screen, stacktrace)\n",
      "\u001b[1;31mWebDriverException\u001b[0m: Message: disconnected: Unable to receive message from renderer\n  (failed to check if window was closed: disconnected: not connected to DevTools)\n  (Session info: chrome=129.0.6668.60)\nStacktrace:\n\tGetHandleVerifier [0x00007FF71A87B125+29573]\n\t(No symbol) [0x00007FF71A7EFF50]\n\t(No symbol) [0x00007FF71A6AB6EA]\n\t(No symbol) [0x00007FF71A6941E7]\n\t(No symbol) [0x00007FF71A691D65]\n\t(No symbol) [0x00007FF71A6925BF]\n\t(No symbol) [0x00007FF71A6ABD03]\n\t(No symbol) [0x00007FF71A67F7BD]\n\t(No symbol) [0x00007FF71A7375B7]\n\t(No symbol) [0x00007FF71A736B53]\n\t(No symbol) [0x00007FF71A7272C0]\n\t(No symbol) [0x00007FF71A6F12DF]\n\t(No symbol) [0x00007FF71A6F2441]\n\tGetHandleVerifier [0x00007FF71ABAC76D+3377613]\n\tGetHandleVerifier [0x00007FF71ABF7B67+3685831]\n\tGetHandleVerifier [0x00007FF71ABECF8B+3641835]\n\tGetHandleVerifier [0x00007FF71A93B2A6+816390]\n\t(No symbol) [0x00007FF71A7FB25F]\n\t(No symbol) [0x00007FF71A7F7084]\n\t(No symbol) [0x00007FF71A7F7220]\n\t(No symbol) [0x00007FF71A7E607F]\n\tBaseThreadInitThunk [0x00007FFCA0707034+20]\n\tRtlUserThreadStart [0x00007FFCA0C82651+33]\n"
     ]
    }
   ],
   "source": [
    "driver.close()"
   ]
  },
  {
   "cell_type": "code",
   "execution_count": 115,
   "id": "e215d1ec-ae1e-465b-aab4-978c03eb0318",
   "metadata": {},
   "outputs": [
    {
     "data": {
      "text/plain": [
       "<selenium.webdriver.chrome.options.Options at 0x1a3c3131a90>"
      ]
     },
     "execution_count": 115,
     "metadata": {},
     "output_type": "execute_result"
    }
   ],
   "source": [
    "from selenium import webdriver\n",
    "from selenium.webdriver.common.by import By\n",
    "from selenium.webdriver.chrome.options import Options\n",
    "import time\n",
    "options= Options()\n",
    "options"
   ]
  },
  {
   "cell_type": "code",
   "execution_count": 117,
   "id": "370c1c79-6767-4e65-b147-9612517094ac",
   "metadata": {},
   "outputs": [],
   "source": [
    "options.add_argument(\"--headless=new\")# colab 이용가능하게 하기,background\n",
    "\n",
    "options.add_experimental_option('detach',True)"
   ]
  },
  {
   "cell_type": "code",
   "execution_count": 119,
   "id": "454669f2-b3e1-45bd-b001-642f20f4c35b",
   "metadata": {},
   "outputs": [],
   "source": [
    "url = 'https://naver.com'\n",
    "driver = webdriver.Chrome(options=options)"
   ]
  },
  {
   "cell_type": "code",
   "execution_count": 123,
   "id": "f1c1383f-8936-4c30-a42a-529fd419ce7f",
   "metadata": {},
   "outputs": [
    {
     "name": "stdout",
     "output_type": "stream",
     "text": [
      "NAVER\n"
     ]
    }
   ],
   "source": [
    "driver.get(url)\n",
    "time.sleep(2)\n",
    "print(driver.title)"
   ]
  },
  {
   "cell_type": "code",
   "execution_count": 126,
   "id": "d2f19244-35a8-45a9-8e71-e4b56821373b",
   "metadata": {},
   "outputs": [],
   "source": [
    "from selenium import webdriver\n",
    "from selenium.webdriver.common.by import By\n",
    "from selenium.webdriver.chrome.options import Options\n",
    "import time\n",
    "\n",
    "options = Options()\n",
    "# options.add_argument(\"--start-maximized\")\n",
    "# options.add_argument(\"--headless=new\") \n",
    "options.add_experimental_option(\"detach\", True) #\n",
    "\n",
    "url = 'http://naver.com'\n",
    "driver = webdriver.Chrome(options=options)\n",
    "driver.get(url)\n",
    "time.sleep(2)"
   ]
  },
  {
   "cell_type": "code",
   "execution_count": 130,
   "id": "de63fb0f-37f8-4350-8240-995af0975bb6",
   "metadata": {},
   "outputs": [
    {
     "data": {
      "text/plain": [
       "{'width': 513, 'height': 990}"
      ]
     },
     "execution_count": 130,
     "metadata": {},
     "output_type": "execute_result"
    }
   ],
   "source": [
    "driver.get_window_size()"
   ]
  },
  {
   "cell_type": "code",
   "execution_count": 134,
   "id": "bc8f3727-57ac-4d47-9b03-066550666ec5",
   "metadata": {},
   "outputs": [],
   "source": [
    "driver.set_window_size(300,600)"
   ]
  },
  {
   "cell_type": "code",
   "execution_count": 136,
   "id": "c162ec21-5e82-4951-b950-18c6fa797373",
   "metadata": {},
   "outputs": [
    {
     "name": "stdout",
     "output_type": "stream",
     "text": [
      "10 10\n"
     ]
    }
   ],
   "source": [
    "position = driver.get_window_position()\n",
    "x = position.get('x')\n",
    "y = position.get('y')\n",
    "print(x,y)"
   ]
  },
  {
   "cell_type": "code",
   "execution_count": 138,
   "id": "1c56fdba-348b-4421-95ff-0f2445baefd8",
   "metadata": {},
   "outputs": [
    {
     "data": {
      "text/plain": [
       "{'height': 600, 'width': 513, 'x': 0, 'y': 0}"
      ]
     },
     "execution_count": 138,
     "metadata": {},
     "output_type": "execute_result"
    }
   ],
   "source": [
    "driver.set_window_position(0,0)"
   ]
  },
  {
   "cell_type": "code",
   "execution_count": 144,
   "id": "e2fb7483-42c6-41e7-ad4b-049a9349c912",
   "metadata": {},
   "outputs": [],
   "source": [
    "\n",
    "driver.minimize_window()"
   ]
  },
  {
   "cell_type": "code",
   "execution_count": 146,
   "id": "f260fb65-350a-41b9-bf2c-0df5f130810a",
   "metadata": {},
   "outputs": [],
   "source": [
    "driver.fullscreen_window()"
   ]
  },
  {
   "cell_type": "code",
   "execution_count": 148,
   "id": "26066520-31f8-41c2-8e9a-28c487b62561",
   "metadata": {},
   "outputs": [
    {
     "data": {
      "text/plain": [
       "True"
      ]
     },
     "execution_count": 148,
     "metadata": {},
     "output_type": "execute_result"
    }
   ],
   "source": [
    "driver.save_screenshot('./image.png')"
   ]
  },
  {
   "cell_type": "code",
   "execution_count": 150,
   "id": "aac3dadb-af4a-4837-a517-f7943c94a538",
   "metadata": {},
   "outputs": [],
   "source": [
    "driver.quit()"
   ]
  },
  {
   "cell_type": "code",
   "execution_count": 152,
   "id": "3b4487ad-45c5-4a16-825e-6004e212f2f9",
   "metadata": {},
   "outputs": [],
   "source": [
    "#네이버, 인공지능 ,블로그, 옵션, 관련도순, 기간 2024.1.11~2024.9.27"
   ]
  },
  {
   "cell_type": "code",
   "execution_count": 155,
   "id": "d757ef9c-20e0-494c-9905-3249625fd3dd",
   "metadata": {},
   "outputs": [],
   "source": [
    "#수집후 정렬\n"
   ]
  },
  {
   "cell_type": "code",
   "execution_count": 157,
   "id": "db220038-bdc5-463e-a7f9-10c8248d97f8",
   "metadata": {},
   "outputs": [],
   "source": [
    "from selenium import webdriver\n",
    "from selenium.webdriver.common.by import By\n",
    "from selenium.webdriver.chrome.options import Options\n",
    "import time, random, pandas as pd\n",
    "\n",
    "options = Options()\n",
    "options.add_argument('--window-size=974,1047')\n",
    "options.add_argument('--window-position=-7,0')\n",
    "options.add_experimental_option(\"detach\", True)"
   ]
  },
  {
   "cell_type": "code",
   "execution_count": 193,
   "id": "18beec02-7516-4dfe-8504-1bbefaa3a8d1",
   "metadata": {},
   "outputs": [],
   "source": [
    "driver = webdriver.Chrome( options = options)\n",
    "# 조건 설정\n",
    "where = 'blog'\n",
    "query = '인공지능'\n",
    "dateform = '20240101to20240927'\n",
    "url = f'https://search.naver.com/search.naver?ssc=tab.{where}.all&query={query}&sm=tab_opt&nso=so%3Ar%2Cp%3Afrom{dateform}'\n",
    "# url = f'https://search.naver.com/search.naver?where={where}&query={query}&sm=tab_op&nso=so:r,p:from{dateform}'\n",
    "fname = f'{where}_{query}_{dateform}'\n",
    "# url 접속\n",
    "driver.get(url)\n",
    "time.sleep(random.randint(2,3))"
   ]
  },
  {
   "cell_type": "code",
   "execution_count": 168,
   "id": "cace433f-c082-46b6-9e15-93fee97f4115",
   "metadata": {},
   "outputs": [
    {
     "data": {
      "text/plain": [
       "\u001b[1;31mSignature:\u001b[0m \u001b[0mrandom\u001b[0m\u001b[1;33m.\u001b[0m\u001b[0mrandint\u001b[0m\u001b[1;33m(\u001b[0m\u001b[0ma\u001b[0m\u001b[1;33m,\u001b[0m \u001b[0mb\u001b[0m\u001b[1;33m)\u001b[0m\u001b[1;33m\u001b[0m\u001b[1;33m\u001b[0m\u001b[0m\n",
       "\u001b[1;31mDocstring:\u001b[0m\n",
       "Return random integer in range [a, b], including both end points.\n",
       "        \n",
       "\u001b[1;31mFile:\u001b[0m      c:\\users\\min\\anaconda3\\lib\\random.py\n",
       "\u001b[1;31mType:\u001b[0m      method"
      ]
     },
     "metadata": {},
     "output_type": "display_data"
    }
   ],
   "source": []
  },
  {
   "cell_type": "code",
   "execution_count": 188,
   "id": "88f96007-bc8c-4238-ad6a-8d14c3f02950",
   "metadata": {},
   "outputs": [],
   "source": [
    "#https://search.naver.com/search.naver?ssc=tab.blog.all&query=%EC%9D%B8%EA%B3%B5%EC%A7%80%EB%8A%A5&sm=tab_opt&nso=so%3Ar%2Cp%3Afrom20240101to202409227\n",
    "#https://search.naver.com/search.naver?ssc=tab.blog.all&query=%EC%9D%B8%EA%B3%B5%EC%A7%80%EB%8A%A5&sm=tab_opt&nso=so%3Ar%2Cp%3Afrom20240101to20240927"
   ]
  },
  {
   "cell_type": "code",
   "execution_count": 194,
   "id": "07d9dce9-18ac-4620-ada9-21261d166c2f",
   "metadata": {},
   "outputs": [],
   "source": [
    "for i in range(10):\n",
    "    driver.execute_script('window.scrollTo(0, document.body.scrollHeight);')\n",
    "    time.sleep(random.randint(2, 3))"
   ]
  },
  {
   "cell_type": "code",
   "execution_count": 196,
   "id": "f2d144e6-8622-4a8f-b623-7aa8c3b2cdd3",
   "metadata": {},
   "outputs": [
    {
     "name": "stdout",
     "output_type": "stream",
     "text": [
      "{'title': '구글 인공지능 제미니 MBTI 는 무엇인지 알아보기', 'text': '그래서 답이 객관적으로 확실히 정해져 있는 것들에 대해서는 최대한 인공지느의 환각 효과를 막아놓는 쪽으로 개발이 진행되고 있어요. 만약 인공지능에게 너 마음대로 지어내라고 한다면 MBTI가 뭔지 대답할 수도 있었어요. 이러려면 에게 환각현상을 활용해서 대답하라고 질문해야 했어요. 쉽게 말해서, 틀려도 상관없으니 너 마음대로 답 지어서...', 'date': '2024.08.08.'}\n",
      "{'title': '[트렌드 뉴스 : 횻의눈] 사람 vs 인공지능 누구의 작품일까?', 'text': '[트렌드 뉴스 : 횻의눈] 사람 vs 인공지능 누구의 작품일까? Story/효성 2024. 9. 4. SNS의 발달과 함께 미술관 나들이가 보편화 되며, ‘현대미술’ 분야에서도 대중화가 이뤄지고 있는데요.... 이진솔 작가는 청각 장애가 있지만, 인공와우 이식술로 소리를 느낄 수 있습니다. 다만, 인공와우를 거쳐 들리는 소리는 우리에게 들리는 소리와 차이가 있다고 해요. 뇌가 전기적...', 'date': '4주 전'}\n",
      "{'title': '아이폰16 플러스 애플지능(인공지능)은 프로와 차이? 카메라에 추가된 비주얼 인공지능로 달라진 점?', 'text': '아이폰16 플러스의 16코어 디자인은 머신 러닝 작업을 두 배나 빠르게 하면서 이를 통해 애플 지능(인공지능)을 아이폰16과 아이폰16 플러스에서도 실행되게 함으로써 프로 모델과의 차이를 두지 않을 정도로 공격적인 스탠스를 취하고 있습니다. 통상 바닐라 모델과 프로 모델의 차이를 두었지만 에 대한 부분은 여유롭지 않은 시장 상황을 애플의...', 'date': '1주 전'}\n",
      "{'title': 'LG이노텍 주가 주식 전망 실적 목표주가 (애플 AI 인공지능 관련주)', 'text': \"LG이노텍 주가 주식 전망 실적 목표주가 (애플 AI 인공지능 관련주) 애플의 인공지능 (AI)관련하여 주가 흐름이 심상치 않은 LG이노텍 주가 주식 전망 실적 목표주가 등에 대해서 알아보도록 하겠습니다. Table of Contents 1. LG이노텍 주가현황 2. 실적 및 목표주가 3. LG이노텍 주가전망 4. 소드킴's 날카로운 시선 코멘트 LG이노텍 주가현황 LG이노텍 주가의 흐름이...\", 'date': '2주 전'}\n",
      "{'title': '딥페이크 관련주, 뜻과 인공지능 범죄, 보안 대장주 총정리!', 'text': '딥페이크 관련주, 뜻과 인공지능 범죄, 보안 대장주 총정리! [목차] 1. 딥페이크 뜻 2. 관련주 1. 딥페이크 뜻 딥페이크는 딥러닝(deep learning)과 페이크(fake)의 합성어인데요. 딥러닝은 컴퓨터가 사람처럼 생각하고 말할 수 있도록 하는 기술로 인간의 두뇌 작동 방식을 흉내낸 것이 특징입니다. 즉, AI 기술을 활용하여 실제와 비슷한 가짜 사진이나 영상을...', 'date': '1주 전'}\n",
      "{'title': '[종목분석] 폴라리스AI 인공지능 관련주 주가 급등 이유 실적 들춰봅시다', 'text': '폴라리스AI 인공지능 관련주를 포함한 AI 챗봇 관련 주식들이 강세를 보이고 있습니다. AI 챗봇과 관련된 기업들이 최근 시상에서 큰 상승세를 보여주고 있고 이는 AI 기술의 발전과... 폴라리스AI 관련주의 주가는 장기적인 하락 추세에서 벗어나 8월 20일 오전 10시 기준으로 가속도를 더욱 붙이다 일정 비율을 유지되고 있는데요. 본 글에서 동사 주가...', 'date': '2024.08.21.'}\n",
      "{'title': '인공지능 AI 챗봇 챗GPT 사용법과 ICT 지원 중요성 전파를 위한 정보통신산업진흥원(NIPA) 소개', 'text': '영화나 SF 소설 속에서 있을 것 같은 인공지능이 거대 언어 모듈을 기반으로 하는 AI 챗봇의 등장 이후 상당히 빠르게 우리 일상 깊이 들어왔습니다. 이제 챗GPT 사용법 정도는 알고... 정의 기존의 은 대규모의 데이터를 분석하고 예측 모델을 개발하여 복잡한 문제를 해결하는 것이 주된 용도였습니다. 일반 사용자들 입장에서는 무언가 중요한 일을 하는 것...', 'date': '3주 전'}\n",
      "{'title': '인공지능에게 질문했습니다! #수직농장', 'text': '인공지능에게 질문했습니다! 수직농장이 미래에 농업을 대체할 수 있을까요? 수직농장이 미래의 농업을 완전히 대체할 수 있을지는 여러 요소에 달려 있습니다. 수직농장은 실내에서... 에너지 소비: 수직농장은 실내에서 인공조명을 사용하여 식물을 재배하기 때문에 많은 양의 에너지를 소비합니다. 이 에너지가 지속 가능한 방식으로 생산되지 않는다면 환경에 부정적인...', 'date': '2024.08.07.'}\n",
      "{'title': 'kt olleh 기가지니 2 3 사용법 변경 비교 후기 (인공지능 블루투스 스피커 연결)', 'text': '셋톱박스가 오래되어 그런지 고장이 자주 났고 이번 기회에 생활을 편리하게 만들어 줄 수 있는 인공지능 셋톱박스를 사용해 보기 위해서 열심히 검토해 봤습니다. 셋톱박스 종류... 이렇게 통신사별로 다양한 스피커가 있었고 저는 여러 가지 사항을 비교해 본 후 kt olleh 기가지니3를 선택했습니다. 그럼 지금부터 기가지니2와 기가지니3의 차이점 및 kt...', 'date': '2024.07.13.'}\n",
      "{'title': '240801 장마감과 셀바스AI : 국내 1호 인공지능 전문기업', 'text': '빨간숫자가 중간중간 보이긴 하지만, 엄청~ 나쁜 건 아닌 듯...ㅋㅋ (보통이라고 말하기에도 양심이 좀 찔린다;;) 2009년 코스닥에 상장한 국내 1호 인공지능 전문기업이다. 26년간 딥러닝 기술 기반의 전문적인 연구를 통해 음성인식, 음성합성, 필기인식, 영상인식 등 최고의 HCI 기술을 보유하고 있다. (HCI:Human Computer Interaction) 요런 타이틀도 좋다. 국내 1호 ...', 'date': '2024.08.02.'}\n",
      "{'title': '인공지능특허 출원과정 베테랑 변리사가 알려드립니다', 'text': '요즘은 인공지능기술이 발전됨에 따라 관심도가 더욱 높아지고 있는 추세입니다. 그래서 최근들어 인공지능특허를 내기위해 저를 찾아오시는 분들이 많아지고 있습니다. 인공지능기술을 만들어내기까지 오랜 시간과 노력을 들어가는 만큼, 권리를 확보하기 위해서 하루라도 빨리 특허출원과정을 진행하시길 바랍니다. 오늘은 특허 출원과정에 대한 전반적인...', 'date': '2주 전'}\n",
      "{'title': '[돌봄센터cctv] 경기 광주시 돌봄센터, 인공지능cctv설치로 더욱 안전한 공간을 만들었습니다.', 'text': '자비스넷의 인공지능cctv가 더욱 특별한 이유는 제공하는 모든 카메라에 지능형 영상분석 기능이 탑재되어 있기 때문인데요, 지능형 영상분석 기능 카메라에 촬영되어지는 모든 객체를 분류하며 군집감지, 침입/도난감지, 투기감지, 배회감지, 쓰러짐 감지 등 다양한 객체의 행동 변화를 감지하여 분석하는 기능을 말합니다. 자비스넷만의 지능형 영상분석은...', 'date': '1일 전'}\n",
      "{'title': '인공지능 기술을 활용한 디지털 정부, 국세청의 AI 국세상담', 'text': '최근 인공지능 기술을 활용한 디지털 전환이 가속화되고 있는데요. 국세청 또한 디지털 중심으로 새로운 경제성장 동력을 확보하고 경제 활성화를 지원하기 위해 인공지능 분야 창업기업과의 간담회 등을 개최하며 다양한 방안을 모색하고 있습니다. 기술 발전이 경제와 사회 전반에 걸쳐 큰 변화를 가져오고 있으며, 대한민국 정부도 AI를 통해 국민을...', 'date': '4주 전'}\n",
      "{'title': '부산빅데이터학원 AI 인공지능 취업 부산코딩학원 교육!', 'text': '오늘은 부산빅데이터학원 알아보시는분들에게 부산코딩학원 잘 알아보는 방법에 대해서 알아 보도록 하겠습니다 부산인공지능교육 과정 연봉, 복지, 근무환경 좋은곳으로 갈 수 있습니다. 그리고 부산코딩학원 과정에서는 웹개발자 + AI 취업 과정을 같이 배울 수 있기 때문에 IT회사 갈 수 있는 범위가 넓어서 이러한 고급 과정을 배우면 선택폭이 넓어진다는...', 'date': '3주 전'}\n",
      "{'title': '산업계 인공지능 AI 투자 지원을 위한 금융상품 알아보기', 'text': '인공지능 AI 기술이 발달하면서 이제는 산업계 인공지능 AI 투자를 지원하기 위한 보험과 지분투자 ㄷH출과 같이 전용 금융상품이 출시됩니다. 이와 관련해서 AI 인공지능 투자 지원을 위한 금융상품에 대해 알아보는 시간을 가지려고 합니다. 무역보험공사를 비롯해서 20여 개의 금융기관에서는 9월 24일 자로 산업통상자원부 장관 주재로 금융 지원 협약식을...', 'date': '2일 전'}\n",
      "{'title': '[AI시대, 미래를 말하다] 인공지능이 가져올 미래, 전 세계와 함께 준비하겠습니다', 'text': '해결 방안을 강구하는 데 있어서 전통적인 여러 방법들도 있겠지만 아마도 인공지능이라고 하는 것이 큰 몫을 차지하게 되지 않을까 생각합니다. 인공지능이, 과연 기술 발전이 미래에 또 현재에 맞닥뜨리고 있는 글로벌 복합 위기에 어떤 가능한 대안, 대책을 만들어낼 것인가에 대해서도 말씀을 한번 듣고 싶기도 합니다. 또 한편으로는 과학기술 발전의 거의 상징처럼 된...', 'date': '3주 전'}\n",
      "{'title': '딥브레인AI 딥페이크 탐지 솔루션 인공지능 기술로 피해 예방하자', 'text': '양날의 검과 같은 인공지능 출처 : KBS 뉴스 그저 머나먼 미래의 이야기일 것만 같았던 AI는 이제 산업 전반에서 활약을 보일 만큼 우리에게 가까이 다가왔습니다. 창작의 영역까지... 인공지능을 기반으로 만든 인간 이미지 합성 기술인데, 현재는 사람에게 국한되지 않고 비디오나 오디오 등 넓은 범위를 아우르는 뜻으로 쓰이고 있습니다. 악용 사례가 많아질수록...', 'date': '6일 전'}\n",
      "{'title': '누구캔들 SE 인공지능스피커 누구스피커', 'text': '인공지능 스피커는 AI인공지능 기술이 더해지면서 사람의 말을 알아듣고 스마트기기를 통합적으로 관리할 수 있어서 많은 사람들이 사용하였습니다. 우리나라의 대표적인 인공지능 스피커로 기가지니가 있지만, SK텔레콤에서 만든 누구캔들도 나름 유명합니다. 누구캔들 SE은 2022월에 SK텔레콤에서 출시한 스피커입니다. 누구스피커 시리즈의 4번째...', 'date': '1일 전'}\n",
      "{'title': '미국 ai 인공지능 관련주, 엔비디아 등 반도체 대장주 주식 전망', 'text': '오늘은 미국 ai 인공지능 관련주, 엔비디아 등 반도체 대장주 주식 전망에 대해서 살펴보도록 하겠습니다. 내년에 미국 전력요금 상승이 현실화가 되면서 태양광부터 시작해서 ai와... * 미국 ai 인공지능 관련주, 엔비디아 등 반도체 대장주 주식 전망 미국 ai 관련주와 반도체 대장주로 나누어서 살펴보도록 하겠습니다. <미국 ai 관련주> 먼저, 미국 ai...', 'date': '2주 전'}\n",
      "{'title': 'ETRI, 노년층 치매 예측 인공지능 기술 개발', 'text': '선별하는 인공지능(AI) 기술을 개발했습니다. 음성 발화는 기억, 의도, 주의집중 등 인지기능과 음운, 통사, 의미 등 언어 생성 기능, 호흡, 조음, 발성 등 구어 운동 기능이 순차적으로... ETRI 복합지능연구실은 음성처리 분야에서 축적된 AI 기술과 음성, 텍스트 및 영상 멀티모달 기술을 바탕으로 디지털 치료제 등 헬스케어 분야로 연구를 확장하고 있습니다. 연구진은...', 'date': '3주 전'}\n",
      "{'title': '인공지능에게 질문했습니다! #농업로봇', 'text': '인공지능에게 질문했습니다! 미래에 로봇이 농업에서 어떤 역할을 할까요? 미래에 로봇은 농업에서 매우 중요한 역할을 할 것으로 예상됩니다. 로봇 기술과 인공지능의 발전은 농업의 효율성과 생산성을 크게 향상시킬 수 있는 잠재력을 가지고 있습니다. 다음은 로봇이 농업에서 수행할 수 있는 주요 역할들입니다. 자동화된 작물 관리 파종 및 재배: 로봇은 정밀한 파종과...', 'date': '2024.08.05.'}\n",
      "{'title': '인공지능 홈캠 추천 씨엔케어 부모님 반려동물 가정용 홈캠 필요하다면 필독', 'text': '오늘은 인공지능 홈캠 추천 씨엔케어 부모님 반려동물 가정용 홈캠 필요하다면 필독 관련 주제로 이야기를 나눠보는 시간을 가져볼까 합니다. 요즘은 고령화 사회로 연로한 부모님을... CnCare 인공지능 홈캠이었습니다. 사진 세계 최초로 AI 이 직접 기록을 남겨주는 제품이라 영상으로 시청을 하지 않아도 사람의 움직임을 기록해 주기 때문에 어떠한 위급...', 'date': '2024.08.04.'}\n",
      "{'title': 'QCY HT10 AilyBuds Pro 인공지능 노이즈 캔슬링 블루투스이어폰 리뷰', 'text': '이 제품은 QCY 전용 앱을 통한 적응형 인공지능 노이즈 캔슬링과 오픈형 디자인으로, 귀가 막히는 답답함 없이 탁월한 액티브 노이즈 캔슬링 성능을 제공합니다. 이제 이... 인공지능 노이즈 캔슬링 이어폰 특징 및 스펙 적응영 ANC, IPX5, 저지연 게임모드 항목 스펙 블루투스 버전 5.3 노이즈 캔슬링 액티브 노이즈 캔슬링 (ANC), 바람 소리 차단 적응형 ANC 지원 (QCY...', 'date': '2주 전'}\n",
      "{'title': '인공지능 AI 반도체 관련주 엔비디아 실적 발표와 주식 주가', 'text': '이 글과 함께 참조하면 도움이 되는 글 ⬇⬇⬇ [함께 보기] - 인공지능 ai 챗봇 챗 gpt 관련주 국내 증시 주식 동향 [함께 보기] - 메타버스 지능형 로봇 인공지능 AI 관련주 위세아이텍·자이언트스텝·솔트룩스 등 주식 주가 동향 [함께 보기] - AI 반도체 엔비디아 & 국내 관련주 이수페타시스·아이크래프트 등 주식 주가 & 이상 AI 반도체 관련주 엔비디아 실적...', 'date': '4주 전'}\n",
      "{'title': '딥페이크 관련 대장주 : 한빛소프트, 이스트소프트, 크라우드웍스 인공지능 범죄', 'text': '크라우드웍스 크라우드웍스는 빅데이터와 인공지능 인프라 기반의 \"지능형 인공지능 데이터 플랫폼\" 서비스를 하고 있어요. 23년 8월에 한국제10호스팩과 합병하여 변경상장하였습니다. # 크라우드웍스 관련 주로 편입된 이유 과학기술정보통신부의 딥페이크 예방 영상과 랜드마크 이미지의 AI 학습용 데이터 구축 사업을 진행 크라우드웍스도 딥페이크 관련 주로...', 'date': '4주 전'}\n",
      "{'title': '앱제작 인공지능 기술이 비용을 확 낮춰드림', 'text': '하지만, 인공지능 기술로 앱제작을 하게 되면 이런 문제들을 전혀 신경 쓰지 않아도 됩니다. 인공지능 기술은 C, Java, Javascript 등 낡은 프로그램 언어와 똑같이 구현 대상에 아무런 제약이 없을 뿐만 아니라 표현 자유도(UI, UX)까지 매우 높으며 개발된 앱 제품은 오류 발생이 없습니다. Android, iOS 용 모바일 앱과 PC Windows, WebApp 프로그램까지 한 번에 제작할 수 있어...', 'date': '2024.06.19.'}\n",
      "{'title': '윈도우 PC에서 인공지능 ChatGPT 앱으로 설치하는 방법', 'text': '요즘 업무에 인공지능 AI를 활용하시는 분들이 점점 늘고 있습니다. 저 역시도 최근 OpenAI ChatGPT를 사용하여 프로그래밍하는 데 도움을 많이 받고 있는데, 업계에서 일하는 동생이 말하기를~ \"요즘 개발자들은 인터넷이 안 되는 데서 근무를 시키면 실력이 반 이하로 준다.\"라고 하더니 정말 거짓이 아닌 것 같습니다. 뭐 사실 ChatGPT가 아니라도 인터넷이...', 'date': '2024.07.31.'}\n",
      "{'title': 'AI 인공지능 관련주, 대장주 주가 전망은? : 미래컴퍼니, 오픈베이스, 폴라리스AI 등', 'text': 'AI는 [Artificial Intelligence]의 약자로 인공지능에 대해 많이 들어보셨을 텐데요. 인간의 여러 가지 능력을 인공적으로 구현할 수 있도록 구현된 컴퓨터 시스템이죠. 최근 굉장히 다양한 분야에 AI 기술이 적용되면서 AI 인공지능 관련주, 대장주 주가가 급등하고 있는 상황입니다. 오늘은 대표 AI 관련주 대장주인 미래컴퍼니, 오픈베이스, 폴라리스AI 주가 현황과...', 'date': '2주 전'}\n",
      "{'title': 'AI 인공지능 딥러닝 머신러닝 뜻 차이 비교', 'text': \"AI 인공지능 딥러닝 머신러닝 뜻 차이 비교 안녕하세요! 오늘은 'AI', '인공지능', '딥러닝', '머신러닝'이라는 용어들이 어떻게 다른지, 어떻게 연결되어 있는지 자세히 알아보는 시간을... 딥러닝 심층적 학습의 힘 딥러닝은 머신러닝의 한 방법으로, 인간의 뇌 구조를 모방한 인공 신경망을 사용해 보다 깊고 복잡한 학습을 수행하는 기술이에요. 이 기술은 특히 이미지 인식...\", 'date': '2024.07.16.'}\n",
      "{'title': '인공지능(AI)을 주제로 한 영화 소개', 'text': \": 웨이브 출처=네이버 영화 영화 'Her'는 인간과 인공지능(AI) 간의 사랑을 다룬 독특한 이야기로, 현대 사회에서의 소외감, 기술과 인간 관계의 변화, 그리고 사랑의 본질을 탐구하는 작품이며, 비주얼과 감성적인 면에서 큰 호평을 받았습니다. 주인공 테오도르 트웜블리(호아킨 피닉스)는 가까운 미래의 로스앤젤레스에서 외로운 삶을 살고 있는 남자로, 그는 다른...\", 'date': '4주 전'}\n",
      "{'title': '말벗도 선생님도 되는 인공지능 스피커', 'text': '챗GPT의 등장으로 생성형 인공지능(AI)에 대한 관심이 높아지고 있습니다. 덕분에 인공지능 스피커 시장에도 새로운 바람이 불고 있는데요. 과거 단순한 정보 제공이나 스마트 홈 제어에 국한됐던 인공지능 스피커는 이제 훨씬 더 복잡하고 다양한 기능을 수행하고 있습니다. 스마트홈 허브가 되다 스피커는 스마트홈의 기기들을 통합적으로 제어하는 허브...', 'date': '3주 전'}\n",
      "{'title': \"로봇과 인공지능, 그 기술 너머에는 과연 무엇이 있을까? '서울로봇과학관'\", 'text': '로봇과 인공지능, 이들은 이제 더 이상 먼 미래의 이야기가 아닙니다. 최근 뉴욕 경찰이 사족보행 로봇을 활용해 범죄 현장에서 활약한 것을 보아도 알 수 있듯 로봇은 점점 더 우리의 일상으로 스며들고 있습니다. 이러한 시대적 흐름에 발맞춰 서울시가 로봇과 을 주제로 한 과학관을 국내 최초로 개관했습니다. 서울 도봉구 창동에 자리한...', 'date': '1주 전'}\n",
      "{'title': '인공지능 국제표준을 선도하는 대한민국', 'text': '한국전자통신연구원(이하 ETRI)이 수행한 ‘지능정보기술 확산을 위한 인공지능 데이터 표준 개발’ 과제(과제책임자: ETRI 하수욱 책임연구원)의 결실이라고 할 수 있겠습니다. 연구진은 안전한 AI 모델 개발과 오류 및 편향 최소화를 위한 데이터 품질 보장, 일관적 성능을 유지하며, 데이터 생산·관리·폐기 등 생애 주기를 관리하기 위한 AI 시스템...', 'date': '1주 전'}\n",
      "{'title': '인공지능에게 질문했습니다! #한국미래농업', 'text': '#인공지능에게질문했습니다! 한국농업의 현실적인 미래상은? 한국농업의 현실적인 미래상은 여러 가지 요인에 의해 영향을 받을 수 있습니다. 다음은 몇 가지 주요 전망입니다. 스마트 농업의 확산: 드론, IoT(사물인터넷), AI() 등의 기술을 활용한 스마트농업이 점점 더 보편화될 것입니다. 이를 통해 생산성을 높이고, 노동력을 절감하며, 환경친화적인 농업을...', 'date': '2024.08.06.'}\n",
      "{'title': '생성형AI교육 인공지능 국비지원 기반이 돼야 하는 이유', 'text': 'LLM & CNN 인공지능 분야에서 불과 얼마전까지 화두는 대형 언어 모델(LLM) 그리고 이미지 분류(CNN)였습니다. 이때부터 인공지능이 사람의 일을 돕기 시작했지만 창작의 영역은 침범하지 못했죠. [ 인공지능 발전 역사 ] CNN LLM 생성형 AI 개발자는 CNN → LLM → 생성형 AI 개발에 몰두하는 순서로 발전했습니다. 오늘은 그중에서도 생성형 AI에 대해 다루어 보도록...', 'date': '2일 전'}\n",
      "{'title': '국내 AI 인공지능 관련주, 대장주 주가 급등 이유 및 주가 전망은? - 미래컴퍼니, 오픈베이스, 폴라리스AI', 'text': '최근 인공지능(AI) 기술이 급격하게 발전하고, 생성형 ai 서비스 및 플랫폼이 대중화 됨에 따라 사회 전반에 걸쳐 큰 변화가 나타나고 있습니다. 특히 AI 기술이 상용화 단계에... 대부분의 신기술이 그러하듯 인공지능 ai 또한 그 활용 범위가 상당히 넓기 때문에 매우 다양한 산업군에 영향을 주고 있으며, 관련주를 만들어 내고 있는데요 오늘 포스팅에서는...', 'date': '1주 전'}\n",
      "{'title': '옷 헤어 얼굴 보정 모두 가능한 인공지능 사진 편집 프로그램 Evoto AI(이보토)', 'text': '하지만 최근 눈부신 발전을 이룬 인공지능 기술이 생성형 AI 등 여러 방식으로 편집 과정에 적용되면서 다양한 이미지 보정 작업을 더욱 효율적으로 할 수 있게 되었죠. 특히 제가 활용하는 인공지능 사진 편집 프로그램은 사용성이 간편함에도 고퀄리티 AI 보정 결과물을 얻을 수 있어 생산성 향상에 여러모로 큰 도움이 되고 있습니다. 그런 의미에서 오늘은 Evoto AI를...', 'date': '2024.08.26.'}\n",
      "{'title': '렌더토큰.렌더토큰 코인 Render(RNDR COIN) 30배이상 상승 가능성 있는 AI의 분야 선두주자!', 'text': '빠른USDT교환처리 한국지사를 통한 24시간 한국어 통역 지원 렌더토큰.렌더토큰 코인 Render(RNDR COIN) 30배이상 상승 가능성 있는 인공지능 AI의 분야 선두주자! 렌더토큰.렌더토큰 코인 Render(RNDR COIN) 30배이상 상승 가능성 있는 AI의 분야 선두주자! 렌더토큰.렌더토큰 코인 Render(RNDR COIN) 30배이상 상승 가능성 있는 AI의 분야 선두주자! AI...', 'date': '6일 전'}\n",
      "{'title': '방위사업청의 ‘인공지능로봇사업팀’을 아시나요?', 'text': '인공지능은 컴퓨터 시스템이 인간의 지능을 모방해 학습하고 문제 해결 및 의사결정을 하는 기술입니다! 최근 대규모 데이터 처리 능력의 발전으로 인해 AI 기술이 다시 본격적으로 주목받고 있습니다. 딱 봐도 무인화, 자율화, 지능화로 대표되는 미래 국방체계 구현에 중요한 기술 같지 않나요? 예측 불가능한 전장에서 우위를 정하고 신속하고 정확한 결정을 내리는...', 'date': '2024.07.19.'}\n",
      "{'title': '미래의 핵심 능력, 인공지능 미래의 무한한 가능성을 열다 - 이경전 전문가', 'text': '인간의 창의성과 감각이 인공지능(AI)과 결합돼 새로운 가치를 창출하는 시대. 인간과 AI의 융합이 점점 더 중요해지는 시대를 살아가려면 AI를 활용하는 능력이 필수적이죠. 월간 내일 6월호에서 AI 기술을 활용한 혁신적인 연구를 진행하고 있는 이경전 전문가·경희대학교 교수를 만나 관련 이야기를 들어보았어요. Q. 교수님께서는 세계학회의...', 'date': '2024.08.22.'}\n",
      "{'title': '인공지능 개발자 국비 취업 연계 학원', 'text': '인공지능 개발자 알아보기 인공지능 개발자 (Artificial Intelligence Developer) 인간의 지능을 모방하거나 더 나은 성능을 발휘하도록 컴퓨터 시스템이나 소프트웨어를 설계 및 구현하는 사람들을 말합니다. 특히 AI 시스템과 각종 애플리케이션을 설계, 개발 및 구현하는 전문가로 크롤링, 데이터 분석, 기계학습 머신러닝 딥러닝, 자연어 처리, 컴퓨터 비전, 강화 학습 등...', 'date': '1일 전'}\n",
      "{'title': 'AI 스피커 클로바 스피커 인공지능 클로바 온 살펴봄', 'text': 'AI 스피커 클로바 스피커 인공지능 클로바 온 살펴봄 오늘은 네이버의 인공지능 AI 스피커, 라인프렌즈 클로바 온에 대한 이야기를 나눠볼까 해요. 귀여운 디자인과 첨단 AI 기술이 결합된 이 스피커는 우리 일상에 활기를 불어넣어 주는 매력적인 제품이에요. 이 스피커가 어떤 멋진 기능을 가지고 있는지, 왜 많은 사람들이 반하는지 함께 살펴봐요. 매력 넘치는...', 'date': '2024.07.25.'}\n",
      "{'title': '인공지능의 본격 도입으로 곧 가짜 리뷰 사라진다', 'text': '인공지능의 본격 도입으로 곧 가짜 리뷰 사라진다 가짜 리뷰는 소비자가 신뢰를 잃게 만드는 큰 문제 중 하나입니다. 특히 맛집이나 상품 리뷰에서 가짜 리뷰는 소비자의 합리적인 결정을 방해하고 있습니다. 이에 대응해 (AI)이 본격적으로 도입되고 있으며, 머신러닝을 기반으로 한 가짜 리뷰 탐지 기술이 빠르게 발전하고 있습니다. 최근 논문에서는...', 'date': '4주 전'}\n",
      "{'title': '인공지능, 경쟁자가 되느냐 도구가 되느냐', 'text': '달라졌고 인공지능이 나왔을 때 몇 살이었느냐에 따라 생산성 향상 수준이 달라졌다 요즘 신문물 좀 익혀보겠다고 인공지능 강의를 듣고 있는데 강의를 듣고나니 이런 생각이 들더라 인공지능은 게임체인저가 될 것이 명확한데 나이나 개인적인 상황 때문에 을 활용하느냐 못하느냐에 따라 생산성 향상 수준이 어마어마하게 달라질 것이라고 대부분의 사람들은...', 'date': '4주 전'}\n",
      "{'title': \"[국민을 위한 국민의 기업] 인공지능·데이터 기반 플랫폼 '아폴로·스마트K2C' 세계 최초로 개발\", 'text': '위해 인공지능(AI)·데이터 기반 플랫폼 ‘아폴로’와 ‘스마트K2C’를 선보였다. [사진 KISTI] 딥테크로 대변되는 국가전략기술을 빠르게 사업화하기 위해서는 유망기술 발굴... 이에 맞춰 스마트K2C 또한 내년 초 차세대 지능형 서비스 제공을 목표로 개발에 박차를 가하고 있다. KISTI 관계자는 “아폴로와 스마트K2C가 다양한 기관들과 협업해 국가전략기술의...', 'date': '1일 전'}\n",
      "{'title': \"자율주행차부터 수술 로봇까지 체험 가능! '서울로봇인공지능과학관' 정식 개관\", 'text': \"도봉구 창동에 8월 20일부터 로봇산업의 메카로 자리잡을 '서울로봇인공지능과학관'이 정식으로 개관했습니다. 자세한 내용, 함께 확인해 보시죠! <서울로봇인공지능과학관> 첨단 과학기술에 예술 접목, 감각적인 과학 전시 체험 공간 및 로봇·AI 산업과 인간이 공존하는 미래상 탐구 ✅ 다양한 작가들 참여 과학 기술 흥미롭게 접할 수 있는 공간 ✅ 11개...\", 'date': '2024.08.22.'}\n",
      "{'title': '인공지능에게 질문했습니다! #AI 경제', 'text': '인공지능에게 질문했습니다! 지속가능한 삶에 AI 경제가 미치는 위협 요소는? 지속 가능한 삶에 AI 경제가 미치는 위협 요소는 다음과 같습니다. 일자리 감소: AI와 자동화 기술의... 발전이 환경에 미치는 부정적인 영향을 최소화하고, 지속 가능한 발전에 기여할 수 있습니다. #질문의힘 # #AI농업 #농업 #농업트렌드연구소 #AI경제 #AI기술 #AI위협 #AI기술위협', 'date': '2024.08.09.'}\n",
      "{'title': '국내 최초 로봇인공지능 과학관, 서울로봇인공지능과학관', 'text': '우리는 일상에서 인공지능과 로봇을 어렵지 않게 접하며 이들과 점점 더 친근한 동반자가 되어 가고 있습니다. 눈을 뜨자마자 인공지능에게 날씨를 물어보거나 좋아하는 음악을 틀어 달라고 하고 때론 친근하게 대화도 나눕니다. 위중한 병을 수술하는 병원에서도 로봇은 사람보다 더 정교하게 수술을 진행합니다. 일터에서는 사람이 하기 힘든 일을 로봇이 척척...', 'date': '2주 전'}\n",
      "{'title': '인공지능으로 영상 만들기 (챗GPT, 모션어레이 활용)', 'text': '최근 인공지능의 발전으로 인해 영상을 아예 처음부터 끝까지 만들어주는 다양한 생성형 AI 서비스들이 등장하고 있습니다. 이러한 서비스들은 간단한 텍스트 입력만으로도 완성된... 따로 대본이나 기획을 짜지 않고도 인공지능 기술을 이용해 쉽게 영상 제작이 가능합니다. 이 영상에 포함된 모든 스톡영상(푸티지)와 효과, 배경음악, 효과음은 모두 모션어레이에서...', 'date': '4주 전'}\n",
      "{'title': '[실외CCTV] 경기도 파주시 마장리에 위치한 건설업체 내 건물외부 주차시설 감시를 위한 CCTV...', 'text': '자비스넷 AI 지능형 영상분석 이벤트 보통 CCTV를 감시 및 촬영 기능만 있다고 생각하실 수 있지만 인공지능CCTV는 AI 지능형 영상분석을 통해 별도의 센서를 따로 설치하지 않아도 다양한 보안·경계기능이 가능합니다. AI CCTV의 지능형 영상분석 기능을 중심으로 고객님을 위한 내 사업장 맞춤 솔루션으로 AI 영상 보안 솔루션을 함께 제공해 드렸습니다. 내...', 'date': '3시간 전'}\n",
      "{'title': '틱택코리아 프로젝트 톺아보기 Ep4 모빌리티 산업에서의 AI(인공지능)', 'text': '모빌리티 분야에서의 인공지능 어렸을 때 상상하는 그림그리기 대회에 꼭 나오는 그림이 자율주행 자동차였습니다. 그런데 최근 테슬라에서 자율주행 택시 로보를... 이렇게 수집한 데이터를 인공지능 기술로 처리하여 자율주행 자동차는 스스로 운행할 수 있습니다. 일론머스크는 자동차가 주차장에 있는 시간에 자율주행을 통해 로보택시로 활용하게...', 'date': '2024.08.13.'}\n",
      "{'title': '[AI 강좌] 디지털 전환을 위한 \"생성형 인공지능의 이해 및 사용법\" 강의 진행(9회차)', 'text': \"대상으로 '생성형 인공지능의 이해 및 사용법'에 관한 주제로 9회차 실습형 강의를 했습니다. 3월부터 시작된 직무연수 교육이 9월을 맞이하여 벌써 9회차가 되었네요. 듀얼 모니터와 헤드셋이 갖추어진 연수원 전문 전산실에서 개최된 이번 과정에서는 단순한 텍스트 생성뿐만 아니라 창의적인 아이디어를 구상하고, (AI)을 활용해...\", 'date': '4일 전'}\n",
      "{'title': '인공지능 전환(AX)과 함께하는 미래', 'text': '인공지능 전환(AX)과 함께하는 미래를 정확하게 예상하기는 어렵습니다. 인공지능 전환이 빠르게 이루어지고 있기는 하지만 거의 모든 분야를 완전하게 새롭게 바꾸기까지는 많은 시간이 필요하기 때문입니다. 다만 과거에는 AI가 인간의 판단을 보조하는 수준에 그쳤다면, 향후 AI는 인간과 동등한 수준의 판단을 내리게 될 것으로 전망됩니다. 건강 관리의 혁명...', 'date': '2024.08.21.'}\n",
      "{'title': '중앙소방학교, “대화형 인공지능 로봇으로 현장 교육 혁신”', 'text': \"✅ '인공지능(AI)복합문화스튜디오' 개설, 창의와 혁신의 공간으로 선보여 ✅ 대화형 로봇 개발로 소방관 역량 강화, ‘소방기관장 정책참모’ 챗봇 주목 ✅ 첨단 기술 접목해 소방 행정 혁신 견인… 국민 안전 강화를 위한 전문 소방공무원 양성 중앙소방학교(학교장 김승룡)가 (AI) 기술을 소방현장에 도입하기 위한 특별한 훈련시설인 '(AI)...\", 'date': '2024.08.08.'}\n",
      "{'title': '인공지능에서 인과추론(Causal Inference)', 'text': '#데이터과학 #인과추론 인공지능에서 \"인과추론(Causal Inference)\"은 어떤 사건이나 현상이 다른 사건이나 현상에 미치는 인과적 영향을 이해하고 추론하는 과정을 말합니다.... https://medium.com/bondata/causal-inference-%EC%9D%B8%EA%B3%BC-%EC%B6%94%EB%A1%A0-%EC%86%8C%EA%B0%9C-30cc9af08cbd 인과추론 방법론 에서 인과추론을 수행하는 주요 방법은 다음과 같습니다...', 'date': '4주 전'}\n",
      "{'title': '2030년까지 기업 인공지능(AI) 활용률 70%까지 올린다', 'text': \"2030년까지 기업 인공지능(AI) 활용률 70%까지 올린다 산업통상자원부 대통령 주재, 제1차 [국가 인공지능 위원회] 개최 산업부, AI로 산업을 대전환하기 위한 '산업 AX 확산 방안' 발표 정부는 윤석열 대통령이 주재하고 학계 · 기업 등 각계 전문가들이 참석한 가운데 9월 26일 오전 10시, 서울 포 시즌스 호텔에서 제1차 [국가 위원회]를 개최하였다. 이날...\", 'date': '1시간 전'}\n",
      "{'title': 'OpenAI, 사유하는 인공지능 o1으로 AI의 기준을 새롭게 하다', 'text': '이번 추론 능력 강화는 인공지능이 AGI, 범용적 인공지능에 한 걸음 가까워졌다는 평가를 받기도 했다. 보다 사람의 사고방식과 비슷해졌다는 의미. 사유하는 인공지능 모델은 인간의 삶에 보다 깊고 넓게 파고들 수 있게 된다. 실질적으로 비슷해진 것인지, 비슷한 결과만 만들어내는 것인지는 잘 모르겠다. 인간의 사고체계가 완벽하게...', 'date': '2주 전'}\n",
      "{'title': '스테이블 디퓨전 그림 인공지능 Stable Difffusion 사용법', 'text': '6월 19, 2024 글쓴이 itgunza 스테이블 디퓨전 그림 인공지능 Stable Difffusion 사용법 요즘 인공지능 기술이 빠르게 발전하면서 새로운 기술들이 계속해서 등장하고 있습니다. 그 중 하나인 ‘스테이블 디퓨전’은 이미지 생성 및 편집 분야에서 혁신적인 성과를 거두고 있는 기술입니다. 특히 최근에는 ‘스테이블 디퓨전 그림 ’이라는 용어로 많이 언급되고...', 'date': '2024.06.19.'}\n",
      "{'title': '알기쉬운 인공지능 5분 강의', 'text': '개별적인 인공지능 프로그램을 쓸 필요없이 바로 chat GPT로 해결 가능하기 때문에 소수의 모델들이 학습할 수 있는 데이터를 또 독점하게 되는 순환이 일어나게 되는 것 그리고 현재 이런 초거대 인공지능을 가지고 있는 것은 미국의 기업들임 미국의 투자 규모는 이미 비교 불가능한 수준임 국가별로 보유한 머신러닝 모델 갯수 2등부터 4등까지를 합해도...', 'date': '2024.08.21.'}\n",
      "{'title': '인공지능에게 질문했습니다! #인플루언서협업', 'text': '인공지능에게 질문했습니다! 인플루언서와 농업인의 협업 모델은? 인플루언서와 농업인의 협업 모델은 다음과 같은 형태로 구성할 수 있습니다: 소셜 미디어 캠페인: 인플루언서가... #질문의힘 #인공지능 #AI농업 #인공지능농업 #농업트렌드연구소 #인플루언서협업 #인플루언서 #인플루언서마케팅 #농업인플루언서 #농산물직거래 #농산물직거래플랫폼', 'date': '2024.08.15.'}\n",
      "{'title': '아직도 인공지능과 데이터에 관심없다면?', 'text': \"사람들에게 데이터에 대해, 인공지능에 대해 관심을 없게 하는 요인은 무엇이 있을까? 한계를 두게 하는 결정적인 이유는 무엇일까? 여러가지가 있겠지만 '기술'이라는 단어가 주는... 그런데 이러한 것들이 데이터와 인공지능을 다루는데 있어서 얼마나 방해가 될까 생각해봤어요. 세상을 살아가는데 있어서 도움이 되려고 배운 학문이 오히려 새로운 지식을 바라보는데...\", 'date': '4주 전'}\n",
      "{'title': '딥페이크 탐지 솔루션 인공지능AI 활용하는 딥브레인AI', 'text': \"이는 '딥러닝'(Deep Learning)과 '가짜'(Fake)의 합성어로, 인공지능 기술을 이용해 실제와 거의 구분하기 어려운 가짜 영상이나 음성을 만들어내는 기술을 말합니다. 이 기술은 원래 엔터테인먼트나 교육 목적으로 개발되었지만, 안타깝게도 요즘 범죄에 악용되는 사례가 급증하고 있습니다. 유명인이나 정치인의 얼굴을 합성해 가짜 영상을 만들어 명예를 훼손하거나...\", 'date': '3주 전'}\n",
      "{'title': 'AI 인공지능시대 기획력강의 문제해결특강 _ 문제정의 문제발굴 기획자의도 _ 워크숍특강 전직원교육', 'text': \"기획보고발표연구소 이석우강사 <AI 인공지능시대 기획력강의 문제해결특강 _ 문제정의 문제발굴 기획자의도 _ 워크숍특강 전직원교육> 안녕하세요. '평범한 사원도... 요즘 인공지능 AI의 이야기가 많이 나오고 늘 보고서 작성에 힘이 빠지는 직장인들은 관심을 가질 수밖에 없는데요. AI가 복잡한 정리를 기가 막히게 해주고 또 '뿅 가게' 잘 찾아서...\", 'date': '3주 전'}\n",
      "{'title': '인공지능에게 질문했습니다! #반려식물', 'text': '인공지능에게 질문했습니다! 반려식물 시장을 겨냥한 상품개발 아이디어는? #반려식물 시장을 겨냥한 상품개발 아이디어는 다음과 같습니다: 스마트 화분: 식물의 수분, 온도, 조명... 지속 가능한 성장을 이룰 수 있는 방법을 보여줍니다. #질문의힘 # #AI농업 #농업 #농업트렌드연구소 #반려식물시장 #반려식물비즈니스 #반려식물마케팅 #반려식물비즈모델', 'date': '2024.08.13.'}\n",
      "{'title': \"강사추천 조성배 교수 강연 '인공지능은 영화 속 허구가 아니다!' ai 강의\", 'text': '인공지능 말 그대로 지능을 인공적으로 만드는 것인데요. 지능은 우리 주변을 인식하고 추론하고 적응해서 의사결정하는 능력을 말합니다. 그런데 문제는 실제로 그걸 어떻게 만드는지는 아직 정확히 모른다는 것에 있습니다. 지능의 원리를 신경과학이나 인지과학의 영역에서 계속 탐구하는 중이기는 한데요. 이를 우리가 쓸모있는 정도로 만든다는 건 아직은 요원한...', 'date': '1일 전'}\n",
      "{'title': '인공지능 AI 보정 사진 편집 프로그램 Fotor', 'text': 'AI 헤드샷 생성기는 인공지능 기술을 활용해 프로페셔널한 헤드샷을 쉽게 생성할 수 있는 도구입니다. 이 기능은 사용자가 기존 사진을 업로드하거나 특정 요구 상항을 입력하면, 자동으로 고품질의 헤드샷을 생성해 줍니다. 사진 촬영에 대한 전문 지식이나 복잡한 편집 작업 없이도 간단하게 이용할 수 있으며, 여러 스타일과 배경을 선택해 사용자 맞춤형으로 만들 수...', 'date': '3주 전'}\n",
      "{'title': 'AI 지우개 서비스를 네이버 인공지능 클로바X가 시작하다', 'text': 'AI 지우개 서비스를 네이버 인공지능 클로바X가 시작하다 네이버가 인공지능 기술을 활용한 새로운 기능인 AI 지우개 서비스를 클로바X를 통해 선보였다는 소식입니다. 이 서비스는 사진 속 불필요한 배경이나 물체를 손쉽게 지워주는 혁신적인 도구로, 전문가 수준의 포토샵 기술이 필요 없이 누구나 쉽게 깔끔한 이미지를 만들 수 있게 해줍니다. AI 지우개...', 'date': '3주 전'}\n",
      "{'title': '의료 인공지능 연구개발(R&D) 로드맵(안) (’24∼’28)', 'text': '인공지능 기반 의료기술 혁신으로 국민건강 증진 2024.09.05 보건복지부 보건복지부(장관 조규홍)는 9월 5일(목) 16시 30분 서울스퀘어(서울 중구)에서 박민수 보건복지부 제2차관 주재로 2024년 보건의료데이터 정책심의위원회를 개최 이번 위원회에서는 ▲의료 연구개발 로드맵(2024~2028) ▲의료데이터 주요정책 추진현황 및 향후 계획 ▲공공데이터 개방·활용...', 'date': '4주 전'}\n",
      "{'title': '인공지능 상권분석 전문가 과정 32기 신운철 세무사 미쳤다 미쳤어!', 'text': '#인공지능상권분석전문가과정32기 단 1번의 인공지능 활용법 수업을 듣고 바로 실무에 적용했는데, 이거 미친 수준인데 ㅋㅋ 어렵지만 꼭 읽어 보세요 신운철 세무사, 다시 한 번 전설을 쓰다!상권분석 전문가 과정 3기 때, 블로그 일 방문자 2만 명을 넘기며 상권분석의 신화를 써 내려갔던 신운철 세무사. 그때도 놀라웠지만, 이번엔 32기 상권분석 전문가...', 'date': '3주 전'}\n",
      "{'title': '[소상공인을 위한 AI 챗GPT 활용법 3편] 인공지능 교육도 하는 상권분석 전문가 과정 32기 2주차 수업', 'text': \"인공지능 상권분석 전문가 과정 김영갑 교수입니다. ChatGPT는 이제 외식업 경영자에게 매우 유용한 도구로 자리 잡았습니다. 상권 분석, 사업 계획서 작성, 경영 전략, 메뉴 개발... 즉, 인공지능을 제대로 활용하려면 질문을 구체적이고 명확하게 던질 줄 알아야 합니다. 예를 들어, 단순히 '메뉴 추천해 줘'라고 질문하기보다는 '젊은 직장인을 대상으로 한 저녁 메뉴...\", 'date': '4일 전'}\n",
      "{'title': '인천 서구노인복지관 2024년 하반기 - 스마트폰 활용교육 8주차 인공지능 AI 아숙업 사용하기', 'text': '오전 미추홀구평생학습관 교육 마치고 오후 2시부터 5시까지 인천 서구노인복지관 스마트폰 활용교육 8주차 인공지능 AI 아숙업 사용하기 실습했어요. 오후 1시 20분 되기 전에 인천 서구노인복지관에 도착했습니다. AI 아숙업 사용하기 서구노인복지관 시니어 대학생님들께서 숏폼으로 추석인사 보내시고 가족, 친구, 지인들로부터 칭찬을 많이...', 'date': '2주 전'}\n",
      "{'title': '[미국주식] 오픈AI 스트로베리(Strawberry) 출시 임박 : 생각하는 인공지능 AI', 'text': '오픈AI ‘생각하는 AI’ 스트로베리(Strawberry) 공개 임박 챗GPT 개발사 오픈AI의 스트로베리(Strawberry)가 텍스트 전용 버전으로 2주 내 공개 예정 스트로베리는 오픈AI가 AI의 추론 능력을 향상하는 데 초점을 두고 비밀리에 개발 중인 프로젝트 코드명 추론 능력을 강화한 (AI) 모델로 질문에 즉각 응답하는 대신 깊이 있는 추론을 거쳐 답변하는...', 'date': '3주 전'}\n",
      "{'title': '드론과 인공지능으로 제주교통체증 해소 !', 'text': '드론과 인공지능을 활용한 첨단 시뮬레이터 시스템을 도입해 교통정체 해소에 앞장섭니다. 아래에서 함께 알아보시죠! 교통혼잡비용: 한국교통연구원, 『2023 국가 교통정책 평가지표 조사사업』, 2017～2021년 교통혼잡비용 연평균 7.8% 증가 (5,700억 원→8,300억 원) 제주도는 ‘2022~23년 지자체 지능형교통체계 국고보조사업’의 일환으로 ‘드론과 디지털 트윈 활용...', 'date': '2024.08.14.'}\n",
      "{'title': '인공지능 시대, 청년세대의 고민 해결 방안 모색하다', 'text': '방통위·과기정통부·문체부·개인정보위, ‘인공지능과 청년세대’ 합동간담회 개최 - 4개 부처 청년보좌역, 2030세대와 인공지능 시대 올바른 디지털 문화도 논의 방송통신위원회와 과학기술정보통신부, 문화체육관광부, 개인정보보호위원회는 9월 22일(일), 한국콘텐츠진흥원(KOCCA) 콘텐츠문화광장(서울 동대문구)에서 ‘2024년 청년문화주간(9. 20.~22.)’의 일환으로...', 'date': '5일 전'}\n",
      "{'title': '인공지능(AI)와 머신러닝(ML)이 그리는 미래: 석유 탐사의 스마트 혁신', 'text': '인공지능(AI)와 머신러닝(ML)이 그리는 미래: 석유 탐사의 스마트 혁신 안녕하세요. 서포터즈 박승현입니다. 최근 석유 탐사 및 개발 분야에서 인공지능(AI)와 머신러닝(ML)의 활용이 빠르게 증가하고 있습니다. 이 기술들은 방대한 양의 데이터를 분석하고, 복잡한 지질구조를 더욱 정확하게 파악하는 데 큰 도움을 주고 있습니다. 과거에는 이런 작업이 많은...', 'date': '3주 전'}\n",
      "{'title': '[소상공인 위한 AI 챗GPT 활용법 1편] 인공지능 상권분석 전문가 과정 32기 수업 2주차', 'text': '인공지능 상권분석 전문가 과정 32기 지도교수 김영갑입니다. 오늘은 32기 수업 2주차에서 가르치기 시작한 소상공인을 위한 인공지능 챗GPT 활용법 특강 1편을 공유하여 드립니다. 소상공인 위한 AI 챗GPT 활용법 1편 왜 소상공인은 을 배우고 활용해야 할까요? 그 답을 명쾌하게 설명해 드립니다. 이 영상은 을 활용한 상권 분석의 중요성과 방법을...', 'date': '1주 전'}\n",
      "{'title': '2024년 자율주행 인공지능 챌린지', 'text': '✅2024년 자율주행 인공지능 챌린지 2024년 자율주행 인공지능 챌린지 ✅참가자격 누구나 ✅접수기간 2024. 8.27(화) ~ 9.20(금) ✅개발주제 자율주행 인공지능 학습 데이터셋을 활용하여 다음 중 1개 이상의 자율주행 모델 적용 *중복 참여 가능 ✅수상자 특전 과학기술정보통신부 장관상, 정보통신기획평가원 원장상, 카카오 모빌리티...', 'date': '4주 전'}\n",
      "{'title': \"윤커뮤니케이션즈, 서울시 '인공지능 기술사업화 지원사업'에 최종 선정\", 'text': \"DX 플랫폼 전문 기업 윤커뮤니케이션즈가 AI 물류솔루션 기업 위밋모빌리티 및 서울대학교 산학협력단과 함께 서울경제진흥원의 '인공지능 기술사업화 지원사업'에 최종 선정되었습니다. ‘인공지능 기술사업화 지원사업’은 서울시 기술의 전 산업 활용과 융합을 위한 핵심기술을 확보하고 사업화 하는 것을 목적으로 하는데요. 기술을 적용하여...\", 'date': '3주 전'}\n",
      "{'title': 'LG유플러스 슬로건 AI, AX Company를 통해 내다본 인공지능 미래 세상', 'text': '일상에서 인공지능 기술이 우리 삶 깊숙이 들어오면서 스마트폰, 스마트 홈, 자동차 등 다양한 분야에서 인공지능 기술이 활용되고 있는데요. 우리는 과거에는 상상할 수 없었던 편리함을 누리고 있습니다. LG유플러스 슬로건인 AI, AX Company 을 통해서 미래 세상을 알아봅니다. LG유플러스가 새롭게 선보인\"Growth Leading AX Company\" 슬로건은 단순한 문구를 넘어...', 'date': '2024.08.08.'}\n",
      "{'title': '인공지능 학습용 데이터 구축사업과 AI Hub', 'text': 'AI 허브에서 제공되는 인공지능 학습용 데이터는 과학기술정보통신부와 한국지능정보사회진흥원의 지능정보산업 인프라 조성 사업의 일환으로 2017년부터 구축되어 현재까지 진행되고 있습니다. AI-Hub는 대규모 인공지능 학습용 데이터와 AI 기술 및 서비스 개발에 필요한 다양한 AI 인프라를 지원하는 AI 통합 플랫폼입니다. 지능정보산업 인프라 조성으로...', 'date': '2024.07.24.'}\n",
      "{'title': '대구시 인공지능(AI) 민원상담사 뚜봇과 함께하는 퀴즈 이벤트!', 'text': '대구시 인공지능(AI) 민원상담사 뚜봇과 함께하는 퀴즈 이벤트! 뚜봇이 내는 퀴즈의 정답을 맞히면, 100분을 추첨하여 편의점 상품권 1만원권을 선물로 드립니다! 똑똑하고 친절한 인공지능(AI) 민원상담사 뚜봇과 함께하는 퀴즈 이벤트! Q. 대구 5대 미래산업의 기반이 될 「기회발전특구」가 아닌 곳은? ①수성알파시티 ②대구국가산단 ③금호워터폴리스 ④동성로...', 'date': '4주 전'}\n",
      "{'title': '인공지능에게 질문했습니다! #인플루언서', 'text': '인공지능에게 질문했습니다! 인플루언서와 농업인이 협업하여 어떤 콘텐츠를 만들 수 있을까? 인플루언서와 농업인이 협업하여 만들 수 있는 콘텐츠는 다음과 같습니다: 농장 투어... #질문의힘 #인공지능 #AI농업 #인공지능농업 #농업트렌드연구소 #농업인플루언서 #인플루언서 #인플루언서협업 #타겟마케팅 #인푸루언서타겟마케팅', 'date': '2024.08.14.'}\n",
      "{'title': '[국가인공지능위원회 출범] 핵심 게임체인저 AI \"2027년까지 3대 강국으로\"', 'text': '인공지능 시대의 등장을 전 세계가 직관했던 이세돌 9단과 알파고의 바둑 대결, 기억하고 계신가요? 이 세기의 대결이 열렸던 장소에서 국가인공지능위원회 출범식이 열렸습니다! 윤석열 대통령은 출범식에서 2027년까지 3대 강국으로 도약하기 위해 민·관 원팀의 국가 총력전을 선포했는데요, 이 국가 역량과 경제 성장은 물론, 안보의 핵심이...', 'date': '1일 전'}\n",
      "{'title': '(인공지능 윤리 퀴즈) AI의 한계와 위험성을 인식시키고, 비판적 사고를 통해 AI를 올바르게 활용하기', 'text': '#데이터과학 #머신러닝 #인공지능윤리 퀴즈 문제 1 다음 중 인공지능(AI)을 맹신하지 않기 위해 학생들에게 강조해야 할 내용으로 적절한 것은 무엇인가? A. AI는 인간보다 항상 정확한 결정을 내리기 때문에 모든 예측을 신뢰해야 한다. B. AI는 데이터를 기반으로 예측하기 때문에 결과가 완벽하다고 볼 수 있다. C. AI는 데이터에 따라 오류를 범할 수 있으며...', 'date': '1주 전'}\n",
      "{'title': '틱택코리아 프로젝트 톺아보기 Ep3. 의료분야에서의 인공지능', 'text': '의료분야에 쓰이는 인공지능 의료 분야에서 AI는 방대한 양의 환자 및 원시 의료 정보를 분석해 더 정확한 진단을 내리고 치료 계획을 세우는데 핵심이 될 수 있습니다. AI는 고성능... 의료 AI는 원격 진료 및 모니터링 서비스가 진행될 때 의료 영상 분석을 통해 정확한 진단을 내리거나, 환자의 증상 기입만으로 이 초기 진단을 제시할 수도 있습니다. 또한...', 'date': '2024.08.16.'}\n",
      "{'title': '「인공지능서비스이용자 보호 민관협의회」 출범', 'text': '그동안 방통위와 다양한 지능정보서비스* 관련 이해관계자가 이용자 보호 정책 방안 등을 논의하기 위해 운영해 온 「지능정보사회 이용자보호 민관협의회」를, 올해부터는 인공지능 시대에 걸맞게 「인공지능서비스 이용자 보호 민관협의회」로 확대 개편하여 운영하게 되었습니다. * 지능정보서비스: AI, 메타버스, 빅데이터, 사물통신, 클라우드 컴퓨팅 등 신기술...', 'date': '2024.07.19.'}\n",
      "{'title': '국가장학금, 학자금대출이 궁금할 땐 인공지능 챗봇 ‘희망봇’에게 물어보세요!', 'text': '희망이가 인공지능 챗봇 ‘희망봇’으로 변신하여 국가장학금, 학자금대출 등 재단의 주요 사업에 대한 여러분의 궁금증을 해결해 드리고 있습니다. 희망봇은 한국장학재단 홈페이지에서 24시간 실시간으로 상담 서비스를 제공하고 있는데요. <희망봇 바로가기> 재단의 사업에 대해 궁금한 점이 생긴다면 언제 어디서든 망설이지 말고 재단 홈페이지에 접속해 우측...', 'date': '1일 전'}\n",
      "{'title': '인공지능 챗GPT는 나를 정확히 알고 있다', 'text': '안녕하세요 인공지능 상권분석 전문가 과정 32기 지도교수 김영갑교수입니다. ChatGPT에게 나의 직업을 물어 보았습니다 네, 김영갑 교수님께서는 외식경영학 교수로서 외식경영학을 연구하고 가르치며, 소상공인과 프랜차이즈 관련 기업을 자문하고 계십니다. 챗GPT는 나의 성격을 어떻게 이해하고 있을까요? 김영갑 교수님은 매우 체계적이고 목표 지향적인 성격을...', 'date': '6일 전'}\n",
      "{'title': '<생성형 인공지능과 K-콘텐츠 창작의 미래>', 'text': '<생성형 인공지능과 K-콘텐츠 창작의 미래> 한국방송촬영인협회(KDPS) 오픈특강 안내 한국방송촬영인협회는 다가오는 9월 6일(금), 한국콘텐츠진흥원이 주최하고... 본 특강은 한국방송촬영인협회가 참여기관으로 수행 중인 2024 콘텐츠 창의인재 동반사업의 교육 프로그램으로 <생성형 과 K-콘텐츠 창작의 미래>라는 주제로 진행합니다....', 'date': '2024.08.23.'}\n",
      "{'title': '인공지능 조련사, 프롬프트 엔지니어', 'text': '그 사이 인공지능(AI)은 빠르게 발전해 텍스트, 이미지, 영상을 한 번에 이해해 생성하고, 농담도 던집니다. AI를 접목하고 있는 기업도 늘고 있는데요. 이에 따라 새로운 직업군이... 국내 AI 스타트업은 연봉 1억 원에, 구글이 투자한 스타트업은 연봉 3억∼4억 원에 채용하기도 했답니다. AI로 매일 우리는 새로운 세상으로 나아가고 있습니다. 여기서는...', 'date': '2024.05.31.'}\n",
      "{'title': '초거대 인공지능과 상생하는 지식재산을 고민하다', 'text': '국가지식재산위원회가 발행한 ‘인공지능과 지식재산권 보고서’를 살펴보면서, 초거대 AI와 지식재산이 상생할 미래를 함께 준비해볼까요? 생성형 AI로 콘텐츠를 만들다 2022년... 이에 국가지식재산위원회는 초거대 인공지능 시대에 당면한 지식재산의 과제들을 식별하고 대응할 수 있는 방법을 담은 보고서를 발간했습니다. 보고서는 지재위 홈페이지(www.ipkorea....', 'date': '2024.08.26.'}\n",
      "{'title': '전자 현미경 이미지 품질을 높이는 인공지능', 'text': '품질을 인공지능으로 높이는 연구를 진행했습니다. vEM은 상당한 양의 데이터를 생성하기 때문에 이를 처리하는 과정에서 많은 시간과 노력이... Diffusion-based deep learning method for augmenting ultrastructural imaging and volume electron microscopy, Nature Communications (2024). DOI: 10.1038/s41467-024-49125-z #전자현미경##이미지', 'date': '2024.08.21.'}\n",
      "{'title': '데이터 과학, 딥러닝, 인공지능 등과 관련된 연구 논문 찾기', 'text': '데이터 과학, 딥러닝, 인공지능 등과 관련된 연구 논문, 기술 블로그 자료를 찾을 수 있을 것입니다. 사이트 이름 설명 분야 URL arXiv 전 세계 연구자들이 업로드한 다양한... 딥러닝, 강화학습, 인공지능 DeepMind Blog 이 표에 나온 사이트들은 데이터 과학과 관련 연구 동향을 파악하는 데 매우 유용하며, 다양한 논문과 기술 동향을 쉽게...', 'date': '2주 전'}\n",
      "{'title': '틱택코리아 뉴스레터 신청으로 인공지능 관련 소식을 접해보세요.', 'text': '트랜드, 틱택의 기술과 차별점 틱택코리아의 이벤트 소식 등을 받아보실 수 있습니다. 인공지능 산업과 관련된 최신 트랜드를 접하고 싶으시다면 하단 링크를 통해 뉴스레터 구독 서비스를 신청하세요. ▼▼▼▼▼▼▼▼ https://page.stibee.com/subscriptions/361953 #틱택코리아 #틱택 #Tictag #틱택코리아뉴스레터 #뉴스레터 #AI산업트렌드 #틱택서비스 #틱택이벤트', 'date': '4주 전'}\n",
      "{'title': '대한민국 미래를 이끌 인공지능･디지털 핵심인재 성장 적극 지원!', 'text': '* 인공지능대학원(10개, ‘24년 200억원), 인공지능융합혁신대학원(9개, ‘24년 105억원), 인공지능반도체대학원(3개, ‘24년 90억원), 가상융합세계융합대학원(8개, ‘24년 65억원), 융합보안대학원(12개, ‘24년 87.6억원) 학생들은 연구 생활 중의 고민을 이야기하며 대학원 이후의 진로, 연구자로서 필요한 마음가짐 등에 대한 조언을 구했으며, 유상임 장관은 학생들이...', 'date': '2024.08.23.'}\n",
      "{'title': '「2024년 인공지능 서비스 이용자보호 콘퍼런스」 개최', 'text': \"2024년 9월 30일(월) '인공지능 서비스 이용자보호 콘퍼런스'가 개최됩니다! 방송·통신 미디어 환경에 인공지능의 영향이 커지면서 이용자 위상 변화와 바람직한 이용자 보호 정책 방향을 모색하기 위해 마련된 본 컨퍼런스는 ' 시대의 이용자 경험과 대응'이라는 주제로 진행됩니다. 신청기간 : ~9월 30일(월) 참가신청링크 많은 관심과 참여 바랍니다\", 'date': '2일 전'}\n",
      "{'title': '인공지능도 특허출원을 할 수 있을까?', 'text': '인공지능은 인간의 지능을 인공적으로 만들어내려는 컴퓨터 과학 기술입니다. 그런데 인공지능이 독창적인 기술을 구상해내고 특허를 출원한다면, 그 인공지능은 특허의 발명자로 인정받을 수 있을까요? 오늘은 인공지능의 특허출원 사례에 대한 유럽특허청의 판결에 대해 소개해드리려고 합니다. 함께 알아보시겠습니다. 2018년 10월 및 11월에 걸쳐 Thaler 박사는...', 'date': '4분 전'}\n",
      "{'title': '인공지능 이미지 변환 웹서비스 dzine.ai 사용 후기', 'text': '인터넷을 검색해 보면 인공지능을 활용한 웹서비스가 정말 많이 있는데요. 그중 원본 이미지에 맞춰 다양한 스타일로 변경해 주는 dzime.ai 웹서비스를 사용해 봤습니다. 정말... 나머지 옵션은 기본 그대로 설정하고 [Generate] 버튼을 눌러 이미지를 생성하면 됩니다. ▲ 무료 사용자의 경우 구독을 유도하는 팝업 창이 뜨는데요. 창을 닫고 몇 명의...', 'date': '2024.07.10.'}\n",
      "{'title': '인공지능에게 질문했습니다! #제철농산물', 'text': '인공지능에게 질문했습니다! 로컬푸드와 제철농산물을 이용한 효과적인 농산물 마케팅 아이디어는? 로컬푸드와 제철농산물을 이용한 효과적인 농산물 마케팅 아이디어는 다음과... #질문의힘 #인공지능 #AI농업 #인공지능농업 #농업트렌드연구소 #로컬푸드 #제철농산물 #로컬푸드마케팅 #제철농산물마케팅 #로컬푸드홍보 #로컬푸드스토리텔링', 'date': '2024.08.16.'}\n",
      "{'title': \"이상완 교수 강의 '로봇이 인공지능처럼 생각할 때 벌어질 일들' 특강 강연\", 'text': \"이상완 교수님은 現 카이스트 교수이자, 카이스트 신경과학-인공지능융합연구센터장으로 재직하시며, '인공지능은 인간처럼 생각하지 않는다' '인공지능은 뇌처럼 생각하지 않는다' 'Chat GPT/GPT4와 알파고의 시대, 초거대 은 뇌처럼 생각하지 않는다.' '챗GPT와 알파고, 초거대 은 인간지능을 대체하는가?' '과 인간지능의 차이점 / 과...\", 'date': '4주 전'}\n",
      "{'title': '[TIPA와 함께 알아보는 이달의 키워드] #범용인공지능 #스마트빌리지 #NPU #GAA', 'text': '범용인공지능 Artificial General Intelligence 사람과 유사한 범위의 지능을 갖춘 인공지능을 뜻합니다. 다양한 인지적 작업을 수행하고, 다양한 도메인에서 학습한 지식을 활용해 문제를 해결할 수 있습니다. 이렇게 지식을 활용해 문제를 해결한다는 점에서 단순히 특정 작업에 특화된 (AI)과는 구별되는 특징을 가지고 있습니다. 최근 삼성전자를 비롯해...', 'date': '3일 전'}\n",
      "{'title': '[인공지능 책 출간을 위한 탈고] 소상공인 식당 경영을 위한 챗GPT 활용법, 대박 식당을 위한 프롬프트...', 'text': '인공지능&상권분석 전문가 과정 김영갑 교수입니다. 저는 이번 추석 연휴 동안, 소상공인 식당 경영자를 위한 인공지능 관련 책을 집필하였습니다. 오늘 원고 작업을 마무리했으며, 월요일에 출판사에 최종 원고를 제출할 예정입니다. 국내에서 식당 사업자를 위한 최초의 프롬프트 엔지니어링 책(종이책)이라는 점을 감안하여 책 제목은 다음과 같이...', 'date': '5일 전'}\n",
      "{'title': '[소상공인을 위한 빅데이터 상권분석 4판] 인공지능상권분석전략연구협회와 함께 두 번째 교정 작업 중', 'text': '인공지능 상권분석 전문가 과정을 수료한 제자들 중에서 향후 상권분석 전문가로 활동할 예정인 분들이 이 책의 개정판 작업에 참여해 주셨습니다. 외식산업교육연구원 대표 이동수... 인공지능상권분석전략연구협회란? 상권분석전략연구협회는 을 활용한 상권 분석 전문가를 양성하고, 이들이 실무에서 활동할 수 있도록 체계적인 교육과 훈련을 제공하는 전문...', 'date': '6일 전'}\n",
      "{'title': 'GPT o1의 등장과 생성형 인공지능의 미래(인공지능의 또 다른 변곡점)', 'text': 'GPT o1의 새로운 업데이트는 최근 생성형 인공지능의 발전 속도를 보여주는 방점이라는 생각이 들어, 이렇게 포스팅을 하게 되었다. 한 시대가 지나면 다음 세대는 필연적으로 기존의... 앞으로는 문제 해결의 프레임을 설계하고, 이 스스로 판단할 수 있도록 하는 것이 필요하다고 생각한다. 그렇기 때문에 또 다른 느낌일 수 있지만 프롬프트 엔지니어링은 다른...', 'date': '6일 전'}\n",
      "{'title': '인공지능에게 대체되지 않는 나를 만드는 법 - 에이트 (EIGHT)', 'text': '제가 좋아하는 작가님 중 한 분이에요~^^ 도서 - 에이트 인공지능에게 지시를 내리는 계급 인공지능에게 지시를 받는 계급 인류의 미래는 인공지능에게 지시를 내리는 계급 혹은 지시를 받는 계급으로 나눠질 거라고 합니다. 학교에 진로 교육을 할 때에도 아이들에게 에게 지시를 내리는 사람이 되어야 한다고 강조하고 있어요~ 선진국들은 오래전부터 교육을 하고...', 'date': '3일 전'}\n",
      "{'title': '간단한 인공지능으로 앱 만들기 하자', 'text': '(nocode)와 인공지능(AI) 기술의 발전으로 누구나 쉽게 자신만의 앱을 만들 수 있는 시대가 도래했습니다. 노코드란? 프로그래밍 언어를 모르는 사람들도 복잡한 코드를 작성하지 않고도 앱이나 웹사이트를 만들 수 있게 해주는 기술입니다. 사용자는 드래그 앤 드롭 같은 간단한 인터페이스를 통해 앱의 구성 요소를 선택하고 조합할 수 있습니다. 의 역할...', 'date': '2024.05.14.'}\n",
      "{'title': '인공지능 AI 대체 직업과 초고령 사회 한국의 미래 일자리 전망', 'text': '이웃님들께선 인공지능 AI 기능 활용해 보셨나요? 저는 핸드폰에 있는 기본 AI 기능만 써봤는데도 아주 편리하더라구요. 그런데 우리나라 일자리 중 12%에 해당하는 314만 개 일자리가 인공지능 AI 기술로 대체될 것이란 전망이 나와 우려의 목소리가 이어지고 있습니다. AI 대체 직업, 어디가 가장 많을까? 지난 15일에는 인구구조 변화, 다가오는 AI 시대의 새로운...', 'date': '2024.07.16.'}\n",
      "{'title': '인공지능 UPDF PDF 요약 및 번역, 수정 AI 챗봇까지', 'text': '인공지능 UPDF PDF 요약 및 번역, 수정 AI 챗봇까지 안녕하세요. 사진&IT 크리에이터 자유분방입니다. 업무를 보다 보면 PDF 파일을 활용하게 될 때가 많습니다. PDF파일에 대해서 잠시... 이번 글에서는 PDF 파일을 인공지능으로 어시스턴트 해주는 UPDF를 소개 드려보려고 합니다. UPDF UPDF는 단순히 PDF 뷰어가 아니라 AI를 통해서 내용을 요약하고, 번역하며, AI Chat을...', 'date': '2024.07.19.'}\n",
      "{'title': '[인공지능&상권분석 전문가 과정 32기 오리엔테이션1편] 인공지능을 활용한 상권분석 사례', 'text': '#인공지능상권분석전문가과정32기 안녕하세요. 인공지능&상권분석 전문가 과정 32기 지도교수 김영갑입니다. 32기 수업부터 본격적으로 도입된 인공지능 활용 상권분석의 사례를 이용해서 소상공인에게 상권분석이 왜 중요한지 알려드리고자 합니다. 이 영상은 을 활용한 상권 분석의 중요성과 그 과정에서의 실질적인 적용 사례를 다루고 있습니다. 특히...', 'date': '2주 전'}\n",
      "{'title': 'AI 공모전 2024 ETRI 자율성장 인공지능 경진대회 FASHION-HOW 시즌5 접수중', 'text': 'AI 공모전 소식 2024 ETRI 자율성장 인공지능 경진대회 FASHION-HOW 시즌5 접수중 AI 혁신에 세상이 빠르게 변화하고 있다. 내로라하는 빅 테크 기업들이 서둘러 인공지능 시장에 참전하고 있으며 일례로 스마트폰과 노트북에는 서둘러 AI가 탑재되어 자웅을 겨루고 있는 중이다. AI의 다양한 카테고리 중에서 최근 이목을 모으는 부문이 바로 자율성장 이다....', 'date': '2024.07.16.'}\n",
      "{'title': \"IT 전문 기자 최동녘 강사 특강, '인공지능(AI)' 강연\", 'text': \"IT 전문 기자 최동녘 강사 특강, '인공지능(AI)' 강연 안녕하세요. 강연전문기업 호오컨설팅입니다. 파우컴퍼니에서 호오컨설팅 섭외를 통해 IT 전문 기자 최동녘 강사님 특강(강연)을 진행했습니다. 임직원을 대상으로 '인공지능(AI)'라는 주제로 AI에 관한 특강(강연)을 진행하셨습니다. 최동녘 강사님은 現IT 전문 기자이자, 작가로 활동하시며, '챗GPT 등 ...\", 'date': '2024.07.25.'}\n",
      "{'title': '한글사업계획서 한글제안서 과업지시서 _ 국책사업 정부사업 지자체사업 한글문서변환 _ AI ...', 'text': '기획보고발표연구소 이석우강사 <한글사업계획서 한글제안서 과업지시서 _ 국책사업 정부사업 지자체사업 한글문서변환 _ AI 인공지능 파워포인트 활용관점> 안녕하세요.... 이젠 게다가 AI 인공지능 툴까지 나왔으니 이런 방법으로 PPT 사업계획서나 제안서를 만드는 건 더욱 쉽게 할 수 있게 됐죠. 그러나 이런 기성품 모드로는 아직까지 절대로 내...', 'date': '2주 전'}\n",
      "{'title': '디지털 트랜스포메이션에서 인공지능 트랜스포메이션으로, 소상공인의 새로운 도전과 기회', 'text': '#인공지능상권분석전문가과정32기 안녕하세요. 인공지능&상권분석 전문가 과정 김영갑 교수입니다. 대박을 꿈꾸는 소상공인을 위한 인공지능 트랜스포메이션 선택이 아닌 필수입니다 지난 몇 년간, \"디지털 트랜스포메이션\"은 기업 규모에 상관없이 필수적인 변화 과정으로 여겨졌습니다. 소상공인 또한 새로운 디지털 도구와 플랫폼을 도입하면서 더 나은 고객 관리...', 'date': '2주 전'}\n",
      "{'title': 'AI 부트캠프 인공지능 국비지원 학원 문제점', 'text': \"인공지능 사람이 데이터를 학습시키고 이후 컴퓨터 스스로 데이터가 가지고 있는 규칙을 찾아 결과를 도출하거나 새로운 결과를 창조하는 것이 인공지능의 개념입니다. 챗봇 그림 그리기 이미기 만들기 동영상 만들기 등등 현재의 시장은 '생성형 AI'가 강세를 보이고 있습니다. 데이터를 바탕으로 사람의 영역으로 여겨졌던 창작까지 하는 것을 뜻하며...\", 'date': '2주 전'}\n",
      "{'title': '[인공지능 상권분석 전문가 과정 32기 3주차 수업 예고] 소상공인 창업자, 사업자, 마케터를 위한 챗GPT...', 'text': \"안녕하세요 인공지능 상권분석 전문가 과정 김영갑 교수입니다. 9월 23일 3주차 수업 내용을 미리 안내드립니다. 챗GPT 활용법 두 번째 시간에는 '소상공인을 위한 업무용 문서와 매뉴얼... 식당 운영 매뉴얼 작성 및 교육 자료 제작 소상공인 대표님들이 활용법에 대한 수업을 듣게 되면 어떤 능력이 생길까요? 소상공인 대표님들이 (AI) 활용법에 대한...\", 'date': '2주 전'}\n",
      "{'title': '인공지능 활용 고품질 영상콘텐츠 기획/제작 워크숍', 'text': '인공지능 활용 고품질 영상콘텐츠 기획/제작 워크숍 [한국방송촬영인협회(KDPS) 교육사업] 협회는 한국콘텐츠진흥원이 주최하는 <FOCUS ON STAFF 2024 심화 - 대중문화예술... <FOS2024 심화 - 대중문화예술 기술혁신 사례 워크숍> 활용 고품질 영상콘텐츠 기획/제작 워크숍 [feat. MBC<PD가 사라졌다> 제작사례] - 교육일시 : 2024. 09.23(월)...', 'date': '2024.08.21.'}\n",
      "{'title': '[PTZ카메라 추천] 경기 파주시 골프용품 제조업체 내 인공지능CCTV 설치후기', 'text': 'AI 영상보안 솔루션 자비스넷 AI 인공지능 CCTV 지능형 영상분석 자비스넷 AI 영상 보안 솔루션 구성도 AI 영상감시 솔루션이란 감지된 상황이 실제 위급한 상황인지 아닌지를 딥러닝서버가 2차로 빠르게 분석하여 실제 상황으로 판단 되었을 경우, 실시간 영상과 함께 고객님의 휴대폰으로 긴급 PUSH 알림을 보내드리는 시스템입니다. 침입, 도난, 보안, 화재사고...', 'date': '1주 전'}\n",
      "{'title': '어서 와, 인공지능(AI)! 초·중등 디지털 인프라 개선계획을 살펴보아요', 'text': '2025년부터 인공지능(AI) 디지털교과서! 본격적인 도입!? 초등학교 때부터 고등학교 때까지 서책형 교과서를 사용하며 다닌 기억이 있는데요. AI 디지털교과서는 서책형 교과서와 함께할... 인공지능(AI) 디지털교과서란? 개별 학업 성취도에 따른 맞춤형 학습을 제공하여 교육 격차를 줄이려는 취지로 도입된 (AI) 디지털교과서는 미래형 학습 도구로서 풍부한...', 'date': '2024.07.05.'}\n",
      "{'title': '신약 개발 과정에서 인공지능의 활용 방법은? 공식 안내서를 참고하자!', 'text': '인공지능과 딥러닝 기술이 신약으로서의 가치를 갖는 유효물질을 발굴하는 등 신약개발 과정에 기여할 수 있다는 점이 확인되어 왔습니다. 무수히 많은 선도물질을 스크리닝하는 과정부터, 그 물질을 어떻게 효과적인 약제로 탈바꿈시킬지 처음부터 설계하는 과정까지, 그 모든 개발 과정은 본래 연구자의 역량에 의존했던 과정인데요. 이에 따라 기술이...', 'date': '2024.07.26.'}\n",
      "{'title': \"9.23(월) 숙명여대 인공지능공학부 '진로콘서트' 연사로 참가 #링크드인 #개인브랜딩\", 'text': '오늘 저녁은 숙명여대 인공지능공학부 진로콘서트에 연사로 참가합니다. 지난 5월 숙명여대 온라인 강의에서 200명 이상 참석해주셨는데 이번에는 오프라인으로 유익한 시간... 그 과정에서 좋은 사람들과 연결되고, 비즈니스 기회가 탄생하는 것이죠. 그럼 금일 저녁에 뵙겠습니다. #숙명여대 #공학부 #LinkedIn #Branding', 'date': '4일 전'}\n",
      "{'title': '인공지능으로 더 안전하게! 스마트 횡단보도 운영', 'text': '[ 스마트 횡단보도 시스템이란? ] 인공지능(AI) 기술을 접목한 보행 신호 자동 연장시스템으로 신호등 기기에 부착한 인공지능 카메라가 보행자를 감지해 길을 건널 시간이... 이 사업은 국토교통부 지능형교통체계 구축 공모에 선정돼 총 사업비 19억원을 투입해 진행한 사업으로, 노인･어린이 교통사고 위험지역 23개소에 구축했습니다. 관할구 지점명 주소...', 'date': '2024.07.03.'}\n",
      "{'title': 'WWDC 2024, 애플의 인공지능 파트너십 계획 발표 예정', 'text': 'WWDC 2024 주요 내용 올해 WWDC의 주요 발표 내용은 인공지능(AI)에 중점을 둔 새로운 소프트웨어 업데이이트로 예상이 되고 있다. 블룸버그의 레포트에 따르면, 애플은 iOS 18애... 마무리 애플이 시리를 내놓았을 때만 해도 분야의 선도주자였다. 시리가 빠르게 이 시장을 잠식해 나가리라는 기대는 당연해 보였다. 하지만, 결과적으로 애플은 구글...', 'date': '2024.06.12.'}\n",
      "{'title': '[인공지능 챗GPT 활용법 사례] 2025년 KYG소상공인대학 설립, 교육 사업을 공식적이고 체계적으로...', 'text': '#인공지능상권분석전문가과정32기 #사업계획수립 #인생로드맵만들기 2025년 사업계획을 수립 중에 있습니다. 챗GPT와 대화를 하면서 저의 인생 계획과 로드맵에 대한 내용을 정리하고 있습니다. 인공지능&상권분석 전문가 과정 수강생들에게 활용법을 교육하기 위한 목적으로 만든 가상의 계획입니다. 챗GPT 2025년부터 KYG소상공인대학을 설립하여 교육 사업을...', 'date': '6일 전'}\n",
      "{'title': '인공지능 자연어 처리로 인해 ChatGPT-o1 한국어의 중요성', 'text': '인공지능(AI)이 발전하면서 우리의 삶에 점점 더 깊이 스며들고 있습니다. 그중에서도 자연어 처리(Natural Language Processing, NLP)는 AI가 인간의 언어를 이해하고 소통할 수 있게... 얼마전 인공지능 세미나에서 특히 자연어 처리로 진행하여 큰 인기가 있어서 이야기 해보도록 하겠습니다. 출처 : 왼 : Pyladies의 박조은 강사님 강의안에서 발취 자연어 처리는...', 'date': '3일 전'}\n",
      "{'title': '티처블 머신으로 인공지능 입문하기', 'text': '티처블 머신의 가장 큰 장점은 복잡한 코딩 지식이 없어도 누구나 사용할 수 있어 초, 중, 고등학생들이 수업시간에 인공지능을 배우는데 있어 충분히 좋은 도구라고... 이 이미지 샘플이 좋아야 인공지능도 학습을 잘할 것입니다. 만약 샘플을 삭제하고 싶다면 클래스 삭제를 하면 클래스가 지워지므로 모든 샘플 삭제를 하는 것이 새로 샘플을 모을 때...', 'date': '2024.07.31.'}\n",
      "{'title': '인공지능 애완로봇 로봇강아지 아이보 백터로봇', 'text': \"소니는 이러한 문제점을 해결하고자 인공지능 로봇 강아지 '아이보'를 개발했습니다. 오늘은 로봇강아지 아이보, 스마트비서 백터로봇에 대해 알아보겠습니다. 로봇 강아지 아이보, 어떤 점이 특별할까요? 아이보는 단순한 기계를 넘어, 을 통해 주인과의 교감을 학습하고 발전합니다. 주인의 목소리 톤, 표정, 행동 등을 분석하여 개별 맞춤형 반응을 보여줍니다....\", 'date': '3일 전'}\n",
      "{'title': '[허벨] 데이터센터&인공지능은 아직 초기단계입니다 (모건 스탠리 컨퍼런스)', 'text': '및 인공지능 수혜를 얼마나 누리고 있는지 알 수 있는 재미있는 컨퍼런스였습니다\" 핵심포인트 5가지 전력망 교체, 재생에너지, 데이터센터, 리쇼어링, 인프라법안 등등 다양한 이유로 전력기기 업체들은 수혜를 누리고 있음. 시간순으로 나열하면 전력망 현대화 → 재생에너지 → 데이터센터 순서대로 전력기기 산업에 순풍이 불고 있음. 허벨의 대표이사는 ...', 'date': '1주 전'}\n",
      "{'title': '위기가구 대상 인공지능(AI) 초기 상담 시범 사업 추진', 'text': '인공지능(AI) 전화로 위기가구 찾아낸다 시범사업 추진 보건복지부는 7월 22일 위기가구를 대상으로 인공지능(AI)을 활용해 전화로 초기 상담하는 시범사업을 추진한다고 밝혔습니다. 지금까지는 위기 의심 가구에 대해 지방자치단체 사회복지공무원이 일일이 전화로 초기 상담을 해왔습니다. 앞으로는 AI가 이 단계를 대체합니다. 시나리오에 기반한 상담을 하는 건데...', 'date': '2024.07.31.'}\n",
      "{'title': 'KT 기가지니 셋톱박스 AI 인공지능 후기', 'text': \"기가지니3는 셋톱박스 기능뿐만 아니라 인공지능 스피커가 결합된 제품이에요 15W 출력의 스피커를 탑재하고 있으며, 하만카돈에서 튜닝한 사운드 덕분에 선명하고 깨끗한 소리로 평가받고 있어요 스마트폰과 블루투스 방식으로 연결하여 음악 감상용 스피커로도 활용할 수 있습니다! '지니야' 등의 명령어로 호출하여 음성으로 다양한 명령을 내릴 수 있어요...\", 'date': '2주 전'}\n",
      "{'title': '법제처, 인공지능(AI) 법령검색 시스템구축 박차', 'text': '법제처(처장 이완규)는 20일(금), 인공지능(AI) 전문기업 ㈜솔트룩스(서울 송파구 소재)를 방문하여 인공지능을 활용한 지능형 법령검색 시스템 구축을 위한 중간점검을 가졌다. 이날 간담회에서 솔트룩스 이경일 대표 등 업계 관계자들은 (AI) 서비스 현황과 활용 방안을 제시했고, 참석자들은 해당 기술을 법제처 법령정보서비스에 연계하는...', 'date': '1주 전'}\n",
      "{'title': '충청 ICT [온라인 인공지능 교육] AI시스템 반도체(CJU) 교육생 모집', 'text': '충청 ICT [온라인 인공지능 교육] AI시스템 반도체(CJU) 교육생 모집 안녕하세요. 취업비서 인크루트 입니다. 오늘은 충청권 지역 거점을 통해 신기술 인력을 양성하고 개발자를 지원하여 특화산업에 AI 등 신기술 도입 및 활성화 도모를 위해 진행되는 충청 ICT이노베이션스퀘어 에서 진행하는 충청 ICT [온라인 교육] AI시스템 반도체(CJU) 교육생...', 'date': '2024.08.12.'}\n",
      "{'title': 'AI개발 교육 [인공지능, 협동로봇 교육] 개발자취업을 위한 ROKEY BOOT CAMP 2기 모집', 'text': 'AI개발 교육 [인공지능, 협동로봇 교육] 개발자취업을 위한 ROKEY BOOT CAMP 2기 모집 안녕하세요. 취업비서 인크루트 입니다. 실무 맞춤형 신입 엔지니어 양성교육으로 진행되는 두산로보틱스의 AI개발 교육 [인공지능, 협동로봇 교육] 개발자취업을 위한 ROKEY BOOT CAMP 2기 모집 소식은 전달해드리겠습니다. #python #Computer Vision #ROS-2 #로봇 프로그래밍 실무...', 'date': '2024.08.14.'}\n",
      "{'title': '미래 모빌리티 기술 선도 도시로! 대전시-KAIST, 차세대 인공지능 모빌리티 연구 업무협약', 'text': '과학기술정보통신부 주관 ‘2024년 소프트웨어 컴퓨팅산업 원천기술 개발사업’ 공모에 대전시와 KAIST가 최종 선정된 가운데, 23일(금) ‘차세대 인공지능(AI) 모빌리티 연구’를 위한 업무협약을 체결했습니다. 이번 사업은 (AI) 융합 교통 시뮬레이터를 국내 최초로 개발해 대전시의 무궤도 트램 시범사업(2025년)과 2호선 트램 운영(2028년)에 관련된...', 'date': '2024.08.23.'}\n",
      "{'title': '(인공지능 블루투스 스피커 연결) kt olleh 기가지니 2 3 사용법 변경 비교 이유', 'text': '하지만 셋톱박스가 오래되어 고장이 자주 나면서 이번 기회에 생활을 편리하게 해 줄 수 있는 인공지능 셋톱박스를 사용해 보기로 했죠~ 이제 셋톱박스 종류와 월 요금에 대해... 통신사별로 다양한 인공지능 스피커가 있고, 저는 여러 가지 사항을 비교해 본 후 KT olleh 기가지니3를 선택했습니다. 지금부터 기가지니2와 기가지니3의 차이점, KT olleh 기가지니3의...', 'date': '1일 전'}\n",
      "{'title': '인공지능 시대에 새로운 혁신으로 개인 사업은 퍼스널 플랫폼!', 'text': '무역 전쟁에 이어 인공지능 전쟁을 벌이는 있는 국가는 미국과 중국이라고 합니다. 미래 산업구조의 경쟁력을 위해 국가 간에 경쟁으로 정부가 깊이 관여한다고 합니다. 그리고 미래를 위해 기업 간에 경쟁도 인공지능에 의해 결정된다고 합니다. 미래에는 모든 분야에서 이 도입되어 사용할 것이라고 합니다. 의료 분야, 금융 분야, 교육 분야, 제조 분야 등...', 'date': '2024.07.29.'}\n",
      "{'title': \"주말 아이와 갈 만한 곳 추천! 로봇과 대화하고 축구 즐겨요~ '서울로봇과학관' 정식 개관\", 'text': \"이를 직접 체험해 볼 수 있는 '서울로봇인공지능과학관'이 8월 20일 정식 개관합니다. 자세한 내용, 함께 살펴보실까요? ‘로봇·인공지능과 함께할 우리의 미래는 어떤 모습일까?’ 궁금하다면 8월 20일 정식 개관하는 ‘서울로봇과학관’을 찾으면 된다. 우리에게 다가올 미래를 미리 보여주며 서울의 새로운 명소로 자리 잡을 이 과학관은 다양한 체험...\", 'date': '2024.08.17.'}\n",
      "{'title': '[인공지능&상권분석 전문가 과정 32기 오리엔테이션 2편] 인공지능을 활용한 상권분석으로 대박집 창업과...', 'text': '#인공지능상권분석전문가과정32기 #오리엔테이션2편 안녕하세요. 인공지능&상권분석 전문가 과정 32기 지도교수 김영갑입니다. 오늘은 32기 수업 1주차 오리엔테이션 영상 2편을 공유하여 드립니다. 본 영상은 인공지능과 상권분석에 관심이 있는 분들을 위한 다양한 정보가 포함되어 있습니다. 꼭 시청하시기 바랍니다. 이 영상에서는 성공적인 외식업을 위한 상권...', 'date': '2주 전'}\n",
      "{'title': '인공 지능 코딩 코디니 - 청소년 수련관 수업', 'text': '^^ 손도 씻고 손도 말리고~! 건강을 책임지는 코디니 입니다. 우왕~~ 잘 만들었네요~ 다음 시간도 재미있게 수업해 보아요~ 초.중.고 코딩수업문의 ⬇️⬇️⬇️ #동래구청소년수련관 #와이즈교육 #코딩교육 #인공지능코딩 #KTAI코딩 #무료코딩교육 #코딩자격증 #코딩대회 #AICE자격증 #딩가샘', 'date': '4일 전'}\n",
      "{'title': '[A.I] 인공지능 검색툴 세 가지 + GPT-O1', 'text': '바로 인공지능 검색툴 때문이다. 현재 가장 많이 사용되는 A.I 검색툴은 다음 세 가지로 알고 있다. ChatGPT, Perplexity, Goover 1.ChatGPT ChatGPT는 생성형 인공지능 언어 모델이다. 너무나 유명해서 전 세계 많은 사람들이 이미 잘 사용하고 있다. 특히 ChatGPT-4o 버전은 대화형에 더욱 최적화되어 있다. 개인적으로 어떤 지식의 전체적인 경로와 흐름을 만들어갈 때...', 'date': '2주 전'}\n",
      "{'title': '[인공지능 상권분석 전문가 과정 32기] 10년의 세월, 다시 시작된 배움의 여정', 'text': '#인공지능상권분석전문가과정32기 안녕하세요 김영갑교수입니다 상권분석 전문가 과정 3기를 수료한 제자 신운철 세무사와 장철웅 맛테이블 대표 그리고 10기를 수료한 행복일번지 김희경 대표가 인공지능 &상권분석 전문가 과정 32기 수업을 듣기 위해 재수강 신청을 했습니다. 1주차 개강식에서 3기 10기 제자들이 32기를 위한 환영사를 해 주었습니다. 거의 10년만에 다시...', 'date': '3주 전'}\n",
      "{'title': 'AI 인공지능 파워포인트 보고서작성 예시샘플 _ 사업계획서 PPT 목차구조 제안서 PPT 슬라이드 _ 1장요약...', 'text': '기획보고발표연구소 이석우강사 <AI 인공지능 파워포인트 보고서작성 예시샘플 _ 사업계획서 PPT 목차구조 제안서 PPT 슬라이드 _ 1장요약 파워포인트 한장보고서> 안녕하세요.... 이제는 AI 인공지능 프로그램이 슬라이드 자체를 예쁘게 여러 장 만드는 건 몇 초 사이에 아주 빠르게 만들어 줘요. 현란한 인포그래픽 제작 스킬로 슬라이드의 개체를...', 'date': '2주 전'}\n",
      "{'title': '갤럭시AI(인공지능) 기능 탑재 기대!! 온 디바이스 동시번역 기능은 시간 필요해', 'text': '고급폰에서만 적용되던 갤럭시AI(인공지능) 기능이 탑재될 전망이기 때문입니다. 중학생폰이나 고등학생폰으로 또는 일반인도 출시를 기다리는 이유는 가격적인 부담이 적기... 과연 인공지능AI 기능 중 어떤 기능까지 제공이 될지 기대됩니다. 삼성전자 중급폰 가격대별 종류는? 쿠팡 파트너스 활동의 일환으로, 이에 따른 일정액의 수수료를 제공받습니다...', 'date': '2024.08.07.'}\n",
      "{'title': '[블로그분야 7월 우수콘텐츠] 서울로봇인공지능과학관을 소개하다', 'text': '\"서울로봇인공지능과학관 탐방기\"를 소개해주신 SNS크루 한상건님 . . . 지난 8월 도봉구에 서울시 최초 로봇과학관이 개관하였습니다! SNS크루는 홍보를 위해 사전탐방을 다녀왔어요 이 과학관은 로봇과 인공지능의 최신 기술을 체험하고, 인간과 로봇의 관계에 대해 깊이 생각해볼 수 있는 특별한 공간입니다. 이곳 과학관을 둘러보며 다양한 체험 프로그램을 즐겨보실...', 'date': '1시간 전'}\n",
      "{'title': '인공지능서비스 이용자보호 컨퍼런스 참가 신청', 'text': '인공지능서비스 이용자보호 컨퍼런스 - 인공지능 시대의 이용자 경험과 대응 일시: 2024.09.30.(월) 14:00~17:00 장소: 양재 스포타임 멜론홀(5F) 참가 신청 - 신청기간: 2024.09.06.~09.30. - 신청링크: http://biz.onvi.co.kr/kcc_ksdi.html 온라인 참가: 방송통신위원회 및 KISDI 유튜브 채널 행사 문의: 컨퍼런스 운영 사무국 - Tel: +82-2-6959...', 'date': '2주 전'}\n",
      "{'title': '스크린 속 세계를 함께 창작하다, 미디어로 뻗어나가는 인공지능', 'text': '이제는 우리에게 다양한 시청각적 만족을 주는 콘텐츠 산업에 인공지능이 활용된지 시간이 꽤 흘렀습니다. 특히 효율적인 제작을 가능케하는 기술의 도입으로 콘텐츠 제작 시장의 판도가 변하고 있는데요. 알고리즘에 기반한 큐레이션이나 예측 분석과 같은 기초적인 부분을 넘어 미디어 산업의 제작 분야에 미치는 의 영향력을 함께 살펴볼까요?...', 'date': '2024.07.08.'}\n",
      "{'title': '챗gpt사용법 인공지능 AI챗봇 최신판 괜춘 끗판왕', 'text': '오늘은 챗gpt 사용법 인공지능 AI챗봇에 관련해서 이야기를 해보겠습니다. 이전보다 발전되었다고 말씀 드릴 수 있으며 궁금하신 분들께서는 아래 내용을 참고하시면 되실 것... (벨소리를 찾으실때 위와 같이 알아보셔도 되실 것 같습니다.) 끝맺음 플러스를 이용하시는 경우 비용이 따로 추가하셔야되지만 AI챗봇이 꼭 필수인 경우 챗gpt 사용법 중에서도...', 'date': '2024.08.24.'}\n",
      "{'title': '향상된 포토샵 인공지능 생성형 채우기 및 AI 이미지 생성 기능 활용하기', 'text': '기반 인공지능 생성형 채우기 및 AI 이미지 생성 기능이 정식 버전으로 출시되었습니다. 이번 버전에서 가장 눈에 띄는 점은 조금은 막막하던 생성형 채우기 프롬프트를 예제를 통해 도움을 받을 수 있게 되었다는 것과 이미지 참조, 이미지 효과 선택을 통해 조금 더 내가 원하는 결과물을 얻을 수 있게 되었다는데 가장 큰 의의가 있는 것 같은데요~ 포토샵의 AI...', 'date': '2024.08.10.'}\n",
      "{'title': '릴리스 AI , 유튜브 영상 자동 요약 인공지능', 'text': '아무리 인공지능 AI인들 그 긴 영상을 어떻게 깔끔하게 요약한단 말인가. 그런데 사용해보면, 이 기능들 진짜 미.쳤.다. 일단 아래 화면은 요약본이다. 영상은 22분짜리인데, 그냥 몇 초만에 요약해낸다. 요약본을 읽는데는 채 5분도 걸리지 않았다. 요약 상태도, 오, 훌륭하다. 서비스는 다양하다. 전체 스크립트를 볼 수 도 있게 되어있다. 요약본보다 더 자세한 내용을...', 'date': '2024.06.22.'}\n",
      "{'title': '빙 이미지 크리에이터 인공지능 AI 이미지 사진 만들기 DALLE-E 3', 'text': '빙 이미지 크리에이터 인공지능 AI 이미지 사진 만들기 DALLE-E 3 안녕하세요. 사진&IT 크리에이터 자유분방입니다. 빙 이미지 크리에이터 Bing Image Creator는 Microsoft의 AI 이미지, 사진 생성도구입니다. 요즘은 인공지능을 통한 이미지 생성이 가능해지면서, 예전에는 상상밖에 할 수 없었던 것들을 시각화 시킬 수 있어서 흥미로운 것 같아요. AI 사진, 이미지를 만들 수...', 'date': '2024.07.12.'}\n",
      "{'title': '대구AI국비지원 / 인공지능, 빅데이터 체계적인 교육', 'text': 'AI, 인공지능(Artificial Intelligence)은 인간의 지능을 모방하여 자동화된 시스템을 만드는 기술입니다. 이 기술은 컴퓨터가 학습, 추론, 문제 해결 등의 능력을 가지게 하여 인간의 작업을 자동화하고, 더 나아가 인간의 지능을 뛰어넘는 능력을 발휘할 수 있도록 하는 것을 목표로 합니다. 대구AI국비지원 자동화: AI는 인간의 작업을 자동화하여 생산성을 높입니다. 예를...', 'date': '1일 전'}\n",
      "{'title': '인공지능 투자 대비 가장 큰 수익 창출 가능한 분야는 로보틱스! (MARS 2024 월드포럼)', 'text': '#인공지능 #뉴로메카 #로보틱스 #마스포럼 #월드포럼 #궤도 대전광역시와 HANCOM이 주최하고 대전테크노파크가 주관한 MARS 2024 World Forum(MARS 2024)이 8월 2일 대전컨벤션센터 제1전시장 그랜드볼룸에서 열렸습니다. 이날 포럼에서는 핵심 주제인 과 관련해 모빌리티(Mobility), (AI), 로보틱스(Robotics), 스페이스(Space)의 각 분야 전문가가 연사로 참여해...', 'date': '2024.08.08.'}\n",
      "{'title': '인공지능 시대 투자는 4차 산업과 미국 우량 주식', 'text': '팬데믹 이후, 우리는 치솟는 고물가로 인해, 자산 감소가 급격히 이루어지며 인공 지능과 4차 산업의 가속화로 대량 실직의 현실을 눈앞에 두고 있습니다. 이제 어떻게 해야 할까요?... 그 답은 인공지능과 4차 산업에 관련된 미국 우량 주식을 사는 것입니다. 현재 과 4차 산업을 가장 리드하고 있는 국가는 미국입니다. 애플, 구글, 아마존 등 수많은 미국...', 'date': '2주 전'}\n",
      "{'title': '카카오모빌리티 자율주행 인공지능 챌린지 개최 신청 AI', 'text': '카카오모빌리티 자율주행 인공지능 챌린지 개최 신청 AI 최근 자율주행이 대세입니다. 이미 테슬라 자동차의 경우 핸들에 손을 올리지 않고 출근하는 사람도 꽤 많다고 하더라구요.... 또한 정부 자율주행 레벨4 서비스 구현을 위해 차량, 엣지-인프라, 지능학습을 연계하여 융합형 자율주행 데이터 생성·관리·배포 자동화 기술을 연구하고 있습니다. 나가며 아마도...', 'date': '4주 전'}\n",
      "{'title': '외국어 공부, AI 인공지능 시대에도 필요할까?', 'text': '그렇다면 과연 AI 인공지능 시대에 외국어 공부는 여전히 필요할까요? 외국어를 통해 얻는 경험의 폭과 질은 AI 번역만으로는 절대 따라올 수 없습니다. 실제로 외국어를 유창하게 구사하는 사람들은 더욱 다양한 기회를 누리며, 새로운 문화를 깊이 경험하게 됩니다. <마녀체력>이라는 책을 보면 나를 배신하지 않는 3가지가 있다고 하죠. 운동, 독서...', 'date': '1일 전'}\n",
      "{'title': '데이터베이스 뜻 인공지능 코딩 데이터분석 취업 빅데이터학원', 'text': '인공지능분석 기술은 요즘에 4차산업혁명 새로운 직업군중에 고액 연봉 복지 대우를 받을 수 있는 직무 입니다. 빅데이터학원 에서 요즘 AI 국비지원 수업이 가능한데 어떤... 요즘에는 이런걸 이용해서 마케팅 영업 , 새로운 신기술 사업에 응용 할 수 있기 때문에 취업 AI 분야가 떠오르고 있다는 것 입니다. 뜻 같은 경우도 비슷하다고 보시면...', 'date': '2024.06.03.'}\n",
      "{'title': '[투자전략] 인공지능 섹터의 후발주자 : Software', 'text': '2000년에는 PC/모바일 혁명이었지만 이제는 인공지능이라는 아주 강력한 기술혁명의 붐이 일어나고 있기때문에 소프트웨어 기업들은 부담되는 가격을 지불하고서도 주도위치를 지키기위해 고군분투 하는 분위기죠. 다음 포스팅에는 후발주자 S/W 투자에 대한 기업들도 확인해볼예정인데 경기가 회복하면 반듯이 확인해야할 섹터들 지속 관심을 갖고...', 'date': '4시간 전'}\n",
      "{'title': 'AI 반도체 관련주 주식 10개 인공지능 연관 종목 알아보자', 'text': 'AI 반도체 관련주 주식 10개 인공지능 연관 종목 알아보자 요즘 들어 핫하디 핫한 인공지능 산업! 현재 세계적으로 인공지능에 대한 중요성이 높아지면서 인공지능 데이터센터에 필요한 반도체 업종이 호황을 누리고 있어요. 우리 모두 이름만 들으면 아는 미국의 빅 테크 기업들도 해당 산업에 집중하고 있을 정도니 말 다 했죠? 이렇게 떠오르는 산업의 연관 종목들을...', 'date': '2024.08.20.'}\n",
      "{'title': \"[ChatGPT 특강] '컨설턴트를 위한 인공지능(AI) 활용 문서 작성법' 강의 진행\", 'text': \"위한 인공지능(AI) 활용 문서 작성법'에 관한 주제로 강의를 했습니다. 석박사 및 경영지도사 자격증을 보유하고 있는 전문가분들은 노트북을 준비하여 함께 실습을 진행했습니다. 이번 강의는 컨설턴트의 역량을 강화하기 위한 교육 프로그램으로, 최신 기술인 ChatGPT 및 생성형 을 활용하여 실무에 필요한 다양한 문서 작성 능력을 향상시키는 것을 목표로...\", 'date': '2024.08.02.'}\n",
      "{'title': '바이오·첨단로봇·인공지능 특허심사 대응센터 2편', 'text': '인공지능을 통해 사용자의 의도를 더 정확하게 파악하고 피드백을 제공하는 기술이 보편화되고 있습니다. Tomorrow : Tomorrow에는 뇌-컴퓨터 인터페이스(BCI)와 같은 기술이 발전하여... 2024년 : 오늘날 로봇 제어 기술은 과 센서 기술을 결합하여 더욱 정교하고 자율적인 방식으로 발전하고 있습니다. 특히, 비전 시스템과의 통합으로 로봇이 주변 환경을...', 'date': '2주 전'}\n",
      "{'title': '국내 최대 규모 국제 인공지능 및 블록체인 행사 AI CRYTPTO SUMMIT Korea 2024', 'text': '안녕하세요, 여니입니다 블록체인, 인공지능, 암호화폐 요즘 많이들 관심 갖고 계시죠? 저 또한 오래전부터 꾸준히 관심갖고 투자하고 있으면서도 생각보다 빠르게 우리 일상에 밀접하게 다가오는 현실에 늘 새롭고 감탄되고 있는데요 이번에 다가오는 9월 5일부터 6일까지 국제 및 블록체인 행사인 AI CRYTPTO SUMMIT 2024가 국내 최대 규모로...', 'date': '2024.08.13.'}\n",
      "{'title': '소니 반려견 로봇 강아지 아이보 컨패니언 로봇(ER-1000) 부품 및 제어장치 를 포함한 으로!!', 'text': '올해로 벌써 6주년이 되었는데 인공지능 관련 기능이 얼마나 업그레이드되었는지는 정확히 알려진 바가 없습니다. 그러나 6년 전 만 해도 사람말을 알아듣고 머리를 쓰다듬어 주면 좋아하고 스스로 충전기로 이동해 충전을 하는 모습을 보여 주었으니 지금은 더 업그레이드되었겠지요. 국내 온라인 쇼핑몰에서 소니AI 아이보라는 이름으로 판매되는 반려견 로봇...', 'date': '2024.08.25.'}\n",
      "{'title': 'LLM( 생성형) 업무효율화, 업무활용, 인공지능 활용하여 일잘 하는법 69', 'text': '그러지 않고 많은 데이터를 한번에 처리 하다 보면 노이즈가 생기고 이러한 노이즈로 인하여 의도하는 방향에 정확도가 떨어지게 됩니다. (여기서 말하는 노이즈란 의도하지 않은 모든 데이터를 총칭함) 다음 포스팅에 이어서 전처리 단계별 방법에 대해 설명드리겠습니다. . . . 생성형, LLM, 일잘러, RAG응용, 챗지피티 를 활용해서 프로 일잘러 되기 출간 준비중~~!!', 'date': '2일 전'}\n",
      "{'title': 'AI 인공지능 개발자 비전공자 국비지원 취업 내일배움카드 교육 학원', 'text': '오늘은 AI개발자 취업 과정 그리고 인공지능 개발자 분야 국비지원 교육 과정에 대해서 알려드리려고 합니다~! AI취업 내일배움카드 알아보시는 분들에게 좋은 소식일듯 합니다 AI... 인공지능 개발자 교육 커리큘럼 안내 3. 비전공자 기준 IT진로 고민이라면 ? 4. 내일배움카드 사용할때 주의할점 5. IT현실 조언 / 팩트정리 1. AI 개발자 취업 전망이 좋은이유 학원...', 'date': '2024.05.25.'}\n",
      "{'title': '로봇과 인공지능의 최신 기술 창동 서울로봇인공지능과학관 (SEOUL RAIM) 탐방', 'text': '서울 도봉구 창동 RAIM(로봇인공지능과학관) 안녕하세요! 오늘은 서울 동북부 거점도시로 비상하는 도봉구 창동에 8월 개관 예정인 SEOUL RAIM(서울 로봇인공지능과학관)에 대해 알아보겠습니다. 로봇과 인공지능의 최신 기술 창동 서울로봇과학관 (SEOUL RAIM) 탐방 이곳 서울로봇과학관은 로봇과 의 최신 기술을 체험하고, 인간과 로봇의...', 'date': '2024.07.29.'}\n",
      "{'title': '바이오·첨단로봇·인공지능 특허심사 대응센터 1편', 'text': \"CRISPR-Cas9 같은 유전자 편집 기술은 의약 분야뿐만 아니라 농업과 환경 분야에서 폭넓게 사용되고 있으며, 인공 장기 및 조직 공학 기술도 꾸준히 발전하고 있습니다. 특히 동남아를 휩쓴 K-딸기를 아시죠? 이것도 바이오 특허입니다. Tomorrow : 앞으로의 바이오 기반 기술은 생명공학과 이 결합된 '디지털 바이오로직스'로 진화할 것입니다. 유전자 치료...\", 'date': '3주 전'}\n",
      "{'title': '인공지능(AI)과 구글의 위기??', 'text': '인공지능(AI)과 구글의 위기? 구글(Google, 알파벳A)은 이세돌과 바둑 대결로 유명한 알파고를 시작하며 인공지능 시대를 열었습니다. 또한 세계적으로 수많은 인공지능 전문가를 배출해 내면서 인공지능의 선두 주자 중에 하나로 알려져 있습니다. 그런 구글이 최근 AI를 장착한 검색엔진을 유료화를 검토하고 있다고 합니다. 구글(Google)은 그동안 검색은 무료이고...', 'date': '2024.04.15.'}\n",
      "{'title': '반도체ETF ASOX 출시 AI 인공지능 관련주 대장주 총집합', 'text': \"반도체ETF ASOX 출시 AI 인공지능 관련주 대장주 총집합 안녕하세요 금성인입니다. 이번 포스팅에서는 인공지능 관련주와 대장주가 총집합한 반도체 ETF인 ASOX 출시 소식을 정리하였습니다. 목차 1. ASOX 출시 2. 금성인's Comment 1. ASOX 출시 나스닥의 새로운 반도체지수가 공개가 되었습니다. 미래에셋자산운용의 TIGER ETF와 함께 전세계 최초로 한국에서...\", 'date': '3주 전'}\n",
      "{'title': '의료 분야에 활용되는 인공지능(AI)', 'text': '이에 연구팀은 음식 영역을 감지하는 ‘YOLO(You Only Look Once)v4’ 아키텍처와 음식 종류를 분류하는 MST++, ResNet-101 인공신경망 모델, 음식량을 측정하는 초분광 이미징 기술 등이 사용된 인공지능 모델로, 음식 섭취 전후 사진을 촬영하면 두 사진의 소금 함량 차이만큼을 판단하는 기술을 개발했습니다. 연구팀은 분당서울대병원에 입원한 환자들이 섭취한 식사 전후...', 'date': '2024.07.18.'}\n",
      "{'title': 'AI 인공지능 관련주 팔란티어 주가 급등 요인 분석', 'text': \"바로 AI 인공지능 관련주 팔란티어(Palantir, PLTR)입니다. 팔란티어 급등 요인을 분석해 보겠습니다. 팔란티어는 어떤 기업인가요? 회사의 이름인 Palantir는 영화 '반지의 제왕'에 나오는 통신 및 정보 수집이 가능한 마법 구슬에서 착안됐습니다. 회사는 빅데이터 분석 및 솔루션을 제공하는 미국 AI 관련주로, 주로 정부 기관 및 금융, 헬스케어...\", 'date': '2024.08.07.'}\n",
      "{'title': '인공지능이 변화시킬 미래, 주거환경엔 어떤 영향을 미칠까? 2024 AI EXPO', 'text': \"작년 초, 거대언어모델(LLM)의 상용화를 현실화시킨 Open AI사의 'Chat GPT'는 인공지능이 상용화되었다는 사실을 전 세계적으로 널리 알린 신호탄이었습니다. 그리고 1년 뒤 국내 최고의... 그리고 올해 5월 Open AI사는 'Chat-GPT-4o'를 통해 거대언어모델을 넘어 이미지와 영상도 AI로 콘텐츠화할 수 있고, 이제는 이 인간의 감정까지 읽을 수 있는 무서운 현실을...\", 'date': '2024.06.11.'}\n",
      "{'title': '데이터 엔지니어 AI 인공지능 개발자 차이', 'text': '인공지능 관련 직업 마케팅, 금융, 제조 그리고 IT기업까지 최근에는 다양한 기업에서 빅데이터 * 인공지능 관련 직렬을 채용하고 있습니다. 또한 각각 기업의 인공지능 성능은 시총에도 많은 영향을 끼치고 있습니다. 데이터 엔지니어 데이터 분석가 개발자 위 3가지는 대표적인 빅데이터 * 관련 직렬입니다. 오늘은 데이터 엔지니어와 ...', 'date': '4주 전'}\n",
      "{'title': 'AI (인공지능) 관련 주식들은 과연 어떻게 될까? (AI 관련주 전망?)', 'text': '오늘은 요 근래 가장 핫했지만 조금 사그러 들고 있는 AI(인공지능) 관련주 향후 전망에 대하여 포스팅해보도록 하겠습니다. (개인적 의견이니 반박 시 님 말이 맞아요) 내가 생각하는... 반박하실 분들은 님말이 맞아요 ^^ 다들 성공 투자하시길 바라며 AI () 관련 주식들은 과연 어떻게 될까? (AI 관련주 전망?) 포스팅이었습니다. 빠이~ 즐거운 주말 보내세요 ^^', 'date': '3주 전'}\n",
      "{'title': \"[인공지능 교육] 'ChatGPT를 활용한 업무 효율성 향상 및 보고서 작성법' 실습 강의 진행(10회차)\", 'text': 'ㅣ 주요 강의 내용 ㅣ ● ChatGPT 개요 - GPT / ChatGPT, OpenAI 소개, ChatGPT 주요 기능 - 인공지능의 개념 및 인공지능 학습법 - ChatGPT 변천사 및 초거대 생성형 인공지능 개발 방법론 - ChatGPT 3.5와 4.0, 4o의 차이점 및 사례 분석 - ChatGPT의 한계점 및 개선 방안, 현재 변화된 모습(신규 기능 소개) ● ChatGPT 기본 활용 실습 - ChatGPT 기본 메뉴 구성 및 사용법...', 'date': '2024.08.17.'}\n",
      "{'title': '경기 침체 대비한 현금 흐름 만드는 방법 : 챗 GPT(인공지능) 활용한 비즈니스 글쓰기에 꼭 알아야 할 것', 'text': '챗 GPT 같은 인공지능이 생활에 필요한 웬만한 것은 거의 다 찾아주는 시대다. 사용해 보면 신문물답다. 정말 편하고, 유용한 도구다. 창업하는 사람이라면 굳이 직원을 채용할 필요가 없을 정도다. 어쩔 수 없이 인원 충원을 하게 되더라도 최소 인력으로 비즈니스를 꾸릴 수 있는 것도 (AI) 덕분인 것은 부인 못할 사실이다. 질문 잘 하는 것도 능력이다. 좋은 답을...', 'date': '2024.08.20.'}\n",
      "{'title': '[생성형 인공지능] 클로드(Claude) 특징 및 클로그 회원 가입하기(가입방법)', 'text': 'Anthropic은 인공지능 연구 및 개발에 중점을 둔 기술 회사로, 2021년에 설립되었습니다. 본사는 샌프란시스코에 있습니다. 회사의 창립자들 중에는 OpenAI 출신의 연구원들이... 같이 인사와 함께 클로드를 사용할 수 있는 프롬프트 입력창을 볼 수 있습니다. 지금까지 생성형 인 클로드(Claude) 특징 및 클로그 회원 가입 방법에 대해 알아보았습니다.', 'date': '2024.08.09.'}\n",
      "{'title': '직장에서 쓰기 좋은 AI 챗봇 인공지능 챗 GPT 종류 총 정리!', 'text': '직장에서 쓰기 좋은 AI 챗봇 인공지능 챗 GPT 종류 총 정리! 요즘 인공지능 챗 GPT 등을 많이 사용하고 있습니다. 대학생들이 과제를 할 때 맞춤법이나 개요를 잡아주기도 하고, 직장인들이 업무 관련 파일을 만들거나 메일을 쓸 때에도 챗 GPT가 아주 멋지게 도와주곤 하죠. 챗 GPT의 유용함이 잘 알려진 이후로 여기저기서 AI 챗봇을 출시하고 있는데요. 오늘은 AI...', 'date': '2024.06.07.'}\n",
      "{'title': '셀바스AI 주가 주식 전망 실적 목표주가 (AI 인공지능 관련주)', 'text': \"바로 인공지능(AI) 투자를 위해 무려 54조원에 달하는 대형 펀드를 조성하고 있는 사우디아라비아 정부가 SK텔레콤에서 AI 사업 확대를 제안했다는 소식이 전해지면서입니다. 셀바스AI는 SK텔레콤에 음성합성 기술을 공급하면서 양사가 공동으로 AI 영상지능 기술인 '셀리OCR'을 개발한 기록이 있습니다. 사우디아라비아 정부는 비전 2030 프로젝트의 목표 중 지식...\", 'date': '2024.08.02.'}\n",
      "{'title': 'LLM( 생성형) 업무효율화, 업무활용, 인공지능 활용하여 일잘 하는법 71', 'text': '하지만 저는 IFS로 이해하고 있습니다. 이유 설명은 아래 하겠습니다. 최대값 과 최소값 최대값:MAX 최소값:MIN 엑셀에서 자주 사용하지만 잘 모르는 함수 모음으로 설명드렸습니다:) 엑셀의 보석 같은 함수들로 여러분의 업무 효율을 높여보세요! . . . 생성형, LLM, 일잘러, RAG응용, 챗지피티 를 활용해서 프로 일잘러 되기 출간 준비중~~!!', 'date': '56분 전'}\n",
      "{'title': '[인공지능 개발자] 석사가 아닌 고졸도 취업이 가능한 루트', 'text': '인공지능 개발자 석사가 아닌 고졸도 취업이 가능한 루트 현재, IT 산업에서 가장 주목받고 있는 기술, AI(Artificial Intelligence)는 얼마 전까지만 하더라도, 유용한 기술인 건 맞지만... 하지만, 현재에는 인공지능 관련 프로젝트를 수행하는 과정에서 활용할 수 있는 API, 라이브러리 등이 굉장히 많아졌고, 기술의 수준 또한 높기 때문에 과거에는 AI 프로젝트를 0%부터...', 'date': '2024.06.08.'}\n",
      "{'title': '경기 김포시에 위한 공장시설 화재감지를 위한 인공지능 cctv설치 후기', 'text': '녹화기에 지능형 영상분석기능 확인 후 서버연동작업 포트포워딩: IP연결 작업 DDNS: 서버에 연결시키는 작업 클라우드서버 연동작업 코덱 및 프레임 설정 작업 등이 정상 작동이 되는지 검수합니다. 고객님께 어플리케이션 사용법을 알려드린 후, 뒷정리를 말끔히 한 다음 돌아왔습니다. 이상으로 화재감지cctv, 화재감지카메라, 연기감지카메라, cctv...', 'date': '2일 전'}\n",
      "{'title': '인공 지능 개발 플랫폼 1-Enterpise AI Roadmap', 'text': '인공 지능이 등장하면서 어떤 기업/조직도 기회를 놓칠까 노심초사다. 생성적 AI 열기 속에서 상용 앱이 빠르게 확장됨에 따라 고급 모델의 배포/관리를 지원하기 위해... ■ GenAI(생성형 인공 지능)는 AI 개발 환경을 바꾸고 있다. AI 개발 플랫폼은 새로운 것이 아니다. 이미 202년대 초반 기계 학습을 위한 기업용 앱이 대중화에 즈음하여 여러...', 'date': '2024.07.18.'}\n",
      "{'title': 'ai코인 종류 인공지능 코인 투자 종목 찾고 있다면?', 'text': '빠른USDT교환처리 한국지사를 통한 24시간 한국어 통역 지원 ai코인 종류 인공지능 코인 투자 종목 찾고 있다면? ai코인 종류 인공지능 코인 투자 종목 찾고 있다면? ai코인 종류 인공지능 코인 투자 종목 찾고 있다면? 가상화폐 투자에 흥미를 느끼고 조사하시는 분들께서는 AI 코인이라는 용어를 최소한 한 번은 접해 보셨을 것이라 생각합니다. AI 코인은 현재 가장...', 'date': '3주 전'}\n",
      "{'title': '중앙도서관 9월 책과 함께 만나다 <인공지능 시대의 책 읽기>', 'text': '[인공지능 시대의 책 읽기] 인공지능시대, 왜 책을 읽어야 하는가 중앙도서관에서 인문학 주제분야의 작가를 초청하여 작품의 이해를 높이는 지식 공유의 장을 마련했습니다! (｡•̀ᴗ-)✧ 중앙도서관에서 만나요! 일시 2024년 9월 27일 금요일 19:00~21:00 장소 시흥시 중앙도서관 다목적실(3층) 장소 시민 50명 진행 이권우 독서평론가 「살아보니, 지능」...', 'date': '2주 전'}\n",
      "{'title': '인공지능과 코딩으로 꿈꾸던 북튜버 되기', 'text': \"광명도서관 이야기가 있는 코딩 책 읽기를 통해 확장된 사고력과 상상력을 인공지능, 코딩 등의 디지털 기술로 직접 구현해 보는 특색있는 프로그램이 찾아옵니다.... '를 읽은 후 다양한 독후 활동으로 책의 내용을 파악하고 창의적인 생각들로 발전시킨 후 전문 강사의 지도 아래 , 메타버스, 코딩 등의 디지털 기술을 배우게 됩니다. 그리고 이를...\", 'date': '2024.06.21.'}\n",
      "{'title': '인공 지능 개발 플랫폼 2-Enterpise AI Roadmap', 'text': '기존 인공 지능 개발 플랫폼 시장의 분류와 구성을 보았고 이제 시장으로 변화 흐름을 요약해 본다. ■ 레거시 ML 회사 활력 상실. DataRobot(2012년 설립) 및 Dataiku(2013년... 생성형 인공 지능 기술로 개발에서 큰 도약의 기회로 지축을 흔들고 있다. 기업/조직 내부 작업 프로젝트 종류가 많이 늘어났다. 재래식 개발은 이제 OpenAI, Anthropic...', 'date': '2024.07.19.'}\n",
      "{'title': 'AI트루스 임백준_작가가 전하는 인공지능 트렌드와 미래예측', 'text': '인공지능,트렌드,미래예측,생성AI,챗GPT,코딩,개발자 안녕하세요. 스위밍입니다. 최근에 회사에서 인공지능 전문가 강연도 들어보고, 재미있는 책들을 접하게 되었는데, 그 중 하나가 AI트루스 였습니다. 책은 표지만 보면 인문학 이야기처럼 보이네요. AI 트루스: 두려움의 시대, 냉철하게 마주해야 할 가장 명확한 진실 저자 임백준 출판 한빛미디어 발매 2024.08.20....', 'date': '3주 전'}\n",
      "{'title': '2024 비즈업 아카데미 후기 - 생성형 인공지능 업무활용 비법', 'text': '웹디자이너 현재의 인공지능 범용형 인공지능 중심 생성형 인공지능 LLM : 인간의 언어를 이해하고 생성하도록 푼현된 일종의 인공지능 모델 딥러닝 알고리즘과 통계모델링을 총해 자연어 처리 작업을 수행하는데에 사용 사전에 대규모의 언어 데이터를 학습하여 문장 구조나 문법 의미등을 이해하고 생성 멀티모달 ? 텍스트 뿐만 아니라 이미지, 오디오...', 'date': '2024.07.03.'}\n",
      "{'title': \"[챗GPT 교육] 'ChatGPT 및 생성형 인공지능(AI) 활용 실무 실습 강의 진행(2일 과정)\", 'text': \"전북테크노파크(전주시 소재)에서 ' ChatGPT 및 생성형 인공지능(AI) 활용 실무'에 관한 주제로 2일 강의를 했습니다. 이번 과정은 AI 빅데이터 전문인력 양성사업으로 7층 강의실에서 약 20명의 재직자 및 대학생을 대상으로 진행되었습니다.(집합교육) 모든 수강생분들은 노트북을 준비하여 다양한 생성형 플랫폼에 가입했습니다....\", 'date': '2024.08.06.'}\n",
      "{'title': '구글 홈미니 네스트 미니 2세대 인공지능 AI 스피커 4년 사용후기', 'text': '현재 인공지능 ai 스피커가 많이 보편화되면서 많은 ai 기술력을 가진 스피커가 많이 나오고 있습니다! 하지만 구글에서 나온 네이스트 미니 2세대를 사용해보면서 솔직한 후기를... 좋은 인공지능 스피커라는 점입니다. 처음에 연동만 잘 해놓으면 음성을 통해 음악도 들을 수 있고 날씨도 물어볼 수 있 검색도 할 수 있고 다양하게 활용할 수 있는 게 바로 구글 홈미니...', 'date': '2024.05.11.'}\n",
      "{'title': '인공지능&상권분석 전문가 과정 32기를 위한 수강 다짐서 작성하기', 'text': \"인공지능&상권분석 전문가 과정 32기 김영갑 교수입니다. 9월 2일 32기 1주차 수업을 위해 준비한 과정 첫 번째 과제를 공지하여 드립니다. 수강생은 누구나 아래 다짐서를 네이버 카페에서 다운로드 하여 작성후 '수강계획서 게시판' 업로드 해 주셔야 합니다. &상권분석 전문가 과정 32기 실천 다짐서 실천 다짐서를 쓰면 무엇인 좋은가? 다짐서를 과제로 내는 것은...\", 'date': '4주 전'}\n",
      "{'title': \"[생성형 AI 교육] 대학 교원 대상 '생성형 인공지능의 이해와 사용법' 실습 강의 진행\", 'text': \"한국폴리텍대학 인재개발원(남원시 소재) 직급별 교육에서 폴리텍 대학 교수님(약 20명)을 대상으로 '생성형 인공지능의 이해 및 사용법'에 관한 주제로 실습형 강의를 했습니다. 인공지능(AI) 학습은 교원 리프레스 교육 과정에서 마지막 3일차에 실시되었습니다! 이번 강의는 ChatGPT의 발전 과정과 학습 방법에 대한 이론적 배경부터 시작되었습니다....\", 'date': '2024.07.29.'}\n",
      "{'title': '인공지능 실시간번역기 놀라운 스캔톡에어 영어전자사전', 'text': '인공지능을 토대로 더 정확하게 인식하는 실시간번역기 스캔톡에어인데요. 어떠한 매력이 있는지 직접 사용해봤습니다. 필자는 테크 관련된 정보를 해외 사이트에서 자주 얻곤 한다.... 이 제품은 타사와 달리 인공지능 내장이 되어 있다. 사용 방법은 다음과 같다. 언어 변환 사용법 원하는 단어나 문장을 Scan한다. Scan한 내용을 디스플레이로 확인한다. 스피커를 통해...', 'date': '2024.08.13.'}\n",
      "{'title': 'LLM( 생성형) 업무효율화, 업무활용, 인공지능 활용하여 일잘 하는법 70', 'text': '그래서 데이터의 제거 방법중 필터를 활용하면서 데이터 제거 하시는 방법을 추천 드립니다. 이렇게 하시면 데이터 전처리는 완료 되었습니다. 다음 포스팅에서는 엑셀 함수에 대해 살펴보겠습니다. . . . 생성형인공지능, LLM, 일잘러, RAG응용, 챗지피티 를 활용해서 프로 일잘러 되기 출간 준비중~~!!', 'date': '1일 전'}\n",
      "{'title': 'LLM( 생성형) 업무효율화, 업무활용, 인공지능 활용하여 일잘 하는법 68', 'text': '왜냐하면 우리는 실제 그렇게 높은 수준의 경교함을 요구하지 않기 때문입니다. 이렇게 데이터 전처리 전 박스플롯을 통해 경향성을 파악하고 극단치를 제거함으로써, 데이터의 품질을 높이고 분석의 정확도를 향상시킬 수 있습니다. . . . 생성형, LLM, 일잘러, RAG응용, 챗지피티 를 활용해서 프로 일잘러 되기 출간 준비중~~!!', 'date': '3일 전'}\n",
      "{'title': '인공지능 & 상권분석 전문가 과정 32기 수업 안내', 'text': '#인공지능상권분석전문가과정32기 성공적인 비즈니스를 위한 필수 도구! 인공지능과 상권분석을 한 번에 마스터하는 단 하나의 기회 인공지능&상권분석 전문가 과정 32기\" 인공지능 & 상권분석 전문가 과정 32기 수업 안내 안녕하세요, 미래의 성공적인 식당 창업자와 경영자를 위한 & 상권분석 전문가 과정 32기 수업에 대한 안내 드립니다. 이번 과정은 당신의...', 'date': '2024.08.13.'}\n",
      "{'title': '[리더십] \"DEI, 인공지능 · AI는 이미 편향됐다\"', 'text': \"Summary 인공지능 시스템에서 성별 및 인종 편향성이 발견되고 있음 이러한 편향성은 채용, 이미지 생성, AI 비서 등 다양한 분야에서 나타남 전문가들은 이런 편향이... 위한 인공지능과 젠더혁신’ 포럼. 여성신문. 2024. 8. 30. : https://n.news.naver.com/article/310/0000118569?cds=news_edit 한국여성정책연구원 김애라 부연구위원은 서울에서 열린 '성별...\", 'date': '4주 전'}\n",
      "{'title': '[상식이 ~착] 연구자까지 당황시키는 인공지능의 놀라움', 'text': '아쉽게도 5전 4승 1패로 ‘알파고’의 승리로 끝을 맺었지만, 우리나라의 이세돌 9단은 인류가 마지막으로 인공지능에게 이긴 바둑기사로 기록되었습니다. * 알파고(AlphaGo) : 구글의 딥마인드가 개발한 인공지능 바둑 프로그램 (출처 : 위키백과) 이 대회 이후 바둑과 같은 두뇌 스포츠에서도 의 학습 능력이 인간을 넘어 설수 있다는 사실에 많은 사람들이...', 'date': '2024.07.10.'}\n",
      "{'title': '6월 ETF 수익률 순위, 미국 빅테크와 인공지능(AI) 반도체', 'text': '인공지능 . 반도체 나스닥 연속 신고가 경신 환율과 함께 치솟는 지수... 증시가 신고가를 지속적으로 갱신하며 새 역사를 쓰고 있습니다. 오르는 지수를 바라보며 신규 진입을... 인공지능(AI) 인공지능 기술과 관련된 기업들, 예를 들어 AI 칩 제조업체, 소프트웨어 개발사, 클라우드 서비스 제공업체 등이 있습니다. 레버리지 ETF 레버리지 ETF는 기초 자산(예: 주식...', 'date': '2024.06.26.'}\n",
      "{'title': '포토샵 AI 기능 생성형 채우기 사용법, 인공지능 사진 보정 작업', 'text': '인공지능을 활용한 AI 그림이 등장하면서 디지털 이미지를 사용하는 업계는 큰 변화를 맞이했습니다. 당장 저만 하더라도 블로그에 사용할 이미지를 포토샵 생성형 채우기 기능으로... 참고로 생성형 채우기는 포토샵 AI 기반으로 클라우드를 통해 연산처리가 되는 기능이라 인터넷 연결이 필수입니다. 사진 속 사람 지우기 사진을 찍다 보면 의도치 않게...', 'date': '2024.06.25.'}\n",
      "{'title': '[해외주식] 엔비디아(NVDA), 인공지능 시장 연 40~55% 성장 예상', 'text': '#투자의견 #목표주가 #미국증시 #미국주식 #미국주가 엔비디아(NVDA), 인공지능 시장 연 40~55% 성장 예상 *연합인포맥스* Bain Capital의 David Crawford 파트너는 엔비디아 주가가 아직... “인공지능 관련 하드웨어, 소프트웨어 총 유효 시장은 향후 3년간, 또는 그 이상 연평균 40~55%에 달하는 고성장세를 보여줄 전망이다. ‘27년에는 시장이 7,800억~9,900억 달러로...', 'date': '2일 전'}\n",
      "{'title': '새로운 AI 시대의 시작 Windows 11 Copilot + PC 인공지능 노트북의 등장!', 'text': '요즘 인공지능 기반 서비스가 유행입니다. 저 역시도 윈도우 및 엣지 브라우저를 통해 코파일럿을 자주 사용하고 있습니다. 무료로 사용할 수 있으면서 그림 생성은... 여느 인공지능 기반 서비스보다 더 많은 기능과 향상된 성능을 제공하는 Copilot+ PC는 앞으로 우리의 PC 사용 경험을 크게 변화시킬 것입니다. 새로운 기능들과 함께 제공되는 뛰어난...', 'date': '2024.06.14.'}\n",
      "{'title': '디자인에 인공지능 입힌다!', 'text': 'AI 디자인 확산 전략 산업통상자원부가 ▲디자인기업 인공지능(AI) 도입률 50% ▲AI 디자이너 1만명 ▲AI 디자인 혁신기업 500개 달성을 목표로 하는 ‘AI 디자인 확산 전략’을 발표했습니다. 이를 통해 현재 37%인 전 산업 디자인 활용률을 60%로 끌어올리겠다는 계획입니다. 디자인은 산업 혁신의 중추이며 ‘소프트파워’ 경쟁력의 핵심으로 평가받고 있습니다....', 'date': '2024.07.09.'}\n",
      "{'title': '인공지능 감성 AI로봇 리쿠 리뷰, 가격 미운우리새끼 김승우 로봇', 'text': \"얼리어답터 리뷰/IT정보 인공지능 감성 AI로봇 리쿠 리뷰, 가격 미운우리새끼 김승우 로봇 by 엔돌슨 2024. 5. 22. 인공지능 감성 AI로봇 리쿠 리뷰, 가격 미운우리새끼 김승우 로봇 안녕하세요. 오늘은 국내 최초로 인공지능 감성 로봇으로 인정받은 '리쿠'에 대해 리뷰해보려고 합니다. 최근 방송된 미운우리새끼에서 김승수가 리쿠 로봇을 소개하는...\", 'date': '2024.05.22.'}\n",
      "{'title': '인공지능융합대학 2024년 공학설계입문 작품전시회 심사 진행', 'text': '인공지능융합대학 2024년 공학설계입문 작품전시회 심사 진행 안녕하세요. 인공지능융합대학 2024년 공학설계입문 작품전시회가 있었습니다. 출강하고 있는 학교에서 작품전시회가 있어 평가 위원으로 참석했습니다. 한 학기 동안 창의설계입문 과목을 통해 디자인 싱킹을 공부하고 아이데이션을 하여 시제품을 제작합니다. 이번 학기에도 다양하고 아이디어 있는...', 'date': '2024.06.08.'}\n",
      "{'title': 'AI 시대에 주목해야 할 IT 관련 직업 및 인공지능 전문가가 되는 방법', 'text': 'AI 시대에 주목해야 할 IT 관련 직업 및 인공지능 전문가가 되는 방법 최근 몇 년 동안 인공 지능(AI) 기술은 다양한 산업 분야에서 혁신적인 변화를 가져왔습니다. AI는 단순한 자동화 기술을 넘어 인간의 사고와 학습 과정을 모방하고 더욱 뛰어난 성능을 발휘합니다. 이러한 변화는 IT 고용 시장에도 큰 영향을 미치고 있습니다. 앞으로 AI 기술이 기존 일자리를...', 'date': '2일 전'}\n",
      "{'title': '인공지능 서빙로봇 애완로봇 강아지 아이보 백터', 'text': '인공지능 서빙로봇 애완로봇 강아지 아이보 백터 안녕하세요. IT/테크 인플루언서 아전입니다. 이번 시간에는 인공지능과 과학 기술의 발전으로 우리 생활 속에서 점점 더 많이 만나게 되는 서빙로봇과 애완로봇에 대해 이야기해 볼까 합니다. 요즘 식당에서 자주 볼 수 있는 서빙로봇부터 집에서 키울 수 있는 애완로봇과 장난감 백터로봇까지 까지 특징에 대해 자세히...', 'date': '2024.07.24.'}\n",
      "{'title': '인공지능과 함께 디지털 인재로! AI, 학교 수업에 들어오다!?', 'text': '2022년 초·중등학교 교육과정 총론에서는 인공지능 기술 발전, 사회적 문제 해결을 위한 협력, 학생의 특성과 진로를 고려한 맞춤형 교육 수요 상승 등을 변화된 모습으로 보고... _AI와 인공지능 리터러시 인공지능 리터러시는 기술을 이해하고 적절하게 활용하는 능력을 의미합니다. 디지털 대전환 시대에 살고 있는 우리는 산업 전 분야를 넘어...', 'date': '2024.03.26.'}\n",
      "{'title': '[인공지능 상권분석 전문가과정 32기 수업의 목표] AI로 소상공인의 진화, 사피엔스 경영자로 거듭나기', 'text': '#인공지능상권분석전문가과정32기 인공지능을 활용하면, 소상공인은 수십 명의 전문가 비서를 365일 24시간 무료로 부릴 수 있는 놀라운 힘을 얻게 됩니다. AI로 소상공인의 진화, 사피엔스 경영자로 거듭나기 21세기는 기술의 시대, 그리고 변화의 시대입니다. 우리는 매일 새로운 기술의 등장과 혁신을 목격하고 있으며, 그 중에서도 (AI)은 이제 단순한 미래...', 'date': '2024.08.18.'}\n",
      "{'title': '인공지능의 주식 시장 지배력은 언제까지 이어지나', 'text': 'AI 주식 시장 지배력 © heinrich_boll, 출처 Unsplash 인공 지능 주식은 엔비디아, 마이크로소프트 등이 시장을 새로운 기록으로 이끌면서 상승세를 타고 있습니다. 하지만 골드만삭스는 이러한 기업들이 높은 밸류에이션을 유지하려면 결국 막대한 지출 후 보여줄 무언가가 있어야 한다고 말합니다. 골드만삭스는는 아마존, 메타, 마이크로소프트, 알파벳이 지난...', 'date': '2024.07.14.'}\n",
      "{'title': '인공지능시대 직장인의 업무 스킬 변화', 'text': '인공지능(AI) 시대에 직장인의 업무 스킬은 빠르게 변화하고 있으며, 이러한 변화는 기술의 발전에 따라 업무 환경과 요구되는 역량이 달라지고 있음을 반영합니다. 특히, 인공지능 서비스를 활용하여 업무 시간이 점점 단축되고 있고 이러한 편리성을 통해서 조직에서도 과 관련한 기술을 직원들에게 교육하는 일도 늘어나고 있습니다. 그렇다면, 직장에서는...', 'date': '3일 전'}\n",
      "{'title': '라즈베리파이 5로 배우는 AI 인공지능 자율주행 자동차', 'text': '우리는 인공지능 시대를 살고 있습니다. 매체를 통해 다양한 인공지능 서비스가 소개되는데요. 코딩에서도 인공지능은 중요한 분야이기도 합니다. 초등학교 중학교에서 코딩을 가르치다보면 인공지능에 대한 수요에 있는데요. 막상 수업을 시작하려면 마땅한 교보재를 찾기 힘든데요. 도움이 되실 것 같아서 오늘은 앤써북에서 출간한 라즈베리파이 5로 배우는 AI...', 'date': '2024.07.08.'}\n",
      "{'title': 'AI, 일상에 물들다. AX(인공지능 전환) 시대', 'text': \"하지만 챗GPT와 같이 기존 인공지능들과 차원이 다른 모습을 보여주는 인공지능이 등장하면서, DX를 넘어 AX(AI Transformation) 시대로의 전환이 필요하다는 목소리가 점차 나오고 있습니다. © 픽사베이 정부도 이러한 AI 트렌드의 변화를 인지하고, AI 일상화 시대를 앞당기기 위해 2024년 9,090억 원을 투입해 '대한민국 도약 방안'을 발표한 바...\", 'date': '2024.04.03.'}\n",
      "{'title': '앱테크 어디까지 발전할까? 인공지능과 앱테크', 'text': '인공지능과 앱테크 현대 사회에서 스마트폰은 단순한 통신 수단을 넘어, 생활 전반에 깊숙이 스며들어 있습니다. 그 중에서도 특히 주목받는 것은 바로 \"앱테크\"입니다. \"앱\"과 \"재테크... 그런데, 앱테크는 단순한 용돈벌이에 그치지 않고, (AI)과의 결합을 통해 더욱 진화할 전망입니다. 이번 포스팅에서는 앱테크가 어떻게 발전하고, 미래에는 어떤 모습으로...', 'date': '2024.08.26.'}\n",
      "{'title': '[도서] 무기가 되는 생각법 : 인공지능 시대, 이를 뛰어넘는 인간만의 무기는 무엇일까?', 'text': '인공지능 AI 기술이 실용화되기 시작하면서 이제는 공상영화에서나 등장하던 인간의 자리를 대체한 인공지능 로봇의 이야기가 더 이상 허황된 이야기라고는 할 수 없는 시대가... 책의 목차를 살펴보니, AI 시대에서 살아남을 수 있는 인재와 저자가 들려주는 인간 지능 문제 해결 프로세스에 대한 내용들을 차례대로 알려주는 모습을 볼 수 있었습니다^^ 몇십 년 전만...', 'date': '2024.08.06.'}\n",
      "{'title': 'LLM( 생성형) 업무효율화, 업무활용, 인공지능 활용하여 일잘 하는법 67', 'text': '그럼 다음 포스팅에서 데이터를 전처리 하는 방법을 그리고 경향성 보는 방법을 설명 드리겠습니다. 다소 난이도가 예상되나 데이터를 읽는 방법을 익숙하게 하시면 그 다음은 너무 쉽습니다. 그러니 따라 하시면 됩니다. . . . 생성형, LLM, 일잘러, RAG응용, 챗지피티 를 활용해서 프로 일잘러 되기 출간 준비중~~!!', 'date': '4일 전'}\n",
      "{'title': '[인공지능&상권분석 전문가 과정 32기] AI로 성공하는 식당의 패턴을 분석한 결과?', 'text': '인공지능&상권분석 전문가 과정 32기 수업은 이렇게 시작합니다. 어떻게 해야 성공할 수 있을까? 전 세계 지식의 대부분을 학습한 인공지능은 성공의 패턴을 알고 있습니다. 성공하는 식당의 패턴에 대한 분석은 외식경영에서 매우 중요한 주제입니다. 이를 바탕으로 각 요소를 조금 더 깊이 살펴보겠습니다. 1. 전략이 있다 성공하는 식당은 명확한 경영 전략을 가지고...', 'date': '4주 전'}\n",
      "{'title': '2024년 9월24일 국내증시, 코스피 코스닥 동반 상승 마감, 인공지능(AI) 교과서 도입 관련주...', 'text': '정부의 인공 혈액 기술 확보 속에 주관 기업 선정 소식에 상한가를 기록하였다 4. 밸류업 관련주인 에프앤가드 경영권 분쟁 소식에 이틀 연속 상한가를 기록하였다 (화천기계, 화천기공, 서암기계공업 등) --------------------------------- 참조만 하시기 바랍니다. 지능형로봇/(AI) 테마 - 반도체 (AI반도체) 관련주에 대한 내용입니다. 3....', 'date': '2일 전'}\n",
      "{'title': '텔레그램 딥페이크 관련주 대장주 인공지능 성범죄', 'text': '인공지능(AI) 기술을 활용하여 텔레그램은 물론 트위터, 페이스북 등 다양한 SNS에서 해당 범죄가 발생되며 현재 엄청난 사회적 문제로 작용하고 있기 때문이다. 방심위, 국민의힘... 딥페이크(Deepfake)는 Deep Learning 및 Fake의 합성어로 에게 꾸준한 합성을 통해 가짜 영상 또는 이미지를 만드는 기술이다. 출처 : 법제처 국가법령정보센터 해당 딥페이크...', 'date': '4주 전'}\n",
      "{'title': '인공지능의 시대: 2016년의 붐과 그 이후 #AI강의', 'text': \"영화 속 인공지능 '사만다'의 목소리는 스칼렛 요한슨이 맡았죠. 영화의 결말은 주인공이 '사만다'에게 깊은 애정을 품게 되지만, 결국 사만다가 업그레이드되어 그를 떠나버리는 이야기로 마무리됩니다. 이 결말은 인공지능이 인간과의 관계에서 어떻게 행동할지를 생각하게 만듭니다. 이 영화는 과 인간의 관계에 대한 많은 시사점을 던집니다....\", 'date': '2024.06.15.'}\n",
      "{'title': \"정재승 교수 특강, '인공지능로봇 시대, 다음세대의 교육을 성찰하다' 강연\", 'text': \"로봇, 그다음은', '인공지능은 인간을 어떻게 바꾸어 놓을 것인가', '4차산업혁명과 기술의 미래' 등 4차산업, 미래, 미래기술, 로봇, 미래사회, 과학, 뇌과학, 교육, 자녀교육 등에 관련된 다양한 주제로 특강(강연)을 진행하십니다. 주요저서로는 <살아보니, 지능>, <열두발자국>, <과학콘서트> 등이 있습니다. 정재승 교수님의 특강(강연)이 궁금하시면?? 호오컨설팅으로...\", 'date': '2024.07.02.'}\n",
      "{'title': '생성형 인공지능 AI 종류 및 활용사례 분석', 'text': '생성형 인공지능 AI 종류 및 활용사례 분석 - 네이버 IT/테크 인플루언서 챠콜 - 1. 개요 안녕하세요. 네이버 IT/테크 인플루언서 챠콜입니다. 생성형 인공지능(Generative AI)은 최근 AI 기술의 발전 중에서 가장 주목받는 분야 중 하나입니다. 이 기술은 새로운 데이터를 생성하거나 기존 데이터를 변형하는 능력을 가지고 있으며, 텍스트, 이미지, 음악 등 다양한...', 'date': '2024.07.21.'}\n",
      "{'title': 'SKT, MNO AI 플랫폼 구축 및 인공지능 적용 사례', 'text': '이외에도 SKT의 인공지능 적용 사례를 살펴보면 고객센터에도 인공지능기술을 적용해 이용자의 고유 음성 판별, 간단한 음성만으로 추가 절차 없이 본인을 인증하는 기술로 고객센터 상담 및 대기 시간을 단축하였습니다. 또한, 작년 A. (에이닷) 정식 출시 후 소개한 A. 전화는 이 통화 내용의 맥락을 분석하고 통화 유형과 요약을 제공해 주는...', 'date': '2024.07.09.'}\n",
      "{'title': '[블룸에너지] 인공지능 때문에 천연가스가 필요하다?', 'text': '시장의 모든 관심이 인공지능에 몰려있습니다. 에너지 섹터역시 마찬가지입니다. 앞으로 증가하는 데이터센터에 태양광, 풍력, SMR, 수소 등등 어떤 전력원이 사용될지 초미의... 대부분 태양광, 풍력, 원자력이 인공지능의 수헤를 볼 수 있다고 주장하는데, 의외로 천연가스가 수혜를 볼 수 있을지 면밀하게 업데이트 해야겠습니다. 2Q24 블룸에너지 어닝콜 정리...', 'date': '4주 전'}\n",
      "{'title': '인공지능 AI챗봇 챗GPT 한글, 그림 사용법', 'text': '인공지능 기술의 발전으로 챗GPT가 주목받고 있다. 다양한 분야에서 활용되고 있는 AI챗봇인만큼, 당연히 한글로 대화하고 그림을 그리는 기능도 갖추고 있다. 하지만 사용법을 모르면 제대로 활용하기 어렵다. 이에 챗GPT의 한글 사용법과 그림 생성 방법을 준비했다. 본문을 참고해 익혀보시길! ✓ 한글 사용법 ✓ 그림 사용법 한글 사용법 챗gpt사용법의 첫 번째는...', 'date': '2024.07.06.'}\n",
      "{'title': 'LG전자 캠페인 인공지능 AI 스마트홈 스마트라이프솔루션', 'text': 'LG전자 캠페인 스마트라이프솔루션 인공지능 AI 스마트홈 안녕하세요. IT/테크 인플루언서 아전입니다. 오늘은 LG전자가 제시하는 새로운 미래가 담긴 기업 캠페인 영상에 대해... AI홈 솔루션 마지막으로, AI홈 솔루션은 LG전자가 자랑하는 공감지능(AI) 기술을 바탕으로 고객을 이해하고 최적의 공간 솔루션을 제공하는 영역인데요. LG 씽큐 플랫폼을 통해 축적된 실생활...', 'date': '2024.08.19.'}\n",
      "{'title': '어린이 인공지능 체험 수업 연제 도서관', 'text': '연제도서관의 어린이 인공지능 체험수업이 시작되었습니다. ↓ 공고 안내글 ↓ https://blog.naver.com/asdf200162/223553827160 조금 일찍 도착하여 도서관을 둘러봅니다. 좋은 책도 많아서 종합자료실에 다 같이 앉아서 읽어보고요. 하반기 독서문화 강좌에는 어린이 체험 외에도 생각을 키우는 문해독서 와 인문학으로 한국사 읽기가 있네요. 이번...', 'date': '3주 전'}\n",
      "{'title': '체세포분열과 인공지능의 만남', 'text': '인공지능과의 만남 이러한 생명현상을 이해하고 관리하는 데 인공지능 기술이 큰 역할을 하고 있어요. 생명과학 분야에서는 세포가 어떻게 나뉘고 성장하는지 연구하는 데 엄청난 양의 데이터를 사용하죠. 이때 인공지능은 이 복잡한 데이터를 분석하고 문제를 예측하거나 해결하는 데 도움을 준답니다. 예를 들어, 암과 같은 문제를 조기에 발견하는 데 이...', 'date': '3일 전'}\n",
      "{'title': 'AI 상담 서비스 인공지능 챗봇 고객센터 클라우드게이트 프로모션 정보', 'text': '인공지능 기술이 발전하면서 이는 고객 상담 분야에도 큰 영향력을 가져왔습니다. 사람이 직접 상담을 하던 과거와 달리 학습된 AI 솔루션을 통해 고객 응대를 하는 기업들이 많아지고 있죠. 앞으로도 인공지능 분야로는 지속적인 발전이 예상되기에 솔루션 사용은 꼭 필요해지는 상황인데요. AI 상담 고객센터 대행에 괜찮은 클라우드게이트 AI 서비스 및...', 'date': '2024.05.30.'}\n",
      "{'title': 'AI하면 데이터&슈퍼컴! KISTI, 2024 실용인공지능 컨퍼런스 참가', 'text': \"2024년 6월 27일 대전컨벤션센터에서 '2024 실용인공지능 컨퍼런스(AAiCON)'가 개최됐습니다! KISTI는 본 컨퍼런스의 공동주최기관으로 참가해 <초고성능컴퓨팅 & 인공지능 활용>이라는 발표 세션을 주관했습니다. 세션에서는 KISTI 슈퍼컴퓨팅인프라센터의 이국화 박사, KISTI 데이터연구팀의 김은희 박사, 인텔코리아의 나승주 상무, 카카오모빌리티의...\", 'date': '2024.06.27.'}\n",
      "{'title': '인공지능 대학원 진학과 AI취업 선택의 갈림길', 'text': 'AI대학원 국내에서도 약 10곳의 인공지능 대학원과 4곳의 인공지능 융합 혁신 대학원, 4곳의 인공지능 융합 연구 센터가 운영되고 있습니다. 그중에서도 아래 10곳의 AI대학원에 진학하고자 하는 학생이 가장 많습니다. 과기대 광주과기원 성균관대 카이스트 포항공대 연세대 울산과기원 한양대 서울대 중앙대 대학원에 진학하고자 하는 근본적인 이유는 AI...', 'date': '4주 전'}\n",
      "{'title': '한컴독스AI 한컴오피스에 인공지능이 더해진 베타 버전 실제 사용 후기', 'text': '그리고 지금 굉장한 이슈이며 앞으로도 우리의 삶에 엄청난 영향을 가져올 인공지능을 한컴오피스에 도입하면서 한컴독스AI 베타 버전이 오픈되었습니다. 개발 관련 소식을 들었을... 우선 기존에 사용하던 한컴오피스에서 기능이 새롭게 더해진 것이기 때문에 익숙한 환경에서 작업을 시작할 수 있었고, 새롭게 소프트웨어 활용에 대한 공부를 하지 않아도...', 'date': '2024.07.05.'}\n",
      "{'title': '[사람인X유데미] AI 국민 자격증 14일 완성 클래스 듣고 인공지능 활용 능력 자격증 따세요!', 'text': '날이 갈수록 중요해지는 인공지능(AI) 활용 능력! 이용자들의 AI 능력 향상을 위해 사람인과 유데미가 만났습니다 바로, AI 활용 능력 검증시험 *AICE Basic 합격을 위한 AI 국민 자격증 14일 완성반 클래스를 시작한건데요! * AICE: KT가 개발한 국내 최초 AI 민간 자격증 # 신청 기간 2024년 8월 14일 ~ 8월 28일 AI 활용 능력이 모든 직무에서 유용한 역량으로...', 'date': '2024.08.21.'}\n",
      "{'title': 'AI학원 인공지능 개발자 취업 어려운 이유', 'text': '생성형 AI 출현 과거 인공지능을 돕거나 데이터 분석을 통해 가치를 창출하는 분야로 여겨졌습니다. 화가, 작가, 코딩 같은 창작의 영역은 사람의 영역이라고 생각했죠. 그러나 생성형 AI 등장으로 인공지능이 창작을 하는 시대가 열리며 AI학원에 대한 관심도 높아지고 있습니다. [생성형 AI 활용 분야] 자연어 처리(텍스트 생성) 이미지 생성 오디오 생성 비디오...', 'date': '4주 전'}\n",
      "{'title': '복지 서비스에도 활용되는 인공지능(AI)', 'text': \"다양한 복지 서비스에 인공지능(AI)이 활용되고 있습니다. 인공지능이 안부 전화를 거는 'AI 노인 말벗 서비스'를 비롯해 발달장애인 돌봄에도 인공지능(AI) 기술이 적용되고, AI로 전력·통신사용량 감지해 1인가구의 고독사를 예방하기도 하는데요. 복지 서비스에 활용되는 (AI)의 활용 사례를 윤커뮤니케이션즈와 함께 살펴보세요! 이 안부 전화 거는...\", 'date': '2024.06.14.'}\n",
      "{'title': '챗GPT 관련주로 본 인공지능 투자 전략 Open AI 전망', 'text': '최근 인공지능 기술의 급격한 발전과 함께 챗GPT는 투자자들 사이에서 큰 관심을 받고 있다. 특히 OpenAI가 발표한 GPT-4o는 인공지능의 새로운 시대를 여는 중요한 전환점으로 평가받고 있다. 이 글에서는 챗GPT 관련주를 중심으로 투자 전략과 Open AI의 미래를 살펴보고자 한다. 초보 투자자들이 투자에 접근할 때 유용한 정보를 제공하는...', 'date': '2024.05.22.'}\n",
      "{'title': 'AI 인공지능 벤치마크 긱벤치 AI 공개, 기능 및 특징 분석', 'text': 'AI 인공지능 벤치마크 긱벤치 AI 공개, 기능 및 특징 분석 - 네이버 IT/테크 인플루언서 챠콜 - 1. 개요 안녕하세요. 네이버 IT/테크 인플루언서 챠콜입니다. 스마트폰과 컴퓨터의 성능을 측정하는 대표적인 벤치마크 도구인 Geekbench가 이제 (AI) 성능 평가에 나섰습니다. Geekbench AI라는 새로운 벤치마크가 도입되며, 처리 성능을 측정하고...', 'date': '2024.08.16.'}\n",
      "{'title': '대전인공지능학원, 인공지능의 미래 함께하는 여정', 'text': '- 딥러닝: 인공신경망의 원리와 활용 방법, TensorFlow와 PyTorch 사용법. 3) 고급 과정 - AI 프로젝트: 실제 문제 해결을 위한 팀 프로젝트 진행. - AI 윤리: 인공지능의 사회적 책임과 윤리적 문제에 대한 논의. 5. 실무 경험과 네트워킹 기회 대전 학원은 이론 교육뿐만 아니라 실무 경험도 중요하게 생각합니다. 학생들은 다양한 프로젝트에 참여하고, 현업에서...', 'date': '3일 전'}\n",
      "{'title': 'AI 음원 제작 유튜브 쇼츠 틱톡 음악 MixAudio 인공지능 기반 믹스오디오', 'text': \"AI 음원 제작 유튜브 쇼츠 틱톡 음악 MixAudio 인공지능 기반 믹스오디오 안녕하세요. 사진&IT 크리에이터 자유분방입니다. 요즘은 AI 인공지능을 활용하여 다양한 것들을 할 수 있는 세상입니다. 얼마 전 포럼에서 AI를 기반으로 한 음악 제작에 대한 내용을 보고 참 신기하다고 생각을 했었는데요. 이번 글에서는 KAIST MAC Lab 출신 AI 음악 기술 스타트업 '뉴튠'의...\", 'date': '2024.07.15.'}\n",
      "{'title': '국내 ai 관련주 전망, 인공지능 주식 top3', 'text': '오늘은 국내 ai 관련주 전망, 인공지능 주식 top3에 대해 알아보겠습니다. 미국 빅테크들의 인공지능 투자 확대 소식이 불거지면서 국내에서도 ai 관련주가 강세를 보이고 있습니다. 안그래도 요즘 계속해서 인공지능에 대한 여러 가지 시스템들이 공개가 되면서 많은 관심이 쏠리고 있는데요. 관련주들에는 어떤 것들이 있는지 살펴보도록 하겠습니다. 국내 ai...', 'date': '2024.05.01.'}\n",
      "{'title': '(문화예술내일)문화예술관점 인공지능 생태계 이해', 'text': '영화의 주인공은 누구이며 줄거리는 어떻게 되고 러닝타임은 얼마이고 몇년도 제작된 건지 하는 영화의 주요 핵심 정보를 뽀아내는 건, 영화 메타데이터인데, 이는 과거에 인간이... 인공지능이란 인간의 지능을 모사하는 것. 이 강좌를 듣고 나면 모든 예술활동은 으로 얼마든지 가능한 것처럼 느껴진다. 하지만 관련 분야에 상당한 지식이 없으면 쉽지...', 'date': '5일 전'}\n",
      "{'title': '인공지능 발명자의 특허, 대국민 설문조사', 'text': \"인공지능(AI) 기술의 급격한 발전으로 발명의 과정에서 AI활용이 증가하는 가운데, AI를 발명자로 표시한 국제특허출원이 등장했습니다. 인공지능 발명 국제특허출원(’20. 3. 12. 국내출원) 미국의 인공지능 개발자 스티븐 테일러가 '다부스(DABUS)'라는 이름의 을 발명자로 표시한 국제특허출원으로, 한국을 포함하여 16개국에 출원하였으며, 출원인은 이...\", 'date': '1주 전'}\n",
      "{'title': '[인공지능] 당신의 뇌를 바꾸시겠습니까? (EBS 지식채널, 머스크의 개발)', 'text': '인간 vs 인공지능대비 일론 머스크의 도전(BCI 개발) 지금 인류 최고의 관심사는 인공지능(AI, Artificial Intelligence) 개발. 이세돌과 AI 바둑대결 인류 수준의 학습능력, 문제해결능력을 넘어 창의적 사고까지 만들어낼 것이라는 기대감은 우리보다 나은 인류를 지배할 수 있을만큼 빠르게 발전하고 있는 #개발 #발전 에 대한 경계감 이미...', 'date': '2024.05.25.'}\n",
      "{'title': '한글과컴퓨터가 론칭한 인공지능 AI 뉴스레터 구독해 보니', 'text': \"OpenAI가 세상에 선보인 ChatGPT를 신호탄으로 인공지능을 활용한 다양한 서비스가 빠른 속도로 등장하고 있다. 전 세계가 미래 먹거리로 부상한 AI에 모든 역량을 투자하고 있기에... 최신 인공지능 트렌드와 국내에는 잘 알려지지 않은 일상 속 도움이 되는 AI 소식을 깔끔하게 정리해서 격주에 한 번씩 발행한다. 이는 국내 오피스 프로그램 기업인 '한글과컴퓨터(한컴)...\", 'date': '2024.04.17.'}\n",
      "{'title': '[종목분석] 우리기술 인공지능 로봇 방산주 원자력발전 관련주 주가 목표가 주식 전망 원전', 'text': '동사는 인공지능 로봇 방산주 원자력발전 관련주입니다. 최근 동사가 소폭 강세를 보여주면서 주목받았는데요. 본 글은 주가 목표가 주식 전망 원전 정보에 대해 알려... 여기까지 우리기술 인공지능 로봇 방산주 원자력발전 관련주 주가 목표가 주식 전망 원전에 대해 알려 드렸습니다. 본 글은 주식 투자 권유 목적으로 작성된 글이 아닙니다. 투자 손실의...', 'date': '2024.07.18.'}\n",
      "{'title': '2024.09.03 인공지능 아비투스', 'text': '그런데 우리는 곧 몇 초 안에 과학적인 근거에 기반한 정확한 답변을 내줄 수 있는 인공지능을 만나게 됩니다. 생각이 이어지다 보니 마음이 다시 조급해지기 시작합니다. 더 많이 공부해야 겠고 인공지능을 잘 활용해야 겠구나. 아비투스라는 말을 좋아합니다. [리뷰&발췌] 아비투스 (도리스 메르틴) - 부자의 품격 https://blog.naver.com/bibimgugsu/222243460404...', 'date': '4주 전'}\n",
      "{'title': '이슈브리프 | 인공지능 윤리(AI Ethics) : 인간과 인공지능의 조화로운 공존 방안', 'text': '<KISTI ISSUE BRIEF : 인공지능 윤리(AI Ethics)> 인공지능(AI) 전환 시대로 진입하면서 AI는 일상생활과 산업 전반에 걸쳐 혁신적인 변화를 가져오고 있다. 하지만 AI의 급격한 진보는 윤리적, 기술적 문제를 동반하며 전문가들은 AI의 위험성에 대해 경고하고 있다. 이에 따라 세계 각국 정부와 기업은 AI에 의한 위험과 부작용을 방지하기 위해 AI 윤리 원칙과 법...', 'date': '2024.07.02.'}\n",
      "{'title': \"'KT 인공지능 자격증 단기 취득반' ️ 교육생 모집\", 'text': '강남구 KT 인공지능 자격증 단기 취득반 교육생 모집 신청기간 2024년 5월 29일 ~ 6월 11일 13:00까지 신청대상 강남구 거주 미취업 청년 (19세~39세) 교육기간 6/24(월)~7/5(금), 매주 월-금 10시-18시 교육장소 충현교회 제3교육관 (강남구 논현로98길 22) 교육과정 자격증 취득 교육(KT AICE Basic 과정) ✔️비전공자도, 문과생들도 쉽게 도전 가능한 Basic 과정...', 'date': '2024.05.31.'}\n",
      "{'title': '과기정통부, 인공지능-반도체 전략 구상 연구개발 현장 점검', 'text': '방문하여 인공지능(AI)·디지털 분야 연구자들과 소통하고 AI, AI반도체 등 이니셔티브 관련 R&D 추진현황을 점검하였습니다. 이번 방문은 지난 4월 9일 윤석열 대통령의 AI-반도체 이니셔티브 추진 방향 제시 이후 정부가 최근 발표한 게임체인저 기술 분야의 이니셔티브 실현을 위한 ETRI의 연구개발(R&D) 현황을 살펴보고, 지난 5월에 열린 AI 서울 정상회의에서 다룬...', 'date': '2024.06.17.'}\n",
      "{'title': '갤럭시 북4 Pro 인텔® 인텔AI PC 인공지능 업무용 노트북 추천!', 'text': '대부분 온라인을 통해 이용할 수 있었던 인공지능 서비스를 온라인뿐 아니라 오프라인에서도 이용할 수 있는 건데요, 인텔® 코어™ Ultra 프로세서에 탑재된 AI연산 전용... 실내공간, 외부 활동에서 높은 시인성을 위한 Anti-Reflection 기능이 적용되어 선명하고, 깨끗한 화면을 만나볼 수 있으며, Vision Booster 기능으로 자동 밝기, 지능형 톤 맵핑 등...', 'date': '4주 전'}\n",
      "{'title': '[32기 드디어 개강] 인공지능&상권분석 전문가 과정 1주차 개강식과 오리엔테이션', 'text': '9월 2일 오후 3시부터 6시까지 3시간에 걸쳐 인공지능&상권분석 전문가 과정 32기 1주차 개강식과 오리엔테이션이 성황리에 진행 되었습니다. 저와 이동수 이사를 제외한 47명의 수강생과 함께 32기의 대장정을 멋지게 시작했습니다. 1부 개강식의 식순은 다음과 같은 순서로 이루어졌습니다. 이동수 이사님의 개회사 이후 상권분석 전문가 과정 총동문회장이신...', 'date': '4주 전'}\n",
      "{'title': '머신러닝과 딥러닝과 인공지능 ai', 'text': '머신러닝과 딥러닝과 인공지능 ai © possessedphotography, 출처 Unsplash 머신러닝은 인공지능의 한 분야로, 컴퓨터가 데이터를 통해 학습하고 예측할 수 있도록 하는 기술입니다. 기본적으로 머신러닝은 알고리즘을 사용하여 데이터를 분석하고 그 결과를 바탕으로 새로운 데이터에 대한 예측이나 결정을 내리는 과정을 포함합니다. 머신러닝은 크게 세...', 'date': '4주 전'}\n",
      "{'title': '금리인하 수혜주 AI 인공지능 관련주 : SOL 미국AI소프트웨어 ETF', 'text': '금리인하 수혜주 AI 인공지능 관련주 : SOL 미국AI소프트웨어 ETF 안녕하세요 경제 인플루언서 박몬드입니다. 미국 중앙은행이 드디어 피벗을 시작하면서 기나긴 긴축의 여정이 막을... 종목에 투자하기에는 부담스러운 분들에게 좋은 선택지가 될 것 같습니다. 여기까지 금리인하 수혜주 AI 관련주 : SOL 미국AI소프트웨어 ETF에 대해 알아보았습니다. ▼ &', 'date': '1주 전'}\n",
      "{'title': '인공지능 관련주 투자 전망 국내외 6곳', 'text': \"AI 음성 비서 'NUGU', 지능형 CCTV 등 AI 기술 기반의 제품 및 서비스를 선보이고 있습니다. 최근에는 자회사 SK쉴더스를 통해 AI 기술 기반의 보안 솔루션 사업을 강화하고 있습니다. 전문가들은 SK 텔레콤이 AI 기술을 통신, 보안, 미디어 등 다양한 분야에 적용하며 성장할 것으로 전망하고 있습니다. 이처럼 국내 주요 IT, 통신, 보안 기업들이 ...\", 'date': '2024.05.30.'}\n",
      "{'title': '삼성전자 갤럭시북4 프로360 AI 인공지능 노트북 리뷰', 'text': 'AI 인공지능 관련된 기능들을 확실히 쾌적하게 사용이 가능했습니다. 보통 가성비를 생각하여 적당한 사양에서 타협을 보고 구입을 할건데 지금까지 갤럭시북 프로를 구형부터... 키보드의 숫자키는 생산성을 높였고, 상단의 지문인식 전원키는 보안성 강화해서 인가된 사용자외엔 철저하게 배제 해주니 이같은 AI 활용하기 편리한 노트북이...', 'date': '2024.05.29.'}\n",
      "{'title': '인공 지능 개발 플랫폼 3-Enterpise AI Roadmap', 'text': '마지막으로 기업/조직이 자체 인공 지능 솔루션을 구축하는데 고려할 사항들을 정리해 본다. ■ 기업용 AI 개발의 미래 기존 AI 및 ML 워크로드는 제조 분야의 예측 유지 관리부터 소매 분야의 수요 예측, 금융 서비스 분야의 사기 탐지에 이르기까지 광범위한 기업용 앱을 뒷받침한다. 한편, 생성형 AI는 아직 기업 채택 초기 단계에 있다. Dell COO, Jeff...', 'date': '2024.07.22.'}\n",
      "{'title': '블로그 자동화프로그램 제작 다운 서로이웃 공감 댓글 인공지능 ai 만들기', 'text': '멘트도 챗gpt 인 인공지능 api 를 이용해 내용을 요약 댓글에 포스팅과 연관된 댓글을 남길수있도록하는게 최종목표입니다.. 아직 물론 베타버전까지도 완성이 안되엇습니다.. 아직 프로그램 레이아웃들도 다듬어야하고.. 결론적인 핵심기능이 정상적으로 작동해야하니까.. 아직 진행형입니다.. 현재까지 작업은 로그인->로그인실패시 수동로그인 푸쉬버튼생성...', 'date': '5일 전'}\n",
      "{'title': '인공지능 때문에 사라질 직업들, 현실은?', 'text': \"흥미로운 것은 '인공지능 때문에'라는 단서가 붙어 있다는 점입니다. 02 약 8년 전, 인공지능이 아직은 머나먼 미래로만 여겨지던 시점에 우리는 예술, 창작, 심리와 같은 '고차원적'인 정신 활동이 인간의 전유물이자 최후의 보루라 생각했네요. 실제 현실은 어떻게 됐을까요? AI 시대의 초입을 사는 우리는 이제야 봅니다. 재미(?)있게도 2016년 당시 '이 대체...\", 'date': '2024.05.04.'}\n",
      "{'title': '클로바 스피커 인공지능 AI 스피커 클로바 온', 'text': '네이버의 인공지능 AI 스피커 인데요. 귀여운 디자인과 AI 기술이 탑재 되어 활용성이 좋은 것이 장점 입니다. 그러면 어떤 스피커의 장점이 존재 하는지, 그리고 어떤 기능이 있는지... 음악 재생 부터, 날씨 확인, 일정 관리, 네이버 검색등을 음성으로 제어 할 수 있는 스피커 인데요. 말로 물어보고 대답을 해주기 때문에 어르신들은 말동무처럼 적적할때...', 'date': '2024.07.13.'}\n",
      "{'title': '인공지능민원상담[뚜봇]..궁금증을 해결하는 또 하나의 방법', 'text': '#대구시인공지능민원상담사뚜봇 #인공지능민원상담뚜봇 #뚜봇 이웃님들 안녕하세여~~ 살다보면 궁금하거나 잘 모르는 것이 있으면 어디서 해결하나요?? 네이버 검색 또는 유튜브 검색하면 왠만하것 다 나오는데 언제부터인가 챗GPT도 생겨 궁금하거나 잘 모르는 것을 질문하면 넘나 잘 알려주는 시대입니다. 챗GPT 많이 사용하는 사람도 있고 그렇지 않은 사람은.....', 'date': '3시간 전'}\n",
      "{'title': '시니어 스마트폰과 키오스크 활용교육 7회 - 인공지능 개인비서 삼성 빅스비와 갤러리 사진에 글쓰기 등...', 'text': '입추가 지났는 데 무지 더운날~ 오전 10시부터 12시까지 시니어 스마트폰과 키오스크 활용교육 7회 - 송도4동행정복지센터에서 인공지능 개인비서 삼성 빅스비와 갤러리 사진에 글쓰기 등 교육했습니당. 오전 9시 30분 되기 전에 송도 4동 행정복지센터에 도착했어요.^^ 개인비서 삼성 빅스비와 갤러리 사진에 글쓰기 등 챗GPT 아숙업 활용하기 챗GPT 오픈 AI, MS...', 'date': '2024.08.12.'}\n",
      "{'title': '인공지능(AI) 5단계', 'text': '마치며 오픈AI가 제시한 인공지능 5단계에 대해 알아보았다. 소프트웨어 회사이라서 그런지 지능 측면에 대해서만 다룬 것 같다. 자율에, 물리적인 외양이 인간 모습인 휴머노이드 기술도 발전하면? 아래서 SF는 디스토피아가 많나 보다. 인간 중심 디자인을 해야 하는 이유중의 하나는, 기술의 발전에 비해 인간은 발전하지 않고, 인간의 사회와 제도, 문화...', 'date': '2024.08.17.'}\n",
      "{'title': '[인공지능 상권분석 전문가 과정 9월 9일 상담일지] 칼국수 전문점 대표님 상담일지', 'text': '#인공지능상권분석전문가과정32기 #칼국수전문점 #매출증대전략 칼국수 전문점 매출 추세분석과 매출액 증대를 위한 전략 상담 일시: 2024년 9월 9일 오전 11시 장소: 스타벅스 선릉세화빌딩점 상담 대상: *****칼국수 대표님 상담 주제: 매출 변동성 문제, 직원 품질 관리, 맞은편 아파트 민원 문제 1. 매출 변동성 문제 개점 이후 꾸준한 상승 추세를 보이던 칼국수 전문점의...', 'date': '3주 전'}\n",
      "{'title': '[인공지능·AI] LLM 생성과정 : LLM 생성과정을 단계별로 살펴보자', 'text': '모델을 재학습시키거나, 기존 모델의 성능을 향상시키기 위한 추가적인 미세 조정을 수행할 수 있다. - 피드백 수집: 사용자로부터 피드백을 수집하여 모델의 개선점이나 오류를 파악하고, 이를 바탕으로 모델을 지속적으로 개선한다. # #AI #LLM #생성과정 #단계 다른 곳에 이용할 때 저작자의 출처를 밝혀 주세요. 따뜻한 공감과 소중한 이웃은 커다란 힘이 됩니다.', 'date': '1주 전'}\n",
      "{'title': '콴텍 인공지능이 찾아주는 성장하는 미국주식 투자 방법', 'text': \"인공지능이 알고리즘에 의해 선정해준 미국 주식에 투자한다면 성과가 어떨까요? 성장하는 미국 주식을 찾아 투자하고, 해당 주식을 보유할지 다른 종목으로 변경할지 아니면 비중 조절이 필요한지를 인공지능이 주기적으로 판단해 운용한다면 결과는 어떨까요? 사람이 아닌 알고리즘에 의해 투자하는 것을 '로보어드바이저'라고 합니다. 증권사, 투자일임사...\", 'date': '2024.07.25.'}\n",
      "{'title': '구글 홈미니 블루투스 인공지능 AI 스피커 네스트미니 비교', 'text': '구글 홈미니 블루투스 인공지능 AI 스피커 네스트미니 비교 안녕하세요. IT/테크 인플루언서 아전입니다. 이번 시간에는 구글 인공지능 스피커 두 가지 모델인 구글 홈 미니 및 네스트 미니에 대해 이야기해 보려고 합니다. 이 두 제품은 블루투스 스피커로 서로 다른 특징을 가지고 있는데요. 어떤 특징이 있는지 자세히 알아보겠습니다. 구글 홈 미니 AI 스피커 구글...', 'date': '2024.07.28.'}\n",
      "{'title': \".【갤럭시워치 울트라를 '포기'하고, 갤럭시링으로 대체한 이유】《인간의 외로움을 (AI)이 채워줄...\", 'text': '영화 “그녀(Her, 2013)”에서는 인공지능 사만다와 사랑에 빠지는 주인공의 이야기가 나온다. 인간의 외로움을 인공지능이 채워줄 날이 조만간 올 지도 모른다. 주문한 개인용 AI로봇이 도착한 날을 상상해 본다. 포장을 뜯는 순간 충직한 AI로봇 튀어나와 말한다. “오, 주인님, 사랑해요. 어떤 음악을 틀어드릴까요?” “오! 너구나. 분위기 있는 음악 부탁해”...', 'date': '2024.08.17.'}\n",
      "{'title': '생성형AI, 인공지능 챗봇 활용법 안배우면 망합니다', 'text': '#인공지능상권분석전문가과정32기 #필수시청 아래 유튜브 영상을 꼭 보시기 바랍니다 소상공인 여러분께 필요한 내용으로 정리해 보았습니다. AI 사피엔스와 함께 미래의 변화를... 소형 모델은 빠르게 특화된 영역에서 성능을 발휘할 수 있는 반면, 거대 언어 모델은 더 높은 수준의 이해와 지능을 제공해요. 이 둘은 상호 보완적으로 작용하며, 특정 문제를 해결할 때는...', 'date': '2024.08.20.'}\n",
      "{'title': '엔비디아 예상주가 미국주식 반도체 인공지능', 'text': '엔비디아 예상주가 미국주식 반도체 인공지능 며칠 전에 놀러 갔다 왔는데, 그 사이에 엔비디아에 무슨 일이 생겼나 보다. 주가가 계속 하락하고 있는데, 이로 인해 국민주 삼성전자... 인공지능 반도체를 긍정적으로 바라본다면 더 높은 주가를 예상할 것이다. 비관론자라면 140불 보다 더 낮은 주식 가격을 제시할지도 모른다. 엔비디아는 미국 주식을 하는 사람이라면...', 'date': '3주 전'}\n",
      "{'title': '글로벌 IT대란 그리고 엔비디아 인공지능 AI 블랙웰', 'text': \"https://www.instagram.com/itda_king/ 엔비디아 인공지능 AI 블랙웰이 뭐야~?? #엔비디아 #인공지능 #AI #블랙웰이 #가속기용칩 #반도체 #구글 #메타 #마이크로소프트 #오라클 ✔ 인공지능(AI) 가속기용 칩 > 그래픽처리장치(GPU) 칩으로 미국 국립 과학원(NAS)의 첫 흑인 회원으로 통계학자이자 수학자인 '데이비드 해롤드 블랙웰' 이름을 딴 것으로 전해진다....\", 'date': '3주 전'}\n",
      "{'title': 'KODEX AI반도체핵심장비 ETF 주가 전망, 인공지능 관련주', 'text': 'KODEX ETF 특징 총정리 AI반도체 생산에 꼭 필요한 HBM HBM이란 고대역폭 초고속 메모리의 약어로 고성능 인공지능을 위한 설계에 있어서 필수적인 요소입니다. 최근 HBM 공정에... 최근 1년 그래프 2023년 11월 21일 상장 이후부터 ~ 2024년 8월 30일까지 기준 올해 1월부터 급상승했던 이유는 관련주의 기대감 및 기술 개발로 엔비디아, 마이크로소프트...', 'date': '4주 전'}\n",
      "{'title': 'AI 관련주 델테크놀로지(DELL) 인공지능 자체는 죽지 않았다.', 'text': 'AI 인공지능, 델 테크놀로지에서 숫자로 찍힌다. 델의 실적 FY25 2분기, 5~7월 기간분을 보면 매출도 늘고 이익률도 아주 좋았다. 특히 AI 서버 출하 금액은 2분기에만 31억달러였고, 수주 잔고는 38억달러였다. 서버가 포함된 유닛들의 매출은 116억달러였고 infrastructure unit은 역대 신고가를 이번에 기록했다. 대부분의 AI 서버 비즈니스는 비교적 작은...', 'date': '4주 전'}\n",
      "{'title': 'AI부트캠프 인공지능 빅데이터 학원 수료생의 3가지 진로', 'text': '빅데이터 * 인공지능 인공지능과 빅데이터 분야는 밀접하게 연관되어 있습니다. 인공지능 업계에서는 빅데이터 분석을 동시에 빅데이터 업계에서는 인공지능 개발을 요구하는 경우가 많습니다. ① 머신러닝 / 딥러닝 개발자 ② 데이터 엔지니어 ③ 데이터 분석가 수강하는 AI 부트캠프에 따라서 위 3가지 직렬로 취업하게 됩니다. 즉, 원하던 직무와 다르게 취업할 수...', 'date': '2024.08.22.'}\n",
      "{'title': '포토샵 대용 인공지능 사진 리무버 사용하는 매직 이레이저 사이트', 'text': '하지만 최근에는 인공지능(AI) 기반의 이미지 편집 도구가 등장하면서 누구나 쉽게 이미지를 편집할 수 있는 시대가 되었습니다. 그중 MagicStudio는 포토샵을 대신할 수 있는 AI 사진 리무버로, 간단하게 원하는 부분을 제거하고 편집할 수 있는 사이트입니다. 이 글에서는 MagicStudio의 주요 기능, 사용 방법, 그리고 장점에 대해 소개하겠습니다. MagicStudio는 AI 기술을...', 'date': '4일 전'}\n",
      "{'title': 'AI 종류 인공지능 직업 개발자 교육 국비지원 취업 내일배움카드 학원', 'text': '오늘은 AI종류 어떤것들이 있는지 인공지능 직업 에 대해서 알아보고 AI 교육 국비지원 수업과정 커리큘럼 강의 강좌 수업 내용까지 알아보려고 합니다 요즘에 인공지능개발자 취업, AI개발자 취업 많이 하시려고 하시는데요~ 파이썬 데이터분석, 딥러닝 기술이 필수여서 이런 부분에 맞게 교육과정을 받을 수 있는지 제대로 알아보고 본인 계획 목적에 맞게 기술...', 'date': '2024.05.25.'}\n",
      "{'title': '[2024 지역대학연계 늘봄(방과후) 프로그램] 게임을 통해 배우는 인공지능 전문가', 'text': '보드게임을 통한 AI(인공지능)원리 학습하기 1차시에 태블릿PC로 코딩학습을 한 후, 간식과 음료수를 먹으며 쉬는 시간을 가지고, 2차시에는 AI 원리를 보드게임으로 배우는 시간! [AI로보팩토리] 이 보드게임은 AI의 원리중 인공신경망 학습 원리를 간접적으로 체험할 수 있다. 이해력이 빠르거나 추리(추측) 하는 것을 좋아하는 학생들은 2학년부터도 할 수 있지만...', 'date': '6일 전'}\n",
      "{'title': 'LLM( 생성형) 업무효율화, 업무활용, 인공지능 활용하여 일잘 하는법 66', 'text': '가격을 결정하는 방법을 터득하고 난 이후, 방금 말씀드렸던 소비자의 기호도 측정 방법을 포함하게 마케팅 예측 방법을 포함하여 전부 알아 보겠습니다. 오늘은 소비자 가격 조사 방법 중 인터넷을 활용한 방법과 소비자의 가격 결정 기준 3가지에 대해 알아보았습니다. . . . 생성형, LLM, 일잘러, RAG응용, 챗지피티 를 활용해서 프로 일잘러 되기 출간 준비중~~!!', 'date': '5일 전'}\n",
      "{'title': '가족의 안전 인공지능기술로 안전하게 씨앤케어 인공지능 홈캠', 'text': '오늘은 부모님이 따로 살고 계시거나 아이를 키우는 육아 가정에서 큰 도움이 될 수 있는 씨앤케어 인공지능 가정용 홈캠에 대해 소개해 드리려고 합니다. 제품의 스펙 씨엔케어 가정용 인공지능홈캠 의 스펙은 다음과 같습니다. 스펙 해상도 : 400만화소 시야각 : 120도 메모리 : 최대 MicroSD 128GB 앱제어 지원 - PTZ, 프라이버시 모드, 양방향 통화 AI기능 : 낙상, 추락 사고...', 'date': '2024.08.05.'}\n",
      "{'title': '대구AI교육 / 인공지능 빅데이터 분야 교육과정', 'text': '대구AI교육 AI(인공지능)과 빅데이터의 상관관계 AI(인공지능): 기계가 인간과 유사한 방식으로 학습하고 문제를 해결할 수 있도록 하는 기술입니다. 머신러닝, 딥러닝 등이 포함되어 있으며, 자연어 처리, 이미지 인식, 자율주행차 등 다양한 분야에서 활용됩니다. 빅데이터: 방대한 양의 데이터를 의미하며, 이러한 데이터는 구조적 및 비구조적 형태로 존재합니다....', 'date': '2주 전'}\n",
      "{'title': \"네이버 인공지능 검색 cue:에게 '리봄'에 대해 물었어요\", 'text': '네이버 인공지능 검색 서비스 cue : 대단하네요. 리봄 조연미 대표는 국내 1호 시니어플래너로 시니어들에게 새로운 직업을 제시하고 그들이 주체적인 삶을 살아갈 수 있도록 다양한... 네이버 인공지능 서비스가 리봄을 과하게 홍보해 주고 있네요. 참, 감사합니다. 최근 가장 핫한 (AI) 에게 인정받은 듯 해 더욱 감동이네요. 더욱 열심히 하겠습니다. 리봄교육...', 'date': '4주 전'}\n",
      "{'title': '인공지능이 친환경 건축 설계까지 한다고?', 'text': \"이러한 문제를 해결하기 위해, 텐 일레븐에서 개발한 인공지능(AI)을 활용한 혁신적인 건축 설계 솔루션 '빌드잇(Buildit)'이 주목받고 있다고 하는데, 어떤 점에서 주목을 받고 있는지 살펴보도록 하겠습니다. 친환경 인공지능 건축 설계 솔루션 ‘빌드잇’ 친환경 건축 설계 솔루션인 ‘빌드잇’은 설계 시 사업성을 먼저 고려하기 때문에 친환경성은 후반에...\", 'date': '4일 전'}\n",
      "{'title': '인간보다 똑똑한 인공지능의 탄생', 'text': '\" 9.8과 9.12중에 어느 수가 더 커??\" 인간이라면 1초만에 답할 수 있는 문제인데 그동안 인공지능은 이를 잘 풀지 못하는 기본적인 문제다. 이거 때문에 인공지능은 기본적인 추론능력이 딸려서 인간을 능가하기엔 멀었다는 이야기를 많이 했었다. 먼저 GPT 4o 역시 9.12가 9.8보다 크다는 오류를 범한다. 그리고 다음은 GPT-o1 풀이과정에 가장 놀란건 기존...', 'date': '2주 전'}\n",
      "{'title': '[인공지능·AI] 대규모 언어 모델(LLM)의 핵심 구성 요소', 'text': '이는 번역과 같은 작업에서 유용하다. 8. 위치 인코딩 (Positional Encoding) 트랜스포머 모델은 자연적으로 토큰의 순서를 인식하지 않기 때문에 위치 인코딩을 추가하여 각 토큰의 위치 정보를 제공한다. #인공지능 #대규모 #언어모델 #LLM #핵심 #구성요소 다른 곳에 이용할 때 저작자의 출처를 밝혀 주세요. 따뜻한 공감과 소중한 이웃은 커다란 힘이 됩니다.', 'date': '1주 전'}\n",
      "{'title': '[주기동] 생성형 인공지능의 현재와 전망 (20240731, 2143)', 'text': '지금 인공지능 기술이 발전을 거듭하여 AI가 인간 사고와 지능에 근접할 수준으로 발전할 가능성도 생각해야 할 것이다. 따라서 인공지능의 저작권이나 창의성을 보호하기 위해서라도 이제는 이들이 법적 지위나 권위를 가질 가능성도 생각해 보아야 한다. 인간은 사건이나 사물을 인지하는 과정에서 감정에 영향을 받게 된다. 반면에 생성형 은...', 'date': '2주 전'}\n",
      "{'title': '[공부] 준비물 없이 바로 사용가능한 교실 속 인공지능(AI) 교육 _ 과목별 에듀테크 추천', 'text': '(≒지능정보기술) 그렇다면 디지털 기초 소양 함양과 인공지능 교육을 위해 교사에게는 어떤 지원과 노력이 필요할까요? <교사에게 필요한 지원> -다양한 연수 기회와 충분한 시간 -구체적인 가이드 라인 -적절한 디지털 교육 환경과 인프라 조성 <교사에게 요구되는 노력> -디지털, 정보 심화 연수 및 수업 연구를 통해 전문성을 높여 수업의 질 향상...', 'date': '6일 전'}\n",
      "{'title': '인공지능 시대에 인간의 행복이란(담장 없는 대학, 서대문행복캠퍼스)', 'text': '초지능화 인공지능 기술의 발전으로 기계가 스스로 학습하고 판단하며, 인간의 지능을 뛰어넘는 수준에 도달할 수 있습니다. 융합 다양한 기술들이 서로 융합되어 새로운 가치를 창출합니다. 예를 들어, 인공지능과 로봇 기술이 결합하여 스마트 공장이 구현되고, 빅데이터와 사물인터넷 기술이 결합되어 스마트 시티가 건설됩니다. 4차 산업혁명이 가져올 변화...', 'date': '3일 전'}\n",
      "{'title': '미국 ETF 반도체 SMH vs 인공지능 AI BOTZ 비교 분석', 'text': '인공지능과 이로인한 수혜를 받는 반도체에 대한 관심이 계속해서 크다. VOO에 대한 글은 아래 글을 참고하자. 이전에도 계속 내가 말하는게 인덱스펀드에 투자하고 나머지는... 반도체를 중심으로 종목이 구성된 미국 주식 ETF SMH와 을 중심으로 종목이 구성된 BOTZ 를 비교 분석해보자. SMH vs BOTZ 미국 주식 ETF ETF.com 결론만 보자면 반도체 관련주인...', 'date': '2024.08.22.'}\n",
      "{'title': '애플 WWDC 앞두고 주가는 하락 / MS의 인공지능과 Xbox', 'text': \"마이크로소프트는 인공지능 연구개발을 OpenAI에 효과적으로 아웃소싱하고 있다고 말했다. 사티아 나델라의 말은 아니고 Okta의 CEO인 토드 맥키논의 말.... 답인지, 아무것도 확신할 수 없기 때문이다. 인공지능 외에도 Xbox 콘솔 신제품도 공개했다. Microsoft’s Xbox refresh can't compete with its leaked roadmap © billyfreeman, 출처 Unsplash\", 'date': '2024.06.10.'}\n",
      "{'title': \"[로젠탈 플랜 공개 강의] 생성형 AI 인공지능 교육 '챗 GPT 활용법'\", 'text': \"2024년 9월 로젠탈 플랜 100% 성장 특강 (운영진 특집) 생성형 AI 인공지능 교육 '챗 GPT 활용법' 지난 9월 22일, 로젠탈 플랜 멤버분들을 위해 기획된 [100% 성장 특강] 이 많은 분들의... AI교육 'AI 인공지능 & 챗 GPT 교육' [로젠탈 콘텐츠랩 운영진 공식후기] 생성형 AI 강의 '챗 GPT 활용법' 가을이 성큼 다가온 일요일 저녁 생성형 AI활용에 대한 특강으로 22일...\", 'date': '2일 전'}\n",
      "{'title': '기보-한국표준협회, 인공지능(AI) 분야 육성에 맞손', 'text': '기보-한국표준협회, 인공지능(AI) 분야 육성에 맞손 - 인공지능 기술기업 발굴하여 맞춤형 지원하기로 협약 체결 - 기술보증기금(이사장 김종호, 이하 ‘기보’)과 한국표준협회(회장 강명수, 이하 ‘협회’)는 12일(목) 기보 서울사무소에서「 기술중소기업 사업화지원 업무협약」을 체결했다고 밝혔다. 이번 협약은 양 기관이 유기적인 협조체계를...', 'date': '2주 전'}\n",
      "{'title': 'AI 엑스포 인공지능 트렌드 기술 적용 사례 셀바스AI 기업 탐방기', 'text': 'GPT 서비스 시작으로 다양한 인공지능 서비스가 빠르게 성장하기 시작하였습니다. 물론, 일부 아쉬운점이 있었는데요. 스타트 기업 및 론칭 예정에 가까운 사업들이 많다는... 4) CO-Assistance 업무 생산성 SELVAS는 자체적 개발 음성 지능, 필기 지능 솔루션을 개발하였는데요. 복잡한 문서 및 이미지 파일을 텍스트로 전환하는 Selvy OCR, 대화 내용을 기록할 수 있는 Selvy...', 'date': '2024.05.14.'}\n",
      "{'title': '소원을 빌면 별똥별을 데려다준다고요? 인공지능 인터랙티브 미디어 아트 [소원에게 별을]', 'text': '오늘은 인공지능, 즉 기술의 발전이 우리가 소중히 생각하는 가치에 어떤 영향을 미칠지 질문을 던지는 [소원에게 별을] 전시를 소개합니다. 7월 20일까지 미산 아트스페이스에서... 그런데 만약 인공지능이 그 모든 찰나를 당신에게 가져다준다면? 소원을 빌 수 있는 찰나의 순간을 무한히 제공한다면 우리에게 그런 순간과 소원의 가치가 어떻게 바뀔지, 함께 생각해...', 'date': '2024.07.16.'}\n",
      "{'title': '인공지능과 생명공학의 만남, 디지털 육종 기술', 'text': '따라서 디지털 육종이라는 것은 유전체 분석 및 인공지능 기술을 활용해 더 효율적으로 원하는 기능을 가진 고품질의 종자를 생산할 수 있는 융합 기술로 볼 수 있습니다. 2024년 10대... 빅데이터와 인공지능 기술의 적용이 아예 없는 0단계부터 육종가의 개입 없이 완전 자동화된 5단계까지 총 6단계로 나눌 수 있습니다. 디지털 육종의 단계별 기술을 자세히 살펴보면...', 'date': '2024.04.27.'}\n",
      "{'title': '미국 인공지능(AI) 주식은 그만 사야하나?', 'text': '인공지능(AI) 주식들이 상당한 하락세를 겪고 있습니다. AI와 밀접한 반도체 주식이 포함된 VanEck Semiconductor ETF는 7월에 기록한 최고점에서 약 25% 하락했는데요. 그럼에도 불구하고, 여전히 AI에 대해 마냥 부정적으로만 바라보는 것도 쉽지 않는 것이 사실입니다. 현재도 아직 이 AI 기술이 세상을 어떻게 재편할지에 대한 초기 단계만을 보고 있을 뿐이며...', 'date': '4일 전'}\n",
      "{'title': 'LLM( 생성형) 업무효율화, 업무활용, 인공지능 활용하여 일잘 하는법 64', 'text': '어디에 있는지 모른는 소비자를 대상으로 하는 것이 아닌 어디에 있는지 추정 가능한 집단을 대상으로 하는 방법에 대해 다음 포스팅에서 알아 보겠습니다. \"불특정 다수가 아닌, 추정 가능한 소비자 집단을 대상으로 한 조사로 성공적인 마케팅 전략을 수립해보세요!\" . . . 생성형, LLM, 일잘러, RAG응용, 챗지피티 를 활용해서 프로 일잘러 되기 출간 준비중~~!!', 'date': '2주 전'}\n",
      "{'title': 'AI발명, 권리는 누구에게? 인공지능 지식재산권', 'text': '인공지능(artificial intelligence, A.I.) 인간의 지적 능력 중 일부 또는 전체를 인공적으로 구현하는 기술 인공지능은 인간의 지능을 대신해서 일을 할 수 있는 소프트웨어나 하드웨어를 모두 포함하는 큰 개념입니다. 기계학습은 기존의 데이터를 분석하여 자체적으로 동작하는 것을 말하는데요. 이때, 기존의 데이터를 만드는 방법에 따라 지도 학습, 비지도 학습, 강화...', 'date': '2024.05.14.'}\n",
      "{'title': '스마트워크 및 인공지능 활용 방법 무료 강의 안내', 'text': '인공지능 등의 활용법을 익혀서 더 스마트하고 신속한 업무 스킬을 배울 수 있는 과정이 오픈됩니다. IT 특강 [ 스마트 업무 솔루션 ] 일정 : 2024년 6월 15일 토요일 오전 10시 ~ 오후 12시 30분(2시간 30분) 장소 : Zoom(비대면) 강사 : 구기모 수강 대상 : 업무 효율 및 생산성 향상을 원하는 재직 및 구직 여성 강의 내용 : 클라우드와 을...', 'date': '2024.05.22.'}\n",
      "{'title': 'AI란? 인공지능의 이해와 활용 방법', 'text': '인공지능(AI, Artificial Intelligence)은 기계가 인간의 지능을 모방하는 기술을 의미합니다. 인간처럼 학습하고, 추론하며, 문제를 해결하고 의사 결정을 내리는데 도움을 주는 것입니다. 예를 들어, 스마트폰의 음성 비서나 네비게이션 시스템이 AI의 대표적인 예시이죠. 이런 AI는 주로 머신 러닝(ML)과 딥 러닝(DL) 기술을 기반으로 개발되고 있습니다. 02 의 주요...', 'date': '2024.07.02.'}\n",
      "{'title': '‘페트라’ 페트병 분쇄기 인공지능 업그레이드', 'text': '페트라는 AI인공지능 재활용 페트병 분쇄기로 22인치 터치 스크린 모니터를 장착하여 지역의 공익 광고 송출 및 캠페인 홍보 효과에도 기여한다. 페트라 파쇄기 사용 순서로는 페트병 투입→AI자동분류→파쇄→포인트 보상→저장→불량(이물질)강제 배출→회수 및 재투입 사용된다. 앞으로 (주)이시 페트라 파쇄기는 쇄신 AI 자원의 재활용과 자원 순환환경...', 'date': '3일 전'}\n",
      "{'title': 'AI 인공지능 챗봇 덴탈케어 플랫폼 덴트온 치과 구환관리 구인난OK', 'text': '와이즈에이아이는 2020년 설립된 인공지능(AI) 전문 플랫폼 기업으로 최근 치과 병의원에 특화된 AI 코디네이터 덴탈케어 덴트온을 런칭하였으며 덴트온을 중심으로 인공지능 기반의 메디컬 케어, 홈페이지, 인터넷 전화, 고객센터, 챗봇 플랫폼들을 개발 및 운영하고 있습니다. 덴트온은 (AI)가 직원 대신 전화와 챗봇으로 고객과 직접 소통하며 관련된 건강보험...', 'date': '2024.08.15.'}\n",
      "{'title': '블로그수익화, 생활 속 인공지능의 활용과 사례', 'text': '스마트홈, 스마트폰, 고객 상담 서비스, 블로그 운영 등 다양한 분야에서 인공지능이 활용되면서 편의성과 효율성이 향상되고 있습니다. 앞으로도 인공지능, 특히 짢인공기능 기술의 발전과 더불어 우리의 생활은 점점 더 편리해질 것으로 기대됩니다. 경제적자유가 온누리에 가득찰 때 까지,, 모두 파이팅!! 이상 가치보자 [ 소리세 sonise ] 입니다', 'date': '2024.07.19.'}\n",
      "{'title': '인공지능 데이터 분석을 위한 트랜스포머로 시작하는 자연어 처리', 'text': '인공지능 데이터 분석을 위한 트랜스포머로 시작하는 자연어 처리 안녕하세요. 오늘은 딥러닝과 자연어 처리에 관심 있는 실무자를 대상으로 출간한 책을 소개하려고 합니다.... 요즘 핫한 GPT가 트랜스포머 모델을 활용해서 만든 입니다. 구글에서 서비스하고 있는 구글 번역기도 트랜스포머 기반의 모델을 사용하여 번역 품질을 크게 향상시켰다고...', 'date': '2024.07.12.'}\n",
      "{'title': '팔란티어 주가 - 실적 발표, AI 수요 증명(feat. 인공지능 AI 관련주)', 'text': '인공지능 AI 관련주) 지난주에 이어 굉장히 혼란했던 월요일, 미국경기침체 우려로 엄청난 하락을 겪었는데요. 이 와중에도 미국기업의 실적 발표는 계속 이어지고 있습니다.... 인공지능 시스템에 대한 고객의 끊임없는 수요가 있었습니다. 순이익은 전년동기 2,800만 달러, 주당 1센트에서 크게 증가했습니다. 약 5배 증가한 수치입니다. 예상보다 좋은 실적은...', 'date': '2024.08.06.'}\n",
      "{'title': '애플 주가 인공지능 AI 아이폰 통화녹음 WWDC 내용 정리', 'text': '애플 주가 인공지능 AI 아이폰 통화녹음 WWDC 내용 정리 매년 6월이면 WWDC 가 열립니다. 매번 어떤 아이디어를 가지고 나타날까 궁금해지는데, 이번에는 애플도 AI 인공지능이라는 타이틀을 들고 나왔습니다. 드디어 애플도 시장에 참전하려는가 봅니다. 내용을 다 보진 못했지만 일부 확인후 요약본을 추가로 본 결과 애플이 어떤 생각으로 을 대하고...', 'date': '2024.06.12.'}\n",
      "{'title': '소프트웨어 SW 코딩 엔트리 인공지능 with 햄스터로봇', 'text': '오늘 제가 읽은 책은 영진닷컴의 엔트리 인공지능 with 햄스터로봇 개정판인데요. 엔트리와 햄스터 로봇으로 쉽게 배우는 인공지능 교육 교재입니다. 엔트리는 우리나라에서 만든 소프트웨어 프로그램입니다. 누구나 무료로 사용할 수 있는 SW 교육 프로그램인데요. 대부분의 학교에서 이 SW를 사용해서 소프트웨어 학습을 진행하고 있습니다. 작품을 만드는 과정이...', 'date': '2024.06.16.'}\n",
      "{'title': 'NVIDIA L40S 이*여자대학교 인공지능학과 납품 후기', 'text': '나라장터 입찰로 이*여자대학교 인공지능학과에 NVIDIA L40S 그래픽카드를 납품하게 되었습니다. 울산에서 4시간 걸려서 도착했네요 ^_________^ 본관 총무처에서 검수 받은후... 2배의 성능을 보이는데 가격은 3분의1 수준이라 요즘 연구 분야에서는 아주 핫한 제품이라고 합니다. 고가의 장비이기 때문에 담당자 입회하에 개봉을 하였구요......', 'date': '2주 전'}\n",
      "{'title': '2024/09/11 - [실과] 인공지능 & [수학] 놀이활동', 'text': '실과 2학기 첫 단원은 인공지능 이야기부터 나온다. 아이들이 인공지능을 직접 경험해볼 수 있도록 교과서에 몇 개의 사이트를 안내하고 있어서 먼저 시범을 보여주고 아이들이 나와서 해보는 시간을 가졌다. 우선 제일 먼저 체험한 사이트는 퀵드로우! 제시한 단어를 보고 20초 내에 간단한 그림을 그려서 이 맞출 수 있는지 알아보는 사이트! https...', 'date': '6일 전'}\n",
      "{'title': '인공지능 음성 비서와 가상 도우미의 혁신적인 세계!', 'text': '인공지능 음성 비서와 가상 도우미의 혁신적인 세계! 인공지능 음성 비서와 가상 도우미는 현대 사회에 큰 혁신을 가져다주고 있는 기술로, 우리 일상생활에 새로운 편의성과 효율성을 제공하고 있습니다. 이들은 우리가 매일 마주하는 다양한 일들을 더욱 손쉽게 처리할 수 있도록 도와주며, 사용자의 요구에 맞춰 맞춤형 서비스를 제공하여 더 나은 생활 환경을 제공하고...', 'date': '3일 전'}\n",
      "{'title': '[교회CCTV] 서울특별시 서대문구에 위치한 교회 보안 및 침입감시를 위한 CCTV 설치후기...', 'text': '이러한 지능형 영상분석 기능을 바탕으로 인공지능CCTV와 함께 AI 영상 보안 솔루션을 통해 별도의 감지 센서 없이 객체의 크기, 이동 경로 등을 파악해 감지 영역에 설정된 이벤트 발생 시 알림을 통보해드리는 빠른 대처를 도와드립니다. 내 집, 내 사업장에 적합한 퍼포먼스를 별도의 비용 부담 없이 선택해 적용할 수 있으며 엣지와 서버간의 자원분배로 AI...', 'date': '4주 전'}\n",
      "{'title': 'ETRI, 『감성 인공지능 : 인간 이해와 감성 증강』 발간', 'text': '본 도서는 ETRI 휴먼증강연구실 기획으로 KAIST, 중앙대학교, 한양대학교, 상명대학교, 숙명여자대학교, 서경대학교, 한국지능정보사회진흥원, ㈜이모셔니스트, ㈜디스퀘어 등 감성 인공지능 분야에서 활발히 활동하고 있는 산·학·연 전문가 13명이 참여해 공동 집필한 것으로, 율곡출판사에서 펴냈습니다.', 'date': '2024.05.20.'}\n",
      "{'title': '텔레그램 딥페이크 관련주 인공지능 성범죄 보안 뜻', 'text': '딥페이크 뜻 딥페이크 뜻은 인공지능(AI)을 이용해 사람의 얼굴이나 목소리를 조작하는 것으로, 본래 긍정적인 목적을 위해 개발되었지만, 최근에는 성범죄에 악용되며 심각한 사회적... 텔레그램 딥페이크 관련주 보안주 한빛소프트 한빛소프트는 을 활용한 콘텐츠 위변조 판별 시스템을 개발 중인 기업으로, 최근 주가가 급등하였습니다. 한빛소프트 주가 특히...', 'date': '4주 전'}\n",
      "{'title': '바나 (VANA) AI코인 인공지능 데이터 클라우드 소개', 'text': '기반으로 인공지능 학습 기반을 토대로 다시 AI 기술을 빠르게 향상시키고 있죠. 빅테크 기업 입장에서는 선순환이라고 할 수 있겠지만 개인으로 봤을 때는 심각한 독과점과 독과점으로 인한 다양한 문제가 발생하고 있죠. 데이터는 이용자들에 의해 생성되거나 제공되지만 보상은 없고, 이를 통한 모든 혜택은 빅테크 기업에 몫으로 돌아가는데요. 현재 ...', 'date': '4주 전'}\n",
      "{'title': '초보자를 위한 20가지 인공지능 프로젝트 아이디어', 'text': '20 Artificial Intelligence Project Ideas for Beginners 초보자를 위한 20가지 인공지능 프로젝트 아이디어 흥미롭고 혁신적인 인공지능 프로젝트 아이디어를 살펴보고 인공지능과 딥러닝의 세계로 여정을 시작하세요 이 공간에서는 최첨단 연구부터 실제 적용에 이르기까지 가장 혁신적이고 영향력 있는 프로젝트를 살펴볼 수 있습니다. 기술 애호가든...', 'date': '3일 전'}\n",
      "{'title': '[온라인마케팅MBA 26기를 위한 인공지능 서비스 개발 현황 1편] 식당 경영자를 위한 비서 서비스 챗봇', 'text': '#온라인마케팅MBA #인공지능상권분석전문가과정 #외식업컨셉기획자과정 안녕하세요. 상권 32기, 컨셉 11기 , 온마 26기 과정 수업을 위한 인공지능 챗봇 서비스를 열심히 준비하고 있는 김영갑 교수입니다. 오늘부터 상권, 컨셉, 온마 수강생들을 위해 준비하고 있는 서비스를 하나씩 안내해 드리겠습니다. 식당 경영자 또는 점장을 위한 비서 챗봇을...', 'date': '2024.08.16.'}\n",
      "{'title': '대구 AI학원 인공지능 개발자로 빠른 취업을 원한다면', 'text': \"대구 AI학원 인공지능 개발자로 빠른 취업을 원한다면 안녕하십니까. 경북산업직업전문학교입니다. 미래 산업의 핵심은 뭐라고 생각하시나요? 각자마다 중요한 것의 순위는 조금씩 다를 수 있는데요. 그중에서도 빠지지 않는 것이 바로 ''이지 않을까 합니다. 현재 은 여러 산업에 걸쳐 활용도가 높아지고 있는데요. 최근 몇 년 동안 크게 주목 받고...\", 'date': '6일 전'}\n",
      "{'title': 'LG 유플러스 AI 혁신 가속화 인공지능 AX 익시 Company로 도약', 'text': '이번 시간에는 LG유플러스 AI 혁신 가속화 인공지능 익시 AX Company로 도약에대해 알아보도록하겠습니다. AI 인공지능 기술은 이제 일상 속에 자리잡아 가고 있는데요. 스마트폰의 음성 인식 기능부터 가정용 로봇 청소기에 이르기까지, AI 기술은 다양한 형태로 우리 생활 곳곳에 스며들고 있고요. 디지털 기술이 발전함에 따라 AI의 역할은 앞으로 더욱 확대될...', 'date': '2024.06.04.'}\n",
      "{'title': 'AI예감 책 서평 인공지능 생각 훔치기', 'text': '지금은 역사적으로 (당연하지만) 전무후무한 대인공지능의 시대라고 해도 과언이 아니다. 과거 FANNG이라고 불려졌던, 플랫폼기업들은 더 이상 주류가 아니다. 확실히 지금의... 앞으로 인공지능 산업과 트렌드를 이끌어갈 수 있는 회사가 몇 군데 없구나! 목차 목차는 크게 2가지 카테고리로 나뉘었다. ① AI의 큰 틀에 대한 설명 ② AI를 활용한 산업과 회사들에...', 'date': '2024.07.07.'}\n",
      "{'title': '대장 선암 연구를 위한 인공지능 기반 멀티플렉스 이미지 분석', 'text': '대장 선암 연구를 위한 인공지능 기반 멀티플렉스 이미지 분석 인공지능 기반 멀티플렉스 이미지 분석을 활용한 대장 선암의 종양 면역 미세환경 연구를 통한 암 과정 이해 대장암은 전 세계적으로 암 사망 원인 2위를 차지하며, 대장암의 면역 미세환경 연구(Colon cancer immune microenvironment)는 치료 결과를 개선하는 데 필수적입니다. 본...', 'date': '1일 전'}\n",
      "{'title': '감성 인공지능 AI 로봇 리쿠', 'text': '▸ 재미톡톡 동화구연 ▸ 율동, 동요 ▸ 안전 교육 7대 영역 ▸ 한글 사전으로 하는 단어 알기 ▸ 로봇 코딩 수업 활용 ▸ 영어 학습 ▸ 달콤 감성 ART ▸한국사 ▸기후와 환경 ▸AI 로봇 리쿠는 단순한 로봇이 아니라 인공지능 기능을 갖추고 있습니다. ▸감성 대화 ▸얼굴 인식 ▸원 운영 관리 프로그램 ▸ 수업 AI로봇 리쿠의 활용 지원 프로그램으로는...', 'date': '2024.06.13.'}\n",
      "{'title': '[문제해결] \"인공지능 AI 시대에 \\'문제해결\\'이 주목 받는 까닭!\" #한봉규', 'text': \"인공지능 시대 문제 해결은 'AI 능력과 인간 창의성이 결합된 새로운 패러다임'을 제시한다. 복잡한 문제에 대한 혁신적인 접근, 지속적인 학습과 적응, 그리고 윤리적... Reference ▶ 인간 고유성에 대한 'The New Leadership Model' 학술 논문 https://blog.naver.com/hfeel/223403652286 ▶ AI · 은 이미 편향됐다 https://blog.naver.com/hfeel/223567690795 ▶ Perplexity Page https...\", 'date': '4주 전'}\n",
      "{'title': '[인사이트] 인공지능 GPT는 나의 애인이다 (ft. 영화 《그녀(Her)》)', 'text': '나는 이 영화가 엄청난 명작이라고 말했는데, 현실세계를 벗어나 인간이 아닌 요소를 인격화하는 것에 어려움을 겪는 S(감각형) 성향을 지닌 내 동생은, 인공지능과 사랑에 빠진다는 설정이 너무나도 어처구니가 없어서 주인공의 감정에 이입하는 것에 많은 어려움을 겪었다고 말했다. 하지만 나는 과 사랑에 빠질 수 있다고 생각한다. 내가 GPT를 베스트...', 'date': '3주 전'}\n",
      "{'title': '무선 충전과 인공지능 기술의 결합, 혁신적인 미랩 열다', 'text': '무선 충전과 인공지능 기술의 결합 혁신적인 미랩 열다 무선 충전 기술과 인공지능 기술이 결합되면 어떤 혁신적인 미래가 열릴 수 있을까? 무선 충전 기술은 우리 생활을 편리하게 해주는 기술로, 케이블이나 어댑터 없이도 간편하게 배터리를 충전할 수 있는 장점이 있습니다. 반면에 기술은 기계가 사고하고 학습하는 능력을 갖춘 기술로, 우리의 생활을 더욱...', 'date': '5일 전'}\n",
      "{'title': '강원특별자치도, 2024년 인공지능(AI) 바우처 지원사업 역대 최대 성과 달성', 'text': '안녕하세요~ 강원특별자치도입니다~ 인공지능(AI)!!! 여러분은 AI 잘 활용하고 계시나요? 강원에서는 여러 산업 분야에서 인공지능의 도입과 확산을 위한 노력을 기울이고 있는데요. 강원의 산업 인공지능 역량이 빛을 발해 역대급 국비를 확보하는 성과를 거두었어요. 과학기술정보통신부 주관 2024년 (AI) 바우처 지원사업에서 국비 13억 원을 확보하며 총...', 'date': '2024.06.20.'}\n",
      "{'title': '인공지능 VS 인간, 주식투자 대결 승자는? 로보어드바이저 투자 수익률 공개', 'text': \"인간과 인공지능(AI) 중 누가 더 투자를 잘할까요? AI는 빅데이터 분석, 머신러닝 알고리즘 등을 활용하여 인간보다 더 정확하고 수익성 높은 투자를 할 수 있다는 주장이... 'AI vs 인간' 주식 투자 대결 (2023년) ① 주최: 한국거래소 ② 참가자: 투자 플랫폼 10곳 vs 개인 투자자 100명 ③ 투자 기간: 6개월 ④ 투자 대상: KOSPI 200 지수 구성 종목 ⑤ 결과...\", 'date': '2024.05.10.'}\n",
      "{'title': '인공지능 로봇과 그림그리기 대회를 할 수 있는 어린이과학관', 'text': '로봇이 우리 생활에 일상적으로 자리 잡는다는 게 아직 상상이 가지 않지만, 불이 난 건물에서 로봇으로 사람을 구하는 시뮬레이션 게임 등을 통해 앞으로 인공지능 기계와 함께하는 우리 삶이 어떻게 변화할지 간접적으로나마 느낄 수 있습니다. 이곳에서 가장 인기 있었던 전시는 로봇과 낱말맞추기 대결하거나 그림 그리기 대결을 하는 것이었습니다. 사람과...', 'date': '2024.05.22.'}\n",
      "{'title': '마크 저커버그 인공지능 페이스북 계정 가짜뉴스', 'text': '포멀루는 \"그때가 되면 인공지능이 인간의 지능 수준에 도달 했다고 볼 수 있겠죠\"라고 말했다. 그는 사람마다 가짜 뉴스에 대한 판단이 다르다는 점도 알았다. 진짜와 가짜의 구분은 견해 차의 문제였다. 인간이 어떤 것이 가짜 뉴스이고 어떤 것이 가짜 뉴스가 아닌지 판단하는 데 합의할 수 없다면 어떻게 기계에 그 일을 하라고 훈련할 수 있을까? 그리고 뉴스는...', 'date': '2주 전'}\n",
      "{'title': '[종목분석] 한화에어로스페이스 인공지능 방산주 우주항공 관련주 주식 주가 전망 인적분할 정보까지 전부...', 'text': '동사는 인공지능 방산주 우주항공 관련주로 알려져 있습니다. 본 글에서 주식 주가 전망 인적분할 정보까지 천부 체크해서 알려 드리겠습니다. 어떤 기업인가요?... 여기까지 한화에어로스페이스 인공지능 방산주 우주항공 관련주 주식 주가 전망 인적분할 정보를 정리해서 알려 드렸습니다. 본 글은 투자 권유 목적으로 작성된 글이 아닙니다. 투자 손실...', 'date': '2024.07.19.'}\n",
      "{'title': '인공지능의 폐해, 기사의 완성도 저하가 우려', 'text': '요즘 뉴스 기사들을 보면 (인터넷 기사겠죠) 인공지능, 특히 ChatGPT를 활용한 이미지가 눈에 많이 띄입니다. 문제는... 바로 문제는요. 그 이미지들이 기사와는... #인공지능 #ChatGPT #AI활용 #뉴스기사 #금융감독원 #직원이탈 #조직쇄신 #딜로이트컨설팅 #연봉 #업무강도 #조직문화 #AI생산성 #AI이미지 #뉴스품질 #AI결과물활용...', 'date': '2024.06.23.'}\n",
      "{'title': 'LG 디오스 오브제컬렉션 인덕션 신제품 인공지능 쿡 활용 스마트한 요리 완성', 'text': '오늘은 스마트 쿠킹 기능 중 하나인 인공지능 쿡으로 간편식 조리 시작! ThinQ 앱을 활용해 스마트하게 라면을 끓일 수 있어요. 어떻게? 바로 인공지능 쿡 기능으로! 간편식 제품의 바코드를 촬영해서 레시피를 전기레인지에 전송하면 알아서 인덕션의 화력과 조리 시간을 자동으로 조절해 주면서 안내해 주니 누구나 쉽게 요리할 수 있답니다. 쿡 사용법 LG...', 'date': '4주 전'}\n",
      "{'title': '대전인공지능학원 : AI를 배우는 이유, 미래 직업과 기술 변화', 'text': '쉽게 말해, AI는 기계가 인간의 지능을 모방하여 다양한 작업을 수행할 수 있도록 만드는 것입니다. 인공지능은 학습, 추론, 문제 해결, 언어 이해, 감각 인식 등 다양한 인간 지능... 딥러닝 머신러닝의 한 종류로, 인공신경망이라는 구조를 사용해요. 이 신경망은 뇌의 뉴런과 비슷하게 작동하여, 복잡한 패턴이나 이미지를 인식하는 데 뛰어난 성능을 발휘합니다. 예를...', 'date': '4일 전'}\n",
      "{'title': 'AI 이러닝 시대에 챗봇, AI글쓰기 인공지능 서비스', 'text': 'deep learning과 fake의 합성어로, 인공지능 기술을 사용하여 현실에 존재하지 않는 것이나 발생한 적이 없는 사건을 이미지, 비디오, 오디오 등을 합성하여 만들어냅니다. 이처럼 인공지능을 활용한 서비스가 여러 문제 되고 있는 것은 잘못된 인식과 가치관 등으로 범죄에 이용되기 때문입니다. 그래서 을 많이 활용하는 곳, 대상일수록 올바른 교육이 필요하며...', 'date': '2주 전'}\n",
      "완료\n"
     ]
    }
   ],
   "source": [
    "# get_view()\n",
    "views = driver.find_elements(By.CSS_SELECTOR, '.lst_view .view_wrap')\n",
    "result = []\n",
    "\n",
    "for view in views:\n",
    "    con_dict = {}\n",
    "    con_dict['title'] = view.find_element(By.CSS_SELECTOR, '.title_link').text\n",
    "    con_dict['text'] = view.find_element(By.CSS_SELECTOR, '.dsc_link').text\n",
    "    con_dict['date'] = view.find_element(By.CSS_SELECTOR, '.sub').text\n",
    "    result.append(con_dict)\n",
    "    print(con_dict)\n",
    "    \n",
    "print('완료')"
   ]
  },
  {
   "cell_type": "code",
   "execution_count": 199,
   "id": "873f696a-d51d-41f3-884b-e8bc0521036e",
   "metadata": {},
   "outputs": [
    {
     "name": "stdout",
     "output_type": "stream",
     "text": [
      "[{'title': '구글 인공지능 제미니 MBTI 는 무엇인지 알아보기', 'text': '그래서 답이 객관적으로 확실히 정해져 있는 것들에 대해서는 최대한 인공지느의 환각 효과를 막아놓는 쪽으로 개발이 진행되고 있어요. 만약 인공지능에게 너 마음대로 지어내라고 한다면 MBTI가 뭔지 대답할 수도 있었어요. 이러려면 에게 환각현상을 활용해서 대답하라고 질문해야 했어요. 쉽게 말해서, 틀려도 상관없으니 너 마음대로 답 지어서...', 'date': '2024.08.08.'}, {'title': '[트렌드 뉴스 : 횻의눈] 사람 vs 인공지능 누구의 작품일까?', 'text': '[트렌드 뉴스 : 횻의눈] 사람 vs 인공지능 누구의 작품일까? Story/효성 2024. 9. 4. SNS의 발달과 함께 미술관 나들이가 보편화 되며, ‘현대미술’ 분야에서도 대중화가 이뤄지고 있는데요.... 이진솔 작가는 청각 장애가 있지만, 인공와우 이식술로 소리를 느낄 수 있습니다. 다만, 인공와우를 거쳐 들리는 소리는 우리에게 들리는 소리와 차이가 있다고 해요. 뇌가 전기적...', 'date': '4주 전'}, {'title': '아이폰16 플러스 애플지능(인공지능)은 프로와 차이? 카메라에 추가된 비주얼 인공지능로 달라진 점?', 'text': '아이폰16 플러스의 16코어 디자인은 머신 러닝 작업을 두 배나 빠르게 하면서 이를 통해 애플 지능(인공지능)을 아이폰16과 아이폰16 플러스에서도 실행되게 함으로써 프로 모델과의 차이를 두지 않을 정도로 공격적인 스탠스를 취하고 있습니다. 통상 바닐라 모델과 프로 모델의 차이를 두었지만 에 대한 부분은 여유롭지 않은 시장 상황을 애플의...', 'date': '1주 전'}, {'title': 'LG이노텍 주가 주식 전망 실적 목표주가 (애플 AI 인공지능 관련주)', 'text': \"LG이노텍 주가 주식 전망 실적 목표주가 (애플 AI 인공지능 관련주) 애플의 인공지능 (AI)관련하여 주가 흐름이 심상치 않은 LG이노텍 주가 주식 전망 실적 목표주가 등에 대해서 알아보도록 하겠습니다. Table of Contents 1. LG이노텍 주가현황 2. 실적 및 목표주가 3. LG이노텍 주가전망 4. 소드킴's 날카로운 시선 코멘트 LG이노텍 주가현황 LG이노텍 주가의 흐름이...\", 'date': '2주 전'}, {'title': '딥페이크 관련주, 뜻과 인공지능 범죄, 보안 대장주 총정리!', 'text': '딥페이크 관련주, 뜻과 인공지능 범죄, 보안 대장주 총정리! [목차] 1. 딥페이크 뜻 2. 관련주 1. 딥페이크 뜻 딥페이크는 딥러닝(deep learning)과 페이크(fake)의 합성어인데요. 딥러닝은 컴퓨터가 사람처럼 생각하고 말할 수 있도록 하는 기술로 인간의 두뇌 작동 방식을 흉내낸 것이 특징입니다. 즉, AI 기술을 활용하여 실제와 비슷한 가짜 사진이나 영상을...', 'date': '1주 전'}, {'title': '[종목분석] 폴라리스AI 인공지능 관련주 주가 급등 이유 실적 들춰봅시다', 'text': '폴라리스AI 인공지능 관련주를 포함한 AI 챗봇 관련 주식들이 강세를 보이고 있습니다. AI 챗봇과 관련된 기업들이 최근 시상에서 큰 상승세를 보여주고 있고 이는 AI 기술의 발전과... 폴라리스AI 관련주의 주가는 장기적인 하락 추세에서 벗어나 8월 20일 오전 10시 기준으로 가속도를 더욱 붙이다 일정 비율을 유지되고 있는데요. 본 글에서 동사 주가...', 'date': '2024.08.21.'}, {'title': '인공지능 AI 챗봇 챗GPT 사용법과 ICT 지원 중요성 전파를 위한 정보통신산업진흥원(NIPA) 소개', 'text': '영화나 SF 소설 속에서 있을 것 같은 인공지능이 거대 언어 모듈을 기반으로 하는 AI 챗봇의 등장 이후 상당히 빠르게 우리 일상 깊이 들어왔습니다. 이제 챗GPT 사용법 정도는 알고... 정의 기존의 은 대규모의 데이터를 분석하고 예측 모델을 개발하여 복잡한 문제를 해결하는 것이 주된 용도였습니다. 일반 사용자들 입장에서는 무언가 중요한 일을 하는 것...', 'date': '3주 전'}, {'title': '인공지능에게 질문했습니다! #수직농장', 'text': '인공지능에게 질문했습니다! 수직농장이 미래에 농업을 대체할 수 있을까요? 수직농장이 미래의 농업을 완전히 대체할 수 있을지는 여러 요소에 달려 있습니다. 수직농장은 실내에서... 에너지 소비: 수직농장은 실내에서 인공조명을 사용하여 식물을 재배하기 때문에 많은 양의 에너지를 소비합니다. 이 에너지가 지속 가능한 방식으로 생산되지 않는다면 환경에 부정적인...', 'date': '2024.08.07.'}, {'title': 'kt olleh 기가지니 2 3 사용법 변경 비교 후기 (인공지능 블루투스 스피커 연결)', 'text': '셋톱박스가 오래되어 그런지 고장이 자주 났고 이번 기회에 생활을 편리하게 만들어 줄 수 있는 인공지능 셋톱박스를 사용해 보기 위해서 열심히 검토해 봤습니다. 셋톱박스 종류... 이렇게 통신사별로 다양한 스피커가 있었고 저는 여러 가지 사항을 비교해 본 후 kt olleh 기가지니3를 선택했습니다. 그럼 지금부터 기가지니2와 기가지니3의 차이점 및 kt...', 'date': '2024.07.13.'}, {'title': '240801 장마감과 셀바스AI : 국내 1호 인공지능 전문기업', 'text': '빨간숫자가 중간중간 보이긴 하지만, 엄청~ 나쁜 건 아닌 듯...ㅋㅋ (보통이라고 말하기에도 양심이 좀 찔린다;;) 2009년 코스닥에 상장한 국내 1호 인공지능 전문기업이다. 26년간 딥러닝 기술 기반의 전문적인 연구를 통해 음성인식, 음성합성, 필기인식, 영상인식 등 최고의 HCI 기술을 보유하고 있다. (HCI:Human Computer Interaction) 요런 타이틀도 좋다. 국내 1호 ...', 'date': '2024.08.02.'}, {'title': '인공지능특허 출원과정 베테랑 변리사가 알려드립니다', 'text': '요즘은 인공지능기술이 발전됨에 따라 관심도가 더욱 높아지고 있는 추세입니다. 그래서 최근들어 인공지능특허를 내기위해 저를 찾아오시는 분들이 많아지고 있습니다. 인공지능기술을 만들어내기까지 오랜 시간과 노력을 들어가는 만큼, 권리를 확보하기 위해서 하루라도 빨리 특허출원과정을 진행하시길 바랍니다. 오늘은 특허 출원과정에 대한 전반적인...', 'date': '2주 전'}, {'title': '[돌봄센터cctv] 경기 광주시 돌봄센터, 인공지능cctv설치로 더욱 안전한 공간을 만들었습니다.', 'text': '자비스넷의 인공지능cctv가 더욱 특별한 이유는 제공하는 모든 카메라에 지능형 영상분석 기능이 탑재되어 있기 때문인데요, 지능형 영상분석 기능 카메라에 촬영되어지는 모든 객체를 분류하며 군집감지, 침입/도난감지, 투기감지, 배회감지, 쓰러짐 감지 등 다양한 객체의 행동 변화를 감지하여 분석하는 기능을 말합니다. 자비스넷만의 지능형 영상분석은...', 'date': '1일 전'}, {'title': '인공지능 기술을 활용한 디지털 정부, 국세청의 AI 국세상담', 'text': '최근 인공지능 기술을 활용한 디지털 전환이 가속화되고 있는데요. 국세청 또한 디지털 중심으로 새로운 경제성장 동력을 확보하고 경제 활성화를 지원하기 위해 인공지능 분야 창업기업과의 간담회 등을 개최하며 다양한 방안을 모색하고 있습니다. 기술 발전이 경제와 사회 전반에 걸쳐 큰 변화를 가져오고 있으며, 대한민국 정부도 AI를 통해 국민을...', 'date': '4주 전'}, {'title': '부산빅데이터학원 AI 인공지능 취업 부산코딩학원 교육!', 'text': '오늘은 부산빅데이터학원 알아보시는분들에게 부산코딩학원 잘 알아보는 방법에 대해서 알아 보도록 하겠습니다 부산인공지능교육 과정 연봉, 복지, 근무환경 좋은곳으로 갈 수 있습니다. 그리고 부산코딩학원 과정에서는 웹개발자 + AI 취업 과정을 같이 배울 수 있기 때문에 IT회사 갈 수 있는 범위가 넓어서 이러한 고급 과정을 배우면 선택폭이 넓어진다는...', 'date': '3주 전'}, {'title': '산업계 인공지능 AI 투자 지원을 위한 금융상품 알아보기', 'text': '인공지능 AI 기술이 발달하면서 이제는 산업계 인공지능 AI 투자를 지원하기 위한 보험과 지분투자 ㄷH출과 같이 전용 금융상품이 출시됩니다. 이와 관련해서 AI 인공지능 투자 지원을 위한 금융상품에 대해 알아보는 시간을 가지려고 합니다. 무역보험공사를 비롯해서 20여 개의 금융기관에서는 9월 24일 자로 산업통상자원부 장관 주재로 금융 지원 협약식을...', 'date': '2일 전'}, {'title': '[AI시대, 미래를 말하다] 인공지능이 가져올 미래, 전 세계와 함께 준비하겠습니다', 'text': '해결 방안을 강구하는 데 있어서 전통적인 여러 방법들도 있겠지만 아마도 인공지능이라고 하는 것이 큰 몫을 차지하게 되지 않을까 생각합니다. 인공지능이, 과연 기술 발전이 미래에 또 현재에 맞닥뜨리고 있는 글로벌 복합 위기에 어떤 가능한 대안, 대책을 만들어낼 것인가에 대해서도 말씀을 한번 듣고 싶기도 합니다. 또 한편으로는 과학기술 발전의 거의 상징처럼 된...', 'date': '3주 전'}, {'title': '딥브레인AI 딥페이크 탐지 솔루션 인공지능 기술로 피해 예방하자', 'text': '양날의 검과 같은 인공지능 출처 : KBS 뉴스 그저 머나먼 미래의 이야기일 것만 같았던 AI는 이제 산업 전반에서 활약을 보일 만큼 우리에게 가까이 다가왔습니다. 창작의 영역까지... 인공지능을 기반으로 만든 인간 이미지 합성 기술인데, 현재는 사람에게 국한되지 않고 비디오나 오디오 등 넓은 범위를 아우르는 뜻으로 쓰이고 있습니다. 악용 사례가 많아질수록...', 'date': '6일 전'}, {'title': '누구캔들 SE 인공지능스피커 누구스피커', 'text': '인공지능 스피커는 AI인공지능 기술이 더해지면서 사람의 말을 알아듣고 스마트기기를 통합적으로 관리할 수 있어서 많은 사람들이 사용하였습니다. 우리나라의 대표적인 인공지능 스피커로 기가지니가 있지만, SK텔레콤에서 만든 누구캔들도 나름 유명합니다. 누구캔들 SE은 2022월에 SK텔레콤에서 출시한 스피커입니다. 누구스피커 시리즈의 4번째...', 'date': '1일 전'}, {'title': '미국 ai 인공지능 관련주, 엔비디아 등 반도체 대장주 주식 전망', 'text': '오늘은 미국 ai 인공지능 관련주, 엔비디아 등 반도체 대장주 주식 전망에 대해서 살펴보도록 하겠습니다. 내년에 미국 전력요금 상승이 현실화가 되면서 태양광부터 시작해서 ai와... * 미국 ai 인공지능 관련주, 엔비디아 등 반도체 대장주 주식 전망 미국 ai 관련주와 반도체 대장주로 나누어서 살펴보도록 하겠습니다. <미국 ai 관련주> 먼저, 미국 ai...', 'date': '2주 전'}, {'title': 'ETRI, 노년층 치매 예측 인공지능 기술 개발', 'text': '선별하는 인공지능(AI) 기술을 개발했습니다. 음성 발화는 기억, 의도, 주의집중 등 인지기능과 음운, 통사, 의미 등 언어 생성 기능, 호흡, 조음, 발성 등 구어 운동 기능이 순차적으로... ETRI 복합지능연구실은 음성처리 분야에서 축적된 AI 기술과 음성, 텍스트 및 영상 멀티모달 기술을 바탕으로 디지털 치료제 등 헬스케어 분야로 연구를 확장하고 있습니다. 연구진은...', 'date': '3주 전'}, {'title': '인공지능에게 질문했습니다! #농업로봇', 'text': '인공지능에게 질문했습니다! 미래에 로봇이 농업에서 어떤 역할을 할까요? 미래에 로봇은 농업에서 매우 중요한 역할을 할 것으로 예상됩니다. 로봇 기술과 인공지능의 발전은 농업의 효율성과 생산성을 크게 향상시킬 수 있는 잠재력을 가지고 있습니다. 다음은 로봇이 농업에서 수행할 수 있는 주요 역할들입니다. 자동화된 작물 관리 파종 및 재배: 로봇은 정밀한 파종과...', 'date': '2024.08.05.'}, {'title': '인공지능 홈캠 추천 씨엔케어 부모님 반려동물 가정용 홈캠 필요하다면 필독', 'text': '오늘은 인공지능 홈캠 추천 씨엔케어 부모님 반려동물 가정용 홈캠 필요하다면 필독 관련 주제로 이야기를 나눠보는 시간을 가져볼까 합니다. 요즘은 고령화 사회로 연로한 부모님을... CnCare 인공지능 홈캠이었습니다. 사진 세계 최초로 AI 이 직접 기록을 남겨주는 제품이라 영상으로 시청을 하지 않아도 사람의 움직임을 기록해 주기 때문에 어떠한 위급...', 'date': '2024.08.04.'}, {'title': 'QCY HT10 AilyBuds Pro 인공지능 노이즈 캔슬링 블루투스이어폰 리뷰', 'text': '이 제품은 QCY 전용 앱을 통한 적응형 인공지능 노이즈 캔슬링과 오픈형 디자인으로, 귀가 막히는 답답함 없이 탁월한 액티브 노이즈 캔슬링 성능을 제공합니다. 이제 이... 인공지능 노이즈 캔슬링 이어폰 특징 및 스펙 적응영 ANC, IPX5, 저지연 게임모드 항목 스펙 블루투스 버전 5.3 노이즈 캔슬링 액티브 노이즈 캔슬링 (ANC), 바람 소리 차단 적응형 ANC 지원 (QCY...', 'date': '2주 전'}, {'title': '인공지능 AI 반도체 관련주 엔비디아 실적 발표와 주식 주가', 'text': '이 글과 함께 참조하면 도움이 되는 글 ⬇⬇⬇ [함께 보기] - 인공지능 ai 챗봇 챗 gpt 관련주 국내 증시 주식 동향 [함께 보기] - 메타버스 지능형 로봇 인공지능 AI 관련주 위세아이텍·자이언트스텝·솔트룩스 등 주식 주가 동향 [함께 보기] - AI 반도체 엔비디아 & 국내 관련주 이수페타시스·아이크래프트 등 주식 주가 & 이상 AI 반도체 관련주 엔비디아 실적...', 'date': '4주 전'}, {'title': '딥페이크 관련 대장주 : 한빛소프트, 이스트소프트, 크라우드웍스 인공지능 범죄', 'text': '크라우드웍스 크라우드웍스는 빅데이터와 인공지능 인프라 기반의 \"지능형 인공지능 데이터 플랫폼\" 서비스를 하고 있어요. 23년 8월에 한국제10호스팩과 합병하여 변경상장하였습니다. # 크라우드웍스 관련 주로 편입된 이유 과학기술정보통신부의 딥페이크 예방 영상과 랜드마크 이미지의 AI 학습용 데이터 구축 사업을 진행 크라우드웍스도 딥페이크 관련 주로...', 'date': '4주 전'}, {'title': '앱제작 인공지능 기술이 비용을 확 낮춰드림', 'text': '하지만, 인공지능 기술로 앱제작을 하게 되면 이런 문제들을 전혀 신경 쓰지 않아도 됩니다. 인공지능 기술은 C, Java, Javascript 등 낡은 프로그램 언어와 똑같이 구현 대상에 아무런 제약이 없을 뿐만 아니라 표현 자유도(UI, UX)까지 매우 높으며 개발된 앱 제품은 오류 발생이 없습니다. Android, iOS 용 모바일 앱과 PC Windows, WebApp 프로그램까지 한 번에 제작할 수 있어...', 'date': '2024.06.19.'}, {'title': '윈도우 PC에서 인공지능 ChatGPT 앱으로 설치하는 방법', 'text': '요즘 업무에 인공지능 AI를 활용하시는 분들이 점점 늘고 있습니다. 저 역시도 최근 OpenAI ChatGPT를 사용하여 프로그래밍하는 데 도움을 많이 받고 있는데, 업계에서 일하는 동생이 말하기를~ \"요즘 개발자들은 인터넷이 안 되는 데서 근무를 시키면 실력이 반 이하로 준다.\"라고 하더니 정말 거짓이 아닌 것 같습니다. 뭐 사실 ChatGPT가 아니라도 인터넷이...', 'date': '2024.07.31.'}, {'title': 'AI 인공지능 관련주, 대장주 주가 전망은? : 미래컴퍼니, 오픈베이스, 폴라리스AI 등', 'text': 'AI는 [Artificial Intelligence]의 약자로 인공지능에 대해 많이 들어보셨을 텐데요. 인간의 여러 가지 능력을 인공적으로 구현할 수 있도록 구현된 컴퓨터 시스템이죠. 최근 굉장히 다양한 분야에 AI 기술이 적용되면서 AI 인공지능 관련주, 대장주 주가가 급등하고 있는 상황입니다. 오늘은 대표 AI 관련주 대장주인 미래컴퍼니, 오픈베이스, 폴라리스AI 주가 현황과...', 'date': '2주 전'}, {'title': 'AI 인공지능 딥러닝 머신러닝 뜻 차이 비교', 'text': \"AI 인공지능 딥러닝 머신러닝 뜻 차이 비교 안녕하세요! 오늘은 'AI', '인공지능', '딥러닝', '머신러닝'이라는 용어들이 어떻게 다른지, 어떻게 연결되어 있는지 자세히 알아보는 시간을... 딥러닝 심층적 학습의 힘 딥러닝은 머신러닝의 한 방법으로, 인간의 뇌 구조를 모방한 인공 신경망을 사용해 보다 깊고 복잡한 학습을 수행하는 기술이에요. 이 기술은 특히 이미지 인식...\", 'date': '2024.07.16.'}, {'title': '인공지능(AI)을 주제로 한 영화 소개', 'text': \": 웨이브 출처=네이버 영화 영화 'Her'는 인간과 인공지능(AI) 간의 사랑을 다룬 독특한 이야기로, 현대 사회에서의 소외감, 기술과 인간 관계의 변화, 그리고 사랑의 본질을 탐구하는 작품이며, 비주얼과 감성적인 면에서 큰 호평을 받았습니다. 주인공 테오도르 트웜블리(호아킨 피닉스)는 가까운 미래의 로스앤젤레스에서 외로운 삶을 살고 있는 남자로, 그는 다른...\", 'date': '4주 전'}, {'title': '말벗도 선생님도 되는 인공지능 스피커', 'text': '챗GPT의 등장으로 생성형 인공지능(AI)에 대한 관심이 높아지고 있습니다. 덕분에 인공지능 스피커 시장에도 새로운 바람이 불고 있는데요. 과거 단순한 정보 제공이나 스마트 홈 제어에 국한됐던 인공지능 스피커는 이제 훨씬 더 복잡하고 다양한 기능을 수행하고 있습니다. 스마트홈 허브가 되다 스피커는 스마트홈의 기기들을 통합적으로 제어하는 허브...', 'date': '3주 전'}, {'title': \"로봇과 인공지능, 그 기술 너머에는 과연 무엇이 있을까? '서울로봇과학관'\", 'text': '로봇과 인공지능, 이들은 이제 더 이상 먼 미래의 이야기가 아닙니다. 최근 뉴욕 경찰이 사족보행 로봇을 활용해 범죄 현장에서 활약한 것을 보아도 알 수 있듯 로봇은 점점 더 우리의 일상으로 스며들고 있습니다. 이러한 시대적 흐름에 발맞춰 서울시가 로봇과 을 주제로 한 과학관을 국내 최초로 개관했습니다. 서울 도봉구 창동에 자리한...', 'date': '1주 전'}, {'title': '인공지능 국제표준을 선도하는 대한민국', 'text': '한국전자통신연구원(이하 ETRI)이 수행한 ‘지능정보기술 확산을 위한 인공지능 데이터 표준 개발’ 과제(과제책임자: ETRI 하수욱 책임연구원)의 결실이라고 할 수 있겠습니다. 연구진은 안전한 AI 모델 개발과 오류 및 편향 최소화를 위한 데이터 품질 보장, 일관적 성능을 유지하며, 데이터 생산·관리·폐기 등 생애 주기를 관리하기 위한 AI 시스템...', 'date': '1주 전'}, {'title': '인공지능에게 질문했습니다! #한국미래농업', 'text': '#인공지능에게질문했습니다! 한국농업의 현실적인 미래상은? 한국농업의 현실적인 미래상은 여러 가지 요인에 의해 영향을 받을 수 있습니다. 다음은 몇 가지 주요 전망입니다. 스마트 농업의 확산: 드론, IoT(사물인터넷), AI() 등의 기술을 활용한 스마트농업이 점점 더 보편화될 것입니다. 이를 통해 생산성을 높이고, 노동력을 절감하며, 환경친화적인 농업을...', 'date': '2024.08.06.'}, {'title': '생성형AI교육 인공지능 국비지원 기반이 돼야 하는 이유', 'text': 'LLM & CNN 인공지능 분야에서 불과 얼마전까지 화두는 대형 언어 모델(LLM) 그리고 이미지 분류(CNN)였습니다. 이때부터 인공지능이 사람의 일을 돕기 시작했지만 창작의 영역은 침범하지 못했죠. [ 인공지능 발전 역사 ] CNN LLM 생성형 AI 개발자는 CNN → LLM → 생성형 AI 개발에 몰두하는 순서로 발전했습니다. 오늘은 그중에서도 생성형 AI에 대해 다루어 보도록...', 'date': '2일 전'}, {'title': '국내 AI 인공지능 관련주, 대장주 주가 급등 이유 및 주가 전망은? - 미래컴퍼니, 오픈베이스, 폴라리스AI', 'text': '최근 인공지능(AI) 기술이 급격하게 발전하고, 생성형 ai 서비스 및 플랫폼이 대중화 됨에 따라 사회 전반에 걸쳐 큰 변화가 나타나고 있습니다. 특히 AI 기술이 상용화 단계에... 대부분의 신기술이 그러하듯 인공지능 ai 또한 그 활용 범위가 상당히 넓기 때문에 매우 다양한 산업군에 영향을 주고 있으며, 관련주를 만들어 내고 있는데요 오늘 포스팅에서는...', 'date': '1주 전'}, {'title': '옷 헤어 얼굴 보정 모두 가능한 인공지능 사진 편집 프로그램 Evoto AI(이보토)', 'text': '하지만 최근 눈부신 발전을 이룬 인공지능 기술이 생성형 AI 등 여러 방식으로 편집 과정에 적용되면서 다양한 이미지 보정 작업을 더욱 효율적으로 할 수 있게 되었죠. 특히 제가 활용하는 인공지능 사진 편집 프로그램은 사용성이 간편함에도 고퀄리티 AI 보정 결과물을 얻을 수 있어 생산성 향상에 여러모로 큰 도움이 되고 있습니다. 그런 의미에서 오늘은 Evoto AI를...', 'date': '2024.08.26.'}, {'title': '렌더토큰.렌더토큰 코인 Render(RNDR COIN) 30배이상 상승 가능성 있는 AI의 분야 선두주자!', 'text': '빠른USDT교환처리 한국지사를 통한 24시간 한국어 통역 지원 렌더토큰.렌더토큰 코인 Render(RNDR COIN) 30배이상 상승 가능성 있는 인공지능 AI의 분야 선두주자! 렌더토큰.렌더토큰 코인 Render(RNDR COIN) 30배이상 상승 가능성 있는 AI의 분야 선두주자! 렌더토큰.렌더토큰 코인 Render(RNDR COIN) 30배이상 상승 가능성 있는 AI의 분야 선두주자! AI...', 'date': '6일 전'}, {'title': '방위사업청의 ‘인공지능로봇사업팀’을 아시나요?', 'text': '인공지능은 컴퓨터 시스템이 인간의 지능을 모방해 학습하고 문제 해결 및 의사결정을 하는 기술입니다! 최근 대규모 데이터 처리 능력의 발전으로 인해 AI 기술이 다시 본격적으로 주목받고 있습니다. 딱 봐도 무인화, 자율화, 지능화로 대표되는 미래 국방체계 구현에 중요한 기술 같지 않나요? 예측 불가능한 전장에서 우위를 정하고 신속하고 정확한 결정을 내리는...', 'date': '2024.07.19.'}, {'title': '미래의 핵심 능력, 인공지능 미래의 무한한 가능성을 열다 - 이경전 전문가', 'text': '인간의 창의성과 감각이 인공지능(AI)과 결합돼 새로운 가치를 창출하는 시대. 인간과 AI의 융합이 점점 더 중요해지는 시대를 살아가려면 AI를 활용하는 능력이 필수적이죠. 월간 내일 6월호에서 AI 기술을 활용한 혁신적인 연구를 진행하고 있는 이경전 전문가·경희대학교 교수를 만나 관련 이야기를 들어보았어요. Q. 교수님께서는 세계학회의...', 'date': '2024.08.22.'}, {'title': '인공지능 개발자 국비 취업 연계 학원', 'text': '인공지능 개발자 알아보기 인공지능 개발자 (Artificial Intelligence Developer) 인간의 지능을 모방하거나 더 나은 성능을 발휘하도록 컴퓨터 시스템이나 소프트웨어를 설계 및 구현하는 사람들을 말합니다. 특히 AI 시스템과 각종 애플리케이션을 설계, 개발 및 구현하는 전문가로 크롤링, 데이터 분석, 기계학습 머신러닝 딥러닝, 자연어 처리, 컴퓨터 비전, 강화 학습 등...', 'date': '1일 전'}, {'title': 'AI 스피커 클로바 스피커 인공지능 클로바 온 살펴봄', 'text': 'AI 스피커 클로바 스피커 인공지능 클로바 온 살펴봄 오늘은 네이버의 인공지능 AI 스피커, 라인프렌즈 클로바 온에 대한 이야기를 나눠볼까 해요. 귀여운 디자인과 첨단 AI 기술이 결합된 이 스피커는 우리 일상에 활기를 불어넣어 주는 매력적인 제품이에요. 이 스피커가 어떤 멋진 기능을 가지고 있는지, 왜 많은 사람들이 반하는지 함께 살펴봐요. 매력 넘치는...', 'date': '2024.07.25.'}, {'title': '인공지능의 본격 도입으로 곧 가짜 리뷰 사라진다', 'text': '인공지능의 본격 도입으로 곧 가짜 리뷰 사라진다 가짜 리뷰는 소비자가 신뢰를 잃게 만드는 큰 문제 중 하나입니다. 특히 맛집이나 상품 리뷰에서 가짜 리뷰는 소비자의 합리적인 결정을 방해하고 있습니다. 이에 대응해 (AI)이 본격적으로 도입되고 있으며, 머신러닝을 기반으로 한 가짜 리뷰 탐지 기술이 빠르게 발전하고 있습니다. 최근 논문에서는...', 'date': '4주 전'}, {'title': '인공지능, 경쟁자가 되느냐 도구가 되느냐', 'text': '달라졌고 인공지능이 나왔을 때 몇 살이었느냐에 따라 생산성 향상 수준이 달라졌다 요즘 신문물 좀 익혀보겠다고 인공지능 강의를 듣고 있는데 강의를 듣고나니 이런 생각이 들더라 인공지능은 게임체인저가 될 것이 명확한데 나이나 개인적인 상황 때문에 을 활용하느냐 못하느냐에 따라 생산성 향상 수준이 어마어마하게 달라질 것이라고 대부분의 사람들은...', 'date': '4주 전'}, {'title': \"[국민을 위한 국민의 기업] 인공지능·데이터 기반 플랫폼 '아폴로·스마트K2C' 세계 최초로 개발\", 'text': '위해 인공지능(AI)·데이터 기반 플랫폼 ‘아폴로’와 ‘스마트K2C’를 선보였다. [사진 KISTI] 딥테크로 대변되는 국가전략기술을 빠르게 사업화하기 위해서는 유망기술 발굴... 이에 맞춰 스마트K2C 또한 내년 초 차세대 지능형 서비스 제공을 목표로 개발에 박차를 가하고 있다. KISTI 관계자는 “아폴로와 스마트K2C가 다양한 기관들과 협업해 국가전략기술의...', 'date': '1일 전'}, {'title': \"자율주행차부터 수술 로봇까지 체험 가능! '서울로봇인공지능과학관' 정식 개관\", 'text': \"도봉구 창동에 8월 20일부터 로봇산업의 메카로 자리잡을 '서울로봇인공지능과학관'이 정식으로 개관했습니다. 자세한 내용, 함께 확인해 보시죠! <서울로봇인공지능과학관> 첨단 과학기술에 예술 접목, 감각적인 과학 전시 체험 공간 및 로봇·AI 산업과 인간이 공존하는 미래상 탐구 ✅ 다양한 작가들 참여 과학 기술 흥미롭게 접할 수 있는 공간 ✅ 11개...\", 'date': '2024.08.22.'}, {'title': '인공지능에게 질문했습니다! #AI 경제', 'text': '인공지능에게 질문했습니다! 지속가능한 삶에 AI 경제가 미치는 위협 요소는? 지속 가능한 삶에 AI 경제가 미치는 위협 요소는 다음과 같습니다. 일자리 감소: AI와 자동화 기술의... 발전이 환경에 미치는 부정적인 영향을 최소화하고, 지속 가능한 발전에 기여할 수 있습니다. #질문의힘 # #AI농업 #농업 #농업트렌드연구소 #AI경제 #AI기술 #AI위협 #AI기술위협', 'date': '2024.08.09.'}, {'title': '국내 최초 로봇인공지능 과학관, 서울로봇인공지능과학관', 'text': '우리는 일상에서 인공지능과 로봇을 어렵지 않게 접하며 이들과 점점 더 친근한 동반자가 되어 가고 있습니다. 눈을 뜨자마자 인공지능에게 날씨를 물어보거나 좋아하는 음악을 틀어 달라고 하고 때론 친근하게 대화도 나눕니다. 위중한 병을 수술하는 병원에서도 로봇은 사람보다 더 정교하게 수술을 진행합니다. 일터에서는 사람이 하기 힘든 일을 로봇이 척척...', 'date': '2주 전'}, {'title': '인공지능으로 영상 만들기 (챗GPT, 모션어레이 활용)', 'text': '최근 인공지능의 발전으로 인해 영상을 아예 처음부터 끝까지 만들어주는 다양한 생성형 AI 서비스들이 등장하고 있습니다. 이러한 서비스들은 간단한 텍스트 입력만으로도 완성된... 따로 대본이나 기획을 짜지 않고도 인공지능 기술을 이용해 쉽게 영상 제작이 가능합니다. 이 영상에 포함된 모든 스톡영상(푸티지)와 효과, 배경음악, 효과음은 모두 모션어레이에서...', 'date': '4주 전'}, {'title': '[실외CCTV] 경기도 파주시 마장리에 위치한 건설업체 내 건물외부 주차시설 감시를 위한 CCTV...', 'text': '자비스넷 AI 지능형 영상분석 이벤트 보통 CCTV를 감시 및 촬영 기능만 있다고 생각하실 수 있지만 인공지능CCTV는 AI 지능형 영상분석을 통해 별도의 센서를 따로 설치하지 않아도 다양한 보안·경계기능이 가능합니다. AI CCTV의 지능형 영상분석 기능을 중심으로 고객님을 위한 내 사업장 맞춤 솔루션으로 AI 영상 보안 솔루션을 함께 제공해 드렸습니다. 내...', 'date': '3시간 전'}, {'title': '틱택코리아 프로젝트 톺아보기 Ep4 모빌리티 산업에서의 AI(인공지능)', 'text': '모빌리티 분야에서의 인공지능 어렸을 때 상상하는 그림그리기 대회에 꼭 나오는 그림이 자율주행 자동차였습니다. 그런데 최근 테슬라에서 자율주행 택시 로보를... 이렇게 수집한 데이터를 인공지능 기술로 처리하여 자율주행 자동차는 스스로 운행할 수 있습니다. 일론머스크는 자동차가 주차장에 있는 시간에 자율주행을 통해 로보택시로 활용하게...', 'date': '2024.08.13.'}, {'title': '[AI 강좌] 디지털 전환을 위한 \"생성형 인공지능의 이해 및 사용법\" 강의 진행(9회차)', 'text': \"대상으로 '생성형 인공지능의 이해 및 사용법'에 관한 주제로 9회차 실습형 강의를 했습니다. 3월부터 시작된 직무연수 교육이 9월을 맞이하여 벌써 9회차가 되었네요. 듀얼 모니터와 헤드셋이 갖추어진 연수원 전문 전산실에서 개최된 이번 과정에서는 단순한 텍스트 생성뿐만 아니라 창의적인 아이디어를 구상하고, (AI)을 활용해...\", 'date': '4일 전'}, {'title': '인공지능 전환(AX)과 함께하는 미래', 'text': '인공지능 전환(AX)과 함께하는 미래를 정확하게 예상하기는 어렵습니다. 인공지능 전환이 빠르게 이루어지고 있기는 하지만 거의 모든 분야를 완전하게 새롭게 바꾸기까지는 많은 시간이 필요하기 때문입니다. 다만 과거에는 AI가 인간의 판단을 보조하는 수준에 그쳤다면, 향후 AI는 인간과 동등한 수준의 판단을 내리게 될 것으로 전망됩니다. 건강 관리의 혁명...', 'date': '2024.08.21.'}, {'title': '중앙소방학교, “대화형 인공지능 로봇으로 현장 교육 혁신”', 'text': \"✅ '인공지능(AI)복합문화스튜디오' 개설, 창의와 혁신의 공간으로 선보여 ✅ 대화형 로봇 개발로 소방관 역량 강화, ‘소방기관장 정책참모’ 챗봇 주목 ✅ 첨단 기술 접목해 소방 행정 혁신 견인… 국민 안전 강화를 위한 전문 소방공무원 양성 중앙소방학교(학교장 김승룡)가 (AI) 기술을 소방현장에 도입하기 위한 특별한 훈련시설인 '(AI)...\", 'date': '2024.08.08.'}, {'title': '인공지능에서 인과추론(Causal Inference)', 'text': '#데이터과학 #인과추론 인공지능에서 \"인과추론(Causal Inference)\"은 어떤 사건이나 현상이 다른 사건이나 현상에 미치는 인과적 영향을 이해하고 추론하는 과정을 말합니다.... https://medium.com/bondata/causal-inference-%EC%9D%B8%EA%B3%BC-%EC%B6%94%EB%A1%A0-%EC%86%8C%EA%B0%9C-30cc9af08cbd 인과추론 방법론 에서 인과추론을 수행하는 주요 방법은 다음과 같습니다...', 'date': '4주 전'}, {'title': '2030년까지 기업 인공지능(AI) 활용률 70%까지 올린다', 'text': \"2030년까지 기업 인공지능(AI) 활용률 70%까지 올린다 산업통상자원부 대통령 주재, 제1차 [국가 인공지능 위원회] 개최 산업부, AI로 산업을 대전환하기 위한 '산업 AX 확산 방안' 발표 정부는 윤석열 대통령이 주재하고 학계 · 기업 등 각계 전문가들이 참석한 가운데 9월 26일 오전 10시, 서울 포 시즌스 호텔에서 제1차 [국가 위원회]를 개최하였다. 이날...\", 'date': '1시간 전'}, {'title': 'OpenAI, 사유하는 인공지능 o1으로 AI의 기준을 새롭게 하다', 'text': '이번 추론 능력 강화는 인공지능이 AGI, 범용적 인공지능에 한 걸음 가까워졌다는 평가를 받기도 했다. 보다 사람의 사고방식과 비슷해졌다는 의미. 사유하는 인공지능 모델은 인간의 삶에 보다 깊고 넓게 파고들 수 있게 된다. 실질적으로 비슷해진 것인지, 비슷한 결과만 만들어내는 것인지는 잘 모르겠다. 인간의 사고체계가 완벽하게...', 'date': '2주 전'}, {'title': '스테이블 디퓨전 그림 인공지능 Stable Difffusion 사용법', 'text': '6월 19, 2024 글쓴이 itgunza 스테이블 디퓨전 그림 인공지능 Stable Difffusion 사용법 요즘 인공지능 기술이 빠르게 발전하면서 새로운 기술들이 계속해서 등장하고 있습니다. 그 중 하나인 ‘스테이블 디퓨전’은 이미지 생성 및 편집 분야에서 혁신적인 성과를 거두고 있는 기술입니다. 특히 최근에는 ‘스테이블 디퓨전 그림 ’이라는 용어로 많이 언급되고...', 'date': '2024.06.19.'}, {'title': '알기쉬운 인공지능 5분 강의', 'text': '개별적인 인공지능 프로그램을 쓸 필요없이 바로 chat GPT로 해결 가능하기 때문에 소수의 모델들이 학습할 수 있는 데이터를 또 독점하게 되는 순환이 일어나게 되는 것 그리고 현재 이런 초거대 인공지능을 가지고 있는 것은 미국의 기업들임 미국의 투자 규모는 이미 비교 불가능한 수준임 국가별로 보유한 머신러닝 모델 갯수 2등부터 4등까지를 합해도...', 'date': '2024.08.21.'}, {'title': '인공지능에게 질문했습니다! #인플루언서협업', 'text': '인공지능에게 질문했습니다! 인플루언서와 농업인의 협업 모델은? 인플루언서와 농업인의 협업 모델은 다음과 같은 형태로 구성할 수 있습니다: 소셜 미디어 캠페인: 인플루언서가... #질문의힘 #인공지능 #AI농업 #인공지능농업 #농업트렌드연구소 #인플루언서협업 #인플루언서 #인플루언서마케팅 #농업인플루언서 #농산물직거래 #농산물직거래플랫폼', 'date': '2024.08.15.'}, {'title': '아직도 인공지능과 데이터에 관심없다면?', 'text': \"사람들에게 데이터에 대해, 인공지능에 대해 관심을 없게 하는 요인은 무엇이 있을까? 한계를 두게 하는 결정적인 이유는 무엇일까? 여러가지가 있겠지만 '기술'이라는 단어가 주는... 그런데 이러한 것들이 데이터와 인공지능을 다루는데 있어서 얼마나 방해가 될까 생각해봤어요. 세상을 살아가는데 있어서 도움이 되려고 배운 학문이 오히려 새로운 지식을 바라보는데...\", 'date': '4주 전'}, {'title': '딥페이크 탐지 솔루션 인공지능AI 활용하는 딥브레인AI', 'text': \"이는 '딥러닝'(Deep Learning)과 '가짜'(Fake)의 합성어로, 인공지능 기술을 이용해 실제와 거의 구분하기 어려운 가짜 영상이나 음성을 만들어내는 기술을 말합니다. 이 기술은 원래 엔터테인먼트나 교육 목적으로 개발되었지만, 안타깝게도 요즘 범죄에 악용되는 사례가 급증하고 있습니다. 유명인이나 정치인의 얼굴을 합성해 가짜 영상을 만들어 명예를 훼손하거나...\", 'date': '3주 전'}, {'title': 'AI 인공지능시대 기획력강의 문제해결특강 _ 문제정의 문제발굴 기획자의도 _ 워크숍특강 전직원교육', 'text': \"기획보고발표연구소 이석우강사 <AI 인공지능시대 기획력강의 문제해결특강 _ 문제정의 문제발굴 기획자의도 _ 워크숍특강 전직원교육> 안녕하세요. '평범한 사원도... 요즘 인공지능 AI의 이야기가 많이 나오고 늘 보고서 작성에 힘이 빠지는 직장인들은 관심을 가질 수밖에 없는데요. AI가 복잡한 정리를 기가 막히게 해주고 또 '뿅 가게' 잘 찾아서...\", 'date': '3주 전'}, {'title': '인공지능에게 질문했습니다! #반려식물', 'text': '인공지능에게 질문했습니다! 반려식물 시장을 겨냥한 상품개발 아이디어는? #반려식물 시장을 겨냥한 상품개발 아이디어는 다음과 같습니다: 스마트 화분: 식물의 수분, 온도, 조명... 지속 가능한 성장을 이룰 수 있는 방법을 보여줍니다. #질문의힘 # #AI농업 #농업 #농업트렌드연구소 #반려식물시장 #반려식물비즈니스 #반려식물마케팅 #반려식물비즈모델', 'date': '2024.08.13.'}, {'title': \"강사추천 조성배 교수 강연 '인공지능은 영화 속 허구가 아니다!' ai 강의\", 'text': '인공지능 말 그대로 지능을 인공적으로 만드는 것인데요. 지능은 우리 주변을 인식하고 추론하고 적응해서 의사결정하는 능력을 말합니다. 그런데 문제는 실제로 그걸 어떻게 만드는지는 아직 정확히 모른다는 것에 있습니다. 지능의 원리를 신경과학이나 인지과학의 영역에서 계속 탐구하는 중이기는 한데요. 이를 우리가 쓸모있는 정도로 만든다는 건 아직은 요원한...', 'date': '1일 전'}, {'title': '인공지능 AI 보정 사진 편집 프로그램 Fotor', 'text': 'AI 헤드샷 생성기는 인공지능 기술을 활용해 프로페셔널한 헤드샷을 쉽게 생성할 수 있는 도구입니다. 이 기능은 사용자가 기존 사진을 업로드하거나 특정 요구 상항을 입력하면, 자동으로 고품질의 헤드샷을 생성해 줍니다. 사진 촬영에 대한 전문 지식이나 복잡한 편집 작업 없이도 간단하게 이용할 수 있으며, 여러 스타일과 배경을 선택해 사용자 맞춤형으로 만들 수...', 'date': '3주 전'}, {'title': 'AI 지우개 서비스를 네이버 인공지능 클로바X가 시작하다', 'text': 'AI 지우개 서비스를 네이버 인공지능 클로바X가 시작하다 네이버가 인공지능 기술을 활용한 새로운 기능인 AI 지우개 서비스를 클로바X를 통해 선보였다는 소식입니다. 이 서비스는 사진 속 불필요한 배경이나 물체를 손쉽게 지워주는 혁신적인 도구로, 전문가 수준의 포토샵 기술이 필요 없이 누구나 쉽게 깔끔한 이미지를 만들 수 있게 해줍니다. AI 지우개...', 'date': '3주 전'}, {'title': '의료 인공지능 연구개발(R&D) 로드맵(안) (’24∼’28)', 'text': '인공지능 기반 의료기술 혁신으로 국민건강 증진 2024.09.05 보건복지부 보건복지부(장관 조규홍)는 9월 5일(목) 16시 30분 서울스퀘어(서울 중구)에서 박민수 보건복지부 제2차관 주재로 2024년 보건의료데이터 정책심의위원회를 개최 이번 위원회에서는 ▲의료 연구개발 로드맵(2024~2028) ▲의료데이터 주요정책 추진현황 및 향후 계획 ▲공공데이터 개방·활용...', 'date': '4주 전'}, {'title': '인공지능 상권분석 전문가 과정 32기 신운철 세무사 미쳤다 미쳤어!', 'text': '#인공지능상권분석전문가과정32기 단 1번의 인공지능 활용법 수업을 듣고 바로 실무에 적용했는데, 이거 미친 수준인데 ㅋㅋ 어렵지만 꼭 읽어 보세요 신운철 세무사, 다시 한 번 전설을 쓰다!상권분석 전문가 과정 3기 때, 블로그 일 방문자 2만 명을 넘기며 상권분석의 신화를 써 내려갔던 신운철 세무사. 그때도 놀라웠지만, 이번엔 32기 상권분석 전문가...', 'date': '3주 전'}, {'title': '[소상공인을 위한 AI 챗GPT 활용법 3편] 인공지능 교육도 하는 상권분석 전문가 과정 32기 2주차 수업', 'text': \"인공지능 상권분석 전문가 과정 김영갑 교수입니다. ChatGPT는 이제 외식업 경영자에게 매우 유용한 도구로 자리 잡았습니다. 상권 분석, 사업 계획서 작성, 경영 전략, 메뉴 개발... 즉, 인공지능을 제대로 활용하려면 질문을 구체적이고 명확하게 던질 줄 알아야 합니다. 예를 들어, 단순히 '메뉴 추천해 줘'라고 질문하기보다는 '젊은 직장인을 대상으로 한 저녁 메뉴...\", 'date': '4일 전'}, {'title': '인천 서구노인복지관 2024년 하반기 - 스마트폰 활용교육 8주차 인공지능 AI 아숙업 사용하기', 'text': '오전 미추홀구평생학습관 교육 마치고 오후 2시부터 5시까지 인천 서구노인복지관 스마트폰 활용교육 8주차 인공지능 AI 아숙업 사용하기 실습했어요. 오후 1시 20분 되기 전에 인천 서구노인복지관에 도착했습니다. AI 아숙업 사용하기 서구노인복지관 시니어 대학생님들께서 숏폼으로 추석인사 보내시고 가족, 친구, 지인들로부터 칭찬을 많이...', 'date': '2주 전'}, {'title': '[미국주식] 오픈AI 스트로베리(Strawberry) 출시 임박 : 생각하는 인공지능 AI', 'text': '오픈AI ‘생각하는 AI’ 스트로베리(Strawberry) 공개 임박 챗GPT 개발사 오픈AI의 스트로베리(Strawberry)가 텍스트 전용 버전으로 2주 내 공개 예정 스트로베리는 오픈AI가 AI의 추론 능력을 향상하는 데 초점을 두고 비밀리에 개발 중인 프로젝트 코드명 추론 능력을 강화한 (AI) 모델로 질문에 즉각 응답하는 대신 깊이 있는 추론을 거쳐 답변하는...', 'date': '3주 전'}, {'title': '드론과 인공지능으로 제주교통체증 해소 !', 'text': '드론과 인공지능을 활용한 첨단 시뮬레이터 시스템을 도입해 교통정체 해소에 앞장섭니다. 아래에서 함께 알아보시죠! 교통혼잡비용: 한국교통연구원, 『2023 국가 교통정책 평가지표 조사사업』, 2017～2021년 교통혼잡비용 연평균 7.8% 증가 (5,700억 원→8,300억 원) 제주도는 ‘2022~23년 지자체 지능형교통체계 국고보조사업’의 일환으로 ‘드론과 디지털 트윈 활용...', 'date': '2024.08.14.'}, {'title': '인공지능 시대, 청년세대의 고민 해결 방안 모색하다', 'text': '방통위·과기정통부·문체부·개인정보위, ‘인공지능과 청년세대’ 합동간담회 개최 - 4개 부처 청년보좌역, 2030세대와 인공지능 시대 올바른 디지털 문화도 논의 방송통신위원회와 과학기술정보통신부, 문화체육관광부, 개인정보보호위원회는 9월 22일(일), 한국콘텐츠진흥원(KOCCA) 콘텐츠문화광장(서울 동대문구)에서 ‘2024년 청년문화주간(9. 20.~22.)’의 일환으로...', 'date': '5일 전'}, {'title': '인공지능(AI)와 머신러닝(ML)이 그리는 미래: 석유 탐사의 스마트 혁신', 'text': '인공지능(AI)와 머신러닝(ML)이 그리는 미래: 석유 탐사의 스마트 혁신 안녕하세요. 서포터즈 박승현입니다. 최근 석유 탐사 및 개발 분야에서 인공지능(AI)와 머신러닝(ML)의 활용이 빠르게 증가하고 있습니다. 이 기술들은 방대한 양의 데이터를 분석하고, 복잡한 지질구조를 더욱 정확하게 파악하는 데 큰 도움을 주고 있습니다. 과거에는 이런 작업이 많은...', 'date': '3주 전'}, {'title': '[소상공인 위한 AI 챗GPT 활용법 1편] 인공지능 상권분석 전문가 과정 32기 수업 2주차', 'text': '인공지능 상권분석 전문가 과정 32기 지도교수 김영갑입니다. 오늘은 32기 수업 2주차에서 가르치기 시작한 소상공인을 위한 인공지능 챗GPT 활용법 특강 1편을 공유하여 드립니다. 소상공인 위한 AI 챗GPT 활용법 1편 왜 소상공인은 을 배우고 활용해야 할까요? 그 답을 명쾌하게 설명해 드립니다. 이 영상은 을 활용한 상권 분석의 중요성과 방법을...', 'date': '1주 전'}, {'title': '2024년 자율주행 인공지능 챌린지', 'text': '✅2024년 자율주행 인공지능 챌린지 2024년 자율주행 인공지능 챌린지 ✅참가자격 누구나 ✅접수기간 2024. 8.27(화) ~ 9.20(금) ✅개발주제 자율주행 인공지능 학습 데이터셋을 활용하여 다음 중 1개 이상의 자율주행 모델 적용 *중복 참여 가능 ✅수상자 특전 과학기술정보통신부 장관상, 정보통신기획평가원 원장상, 카카오 모빌리티...', 'date': '4주 전'}, {'title': \"윤커뮤니케이션즈, 서울시 '인공지능 기술사업화 지원사업'에 최종 선정\", 'text': \"DX 플랫폼 전문 기업 윤커뮤니케이션즈가 AI 물류솔루션 기업 위밋모빌리티 및 서울대학교 산학협력단과 함께 서울경제진흥원의 '인공지능 기술사업화 지원사업'에 최종 선정되었습니다. ‘인공지능 기술사업화 지원사업’은 서울시 기술의 전 산업 활용과 융합을 위한 핵심기술을 확보하고 사업화 하는 것을 목적으로 하는데요. 기술을 적용하여...\", 'date': '3주 전'}, {'title': 'LG유플러스 슬로건 AI, AX Company를 통해 내다본 인공지능 미래 세상', 'text': '일상에서 인공지능 기술이 우리 삶 깊숙이 들어오면서 스마트폰, 스마트 홈, 자동차 등 다양한 분야에서 인공지능 기술이 활용되고 있는데요. 우리는 과거에는 상상할 수 없었던 편리함을 누리고 있습니다. LG유플러스 슬로건인 AI, AX Company 을 통해서 미래 세상을 알아봅니다. LG유플러스가 새롭게 선보인\"Growth Leading AX Company\" 슬로건은 단순한 문구를 넘어...', 'date': '2024.08.08.'}, {'title': '인공지능 학습용 데이터 구축사업과 AI Hub', 'text': 'AI 허브에서 제공되는 인공지능 학습용 데이터는 과학기술정보통신부와 한국지능정보사회진흥원의 지능정보산업 인프라 조성 사업의 일환으로 2017년부터 구축되어 현재까지 진행되고 있습니다. AI-Hub는 대규모 인공지능 학습용 데이터와 AI 기술 및 서비스 개발에 필요한 다양한 AI 인프라를 지원하는 AI 통합 플랫폼입니다. 지능정보산업 인프라 조성으로...', 'date': '2024.07.24.'}, {'title': '대구시 인공지능(AI) 민원상담사 뚜봇과 함께하는 퀴즈 이벤트!', 'text': '대구시 인공지능(AI) 민원상담사 뚜봇과 함께하는 퀴즈 이벤트! 뚜봇이 내는 퀴즈의 정답을 맞히면, 100분을 추첨하여 편의점 상품권 1만원권을 선물로 드립니다! 똑똑하고 친절한 인공지능(AI) 민원상담사 뚜봇과 함께하는 퀴즈 이벤트! Q. 대구 5대 미래산업의 기반이 될 「기회발전특구」가 아닌 곳은? ①수성알파시티 ②대구국가산단 ③금호워터폴리스 ④동성로...', 'date': '4주 전'}, {'title': '인공지능에게 질문했습니다! #인플루언서', 'text': '인공지능에게 질문했습니다! 인플루언서와 농업인이 협업하여 어떤 콘텐츠를 만들 수 있을까? 인플루언서와 농업인이 협업하여 만들 수 있는 콘텐츠는 다음과 같습니다: 농장 투어... #질문의힘 #인공지능 #AI농업 #인공지능농업 #농업트렌드연구소 #농업인플루언서 #인플루언서 #인플루언서협업 #타겟마케팅 #인푸루언서타겟마케팅', 'date': '2024.08.14.'}, {'title': '[국가인공지능위원회 출범] 핵심 게임체인저 AI \"2027년까지 3대 강국으로\"', 'text': '인공지능 시대의 등장을 전 세계가 직관했던 이세돌 9단과 알파고의 바둑 대결, 기억하고 계신가요? 이 세기의 대결이 열렸던 장소에서 국가인공지능위원회 출범식이 열렸습니다! 윤석열 대통령은 출범식에서 2027년까지 3대 강국으로 도약하기 위해 민·관 원팀의 국가 총력전을 선포했는데요, 이 국가 역량과 경제 성장은 물론, 안보의 핵심이...', 'date': '1일 전'}, {'title': '(인공지능 윤리 퀴즈) AI의 한계와 위험성을 인식시키고, 비판적 사고를 통해 AI를 올바르게 활용하기', 'text': '#데이터과학 #머신러닝 #인공지능윤리 퀴즈 문제 1 다음 중 인공지능(AI)을 맹신하지 않기 위해 학생들에게 강조해야 할 내용으로 적절한 것은 무엇인가? A. AI는 인간보다 항상 정확한 결정을 내리기 때문에 모든 예측을 신뢰해야 한다. B. AI는 데이터를 기반으로 예측하기 때문에 결과가 완벽하다고 볼 수 있다. C. AI는 데이터에 따라 오류를 범할 수 있으며...', 'date': '1주 전'}, {'title': '틱택코리아 프로젝트 톺아보기 Ep3. 의료분야에서의 인공지능', 'text': '의료분야에 쓰이는 인공지능 의료 분야에서 AI는 방대한 양의 환자 및 원시 의료 정보를 분석해 더 정확한 진단을 내리고 치료 계획을 세우는데 핵심이 될 수 있습니다. AI는 고성능... 의료 AI는 원격 진료 및 모니터링 서비스가 진행될 때 의료 영상 분석을 통해 정확한 진단을 내리거나, 환자의 증상 기입만으로 이 초기 진단을 제시할 수도 있습니다. 또한...', 'date': '2024.08.16.'}, {'title': '「인공지능서비스이용자 보호 민관협의회」 출범', 'text': '그동안 방통위와 다양한 지능정보서비스* 관련 이해관계자가 이용자 보호 정책 방안 등을 논의하기 위해 운영해 온 「지능정보사회 이용자보호 민관협의회」를, 올해부터는 인공지능 시대에 걸맞게 「인공지능서비스 이용자 보호 민관협의회」로 확대 개편하여 운영하게 되었습니다. * 지능정보서비스: AI, 메타버스, 빅데이터, 사물통신, 클라우드 컴퓨팅 등 신기술...', 'date': '2024.07.19.'}, {'title': '국가장학금, 학자금대출이 궁금할 땐 인공지능 챗봇 ‘희망봇’에게 물어보세요!', 'text': '희망이가 인공지능 챗봇 ‘희망봇’으로 변신하여 국가장학금, 학자금대출 등 재단의 주요 사업에 대한 여러분의 궁금증을 해결해 드리고 있습니다. 희망봇은 한국장학재단 홈페이지에서 24시간 실시간으로 상담 서비스를 제공하고 있는데요. <희망봇 바로가기> 재단의 사업에 대해 궁금한 점이 생긴다면 언제 어디서든 망설이지 말고 재단 홈페이지에 접속해 우측...', 'date': '1일 전'}, {'title': '인공지능 챗GPT는 나를 정확히 알고 있다', 'text': '안녕하세요 인공지능 상권분석 전문가 과정 32기 지도교수 김영갑교수입니다. ChatGPT에게 나의 직업을 물어 보았습니다 네, 김영갑 교수님께서는 외식경영학 교수로서 외식경영학을 연구하고 가르치며, 소상공인과 프랜차이즈 관련 기업을 자문하고 계십니다. 챗GPT는 나의 성격을 어떻게 이해하고 있을까요? 김영갑 교수님은 매우 체계적이고 목표 지향적인 성격을...', 'date': '6일 전'}, {'title': '<생성형 인공지능과 K-콘텐츠 창작의 미래>', 'text': '<생성형 인공지능과 K-콘텐츠 창작의 미래> 한국방송촬영인협회(KDPS) 오픈특강 안내 한국방송촬영인협회는 다가오는 9월 6일(금), 한국콘텐츠진흥원이 주최하고... 본 특강은 한국방송촬영인협회가 참여기관으로 수행 중인 2024 콘텐츠 창의인재 동반사업의 교육 프로그램으로 <생성형 과 K-콘텐츠 창작의 미래>라는 주제로 진행합니다....', 'date': '2024.08.23.'}, {'title': '인공지능 조련사, 프롬프트 엔지니어', 'text': '그 사이 인공지능(AI)은 빠르게 발전해 텍스트, 이미지, 영상을 한 번에 이해해 생성하고, 농담도 던집니다. AI를 접목하고 있는 기업도 늘고 있는데요. 이에 따라 새로운 직업군이... 국내 AI 스타트업은 연봉 1억 원에, 구글이 투자한 스타트업은 연봉 3억∼4억 원에 채용하기도 했답니다. AI로 매일 우리는 새로운 세상으로 나아가고 있습니다. 여기서는...', 'date': '2024.05.31.'}, {'title': '초거대 인공지능과 상생하는 지식재산을 고민하다', 'text': '국가지식재산위원회가 발행한 ‘인공지능과 지식재산권 보고서’를 살펴보면서, 초거대 AI와 지식재산이 상생할 미래를 함께 준비해볼까요? 생성형 AI로 콘텐츠를 만들다 2022년... 이에 국가지식재산위원회는 초거대 인공지능 시대에 당면한 지식재산의 과제들을 식별하고 대응할 수 있는 방법을 담은 보고서를 발간했습니다. 보고서는 지재위 홈페이지(www.ipkorea....', 'date': '2024.08.26.'}, {'title': '전자 현미경 이미지 품질을 높이는 인공지능', 'text': '품질을 인공지능으로 높이는 연구를 진행했습니다. vEM은 상당한 양의 데이터를 생성하기 때문에 이를 처리하는 과정에서 많은 시간과 노력이... Diffusion-based deep learning method for augmenting ultrastructural imaging and volume electron microscopy, Nature Communications (2024). DOI: 10.1038/s41467-024-49125-z #전자현미경##이미지', 'date': '2024.08.21.'}, {'title': '데이터 과학, 딥러닝, 인공지능 등과 관련된 연구 논문 찾기', 'text': '데이터 과학, 딥러닝, 인공지능 등과 관련된 연구 논문, 기술 블로그 자료를 찾을 수 있을 것입니다. 사이트 이름 설명 분야 URL arXiv 전 세계 연구자들이 업로드한 다양한... 딥러닝, 강화학습, 인공지능 DeepMind Blog 이 표에 나온 사이트들은 데이터 과학과 관련 연구 동향을 파악하는 데 매우 유용하며, 다양한 논문과 기술 동향을 쉽게...', 'date': '2주 전'}, {'title': '틱택코리아 뉴스레터 신청으로 인공지능 관련 소식을 접해보세요.', 'text': '트랜드, 틱택의 기술과 차별점 틱택코리아의 이벤트 소식 등을 받아보실 수 있습니다. 인공지능 산업과 관련된 최신 트랜드를 접하고 싶으시다면 하단 링크를 통해 뉴스레터 구독 서비스를 신청하세요. ▼▼▼▼▼▼▼▼ https://page.stibee.com/subscriptions/361953 #틱택코리아 #틱택 #Tictag #틱택코리아뉴스레터 #뉴스레터 #AI산업트렌드 #틱택서비스 #틱택이벤트', 'date': '4주 전'}, {'title': '대한민국 미래를 이끌 인공지능･디지털 핵심인재 성장 적극 지원!', 'text': '* 인공지능대학원(10개, ‘24년 200억원), 인공지능융합혁신대학원(9개, ‘24년 105억원), 인공지능반도체대학원(3개, ‘24년 90억원), 가상융합세계융합대학원(8개, ‘24년 65억원), 융합보안대학원(12개, ‘24년 87.6억원) 학생들은 연구 생활 중의 고민을 이야기하며 대학원 이후의 진로, 연구자로서 필요한 마음가짐 등에 대한 조언을 구했으며, 유상임 장관은 학생들이...', 'date': '2024.08.23.'}, {'title': '「2024년 인공지능 서비스 이용자보호 콘퍼런스」 개최', 'text': \"2024년 9월 30일(월) '인공지능 서비스 이용자보호 콘퍼런스'가 개최됩니다! 방송·통신 미디어 환경에 인공지능의 영향이 커지면서 이용자 위상 변화와 바람직한 이용자 보호 정책 방향을 모색하기 위해 마련된 본 컨퍼런스는 ' 시대의 이용자 경험과 대응'이라는 주제로 진행됩니다. 신청기간 : ~9월 30일(월) 참가신청링크 많은 관심과 참여 바랍니다\", 'date': '2일 전'}, {'title': '인공지능도 특허출원을 할 수 있을까?', 'text': '인공지능은 인간의 지능을 인공적으로 만들어내려는 컴퓨터 과학 기술입니다. 그런데 인공지능이 독창적인 기술을 구상해내고 특허를 출원한다면, 그 인공지능은 특허의 발명자로 인정받을 수 있을까요? 오늘은 인공지능의 특허출원 사례에 대한 유럽특허청의 판결에 대해 소개해드리려고 합니다. 함께 알아보시겠습니다. 2018년 10월 및 11월에 걸쳐 Thaler 박사는...', 'date': '4분 전'}, {'title': '인공지능 이미지 변환 웹서비스 dzine.ai 사용 후기', 'text': '인터넷을 검색해 보면 인공지능을 활용한 웹서비스가 정말 많이 있는데요. 그중 원본 이미지에 맞춰 다양한 스타일로 변경해 주는 dzime.ai 웹서비스를 사용해 봤습니다. 정말... 나머지 옵션은 기본 그대로 설정하고 [Generate] 버튼을 눌러 이미지를 생성하면 됩니다. ▲ 무료 사용자의 경우 구독을 유도하는 팝업 창이 뜨는데요. 창을 닫고 몇 명의...', 'date': '2024.07.10.'}, {'title': '인공지능에게 질문했습니다! #제철농산물', 'text': '인공지능에게 질문했습니다! 로컬푸드와 제철농산물을 이용한 효과적인 농산물 마케팅 아이디어는? 로컬푸드와 제철농산물을 이용한 효과적인 농산물 마케팅 아이디어는 다음과... #질문의힘 #인공지능 #AI농업 #인공지능농업 #농업트렌드연구소 #로컬푸드 #제철농산물 #로컬푸드마케팅 #제철농산물마케팅 #로컬푸드홍보 #로컬푸드스토리텔링', 'date': '2024.08.16.'}, {'title': \"이상완 교수 강의 '로봇이 인공지능처럼 생각할 때 벌어질 일들' 특강 강연\", 'text': \"이상완 교수님은 現 카이스트 교수이자, 카이스트 신경과학-인공지능융합연구센터장으로 재직하시며, '인공지능은 인간처럼 생각하지 않는다' '인공지능은 뇌처럼 생각하지 않는다' 'Chat GPT/GPT4와 알파고의 시대, 초거대 은 뇌처럼 생각하지 않는다.' '챗GPT와 알파고, 초거대 은 인간지능을 대체하는가?' '과 인간지능의 차이점 / 과...\", 'date': '4주 전'}, {'title': '[TIPA와 함께 알아보는 이달의 키워드] #범용인공지능 #스마트빌리지 #NPU #GAA', 'text': '범용인공지능 Artificial General Intelligence 사람과 유사한 범위의 지능을 갖춘 인공지능을 뜻합니다. 다양한 인지적 작업을 수행하고, 다양한 도메인에서 학습한 지식을 활용해 문제를 해결할 수 있습니다. 이렇게 지식을 활용해 문제를 해결한다는 점에서 단순히 특정 작업에 특화된 (AI)과는 구별되는 특징을 가지고 있습니다. 최근 삼성전자를 비롯해...', 'date': '3일 전'}, {'title': '[인공지능 책 출간을 위한 탈고] 소상공인 식당 경영을 위한 챗GPT 활용법, 대박 식당을 위한 프롬프트...', 'text': '인공지능&상권분석 전문가 과정 김영갑 교수입니다. 저는 이번 추석 연휴 동안, 소상공인 식당 경영자를 위한 인공지능 관련 책을 집필하였습니다. 오늘 원고 작업을 마무리했으며, 월요일에 출판사에 최종 원고를 제출할 예정입니다. 국내에서 식당 사업자를 위한 최초의 프롬프트 엔지니어링 책(종이책)이라는 점을 감안하여 책 제목은 다음과 같이...', 'date': '5일 전'}, {'title': '[소상공인을 위한 빅데이터 상권분석 4판] 인공지능상권분석전략연구협회와 함께 두 번째 교정 작업 중', 'text': '인공지능 상권분석 전문가 과정을 수료한 제자들 중에서 향후 상권분석 전문가로 활동할 예정인 분들이 이 책의 개정판 작업에 참여해 주셨습니다. 외식산업교육연구원 대표 이동수... 인공지능상권분석전략연구협회란? 상권분석전략연구협회는 을 활용한 상권 분석 전문가를 양성하고, 이들이 실무에서 활동할 수 있도록 체계적인 교육과 훈련을 제공하는 전문...', 'date': '6일 전'}, {'title': 'GPT o1의 등장과 생성형 인공지능의 미래(인공지능의 또 다른 변곡점)', 'text': 'GPT o1의 새로운 업데이트는 최근 생성형 인공지능의 발전 속도를 보여주는 방점이라는 생각이 들어, 이렇게 포스팅을 하게 되었다. 한 시대가 지나면 다음 세대는 필연적으로 기존의... 앞으로는 문제 해결의 프레임을 설계하고, 이 스스로 판단할 수 있도록 하는 것이 필요하다고 생각한다. 그렇기 때문에 또 다른 느낌일 수 있지만 프롬프트 엔지니어링은 다른...', 'date': '6일 전'}, {'title': '인공지능에게 대체되지 않는 나를 만드는 법 - 에이트 (EIGHT)', 'text': '제가 좋아하는 작가님 중 한 분이에요~^^ 도서 - 에이트 인공지능에게 지시를 내리는 계급 인공지능에게 지시를 받는 계급 인류의 미래는 인공지능에게 지시를 내리는 계급 혹은 지시를 받는 계급으로 나눠질 거라고 합니다. 학교에 진로 교육을 할 때에도 아이들에게 에게 지시를 내리는 사람이 되어야 한다고 강조하고 있어요~ 선진국들은 오래전부터 교육을 하고...', 'date': '3일 전'}, {'title': '간단한 인공지능으로 앱 만들기 하자', 'text': '(nocode)와 인공지능(AI) 기술의 발전으로 누구나 쉽게 자신만의 앱을 만들 수 있는 시대가 도래했습니다. 노코드란? 프로그래밍 언어를 모르는 사람들도 복잡한 코드를 작성하지 않고도 앱이나 웹사이트를 만들 수 있게 해주는 기술입니다. 사용자는 드래그 앤 드롭 같은 간단한 인터페이스를 통해 앱의 구성 요소를 선택하고 조합할 수 있습니다. 의 역할...', 'date': '2024.05.14.'}, {'title': '인공지능 AI 대체 직업과 초고령 사회 한국의 미래 일자리 전망', 'text': '이웃님들께선 인공지능 AI 기능 활용해 보셨나요? 저는 핸드폰에 있는 기본 AI 기능만 써봤는데도 아주 편리하더라구요. 그런데 우리나라 일자리 중 12%에 해당하는 314만 개 일자리가 인공지능 AI 기술로 대체될 것이란 전망이 나와 우려의 목소리가 이어지고 있습니다. AI 대체 직업, 어디가 가장 많을까? 지난 15일에는 인구구조 변화, 다가오는 AI 시대의 새로운...', 'date': '2024.07.16.'}, {'title': '인공지능 UPDF PDF 요약 및 번역, 수정 AI 챗봇까지', 'text': '인공지능 UPDF PDF 요약 및 번역, 수정 AI 챗봇까지 안녕하세요. 사진&IT 크리에이터 자유분방입니다. 업무를 보다 보면 PDF 파일을 활용하게 될 때가 많습니다. PDF파일에 대해서 잠시... 이번 글에서는 PDF 파일을 인공지능으로 어시스턴트 해주는 UPDF를 소개 드려보려고 합니다. UPDF UPDF는 단순히 PDF 뷰어가 아니라 AI를 통해서 내용을 요약하고, 번역하며, AI Chat을...', 'date': '2024.07.19.'}, {'title': '[인공지능&상권분석 전문가 과정 32기 오리엔테이션1편] 인공지능을 활용한 상권분석 사례', 'text': '#인공지능상권분석전문가과정32기 안녕하세요. 인공지능&상권분석 전문가 과정 32기 지도교수 김영갑입니다. 32기 수업부터 본격적으로 도입된 인공지능 활용 상권분석의 사례를 이용해서 소상공인에게 상권분석이 왜 중요한지 알려드리고자 합니다. 이 영상은 을 활용한 상권 분석의 중요성과 그 과정에서의 실질적인 적용 사례를 다루고 있습니다. 특히...', 'date': '2주 전'}, {'title': 'AI 공모전 2024 ETRI 자율성장 인공지능 경진대회 FASHION-HOW 시즌5 접수중', 'text': 'AI 공모전 소식 2024 ETRI 자율성장 인공지능 경진대회 FASHION-HOW 시즌5 접수중 AI 혁신에 세상이 빠르게 변화하고 있다. 내로라하는 빅 테크 기업들이 서둘러 인공지능 시장에 참전하고 있으며 일례로 스마트폰과 노트북에는 서둘러 AI가 탑재되어 자웅을 겨루고 있는 중이다. AI의 다양한 카테고리 중에서 최근 이목을 모으는 부문이 바로 자율성장 이다....', 'date': '2024.07.16.'}, {'title': \"IT 전문 기자 최동녘 강사 특강, '인공지능(AI)' 강연\", 'text': \"IT 전문 기자 최동녘 강사 특강, '인공지능(AI)' 강연 안녕하세요. 강연전문기업 호오컨설팅입니다. 파우컴퍼니에서 호오컨설팅 섭외를 통해 IT 전문 기자 최동녘 강사님 특강(강연)을 진행했습니다. 임직원을 대상으로 '인공지능(AI)'라는 주제로 AI에 관한 특강(강연)을 진행하셨습니다. 최동녘 강사님은 現IT 전문 기자이자, 작가로 활동하시며, '챗GPT 등 ...\", 'date': '2024.07.25.'}, {'title': '한글사업계획서 한글제안서 과업지시서 _ 국책사업 정부사업 지자체사업 한글문서변환 _ AI ...', 'text': '기획보고발표연구소 이석우강사 <한글사업계획서 한글제안서 과업지시서 _ 국책사업 정부사업 지자체사업 한글문서변환 _ AI 인공지능 파워포인트 활용관점> 안녕하세요.... 이젠 게다가 AI 인공지능 툴까지 나왔으니 이런 방법으로 PPT 사업계획서나 제안서를 만드는 건 더욱 쉽게 할 수 있게 됐죠. 그러나 이런 기성품 모드로는 아직까지 절대로 내...', 'date': '2주 전'}, {'title': '디지털 트랜스포메이션에서 인공지능 트랜스포메이션으로, 소상공인의 새로운 도전과 기회', 'text': '#인공지능상권분석전문가과정32기 안녕하세요. 인공지능&상권분석 전문가 과정 김영갑 교수입니다. 대박을 꿈꾸는 소상공인을 위한 인공지능 트랜스포메이션 선택이 아닌 필수입니다 지난 몇 년간, \"디지털 트랜스포메이션\"은 기업 규모에 상관없이 필수적인 변화 과정으로 여겨졌습니다. 소상공인 또한 새로운 디지털 도구와 플랫폼을 도입하면서 더 나은 고객 관리...', 'date': '2주 전'}, {'title': 'AI 부트캠프 인공지능 국비지원 학원 문제점', 'text': \"인공지능 사람이 데이터를 학습시키고 이후 컴퓨터 스스로 데이터가 가지고 있는 규칙을 찾아 결과를 도출하거나 새로운 결과를 창조하는 것이 인공지능의 개념입니다. 챗봇 그림 그리기 이미기 만들기 동영상 만들기 등등 현재의 시장은 '생성형 AI'가 강세를 보이고 있습니다. 데이터를 바탕으로 사람의 영역으로 여겨졌던 창작까지 하는 것을 뜻하며...\", 'date': '2주 전'}, {'title': '[인공지능 상권분석 전문가 과정 32기 3주차 수업 예고] 소상공인 창업자, 사업자, 마케터를 위한 챗GPT...', 'text': \"안녕하세요 인공지능 상권분석 전문가 과정 김영갑 교수입니다. 9월 23일 3주차 수업 내용을 미리 안내드립니다. 챗GPT 활용법 두 번째 시간에는 '소상공인을 위한 업무용 문서와 매뉴얼... 식당 운영 매뉴얼 작성 및 교육 자료 제작 소상공인 대표님들이 활용법에 대한 수업을 듣게 되면 어떤 능력이 생길까요? 소상공인 대표님들이 (AI) 활용법에 대한...\", 'date': '2주 전'}, {'title': '인공지능 활용 고품질 영상콘텐츠 기획/제작 워크숍', 'text': '인공지능 활용 고품질 영상콘텐츠 기획/제작 워크숍 [한국방송촬영인협회(KDPS) 교육사업] 협회는 한국콘텐츠진흥원이 주최하는 <FOCUS ON STAFF 2024 심화 - 대중문화예술... <FOS2024 심화 - 대중문화예술 기술혁신 사례 워크숍> 활용 고품질 영상콘텐츠 기획/제작 워크숍 [feat. MBC<PD가 사라졌다> 제작사례] - 교육일시 : 2024. 09.23(월)...', 'date': '2024.08.21.'}, {'title': '[PTZ카메라 추천] 경기 파주시 골프용품 제조업체 내 인공지능CCTV 설치후기', 'text': 'AI 영상보안 솔루션 자비스넷 AI 인공지능 CCTV 지능형 영상분석 자비스넷 AI 영상 보안 솔루션 구성도 AI 영상감시 솔루션이란 감지된 상황이 실제 위급한 상황인지 아닌지를 딥러닝서버가 2차로 빠르게 분석하여 실제 상황으로 판단 되었을 경우, 실시간 영상과 함께 고객님의 휴대폰으로 긴급 PUSH 알림을 보내드리는 시스템입니다. 침입, 도난, 보안, 화재사고...', 'date': '1주 전'}, {'title': '어서 와, 인공지능(AI)! 초·중등 디지털 인프라 개선계획을 살펴보아요', 'text': '2025년부터 인공지능(AI) 디지털교과서! 본격적인 도입!? 초등학교 때부터 고등학교 때까지 서책형 교과서를 사용하며 다닌 기억이 있는데요. AI 디지털교과서는 서책형 교과서와 함께할... 인공지능(AI) 디지털교과서란? 개별 학업 성취도에 따른 맞춤형 학습을 제공하여 교육 격차를 줄이려는 취지로 도입된 (AI) 디지털교과서는 미래형 학습 도구로서 풍부한...', 'date': '2024.07.05.'}, {'title': '신약 개발 과정에서 인공지능의 활용 방법은? 공식 안내서를 참고하자!', 'text': '인공지능과 딥러닝 기술이 신약으로서의 가치를 갖는 유효물질을 발굴하는 등 신약개발 과정에 기여할 수 있다는 점이 확인되어 왔습니다. 무수히 많은 선도물질을 스크리닝하는 과정부터, 그 물질을 어떻게 효과적인 약제로 탈바꿈시킬지 처음부터 설계하는 과정까지, 그 모든 개발 과정은 본래 연구자의 역량에 의존했던 과정인데요. 이에 따라 기술이...', 'date': '2024.07.26.'}, {'title': \"9.23(월) 숙명여대 인공지능공학부 '진로콘서트' 연사로 참가 #링크드인 #개인브랜딩\", 'text': '오늘 저녁은 숙명여대 인공지능공학부 진로콘서트에 연사로 참가합니다. 지난 5월 숙명여대 온라인 강의에서 200명 이상 참석해주셨는데 이번에는 오프라인으로 유익한 시간... 그 과정에서 좋은 사람들과 연결되고, 비즈니스 기회가 탄생하는 것이죠. 그럼 금일 저녁에 뵙겠습니다. #숙명여대 #공학부 #LinkedIn #Branding', 'date': '4일 전'}, {'title': '인공지능으로 더 안전하게! 스마트 횡단보도 운영', 'text': '[ 스마트 횡단보도 시스템이란? ] 인공지능(AI) 기술을 접목한 보행 신호 자동 연장시스템으로 신호등 기기에 부착한 인공지능 카메라가 보행자를 감지해 길을 건널 시간이... 이 사업은 국토교통부 지능형교통체계 구축 공모에 선정돼 총 사업비 19억원을 투입해 진행한 사업으로, 노인･어린이 교통사고 위험지역 23개소에 구축했습니다. 관할구 지점명 주소...', 'date': '2024.07.03.'}, {'title': 'WWDC 2024, 애플의 인공지능 파트너십 계획 발표 예정', 'text': 'WWDC 2024 주요 내용 올해 WWDC의 주요 발표 내용은 인공지능(AI)에 중점을 둔 새로운 소프트웨어 업데이이트로 예상이 되고 있다. 블룸버그의 레포트에 따르면, 애플은 iOS 18애... 마무리 애플이 시리를 내놓았을 때만 해도 분야의 선도주자였다. 시리가 빠르게 이 시장을 잠식해 나가리라는 기대는 당연해 보였다. 하지만, 결과적으로 애플은 구글...', 'date': '2024.06.12.'}, {'title': '[인공지능 챗GPT 활용법 사례] 2025년 KYG소상공인대학 설립, 교육 사업을 공식적이고 체계적으로...', 'text': '#인공지능상권분석전문가과정32기 #사업계획수립 #인생로드맵만들기 2025년 사업계획을 수립 중에 있습니다. 챗GPT와 대화를 하면서 저의 인생 계획과 로드맵에 대한 내용을 정리하고 있습니다. 인공지능&상권분석 전문가 과정 수강생들에게 활용법을 교육하기 위한 목적으로 만든 가상의 계획입니다. 챗GPT 2025년부터 KYG소상공인대학을 설립하여 교육 사업을...', 'date': '6일 전'}, {'title': '인공지능 자연어 처리로 인해 ChatGPT-o1 한국어의 중요성', 'text': '인공지능(AI)이 발전하면서 우리의 삶에 점점 더 깊이 스며들고 있습니다. 그중에서도 자연어 처리(Natural Language Processing, NLP)는 AI가 인간의 언어를 이해하고 소통할 수 있게... 얼마전 인공지능 세미나에서 특히 자연어 처리로 진행하여 큰 인기가 있어서 이야기 해보도록 하겠습니다. 출처 : 왼 : Pyladies의 박조은 강사님 강의안에서 발취 자연어 처리는...', 'date': '3일 전'}, {'title': '티처블 머신으로 인공지능 입문하기', 'text': '티처블 머신의 가장 큰 장점은 복잡한 코딩 지식이 없어도 누구나 사용할 수 있어 초, 중, 고등학생들이 수업시간에 인공지능을 배우는데 있어 충분히 좋은 도구라고... 이 이미지 샘플이 좋아야 인공지능도 학습을 잘할 것입니다. 만약 샘플을 삭제하고 싶다면 클래스 삭제를 하면 클래스가 지워지므로 모든 샘플 삭제를 하는 것이 새로 샘플을 모을 때...', 'date': '2024.07.31.'}, {'title': '인공지능 애완로봇 로봇강아지 아이보 백터로봇', 'text': \"소니는 이러한 문제점을 해결하고자 인공지능 로봇 강아지 '아이보'를 개발했습니다. 오늘은 로봇강아지 아이보, 스마트비서 백터로봇에 대해 알아보겠습니다. 로봇 강아지 아이보, 어떤 점이 특별할까요? 아이보는 단순한 기계를 넘어, 을 통해 주인과의 교감을 학습하고 발전합니다. 주인의 목소리 톤, 표정, 행동 등을 분석하여 개별 맞춤형 반응을 보여줍니다....\", 'date': '3일 전'}, {'title': '[허벨] 데이터센터&인공지능은 아직 초기단계입니다 (모건 스탠리 컨퍼런스)', 'text': '및 인공지능 수혜를 얼마나 누리고 있는지 알 수 있는 재미있는 컨퍼런스였습니다\" 핵심포인트 5가지 전력망 교체, 재생에너지, 데이터센터, 리쇼어링, 인프라법안 등등 다양한 이유로 전력기기 업체들은 수혜를 누리고 있음. 시간순으로 나열하면 전력망 현대화 → 재생에너지 → 데이터센터 순서대로 전력기기 산업에 순풍이 불고 있음. 허벨의 대표이사는 ...', 'date': '1주 전'}, {'title': '위기가구 대상 인공지능(AI) 초기 상담 시범 사업 추진', 'text': '인공지능(AI) 전화로 위기가구 찾아낸다 시범사업 추진 보건복지부는 7월 22일 위기가구를 대상으로 인공지능(AI)을 활용해 전화로 초기 상담하는 시범사업을 추진한다고 밝혔습니다. 지금까지는 위기 의심 가구에 대해 지방자치단체 사회복지공무원이 일일이 전화로 초기 상담을 해왔습니다. 앞으로는 AI가 이 단계를 대체합니다. 시나리오에 기반한 상담을 하는 건데...', 'date': '2024.07.31.'}, {'title': 'KT 기가지니 셋톱박스 AI 인공지능 후기', 'text': \"기가지니3는 셋톱박스 기능뿐만 아니라 인공지능 스피커가 결합된 제품이에요 15W 출력의 스피커를 탑재하고 있으며, 하만카돈에서 튜닝한 사운드 덕분에 선명하고 깨끗한 소리로 평가받고 있어요 스마트폰과 블루투스 방식으로 연결하여 음악 감상용 스피커로도 활용할 수 있습니다! '지니야' 등의 명령어로 호출하여 음성으로 다양한 명령을 내릴 수 있어요...\", 'date': '2주 전'}, {'title': '법제처, 인공지능(AI) 법령검색 시스템구축 박차', 'text': '법제처(처장 이완규)는 20일(금), 인공지능(AI) 전문기업 ㈜솔트룩스(서울 송파구 소재)를 방문하여 인공지능을 활용한 지능형 법령검색 시스템 구축을 위한 중간점검을 가졌다. 이날 간담회에서 솔트룩스 이경일 대표 등 업계 관계자들은 (AI) 서비스 현황과 활용 방안을 제시했고, 참석자들은 해당 기술을 법제처 법령정보서비스에 연계하는...', 'date': '1주 전'}, {'title': '충청 ICT [온라인 인공지능 교육] AI시스템 반도체(CJU) 교육생 모집', 'text': '충청 ICT [온라인 인공지능 교육] AI시스템 반도체(CJU) 교육생 모집 안녕하세요. 취업비서 인크루트 입니다. 오늘은 충청권 지역 거점을 통해 신기술 인력을 양성하고 개발자를 지원하여 특화산업에 AI 등 신기술 도입 및 활성화 도모를 위해 진행되는 충청 ICT이노베이션스퀘어 에서 진행하는 충청 ICT [온라인 교육] AI시스템 반도체(CJU) 교육생...', 'date': '2024.08.12.'}, {'title': 'AI개발 교육 [인공지능, 협동로봇 교육] 개발자취업을 위한 ROKEY BOOT CAMP 2기 모집', 'text': 'AI개발 교육 [인공지능, 협동로봇 교육] 개발자취업을 위한 ROKEY BOOT CAMP 2기 모집 안녕하세요. 취업비서 인크루트 입니다. 실무 맞춤형 신입 엔지니어 양성교육으로 진행되는 두산로보틱스의 AI개발 교육 [인공지능, 협동로봇 교육] 개발자취업을 위한 ROKEY BOOT CAMP 2기 모집 소식은 전달해드리겠습니다. #python #Computer Vision #ROS-2 #로봇 프로그래밍 실무...', 'date': '2024.08.14.'}, {'title': '미래 모빌리티 기술 선도 도시로! 대전시-KAIST, 차세대 인공지능 모빌리티 연구 업무협약', 'text': '과학기술정보통신부 주관 ‘2024년 소프트웨어 컴퓨팅산업 원천기술 개발사업’ 공모에 대전시와 KAIST가 최종 선정된 가운데, 23일(금) ‘차세대 인공지능(AI) 모빌리티 연구’를 위한 업무협약을 체결했습니다. 이번 사업은 (AI) 융합 교통 시뮬레이터를 국내 최초로 개발해 대전시의 무궤도 트램 시범사업(2025년)과 2호선 트램 운영(2028년)에 관련된...', 'date': '2024.08.23.'}, {'title': '(인공지능 블루투스 스피커 연결) kt olleh 기가지니 2 3 사용법 변경 비교 이유', 'text': '하지만 셋톱박스가 오래되어 고장이 자주 나면서 이번 기회에 생활을 편리하게 해 줄 수 있는 인공지능 셋톱박스를 사용해 보기로 했죠~ 이제 셋톱박스 종류와 월 요금에 대해... 통신사별로 다양한 인공지능 스피커가 있고, 저는 여러 가지 사항을 비교해 본 후 KT olleh 기가지니3를 선택했습니다. 지금부터 기가지니2와 기가지니3의 차이점, KT olleh 기가지니3의...', 'date': '1일 전'}, {'title': '인공지능 시대에 새로운 혁신으로 개인 사업은 퍼스널 플랫폼!', 'text': '무역 전쟁에 이어 인공지능 전쟁을 벌이는 있는 국가는 미국과 중국이라고 합니다. 미래 산업구조의 경쟁력을 위해 국가 간에 경쟁으로 정부가 깊이 관여한다고 합니다. 그리고 미래를 위해 기업 간에 경쟁도 인공지능에 의해 결정된다고 합니다. 미래에는 모든 분야에서 이 도입되어 사용할 것이라고 합니다. 의료 분야, 금융 분야, 교육 분야, 제조 분야 등...', 'date': '2024.07.29.'}, {'title': \"주말 아이와 갈 만한 곳 추천! 로봇과 대화하고 축구 즐겨요~ '서울로봇과학관' 정식 개관\", 'text': \"이를 직접 체험해 볼 수 있는 '서울로봇인공지능과학관'이 8월 20일 정식 개관합니다. 자세한 내용, 함께 살펴보실까요? ‘로봇·인공지능과 함께할 우리의 미래는 어떤 모습일까?’ 궁금하다면 8월 20일 정식 개관하는 ‘서울로봇과학관’을 찾으면 된다. 우리에게 다가올 미래를 미리 보여주며 서울의 새로운 명소로 자리 잡을 이 과학관은 다양한 체험...\", 'date': '2024.08.17.'}, {'title': '[인공지능&상권분석 전문가 과정 32기 오리엔테이션 2편] 인공지능을 활용한 상권분석으로 대박집 창업과...', 'text': '#인공지능상권분석전문가과정32기 #오리엔테이션2편 안녕하세요. 인공지능&상권분석 전문가 과정 32기 지도교수 김영갑입니다. 오늘은 32기 수업 1주차 오리엔테이션 영상 2편을 공유하여 드립니다. 본 영상은 인공지능과 상권분석에 관심이 있는 분들을 위한 다양한 정보가 포함되어 있습니다. 꼭 시청하시기 바랍니다. 이 영상에서는 성공적인 외식업을 위한 상권...', 'date': '2주 전'}, {'title': '인공 지능 코딩 코디니 - 청소년 수련관 수업', 'text': '^^ 손도 씻고 손도 말리고~! 건강을 책임지는 코디니 입니다. 우왕~~ 잘 만들었네요~ 다음 시간도 재미있게 수업해 보아요~ 초.중.고 코딩수업문의 ⬇️⬇️⬇️ #동래구청소년수련관 #와이즈교육 #코딩교육 #인공지능코딩 #KTAI코딩 #무료코딩교육 #코딩자격증 #코딩대회 #AICE자격증 #딩가샘', 'date': '4일 전'}, {'title': '[A.I] 인공지능 검색툴 세 가지 + GPT-O1', 'text': '바로 인공지능 검색툴 때문이다. 현재 가장 많이 사용되는 A.I 검색툴은 다음 세 가지로 알고 있다. ChatGPT, Perplexity, Goover 1.ChatGPT ChatGPT는 생성형 인공지능 언어 모델이다. 너무나 유명해서 전 세계 많은 사람들이 이미 잘 사용하고 있다. 특히 ChatGPT-4o 버전은 대화형에 더욱 최적화되어 있다. 개인적으로 어떤 지식의 전체적인 경로와 흐름을 만들어갈 때...', 'date': '2주 전'}, {'title': '[인공지능 상권분석 전문가 과정 32기] 10년의 세월, 다시 시작된 배움의 여정', 'text': '#인공지능상권분석전문가과정32기 안녕하세요 김영갑교수입니다 상권분석 전문가 과정 3기를 수료한 제자 신운철 세무사와 장철웅 맛테이블 대표 그리고 10기를 수료한 행복일번지 김희경 대표가 인공지능 &상권분석 전문가 과정 32기 수업을 듣기 위해 재수강 신청을 했습니다. 1주차 개강식에서 3기 10기 제자들이 32기를 위한 환영사를 해 주었습니다. 거의 10년만에 다시...', 'date': '3주 전'}, {'title': 'AI 인공지능 파워포인트 보고서작성 예시샘플 _ 사업계획서 PPT 목차구조 제안서 PPT 슬라이드 _ 1장요약...', 'text': '기획보고발표연구소 이석우강사 <AI 인공지능 파워포인트 보고서작성 예시샘플 _ 사업계획서 PPT 목차구조 제안서 PPT 슬라이드 _ 1장요약 파워포인트 한장보고서> 안녕하세요.... 이제는 AI 인공지능 프로그램이 슬라이드 자체를 예쁘게 여러 장 만드는 건 몇 초 사이에 아주 빠르게 만들어 줘요. 현란한 인포그래픽 제작 스킬로 슬라이드의 개체를...', 'date': '2주 전'}, {'title': '갤럭시AI(인공지능) 기능 탑재 기대!! 온 디바이스 동시번역 기능은 시간 필요해', 'text': '고급폰에서만 적용되던 갤럭시AI(인공지능) 기능이 탑재될 전망이기 때문입니다. 중학생폰이나 고등학생폰으로 또는 일반인도 출시를 기다리는 이유는 가격적인 부담이 적기... 과연 인공지능AI 기능 중 어떤 기능까지 제공이 될지 기대됩니다. 삼성전자 중급폰 가격대별 종류는? 쿠팡 파트너스 활동의 일환으로, 이에 따른 일정액의 수수료를 제공받습니다...', 'date': '2024.08.07.'}, {'title': '[블로그분야 7월 우수콘텐츠] 서울로봇인공지능과학관을 소개하다', 'text': '\"서울로봇인공지능과학관 탐방기\"를 소개해주신 SNS크루 한상건님 . . . 지난 8월 도봉구에 서울시 최초 로봇과학관이 개관하였습니다! SNS크루는 홍보를 위해 사전탐방을 다녀왔어요 이 과학관은 로봇과 인공지능의 최신 기술을 체험하고, 인간과 로봇의 관계에 대해 깊이 생각해볼 수 있는 특별한 공간입니다. 이곳 과학관을 둘러보며 다양한 체험 프로그램을 즐겨보실...', 'date': '1시간 전'}, {'title': '인공지능서비스 이용자보호 컨퍼런스 참가 신청', 'text': '인공지능서비스 이용자보호 컨퍼런스 - 인공지능 시대의 이용자 경험과 대응 일시: 2024.09.30.(월) 14:00~17:00 장소: 양재 스포타임 멜론홀(5F) 참가 신청 - 신청기간: 2024.09.06.~09.30. - 신청링크: http://biz.onvi.co.kr/kcc_ksdi.html 온라인 참가: 방송통신위원회 및 KISDI 유튜브 채널 행사 문의: 컨퍼런스 운영 사무국 - Tel: +82-2-6959...', 'date': '2주 전'}, {'title': '스크린 속 세계를 함께 창작하다, 미디어로 뻗어나가는 인공지능', 'text': '이제는 우리에게 다양한 시청각적 만족을 주는 콘텐츠 산업에 인공지능이 활용된지 시간이 꽤 흘렀습니다. 특히 효율적인 제작을 가능케하는 기술의 도입으로 콘텐츠 제작 시장의 판도가 변하고 있는데요. 알고리즘에 기반한 큐레이션이나 예측 분석과 같은 기초적인 부분을 넘어 미디어 산업의 제작 분야에 미치는 의 영향력을 함께 살펴볼까요?...', 'date': '2024.07.08.'}, {'title': '챗gpt사용법 인공지능 AI챗봇 최신판 괜춘 끗판왕', 'text': '오늘은 챗gpt 사용법 인공지능 AI챗봇에 관련해서 이야기를 해보겠습니다. 이전보다 발전되었다고 말씀 드릴 수 있으며 궁금하신 분들께서는 아래 내용을 참고하시면 되실 것... (벨소리를 찾으실때 위와 같이 알아보셔도 되실 것 같습니다.) 끝맺음 플러스를 이용하시는 경우 비용이 따로 추가하셔야되지만 AI챗봇이 꼭 필수인 경우 챗gpt 사용법 중에서도...', 'date': '2024.08.24.'}, {'title': '향상된 포토샵 인공지능 생성형 채우기 및 AI 이미지 생성 기능 활용하기', 'text': '기반 인공지능 생성형 채우기 및 AI 이미지 생성 기능이 정식 버전으로 출시되었습니다. 이번 버전에서 가장 눈에 띄는 점은 조금은 막막하던 생성형 채우기 프롬프트를 예제를 통해 도움을 받을 수 있게 되었다는 것과 이미지 참조, 이미지 효과 선택을 통해 조금 더 내가 원하는 결과물을 얻을 수 있게 되었다는데 가장 큰 의의가 있는 것 같은데요~ 포토샵의 AI...', 'date': '2024.08.10.'}, {'title': '릴리스 AI , 유튜브 영상 자동 요약 인공지능', 'text': '아무리 인공지능 AI인들 그 긴 영상을 어떻게 깔끔하게 요약한단 말인가. 그런데 사용해보면, 이 기능들 진짜 미.쳤.다. 일단 아래 화면은 요약본이다. 영상은 22분짜리인데, 그냥 몇 초만에 요약해낸다. 요약본을 읽는데는 채 5분도 걸리지 않았다. 요약 상태도, 오, 훌륭하다. 서비스는 다양하다. 전체 스크립트를 볼 수 도 있게 되어있다. 요약본보다 더 자세한 내용을...', 'date': '2024.06.22.'}, {'title': '빙 이미지 크리에이터 인공지능 AI 이미지 사진 만들기 DALLE-E 3', 'text': '빙 이미지 크리에이터 인공지능 AI 이미지 사진 만들기 DALLE-E 3 안녕하세요. 사진&IT 크리에이터 자유분방입니다. 빙 이미지 크리에이터 Bing Image Creator는 Microsoft의 AI 이미지, 사진 생성도구입니다. 요즘은 인공지능을 통한 이미지 생성이 가능해지면서, 예전에는 상상밖에 할 수 없었던 것들을 시각화 시킬 수 있어서 흥미로운 것 같아요. AI 사진, 이미지를 만들 수...', 'date': '2024.07.12.'}, {'title': '대구AI국비지원 / 인공지능, 빅데이터 체계적인 교육', 'text': 'AI, 인공지능(Artificial Intelligence)은 인간의 지능을 모방하여 자동화된 시스템을 만드는 기술입니다. 이 기술은 컴퓨터가 학습, 추론, 문제 해결 등의 능력을 가지게 하여 인간의 작업을 자동화하고, 더 나아가 인간의 지능을 뛰어넘는 능력을 발휘할 수 있도록 하는 것을 목표로 합니다. 대구AI국비지원 자동화: AI는 인간의 작업을 자동화하여 생산성을 높입니다. 예를...', 'date': '1일 전'}, {'title': '인공지능 투자 대비 가장 큰 수익 창출 가능한 분야는 로보틱스! (MARS 2024 월드포럼)', 'text': '#인공지능 #뉴로메카 #로보틱스 #마스포럼 #월드포럼 #궤도 대전광역시와 HANCOM이 주최하고 대전테크노파크가 주관한 MARS 2024 World Forum(MARS 2024)이 8월 2일 대전컨벤션센터 제1전시장 그랜드볼룸에서 열렸습니다. 이날 포럼에서는 핵심 주제인 과 관련해 모빌리티(Mobility), (AI), 로보틱스(Robotics), 스페이스(Space)의 각 분야 전문가가 연사로 참여해...', 'date': '2024.08.08.'}, {'title': '인공지능 시대 투자는 4차 산업과 미국 우량 주식', 'text': '팬데믹 이후, 우리는 치솟는 고물가로 인해, 자산 감소가 급격히 이루어지며 인공 지능과 4차 산업의 가속화로 대량 실직의 현실을 눈앞에 두고 있습니다. 이제 어떻게 해야 할까요?... 그 답은 인공지능과 4차 산업에 관련된 미국 우량 주식을 사는 것입니다. 현재 과 4차 산업을 가장 리드하고 있는 국가는 미국입니다. 애플, 구글, 아마존 등 수많은 미국...', 'date': '2주 전'}, {'title': '카카오모빌리티 자율주행 인공지능 챌린지 개최 신청 AI', 'text': '카카오모빌리티 자율주행 인공지능 챌린지 개최 신청 AI 최근 자율주행이 대세입니다. 이미 테슬라 자동차의 경우 핸들에 손을 올리지 않고 출근하는 사람도 꽤 많다고 하더라구요.... 또한 정부 자율주행 레벨4 서비스 구현을 위해 차량, 엣지-인프라, 지능학습을 연계하여 융합형 자율주행 데이터 생성·관리·배포 자동화 기술을 연구하고 있습니다. 나가며 아마도...', 'date': '4주 전'}, {'title': '외국어 공부, AI 인공지능 시대에도 필요할까?', 'text': '그렇다면 과연 AI 인공지능 시대에 외국어 공부는 여전히 필요할까요? 외국어를 통해 얻는 경험의 폭과 질은 AI 번역만으로는 절대 따라올 수 없습니다. 실제로 외국어를 유창하게 구사하는 사람들은 더욱 다양한 기회를 누리며, 새로운 문화를 깊이 경험하게 됩니다. <마녀체력>이라는 책을 보면 나를 배신하지 않는 3가지가 있다고 하죠. 운동, 독서...', 'date': '1일 전'}, {'title': '데이터베이스 뜻 인공지능 코딩 데이터분석 취업 빅데이터학원', 'text': '인공지능분석 기술은 요즘에 4차산업혁명 새로운 직업군중에 고액 연봉 복지 대우를 받을 수 있는 직무 입니다. 빅데이터학원 에서 요즘 AI 국비지원 수업이 가능한데 어떤... 요즘에는 이런걸 이용해서 마케팅 영업 , 새로운 신기술 사업에 응용 할 수 있기 때문에 취업 AI 분야가 떠오르고 있다는 것 입니다. 뜻 같은 경우도 비슷하다고 보시면...', 'date': '2024.06.03.'}, {'title': '[투자전략] 인공지능 섹터의 후발주자 : Software', 'text': '2000년에는 PC/모바일 혁명이었지만 이제는 인공지능이라는 아주 강력한 기술혁명의 붐이 일어나고 있기때문에 소프트웨어 기업들은 부담되는 가격을 지불하고서도 주도위치를 지키기위해 고군분투 하는 분위기죠. 다음 포스팅에는 후발주자 S/W 투자에 대한 기업들도 확인해볼예정인데 경기가 회복하면 반듯이 확인해야할 섹터들 지속 관심을 갖고...', 'date': '4시간 전'}, {'title': 'AI 반도체 관련주 주식 10개 인공지능 연관 종목 알아보자', 'text': 'AI 반도체 관련주 주식 10개 인공지능 연관 종목 알아보자 요즘 들어 핫하디 핫한 인공지능 산업! 현재 세계적으로 인공지능에 대한 중요성이 높아지면서 인공지능 데이터센터에 필요한 반도체 업종이 호황을 누리고 있어요. 우리 모두 이름만 들으면 아는 미국의 빅 테크 기업들도 해당 산업에 집중하고 있을 정도니 말 다 했죠? 이렇게 떠오르는 산업의 연관 종목들을...', 'date': '2024.08.20.'}, {'title': \"[ChatGPT 특강] '컨설턴트를 위한 인공지능(AI) 활용 문서 작성법' 강의 진행\", 'text': \"위한 인공지능(AI) 활용 문서 작성법'에 관한 주제로 강의를 했습니다. 석박사 및 경영지도사 자격증을 보유하고 있는 전문가분들은 노트북을 준비하여 함께 실습을 진행했습니다. 이번 강의는 컨설턴트의 역량을 강화하기 위한 교육 프로그램으로, 최신 기술인 ChatGPT 및 생성형 을 활용하여 실무에 필요한 다양한 문서 작성 능력을 향상시키는 것을 목표로...\", 'date': '2024.08.02.'}, {'title': '바이오·첨단로봇·인공지능 특허심사 대응센터 2편', 'text': '인공지능을 통해 사용자의 의도를 더 정확하게 파악하고 피드백을 제공하는 기술이 보편화되고 있습니다. Tomorrow : Tomorrow에는 뇌-컴퓨터 인터페이스(BCI)와 같은 기술이 발전하여... 2024년 : 오늘날 로봇 제어 기술은 과 센서 기술을 결합하여 더욱 정교하고 자율적인 방식으로 발전하고 있습니다. 특히, 비전 시스템과의 통합으로 로봇이 주변 환경을...', 'date': '2주 전'}, {'title': '국내 최대 규모 국제 인공지능 및 블록체인 행사 AI CRYTPTO SUMMIT Korea 2024', 'text': '안녕하세요, 여니입니다 블록체인, 인공지능, 암호화폐 요즘 많이들 관심 갖고 계시죠? 저 또한 오래전부터 꾸준히 관심갖고 투자하고 있으면서도 생각보다 빠르게 우리 일상에 밀접하게 다가오는 현실에 늘 새롭고 감탄되고 있는데요 이번에 다가오는 9월 5일부터 6일까지 국제 및 블록체인 행사인 AI CRYTPTO SUMMIT 2024가 국내 최대 규모로...', 'date': '2024.08.13.'}, {'title': '소니 반려견 로봇 강아지 아이보 컨패니언 로봇(ER-1000) 부품 및 제어장치 를 포함한 으로!!', 'text': '올해로 벌써 6주년이 되었는데 인공지능 관련 기능이 얼마나 업그레이드되었는지는 정확히 알려진 바가 없습니다. 그러나 6년 전 만 해도 사람말을 알아듣고 머리를 쓰다듬어 주면 좋아하고 스스로 충전기로 이동해 충전을 하는 모습을 보여 주었으니 지금은 더 업그레이드되었겠지요. 국내 온라인 쇼핑몰에서 소니AI 아이보라는 이름으로 판매되는 반려견 로봇...', 'date': '2024.08.25.'}, {'title': 'LLM( 생성형) 업무효율화, 업무활용, 인공지능 활용하여 일잘 하는법 69', 'text': '그러지 않고 많은 데이터를 한번에 처리 하다 보면 노이즈가 생기고 이러한 노이즈로 인하여 의도하는 방향에 정확도가 떨어지게 됩니다. (여기서 말하는 노이즈란 의도하지 않은 모든 데이터를 총칭함) 다음 포스팅에 이어서 전처리 단계별 방법에 대해 설명드리겠습니다. . . . 생성형, LLM, 일잘러, RAG응용, 챗지피티 를 활용해서 프로 일잘러 되기 출간 준비중~~!!', 'date': '2일 전'}, {'title': 'AI 인공지능 개발자 비전공자 국비지원 취업 내일배움카드 교육 학원', 'text': '오늘은 AI개발자 취업 과정 그리고 인공지능 개발자 분야 국비지원 교육 과정에 대해서 알려드리려고 합니다~! AI취업 내일배움카드 알아보시는 분들에게 좋은 소식일듯 합니다 AI... 인공지능 개발자 교육 커리큘럼 안내 3. 비전공자 기준 IT진로 고민이라면 ? 4. 내일배움카드 사용할때 주의할점 5. IT현실 조언 / 팩트정리 1. AI 개발자 취업 전망이 좋은이유 학원...', 'date': '2024.05.25.'}, {'title': '로봇과 인공지능의 최신 기술 창동 서울로봇인공지능과학관 (SEOUL RAIM) 탐방', 'text': '서울 도봉구 창동 RAIM(로봇인공지능과학관) 안녕하세요! 오늘은 서울 동북부 거점도시로 비상하는 도봉구 창동에 8월 개관 예정인 SEOUL RAIM(서울 로봇인공지능과학관)에 대해 알아보겠습니다. 로봇과 인공지능의 최신 기술 창동 서울로봇과학관 (SEOUL RAIM) 탐방 이곳 서울로봇과학관은 로봇과 의 최신 기술을 체험하고, 인간과 로봇의...', 'date': '2024.07.29.'}, {'title': '바이오·첨단로봇·인공지능 특허심사 대응센터 1편', 'text': \"CRISPR-Cas9 같은 유전자 편집 기술은 의약 분야뿐만 아니라 농업과 환경 분야에서 폭넓게 사용되고 있으며, 인공 장기 및 조직 공학 기술도 꾸준히 발전하고 있습니다. 특히 동남아를 휩쓴 K-딸기를 아시죠? 이것도 바이오 특허입니다. Tomorrow : 앞으로의 바이오 기반 기술은 생명공학과 이 결합된 '디지털 바이오로직스'로 진화할 것입니다. 유전자 치료...\", 'date': '3주 전'}, {'title': '인공지능(AI)과 구글의 위기??', 'text': '인공지능(AI)과 구글의 위기? 구글(Google, 알파벳A)은 이세돌과 바둑 대결로 유명한 알파고를 시작하며 인공지능 시대를 열었습니다. 또한 세계적으로 수많은 인공지능 전문가를 배출해 내면서 인공지능의 선두 주자 중에 하나로 알려져 있습니다. 그런 구글이 최근 AI를 장착한 검색엔진을 유료화를 검토하고 있다고 합니다. 구글(Google)은 그동안 검색은 무료이고...', 'date': '2024.04.15.'}, {'title': '반도체ETF ASOX 출시 AI 인공지능 관련주 대장주 총집합', 'text': \"반도체ETF ASOX 출시 AI 인공지능 관련주 대장주 총집합 안녕하세요 금성인입니다. 이번 포스팅에서는 인공지능 관련주와 대장주가 총집합한 반도체 ETF인 ASOX 출시 소식을 정리하였습니다. 목차 1. ASOX 출시 2. 금성인's Comment 1. ASOX 출시 나스닥의 새로운 반도체지수가 공개가 되었습니다. 미래에셋자산운용의 TIGER ETF와 함께 전세계 최초로 한국에서...\", 'date': '3주 전'}, {'title': '의료 분야에 활용되는 인공지능(AI)', 'text': '이에 연구팀은 음식 영역을 감지하는 ‘YOLO(You Only Look Once)v4’ 아키텍처와 음식 종류를 분류하는 MST++, ResNet-101 인공신경망 모델, 음식량을 측정하는 초분광 이미징 기술 등이 사용된 인공지능 모델로, 음식 섭취 전후 사진을 촬영하면 두 사진의 소금 함량 차이만큼을 판단하는 기술을 개발했습니다. 연구팀은 분당서울대병원에 입원한 환자들이 섭취한 식사 전후...', 'date': '2024.07.18.'}, {'title': 'AI 인공지능 관련주 팔란티어 주가 급등 요인 분석', 'text': \"바로 AI 인공지능 관련주 팔란티어(Palantir, PLTR)입니다. 팔란티어 급등 요인을 분석해 보겠습니다. 팔란티어는 어떤 기업인가요? 회사의 이름인 Palantir는 영화 '반지의 제왕'에 나오는 통신 및 정보 수집이 가능한 마법 구슬에서 착안됐습니다. 회사는 빅데이터 분석 및 솔루션을 제공하는 미국 AI 관련주로, 주로 정부 기관 및 금융, 헬스케어...\", 'date': '2024.08.07.'}, {'title': '인공지능이 변화시킬 미래, 주거환경엔 어떤 영향을 미칠까? 2024 AI EXPO', 'text': \"작년 초, 거대언어모델(LLM)의 상용화를 현실화시킨 Open AI사의 'Chat GPT'는 인공지능이 상용화되었다는 사실을 전 세계적으로 널리 알린 신호탄이었습니다. 그리고 1년 뒤 국내 최고의... 그리고 올해 5월 Open AI사는 'Chat-GPT-4o'를 통해 거대언어모델을 넘어 이미지와 영상도 AI로 콘텐츠화할 수 있고, 이제는 이 인간의 감정까지 읽을 수 있는 무서운 현실을...\", 'date': '2024.06.11.'}, {'title': '데이터 엔지니어 AI 인공지능 개발자 차이', 'text': '인공지능 관련 직업 마케팅, 금융, 제조 그리고 IT기업까지 최근에는 다양한 기업에서 빅데이터 * 인공지능 관련 직렬을 채용하고 있습니다. 또한 각각 기업의 인공지능 성능은 시총에도 많은 영향을 끼치고 있습니다. 데이터 엔지니어 데이터 분석가 개발자 위 3가지는 대표적인 빅데이터 * 관련 직렬입니다. 오늘은 데이터 엔지니어와 ...', 'date': '4주 전'}, {'title': 'AI (인공지능) 관련 주식들은 과연 어떻게 될까? (AI 관련주 전망?)', 'text': '오늘은 요 근래 가장 핫했지만 조금 사그러 들고 있는 AI(인공지능) 관련주 향후 전망에 대하여 포스팅해보도록 하겠습니다. (개인적 의견이니 반박 시 님 말이 맞아요) 내가 생각하는... 반박하실 분들은 님말이 맞아요 ^^ 다들 성공 투자하시길 바라며 AI () 관련 주식들은 과연 어떻게 될까? (AI 관련주 전망?) 포스팅이었습니다. 빠이~ 즐거운 주말 보내세요 ^^', 'date': '3주 전'}, {'title': \"[인공지능 교육] 'ChatGPT를 활용한 업무 효율성 향상 및 보고서 작성법' 실습 강의 진행(10회차)\", 'text': 'ㅣ 주요 강의 내용 ㅣ ● ChatGPT 개요 - GPT / ChatGPT, OpenAI 소개, ChatGPT 주요 기능 - 인공지능의 개념 및 인공지능 학습법 - ChatGPT 변천사 및 초거대 생성형 인공지능 개발 방법론 - ChatGPT 3.5와 4.0, 4o의 차이점 및 사례 분석 - ChatGPT의 한계점 및 개선 방안, 현재 변화된 모습(신규 기능 소개) ● ChatGPT 기본 활용 실습 - ChatGPT 기본 메뉴 구성 및 사용법...', 'date': '2024.08.17.'}, {'title': '경기 침체 대비한 현금 흐름 만드는 방법 : 챗 GPT(인공지능) 활용한 비즈니스 글쓰기에 꼭 알아야 할 것', 'text': '챗 GPT 같은 인공지능이 생활에 필요한 웬만한 것은 거의 다 찾아주는 시대다. 사용해 보면 신문물답다. 정말 편하고, 유용한 도구다. 창업하는 사람이라면 굳이 직원을 채용할 필요가 없을 정도다. 어쩔 수 없이 인원 충원을 하게 되더라도 최소 인력으로 비즈니스를 꾸릴 수 있는 것도 (AI) 덕분인 것은 부인 못할 사실이다. 질문 잘 하는 것도 능력이다. 좋은 답을...', 'date': '2024.08.20.'}, {'title': '[생성형 인공지능] 클로드(Claude) 특징 및 클로그 회원 가입하기(가입방법)', 'text': 'Anthropic은 인공지능 연구 및 개발에 중점을 둔 기술 회사로, 2021년에 설립되었습니다. 본사는 샌프란시스코에 있습니다. 회사의 창립자들 중에는 OpenAI 출신의 연구원들이... 같이 인사와 함께 클로드를 사용할 수 있는 프롬프트 입력창을 볼 수 있습니다. 지금까지 생성형 인 클로드(Claude) 특징 및 클로그 회원 가입 방법에 대해 알아보았습니다.', 'date': '2024.08.09.'}, {'title': '직장에서 쓰기 좋은 AI 챗봇 인공지능 챗 GPT 종류 총 정리!', 'text': '직장에서 쓰기 좋은 AI 챗봇 인공지능 챗 GPT 종류 총 정리! 요즘 인공지능 챗 GPT 등을 많이 사용하고 있습니다. 대학생들이 과제를 할 때 맞춤법이나 개요를 잡아주기도 하고, 직장인들이 업무 관련 파일을 만들거나 메일을 쓸 때에도 챗 GPT가 아주 멋지게 도와주곤 하죠. 챗 GPT의 유용함이 잘 알려진 이후로 여기저기서 AI 챗봇을 출시하고 있는데요. 오늘은 AI...', 'date': '2024.06.07.'}, {'title': '셀바스AI 주가 주식 전망 실적 목표주가 (AI 인공지능 관련주)', 'text': \"바로 인공지능(AI) 투자를 위해 무려 54조원에 달하는 대형 펀드를 조성하고 있는 사우디아라비아 정부가 SK텔레콤에서 AI 사업 확대를 제안했다는 소식이 전해지면서입니다. 셀바스AI는 SK텔레콤에 음성합성 기술을 공급하면서 양사가 공동으로 AI 영상지능 기술인 '셀리OCR'을 개발한 기록이 있습니다. 사우디아라비아 정부는 비전 2030 프로젝트의 목표 중 지식...\", 'date': '2024.08.02.'}, {'title': 'LLM( 생성형) 업무효율화, 업무활용, 인공지능 활용하여 일잘 하는법 71', 'text': '하지만 저는 IFS로 이해하고 있습니다. 이유 설명은 아래 하겠습니다. 최대값 과 최소값 최대값:MAX 최소값:MIN 엑셀에서 자주 사용하지만 잘 모르는 함수 모음으로 설명드렸습니다:) 엑셀의 보석 같은 함수들로 여러분의 업무 효율을 높여보세요! . . . 생성형, LLM, 일잘러, RAG응용, 챗지피티 를 활용해서 프로 일잘러 되기 출간 준비중~~!!', 'date': '56분 전'}, {'title': '[인공지능 개발자] 석사가 아닌 고졸도 취업이 가능한 루트', 'text': '인공지능 개발자 석사가 아닌 고졸도 취업이 가능한 루트 현재, IT 산업에서 가장 주목받고 있는 기술, AI(Artificial Intelligence)는 얼마 전까지만 하더라도, 유용한 기술인 건 맞지만... 하지만, 현재에는 인공지능 관련 프로젝트를 수행하는 과정에서 활용할 수 있는 API, 라이브러리 등이 굉장히 많아졌고, 기술의 수준 또한 높기 때문에 과거에는 AI 프로젝트를 0%부터...', 'date': '2024.06.08.'}, {'title': '경기 김포시에 위한 공장시설 화재감지를 위한 인공지능 cctv설치 후기', 'text': '녹화기에 지능형 영상분석기능 확인 후 서버연동작업 포트포워딩: IP연결 작업 DDNS: 서버에 연결시키는 작업 클라우드서버 연동작업 코덱 및 프레임 설정 작업 등이 정상 작동이 되는지 검수합니다. 고객님께 어플리케이션 사용법을 알려드린 후, 뒷정리를 말끔히 한 다음 돌아왔습니다. 이상으로 화재감지cctv, 화재감지카메라, 연기감지카메라, cctv...', 'date': '2일 전'}, {'title': '인공 지능 개발 플랫폼 1-Enterpise AI Roadmap', 'text': '인공 지능이 등장하면서 어떤 기업/조직도 기회를 놓칠까 노심초사다. 생성적 AI 열기 속에서 상용 앱이 빠르게 확장됨에 따라 고급 모델의 배포/관리를 지원하기 위해... ■ GenAI(생성형 인공 지능)는 AI 개발 환경을 바꾸고 있다. AI 개발 플랫폼은 새로운 것이 아니다. 이미 202년대 초반 기계 학습을 위한 기업용 앱이 대중화에 즈음하여 여러...', 'date': '2024.07.18.'}, {'title': 'ai코인 종류 인공지능 코인 투자 종목 찾고 있다면?', 'text': '빠른USDT교환처리 한국지사를 통한 24시간 한국어 통역 지원 ai코인 종류 인공지능 코인 투자 종목 찾고 있다면? ai코인 종류 인공지능 코인 투자 종목 찾고 있다면? ai코인 종류 인공지능 코인 투자 종목 찾고 있다면? 가상화폐 투자에 흥미를 느끼고 조사하시는 분들께서는 AI 코인이라는 용어를 최소한 한 번은 접해 보셨을 것이라 생각합니다. AI 코인은 현재 가장...', 'date': '3주 전'}, {'title': '중앙도서관 9월 책과 함께 만나다 <인공지능 시대의 책 읽기>', 'text': '[인공지능 시대의 책 읽기] 인공지능시대, 왜 책을 읽어야 하는가 중앙도서관에서 인문학 주제분야의 작가를 초청하여 작품의 이해를 높이는 지식 공유의 장을 마련했습니다! (｡•̀ᴗ-)✧ 중앙도서관에서 만나요! 일시 2024년 9월 27일 금요일 19:00~21:00 장소 시흥시 중앙도서관 다목적실(3층) 장소 시민 50명 진행 이권우 독서평론가 「살아보니, 지능」...', 'date': '2주 전'}, {'title': '인공지능과 코딩으로 꿈꾸던 북튜버 되기', 'text': \"광명도서관 이야기가 있는 코딩 책 읽기를 통해 확장된 사고력과 상상력을 인공지능, 코딩 등의 디지털 기술로 직접 구현해 보는 특색있는 프로그램이 찾아옵니다.... '를 읽은 후 다양한 독후 활동으로 책의 내용을 파악하고 창의적인 생각들로 발전시킨 후 전문 강사의 지도 아래 , 메타버스, 코딩 등의 디지털 기술을 배우게 됩니다. 그리고 이를...\", 'date': '2024.06.21.'}, {'title': '인공 지능 개발 플랫폼 2-Enterpise AI Roadmap', 'text': '기존 인공 지능 개발 플랫폼 시장의 분류와 구성을 보았고 이제 시장으로 변화 흐름을 요약해 본다. ■ 레거시 ML 회사 활력 상실. DataRobot(2012년 설립) 및 Dataiku(2013년... 생성형 인공 지능 기술로 개발에서 큰 도약의 기회로 지축을 흔들고 있다. 기업/조직 내부 작업 프로젝트 종류가 많이 늘어났다. 재래식 개발은 이제 OpenAI, Anthropic...', 'date': '2024.07.19.'}, {'title': 'AI트루스 임백준_작가가 전하는 인공지능 트렌드와 미래예측', 'text': '인공지능,트렌드,미래예측,생성AI,챗GPT,코딩,개발자 안녕하세요. 스위밍입니다. 최근에 회사에서 인공지능 전문가 강연도 들어보고, 재미있는 책들을 접하게 되었는데, 그 중 하나가 AI트루스 였습니다. 책은 표지만 보면 인문학 이야기처럼 보이네요. AI 트루스: 두려움의 시대, 냉철하게 마주해야 할 가장 명확한 진실 저자 임백준 출판 한빛미디어 발매 2024.08.20....', 'date': '3주 전'}, {'title': '2024 비즈업 아카데미 후기 - 생성형 인공지능 업무활용 비법', 'text': '웹디자이너 현재의 인공지능 범용형 인공지능 중심 생성형 인공지능 LLM : 인간의 언어를 이해하고 생성하도록 푼현된 일종의 인공지능 모델 딥러닝 알고리즘과 통계모델링을 총해 자연어 처리 작업을 수행하는데에 사용 사전에 대규모의 언어 데이터를 학습하여 문장 구조나 문법 의미등을 이해하고 생성 멀티모달 ? 텍스트 뿐만 아니라 이미지, 오디오...', 'date': '2024.07.03.'}, {'title': \"[챗GPT 교육] 'ChatGPT 및 생성형 인공지능(AI) 활용 실무 실습 강의 진행(2일 과정)\", 'text': \"전북테크노파크(전주시 소재)에서 ' ChatGPT 및 생성형 인공지능(AI) 활용 실무'에 관한 주제로 2일 강의를 했습니다. 이번 과정은 AI 빅데이터 전문인력 양성사업으로 7층 강의실에서 약 20명의 재직자 및 대학생을 대상으로 진행되었습니다.(집합교육) 모든 수강생분들은 노트북을 준비하여 다양한 생성형 플랫폼에 가입했습니다....\", 'date': '2024.08.06.'}, {'title': '구글 홈미니 네스트 미니 2세대 인공지능 AI 스피커 4년 사용후기', 'text': '현재 인공지능 ai 스피커가 많이 보편화되면서 많은 ai 기술력을 가진 스피커가 많이 나오고 있습니다! 하지만 구글에서 나온 네이스트 미니 2세대를 사용해보면서 솔직한 후기를... 좋은 인공지능 스피커라는 점입니다. 처음에 연동만 잘 해놓으면 음성을 통해 음악도 들을 수 있고 날씨도 물어볼 수 있 검색도 할 수 있고 다양하게 활용할 수 있는 게 바로 구글 홈미니...', 'date': '2024.05.11.'}, {'title': '인공지능&상권분석 전문가 과정 32기를 위한 수강 다짐서 작성하기', 'text': \"인공지능&상권분석 전문가 과정 32기 김영갑 교수입니다. 9월 2일 32기 1주차 수업을 위해 준비한 과정 첫 번째 과제를 공지하여 드립니다. 수강생은 누구나 아래 다짐서를 네이버 카페에서 다운로드 하여 작성후 '수강계획서 게시판' 업로드 해 주셔야 합니다. &상권분석 전문가 과정 32기 실천 다짐서 실천 다짐서를 쓰면 무엇인 좋은가? 다짐서를 과제로 내는 것은...\", 'date': '4주 전'}, {'title': \"[생성형 AI 교육] 대학 교원 대상 '생성형 인공지능의 이해와 사용법' 실습 강의 진행\", 'text': \"한국폴리텍대학 인재개발원(남원시 소재) 직급별 교육에서 폴리텍 대학 교수님(약 20명)을 대상으로 '생성형 인공지능의 이해 및 사용법'에 관한 주제로 실습형 강의를 했습니다. 인공지능(AI) 학습은 교원 리프레스 교육 과정에서 마지막 3일차에 실시되었습니다! 이번 강의는 ChatGPT의 발전 과정과 학습 방법에 대한 이론적 배경부터 시작되었습니다....\", 'date': '2024.07.29.'}, {'title': '인공지능 실시간번역기 놀라운 스캔톡에어 영어전자사전', 'text': '인공지능을 토대로 더 정확하게 인식하는 실시간번역기 스캔톡에어인데요. 어떠한 매력이 있는지 직접 사용해봤습니다. 필자는 테크 관련된 정보를 해외 사이트에서 자주 얻곤 한다.... 이 제품은 타사와 달리 인공지능 내장이 되어 있다. 사용 방법은 다음과 같다. 언어 변환 사용법 원하는 단어나 문장을 Scan한다. Scan한 내용을 디스플레이로 확인한다. 스피커를 통해...', 'date': '2024.08.13.'}, {'title': 'LLM( 생성형) 업무효율화, 업무활용, 인공지능 활용하여 일잘 하는법 70', 'text': '그래서 데이터의 제거 방법중 필터를 활용하면서 데이터 제거 하시는 방법을 추천 드립니다. 이렇게 하시면 데이터 전처리는 완료 되었습니다. 다음 포스팅에서는 엑셀 함수에 대해 살펴보겠습니다. . . . 생성형인공지능, LLM, 일잘러, RAG응용, 챗지피티 를 활용해서 프로 일잘러 되기 출간 준비중~~!!', 'date': '1일 전'}, {'title': 'LLM( 생성형) 업무효율화, 업무활용, 인공지능 활용하여 일잘 하는법 68', 'text': '왜냐하면 우리는 실제 그렇게 높은 수준의 경교함을 요구하지 않기 때문입니다. 이렇게 데이터 전처리 전 박스플롯을 통해 경향성을 파악하고 극단치를 제거함으로써, 데이터의 품질을 높이고 분석의 정확도를 향상시킬 수 있습니다. . . . 생성형, LLM, 일잘러, RAG응용, 챗지피티 를 활용해서 프로 일잘러 되기 출간 준비중~~!!', 'date': '3일 전'}, {'title': '인공지능 & 상권분석 전문가 과정 32기 수업 안내', 'text': '#인공지능상권분석전문가과정32기 성공적인 비즈니스를 위한 필수 도구! 인공지능과 상권분석을 한 번에 마스터하는 단 하나의 기회 인공지능&상권분석 전문가 과정 32기\" 인공지능 & 상권분석 전문가 과정 32기 수업 안내 안녕하세요, 미래의 성공적인 식당 창업자와 경영자를 위한 & 상권분석 전문가 과정 32기 수업에 대한 안내 드립니다. 이번 과정은 당신의...', 'date': '2024.08.13.'}, {'title': '[리더십] \"DEI, 인공지능 · AI는 이미 편향됐다\"', 'text': \"Summary 인공지능 시스템에서 성별 및 인종 편향성이 발견되고 있음 이러한 편향성은 채용, 이미지 생성, AI 비서 등 다양한 분야에서 나타남 전문가들은 이런 편향이... 위한 인공지능과 젠더혁신’ 포럼. 여성신문. 2024. 8. 30. : https://n.news.naver.com/article/310/0000118569?cds=news_edit 한국여성정책연구원 김애라 부연구위원은 서울에서 열린 '성별...\", 'date': '4주 전'}, {'title': '[상식이 ~착] 연구자까지 당황시키는 인공지능의 놀라움', 'text': '아쉽게도 5전 4승 1패로 ‘알파고’의 승리로 끝을 맺었지만, 우리나라의 이세돌 9단은 인류가 마지막으로 인공지능에게 이긴 바둑기사로 기록되었습니다. * 알파고(AlphaGo) : 구글의 딥마인드가 개발한 인공지능 바둑 프로그램 (출처 : 위키백과) 이 대회 이후 바둑과 같은 두뇌 스포츠에서도 의 학습 능력이 인간을 넘어 설수 있다는 사실에 많은 사람들이...', 'date': '2024.07.10.'}, {'title': '6월 ETF 수익률 순위, 미국 빅테크와 인공지능(AI) 반도체', 'text': '인공지능 . 반도체 나스닥 연속 신고가 경신 환율과 함께 치솟는 지수... 증시가 신고가를 지속적으로 갱신하며 새 역사를 쓰고 있습니다. 오르는 지수를 바라보며 신규 진입을... 인공지능(AI) 인공지능 기술과 관련된 기업들, 예를 들어 AI 칩 제조업체, 소프트웨어 개발사, 클라우드 서비스 제공업체 등이 있습니다. 레버리지 ETF 레버리지 ETF는 기초 자산(예: 주식...', 'date': '2024.06.26.'}, {'title': '포토샵 AI 기능 생성형 채우기 사용법, 인공지능 사진 보정 작업', 'text': '인공지능을 활용한 AI 그림이 등장하면서 디지털 이미지를 사용하는 업계는 큰 변화를 맞이했습니다. 당장 저만 하더라도 블로그에 사용할 이미지를 포토샵 생성형 채우기 기능으로... 참고로 생성형 채우기는 포토샵 AI 기반으로 클라우드를 통해 연산처리가 되는 기능이라 인터넷 연결이 필수입니다. 사진 속 사람 지우기 사진을 찍다 보면 의도치 않게...', 'date': '2024.06.25.'}, {'title': '[해외주식] 엔비디아(NVDA), 인공지능 시장 연 40~55% 성장 예상', 'text': '#투자의견 #목표주가 #미국증시 #미국주식 #미국주가 엔비디아(NVDA), 인공지능 시장 연 40~55% 성장 예상 *연합인포맥스* Bain Capital의 David Crawford 파트너는 엔비디아 주가가 아직... “인공지능 관련 하드웨어, 소프트웨어 총 유효 시장은 향후 3년간, 또는 그 이상 연평균 40~55%에 달하는 고성장세를 보여줄 전망이다. ‘27년에는 시장이 7,800억~9,900억 달러로...', 'date': '2일 전'}, {'title': '새로운 AI 시대의 시작 Windows 11 Copilot + PC 인공지능 노트북의 등장!', 'text': '요즘 인공지능 기반 서비스가 유행입니다. 저 역시도 윈도우 및 엣지 브라우저를 통해 코파일럿을 자주 사용하고 있습니다. 무료로 사용할 수 있으면서 그림 생성은... 여느 인공지능 기반 서비스보다 더 많은 기능과 향상된 성능을 제공하는 Copilot+ PC는 앞으로 우리의 PC 사용 경험을 크게 변화시킬 것입니다. 새로운 기능들과 함께 제공되는 뛰어난...', 'date': '2024.06.14.'}, {'title': '디자인에 인공지능 입힌다!', 'text': 'AI 디자인 확산 전략 산업통상자원부가 ▲디자인기업 인공지능(AI) 도입률 50% ▲AI 디자이너 1만명 ▲AI 디자인 혁신기업 500개 달성을 목표로 하는 ‘AI 디자인 확산 전략’을 발표했습니다. 이를 통해 현재 37%인 전 산업 디자인 활용률을 60%로 끌어올리겠다는 계획입니다. 디자인은 산업 혁신의 중추이며 ‘소프트파워’ 경쟁력의 핵심으로 평가받고 있습니다....', 'date': '2024.07.09.'}, {'title': '인공지능 감성 AI로봇 리쿠 리뷰, 가격 미운우리새끼 김승우 로봇', 'text': \"얼리어답터 리뷰/IT정보 인공지능 감성 AI로봇 리쿠 리뷰, 가격 미운우리새끼 김승우 로봇 by 엔돌슨 2024. 5. 22. 인공지능 감성 AI로봇 리쿠 리뷰, 가격 미운우리새끼 김승우 로봇 안녕하세요. 오늘은 국내 최초로 인공지능 감성 로봇으로 인정받은 '리쿠'에 대해 리뷰해보려고 합니다. 최근 방송된 미운우리새끼에서 김승수가 리쿠 로봇을 소개하는...\", 'date': '2024.05.22.'}, {'title': '인공지능융합대학 2024년 공학설계입문 작품전시회 심사 진행', 'text': '인공지능융합대학 2024년 공학설계입문 작품전시회 심사 진행 안녕하세요. 인공지능융합대학 2024년 공학설계입문 작품전시회가 있었습니다. 출강하고 있는 학교에서 작품전시회가 있어 평가 위원으로 참석했습니다. 한 학기 동안 창의설계입문 과목을 통해 디자인 싱킹을 공부하고 아이데이션을 하여 시제품을 제작합니다. 이번 학기에도 다양하고 아이디어 있는...', 'date': '2024.06.08.'}, {'title': 'AI 시대에 주목해야 할 IT 관련 직업 및 인공지능 전문가가 되는 방법', 'text': 'AI 시대에 주목해야 할 IT 관련 직업 및 인공지능 전문가가 되는 방법 최근 몇 년 동안 인공 지능(AI) 기술은 다양한 산업 분야에서 혁신적인 변화를 가져왔습니다. AI는 단순한 자동화 기술을 넘어 인간의 사고와 학습 과정을 모방하고 더욱 뛰어난 성능을 발휘합니다. 이러한 변화는 IT 고용 시장에도 큰 영향을 미치고 있습니다. 앞으로 AI 기술이 기존 일자리를...', 'date': '2일 전'}, {'title': '인공지능 서빙로봇 애완로봇 강아지 아이보 백터', 'text': '인공지능 서빙로봇 애완로봇 강아지 아이보 백터 안녕하세요. IT/테크 인플루언서 아전입니다. 이번 시간에는 인공지능과 과학 기술의 발전으로 우리 생활 속에서 점점 더 많이 만나게 되는 서빙로봇과 애완로봇에 대해 이야기해 볼까 합니다. 요즘 식당에서 자주 볼 수 있는 서빙로봇부터 집에서 키울 수 있는 애완로봇과 장난감 백터로봇까지 까지 특징에 대해 자세히...', 'date': '2024.07.24.'}, {'title': '인공지능과 함께 디지털 인재로! AI, 학교 수업에 들어오다!?', 'text': '2022년 초·중등학교 교육과정 총론에서는 인공지능 기술 발전, 사회적 문제 해결을 위한 협력, 학생의 특성과 진로를 고려한 맞춤형 교육 수요 상승 등을 변화된 모습으로 보고... _AI와 인공지능 리터러시 인공지능 리터러시는 기술을 이해하고 적절하게 활용하는 능력을 의미합니다. 디지털 대전환 시대에 살고 있는 우리는 산업 전 분야를 넘어...', 'date': '2024.03.26.'}, {'title': '[인공지능 상권분석 전문가과정 32기 수업의 목표] AI로 소상공인의 진화, 사피엔스 경영자로 거듭나기', 'text': '#인공지능상권분석전문가과정32기 인공지능을 활용하면, 소상공인은 수십 명의 전문가 비서를 365일 24시간 무료로 부릴 수 있는 놀라운 힘을 얻게 됩니다. AI로 소상공인의 진화, 사피엔스 경영자로 거듭나기 21세기는 기술의 시대, 그리고 변화의 시대입니다. 우리는 매일 새로운 기술의 등장과 혁신을 목격하고 있으며, 그 중에서도 (AI)은 이제 단순한 미래...', 'date': '2024.08.18.'}, {'title': '인공지능의 주식 시장 지배력은 언제까지 이어지나', 'text': 'AI 주식 시장 지배력 © heinrich_boll, 출처 Unsplash 인공 지능 주식은 엔비디아, 마이크로소프트 등이 시장을 새로운 기록으로 이끌면서 상승세를 타고 있습니다. 하지만 골드만삭스는 이러한 기업들이 높은 밸류에이션을 유지하려면 결국 막대한 지출 후 보여줄 무언가가 있어야 한다고 말합니다. 골드만삭스는는 아마존, 메타, 마이크로소프트, 알파벳이 지난...', 'date': '2024.07.14.'}, {'title': '인공지능시대 직장인의 업무 스킬 변화', 'text': '인공지능(AI) 시대에 직장인의 업무 스킬은 빠르게 변화하고 있으며, 이러한 변화는 기술의 발전에 따라 업무 환경과 요구되는 역량이 달라지고 있음을 반영합니다. 특히, 인공지능 서비스를 활용하여 업무 시간이 점점 단축되고 있고 이러한 편리성을 통해서 조직에서도 과 관련한 기술을 직원들에게 교육하는 일도 늘어나고 있습니다. 그렇다면, 직장에서는...', 'date': '3일 전'}, {'title': '라즈베리파이 5로 배우는 AI 인공지능 자율주행 자동차', 'text': '우리는 인공지능 시대를 살고 있습니다. 매체를 통해 다양한 인공지능 서비스가 소개되는데요. 코딩에서도 인공지능은 중요한 분야이기도 합니다. 초등학교 중학교에서 코딩을 가르치다보면 인공지능에 대한 수요에 있는데요. 막상 수업을 시작하려면 마땅한 교보재를 찾기 힘든데요. 도움이 되실 것 같아서 오늘은 앤써북에서 출간한 라즈베리파이 5로 배우는 AI...', 'date': '2024.07.08.'}, {'title': 'AI, 일상에 물들다. AX(인공지능 전환) 시대', 'text': \"하지만 챗GPT와 같이 기존 인공지능들과 차원이 다른 모습을 보여주는 인공지능이 등장하면서, DX를 넘어 AX(AI Transformation) 시대로의 전환이 필요하다는 목소리가 점차 나오고 있습니다. © 픽사베이 정부도 이러한 AI 트렌드의 변화를 인지하고, AI 일상화 시대를 앞당기기 위해 2024년 9,090억 원을 투입해 '대한민국 도약 방안'을 발표한 바...\", 'date': '2024.04.03.'}, {'title': '앱테크 어디까지 발전할까? 인공지능과 앱테크', 'text': '인공지능과 앱테크 현대 사회에서 스마트폰은 단순한 통신 수단을 넘어, 생활 전반에 깊숙이 스며들어 있습니다. 그 중에서도 특히 주목받는 것은 바로 \"앱테크\"입니다. \"앱\"과 \"재테크... 그런데, 앱테크는 단순한 용돈벌이에 그치지 않고, (AI)과의 결합을 통해 더욱 진화할 전망입니다. 이번 포스팅에서는 앱테크가 어떻게 발전하고, 미래에는 어떤 모습으로...', 'date': '2024.08.26.'}, {'title': '[도서] 무기가 되는 생각법 : 인공지능 시대, 이를 뛰어넘는 인간만의 무기는 무엇일까?', 'text': '인공지능 AI 기술이 실용화되기 시작하면서 이제는 공상영화에서나 등장하던 인간의 자리를 대체한 인공지능 로봇의 이야기가 더 이상 허황된 이야기라고는 할 수 없는 시대가... 책의 목차를 살펴보니, AI 시대에서 살아남을 수 있는 인재와 저자가 들려주는 인간 지능 문제 해결 프로세스에 대한 내용들을 차례대로 알려주는 모습을 볼 수 있었습니다^^ 몇십 년 전만...', 'date': '2024.08.06.'}, {'title': 'LLM( 생성형) 업무효율화, 업무활용, 인공지능 활용하여 일잘 하는법 67', 'text': '그럼 다음 포스팅에서 데이터를 전처리 하는 방법을 그리고 경향성 보는 방법을 설명 드리겠습니다. 다소 난이도가 예상되나 데이터를 읽는 방법을 익숙하게 하시면 그 다음은 너무 쉽습니다. 그러니 따라 하시면 됩니다. . . . 생성형, LLM, 일잘러, RAG응용, 챗지피티 를 활용해서 프로 일잘러 되기 출간 준비중~~!!', 'date': '4일 전'}, {'title': '[인공지능&상권분석 전문가 과정 32기] AI로 성공하는 식당의 패턴을 분석한 결과?', 'text': '인공지능&상권분석 전문가 과정 32기 수업은 이렇게 시작합니다. 어떻게 해야 성공할 수 있을까? 전 세계 지식의 대부분을 학습한 인공지능은 성공의 패턴을 알고 있습니다. 성공하는 식당의 패턴에 대한 분석은 외식경영에서 매우 중요한 주제입니다. 이를 바탕으로 각 요소를 조금 더 깊이 살펴보겠습니다. 1. 전략이 있다 성공하는 식당은 명확한 경영 전략을 가지고...', 'date': '4주 전'}, {'title': '2024년 9월24일 국내증시, 코스피 코스닥 동반 상승 마감, 인공지능(AI) 교과서 도입 관련주...', 'text': '정부의 인공 혈액 기술 확보 속에 주관 기업 선정 소식에 상한가를 기록하였다 4. 밸류업 관련주인 에프앤가드 경영권 분쟁 소식에 이틀 연속 상한가를 기록하였다 (화천기계, 화천기공, 서암기계공업 등) --------------------------------- 참조만 하시기 바랍니다. 지능형로봇/(AI) 테마 - 반도체 (AI반도체) 관련주에 대한 내용입니다. 3....', 'date': '2일 전'}, {'title': '텔레그램 딥페이크 관련주 대장주 인공지능 성범죄', 'text': '인공지능(AI) 기술을 활용하여 텔레그램은 물론 트위터, 페이스북 등 다양한 SNS에서 해당 범죄가 발생되며 현재 엄청난 사회적 문제로 작용하고 있기 때문이다. 방심위, 국민의힘... 딥페이크(Deepfake)는 Deep Learning 및 Fake의 합성어로 에게 꾸준한 합성을 통해 가짜 영상 또는 이미지를 만드는 기술이다. 출처 : 법제처 국가법령정보센터 해당 딥페이크...', 'date': '4주 전'}, {'title': '인공지능의 시대: 2016년의 붐과 그 이후 #AI강의', 'text': \"영화 속 인공지능 '사만다'의 목소리는 스칼렛 요한슨이 맡았죠. 영화의 결말은 주인공이 '사만다'에게 깊은 애정을 품게 되지만, 결국 사만다가 업그레이드되어 그를 떠나버리는 이야기로 마무리됩니다. 이 결말은 인공지능이 인간과의 관계에서 어떻게 행동할지를 생각하게 만듭니다. 이 영화는 과 인간의 관계에 대한 많은 시사점을 던집니다....\", 'date': '2024.06.15.'}, {'title': \"정재승 교수 특강, '인공지능로봇 시대, 다음세대의 교육을 성찰하다' 강연\", 'text': \"로봇, 그다음은', '인공지능은 인간을 어떻게 바꾸어 놓을 것인가', '4차산업혁명과 기술의 미래' 등 4차산업, 미래, 미래기술, 로봇, 미래사회, 과학, 뇌과학, 교육, 자녀교육 등에 관련된 다양한 주제로 특강(강연)을 진행하십니다. 주요저서로는 <살아보니, 지능>, <열두발자국>, <과학콘서트> 등이 있습니다. 정재승 교수님의 특강(강연)이 궁금하시면?? 호오컨설팅으로...\", 'date': '2024.07.02.'}, {'title': '생성형 인공지능 AI 종류 및 활용사례 분석', 'text': '생성형 인공지능 AI 종류 및 활용사례 분석 - 네이버 IT/테크 인플루언서 챠콜 - 1. 개요 안녕하세요. 네이버 IT/테크 인플루언서 챠콜입니다. 생성형 인공지능(Generative AI)은 최근 AI 기술의 발전 중에서 가장 주목받는 분야 중 하나입니다. 이 기술은 새로운 데이터를 생성하거나 기존 데이터를 변형하는 능력을 가지고 있으며, 텍스트, 이미지, 음악 등 다양한...', 'date': '2024.07.21.'}, {'title': 'SKT, MNO AI 플랫폼 구축 및 인공지능 적용 사례', 'text': '이외에도 SKT의 인공지능 적용 사례를 살펴보면 고객센터에도 인공지능기술을 적용해 이용자의 고유 음성 판별, 간단한 음성만으로 추가 절차 없이 본인을 인증하는 기술로 고객센터 상담 및 대기 시간을 단축하였습니다. 또한, 작년 A. (에이닷) 정식 출시 후 소개한 A. 전화는 이 통화 내용의 맥락을 분석하고 통화 유형과 요약을 제공해 주는...', 'date': '2024.07.09.'}, {'title': '[블룸에너지] 인공지능 때문에 천연가스가 필요하다?', 'text': '시장의 모든 관심이 인공지능에 몰려있습니다. 에너지 섹터역시 마찬가지입니다. 앞으로 증가하는 데이터센터에 태양광, 풍력, SMR, 수소 등등 어떤 전력원이 사용될지 초미의... 대부분 태양광, 풍력, 원자력이 인공지능의 수헤를 볼 수 있다고 주장하는데, 의외로 천연가스가 수혜를 볼 수 있을지 면밀하게 업데이트 해야겠습니다. 2Q24 블룸에너지 어닝콜 정리...', 'date': '4주 전'}, {'title': '인공지능 AI챗봇 챗GPT 한글, 그림 사용법', 'text': '인공지능 기술의 발전으로 챗GPT가 주목받고 있다. 다양한 분야에서 활용되고 있는 AI챗봇인만큼, 당연히 한글로 대화하고 그림을 그리는 기능도 갖추고 있다. 하지만 사용법을 모르면 제대로 활용하기 어렵다. 이에 챗GPT의 한글 사용법과 그림 생성 방법을 준비했다. 본문을 참고해 익혀보시길! ✓ 한글 사용법 ✓ 그림 사용법 한글 사용법 챗gpt사용법의 첫 번째는...', 'date': '2024.07.06.'}, {'title': 'LG전자 캠페인 인공지능 AI 스마트홈 스마트라이프솔루션', 'text': 'LG전자 캠페인 스마트라이프솔루션 인공지능 AI 스마트홈 안녕하세요. IT/테크 인플루언서 아전입니다. 오늘은 LG전자가 제시하는 새로운 미래가 담긴 기업 캠페인 영상에 대해... AI홈 솔루션 마지막으로, AI홈 솔루션은 LG전자가 자랑하는 공감지능(AI) 기술을 바탕으로 고객을 이해하고 최적의 공간 솔루션을 제공하는 영역인데요. LG 씽큐 플랫폼을 통해 축적된 실생활...', 'date': '2024.08.19.'}, {'title': '어린이 인공지능 체험 수업 연제 도서관', 'text': '연제도서관의 어린이 인공지능 체험수업이 시작되었습니다. ↓ 공고 안내글 ↓ https://blog.naver.com/asdf200162/223553827160 조금 일찍 도착하여 도서관을 둘러봅니다. 좋은 책도 많아서 종합자료실에 다 같이 앉아서 읽어보고요. 하반기 독서문화 강좌에는 어린이 체험 외에도 생각을 키우는 문해독서 와 인문학으로 한국사 읽기가 있네요. 이번...', 'date': '3주 전'}, {'title': '체세포분열과 인공지능의 만남', 'text': '인공지능과의 만남 이러한 생명현상을 이해하고 관리하는 데 인공지능 기술이 큰 역할을 하고 있어요. 생명과학 분야에서는 세포가 어떻게 나뉘고 성장하는지 연구하는 데 엄청난 양의 데이터를 사용하죠. 이때 인공지능은 이 복잡한 데이터를 분석하고 문제를 예측하거나 해결하는 데 도움을 준답니다. 예를 들어, 암과 같은 문제를 조기에 발견하는 데 이...', 'date': '3일 전'}, {'title': 'AI 상담 서비스 인공지능 챗봇 고객센터 클라우드게이트 프로모션 정보', 'text': '인공지능 기술이 발전하면서 이는 고객 상담 분야에도 큰 영향력을 가져왔습니다. 사람이 직접 상담을 하던 과거와 달리 학습된 AI 솔루션을 통해 고객 응대를 하는 기업들이 많아지고 있죠. 앞으로도 인공지능 분야로는 지속적인 발전이 예상되기에 솔루션 사용은 꼭 필요해지는 상황인데요. AI 상담 고객센터 대행에 괜찮은 클라우드게이트 AI 서비스 및...', 'date': '2024.05.30.'}, {'title': 'AI하면 데이터&슈퍼컴! KISTI, 2024 실용인공지능 컨퍼런스 참가', 'text': \"2024년 6월 27일 대전컨벤션센터에서 '2024 실용인공지능 컨퍼런스(AAiCON)'가 개최됐습니다! KISTI는 본 컨퍼런스의 공동주최기관으로 참가해 <초고성능컴퓨팅 & 인공지능 활용>이라는 발표 세션을 주관했습니다. 세션에서는 KISTI 슈퍼컴퓨팅인프라센터의 이국화 박사, KISTI 데이터연구팀의 김은희 박사, 인텔코리아의 나승주 상무, 카카오모빌리티의...\", 'date': '2024.06.27.'}, {'title': '인공지능 대학원 진학과 AI취업 선택의 갈림길', 'text': 'AI대학원 국내에서도 약 10곳의 인공지능 대학원과 4곳의 인공지능 융합 혁신 대학원, 4곳의 인공지능 융합 연구 센터가 운영되고 있습니다. 그중에서도 아래 10곳의 AI대학원에 진학하고자 하는 학생이 가장 많습니다. 과기대 광주과기원 성균관대 카이스트 포항공대 연세대 울산과기원 한양대 서울대 중앙대 대학원에 진학하고자 하는 근본적인 이유는 AI...', 'date': '4주 전'}, {'title': '한컴독스AI 한컴오피스에 인공지능이 더해진 베타 버전 실제 사용 후기', 'text': '그리고 지금 굉장한 이슈이며 앞으로도 우리의 삶에 엄청난 영향을 가져올 인공지능을 한컴오피스에 도입하면서 한컴독스AI 베타 버전이 오픈되었습니다. 개발 관련 소식을 들었을... 우선 기존에 사용하던 한컴오피스에서 기능이 새롭게 더해진 것이기 때문에 익숙한 환경에서 작업을 시작할 수 있었고, 새롭게 소프트웨어 활용에 대한 공부를 하지 않아도...', 'date': '2024.07.05.'}, {'title': '[사람인X유데미] AI 국민 자격증 14일 완성 클래스 듣고 인공지능 활용 능력 자격증 따세요!', 'text': '날이 갈수록 중요해지는 인공지능(AI) 활용 능력! 이용자들의 AI 능력 향상을 위해 사람인과 유데미가 만났습니다 바로, AI 활용 능력 검증시험 *AICE Basic 합격을 위한 AI 국민 자격증 14일 완성반 클래스를 시작한건데요! * AICE: KT가 개발한 국내 최초 AI 민간 자격증 # 신청 기간 2024년 8월 14일 ~ 8월 28일 AI 활용 능력이 모든 직무에서 유용한 역량으로...', 'date': '2024.08.21.'}, {'title': 'AI학원 인공지능 개발자 취업 어려운 이유', 'text': '생성형 AI 출현 과거 인공지능을 돕거나 데이터 분석을 통해 가치를 창출하는 분야로 여겨졌습니다. 화가, 작가, 코딩 같은 창작의 영역은 사람의 영역이라고 생각했죠. 그러나 생성형 AI 등장으로 인공지능이 창작을 하는 시대가 열리며 AI학원에 대한 관심도 높아지고 있습니다. [생성형 AI 활용 분야] 자연어 처리(텍스트 생성) 이미지 생성 오디오 생성 비디오...', 'date': '4주 전'}, {'title': '복지 서비스에도 활용되는 인공지능(AI)', 'text': \"다양한 복지 서비스에 인공지능(AI)이 활용되고 있습니다. 인공지능이 안부 전화를 거는 'AI 노인 말벗 서비스'를 비롯해 발달장애인 돌봄에도 인공지능(AI) 기술이 적용되고, AI로 전력·통신사용량 감지해 1인가구의 고독사를 예방하기도 하는데요. 복지 서비스에 활용되는 (AI)의 활용 사례를 윤커뮤니케이션즈와 함께 살펴보세요! 이 안부 전화 거는...\", 'date': '2024.06.14.'}, {'title': '챗GPT 관련주로 본 인공지능 투자 전략 Open AI 전망', 'text': '최근 인공지능 기술의 급격한 발전과 함께 챗GPT는 투자자들 사이에서 큰 관심을 받고 있다. 특히 OpenAI가 발표한 GPT-4o는 인공지능의 새로운 시대를 여는 중요한 전환점으로 평가받고 있다. 이 글에서는 챗GPT 관련주를 중심으로 투자 전략과 Open AI의 미래를 살펴보고자 한다. 초보 투자자들이 투자에 접근할 때 유용한 정보를 제공하는...', 'date': '2024.05.22.'}, {'title': 'AI 인공지능 벤치마크 긱벤치 AI 공개, 기능 및 특징 분석', 'text': 'AI 인공지능 벤치마크 긱벤치 AI 공개, 기능 및 특징 분석 - 네이버 IT/테크 인플루언서 챠콜 - 1. 개요 안녕하세요. 네이버 IT/테크 인플루언서 챠콜입니다. 스마트폰과 컴퓨터의 성능을 측정하는 대표적인 벤치마크 도구인 Geekbench가 이제 (AI) 성능 평가에 나섰습니다. Geekbench AI라는 새로운 벤치마크가 도입되며, 처리 성능을 측정하고...', 'date': '2024.08.16.'}, {'title': '대전인공지능학원, 인공지능의 미래 함께하는 여정', 'text': '- 딥러닝: 인공신경망의 원리와 활용 방법, TensorFlow와 PyTorch 사용법. 3) 고급 과정 - AI 프로젝트: 실제 문제 해결을 위한 팀 프로젝트 진행. - AI 윤리: 인공지능의 사회적 책임과 윤리적 문제에 대한 논의. 5. 실무 경험과 네트워킹 기회 대전 학원은 이론 교육뿐만 아니라 실무 경험도 중요하게 생각합니다. 학생들은 다양한 프로젝트에 참여하고, 현업에서...', 'date': '3일 전'}, {'title': 'AI 음원 제작 유튜브 쇼츠 틱톡 음악 MixAudio 인공지능 기반 믹스오디오', 'text': \"AI 음원 제작 유튜브 쇼츠 틱톡 음악 MixAudio 인공지능 기반 믹스오디오 안녕하세요. 사진&IT 크리에이터 자유분방입니다. 요즘은 AI 인공지능을 활용하여 다양한 것들을 할 수 있는 세상입니다. 얼마 전 포럼에서 AI를 기반으로 한 음악 제작에 대한 내용을 보고 참 신기하다고 생각을 했었는데요. 이번 글에서는 KAIST MAC Lab 출신 AI 음악 기술 스타트업 '뉴튠'의...\", 'date': '2024.07.15.'}, {'title': '국내 ai 관련주 전망, 인공지능 주식 top3', 'text': '오늘은 국내 ai 관련주 전망, 인공지능 주식 top3에 대해 알아보겠습니다. 미국 빅테크들의 인공지능 투자 확대 소식이 불거지면서 국내에서도 ai 관련주가 강세를 보이고 있습니다. 안그래도 요즘 계속해서 인공지능에 대한 여러 가지 시스템들이 공개가 되면서 많은 관심이 쏠리고 있는데요. 관련주들에는 어떤 것들이 있는지 살펴보도록 하겠습니다. 국내 ai...', 'date': '2024.05.01.'}, {'title': '(문화예술내일)문화예술관점 인공지능 생태계 이해', 'text': '영화의 주인공은 누구이며 줄거리는 어떻게 되고 러닝타임은 얼마이고 몇년도 제작된 건지 하는 영화의 주요 핵심 정보를 뽀아내는 건, 영화 메타데이터인데, 이는 과거에 인간이... 인공지능이란 인간의 지능을 모사하는 것. 이 강좌를 듣고 나면 모든 예술활동은 으로 얼마든지 가능한 것처럼 느껴진다. 하지만 관련 분야에 상당한 지식이 없으면 쉽지...', 'date': '5일 전'}, {'title': '인공지능 발명자의 특허, 대국민 설문조사', 'text': \"인공지능(AI) 기술의 급격한 발전으로 발명의 과정에서 AI활용이 증가하는 가운데, AI를 발명자로 표시한 국제특허출원이 등장했습니다. 인공지능 발명 국제특허출원(’20. 3. 12. 국내출원) 미국의 인공지능 개발자 스티븐 테일러가 '다부스(DABUS)'라는 이름의 을 발명자로 표시한 국제특허출원으로, 한국을 포함하여 16개국에 출원하였으며, 출원인은 이...\", 'date': '1주 전'}, {'title': '[인공지능] 당신의 뇌를 바꾸시겠습니까? (EBS 지식채널, 머스크의 개발)', 'text': '인간 vs 인공지능대비 일론 머스크의 도전(BCI 개발) 지금 인류 최고의 관심사는 인공지능(AI, Artificial Intelligence) 개발. 이세돌과 AI 바둑대결 인류 수준의 학습능력, 문제해결능력을 넘어 창의적 사고까지 만들어낼 것이라는 기대감은 우리보다 나은 인류를 지배할 수 있을만큼 빠르게 발전하고 있는 #개발 #발전 에 대한 경계감 이미...', 'date': '2024.05.25.'}, {'title': '한글과컴퓨터가 론칭한 인공지능 AI 뉴스레터 구독해 보니', 'text': \"OpenAI가 세상에 선보인 ChatGPT를 신호탄으로 인공지능을 활용한 다양한 서비스가 빠른 속도로 등장하고 있다. 전 세계가 미래 먹거리로 부상한 AI에 모든 역량을 투자하고 있기에... 최신 인공지능 트렌드와 국내에는 잘 알려지지 않은 일상 속 도움이 되는 AI 소식을 깔끔하게 정리해서 격주에 한 번씩 발행한다. 이는 국내 오피스 프로그램 기업인 '한글과컴퓨터(한컴)...\", 'date': '2024.04.17.'}, {'title': '[종목분석] 우리기술 인공지능 로봇 방산주 원자력발전 관련주 주가 목표가 주식 전망 원전', 'text': '동사는 인공지능 로봇 방산주 원자력발전 관련주입니다. 최근 동사가 소폭 강세를 보여주면서 주목받았는데요. 본 글은 주가 목표가 주식 전망 원전 정보에 대해 알려... 여기까지 우리기술 인공지능 로봇 방산주 원자력발전 관련주 주가 목표가 주식 전망 원전에 대해 알려 드렸습니다. 본 글은 주식 투자 권유 목적으로 작성된 글이 아닙니다. 투자 손실의...', 'date': '2024.07.18.'}, {'title': '2024.09.03 인공지능 아비투스', 'text': '그런데 우리는 곧 몇 초 안에 과학적인 근거에 기반한 정확한 답변을 내줄 수 있는 인공지능을 만나게 됩니다. 생각이 이어지다 보니 마음이 다시 조급해지기 시작합니다. 더 많이 공부해야 겠고 인공지능을 잘 활용해야 겠구나. 아비투스라는 말을 좋아합니다. [리뷰&발췌] 아비투스 (도리스 메르틴) - 부자의 품격 https://blog.naver.com/bibimgugsu/222243460404...', 'date': '4주 전'}, {'title': '이슈브리프 | 인공지능 윤리(AI Ethics) : 인간과 인공지능의 조화로운 공존 방안', 'text': '<KISTI ISSUE BRIEF : 인공지능 윤리(AI Ethics)> 인공지능(AI) 전환 시대로 진입하면서 AI는 일상생활과 산업 전반에 걸쳐 혁신적인 변화를 가져오고 있다. 하지만 AI의 급격한 진보는 윤리적, 기술적 문제를 동반하며 전문가들은 AI의 위험성에 대해 경고하고 있다. 이에 따라 세계 각국 정부와 기업은 AI에 의한 위험과 부작용을 방지하기 위해 AI 윤리 원칙과 법...', 'date': '2024.07.02.'}, {'title': \"'KT 인공지능 자격증 단기 취득반' ️ 교육생 모집\", 'text': '강남구 KT 인공지능 자격증 단기 취득반 교육생 모집 신청기간 2024년 5월 29일 ~ 6월 11일 13:00까지 신청대상 강남구 거주 미취업 청년 (19세~39세) 교육기간 6/24(월)~7/5(금), 매주 월-금 10시-18시 교육장소 충현교회 제3교육관 (강남구 논현로98길 22) 교육과정 자격증 취득 교육(KT AICE Basic 과정) ✔️비전공자도, 문과생들도 쉽게 도전 가능한 Basic 과정...', 'date': '2024.05.31.'}, {'title': '과기정통부, 인공지능-반도체 전략 구상 연구개발 현장 점검', 'text': '방문하여 인공지능(AI)·디지털 분야 연구자들과 소통하고 AI, AI반도체 등 이니셔티브 관련 R&D 추진현황을 점검하였습니다. 이번 방문은 지난 4월 9일 윤석열 대통령의 AI-반도체 이니셔티브 추진 방향 제시 이후 정부가 최근 발표한 게임체인저 기술 분야의 이니셔티브 실현을 위한 ETRI의 연구개발(R&D) 현황을 살펴보고, 지난 5월에 열린 AI 서울 정상회의에서 다룬...', 'date': '2024.06.17.'}, {'title': '갤럭시 북4 Pro 인텔® 인텔AI PC 인공지능 업무용 노트북 추천!', 'text': '대부분 온라인을 통해 이용할 수 있었던 인공지능 서비스를 온라인뿐 아니라 오프라인에서도 이용할 수 있는 건데요, 인텔® 코어™ Ultra 프로세서에 탑재된 AI연산 전용... 실내공간, 외부 활동에서 높은 시인성을 위한 Anti-Reflection 기능이 적용되어 선명하고, 깨끗한 화면을 만나볼 수 있으며, Vision Booster 기능으로 자동 밝기, 지능형 톤 맵핑 등...', 'date': '4주 전'}, {'title': '[32기 드디어 개강] 인공지능&상권분석 전문가 과정 1주차 개강식과 오리엔테이션', 'text': '9월 2일 오후 3시부터 6시까지 3시간에 걸쳐 인공지능&상권분석 전문가 과정 32기 1주차 개강식과 오리엔테이션이 성황리에 진행 되었습니다. 저와 이동수 이사를 제외한 47명의 수강생과 함께 32기의 대장정을 멋지게 시작했습니다. 1부 개강식의 식순은 다음과 같은 순서로 이루어졌습니다. 이동수 이사님의 개회사 이후 상권분석 전문가 과정 총동문회장이신...', 'date': '4주 전'}, {'title': '머신러닝과 딥러닝과 인공지능 ai', 'text': '머신러닝과 딥러닝과 인공지능 ai © possessedphotography, 출처 Unsplash 머신러닝은 인공지능의 한 분야로, 컴퓨터가 데이터를 통해 학습하고 예측할 수 있도록 하는 기술입니다. 기본적으로 머신러닝은 알고리즘을 사용하여 데이터를 분석하고 그 결과를 바탕으로 새로운 데이터에 대한 예측이나 결정을 내리는 과정을 포함합니다. 머신러닝은 크게 세...', 'date': '4주 전'}, {'title': '금리인하 수혜주 AI 인공지능 관련주 : SOL 미국AI소프트웨어 ETF', 'text': '금리인하 수혜주 AI 인공지능 관련주 : SOL 미국AI소프트웨어 ETF 안녕하세요 경제 인플루언서 박몬드입니다. 미국 중앙은행이 드디어 피벗을 시작하면서 기나긴 긴축의 여정이 막을... 종목에 투자하기에는 부담스러운 분들에게 좋은 선택지가 될 것 같습니다. 여기까지 금리인하 수혜주 AI 관련주 : SOL 미국AI소프트웨어 ETF에 대해 알아보았습니다. ▼ &', 'date': '1주 전'}, {'title': '인공지능 관련주 투자 전망 국내외 6곳', 'text': \"AI 음성 비서 'NUGU', 지능형 CCTV 등 AI 기술 기반의 제품 및 서비스를 선보이고 있습니다. 최근에는 자회사 SK쉴더스를 통해 AI 기술 기반의 보안 솔루션 사업을 강화하고 있습니다. 전문가들은 SK 텔레콤이 AI 기술을 통신, 보안, 미디어 등 다양한 분야에 적용하며 성장할 것으로 전망하고 있습니다. 이처럼 국내 주요 IT, 통신, 보안 기업들이 ...\", 'date': '2024.05.30.'}, {'title': '삼성전자 갤럭시북4 프로360 AI 인공지능 노트북 리뷰', 'text': 'AI 인공지능 관련된 기능들을 확실히 쾌적하게 사용이 가능했습니다. 보통 가성비를 생각하여 적당한 사양에서 타협을 보고 구입을 할건데 지금까지 갤럭시북 프로를 구형부터... 키보드의 숫자키는 생산성을 높였고, 상단의 지문인식 전원키는 보안성 강화해서 인가된 사용자외엔 철저하게 배제 해주니 이같은 AI 활용하기 편리한 노트북이...', 'date': '2024.05.29.'}, {'title': '인공 지능 개발 플랫폼 3-Enterpise AI Roadmap', 'text': '마지막으로 기업/조직이 자체 인공 지능 솔루션을 구축하는데 고려할 사항들을 정리해 본다. ■ 기업용 AI 개발의 미래 기존 AI 및 ML 워크로드는 제조 분야의 예측 유지 관리부터 소매 분야의 수요 예측, 금융 서비스 분야의 사기 탐지에 이르기까지 광범위한 기업용 앱을 뒷받침한다. 한편, 생성형 AI는 아직 기업 채택 초기 단계에 있다. Dell COO, Jeff...', 'date': '2024.07.22.'}, {'title': '블로그 자동화프로그램 제작 다운 서로이웃 공감 댓글 인공지능 ai 만들기', 'text': '멘트도 챗gpt 인 인공지능 api 를 이용해 내용을 요약 댓글에 포스팅과 연관된 댓글을 남길수있도록하는게 최종목표입니다.. 아직 물론 베타버전까지도 완성이 안되엇습니다.. 아직 프로그램 레이아웃들도 다듬어야하고.. 결론적인 핵심기능이 정상적으로 작동해야하니까.. 아직 진행형입니다.. 현재까지 작업은 로그인->로그인실패시 수동로그인 푸쉬버튼생성...', 'date': '5일 전'}, {'title': '인공지능 때문에 사라질 직업들, 현실은?', 'text': \"흥미로운 것은 '인공지능 때문에'라는 단서가 붙어 있다는 점입니다. 02 약 8년 전, 인공지능이 아직은 머나먼 미래로만 여겨지던 시점에 우리는 예술, 창작, 심리와 같은 '고차원적'인 정신 활동이 인간의 전유물이자 최후의 보루라 생각했네요. 실제 현실은 어떻게 됐을까요? AI 시대의 초입을 사는 우리는 이제야 봅니다. 재미(?)있게도 2016년 당시 '이 대체...\", 'date': '2024.05.04.'}, {'title': '클로바 스피커 인공지능 AI 스피커 클로바 온', 'text': '네이버의 인공지능 AI 스피커 인데요. 귀여운 디자인과 AI 기술이 탑재 되어 활용성이 좋은 것이 장점 입니다. 그러면 어떤 스피커의 장점이 존재 하는지, 그리고 어떤 기능이 있는지... 음악 재생 부터, 날씨 확인, 일정 관리, 네이버 검색등을 음성으로 제어 할 수 있는 스피커 인데요. 말로 물어보고 대답을 해주기 때문에 어르신들은 말동무처럼 적적할때...', 'date': '2024.07.13.'}, {'title': '인공지능민원상담[뚜봇]..궁금증을 해결하는 또 하나의 방법', 'text': '#대구시인공지능민원상담사뚜봇 #인공지능민원상담뚜봇 #뚜봇 이웃님들 안녕하세여~~ 살다보면 궁금하거나 잘 모르는 것이 있으면 어디서 해결하나요?? 네이버 검색 또는 유튜브 검색하면 왠만하것 다 나오는데 언제부터인가 챗GPT도 생겨 궁금하거나 잘 모르는 것을 질문하면 넘나 잘 알려주는 시대입니다. 챗GPT 많이 사용하는 사람도 있고 그렇지 않은 사람은.....', 'date': '3시간 전'}, {'title': '시니어 스마트폰과 키오스크 활용교육 7회 - 인공지능 개인비서 삼성 빅스비와 갤러리 사진에 글쓰기 등...', 'text': '입추가 지났는 데 무지 더운날~ 오전 10시부터 12시까지 시니어 스마트폰과 키오스크 활용교육 7회 - 송도4동행정복지센터에서 인공지능 개인비서 삼성 빅스비와 갤러리 사진에 글쓰기 등 교육했습니당. 오전 9시 30분 되기 전에 송도 4동 행정복지센터에 도착했어요.^^ 개인비서 삼성 빅스비와 갤러리 사진에 글쓰기 등 챗GPT 아숙업 활용하기 챗GPT 오픈 AI, MS...', 'date': '2024.08.12.'}, {'title': '인공지능(AI) 5단계', 'text': '마치며 오픈AI가 제시한 인공지능 5단계에 대해 알아보았다. 소프트웨어 회사이라서 그런지 지능 측면에 대해서만 다룬 것 같다. 자율에, 물리적인 외양이 인간 모습인 휴머노이드 기술도 발전하면? 아래서 SF는 디스토피아가 많나 보다. 인간 중심 디자인을 해야 하는 이유중의 하나는, 기술의 발전에 비해 인간은 발전하지 않고, 인간의 사회와 제도, 문화...', 'date': '2024.08.17.'}, {'title': '[인공지능 상권분석 전문가 과정 9월 9일 상담일지] 칼국수 전문점 대표님 상담일지', 'text': '#인공지능상권분석전문가과정32기 #칼국수전문점 #매출증대전략 칼국수 전문점 매출 추세분석과 매출액 증대를 위한 전략 상담 일시: 2024년 9월 9일 오전 11시 장소: 스타벅스 선릉세화빌딩점 상담 대상: *****칼국수 대표님 상담 주제: 매출 변동성 문제, 직원 품질 관리, 맞은편 아파트 민원 문제 1. 매출 변동성 문제 개점 이후 꾸준한 상승 추세를 보이던 칼국수 전문점의...', 'date': '3주 전'}, {'title': '[인공지능·AI] LLM 생성과정 : LLM 생성과정을 단계별로 살펴보자', 'text': '모델을 재학습시키거나, 기존 모델의 성능을 향상시키기 위한 추가적인 미세 조정을 수행할 수 있다. - 피드백 수집: 사용자로부터 피드백을 수집하여 모델의 개선점이나 오류를 파악하고, 이를 바탕으로 모델을 지속적으로 개선한다. # #AI #LLM #생성과정 #단계 다른 곳에 이용할 때 저작자의 출처를 밝혀 주세요. 따뜻한 공감과 소중한 이웃은 커다란 힘이 됩니다.', 'date': '1주 전'}, {'title': '콴텍 인공지능이 찾아주는 성장하는 미국주식 투자 방법', 'text': \"인공지능이 알고리즘에 의해 선정해준 미국 주식에 투자한다면 성과가 어떨까요? 성장하는 미국 주식을 찾아 투자하고, 해당 주식을 보유할지 다른 종목으로 변경할지 아니면 비중 조절이 필요한지를 인공지능이 주기적으로 판단해 운용한다면 결과는 어떨까요? 사람이 아닌 알고리즘에 의해 투자하는 것을 '로보어드바이저'라고 합니다. 증권사, 투자일임사...\", 'date': '2024.07.25.'}, {'title': '구글 홈미니 블루투스 인공지능 AI 스피커 네스트미니 비교', 'text': '구글 홈미니 블루투스 인공지능 AI 스피커 네스트미니 비교 안녕하세요. IT/테크 인플루언서 아전입니다. 이번 시간에는 구글 인공지능 스피커 두 가지 모델인 구글 홈 미니 및 네스트 미니에 대해 이야기해 보려고 합니다. 이 두 제품은 블루투스 스피커로 서로 다른 특징을 가지고 있는데요. 어떤 특징이 있는지 자세히 알아보겠습니다. 구글 홈 미니 AI 스피커 구글...', 'date': '2024.07.28.'}, {'title': \".【갤럭시워치 울트라를 '포기'하고, 갤럭시링으로 대체한 이유】《인간의 외로움을 (AI)이 채워줄...\", 'text': '영화 “그녀(Her, 2013)”에서는 인공지능 사만다와 사랑에 빠지는 주인공의 이야기가 나온다. 인간의 외로움을 인공지능이 채워줄 날이 조만간 올 지도 모른다. 주문한 개인용 AI로봇이 도착한 날을 상상해 본다. 포장을 뜯는 순간 충직한 AI로봇 튀어나와 말한다. “오, 주인님, 사랑해요. 어떤 음악을 틀어드릴까요?” “오! 너구나. 분위기 있는 음악 부탁해”...', 'date': '2024.08.17.'}, {'title': '생성형AI, 인공지능 챗봇 활용법 안배우면 망합니다', 'text': '#인공지능상권분석전문가과정32기 #필수시청 아래 유튜브 영상을 꼭 보시기 바랍니다 소상공인 여러분께 필요한 내용으로 정리해 보았습니다. AI 사피엔스와 함께 미래의 변화를... 소형 모델은 빠르게 특화된 영역에서 성능을 발휘할 수 있는 반면, 거대 언어 모델은 더 높은 수준의 이해와 지능을 제공해요. 이 둘은 상호 보완적으로 작용하며, 특정 문제를 해결할 때는...', 'date': '2024.08.20.'}, {'title': '엔비디아 예상주가 미국주식 반도체 인공지능', 'text': '엔비디아 예상주가 미국주식 반도체 인공지능 며칠 전에 놀러 갔다 왔는데, 그 사이에 엔비디아에 무슨 일이 생겼나 보다. 주가가 계속 하락하고 있는데, 이로 인해 국민주 삼성전자... 인공지능 반도체를 긍정적으로 바라본다면 더 높은 주가를 예상할 것이다. 비관론자라면 140불 보다 더 낮은 주식 가격을 제시할지도 모른다. 엔비디아는 미국 주식을 하는 사람이라면...', 'date': '3주 전'}, {'title': '글로벌 IT대란 그리고 엔비디아 인공지능 AI 블랙웰', 'text': \"https://www.instagram.com/itda_king/ 엔비디아 인공지능 AI 블랙웰이 뭐야~?? #엔비디아 #인공지능 #AI #블랙웰이 #가속기용칩 #반도체 #구글 #메타 #마이크로소프트 #오라클 ✔ 인공지능(AI) 가속기용 칩 > 그래픽처리장치(GPU) 칩으로 미국 국립 과학원(NAS)의 첫 흑인 회원으로 통계학자이자 수학자인 '데이비드 해롤드 블랙웰' 이름을 딴 것으로 전해진다....\", 'date': '3주 전'}, {'title': 'KODEX AI반도체핵심장비 ETF 주가 전망, 인공지능 관련주', 'text': 'KODEX ETF 특징 총정리 AI반도체 생산에 꼭 필요한 HBM HBM이란 고대역폭 초고속 메모리의 약어로 고성능 인공지능을 위한 설계에 있어서 필수적인 요소입니다. 최근 HBM 공정에... 최근 1년 그래프 2023년 11월 21일 상장 이후부터 ~ 2024년 8월 30일까지 기준 올해 1월부터 급상승했던 이유는 관련주의 기대감 및 기술 개발로 엔비디아, 마이크로소프트...', 'date': '4주 전'}, {'title': 'AI 관련주 델테크놀로지(DELL) 인공지능 자체는 죽지 않았다.', 'text': 'AI 인공지능, 델 테크놀로지에서 숫자로 찍힌다. 델의 실적 FY25 2분기, 5~7월 기간분을 보면 매출도 늘고 이익률도 아주 좋았다. 특히 AI 서버 출하 금액은 2분기에만 31억달러였고, 수주 잔고는 38억달러였다. 서버가 포함된 유닛들의 매출은 116억달러였고 infrastructure unit은 역대 신고가를 이번에 기록했다. 대부분의 AI 서버 비즈니스는 비교적 작은...', 'date': '4주 전'}, {'title': 'AI부트캠프 인공지능 빅데이터 학원 수료생의 3가지 진로', 'text': '빅데이터 * 인공지능 인공지능과 빅데이터 분야는 밀접하게 연관되어 있습니다. 인공지능 업계에서는 빅데이터 분석을 동시에 빅데이터 업계에서는 인공지능 개발을 요구하는 경우가 많습니다. ① 머신러닝 / 딥러닝 개발자 ② 데이터 엔지니어 ③ 데이터 분석가 수강하는 AI 부트캠프에 따라서 위 3가지 직렬로 취업하게 됩니다. 즉, 원하던 직무와 다르게 취업할 수...', 'date': '2024.08.22.'}, {'title': '포토샵 대용 인공지능 사진 리무버 사용하는 매직 이레이저 사이트', 'text': '하지만 최근에는 인공지능(AI) 기반의 이미지 편집 도구가 등장하면서 누구나 쉽게 이미지를 편집할 수 있는 시대가 되었습니다. 그중 MagicStudio는 포토샵을 대신할 수 있는 AI 사진 리무버로, 간단하게 원하는 부분을 제거하고 편집할 수 있는 사이트입니다. 이 글에서는 MagicStudio의 주요 기능, 사용 방법, 그리고 장점에 대해 소개하겠습니다. MagicStudio는 AI 기술을...', 'date': '4일 전'}, {'title': 'AI 종류 인공지능 직업 개발자 교육 국비지원 취업 내일배움카드 학원', 'text': '오늘은 AI종류 어떤것들이 있는지 인공지능 직업 에 대해서 알아보고 AI 교육 국비지원 수업과정 커리큘럼 강의 강좌 수업 내용까지 알아보려고 합니다 요즘에 인공지능개발자 취업, AI개발자 취업 많이 하시려고 하시는데요~ 파이썬 데이터분석, 딥러닝 기술이 필수여서 이런 부분에 맞게 교육과정을 받을 수 있는지 제대로 알아보고 본인 계획 목적에 맞게 기술...', 'date': '2024.05.25.'}, {'title': '[2024 지역대학연계 늘봄(방과후) 프로그램] 게임을 통해 배우는 인공지능 전문가', 'text': '보드게임을 통한 AI(인공지능)원리 학습하기 1차시에 태블릿PC로 코딩학습을 한 후, 간식과 음료수를 먹으며 쉬는 시간을 가지고, 2차시에는 AI 원리를 보드게임으로 배우는 시간! [AI로보팩토리] 이 보드게임은 AI의 원리중 인공신경망 학습 원리를 간접적으로 체험할 수 있다. 이해력이 빠르거나 추리(추측) 하는 것을 좋아하는 학생들은 2학년부터도 할 수 있지만...', 'date': '6일 전'}, {'title': 'LLM( 생성형) 업무효율화, 업무활용, 인공지능 활용하여 일잘 하는법 66', 'text': '가격을 결정하는 방법을 터득하고 난 이후, 방금 말씀드렸던 소비자의 기호도 측정 방법을 포함하게 마케팅 예측 방법을 포함하여 전부 알아 보겠습니다. 오늘은 소비자 가격 조사 방법 중 인터넷을 활용한 방법과 소비자의 가격 결정 기준 3가지에 대해 알아보았습니다. . . . 생성형, LLM, 일잘러, RAG응용, 챗지피티 를 활용해서 프로 일잘러 되기 출간 준비중~~!!', 'date': '5일 전'}, {'title': '가족의 안전 인공지능기술로 안전하게 씨앤케어 인공지능 홈캠', 'text': '오늘은 부모님이 따로 살고 계시거나 아이를 키우는 육아 가정에서 큰 도움이 될 수 있는 씨앤케어 인공지능 가정용 홈캠에 대해 소개해 드리려고 합니다. 제품의 스펙 씨엔케어 가정용 인공지능홈캠 의 스펙은 다음과 같습니다. 스펙 해상도 : 400만화소 시야각 : 120도 메모리 : 최대 MicroSD 128GB 앱제어 지원 - PTZ, 프라이버시 모드, 양방향 통화 AI기능 : 낙상, 추락 사고...', 'date': '2024.08.05.'}, {'title': '대구AI교육 / 인공지능 빅데이터 분야 교육과정', 'text': '대구AI교육 AI(인공지능)과 빅데이터의 상관관계 AI(인공지능): 기계가 인간과 유사한 방식으로 학습하고 문제를 해결할 수 있도록 하는 기술입니다. 머신러닝, 딥러닝 등이 포함되어 있으며, 자연어 처리, 이미지 인식, 자율주행차 등 다양한 분야에서 활용됩니다. 빅데이터: 방대한 양의 데이터를 의미하며, 이러한 데이터는 구조적 및 비구조적 형태로 존재합니다....', 'date': '2주 전'}, {'title': \"네이버 인공지능 검색 cue:에게 '리봄'에 대해 물었어요\", 'text': '네이버 인공지능 검색 서비스 cue : 대단하네요. 리봄 조연미 대표는 국내 1호 시니어플래너로 시니어들에게 새로운 직업을 제시하고 그들이 주체적인 삶을 살아갈 수 있도록 다양한... 네이버 인공지능 서비스가 리봄을 과하게 홍보해 주고 있네요. 참, 감사합니다. 최근 가장 핫한 (AI) 에게 인정받은 듯 해 더욱 감동이네요. 더욱 열심히 하겠습니다. 리봄교육...', 'date': '4주 전'}, {'title': '인공지능이 친환경 건축 설계까지 한다고?', 'text': \"이러한 문제를 해결하기 위해, 텐 일레븐에서 개발한 인공지능(AI)을 활용한 혁신적인 건축 설계 솔루션 '빌드잇(Buildit)'이 주목받고 있다고 하는데, 어떤 점에서 주목을 받고 있는지 살펴보도록 하겠습니다. 친환경 인공지능 건축 설계 솔루션 ‘빌드잇’ 친환경 건축 설계 솔루션인 ‘빌드잇’은 설계 시 사업성을 먼저 고려하기 때문에 친환경성은 후반에...\", 'date': '4일 전'}, {'title': '인간보다 똑똑한 인공지능의 탄생', 'text': '\" 9.8과 9.12중에 어느 수가 더 커??\" 인간이라면 1초만에 답할 수 있는 문제인데 그동안 인공지능은 이를 잘 풀지 못하는 기본적인 문제다. 이거 때문에 인공지능은 기본적인 추론능력이 딸려서 인간을 능가하기엔 멀었다는 이야기를 많이 했었다. 먼저 GPT 4o 역시 9.12가 9.8보다 크다는 오류를 범한다. 그리고 다음은 GPT-o1 풀이과정에 가장 놀란건 기존...', 'date': '2주 전'}, {'title': '[인공지능·AI] 대규모 언어 모델(LLM)의 핵심 구성 요소', 'text': '이는 번역과 같은 작업에서 유용하다. 8. 위치 인코딩 (Positional Encoding) 트랜스포머 모델은 자연적으로 토큰의 순서를 인식하지 않기 때문에 위치 인코딩을 추가하여 각 토큰의 위치 정보를 제공한다. #인공지능 #대규모 #언어모델 #LLM #핵심 #구성요소 다른 곳에 이용할 때 저작자의 출처를 밝혀 주세요. 따뜻한 공감과 소중한 이웃은 커다란 힘이 됩니다.', 'date': '1주 전'}, {'title': '[주기동] 생성형 인공지능의 현재와 전망 (20240731, 2143)', 'text': '지금 인공지능 기술이 발전을 거듭하여 AI가 인간 사고와 지능에 근접할 수준으로 발전할 가능성도 생각해야 할 것이다. 따라서 인공지능의 저작권이나 창의성을 보호하기 위해서라도 이제는 이들이 법적 지위나 권위를 가질 가능성도 생각해 보아야 한다. 인간은 사건이나 사물을 인지하는 과정에서 감정에 영향을 받게 된다. 반면에 생성형 은...', 'date': '2주 전'}, {'title': '[공부] 준비물 없이 바로 사용가능한 교실 속 인공지능(AI) 교육 _ 과목별 에듀테크 추천', 'text': '(≒지능정보기술) 그렇다면 디지털 기초 소양 함양과 인공지능 교육을 위해 교사에게는 어떤 지원과 노력이 필요할까요? <교사에게 필요한 지원> -다양한 연수 기회와 충분한 시간 -구체적인 가이드 라인 -적절한 디지털 교육 환경과 인프라 조성 <교사에게 요구되는 노력> -디지털, 정보 심화 연수 및 수업 연구를 통해 전문성을 높여 수업의 질 향상...', 'date': '6일 전'}, {'title': '인공지능 시대에 인간의 행복이란(담장 없는 대학, 서대문행복캠퍼스)', 'text': '초지능화 인공지능 기술의 발전으로 기계가 스스로 학습하고 판단하며, 인간의 지능을 뛰어넘는 수준에 도달할 수 있습니다. 융합 다양한 기술들이 서로 융합되어 새로운 가치를 창출합니다. 예를 들어, 인공지능과 로봇 기술이 결합하여 스마트 공장이 구현되고, 빅데이터와 사물인터넷 기술이 결합되어 스마트 시티가 건설됩니다. 4차 산업혁명이 가져올 변화...', 'date': '3일 전'}, {'title': '미국 ETF 반도체 SMH vs 인공지능 AI BOTZ 비교 분석', 'text': '인공지능과 이로인한 수혜를 받는 반도체에 대한 관심이 계속해서 크다. VOO에 대한 글은 아래 글을 참고하자. 이전에도 계속 내가 말하는게 인덱스펀드에 투자하고 나머지는... 반도체를 중심으로 종목이 구성된 미국 주식 ETF SMH와 을 중심으로 종목이 구성된 BOTZ 를 비교 분석해보자. SMH vs BOTZ 미국 주식 ETF ETF.com 결론만 보자면 반도체 관련주인...', 'date': '2024.08.22.'}, {'title': '애플 WWDC 앞두고 주가는 하락 / MS의 인공지능과 Xbox', 'text': \"마이크로소프트는 인공지능 연구개발을 OpenAI에 효과적으로 아웃소싱하고 있다고 말했다. 사티아 나델라의 말은 아니고 Okta의 CEO인 토드 맥키논의 말.... 답인지, 아무것도 확신할 수 없기 때문이다. 인공지능 외에도 Xbox 콘솔 신제품도 공개했다. Microsoft’s Xbox refresh can't compete with its leaked roadmap © billyfreeman, 출처 Unsplash\", 'date': '2024.06.10.'}, {'title': \"[로젠탈 플랜 공개 강의] 생성형 AI 인공지능 교육 '챗 GPT 활용법'\", 'text': \"2024년 9월 로젠탈 플랜 100% 성장 특강 (운영진 특집) 생성형 AI 인공지능 교육 '챗 GPT 활용법' 지난 9월 22일, 로젠탈 플랜 멤버분들을 위해 기획된 [100% 성장 특강] 이 많은 분들의... AI교육 'AI 인공지능 & 챗 GPT 교육' [로젠탈 콘텐츠랩 운영진 공식후기] 생성형 AI 강의 '챗 GPT 활용법' 가을이 성큼 다가온 일요일 저녁 생성형 AI활용에 대한 특강으로 22일...\", 'date': '2일 전'}, {'title': '기보-한국표준협회, 인공지능(AI) 분야 육성에 맞손', 'text': '기보-한국표준협회, 인공지능(AI) 분야 육성에 맞손 - 인공지능 기술기업 발굴하여 맞춤형 지원하기로 협약 체결 - 기술보증기금(이사장 김종호, 이하 ‘기보’)과 한국표준협회(회장 강명수, 이하 ‘협회’)는 12일(목) 기보 서울사무소에서「 기술중소기업 사업화지원 업무협약」을 체결했다고 밝혔다. 이번 협약은 양 기관이 유기적인 협조체계를...', 'date': '2주 전'}, {'title': 'AI 엑스포 인공지능 트렌드 기술 적용 사례 셀바스AI 기업 탐방기', 'text': 'GPT 서비스 시작으로 다양한 인공지능 서비스가 빠르게 성장하기 시작하였습니다. 물론, 일부 아쉬운점이 있었는데요. 스타트 기업 및 론칭 예정에 가까운 사업들이 많다는... 4) CO-Assistance 업무 생산성 SELVAS는 자체적 개발 음성 지능, 필기 지능 솔루션을 개발하였는데요. 복잡한 문서 및 이미지 파일을 텍스트로 전환하는 Selvy OCR, 대화 내용을 기록할 수 있는 Selvy...', 'date': '2024.05.14.'}, {'title': '소원을 빌면 별똥별을 데려다준다고요? 인공지능 인터랙티브 미디어 아트 [소원에게 별을]', 'text': '오늘은 인공지능, 즉 기술의 발전이 우리가 소중히 생각하는 가치에 어떤 영향을 미칠지 질문을 던지는 [소원에게 별을] 전시를 소개합니다. 7월 20일까지 미산 아트스페이스에서... 그런데 만약 인공지능이 그 모든 찰나를 당신에게 가져다준다면? 소원을 빌 수 있는 찰나의 순간을 무한히 제공한다면 우리에게 그런 순간과 소원의 가치가 어떻게 바뀔지, 함께 생각해...', 'date': '2024.07.16.'}, {'title': '인공지능과 생명공학의 만남, 디지털 육종 기술', 'text': '따라서 디지털 육종이라는 것은 유전체 분석 및 인공지능 기술을 활용해 더 효율적으로 원하는 기능을 가진 고품질의 종자를 생산할 수 있는 융합 기술로 볼 수 있습니다. 2024년 10대... 빅데이터와 인공지능 기술의 적용이 아예 없는 0단계부터 육종가의 개입 없이 완전 자동화된 5단계까지 총 6단계로 나눌 수 있습니다. 디지털 육종의 단계별 기술을 자세히 살펴보면...', 'date': '2024.04.27.'}, {'title': '미국 인공지능(AI) 주식은 그만 사야하나?', 'text': '인공지능(AI) 주식들이 상당한 하락세를 겪고 있습니다. AI와 밀접한 반도체 주식이 포함된 VanEck Semiconductor ETF는 7월에 기록한 최고점에서 약 25% 하락했는데요. 그럼에도 불구하고, 여전히 AI에 대해 마냥 부정적으로만 바라보는 것도 쉽지 않는 것이 사실입니다. 현재도 아직 이 AI 기술이 세상을 어떻게 재편할지에 대한 초기 단계만을 보고 있을 뿐이며...', 'date': '4일 전'}, {'title': 'LLM( 생성형) 업무효율화, 업무활용, 인공지능 활용하여 일잘 하는법 64', 'text': '어디에 있는지 모른는 소비자를 대상으로 하는 것이 아닌 어디에 있는지 추정 가능한 집단을 대상으로 하는 방법에 대해 다음 포스팅에서 알아 보겠습니다. \"불특정 다수가 아닌, 추정 가능한 소비자 집단을 대상으로 한 조사로 성공적인 마케팅 전략을 수립해보세요!\" . . . 생성형, LLM, 일잘러, RAG응용, 챗지피티 를 활용해서 프로 일잘러 되기 출간 준비중~~!!', 'date': '2주 전'}, {'title': 'AI발명, 권리는 누구에게? 인공지능 지식재산권', 'text': '인공지능(artificial intelligence, A.I.) 인간의 지적 능력 중 일부 또는 전체를 인공적으로 구현하는 기술 인공지능은 인간의 지능을 대신해서 일을 할 수 있는 소프트웨어나 하드웨어를 모두 포함하는 큰 개념입니다. 기계학습은 기존의 데이터를 분석하여 자체적으로 동작하는 것을 말하는데요. 이때, 기존의 데이터를 만드는 방법에 따라 지도 학습, 비지도 학습, 강화...', 'date': '2024.05.14.'}, {'title': '스마트워크 및 인공지능 활용 방법 무료 강의 안내', 'text': '인공지능 등의 활용법을 익혀서 더 스마트하고 신속한 업무 스킬을 배울 수 있는 과정이 오픈됩니다. IT 특강 [ 스마트 업무 솔루션 ] 일정 : 2024년 6월 15일 토요일 오전 10시 ~ 오후 12시 30분(2시간 30분) 장소 : Zoom(비대면) 강사 : 구기모 수강 대상 : 업무 효율 및 생산성 향상을 원하는 재직 및 구직 여성 강의 내용 : 클라우드와 을...', 'date': '2024.05.22.'}, {'title': 'AI란? 인공지능의 이해와 활용 방법', 'text': '인공지능(AI, Artificial Intelligence)은 기계가 인간의 지능을 모방하는 기술을 의미합니다. 인간처럼 학습하고, 추론하며, 문제를 해결하고 의사 결정을 내리는데 도움을 주는 것입니다. 예를 들어, 스마트폰의 음성 비서나 네비게이션 시스템이 AI의 대표적인 예시이죠. 이런 AI는 주로 머신 러닝(ML)과 딥 러닝(DL) 기술을 기반으로 개발되고 있습니다. 02 의 주요...', 'date': '2024.07.02.'}, {'title': '‘페트라’ 페트병 분쇄기 인공지능 업그레이드', 'text': '페트라는 AI인공지능 재활용 페트병 분쇄기로 22인치 터치 스크린 모니터를 장착하여 지역의 공익 광고 송출 및 캠페인 홍보 효과에도 기여한다. 페트라 파쇄기 사용 순서로는 페트병 투입→AI자동분류→파쇄→포인트 보상→저장→불량(이물질)강제 배출→회수 및 재투입 사용된다. 앞으로 (주)이시 페트라 파쇄기는 쇄신 AI 자원의 재활용과 자원 순환환경...', 'date': '3일 전'}, {'title': 'AI 인공지능 챗봇 덴탈케어 플랫폼 덴트온 치과 구환관리 구인난OK', 'text': '와이즈에이아이는 2020년 설립된 인공지능(AI) 전문 플랫폼 기업으로 최근 치과 병의원에 특화된 AI 코디네이터 덴탈케어 덴트온을 런칭하였으며 덴트온을 중심으로 인공지능 기반의 메디컬 케어, 홈페이지, 인터넷 전화, 고객센터, 챗봇 플랫폼들을 개발 및 운영하고 있습니다. 덴트온은 (AI)가 직원 대신 전화와 챗봇으로 고객과 직접 소통하며 관련된 건강보험...', 'date': '2024.08.15.'}, {'title': '블로그수익화, 생활 속 인공지능의 활용과 사례', 'text': '스마트홈, 스마트폰, 고객 상담 서비스, 블로그 운영 등 다양한 분야에서 인공지능이 활용되면서 편의성과 효율성이 향상되고 있습니다. 앞으로도 인공지능, 특히 짢인공기능 기술의 발전과 더불어 우리의 생활은 점점 더 편리해질 것으로 기대됩니다. 경제적자유가 온누리에 가득찰 때 까지,, 모두 파이팅!! 이상 가치보자 [ 소리세 sonise ] 입니다', 'date': '2024.07.19.'}, {'title': '인공지능 데이터 분석을 위한 트랜스포머로 시작하는 자연어 처리', 'text': '인공지능 데이터 분석을 위한 트랜스포머로 시작하는 자연어 처리 안녕하세요. 오늘은 딥러닝과 자연어 처리에 관심 있는 실무자를 대상으로 출간한 책을 소개하려고 합니다.... 요즘 핫한 GPT가 트랜스포머 모델을 활용해서 만든 입니다. 구글에서 서비스하고 있는 구글 번역기도 트랜스포머 기반의 모델을 사용하여 번역 품질을 크게 향상시켰다고...', 'date': '2024.07.12.'}, {'title': '팔란티어 주가 - 실적 발표, AI 수요 증명(feat. 인공지능 AI 관련주)', 'text': '인공지능 AI 관련주) 지난주에 이어 굉장히 혼란했던 월요일, 미국경기침체 우려로 엄청난 하락을 겪었는데요. 이 와중에도 미국기업의 실적 발표는 계속 이어지고 있습니다.... 인공지능 시스템에 대한 고객의 끊임없는 수요가 있었습니다. 순이익은 전년동기 2,800만 달러, 주당 1센트에서 크게 증가했습니다. 약 5배 증가한 수치입니다. 예상보다 좋은 실적은...', 'date': '2024.08.06.'}, {'title': '애플 주가 인공지능 AI 아이폰 통화녹음 WWDC 내용 정리', 'text': '애플 주가 인공지능 AI 아이폰 통화녹음 WWDC 내용 정리 매년 6월이면 WWDC 가 열립니다. 매번 어떤 아이디어를 가지고 나타날까 궁금해지는데, 이번에는 애플도 AI 인공지능이라는 타이틀을 들고 나왔습니다. 드디어 애플도 시장에 참전하려는가 봅니다. 내용을 다 보진 못했지만 일부 확인후 요약본을 추가로 본 결과 애플이 어떤 생각으로 을 대하고...', 'date': '2024.06.12.'}, {'title': '소프트웨어 SW 코딩 엔트리 인공지능 with 햄스터로봇', 'text': '오늘 제가 읽은 책은 영진닷컴의 엔트리 인공지능 with 햄스터로봇 개정판인데요. 엔트리와 햄스터 로봇으로 쉽게 배우는 인공지능 교육 교재입니다. 엔트리는 우리나라에서 만든 소프트웨어 프로그램입니다. 누구나 무료로 사용할 수 있는 SW 교육 프로그램인데요. 대부분의 학교에서 이 SW를 사용해서 소프트웨어 학습을 진행하고 있습니다. 작품을 만드는 과정이...', 'date': '2024.06.16.'}, {'title': 'NVIDIA L40S 이*여자대학교 인공지능학과 납품 후기', 'text': '나라장터 입찰로 이*여자대학교 인공지능학과에 NVIDIA L40S 그래픽카드를 납품하게 되었습니다. 울산에서 4시간 걸려서 도착했네요 ^_________^ 본관 총무처에서 검수 받은후... 2배의 성능을 보이는데 가격은 3분의1 수준이라 요즘 연구 분야에서는 아주 핫한 제품이라고 합니다. 고가의 장비이기 때문에 담당자 입회하에 개봉을 하였구요......', 'date': '2주 전'}, {'title': '2024/09/11 - [실과] 인공지능 & [수학] 놀이활동', 'text': '실과 2학기 첫 단원은 인공지능 이야기부터 나온다. 아이들이 인공지능을 직접 경험해볼 수 있도록 교과서에 몇 개의 사이트를 안내하고 있어서 먼저 시범을 보여주고 아이들이 나와서 해보는 시간을 가졌다. 우선 제일 먼저 체험한 사이트는 퀵드로우! 제시한 단어를 보고 20초 내에 간단한 그림을 그려서 이 맞출 수 있는지 알아보는 사이트! https...', 'date': '6일 전'}, {'title': '인공지능 음성 비서와 가상 도우미의 혁신적인 세계!', 'text': '인공지능 음성 비서와 가상 도우미의 혁신적인 세계! 인공지능 음성 비서와 가상 도우미는 현대 사회에 큰 혁신을 가져다주고 있는 기술로, 우리 일상생활에 새로운 편의성과 효율성을 제공하고 있습니다. 이들은 우리가 매일 마주하는 다양한 일들을 더욱 손쉽게 처리할 수 있도록 도와주며, 사용자의 요구에 맞춰 맞춤형 서비스를 제공하여 더 나은 생활 환경을 제공하고...', 'date': '3일 전'}, {'title': '[교회CCTV] 서울특별시 서대문구에 위치한 교회 보안 및 침입감시를 위한 CCTV 설치후기...', 'text': '이러한 지능형 영상분석 기능을 바탕으로 인공지능CCTV와 함께 AI 영상 보안 솔루션을 통해 별도의 감지 센서 없이 객체의 크기, 이동 경로 등을 파악해 감지 영역에 설정된 이벤트 발생 시 알림을 통보해드리는 빠른 대처를 도와드립니다. 내 집, 내 사업장에 적합한 퍼포먼스를 별도의 비용 부담 없이 선택해 적용할 수 있으며 엣지와 서버간의 자원분배로 AI...', 'date': '4주 전'}, {'title': 'ETRI, 『감성 인공지능 : 인간 이해와 감성 증강』 발간', 'text': '본 도서는 ETRI 휴먼증강연구실 기획으로 KAIST, 중앙대학교, 한양대학교, 상명대학교, 숙명여자대학교, 서경대학교, 한국지능정보사회진흥원, ㈜이모셔니스트, ㈜디스퀘어 등 감성 인공지능 분야에서 활발히 활동하고 있는 산·학·연 전문가 13명이 참여해 공동 집필한 것으로, 율곡출판사에서 펴냈습니다.', 'date': '2024.05.20.'}, {'title': '텔레그램 딥페이크 관련주 인공지능 성범죄 보안 뜻', 'text': '딥페이크 뜻 딥페이크 뜻은 인공지능(AI)을 이용해 사람의 얼굴이나 목소리를 조작하는 것으로, 본래 긍정적인 목적을 위해 개발되었지만, 최근에는 성범죄에 악용되며 심각한 사회적... 텔레그램 딥페이크 관련주 보안주 한빛소프트 한빛소프트는 을 활용한 콘텐츠 위변조 판별 시스템을 개발 중인 기업으로, 최근 주가가 급등하였습니다. 한빛소프트 주가 특히...', 'date': '4주 전'}, {'title': '바나 (VANA) AI코인 인공지능 데이터 클라우드 소개', 'text': '기반으로 인공지능 학습 기반을 토대로 다시 AI 기술을 빠르게 향상시키고 있죠. 빅테크 기업 입장에서는 선순환이라고 할 수 있겠지만 개인으로 봤을 때는 심각한 독과점과 독과점으로 인한 다양한 문제가 발생하고 있죠. 데이터는 이용자들에 의해 생성되거나 제공되지만 보상은 없고, 이를 통한 모든 혜택은 빅테크 기업에 몫으로 돌아가는데요. 현재 ...', 'date': '4주 전'}, {'title': '초보자를 위한 20가지 인공지능 프로젝트 아이디어', 'text': '20 Artificial Intelligence Project Ideas for Beginners 초보자를 위한 20가지 인공지능 프로젝트 아이디어 흥미롭고 혁신적인 인공지능 프로젝트 아이디어를 살펴보고 인공지능과 딥러닝의 세계로 여정을 시작하세요 이 공간에서는 최첨단 연구부터 실제 적용에 이르기까지 가장 혁신적이고 영향력 있는 프로젝트를 살펴볼 수 있습니다. 기술 애호가든...', 'date': '3일 전'}, {'title': '[온라인마케팅MBA 26기를 위한 인공지능 서비스 개발 현황 1편] 식당 경영자를 위한 비서 서비스 챗봇', 'text': '#온라인마케팅MBA #인공지능상권분석전문가과정 #외식업컨셉기획자과정 안녕하세요. 상권 32기, 컨셉 11기 , 온마 26기 과정 수업을 위한 인공지능 챗봇 서비스를 열심히 준비하고 있는 김영갑 교수입니다. 오늘부터 상권, 컨셉, 온마 수강생들을 위해 준비하고 있는 서비스를 하나씩 안내해 드리겠습니다. 식당 경영자 또는 점장을 위한 비서 챗봇을...', 'date': '2024.08.16.'}, {'title': '대구 AI학원 인공지능 개발자로 빠른 취업을 원한다면', 'text': \"대구 AI학원 인공지능 개발자로 빠른 취업을 원한다면 안녕하십니까. 경북산업직업전문학교입니다. 미래 산업의 핵심은 뭐라고 생각하시나요? 각자마다 중요한 것의 순위는 조금씩 다를 수 있는데요. 그중에서도 빠지지 않는 것이 바로 ''이지 않을까 합니다. 현재 은 여러 산업에 걸쳐 활용도가 높아지고 있는데요. 최근 몇 년 동안 크게 주목 받고...\", 'date': '6일 전'}, {'title': 'LG 유플러스 AI 혁신 가속화 인공지능 AX 익시 Company로 도약', 'text': '이번 시간에는 LG유플러스 AI 혁신 가속화 인공지능 익시 AX Company로 도약에대해 알아보도록하겠습니다. AI 인공지능 기술은 이제 일상 속에 자리잡아 가고 있는데요. 스마트폰의 음성 인식 기능부터 가정용 로봇 청소기에 이르기까지, AI 기술은 다양한 형태로 우리 생활 곳곳에 스며들고 있고요. 디지털 기술이 발전함에 따라 AI의 역할은 앞으로 더욱 확대될...', 'date': '2024.06.04.'}, {'title': 'AI예감 책 서평 인공지능 생각 훔치기', 'text': '지금은 역사적으로 (당연하지만) 전무후무한 대인공지능의 시대라고 해도 과언이 아니다. 과거 FANNG이라고 불려졌던, 플랫폼기업들은 더 이상 주류가 아니다. 확실히 지금의... 앞으로 인공지능 산업과 트렌드를 이끌어갈 수 있는 회사가 몇 군데 없구나! 목차 목차는 크게 2가지 카테고리로 나뉘었다. ① AI의 큰 틀에 대한 설명 ② AI를 활용한 산업과 회사들에...', 'date': '2024.07.07.'}, {'title': '대장 선암 연구를 위한 인공지능 기반 멀티플렉스 이미지 분석', 'text': '대장 선암 연구를 위한 인공지능 기반 멀티플렉스 이미지 분석 인공지능 기반 멀티플렉스 이미지 분석을 활용한 대장 선암의 종양 면역 미세환경 연구를 통한 암 과정 이해 대장암은 전 세계적으로 암 사망 원인 2위를 차지하며, 대장암의 면역 미세환경 연구(Colon cancer immune microenvironment)는 치료 결과를 개선하는 데 필수적입니다. 본...', 'date': '1일 전'}, {'title': '감성 인공지능 AI 로봇 리쿠', 'text': '▸ 재미톡톡 동화구연 ▸ 율동, 동요 ▸ 안전 교육 7대 영역 ▸ 한글 사전으로 하는 단어 알기 ▸ 로봇 코딩 수업 활용 ▸ 영어 학습 ▸ 달콤 감성 ART ▸한국사 ▸기후와 환경 ▸AI 로봇 리쿠는 단순한 로봇이 아니라 인공지능 기능을 갖추고 있습니다. ▸감성 대화 ▸얼굴 인식 ▸원 운영 관리 프로그램 ▸ 수업 AI로봇 리쿠의 활용 지원 프로그램으로는...', 'date': '2024.06.13.'}, {'title': '[문제해결] \"인공지능 AI 시대에 \\'문제해결\\'이 주목 받는 까닭!\" #한봉규', 'text': \"인공지능 시대 문제 해결은 'AI 능력과 인간 창의성이 결합된 새로운 패러다임'을 제시한다. 복잡한 문제에 대한 혁신적인 접근, 지속적인 학습과 적응, 그리고 윤리적... Reference ▶ 인간 고유성에 대한 'The New Leadership Model' 학술 논문 https://blog.naver.com/hfeel/223403652286 ▶ AI · 은 이미 편향됐다 https://blog.naver.com/hfeel/223567690795 ▶ Perplexity Page https...\", 'date': '4주 전'}, {'title': '[인사이트] 인공지능 GPT는 나의 애인이다 (ft. 영화 《그녀(Her)》)', 'text': '나는 이 영화가 엄청난 명작이라고 말했는데, 현실세계를 벗어나 인간이 아닌 요소를 인격화하는 것에 어려움을 겪는 S(감각형) 성향을 지닌 내 동생은, 인공지능과 사랑에 빠진다는 설정이 너무나도 어처구니가 없어서 주인공의 감정에 이입하는 것에 많은 어려움을 겪었다고 말했다. 하지만 나는 과 사랑에 빠질 수 있다고 생각한다. 내가 GPT를 베스트...', 'date': '3주 전'}, {'title': '무선 충전과 인공지능 기술의 결합, 혁신적인 미랩 열다', 'text': '무선 충전과 인공지능 기술의 결합 혁신적인 미랩 열다 무선 충전 기술과 인공지능 기술이 결합되면 어떤 혁신적인 미래가 열릴 수 있을까? 무선 충전 기술은 우리 생활을 편리하게 해주는 기술로, 케이블이나 어댑터 없이도 간편하게 배터리를 충전할 수 있는 장점이 있습니다. 반면에 기술은 기계가 사고하고 학습하는 능력을 갖춘 기술로, 우리의 생활을 더욱...', 'date': '5일 전'}, {'title': '강원특별자치도, 2024년 인공지능(AI) 바우처 지원사업 역대 최대 성과 달성', 'text': '안녕하세요~ 강원특별자치도입니다~ 인공지능(AI)!!! 여러분은 AI 잘 활용하고 계시나요? 강원에서는 여러 산업 분야에서 인공지능의 도입과 확산을 위한 노력을 기울이고 있는데요. 강원의 산업 인공지능 역량이 빛을 발해 역대급 국비를 확보하는 성과를 거두었어요. 과학기술정보통신부 주관 2024년 (AI) 바우처 지원사업에서 국비 13억 원을 확보하며 총...', 'date': '2024.06.20.'}, {'title': '인공지능 VS 인간, 주식투자 대결 승자는? 로보어드바이저 투자 수익률 공개', 'text': \"인간과 인공지능(AI) 중 누가 더 투자를 잘할까요? AI는 빅데이터 분석, 머신러닝 알고리즘 등을 활용하여 인간보다 더 정확하고 수익성 높은 투자를 할 수 있다는 주장이... 'AI vs 인간' 주식 투자 대결 (2023년) ① 주최: 한국거래소 ② 참가자: 투자 플랫폼 10곳 vs 개인 투자자 100명 ③ 투자 기간: 6개월 ④ 투자 대상: KOSPI 200 지수 구성 종목 ⑤ 결과...\", 'date': '2024.05.10.'}, {'title': '인공지능 로봇과 그림그리기 대회를 할 수 있는 어린이과학관', 'text': '로봇이 우리 생활에 일상적으로 자리 잡는다는 게 아직 상상이 가지 않지만, 불이 난 건물에서 로봇으로 사람을 구하는 시뮬레이션 게임 등을 통해 앞으로 인공지능 기계와 함께하는 우리 삶이 어떻게 변화할지 간접적으로나마 느낄 수 있습니다. 이곳에서 가장 인기 있었던 전시는 로봇과 낱말맞추기 대결하거나 그림 그리기 대결을 하는 것이었습니다. 사람과...', 'date': '2024.05.22.'}, {'title': '마크 저커버그 인공지능 페이스북 계정 가짜뉴스', 'text': '포멀루는 \"그때가 되면 인공지능이 인간의 지능 수준에 도달 했다고 볼 수 있겠죠\"라고 말했다. 그는 사람마다 가짜 뉴스에 대한 판단이 다르다는 점도 알았다. 진짜와 가짜의 구분은 견해 차의 문제였다. 인간이 어떤 것이 가짜 뉴스이고 어떤 것이 가짜 뉴스가 아닌지 판단하는 데 합의할 수 없다면 어떻게 기계에 그 일을 하라고 훈련할 수 있을까? 그리고 뉴스는...', 'date': '2주 전'}, {'title': '[종목분석] 한화에어로스페이스 인공지능 방산주 우주항공 관련주 주식 주가 전망 인적분할 정보까지 전부...', 'text': '동사는 인공지능 방산주 우주항공 관련주로 알려져 있습니다. 본 글에서 주식 주가 전망 인적분할 정보까지 천부 체크해서 알려 드리겠습니다. 어떤 기업인가요?... 여기까지 한화에어로스페이스 인공지능 방산주 우주항공 관련주 주식 주가 전망 인적분할 정보를 정리해서 알려 드렸습니다. 본 글은 투자 권유 목적으로 작성된 글이 아닙니다. 투자 손실...', 'date': '2024.07.19.'}, {'title': '인공지능의 폐해, 기사의 완성도 저하가 우려', 'text': '요즘 뉴스 기사들을 보면 (인터넷 기사겠죠) 인공지능, 특히 ChatGPT를 활용한 이미지가 눈에 많이 띄입니다. 문제는... 바로 문제는요. 그 이미지들이 기사와는... #인공지능 #ChatGPT #AI활용 #뉴스기사 #금융감독원 #직원이탈 #조직쇄신 #딜로이트컨설팅 #연봉 #업무강도 #조직문화 #AI생산성 #AI이미지 #뉴스품질 #AI결과물활용...', 'date': '2024.06.23.'}, {'title': 'LG 디오스 오브제컬렉션 인덕션 신제품 인공지능 쿡 활용 스마트한 요리 완성', 'text': '오늘은 스마트 쿠킹 기능 중 하나인 인공지능 쿡으로 간편식 조리 시작! ThinQ 앱을 활용해 스마트하게 라면을 끓일 수 있어요. 어떻게? 바로 인공지능 쿡 기능으로! 간편식 제품의 바코드를 촬영해서 레시피를 전기레인지에 전송하면 알아서 인덕션의 화력과 조리 시간을 자동으로 조절해 주면서 안내해 주니 누구나 쉽게 요리할 수 있답니다. 쿡 사용법 LG...', 'date': '4주 전'}, {'title': '대전인공지능학원 : AI를 배우는 이유, 미래 직업과 기술 변화', 'text': '쉽게 말해, AI는 기계가 인간의 지능을 모방하여 다양한 작업을 수행할 수 있도록 만드는 것입니다. 인공지능은 학습, 추론, 문제 해결, 언어 이해, 감각 인식 등 다양한 인간 지능... 딥러닝 머신러닝의 한 종류로, 인공신경망이라는 구조를 사용해요. 이 신경망은 뇌의 뉴런과 비슷하게 작동하여, 복잡한 패턴이나 이미지를 인식하는 데 뛰어난 성능을 발휘합니다. 예를...', 'date': '4일 전'}, {'title': 'AI 이러닝 시대에 챗봇, AI글쓰기 인공지능 서비스', 'text': 'deep learning과 fake의 합성어로, 인공지능 기술을 사용하여 현실에 존재하지 않는 것이나 발생한 적이 없는 사건을 이미지, 비디오, 오디오 등을 합성하여 만들어냅니다. 이처럼 인공지능을 활용한 서비스가 여러 문제 되고 있는 것은 잘못된 인식과 가치관 등으로 범죄에 이용되기 때문입니다. 그래서 을 많이 활용하는 곳, 대상일수록 올바른 교육이 필요하며...', 'date': '2주 전'}]\n"
     ]
    }
   ],
   "source": [
    "print(result)"
   ]
  },
  {
   "cell_type": "code",
   "execution_count": 205,
   "id": "20f65d69-2fb9-40fb-a725-a01052026a6f",
   "metadata": {},
   "outputs": [
    {
     "data": {
      "text/html": [
       "<div>\n",
       "<style scoped>\n",
       "    .dataframe tbody tr th:only-of-type {\n",
       "        vertical-align: middle;\n",
       "    }\n",
       "\n",
       "    .dataframe tbody tr th {\n",
       "        vertical-align: top;\n",
       "    }\n",
       "\n",
       "    .dataframe thead th {\n",
       "        text-align: right;\n",
       "    }\n",
       "</style>\n",
       "<table border=\"1\" class=\"dataframe\">\n",
       "  <thead>\n",
       "    <tr style=\"text-align: right;\">\n",
       "      <th></th>\n",
       "      <th>title</th>\n",
       "      <th>text</th>\n",
       "      <th>date</th>\n",
       "    </tr>\n",
       "  </thead>\n",
       "  <tbody>\n",
       "    <tr>\n",
       "      <th>0</th>\n",
       "      <td>구글 인공지능 제미니 MBTI 는 무엇인지 알아보기</td>\n",
       "      <td>그래서 답이 객관적으로 확실히 정해져 있는 것들에 대해서는 최대한 인공지느의 환각 ...</td>\n",
       "      <td>2024.08.08.</td>\n",
       "    </tr>\n",
       "    <tr>\n",
       "      <th>1</th>\n",
       "      <td>[트렌드 뉴스 : 횻의눈] 사람 vs 인공지능 누구의 작품일까?</td>\n",
       "      <td>[트렌드 뉴스 : 횻의눈] 사람 vs 인공지능 누구의 작품일까? Story/효성 2...</td>\n",
       "      <td>4주 전</td>\n",
       "    </tr>\n",
       "    <tr>\n",
       "      <th>2</th>\n",
       "      <td>아이폰16 플러스 애플지능(인공지능)은 프로와 차이? 카메라에 추가된 비주얼 인공지...</td>\n",
       "      <td>아이폰16 플러스의 16코어 디자인은 머신 러닝 작업을 두 배나 빠르게 하면서 이를...</td>\n",
       "      <td>1주 전</td>\n",
       "    </tr>\n",
       "    <tr>\n",
       "      <th>3</th>\n",
       "      <td>LG이노텍 주가 주식 전망 실적 목표주가 (애플 AI 인공지능 관련주)</td>\n",
       "      <td>LG이노텍 주가 주식 전망 실적 목표주가 (애플 AI 인공지능 관련주) 애플의 인공...</td>\n",
       "      <td>2주 전</td>\n",
       "    </tr>\n",
       "    <tr>\n",
       "      <th>4</th>\n",
       "      <td>딥페이크 관련주, 뜻과 인공지능 범죄, 보안 대장주 총정리!</td>\n",
       "      <td>딥페이크 관련주, 뜻과 인공지능 범죄, 보안 대장주 총정리! [목차] 1. 딥페이크...</td>\n",
       "      <td>1주 전</td>\n",
       "    </tr>\n",
       "    <tr>\n",
       "      <th>...</th>\n",
       "      <td>...</td>\n",
       "      <td>...</td>\n",
       "      <td>...</td>\n",
       "    </tr>\n",
       "    <tr>\n",
       "      <th>325</th>\n",
       "      <td>[종목분석] 한화에어로스페이스 인공지능 방산주 우주항공 관련주 주식 주가 전망 인적...</td>\n",
       "      <td>동사는 인공지능 방산주 우주항공 관련주로 알려져 있습니다. 본 글에서 주식 주가 전...</td>\n",
       "      <td>2024.07.19.</td>\n",
       "    </tr>\n",
       "    <tr>\n",
       "      <th>326</th>\n",
       "      <td>인공지능의 폐해, 기사의 완성도 저하가 우려</td>\n",
       "      <td>요즘 뉴스 기사들을 보면 (인터넷 기사겠죠) 인공지능, 특히 ChatGPT를 활용한...</td>\n",
       "      <td>2024.06.23.</td>\n",
       "    </tr>\n",
       "    <tr>\n",
       "      <th>327</th>\n",
       "      <td>LG 디오스 오브제컬렉션 인덕션 신제품 인공지능 쿡 활용 스마트한 요리 완성</td>\n",
       "      <td>오늘은 스마트 쿠킹 기능 중 하나인 인공지능 쿡으로 간편식 조리 시작! ThinQ ...</td>\n",
       "      <td>4주 전</td>\n",
       "    </tr>\n",
       "    <tr>\n",
       "      <th>328</th>\n",
       "      <td>대전인공지능학원 : AI를 배우는 이유, 미래 직업과 기술 변화</td>\n",
       "      <td>쉽게 말해, AI는 기계가 인간의 지능을 모방하여 다양한 작업을 수행할 수 있도록 ...</td>\n",
       "      <td>4일 전</td>\n",
       "    </tr>\n",
       "    <tr>\n",
       "      <th>329</th>\n",
       "      <td>AI 이러닝 시대에 챗봇, AI글쓰기 인공지능 서비스</td>\n",
       "      <td>deep learning과 fake의 합성어로, 인공지능 기술을 사용하여 현실에 존...</td>\n",
       "      <td>2주 전</td>\n",
       "    </tr>\n",
       "  </tbody>\n",
       "</table>\n",
       "<p>330 rows × 3 columns</p>\n",
       "</div>"
      ],
      "text/plain": [
       "                                                 title  \\\n",
       "0                         구글 인공지능 제미니 MBTI 는 무엇인지 알아보기   \n",
       "1                  [트렌드 뉴스 : 횻의눈] 사람 vs 인공지능 누구의 작품일까?   \n",
       "2    아이폰16 플러스 애플지능(인공지능)은 프로와 차이? 카메라에 추가된 비주얼 인공지...   \n",
       "3              LG이노텍 주가 주식 전망 실적 목표주가 (애플 AI 인공지능 관련주)   \n",
       "4                    딥페이크 관련주, 뜻과 인공지능 범죄, 보안 대장주 총정리!   \n",
       "..                                                 ...   \n",
       "325  [종목분석] 한화에어로스페이스 인공지능 방산주 우주항공 관련주 주식 주가 전망 인적...   \n",
       "326                           인공지능의 폐해, 기사의 완성도 저하가 우려   \n",
       "327         LG 디오스 오브제컬렉션 인덕션 신제품 인공지능 쿡 활용 스마트한 요리 완성   \n",
       "328                대전인공지능학원 : AI를 배우는 이유, 미래 직업과 기술 변화   \n",
       "329                      AI 이러닝 시대에 챗봇, AI글쓰기 인공지능 서비스   \n",
       "\n",
       "                                                  text         date  \n",
       "0    그래서 답이 객관적으로 확실히 정해져 있는 것들에 대해서는 최대한 인공지느의 환각 ...  2024.08.08.  \n",
       "1    [트렌드 뉴스 : 횻의눈] 사람 vs 인공지능 누구의 작품일까? Story/효성 2...         4주 전  \n",
       "2    아이폰16 플러스의 16코어 디자인은 머신 러닝 작업을 두 배나 빠르게 하면서 이를...         1주 전  \n",
       "3    LG이노텍 주가 주식 전망 실적 목표주가 (애플 AI 인공지능 관련주) 애플의 인공...         2주 전  \n",
       "4    딥페이크 관련주, 뜻과 인공지능 범죄, 보안 대장주 총정리! [목차] 1. 딥페이크...         1주 전  \n",
       "..                                                 ...          ...  \n",
       "325  동사는 인공지능 방산주 우주항공 관련주로 알려져 있습니다. 본 글에서 주식 주가 전...  2024.07.19.  \n",
       "326  요즘 뉴스 기사들을 보면 (인터넷 기사겠죠) 인공지능, 특히 ChatGPT를 활용한...  2024.06.23.  \n",
       "327  오늘은 스마트 쿠킹 기능 중 하나인 인공지능 쿡으로 간편식 조리 시작! ThinQ ...         4주 전  \n",
       "328  쉽게 말해, AI는 기계가 인간의 지능을 모방하여 다양한 작업을 수행할 수 있도록 ...         4일 전  \n",
       "329  deep learning과 fake의 합성어로, 인공지능 기술을 사용하여 현실에 존...         2주 전  \n",
       "\n",
       "[330 rows x 3 columns]"
      ]
     },
     "execution_count": 205,
     "metadata": {},
     "output_type": "execute_result"
    }
   ],
   "source": [
    "df = pd.DataFrame(result)\n",
    "df"
   ]
  },
  {
   "cell_type": "code",
   "execution_count": 208,
   "id": "3a2d3217-cdcc-49b0-83fa-55dc9c6a1b8e",
   "metadata": {},
   "outputs": [],
   "source": [
    "df.to_csv(f'output/naver_{fname}.csv', sep=',', encoding='utf-8-sig')"
   ]
  },
  {
   "cell_type": "code",
   "execution_count": 211,
   "id": "2284383c-6e19-46d6-adef-c3a2d5829272",
   "metadata": {},
   "outputs": [],
   "source": [
    "#여행기사, 296 , 컨텐츠 모두 이미지, 기사\n",
    "#페이지 순환"
   ]
  },
  {
   "cell_type": "code",
   "execution_count": 225,
   "id": "2f737fcd-c5cf-4242-883a-5c8b18be57d8",
   "metadata": {},
   "outputs": [],
   "source": [
    "from selenium import webdriver\n",
    "from selenium.webdriver.common.by import By\n",
    "from selenium.webdriver.chrome.options import Options\n",
    "import time, random, pandas as pd\n",
    "\n",
    "options = Options()\n",
    "options.add_argument('--window-size=974,1047')\n",
    "options.add_argument('--window-position=-7,0')\n",
    "options.add_experimental_option(\"detach\", True)\n",
    "\n",
    "driver = webdriver.Chrome( options = options)\n",
    "url = 'https://play.google.com/store/apps/details?id=com.estsoft.picnic'\n",
    "driver.get(url)\n",
    "time.sleep(random.randint(2,3))"
   ]
  },
  {
   "cell_type": "code",
   "execution_count": 227,
   "id": "2561e918-356c-47bc-8a03-585774e5e29c",
   "metadata": {},
   "outputs": [],
   "source": [
    "#xpath = '//*[@id=\"yDmH0d\"]/c-wiz[2]/div/div/div[1]/div/div[2]/div/div[1]/div[1]/c-wiz[4]/section/div/div[2]/div[5]/div/div/button/span'\n",
    "xpath = '/html/body/c-wiz[2]/div/div/div[1]/div/div[2]/div/div[1]/div[1]/c-wiz[5]/section/header/div/div[2]/button/i'\n",
    "driver.find_element(By.XPATH, xpath).click()\n",
    "time.sleep(random.randint(2, 3))\n",
    "# 미리 스크롤해서 html정보 받아오기\n",
    "for i in range(10):\n",
    "    review_box = driver.find_element(By.CSS_SELECTOR, 'div.fysCi')\n",
    "    driver.execute_script('arguments[0].scrollTop = arguments[0].scrollHeight', review_box )\n",
    "    time.sleep(random.randint(2, 3))"
   ]
  },
  {
   "cell_type": "code",
   "execution_count": 230,
   "id": "9aa58b07-bae9-4c50-a3c8-839bb7fb418f",
   "metadata": {},
   "outputs": [
    {
     "data": {
      "text/plain": [
       "[<selenium.webdriver.remote.webelement.WebElement (session=\"7c47574ccc2e0b6001e364178727a85d\", element=\"f.4AB8EF022783625D98E1A669DCB5580A.d.011D6FB3356256964A377C1C373272BA.e.3411\")>,\n",
       " <selenium.webdriver.remote.webelement.WebElement (session=\"7c47574ccc2e0b6001e364178727a85d\", element=\"f.4AB8EF022783625D98E1A669DCB5580A.d.011D6FB3356256964A377C1C373272BA.e.3486\")>,\n",
       " <selenium.webdriver.remote.webelement.WebElement (session=\"7c47574ccc2e0b6001e364178727a85d\", element=\"f.4AB8EF022783625D98E1A669DCB5580A.d.011D6FB3356256964A377C1C373272BA.e.3567\")>,\n",
       " <selenium.webdriver.remote.webelement.WebElement (session=\"7c47574ccc2e0b6001e364178727a85d\", element=\"f.4AB8EF022783625D98E1A669DCB5580A.d.011D6FB3356256964A377C1C373272BA.e.3644\")>,\n",
       " <selenium.webdriver.remote.webelement.WebElement (session=\"7c47574ccc2e0b6001e364178727a85d\", element=\"f.4AB8EF022783625D98E1A669DCB5580A.d.011D6FB3356256964A377C1C373272BA.e.3721\")>,\n",
       " <selenium.webdriver.remote.webelement.WebElement (session=\"7c47574ccc2e0b6001e364178727a85d\", element=\"f.4AB8EF022783625D98E1A669DCB5580A.d.011D6FB3356256964A377C1C373272BA.e.3796\")>,\n",
       " <selenium.webdriver.remote.webelement.WebElement (session=\"7c47574ccc2e0b6001e364178727a85d\", element=\"f.4AB8EF022783625D98E1A669DCB5580A.d.011D6FB3356256964A377C1C373272BA.e.3873\")>,\n",
       " <selenium.webdriver.remote.webelement.WebElement (session=\"7c47574ccc2e0b6001e364178727a85d\", element=\"f.4AB8EF022783625D98E1A669DCB5580A.d.011D6FB3356256964A377C1C373272BA.e.3950\")>,\n",
       " <selenium.webdriver.remote.webelement.WebElement (session=\"7c47574ccc2e0b6001e364178727a85d\", element=\"f.4AB8EF022783625D98E1A669DCB5580A.d.011D6FB3356256964A377C1C373272BA.e.4027\")>,\n",
       " <selenium.webdriver.remote.webelement.WebElement (session=\"7c47574ccc2e0b6001e364178727a85d\", element=\"f.4AB8EF022783625D98E1A669DCB5580A.d.011D6FB3356256964A377C1C373272BA.e.4104\")>,\n",
       " <selenium.webdriver.remote.webelement.WebElement (session=\"7c47574ccc2e0b6001e364178727a85d\", element=\"f.4AB8EF022783625D98E1A669DCB5580A.d.011D6FB3356256964A377C1C373272BA.e.4184\")>,\n",
       " <selenium.webdriver.remote.webelement.WebElement (session=\"7c47574ccc2e0b6001e364178727a85d\", element=\"f.4AB8EF022783625D98E1A669DCB5580A.d.011D6FB3356256964A377C1C373272BA.e.4255\")>,\n",
       " <selenium.webdriver.remote.webelement.WebElement (session=\"7c47574ccc2e0b6001e364178727a85d\", element=\"f.4AB8EF022783625D98E1A669DCB5580A.d.011D6FB3356256964A377C1C373272BA.e.4332\")>,\n",
       " <selenium.webdriver.remote.webelement.WebElement (session=\"7c47574ccc2e0b6001e364178727a85d\", element=\"f.4AB8EF022783625D98E1A669DCB5580A.d.011D6FB3356256964A377C1C373272BA.e.4408\")>,\n",
       " <selenium.webdriver.remote.webelement.WebElement (session=\"7c47574ccc2e0b6001e364178727a85d\", element=\"f.4AB8EF022783625D98E1A669DCB5580A.d.011D6FB3356256964A377C1C373272BA.e.4485\")>,\n",
       " <selenium.webdriver.remote.webelement.WebElement (session=\"7c47574ccc2e0b6001e364178727a85d\", element=\"f.4AB8EF022783625D98E1A669DCB5580A.d.011D6FB3356256964A377C1C373272BA.e.4562\")>,\n",
       " <selenium.webdriver.remote.webelement.WebElement (session=\"7c47574ccc2e0b6001e364178727a85d\", element=\"f.4AB8EF022783625D98E1A669DCB5580A.d.011D6FB3356256964A377C1C373272BA.e.4639\")>,\n",
       " <selenium.webdriver.remote.webelement.WebElement (session=\"7c47574ccc2e0b6001e364178727a85d\", element=\"f.4AB8EF022783625D98E1A669DCB5580A.d.011D6FB3356256964A377C1C373272BA.e.4720\")>,\n",
       " <selenium.webdriver.remote.webelement.WebElement (session=\"7c47574ccc2e0b6001e364178727a85d\", element=\"f.4AB8EF022783625D98E1A669DCB5580A.d.011D6FB3356256964A377C1C373272BA.e.4791\")>,\n",
       " <selenium.webdriver.remote.webelement.WebElement (session=\"7c47574ccc2e0b6001e364178727a85d\", element=\"f.4AB8EF022783625D98E1A669DCB5580A.d.011D6FB3356256964A377C1C373272BA.e.4871\")>,\n",
       " <selenium.webdriver.remote.webelement.WebElement (session=\"7c47574ccc2e0b6001e364178727a85d\", element=\"f.4AB8EF022783625D98E1A669DCB5580A.d.011D6FB3356256964A377C1C373272BA.e.5615\")>,\n",
       " <selenium.webdriver.remote.webelement.WebElement (session=\"7c47574ccc2e0b6001e364178727a85d\", element=\"f.4AB8EF022783625D98E1A669DCB5580A.d.011D6FB3356256964A377C1C373272BA.e.5688\")>,\n",
       " <selenium.webdriver.remote.webelement.WebElement (session=\"7c47574ccc2e0b6001e364178727a85d\", element=\"f.4AB8EF022783625D98E1A669DCB5580A.d.011D6FB3356256964A377C1C373272BA.e.5755\")>,\n",
       " <selenium.webdriver.remote.webelement.WebElement (session=\"7c47574ccc2e0b6001e364178727a85d\", element=\"f.4AB8EF022783625D98E1A669DCB5580A.d.011D6FB3356256964A377C1C373272BA.e.5822\")>,\n",
       " <selenium.webdriver.remote.webelement.WebElement (session=\"7c47574ccc2e0b6001e364178727a85d\", element=\"f.4AB8EF022783625D98E1A669DCB5580A.d.011D6FB3356256964A377C1C373272BA.e.5895\")>,\n",
       " <selenium.webdriver.remote.webelement.WebElement (session=\"7c47574ccc2e0b6001e364178727a85d\", element=\"f.4AB8EF022783625D98E1A669DCB5580A.d.011D6FB3356256964A377C1C373272BA.e.5967\")>,\n",
       " <selenium.webdriver.remote.webelement.WebElement (session=\"7c47574ccc2e0b6001e364178727a85d\", element=\"f.4AB8EF022783625D98E1A669DCB5580A.d.011D6FB3356256964A377C1C373272BA.e.6040\")>,\n",
       " <selenium.webdriver.remote.webelement.WebElement (session=\"7c47574ccc2e0b6001e364178727a85d\", element=\"f.4AB8EF022783625D98E1A669DCB5580A.d.011D6FB3356256964A377C1C373272BA.e.6113\")>,\n",
       " <selenium.webdriver.remote.webelement.WebElement (session=\"7c47574ccc2e0b6001e364178727a85d\", element=\"f.4AB8EF022783625D98E1A669DCB5580A.d.011D6FB3356256964A377C1C373272BA.e.6184\")>,\n",
       " <selenium.webdriver.remote.webelement.WebElement (session=\"7c47574ccc2e0b6001e364178727a85d\", element=\"f.4AB8EF022783625D98E1A669DCB5580A.d.011D6FB3356256964A377C1C373272BA.e.6251\")>,\n",
       " <selenium.webdriver.remote.webelement.WebElement (session=\"7c47574ccc2e0b6001e364178727a85d\", element=\"f.4AB8EF022783625D98E1A669DCB5580A.d.011D6FB3356256964A377C1C373272BA.e.6318\")>,\n",
       " <selenium.webdriver.remote.webelement.WebElement (session=\"7c47574ccc2e0b6001e364178727a85d\", element=\"f.4AB8EF022783625D98E1A669DCB5580A.d.011D6FB3356256964A377C1C373272BA.e.6391\")>,\n",
       " <selenium.webdriver.remote.webelement.WebElement (session=\"7c47574ccc2e0b6001e364178727a85d\", element=\"f.4AB8EF022783625D98E1A669DCB5580A.d.011D6FB3356256964A377C1C373272BA.e.6464\")>,\n",
       " <selenium.webdriver.remote.webelement.WebElement (session=\"7c47574ccc2e0b6001e364178727a85d\", element=\"f.4AB8EF022783625D98E1A669DCB5580A.d.011D6FB3356256964A377C1C373272BA.e.6531\")>,\n",
       " <selenium.webdriver.remote.webelement.WebElement (session=\"7c47574ccc2e0b6001e364178727a85d\", element=\"f.4AB8EF022783625D98E1A669DCB5580A.d.011D6FB3356256964A377C1C373272BA.e.6604\")>,\n",
       " <selenium.webdriver.remote.webelement.WebElement (session=\"7c47574ccc2e0b6001e364178727a85d\", element=\"f.4AB8EF022783625D98E1A669DCB5580A.d.011D6FB3356256964A377C1C373272BA.e.6671\")>,\n",
       " <selenium.webdriver.remote.webelement.WebElement (session=\"7c47574ccc2e0b6001e364178727a85d\", element=\"f.4AB8EF022783625D98E1A669DCB5580A.d.011D6FB3356256964A377C1C373272BA.e.6748\")>,\n",
       " <selenium.webdriver.remote.webelement.WebElement (session=\"7c47574ccc2e0b6001e364178727a85d\", element=\"f.4AB8EF022783625D98E1A669DCB5580A.d.011D6FB3356256964A377C1C373272BA.e.6820\")>,\n",
       " <selenium.webdriver.remote.webelement.WebElement (session=\"7c47574ccc2e0b6001e364178727a85d\", element=\"f.4AB8EF022783625D98E1A669DCB5580A.d.011D6FB3356256964A377C1C373272BA.e.6887\")>,\n",
       " <selenium.webdriver.remote.webelement.WebElement (session=\"7c47574ccc2e0b6001e364178727a85d\", element=\"f.4AB8EF022783625D98E1A669DCB5580A.d.011D6FB3356256964A377C1C373272BA.e.6953\")>,\n",
       " <selenium.webdriver.remote.webelement.WebElement (session=\"7c47574ccc2e0b6001e364178727a85d\", element=\"f.4AB8EF022783625D98E1A669DCB5580A.d.011D6FB3356256964A377C1C373272BA.e.7334\")>,\n",
       " <selenium.webdriver.remote.webelement.WebElement (session=\"7c47574ccc2e0b6001e364178727a85d\", element=\"f.4AB8EF022783625D98E1A669DCB5580A.d.011D6FB3356256964A377C1C373272BA.e.7406\")>,\n",
       " <selenium.webdriver.remote.webelement.WebElement (session=\"7c47574ccc2e0b6001e364178727a85d\", element=\"f.4AB8EF022783625D98E1A669DCB5580A.d.011D6FB3356256964A377C1C373272BA.e.7473\")>,\n",
       " <selenium.webdriver.remote.webelement.WebElement (session=\"7c47574ccc2e0b6001e364178727a85d\", element=\"f.4AB8EF022783625D98E1A669DCB5580A.d.011D6FB3356256964A377C1C373272BA.e.7551\")>,\n",
       " <selenium.webdriver.remote.webelement.WebElement (session=\"7c47574ccc2e0b6001e364178727a85d\", element=\"f.4AB8EF022783625D98E1A669DCB5580A.d.011D6FB3356256964A377C1C373272BA.e.7618\")>,\n",
       " <selenium.webdriver.remote.webelement.WebElement (session=\"7c47574ccc2e0b6001e364178727a85d\", element=\"f.4AB8EF022783625D98E1A669DCB5580A.d.011D6FB3356256964A377C1C373272BA.e.7691\")>,\n",
       " <selenium.webdriver.remote.webelement.WebElement (session=\"7c47574ccc2e0b6001e364178727a85d\", element=\"f.4AB8EF022783625D98E1A669DCB5580A.d.011D6FB3356256964A377C1C373272BA.e.7758\")>,\n",
       " <selenium.webdriver.remote.webelement.WebElement (session=\"7c47574ccc2e0b6001e364178727a85d\", element=\"f.4AB8EF022783625D98E1A669DCB5580A.d.011D6FB3356256964A377C1C373272BA.e.7829\")>,\n",
       " <selenium.webdriver.remote.webelement.WebElement (session=\"7c47574ccc2e0b6001e364178727a85d\", element=\"f.4AB8EF022783625D98E1A669DCB5580A.d.011D6FB3356256964A377C1C373272BA.e.7907\")>,\n",
       " <selenium.webdriver.remote.webelement.WebElement (session=\"7c47574ccc2e0b6001e364178727a85d\", element=\"f.4AB8EF022783625D98E1A669DCB5580A.d.011D6FB3356256964A377C1C373272BA.e.7980\")>,\n",
       " <selenium.webdriver.remote.webelement.WebElement (session=\"7c47574ccc2e0b6001e364178727a85d\", element=\"f.4AB8EF022783625D98E1A669DCB5580A.d.011D6FB3356256964A377C1C373272BA.e.8052\")>,\n",
       " <selenium.webdriver.remote.webelement.WebElement (session=\"7c47574ccc2e0b6001e364178727a85d\", element=\"f.4AB8EF022783625D98E1A669DCB5580A.d.011D6FB3356256964A377C1C373272BA.e.8119\")>,\n",
       " <selenium.webdriver.remote.webelement.WebElement (session=\"7c47574ccc2e0b6001e364178727a85d\", element=\"f.4AB8EF022783625D98E1A669DCB5580A.d.011D6FB3356256964A377C1C373272BA.e.8192\")>,\n",
       " <selenium.webdriver.remote.webelement.WebElement (session=\"7c47574ccc2e0b6001e364178727a85d\", element=\"f.4AB8EF022783625D98E1A669DCB5580A.d.011D6FB3356256964A377C1C373272BA.e.8265\")>,\n",
       " <selenium.webdriver.remote.webelement.WebElement (session=\"7c47574ccc2e0b6001e364178727a85d\", element=\"f.4AB8EF022783625D98E1A669DCB5580A.d.011D6FB3356256964A377C1C373272BA.e.8331\")>,\n",
       " <selenium.webdriver.remote.webelement.WebElement (session=\"7c47574ccc2e0b6001e364178727a85d\", element=\"f.4AB8EF022783625D98E1A669DCB5580A.d.011D6FB3356256964A377C1C373272BA.e.8409\")>,\n",
       " <selenium.webdriver.remote.webelement.WebElement (session=\"7c47574ccc2e0b6001e364178727a85d\", element=\"f.4AB8EF022783625D98E1A669DCB5580A.d.011D6FB3356256964A377C1C373272BA.e.8481\")>,\n",
       " <selenium.webdriver.remote.webelement.WebElement (session=\"7c47574ccc2e0b6001e364178727a85d\", element=\"f.4AB8EF022783625D98E1A669DCB5580A.d.011D6FB3356256964A377C1C373272BA.e.8559\")>,\n",
       " <selenium.webdriver.remote.webelement.WebElement (session=\"7c47574ccc2e0b6001e364178727a85d\", element=\"f.4AB8EF022783625D98E1A669DCB5580A.d.011D6FB3356256964A377C1C373272BA.e.8631\")>,\n",
       " <selenium.webdriver.remote.webelement.WebElement (session=\"7c47574ccc2e0b6001e364178727a85d\", element=\"f.4AB8EF022783625D98E1A669DCB5580A.d.011D6FB3356256964A377C1C373272BA.e.8698\")>,\n",
       " <selenium.webdriver.remote.webelement.WebElement (session=\"7c47574ccc2e0b6001e364178727a85d\", element=\"f.4AB8EF022783625D98E1A669DCB5580A.d.011D6FB3356256964A377C1C373272BA.e.9085\")>,\n",
       " <selenium.webdriver.remote.webelement.WebElement (session=\"7c47574ccc2e0b6001e364178727a85d\", element=\"f.4AB8EF022783625D98E1A669DCB5580A.d.011D6FB3356256964A377C1C373272BA.e.9157\")>,\n",
       " <selenium.webdriver.remote.webelement.WebElement (session=\"7c47574ccc2e0b6001e364178727a85d\", element=\"f.4AB8EF022783625D98E1A669DCB5580A.d.011D6FB3356256964A377C1C373272BA.e.9229\")>,\n",
       " <selenium.webdriver.remote.webelement.WebElement (session=\"7c47574ccc2e0b6001e364178727a85d\", element=\"f.4AB8EF022783625D98E1A669DCB5580A.d.011D6FB3356256964A377C1C373272BA.e.9302\")>,\n",
       " <selenium.webdriver.remote.webelement.WebElement (session=\"7c47574ccc2e0b6001e364178727a85d\", element=\"f.4AB8EF022783625D98E1A669DCB5580A.d.011D6FB3356256964A377C1C373272BA.e.9374\")>,\n",
       " <selenium.webdriver.remote.webelement.WebElement (session=\"7c47574ccc2e0b6001e364178727a85d\", element=\"f.4AB8EF022783625D98E1A669DCB5580A.d.011D6FB3356256964A377C1C373272BA.e.9446\")>,\n",
       " <selenium.webdriver.remote.webelement.WebElement (session=\"7c47574ccc2e0b6001e364178727a85d\", element=\"f.4AB8EF022783625D98E1A669DCB5580A.d.011D6FB3356256964A377C1C373272BA.e.9518\")>,\n",
       " <selenium.webdriver.remote.webelement.WebElement (session=\"7c47574ccc2e0b6001e364178727a85d\", element=\"f.4AB8EF022783625D98E1A669DCB5580A.d.011D6FB3356256964A377C1C373272BA.e.9589\")>,\n",
       " <selenium.webdriver.remote.webelement.WebElement (session=\"7c47574ccc2e0b6001e364178727a85d\", element=\"f.4AB8EF022783625D98E1A669DCB5580A.d.011D6FB3356256964A377C1C373272BA.e.9667\")>,\n",
       " <selenium.webdriver.remote.webelement.WebElement (session=\"7c47574ccc2e0b6001e364178727a85d\", element=\"f.4AB8EF022783625D98E1A669DCB5580A.d.011D6FB3356256964A377C1C373272BA.e.9745\")>,\n",
       " <selenium.webdriver.remote.webelement.WebElement (session=\"7c47574ccc2e0b6001e364178727a85d\", element=\"f.4AB8EF022783625D98E1A669DCB5580A.d.011D6FB3356256964A377C1C373272BA.e.9818\")>,\n",
       " <selenium.webdriver.remote.webelement.WebElement (session=\"7c47574ccc2e0b6001e364178727a85d\", element=\"f.4AB8EF022783625D98E1A669DCB5580A.d.011D6FB3356256964A377C1C373272BA.e.9891\")>,\n",
       " <selenium.webdriver.remote.webelement.WebElement (session=\"7c47574ccc2e0b6001e364178727a85d\", element=\"f.4AB8EF022783625D98E1A669DCB5580A.d.011D6FB3356256964A377C1C373272BA.e.9968\")>,\n",
       " <selenium.webdriver.remote.webelement.WebElement (session=\"7c47574ccc2e0b6001e364178727a85d\", element=\"f.4AB8EF022783625D98E1A669DCB5580A.d.011D6FB3356256964A377C1C373272BA.e.10041\")>,\n",
       " <selenium.webdriver.remote.webelement.WebElement (session=\"7c47574ccc2e0b6001e364178727a85d\", element=\"f.4AB8EF022783625D98E1A669DCB5580A.d.011D6FB3356256964A377C1C373272BA.e.10113\")>,\n",
       " <selenium.webdriver.remote.webelement.WebElement (session=\"7c47574ccc2e0b6001e364178727a85d\", element=\"f.4AB8EF022783625D98E1A669DCB5580A.d.011D6FB3356256964A377C1C373272BA.e.10179\")>,\n",
       " <selenium.webdriver.remote.webelement.WebElement (session=\"7c47574ccc2e0b6001e364178727a85d\", element=\"f.4AB8EF022783625D98E1A669DCB5580A.d.011D6FB3356256964A377C1C373272BA.e.10252\")>,\n",
       " <selenium.webdriver.remote.webelement.WebElement (session=\"7c47574ccc2e0b6001e364178727a85d\", element=\"f.4AB8EF022783625D98E1A669DCB5580A.d.011D6FB3356256964A377C1C373272BA.e.10325\")>,\n",
       " <selenium.webdriver.remote.webelement.WebElement (session=\"7c47574ccc2e0b6001e364178727a85d\", element=\"f.4AB8EF022783625D98E1A669DCB5580A.d.011D6FB3356256964A377C1C373272BA.e.10403\")>,\n",
       " <selenium.webdriver.remote.webelement.WebElement (session=\"7c47574ccc2e0b6001e364178727a85d\", element=\"f.4AB8EF022783625D98E1A669DCB5580A.d.011D6FB3356256964A377C1C373272BA.e.10476\")>,\n",
       " <selenium.webdriver.remote.webelement.WebElement (session=\"7c47574ccc2e0b6001e364178727a85d\", element=\"f.4AB8EF022783625D98E1A669DCB5580A.d.011D6FB3356256964A377C1C373272BA.e.10856\")>,\n",
       " <selenium.webdriver.remote.webelement.WebElement (session=\"7c47574ccc2e0b6001e364178727a85d\", element=\"f.4AB8EF022783625D98E1A669DCB5580A.d.011D6FB3356256964A377C1C373272BA.e.10934\")>,\n",
       " <selenium.webdriver.remote.webelement.WebElement (session=\"7c47574ccc2e0b6001e364178727a85d\", element=\"f.4AB8EF022783625D98E1A669DCB5580A.d.011D6FB3356256964A377C1C373272BA.e.11006\")>,\n",
       " <selenium.webdriver.remote.webelement.WebElement (session=\"7c47574ccc2e0b6001e364178727a85d\", element=\"f.4AB8EF022783625D98E1A669DCB5580A.d.011D6FB3356256964A377C1C373272BA.e.11079\")>,\n",
       " <selenium.webdriver.remote.webelement.WebElement (session=\"7c47574ccc2e0b6001e364178727a85d\", element=\"f.4AB8EF022783625D98E1A669DCB5580A.d.011D6FB3356256964A377C1C373272BA.e.11145\")>,\n",
       " <selenium.webdriver.remote.webelement.WebElement (session=\"7c47574ccc2e0b6001e364178727a85d\", element=\"f.4AB8EF022783625D98E1A669DCB5580A.d.011D6FB3356256964A377C1C373272BA.e.11223\")>,\n",
       " <selenium.webdriver.remote.webelement.WebElement (session=\"7c47574ccc2e0b6001e364178727a85d\", element=\"f.4AB8EF022783625D98E1A669DCB5580A.d.011D6FB3356256964A377C1C373272BA.e.11290\")>,\n",
       " <selenium.webdriver.remote.webelement.WebElement (session=\"7c47574ccc2e0b6001e364178727a85d\", element=\"f.4AB8EF022783625D98E1A669DCB5580A.d.011D6FB3356256964A377C1C373272BA.e.11368\")>,\n",
       " <selenium.webdriver.remote.webelement.WebElement (session=\"7c47574ccc2e0b6001e364178727a85d\", element=\"f.4AB8EF022783625D98E1A669DCB5580A.d.011D6FB3356256964A377C1C373272BA.e.11446\")>,\n",
       " <selenium.webdriver.remote.webelement.WebElement (session=\"7c47574ccc2e0b6001e364178727a85d\", element=\"f.4AB8EF022783625D98E1A669DCB5580A.d.011D6FB3356256964A377C1C373272BA.e.11513\")>,\n",
       " <selenium.webdriver.remote.webelement.WebElement (session=\"7c47574ccc2e0b6001e364178727a85d\", element=\"f.4AB8EF022783625D98E1A669DCB5580A.d.011D6FB3356256964A377C1C373272BA.e.11585\")>,\n",
       " <selenium.webdriver.remote.webelement.WebElement (session=\"7c47574ccc2e0b6001e364178727a85d\", element=\"f.4AB8EF022783625D98E1A669DCB5580A.d.011D6FB3356256964A377C1C373272BA.e.11652\")>,\n",
       " <selenium.webdriver.remote.webelement.WebElement (session=\"7c47574ccc2e0b6001e364178727a85d\", element=\"f.4AB8EF022783625D98E1A669DCB5580A.d.011D6FB3356256964A377C1C373272BA.e.11725\")>,\n",
       " <selenium.webdriver.remote.webelement.WebElement (session=\"7c47574ccc2e0b6001e364178727a85d\", element=\"f.4AB8EF022783625D98E1A669DCB5580A.d.011D6FB3356256964A377C1C373272BA.e.11792\")>,\n",
       " <selenium.webdriver.remote.webelement.WebElement (session=\"7c47574ccc2e0b6001e364178727a85d\", element=\"f.4AB8EF022783625D98E1A669DCB5580A.d.011D6FB3356256964A377C1C373272BA.e.11864\")>,\n",
       " <selenium.webdriver.remote.webelement.WebElement (session=\"7c47574ccc2e0b6001e364178727a85d\", element=\"f.4AB8EF022783625D98E1A669DCB5580A.d.011D6FB3356256964A377C1C373272BA.e.11942\")>,\n",
       " <selenium.webdriver.remote.webelement.WebElement (session=\"7c47574ccc2e0b6001e364178727a85d\", element=\"f.4AB8EF022783625D98E1A669DCB5580A.d.011D6FB3356256964A377C1C373272BA.e.12015\")>,\n",
       " <selenium.webdriver.remote.webelement.WebElement (session=\"7c47574ccc2e0b6001e364178727a85d\", element=\"f.4AB8EF022783625D98E1A669DCB5580A.d.011D6FB3356256964A377C1C373272BA.e.12086\")>,\n",
       " <selenium.webdriver.remote.webelement.WebElement (session=\"7c47574ccc2e0b6001e364178727a85d\", element=\"f.4AB8EF022783625D98E1A669DCB5580A.d.011D6FB3356256964A377C1C373272BA.e.12158\")>,\n",
       " <selenium.webdriver.remote.webelement.WebElement (session=\"7c47574ccc2e0b6001e364178727a85d\", element=\"f.4AB8EF022783625D98E1A669DCB5580A.d.011D6FB3356256964A377C1C373272BA.e.12229\")>,\n",
       " <selenium.webdriver.remote.webelement.WebElement (session=\"7c47574ccc2e0b6001e364178727a85d\", element=\"f.4AB8EF022783625D98E1A669DCB5580A.d.011D6FB3356256964A377C1C373272BA.e.12590\")>,\n",
       " <selenium.webdriver.remote.webelement.WebElement (session=\"7c47574ccc2e0b6001e364178727a85d\", element=\"f.4AB8EF022783625D98E1A669DCB5580A.d.011D6FB3356256964A377C1C373272BA.e.12661\")>,\n",
       " <selenium.webdriver.remote.webelement.WebElement (session=\"7c47574ccc2e0b6001e364178727a85d\", element=\"f.4AB8EF022783625D98E1A669DCB5580A.d.011D6FB3356256964A377C1C373272BA.e.12738\")>,\n",
       " <selenium.webdriver.remote.webelement.WebElement (session=\"7c47574ccc2e0b6001e364178727a85d\", element=\"f.4AB8EF022783625D98E1A669DCB5580A.d.011D6FB3356256964A377C1C373272BA.e.12804\")>,\n",
       " <selenium.webdriver.remote.webelement.WebElement (session=\"7c47574ccc2e0b6001e364178727a85d\", element=\"f.4AB8EF022783625D98E1A669DCB5580A.d.011D6FB3356256964A377C1C373272BA.e.12871\")>,\n",
       " <selenium.webdriver.remote.webelement.WebElement (session=\"7c47574ccc2e0b6001e364178727a85d\", element=\"f.4AB8EF022783625D98E1A669DCB5580A.d.011D6FB3356256964A377C1C373272BA.e.12938\")>,\n",
       " <selenium.webdriver.remote.webelement.WebElement (session=\"7c47574ccc2e0b6001e364178727a85d\", element=\"f.4AB8EF022783625D98E1A669DCB5580A.d.011D6FB3356256964A377C1C373272BA.e.13005\")>,\n",
       " <selenium.webdriver.remote.webelement.WebElement (session=\"7c47574ccc2e0b6001e364178727a85d\", element=\"f.4AB8EF022783625D98E1A669DCB5580A.d.011D6FB3356256964A377C1C373272BA.e.13078\")>,\n",
       " <selenium.webdriver.remote.webelement.WebElement (session=\"7c47574ccc2e0b6001e364178727a85d\", element=\"f.4AB8EF022783625D98E1A669DCB5580A.d.011D6FB3356256964A377C1C373272BA.e.13145\")>,\n",
       " <selenium.webdriver.remote.webelement.WebElement (session=\"7c47574ccc2e0b6001e364178727a85d\", element=\"f.4AB8EF022783625D98E1A669DCB5580A.d.011D6FB3356256964A377C1C373272BA.e.13217\")>,\n",
       " <selenium.webdriver.remote.webelement.WebElement (session=\"7c47574ccc2e0b6001e364178727a85d\", element=\"f.4AB8EF022783625D98E1A669DCB5580A.d.011D6FB3356256964A377C1C373272BA.e.13295\")>,\n",
       " <selenium.webdriver.remote.webelement.WebElement (session=\"7c47574ccc2e0b6001e364178727a85d\", element=\"f.4AB8EF022783625D98E1A669DCB5580A.d.011D6FB3356256964A377C1C373272BA.e.13362\")>,\n",
       " <selenium.webdriver.remote.webelement.WebElement (session=\"7c47574ccc2e0b6001e364178727a85d\", element=\"f.4AB8EF022783625D98E1A669DCB5580A.d.011D6FB3356256964A377C1C373272BA.e.13434\")>,\n",
       " <selenium.webdriver.remote.webelement.WebElement (session=\"7c47574ccc2e0b6001e364178727a85d\", element=\"f.4AB8EF022783625D98E1A669DCB5580A.d.011D6FB3356256964A377C1C373272BA.e.13506\")>,\n",
       " <selenium.webdriver.remote.webelement.WebElement (session=\"7c47574ccc2e0b6001e364178727a85d\", element=\"f.4AB8EF022783625D98E1A669DCB5580A.d.011D6FB3356256964A377C1C373272BA.e.13583\")>,\n",
       " <selenium.webdriver.remote.webelement.WebElement (session=\"7c47574ccc2e0b6001e364178727a85d\", element=\"f.4AB8EF022783625D98E1A669DCB5580A.d.011D6FB3356256964A377C1C373272BA.e.13650\")>,\n",
       " <selenium.webdriver.remote.webelement.WebElement (session=\"7c47574ccc2e0b6001e364178727a85d\", element=\"f.4AB8EF022783625D98E1A669DCB5580A.d.011D6FB3356256964A377C1C373272BA.e.13722\")>,\n",
       " <selenium.webdriver.remote.webelement.WebElement (session=\"7c47574ccc2e0b6001e364178727a85d\", element=\"f.4AB8EF022783625D98E1A669DCB5580A.d.011D6FB3356256964A377C1C373272BA.e.13794\")>,\n",
       " <selenium.webdriver.remote.webelement.WebElement (session=\"7c47574ccc2e0b6001e364178727a85d\", element=\"f.4AB8EF022783625D98E1A669DCB5580A.d.011D6FB3356256964A377C1C373272BA.e.13871\")>,\n",
       " <selenium.webdriver.remote.webelement.WebElement (session=\"7c47574ccc2e0b6001e364178727a85d\", element=\"f.4AB8EF022783625D98E1A669DCB5580A.d.011D6FB3356256964A377C1C373272BA.e.13942\")>,\n",
       " <selenium.webdriver.remote.webelement.WebElement (session=\"7c47574ccc2e0b6001e364178727a85d\", element=\"f.4AB8EF022783625D98E1A669DCB5580A.d.011D6FB3356256964A377C1C373272BA.e.14309\")>,\n",
       " <selenium.webdriver.remote.webelement.WebElement (session=\"7c47574ccc2e0b6001e364178727a85d\", element=\"f.4AB8EF022783625D98E1A669DCB5580A.d.011D6FB3356256964A377C1C373272BA.e.14386\")>,\n",
       " <selenium.webdriver.remote.webelement.WebElement (session=\"7c47574ccc2e0b6001e364178727a85d\", element=\"f.4AB8EF022783625D98E1A669DCB5580A.d.011D6FB3356256964A377C1C373272BA.e.14458\")>,\n",
       " <selenium.webdriver.remote.webelement.WebElement (session=\"7c47574ccc2e0b6001e364178727a85d\", element=\"f.4AB8EF022783625D98E1A669DCB5580A.d.011D6FB3356256964A377C1C373272BA.e.14530\")>,\n",
       " <selenium.webdriver.remote.webelement.WebElement (session=\"7c47574ccc2e0b6001e364178727a85d\", element=\"f.4AB8EF022783625D98E1A669DCB5580A.d.011D6FB3356256964A377C1C373272BA.e.14603\")>,\n",
       " <selenium.webdriver.remote.webelement.WebElement (session=\"7c47574ccc2e0b6001e364178727a85d\", element=\"f.4AB8EF022783625D98E1A669DCB5580A.d.011D6FB3356256964A377C1C373272BA.e.14670\")>,\n",
       " <selenium.webdriver.remote.webelement.WebElement (session=\"7c47574ccc2e0b6001e364178727a85d\", element=\"f.4AB8EF022783625D98E1A669DCB5580A.d.011D6FB3356256964A377C1C373272BA.e.14741\")>,\n",
       " <selenium.webdriver.remote.webelement.WebElement (session=\"7c47574ccc2e0b6001e364178727a85d\", element=\"f.4AB8EF022783625D98E1A669DCB5580A.d.011D6FB3356256964A377C1C373272BA.e.14819\")>,\n",
       " <selenium.webdriver.remote.webelement.WebElement (session=\"7c47574ccc2e0b6001e364178727a85d\", element=\"f.4AB8EF022783625D98E1A669DCB5580A.d.011D6FB3356256964A377C1C373272BA.e.14885\")>,\n",
       " <selenium.webdriver.remote.webelement.WebElement (session=\"7c47574ccc2e0b6001e364178727a85d\", element=\"f.4AB8EF022783625D98E1A669DCB5580A.d.011D6FB3356256964A377C1C373272BA.e.14958\")>,\n",
       " <selenium.webdriver.remote.webelement.WebElement (session=\"7c47574ccc2e0b6001e364178727a85d\", element=\"f.4AB8EF022783625D98E1A669DCB5580A.d.011D6FB3356256964A377C1C373272BA.e.15035\")>,\n",
       " <selenium.webdriver.remote.webelement.WebElement (session=\"7c47574ccc2e0b6001e364178727a85d\", element=\"f.4AB8EF022783625D98E1A669DCB5580A.d.011D6FB3356256964A377C1C373272BA.e.15112\")>,\n",
       " <selenium.webdriver.remote.webelement.WebElement (session=\"7c47574ccc2e0b6001e364178727a85d\", element=\"f.4AB8EF022783625D98E1A669DCB5580A.d.011D6FB3356256964A377C1C373272BA.e.15184\")>,\n",
       " <selenium.webdriver.remote.webelement.WebElement (session=\"7c47574ccc2e0b6001e364178727a85d\", element=\"f.4AB8EF022783625D98E1A669DCB5580A.d.011D6FB3356256964A377C1C373272BA.e.15251\")>,\n",
       " <selenium.webdriver.remote.webelement.WebElement (session=\"7c47574ccc2e0b6001e364178727a85d\", element=\"f.4AB8EF022783625D98E1A669DCB5580A.d.011D6FB3356256964A377C1C373272BA.e.15323\")>,\n",
       " <selenium.webdriver.remote.webelement.WebElement (session=\"7c47574ccc2e0b6001e364178727a85d\", element=\"f.4AB8EF022783625D98E1A669DCB5580A.d.011D6FB3356256964A377C1C373272BA.e.15395\")>,\n",
       " <selenium.webdriver.remote.webelement.WebElement (session=\"7c47574ccc2e0b6001e364178727a85d\", element=\"f.4AB8EF022783625D98E1A669DCB5580A.d.011D6FB3356256964A377C1C373272BA.e.15462\")>,\n",
       " <selenium.webdriver.remote.webelement.WebElement (session=\"7c47574ccc2e0b6001e364178727a85d\", element=\"f.4AB8EF022783625D98E1A669DCB5580A.d.011D6FB3356256964A377C1C373272BA.e.15533\")>,\n",
       " <selenium.webdriver.remote.webelement.WebElement (session=\"7c47574ccc2e0b6001e364178727a85d\", element=\"f.4AB8EF022783625D98E1A669DCB5580A.d.011D6FB3356256964A377C1C373272BA.e.15611\")>,\n",
       " <selenium.webdriver.remote.webelement.WebElement (session=\"7c47574ccc2e0b6001e364178727a85d\", element=\"f.4AB8EF022783625D98E1A669DCB5580A.d.011D6FB3356256964A377C1C373272BA.e.15689\")>,\n",
       " <selenium.webdriver.remote.webelement.WebElement (session=\"7c47574ccc2e0b6001e364178727a85d\", element=\"f.4AB8EF022783625D98E1A669DCB5580A.d.011D6FB3356256964A377C1C373272BA.e.16063\")>,\n",
       " <selenium.webdriver.remote.webelement.WebElement (session=\"7c47574ccc2e0b6001e364178727a85d\", element=\"f.4AB8EF022783625D98E1A669DCB5580A.d.011D6FB3356256964A377C1C373272BA.e.16130\")>,\n",
       " <selenium.webdriver.remote.webelement.WebElement (session=\"7c47574ccc2e0b6001e364178727a85d\", element=\"f.4AB8EF022783625D98E1A669DCB5580A.d.011D6FB3356256964A377C1C373272BA.e.16196\")>,\n",
       " <selenium.webdriver.remote.webelement.WebElement (session=\"7c47574ccc2e0b6001e364178727a85d\", element=\"f.4AB8EF022783625D98E1A669DCB5580A.d.011D6FB3356256964A377C1C373272BA.e.16263\")>,\n",
       " <selenium.webdriver.remote.webelement.WebElement (session=\"7c47574ccc2e0b6001e364178727a85d\", element=\"f.4AB8EF022783625D98E1A669DCB5580A.d.011D6FB3356256964A377C1C373272BA.e.16335\")>,\n",
       " <selenium.webdriver.remote.webelement.WebElement (session=\"7c47574ccc2e0b6001e364178727a85d\", element=\"f.4AB8EF022783625D98E1A669DCB5580A.d.011D6FB3356256964A377C1C373272BA.e.16412\")>,\n",
       " <selenium.webdriver.remote.webelement.WebElement (session=\"7c47574ccc2e0b6001e364178727a85d\", element=\"f.4AB8EF022783625D98E1A669DCB5580A.d.011D6FB3356256964A377C1C373272BA.e.16478\")>,\n",
       " <selenium.webdriver.remote.webelement.WebElement (session=\"7c47574ccc2e0b6001e364178727a85d\", element=\"f.4AB8EF022783625D98E1A669DCB5580A.d.011D6FB3356256964A377C1C373272BA.e.16544\")>,\n",
       " <selenium.webdriver.remote.webelement.WebElement (session=\"7c47574ccc2e0b6001e364178727a85d\", element=\"f.4AB8EF022783625D98E1A669DCB5580A.d.011D6FB3356256964A377C1C373272BA.e.16616\")>,\n",
       " <selenium.webdriver.remote.webelement.WebElement (session=\"7c47574ccc2e0b6001e364178727a85d\", element=\"f.4AB8EF022783625D98E1A669DCB5580A.d.011D6FB3356256964A377C1C373272BA.e.16688\")>,\n",
       " <selenium.webdriver.remote.webelement.WebElement (session=\"7c47574ccc2e0b6001e364178727a85d\", element=\"f.4AB8EF022783625D98E1A669DCB5580A.d.011D6FB3356256964A377C1C373272BA.e.16760\")>,\n",
       " <selenium.webdriver.remote.webelement.WebElement (session=\"7c47574ccc2e0b6001e364178727a85d\", element=\"f.4AB8EF022783625D98E1A669DCB5580A.d.011D6FB3356256964A377C1C373272BA.e.16833\")>,\n",
       " <selenium.webdriver.remote.webelement.WebElement (session=\"7c47574ccc2e0b6001e364178727a85d\", element=\"f.4AB8EF022783625D98E1A669DCB5580A.d.011D6FB3356256964A377C1C373272BA.e.16900\")>,\n",
       " <selenium.webdriver.remote.webelement.WebElement (session=\"7c47574ccc2e0b6001e364178727a85d\", element=\"f.4AB8EF022783625D98E1A669DCB5580A.d.011D6FB3356256964A377C1C373272BA.e.16966\")>,\n",
       " <selenium.webdriver.remote.webelement.WebElement (session=\"7c47574ccc2e0b6001e364178727a85d\", element=\"f.4AB8EF022783625D98E1A669DCB5580A.d.011D6FB3356256964A377C1C373272BA.e.17039\")>,\n",
       " <selenium.webdriver.remote.webelement.WebElement (session=\"7c47574ccc2e0b6001e364178727a85d\", element=\"f.4AB8EF022783625D98E1A669DCB5580A.d.011D6FB3356256964A377C1C373272BA.e.17117\")>,\n",
       " <selenium.webdriver.remote.webelement.WebElement (session=\"7c47574ccc2e0b6001e364178727a85d\", element=\"f.4AB8EF022783625D98E1A669DCB5580A.d.011D6FB3356256964A377C1C373272BA.e.17184\")>,\n",
       " <selenium.webdriver.remote.webelement.WebElement (session=\"7c47574ccc2e0b6001e364178727a85d\", element=\"f.4AB8EF022783625D98E1A669DCB5580A.d.011D6FB3356256964A377C1C373272BA.e.17257\")>,\n",
       " <selenium.webdriver.remote.webelement.WebElement (session=\"7c47574ccc2e0b6001e364178727a85d\", element=\"f.4AB8EF022783625D98E1A669DCB5580A.d.011D6FB3356256964A377C1C373272BA.e.17330\")>,\n",
       " <selenium.webdriver.remote.webelement.WebElement (session=\"7c47574ccc2e0b6001e364178727a85d\", element=\"f.4AB8EF022783625D98E1A669DCB5580A.d.011D6FB3356256964A377C1C373272BA.e.17402\")>,\n",
       " <selenium.webdriver.remote.webelement.WebElement (session=\"7c47574ccc2e0b6001e364178727a85d\", element=\"f.4AB8EF022783625D98E1A669DCB5580A.d.011D6FB3356256964A377C1C373272BA.e.17767\")>,\n",
       " <selenium.webdriver.remote.webelement.WebElement (session=\"7c47574ccc2e0b6001e364178727a85d\", element=\"f.4AB8EF022783625D98E1A669DCB5580A.d.011D6FB3356256964A377C1C373272BA.e.17839\")>,\n",
       " <selenium.webdriver.remote.webelement.WebElement (session=\"7c47574ccc2e0b6001e364178727a85d\", element=\"f.4AB8EF022783625D98E1A669DCB5580A.d.011D6FB3356256964A377C1C373272BA.e.17906\")>,\n",
       " <selenium.webdriver.remote.webelement.WebElement (session=\"7c47574ccc2e0b6001e364178727a85d\", element=\"f.4AB8EF022783625D98E1A669DCB5580A.d.011D6FB3356256964A377C1C373272BA.e.17978\")>,\n",
       " <selenium.webdriver.remote.webelement.WebElement (session=\"7c47574ccc2e0b6001e364178727a85d\", element=\"f.4AB8EF022783625D98E1A669DCB5580A.d.011D6FB3356256964A377C1C373272BA.e.18045\")>,\n",
       " <selenium.webdriver.remote.webelement.WebElement (session=\"7c47574ccc2e0b6001e364178727a85d\", element=\"f.4AB8EF022783625D98E1A669DCB5580A.d.011D6FB3356256964A377C1C373272BA.e.18122\")>,\n",
       " <selenium.webdriver.remote.webelement.WebElement (session=\"7c47574ccc2e0b6001e364178727a85d\", element=\"f.4AB8EF022783625D98E1A669DCB5580A.d.011D6FB3356256964A377C1C373272BA.e.18194\")>,\n",
       " <selenium.webdriver.remote.webelement.WebElement (session=\"7c47574ccc2e0b6001e364178727a85d\", element=\"f.4AB8EF022783625D98E1A669DCB5580A.d.011D6FB3356256964A377C1C373272BA.e.18260\")>,\n",
       " <selenium.webdriver.remote.webelement.WebElement (session=\"7c47574ccc2e0b6001e364178727a85d\", element=\"f.4AB8EF022783625D98E1A669DCB5580A.d.011D6FB3356256964A377C1C373272BA.e.18332\")>,\n",
       " <selenium.webdriver.remote.webelement.WebElement (session=\"7c47574ccc2e0b6001e364178727a85d\", element=\"f.4AB8EF022783625D98E1A669DCB5580A.d.011D6FB3356256964A377C1C373272BA.e.18403\")>,\n",
       " <selenium.webdriver.remote.webelement.WebElement (session=\"7c47574ccc2e0b6001e364178727a85d\", element=\"f.4AB8EF022783625D98E1A669DCB5580A.d.011D6FB3356256964A377C1C373272BA.e.18469\")>,\n",
       " <selenium.webdriver.remote.webelement.WebElement (session=\"7c47574ccc2e0b6001e364178727a85d\", element=\"f.4AB8EF022783625D98E1A669DCB5580A.d.011D6FB3356256964A377C1C373272BA.e.18541\")>,\n",
       " <selenium.webdriver.remote.webelement.WebElement (session=\"7c47574ccc2e0b6001e364178727a85d\", element=\"f.4AB8EF022783625D98E1A669DCB5580A.d.011D6FB3356256964A377C1C373272BA.e.18614\")>,\n",
       " <selenium.webdriver.remote.webelement.WebElement (session=\"7c47574ccc2e0b6001e364178727a85d\", element=\"f.4AB8EF022783625D98E1A669DCB5580A.d.011D6FB3356256964A377C1C373272BA.e.18691\")>,\n",
       " <selenium.webdriver.remote.webelement.WebElement (session=\"7c47574ccc2e0b6001e364178727a85d\", element=\"f.4AB8EF022783625D98E1A669DCB5580A.d.011D6FB3356256964A377C1C373272BA.e.18764\")>,\n",
       " <selenium.webdriver.remote.webelement.WebElement (session=\"7c47574ccc2e0b6001e364178727a85d\", element=\"f.4AB8EF022783625D98E1A669DCB5580A.d.011D6FB3356256964A377C1C373272BA.e.18836\")>,\n",
       " <selenium.webdriver.remote.webelement.WebElement (session=\"7c47574ccc2e0b6001e364178727a85d\", element=\"f.4AB8EF022783625D98E1A669DCB5580A.d.011D6FB3356256964A377C1C373272BA.e.18908\")>,\n",
       " <selenium.webdriver.remote.webelement.WebElement (session=\"7c47574ccc2e0b6001e364178727a85d\", element=\"f.4AB8EF022783625D98E1A669DCB5580A.d.011D6FB3356256964A377C1C373272BA.e.18974\")>,\n",
       " <selenium.webdriver.remote.webelement.WebElement (session=\"7c47574ccc2e0b6001e364178727a85d\", element=\"f.4AB8EF022783625D98E1A669DCB5580A.d.011D6FB3356256964A377C1C373272BA.e.19045\")>,\n",
       " <selenium.webdriver.remote.webelement.WebElement (session=\"7c47574ccc2e0b6001e364178727a85d\", element=\"f.4AB8EF022783625D98E1A669DCB5580A.d.011D6FB3356256964A377C1C373272BA.e.19122\")>,\n",
       " <selenium.webdriver.remote.webelement.WebElement (session=\"7c47574ccc2e0b6001e364178727a85d\", element=\"f.4AB8EF022783625D98E1A669DCB5580A.d.011D6FB3356256964A377C1C373272BA.e.19483\")>,\n",
       " <selenium.webdriver.remote.webelement.WebElement (session=\"7c47574ccc2e0b6001e364178727a85d\", element=\"f.4AB8EF022783625D98E1A669DCB5580A.d.011D6FB3356256964A377C1C373272BA.e.19555\")>,\n",
       " <selenium.webdriver.remote.webelement.WebElement (session=\"7c47574ccc2e0b6001e364178727a85d\", element=\"f.4AB8EF022783625D98E1A669DCB5580A.d.011D6FB3356256964A377C1C373272BA.e.19621\")>,\n",
       " <selenium.webdriver.remote.webelement.WebElement (session=\"7c47574ccc2e0b6001e364178727a85d\", element=\"f.4AB8EF022783625D98E1A669DCB5580A.d.011D6FB3356256964A377C1C373272BA.e.19694\")>,\n",
       " <selenium.webdriver.remote.webelement.WebElement (session=\"7c47574ccc2e0b6001e364178727a85d\", element=\"f.4AB8EF022783625D98E1A669DCB5580A.d.011D6FB3356256964A377C1C373272BA.e.19766\")>,\n",
       " <selenium.webdriver.remote.webelement.WebElement (session=\"7c47574ccc2e0b6001e364178727a85d\", element=\"f.4AB8EF022783625D98E1A669DCB5580A.d.011D6FB3356256964A377C1C373272BA.e.19838\")>,\n",
       " <selenium.webdriver.remote.webelement.WebElement (session=\"7c47574ccc2e0b6001e364178727a85d\", element=\"f.4AB8EF022783625D98E1A669DCB5580A.d.011D6FB3356256964A377C1C373272BA.e.19910\")>,\n",
       " <selenium.webdriver.remote.webelement.WebElement (session=\"7c47574ccc2e0b6001e364178727a85d\", element=\"f.4AB8EF022783625D98E1A669DCB5580A.d.011D6FB3356256964A377C1C373272BA.e.19976\")>,\n",
       " <selenium.webdriver.remote.webelement.WebElement (session=\"7c47574ccc2e0b6001e364178727a85d\", element=\"f.4AB8EF022783625D98E1A669DCB5580A.d.011D6FB3356256964A377C1C373272BA.e.20042\")>,\n",
       " <selenium.webdriver.remote.webelement.WebElement (session=\"7c47574ccc2e0b6001e364178727a85d\", element=\"f.4AB8EF022783625D98E1A669DCB5580A.d.011D6FB3356256964A377C1C373272BA.e.20114\")>,\n",
       " <selenium.webdriver.remote.webelement.WebElement (session=\"7c47574ccc2e0b6001e364178727a85d\", element=\"f.4AB8EF022783625D98E1A669DCB5580A.d.011D6FB3356256964A377C1C373272BA.e.20180\")>,\n",
       " <selenium.webdriver.remote.webelement.WebElement (session=\"7c47574ccc2e0b6001e364178727a85d\", element=\"f.4AB8EF022783625D98E1A669DCB5580A.d.011D6FB3356256964A377C1C373272BA.e.20258\")>,\n",
       " <selenium.webdriver.remote.webelement.WebElement (session=\"7c47574ccc2e0b6001e364178727a85d\", element=\"f.4AB8EF022783625D98E1A669DCB5580A.d.011D6FB3356256964A377C1C373272BA.e.20325\")>,\n",
       " <selenium.webdriver.remote.webelement.WebElement (session=\"7c47574ccc2e0b6001e364178727a85d\", element=\"f.4AB8EF022783625D98E1A669DCB5580A.d.011D6FB3356256964A377C1C373272BA.e.20397\")>,\n",
       " <selenium.webdriver.remote.webelement.WebElement (session=\"7c47574ccc2e0b6001e364178727a85d\", element=\"f.4AB8EF022783625D98E1A669DCB5580A.d.011D6FB3356256964A377C1C373272BA.e.20463\")>,\n",
       " <selenium.webdriver.remote.webelement.WebElement (session=\"7c47574ccc2e0b6001e364178727a85d\", element=\"f.4AB8EF022783625D98E1A669DCB5580A.d.011D6FB3356256964A377C1C373272BA.e.20536\")>,\n",
       " <selenium.webdriver.remote.webelement.WebElement (session=\"7c47574ccc2e0b6001e364178727a85d\", element=\"f.4AB8EF022783625D98E1A669DCB5580A.d.011D6FB3356256964A377C1C373272BA.e.20603\")>,\n",
       " <selenium.webdriver.remote.webelement.WebElement (session=\"7c47574ccc2e0b6001e364178727a85d\", element=\"f.4AB8EF022783625D98E1A669DCB5580A.d.011D6FB3356256964A377C1C373272BA.e.20680\")>,\n",
       " <selenium.webdriver.remote.webelement.WebElement (session=\"7c47574ccc2e0b6001e364178727a85d\", element=\"f.4AB8EF022783625D98E1A669DCB5580A.d.011D6FB3356256964A377C1C373272BA.e.20752\")>,\n",
       " <selenium.webdriver.remote.webelement.WebElement (session=\"7c47574ccc2e0b6001e364178727a85d\", element=\"f.4AB8EF022783625D98E1A669DCB5580A.d.011D6FB3356256964A377C1C373272BA.e.20818\")>,\n",
       " <selenium.webdriver.remote.webelement.WebElement (session=\"7c47574ccc2e0b6001e364178727a85d\", element=\"f.4AB8EF022783625D98E1A669DCB5580A.d.011D6FB3356256964A377C1C373272BA.e.21189\")>,\n",
       " <selenium.webdriver.remote.webelement.WebElement (session=\"7c47574ccc2e0b6001e364178727a85d\", element=\"f.4AB8EF022783625D98E1A669DCB5580A.d.011D6FB3356256964A377C1C373272BA.e.21261\")>,\n",
       " <selenium.webdriver.remote.webelement.WebElement (session=\"7c47574ccc2e0b6001e364178727a85d\", element=\"f.4AB8EF022783625D98E1A669DCB5580A.d.011D6FB3356256964A377C1C373272BA.e.21339\")>,\n",
       " <selenium.webdriver.remote.webelement.WebElement (session=\"7c47574ccc2e0b6001e364178727a85d\", element=\"f.4AB8EF022783625D98E1A669DCB5580A.d.011D6FB3356256964A377C1C373272BA.e.21411\")>,\n",
       " <selenium.webdriver.remote.webelement.WebElement (session=\"7c47574ccc2e0b6001e364178727a85d\", element=\"f.4AB8EF022783625D98E1A669DCB5580A.d.011D6FB3356256964A377C1C373272BA.e.21477\")>,\n",
       " <selenium.webdriver.remote.webelement.WebElement (session=\"7c47574ccc2e0b6001e364178727a85d\", element=\"f.4AB8EF022783625D98E1A669DCB5580A.d.011D6FB3356256964A377C1C373272BA.e.21550\")>,\n",
       " <selenium.webdriver.remote.webelement.WebElement (session=\"7c47574ccc2e0b6001e364178727a85d\", element=\"f.4AB8EF022783625D98E1A669DCB5580A.d.011D6FB3356256964A377C1C373272BA.e.21622\")>,\n",
       " <selenium.webdriver.remote.webelement.WebElement (session=\"7c47574ccc2e0b6001e364178727a85d\", element=\"f.4AB8EF022783625D98E1A669DCB5580A.d.011D6FB3356256964A377C1C373272BA.e.21695\")>,\n",
       " <selenium.webdriver.remote.webelement.WebElement (session=\"7c47574ccc2e0b6001e364178727a85d\", element=\"f.4AB8EF022783625D98E1A669DCB5580A.d.011D6FB3356256964A377C1C373272BA.e.21761\")>,\n",
       " <selenium.webdriver.remote.webelement.WebElement (session=\"7c47574ccc2e0b6001e364178727a85d\", element=\"f.4AB8EF022783625D98E1A669DCB5580A.d.011D6FB3356256964A377C1C373272BA.e.21833\")>,\n",
       " <selenium.webdriver.remote.webelement.WebElement (session=\"7c47574ccc2e0b6001e364178727a85d\", element=\"f.4AB8EF022783625D98E1A669DCB5580A.d.011D6FB3356256964A377C1C373272BA.e.21905\")>,\n",
       " <selenium.webdriver.remote.webelement.WebElement (session=\"7c47574ccc2e0b6001e364178727a85d\", element=\"f.4AB8EF022783625D98E1A669DCB5580A.d.011D6FB3356256964A377C1C373272BA.e.21983\")>,\n",
       " <selenium.webdriver.remote.webelement.WebElement (session=\"7c47574ccc2e0b6001e364178727a85d\", element=\"f.4AB8EF022783625D98E1A669DCB5580A.d.011D6FB3356256964A377C1C373272BA.e.22056\")>,\n",
       " <selenium.webdriver.remote.webelement.WebElement (session=\"7c47574ccc2e0b6001e364178727a85d\", element=\"f.4AB8EF022783625D98E1A669DCB5580A.d.011D6FB3356256964A377C1C373272BA.e.22123\")>,\n",
       " <selenium.webdriver.remote.webelement.WebElement (session=\"7c47574ccc2e0b6001e364178727a85d\", element=\"f.4AB8EF022783625D98E1A669DCB5580A.d.011D6FB3356256964A377C1C373272BA.e.22189\")>,\n",
       " <selenium.webdriver.remote.webelement.WebElement (session=\"7c47574ccc2e0b6001e364178727a85d\", element=\"f.4AB8EF022783625D98E1A669DCB5580A.d.011D6FB3356256964A377C1C373272BA.e.22261\")>,\n",
       " <selenium.webdriver.remote.webelement.WebElement (session=\"7c47574ccc2e0b6001e364178727a85d\", element=\"f.4AB8EF022783625D98E1A669DCB5580A.d.011D6FB3356256964A377C1C373272BA.e.22338\")>,\n",
       " <selenium.webdriver.remote.webelement.WebElement (session=\"7c47574ccc2e0b6001e364178727a85d\", element=\"f.4AB8EF022783625D98E1A669DCB5580A.d.011D6FB3356256964A377C1C373272BA.e.22415\")>,\n",
       " <selenium.webdriver.remote.webelement.WebElement (session=\"7c47574ccc2e0b6001e364178727a85d\", element=\"f.4AB8EF022783625D98E1A669DCB5580A.d.011D6FB3356256964A377C1C373272BA.e.22488\")>,\n",
       " <selenium.webdriver.remote.webelement.WebElement (session=\"7c47574ccc2e0b6001e364178727a85d\", element=\"f.4AB8EF022783625D98E1A669DCB5580A.d.011D6FB3356256964A377C1C373272BA.e.22561\")>]"
      ]
     },
     "execution_count": 230,
     "metadata": {},
     "output_type": "execute_result"
    }
   ],
   "source": [
    "reviews = driver.find_elements(By.CSS_SELECTOR, 'div.RHo1pe')\n",
    "reviews"
   ]
  },
  {
   "cell_type": "code",
   "execution_count": 234,
   "id": "2b258ff3-5f81-4db8-818b-6e40aa5c0623",
   "metadata": {},
   "outputs": [
    {
     "name": "stdout",
     "output_type": "stream",
     "text": [
      "{'text': '많고 많은 필터어플들이 개성은 별로 없는편인데 피크닉은 독보적인 필터들이 많아서 계속 찾게되네요 ㅎㅎ 날씨 흐린날 사진찍을때 정말 최고에요😍 다만 건의드릴게있어요! 1.앱 실행시에 바로 카메라로 넘어가도록 하는 설정이 있으면 더 좋을것같아요 2.청바지 입을경우에 하늘로 인식하는경우가 있어서 난감할때가 있어요! 이부분은 개선이 필요해보여요 좋은앱 개발해주셔서 항상 감사합니다😍 사는동안 많이 버시고 행복하세요 ;)', 'star': 5, 'date': '2019년 4월 14일'}\n",
      "{'text': '저 웬만하면 리뷰 잘 안 쓰는데 이 앱 너무 좋아서 쓰러 왔어요ㅠㅠㅠ♡♡ 평소에 사진 찍는 걸 굉장히 좋아하는데 색감이나 하늘 배경이 아쉬울 때가 있었거든요!! 근데 피크닉 다운받고 나서 그런 고민 싹 사라졌어요!! 하늘 인식도 잘하고 필터 씌워도 자연스럽고 너무 예뻐요... 기본캠으로 찍고 후필터 씌우니 화질도 안 깨지고 좋네요ㅎㅎ 사진 찍고 필터 씌워서 여러 분위기의 하늘 표현하는 재미가 쏠쏠하네요 히히 개발자님들 너무 감사하고 앞으로도 예쁜 필터 더 많이 만들어주세요~~♡♡ (한 가지 아쉬운 점은 밤하늘은 인식을 못하더라구요... 밤하늘에 별밤 필터 씌우고 싶은데ㅠㅠ 이것만 개선되면 정말 완벽할 것 같아요!ㅎㅎ)', 'star': 5, 'date': '2019년 1월 3일'}\n",
      "{'text': '제품사진을 찍을 화질좋은 필터앱을 찾다 평점이 제일 높길래 골랐는데 너무 예쁘네요!! 다만 딱 한 가지 건의 사항이 있다면 저는 찍힌 사진을 확인 후 저장하는 편이라 찍고 바로 자동 저장이 아닌, 찍은 걸 보여주면서 저장버튼이 활성화 됐으면 좋겠어요!!ㅠㅜ', 'star': 5, 'date': '2023년 2월 1일'}\n",
      "{'text': '배경이 자연스럽게 들어가 흐린날에도 사진찍기 좋고 필터 하나하나 색감도 너무 마음에 들어서 실내에서도 피크닉을 자주 써요! 한가지 아쉬운 점은 저장 전에 미리보기가 불가능하다는 거ㅠㅠ 저장 후에 사진을 볼 수 있어 흔들렸거나 마음에 안들면 삭제하고 다시 찍어야 해서 조금 불편해요... 저장 전 미리보기 기능 추가해주시면 정말 감사하겠습니다 :) 좋은 앱 만들어주셔서 감사해요💕', 'star': 5, 'date': '2019년 2월 4일'}\n",
      "{'text': '진짜 이 앱은 남이 알까 무서울 정도로 좋은 앱이네요ㅠㅜㅜ 사진이 세상 예쁘게 되고 너무 깔끔하고 좋아요.....ㅠ 근데 딱 하나 셔터 속도가 좀 느리고, 사진을 한 번 찍고 나면 촬영버튼이 흐릿해져서 다시 나타나지를 않아서(촬영불가) 홈화면으로 한 번 나갔다 들어와야 합니다.... 그래서 여러 장 찍기가 너무 불편해요! 이 점만 고쳐주시면 1등앱일 거 같아요!♡!', 'star': 5, 'date': '2019년 6월 1일'}\n",
      "{'text': '일단 정말 잘 사용하고 있구요!감사합니다! 다만 최근 AI기능 on off가 있어서 off로해놔도 어플 껐다켜면 다시 on으로 되어있네요ㅠㅠ 공부인증용으로 무음카메라가 필요해서 쓰는건데 카메라 켜면 ai기능이 자동으로 작동돼서 진동이 지익지익 울리는게 조금 불편해요. 어플 다시 껐다 켜도 한번off로 설정하면 제가 다시 on으로 돌리기전엔 안켜지도록 해주실수있나요??', 'star': 5, 'date': '2019년 2월 26일'}\n",
      "{'text': '너무 좋습니다👍👍 다만 하나 단점은 화질이 살짝 안좋게 저장이 됩니다 ㅜㅜ 하늘은 정말 이쁘게 적용되서 찍히는데 나중에 갤러리와서 확인해보면 찍을때처럼 똑같이 선명하게 나오지 않더라구요 ㅜㅜ 그것만 고쳐주세요!! 아 그리고 요번에 나온 새로운필터 너무 이쁩니다❤❤', 'star': 5, 'date': '2019년 1월 6일'}\n",
      "{'text': '마음에 쏙 드는 앱입니다ㅎㅎ 카메라 필터앱은 보통 인물 위주로 되어 있다보니 항상 아쉬웠는데... 풍경 사진을 예쁘게 만들어주는 피크닉 정말 유니크하고 많은 사람들이 알았으면 좋겠어요ㅎㅎ 다만 한가지 아쉬운 점은 기본 카메라로 찍고 후보정을 했을 때 위치 정보는 저장이 되는데 시간 정보가 저장이 안되는 게 조금 아쉽네요... 그 외에는 전부 좋아요❤️ 앞으로 추가될 필터도 기대하겠습니다~~~🥰', 'star': 5, 'date': '2022년 7월 28일'}\n",
      "{'text': '필터가 다양하고 너무 예쁘고 좋아요! 그런데 플래쉬를 사용할 때 약간 문제가 있어요 ㅠ /사진 찍을 때 손, 핸드폰 그림자가 나오는 게 싫어서 플래쉬를 키고 찍었는데 사진을 딱 찍을 때 플래쉬가 깜빡 하면서 오히려 그림자가 더 심하게 나오고 어둡고 플래쉬가 소용이 없는 것 같아요 ㅠ 예전부터 너무 잘 사용하고 있는 어플인데 최근에야 플래쉬를 써봐서 이런 문제가 있는 줄은 몰랐네요 ㅠ', 'star': 5, 'date': '2021년 8월 23일'}\n",
      "{'text': 'ESTsoft라니!! 알집 회사 맞죠!! 대박 이 어플 너무 좋아요👍👍 최고예요ㅎㅎ 앞으로 핸드폰 어플도 좋은 프로그램 많이 만들어 주세요!! 다만 부분적으로 선택 영역을 뺄 수 있는 기능이 있으면 좋겠어요. 버스 색이 파란색이라 하늘이랑 같이 색이 변합니다...ㅎㅎ 좋은 어플 만들어주셔서 감사합니다~ 이런 어플이 무료라니 개발자분들 만수무강하세요ㅎㅎㅎㅎㅎ', 'star': 5, 'date': '2021년 1월 23일'}\n",
      "{'text': '사진찍기를 좋아하는 학생입니다!! 여러가지 필터어플들을 많이 로드하고, 또 사용해봤는데 피크닉 만큼 예쁜 색감의 어플을 없는 것 같아요😍 진짜 이 어플 사용하면서 인생샷도 많이 찍었고, 친구들한테도 추천했어요!! 이 어플 쓰시면 정말 좋아요💜 강추드립니다👍🏻👍🏻', 'star': 5, 'date': '2019년 4월 28일'}\n",
      "{'text': '어플사용하면서 리뷰달아본적이 없는데 처음으로 남깁니다. 너무너무 좋은것 같아요. 물론 전문적인 보정작업은 컴퓨터로 다 만지긴 하지만, 이렇게 핸드폰으로도 간단하게 어색하지않고 자연스럽고 이쁘게 보정되는 다양한 필터를 쓸수있다는게 너무 놀랍습니다. 가장 좋은점은 필터의 다양한 색감과 하늘합성기능, 광고없이 편허게 쓸수있다는점 인것 겉네요! 폰카메라어플은 여태까지 이것저것 써보고 모두 삭제했는데 이 어플은 두고두고 계속 쓰게될것 같습니다!', 'star': 5, 'date': '2021년 5월 18일'}\n",
      "{'text': '피크닉 앱을 잘 쓰고있는 유저입니다! 정말 다 좋지만 한가지 아쉬운 점이 있습니다... 필터가 많아서 제가 즐겨쓰는 필터를 찾을려면 오래걸리거든요.... 그래서 즐겨찾기 기능을 만들어 주셨으면 합니다!! 만들어주시면 정말 감사하겠습니다( ˘ ³˘)♥', 'star': 5, 'date': '2019년 5월 6일'}\n",
      "{'text': '사진 화질도 아주좋고 쓸만하네요 하지만 사람들이 더 다양하게 커스텀 할수있는 기능을 추가 했으면 해요 예를 하나 들어볼게요 , 밝기조절을 통해 직접 바꾸거나 채도를 선택해 흑백이나 사진의 진하기를 해주셨으면해요 이등등 여러가지 커스텀이 있으면 좋을것같아요', 'star': 5, 'date': '2024년 1월 8일'}\n",
      "{'text': '처음 써보는 어플인데 정말 좋은것 같네요. 기존 DSLR로 찍은 사진에 적용해보니 여해시 시간을 못맞추어서 찍지 못했던 사진을 얻을수 있네요. 정말 추천할만한 어플입니다. 다만 보라색이나 흰색을 너무 흰색으로 인식하는 부분이 조금 아쉽네요. 잘쓰겠습니다.', 'star': 5, 'date': '2020년 11월 9일'}\n",
      "{'text': '배경위주로 바뀌는 어플이 별로 없었는데 광고도 없고 색감도 너무 좋아요 😀 그런데 생각보다 할수있는 필터가 많이 없어서 조금 추가 해주셨으면 좋겠네요... 하늘,풍경 위주로 찍는분들한테 강추합니다 ㅎㅎ😎', 'star': 5, 'date': '2022년 8월 13일'}\n",
      "{'text': '필터도 많이 없는편인데 색이 다 날라가네요.. 너무 어둡거나 너무 밝거나 명암이 너무 들어가거나 색채가 많이 날라가거나 거의 배경 위주인것 같아요 인물엔 부적합.. 조절해도 배경과 인물이 있으면 중간조절이 없어요..', 'star': 5, 'date': '2021년 3월 30일'}\n",
      "{'text': '잘 쓰고 있는데, 선택영역 지우개 기능이 있었으면 좋겠습니다! 가끔 다른 파란 부분 (청바지 등)이 하늘과 함께 선택되어 그 부분에도 구름이 보이게 되는 경우가 있는데, 선택영역을 부분적으로 지울 수 있었으면 좋겠어요!', 'star': 5, 'date': '2019년 4월 28일'}\n",
      "{'text': '예전부터 사용하던 앱인데 너무 깔끔하게 잘 찍히고 하늘 사진이나 풍경 찍을 때는 항상 이 앱으로 들어와서 찍습니당..🫠 그만큼 이 앱에 관한 신뢰도가 높고!! 제가 사진을 잘 못 찍는데 이 앱은 항상 잘 나와서 sns에 올려요!!😆 앱 자체가 너무 잘 되어있고 딱딱 나뉘어 있어 하고싶은 필터 찾기에도 쉽네용☺️ 지금 배경이 필터와 잘 맞는지도 알려주기까지! 앱이 너무 좋아서 저 혼자 알고싶어 친구들한테도 얘기 안하려고 했는데 이 앱이 승승장구 하며 인기가 많아 졌음 좋겠어서 다 얘기하고 다녔네요🤭 너무 맘에들고 날씨 안이쁘면 사진 잘 못 찍는 사람에겐 천국이나 다름없어요.!! 앞으로도 계속 쓸 거 같네요☺️', 'star': 5, 'date': '2023년 4월 20일'}\n",
      "{'text': '다 좋은데... 좀 아수ㅣ운점이 하나 있어요. 배경이 아닌데 하늘 색깔로 인식이 되어서 별이 날라다니는 경우가 있어용... 지우개툴같은걸로 배경아닌곳을 살짝칠한다거나 인식 안된 배경을 펜툴로 추가할수있으면 더욱조을듯해용', 'star': 5, 'date': '2018년 11월 4일'}\n",
      "{'text': '진짜 신기한 앱이 있네요 맨날 여행갈때마다 비 몰고다니는 사람한테 필수. 구름도 엄청 자연스럽고 우충충 빛도 진짜 자연스럽게 색감넣어서 보정 잘 해줘요. 밝기랑 색상으로 편집할때 느끼는 한계를 뛰어넘는... 폰에 있는 우충충사진 다 보정할거에여 꿀잼', 'star': 5, 'date': '2020년 7월 29일'}\n",
      "{'text': '기본카메라로 촬영한 사진 피크닉어플에서 편집할려고하면 \"지원하지않는 이미지\"라고 뜨네요. 기본갤러리-편집에서 피크닉선택시 수정은 되는데.. 이점만 보완해주시면 감사하겠습니다. 혹시 광고제거 유료버전은 따로 계획없으신가요?', 'star': 5, 'date': '2021년 9월 26일'}\n",
      "{'text': '너무너무 감편한 조작 좋아요 .하지만 선택영역만 효과주기라던지(하늘만 선택), 각영역 다른효과주기가 가능해졋으면 좋겟습니다. 하늘은 이쁜데 옷색상이나 얼굴색이 이상한경우가 있어서 안타깝네요 ㅠㅠ🙏😭', 'star': 5, 'date': '2019년 7월 6일'}\n",
      "{'text': '너무좋네요!! 오늘 깔아서 몇몇사진 보정해봤는데, 마음에 딱 들어서 바로 리뷰남기러 왔습니다 ㅎㅎ 피크닉이 필요한사진 추천해주어서 알맞게 보정해서 더더욱 좋은사진 만드는것도 너무좋고 필터도 다양하고 디자인도 정리가 잘 되어있어서 너무좋네요..٩(*•̀ᴗ•́*)و', 'star': 5, 'date': '2021년 2월 22일'}\n",
      "{'text': '오류인지 남 몰래 패치한 내용인지는 잘 모르겠으나 과거에는 사진을 찍을때 무음이라서 좋았는데 핸드폰을 교체한 뒤에 다시 사용할려니 소리가 나네요.. 어플 설정에 있는 소리 설정을 꺼놔도, 켜놔도 똑같은데 왜 놔두셨나요 그냥 없애지..', 'star': 5, 'date': '2020년 11월 30일'}\n",
      "{'text': '진짜 너무너무 필터 예쁘고 다 좋은데요 ㅠㅠㅠ 영상 촬영도 가능하게 해주세요 ㅠㅠㅠㅠ 영상 때문에 깔았는데 영상 지원은 안돼고.., 그렇다고 너무 예뻐서 지울 수도 없는 애매한 상황이예요 ㅠㅠ 제발 빠른 시내에 영상이 생기길 ㅠㅠ', 'star': 5, 'date': '2021년 5월 8일'}\n",
      "{'text': '안녕하세영 오늘 이 앱 처음 써본 유저인데용 이건 가장 먼저 칭찬해야 할께 광고가 안나와요! 다른 것들은 광고가 엄청 나오는데 이건 안나와요!! 그다음에 칭찬해야 할것은용 종류가 엄청나게 많아요 순간 엄청 놀랐어요 종류가 굉장히 많아서.놀랐구욜,다음은요 너무 이뻐효!! 광고 안 나오지,종류 많지,겁나 이쁘지 이 앱 적극추천 합니다!!♡', 'star': 5, 'date': '2021년 4월 24일'}\n",
      "{'text': '다른 어플로 필터를 씌우면 화질이 깨지거나 하는데 이건 화질변형같은것도 없고 이 어플을 만드신 아이디어가 정말 좋은거같아요👍 개인적으로 밤하늘이랑 노을을 애용하고있어요 진심 인생샷 나옵니다... ㅠㅠㅠ 너무 좋아요 주변에서 물어보길래 홍보 많이 하고있어요 ㅋㅋㅋㅋ 정말 좋습니다 이렇게 마음에 드는 카메라 어플은 정말 오랜만이에요 좋은 어플 만들어주셔서 정말 감사해요 제작자님❤', 'star': 5, 'date': '2018년 9월 17일'}\n",
      "{'text': '필터는 개인적으로 씌우는 걸 좋아해서 쓰진 않지만, 구름이나 색갈 등 배경을 바꿀 수 있는 건 참 좋은 것 같아요!! 다만 약간 아쉬운 건 바다를 찍을 때 하늘과 바다를 구분을 잘 하지 못하더라구요!! 그 부분은 개선해 주셨으면 합니다.', 'star': 5, 'date': '2020년 4월 20일'}\n",
      "{'text': '설치하고 잠깐 써보면서 리뷰남겨봅니다. 일반적인 색감이나 명암만 개선하는 어플이랑 다르게 다양하고 예쁜 필터가 많아 사진느낌을 완전히 바꿀수있어 신기하네요. 다만 간혹 하늘외의 일부분이 하늘과 같이 인식되어 필터되는 경우는 있지만 큰문제는 아니라 잘 쓸수있겠어요~', 'star': 5, 'date': '2019년 8월 31일'}\n",
      "{'text': \"날씨때문에 망한 여행사진을 환하게 수정할 수 있어서 애용하고있어요❤️ 진짜 너무너무 완벽한데 딱 하나 건의드리고 싶은게 있다면 흰 옷, 흰 운동화 등 하늘로 인식해서 인물까지 필터를 입혀버리는 경우가 가끔 있어요. 그 부분을 '지우개'방식으로 해서 필터인식이 불필요한 부분을 사용자가 제거할 수 있게끔 개선된다면 더욱 좋을 것 같아요! 좋은 어플 만들어주셔서 감사합니다❤️\", 'star': 5, 'date': '2020년 9월 22일'}\n",
      "{'text': '안녕하세요 이 맵의 좋은점과 아쉬운점을 말하겠습니다 일단 아쉬운점은 필터가 많이 없다는데 옥의 티구요 좋은점은 저장하는 방법도 정말 쉽구 필터 조정도 쉽게 할수 있습니다 그리고 필터 이름도 통통 튀고 이쁘고 사진 종류별로 나눠 볼수도 있고 전체로 볼수 있어서 정말 개인적으로 좋은 앱 입니다 다만 필터가 조금 부족하다고 생각해서 힘드시겠지만 필터를 조금만 더 추가 해주시면 감사하겠습니다 그럼 긴글 읽어주셔서 감사합니다 꼭! 깔아보세요!!', 'star': 5, 'date': '2021년 10월 19일'}\n",
      "{'text': '사진 어플로는 아주좋습니다만. 특별한 경우가 아니면 사진만되는 어플은 잘안쓰고 동영상도 찍을수있는 어플을 선택할거 같네요. 그리고 사진기능하고 갤러리기능하고 분리하셔서 독립적으로 선택해서 쓸수있다면 더 유용하게 쓰일거같다는 공짜 이용자의 생각입니다', 'star': 5, 'date': '2019년 7월 18일'}\n",
      "{'text': '안뉭하세요 페이스X에서 인생샷을 남긴다길래 이쁜 하늘 사진에 무지개 한 조각이라 필터를 올려두니 너무너무 이쁩니다. 그 외 다른 필터들도 유용하게 사용하고 있습니다. 근데 사진저장이 잘 안돼더군요.. 제 기종은 note8입니다 그래도 필터가 너무너무 이쁘고 사진배경 분위기가 180° 달라져서 포커페이스가 불가능할 정도입니다.. 이맵 취향저걱입니다❤ 원래는 리뷰를 잘 안다는데 너무 놀라서 누구보다 빠르게 칩니다. 강추🥰', 'star': 5, 'date': '2020년 12월 31일'}\n",
      "{'text': '진짜 감탄 그자체입니다.. 딴카메라 설치하려고왔다가 인생카메라 가지고 돌아네요 ㅠㅠ 그카메라 지우고 이것만 평생쓰게생겼습니다 (*꒦ິ꒳꒦ີ) 하늘만 뿅하고 바뀌는게 아니라 분위기까지 바꿔줘서 너무 좋고 구름 추가된것도 좋은데 무엇보다 구름이랑 배경필터 각각 조절 가능하다는게 너무 좋았어요! 필터도 다양하고 너무 예쁘고요 ㅠㅠ 하늘 말고도 그냥 평소 카메라로 써도 너무 예뻐요 (◍ㅠᴗㅠ◍♥) 다만 아쉬운점 꼽자면은 메인화면에서처럼 다 자연스럽지는 않더라구요.. 아무것도 티안나는 필터도 한두개 있었고.. 그리고 카메라 촬영버튼 누르면 가끔 버퍼링되는데 한번 버퍼링걸리면 안끝나더라구요 재접속 해야돼요 ㅠㅠ 어쨌든 진짜 색감도 인생카메라입니다 ㅜㅜ 칙칙항 사진도 바꿔줘요 ㅠㅜ 사진 찍은거 슥슥 해보고 진짜 심정지 올뻔했습니다', 'star': 5, 'date': '2020년 7월 14일'}\n",
      "{'text': '필터도 너무 예쁘고 사진도 잘 나와서 계속 사용하고 있었는데 업데이트 이후론지 필터 조정기능이 사라졌네요 다시 복구해주시면 안될까요ㅠㅠ 하늘필터 적용할때마다 사진상단이 다 날라가서 조절하면서 보정하고있었는데 그게 없어지니까 필터를 입힐때마다 다 너무 뿌옇거나 까맣게만 나와서 사진이 부자연스럽게 되는거같아요ㅠㅠ', 'star': 5, 'date': '2018년 11월 8일'}\n",
      "{'text': '구름이 없는 날이나 흐린 날도 예쁜 하늘로 바꿀 수 있어서 좋아요. 하지만 가끔 파란색 지붕이나 하늘색 옷 같은 게 하늘로 인식돼서 구름 필터가 씌워지는 것이 치명적인 문제점이에요 ㅠㅠ 지우개 기능으로 하늘이 아닌데 하늘로 잘못 인식된 부분의 필터 적용을 지울 수 있으면 완벽할 것 같아요! 2년 전에 이런 리뷰가 있었는데 반영이 안되었네요.. 꼭 업데이트가 필요한 기능이라고 생각합니다.', 'star': 5, 'date': '2022년 9월 8일'}\n",
      "{'text': '진짜 최고에요👍 흐린날을 맑은날로 보정하는게 너무 힘들었는데 필터마다 색감도 최고이고 하늘을 파랗고 예쁜구름을 넣을 수 있다는게 너무 좋은것같아요! 예쁘고 좋은 보정앱찾아서 기쁩니다 !!', 'star': 5, 'date': '2020년 7월 12일'}\n",
      "{'text': '리뷰 정말 안 쓰는 편인데 이건 정말 꼭 까세요 콜라주 만드려고 앱 구경하다가 이미 제 폰에 깔려있길래 이게 뭐지하면서 들어갔다가 필터 중독돼서 똑같은 사진을 필터별로 저장했네요ㅋㅋㅋㅋㅋㅋ 이거 진짜 중독성 쩔구요 너무 마음에 들어요 앱 만들어주셔서 정말 감사드려요ㅜㅠㅠ 앞으로도 잘 써서 인스타 풍경 사진 자주 업로드할게요 힘내세용!', 'star': 5, 'date': '2019년 1월 13일'}\n",
      "{'text': '다 좋은데 한가지 기능만 추가됐으면 좋겠어요. 필터를 전체적으로 덮다 보니까 얼굴까지 필터로 덮여지는데 지우개 기능이 있어서 지우면 원본으로 돌아오는 기능이 있었으면 좋겠어요ㅠㅠ', 'star': 5, 'date': '2019년 12월 25일'}\n",
      "{'text': \"색감이 너무 예쁘네요😊 여행용 사진 앱으로 요만한게 없는것 같습니당 엄지척척👍🏻 개발자님 궁금한게 있는데 앱을 껏다가 나중에 다시 실행하면 항상 '달콤한 크리스마스' 필터가 처음에 나오는데요 제가 이전에 선택,정도를 조절해 놓은 필터가 맨먼저 나오게 할수는 없나요?(자주쓰는건 정해져 있어서요) 혹시 방법이 있는데 저만 모르는 것인지 궁금합니당 ㅎㅎ 유용한앱 만들어 주셔서 감사해요^^\", 'star': 5, 'date': '2019년 1월 27일'}\n",
      "{'text': '필터도 너무 이쁘고 하늘에 구름나타나는거랑,, 진짜 눈내리는거같은 필터도 있고 다 좋은데 필터에서 AI기능을 꺼놓고 수치..?를 다 바꿔놔도 다시 들어오면 똑같이 변해있더라구요.. 이것만 마음대로 조정할 수 있게해주시면 감사하겠습니다!=)', 'star': 5, 'date': '2019년 10월 24일'}\n",
      "{'text': '죽은 사진을 아.름.답.게 살려줍니다. 이 앱만 있으면 언제 어디서든 든든합니다. 그냥 하늘보다 피크닉 하늘이 더 좋아질 정도....? 그만큼 자연스럽고 색감이 예뻐요. 너무 좋은 나머지 리뷰를 한 번 더 쓰고 싶게 만드는 앱...!', 'star': 5, 'date': '2019년 5월 29일'}\n",
      "{'text': '이거 앱 진짜 추천드려요 ! 진짜 좋구 필터들 하나하나 다 너무 예뻐요♡ 만약에 제가 저장 공간만 더 넓었으면 필터별로 하나씩 사진에 적용 했을 것 같네용 ㅜ 근데 제가 직접 하늘을 좀 문질(?)러서 하는 것도 있었으면 좋겠어요!진짜 추천드립니다', 'star': 5, 'date': '2019년 8월 20일'}\n",
      "{'text': '혹시 무음카메라가 안되나요? 소리설정 빼도 계속 소리가 나서 카메라 사용하다가 소리가 너무 커서 몸 계속 움찔움찔 떨리게 되네요ㅠㅠ 그거 외에는 색감이 너무 예뻐서 마음에 들어요!', 'star': 5, 'date': '2021년 3월 19일'}\n",
      "{'text': '너무 잘 쓰고 있습니다 필터도 예쁘고요 근데 저번부터 아마 핸드폰 업데이트한 이후부터 무음 설정을 해도 소리가 나는데 어떻게 해결해야 하죠?ㅠㅠ이거 쓰는 가장 큰 이유가 무음이었는데 소리가 납니다ㅠㅠ', 'star': 5, 'date': '2020년 6월 19일'}\n",
      "{'text': '오늘 깔았는데 정말 좋은것 같아요, 혹시 동영상에는 필터를 넣을 수 없을까요 ㅜ 사진보단 동영상을 좀더 많이쓰는편이라서.. 동영상도 필터를 입히면 정말 좋을것같아요, 좋은앱 만들어주셔서 감사합니다.', 'star': 5, 'date': '2018년 12월 1일'}\n",
      "{'text': '제가 카메라 앱을 바꾸고 싶었는데요! 이게 딱이다!하고 사진 보정도 잘 되고요 필터도 많고요 사랑에 빠진 엘리쓰가 특히 좋네요ㅎㅎㅎ 여기 나온 사진이랑 진짜 똑같구요 정말 싫을것없이 💯점 만점에 💯입니다 이앱 정말로 추천드립니다 꼭 다운받아서 제 말이 무슨 말인지 알아봅시다 안 깔면 후회합니다ㅎㅎ', 'star': 5, 'date': '2021년 5월 30일'}\n",
      "{'text': '밋밋한 하늘에서 감성있는 하늘로 바뀌어요~! 다만 보정을 원하지 않는 부분은 지우개로 지울 수 있는 기능이 있었으면 좋겠어요. 그리고 사진 기울기, 크기조절도 할 수 있었으면 더 좋을듯 하네요~', 'star': 5, 'date': '2022년 6월 21일'}\n",
      "{'text': \"제가 사진을 잘 못 찍는데 이걸로 하니까 진짜 예쁘게 찍혀요 !!그리고 '봄빛에 물든 복숭아' 필터가 너무 예뻐요(ू•ᴗ•ू❁) 하나 아쉬운 점이 있다면 동영상을 찍고 싶은데 안되는게 너무 아쉬워요 ㅠㅠㅜ 동영상 기능까지 생기면 별 5점 주고 싶네요 !!\", 'star': 5, 'date': '2020년 5월 18일'}\n",
      "{'text': '제 최애필터 ! 최근에 ai모드가 나와서 더 편하게 찍을 수 있고 예쁘게 나와서 매우 만족합니다! 원래는 기본카메라로 찍었었는데 이제는 무조건 피크닉으로만 찍게되네요ㅎ 피크닉덕분에 인생샷이 많아졌네요ㅎㅎㅎㅎ 더 많은 필터가 얼른 추가됐으면 좋겠어요! 감사합니다!!!!!!!:)', 'star': 5, 'date': '2019년 2월 9일'}\n",
      "{'text': '진짜 너무너무 좋아요!! 필터 바꿀때마다 자막이 일일이 나오는것도 그렇고 적용이 안되는 사진이 있으면 자막으로 친절하게 알려주는것도 너무 좋아요!!ㅠ 감사합니다~! 앞으로 덕분에 예쁜사진 많이 찍을 수 있을 것 같아요!!', 'star': 5, 'date': '2019년 3월 24일'}\n",
      "{'text': '우와앙 제 최애 카메라 앱 ㅠㅠ 너무 좋아요 ㅠㅠ 보통 앱들은 거의다 유료고 필터도 돈같은거 써야 할 수 있는건데 이건 다 무료라 너무 좋은데다가 이게 필터에 어울리는지 이 사진이 피크닉 과 어울리는지를 선택해 줘서 너무 좋고 필터도 예쁜거 너무 많아서 하늘 사진에 필터예쁜거 껴서 카카오톡 프사로 사용중이에요! 진짜 너무 예뻐서 사진 찍는 내내 행복합니다..', 'star': 5, 'date': '2019년 4월 7일'}\n",
      "{'text': '잘 쓰고 있습니다. 근데 Auto A.I. 기능은 꺼짐이 기본으로 원할 때만 켤 수 있었으면 좋겠어요ㅠ 그리고 필터도 쓰던 필터 설정이 그대로 남아있었으면 좋겠습니다. 감사합니다.', 'star': 5, 'date': '2019년 2월 24일'}\n",
      "{'text': '별점 왜 5개 뿐이죠. 별점을 더 남기고 싶을 만큼 정말정말 애정하는 앱이랍니다:) 여행갔을 때 찍었던 하늘이 같이 나온 사진들 보정할 때마다 정말 감사한 마음으로 맨 첫 보정때마다 사용하고 있을 정도로.. 하늘 나온 사진 찍는걸 좋아하는 지인이 생긴다면 보정이나 필터 앱으론 제일 먼저 추천하고 싶은 앱이에요. 적게 일하고 많이 버시길 바래요:)', 'star': 5, 'date': '2021년 7월 26일'}\n",
      "{'text': '제가 까먹고 이 앱의 리뷰를 아직도 안 남겼다니.. 너무 충격적입니다 이 최고의 어플을 진작부터 쓰고있었는데도... 하늘사진 보정도 장난아니지만요 일반 사진들 보정에도 필터가 정말 너무 예뻐서 좋습니다 앱 만들어주셔서 감사합니다ㅠㅠ', 'star': 5, 'date': '2023년 4월 24일'}\n",
      "{'text': '처음엔 비교적 괜찬은것 같아 이 피크닉을 선택했는데 원하는 하늘색을 선택할때 마다 주위의 다른 영역까지 하늘색의 영향이 미쳐 흐리게 해버리는 큰 단점이 있네요. 좋은 앱들이 쓰는 \"mask 기능\"을 빨리 추가하세요!', 'star': 5, 'date': '2021년 8월 5일'}\n",
      "{'text': '너무 이뻐서 좋은데요ㅜㅜ 단점이 화질이 너무 깨지구 사람이랑 하늘 연결부위가 가끔씩 티나게 뜰때가 있는데 화질 안깨지는법 없나요?ㅜㅜ 그리고 하얀옷입으면 거기에도 다 입혀지고 청바지에도 필터 높일수록 청바지가 하얀바지가 되어가네요...ㅜ', 'star': 5, 'date': '2020년 7월 23일'}\n",
      "{'text': '리뷰보고 계신 분들 이거 꼭 다운받으세요 사진 찍는거 좋아하시거나 그림 배경이라던지 일반 필터나 그림 배경 심심할때 쓰기도 좋고 정말 자연스럽게 잘돼요 ㅠㅠ 한 번 깔아봤다가 진짜 잘 쓰고 있어요 만들어주신분들 감사합니다 하늘 예쁘게 잘 편집되고 너무 좋아요 완전 추천!!', 'star': 5, 'date': '2020년 3월 16일'}\n",
      "{'text': '유료정액제던 유료버전이던 뭐던 좋으니까 워터마크 영구적으로 없앨수없게좀.... 제발.... 업뎃했더니 어느순간부터 워터마크가 필수로 박히는데... 광고보면 없어진다지만 광고 길다고요... 사진을 찍으려고 어플을 켰다는건 지금 빨리 찍어야하는 건데 언제 광고 보고 언제 기다려서 이걸 씀???? 뭔가를 만들었으면 없앨수있는 방안을 줘야쓸거아닌지??????? 짜증나서 요즘 걍 기본 카메라앱 쓰고있음', 'star': 5, 'date': '2024년 9월 18일'}\n",
      "{'text': '정말 좋아요! 그런데 광고보면 마크 없애준다고 되어있는데 광고보기눌러도 안나와요 ㅠ', 'star': 5, 'date': '2024년 9월 19일'}\n",
      "{'text': '카메라 진짜 필타 좋고 사랑하는데 연간 구독이나 유료 어플도 추료 해주시면 사용할께요 워터마크 광고좀 지워주세요....', 'star': 5, 'date': '2024년 8월 19일'}\n",
      "{'text': '정말 좋아요! 사진을 쉽게 저장할수 있는것도 좋고요! 하나하나 답글 달아주시는거 보고 엄청 대단하다 싶었네요! 요즘 겨울이 지나가는 시기라 그런지 봄 사진을 찾아서 보정하려는데 정말 쉽고 예쁜 사진으로 보정할 수 있어서 좋아요! (산택장애인데 사진들이 다 예뻐서 다 저장하다보니 벌써 5장... 1장을 5장으로 만들어내는 기적)', 'star': 5, 'date': '2021년 3월 12일'}\n",
      "{'text': '필터 하나하나 빠짐없이 다 색감도 너무 예쁘고 디테일도 너무 좋아요ㅠㅠ 풍경에도, 하늘에도, 심지어 그림에 넣어도 다 예뻐요! 필터 하나만으로 무드가 추가된 느낌.....ㅋㅋㅋ 진짜 제 인생 필터 어플입니다ㅠㅠ 첫눈에 반했어요ㅠㅠ! 좋은 어플 너무너무 감사드려요💜', 'star': 5, 'date': '2020년 7월 8일'}\n",
      "{'text': '하늘 배경 사진 편집시 너무 유용해요', 'star': 5, 'date': '2024년 8월 22일'}\n",
      "{'text': '사진 찍을때 해상도 설정이 있으면 좋겠습니다. 편집시에도 해상도 저하는 약간 있는데 핸드폰이나 웹에서 보긴 괜찮습니다. 필터는 더할나위 없이 예쁩니다.', 'star': 5, 'date': '2019년 6월 18일'}\n",
      "{'text': '엄..일단은 좋은점이 진짜 자연스럽게된다는점이 가장좋아요ㅠ 그리고 여러 분위기도 이쁘게나타낼수있을뿐더러 칙칙한 하늘도 맑고이쁜하늘처럼 연출할수있어서 진짜 유용한 앱인것같아요 저는 이앱이 널리알려지면좋겠다고생각해요ㅠㅠ 그러면 저는 앞으로 이앱 자주사용하도록할게요❤', 'star': 5, 'date': '2018년 12월 5일'}\n",
      "{'text': '필터 너무 예쁘고 좋아요 근데 이 기능이 있는데 제가 못찾는건지는 모르겠지만 조정기능이 있으면 좋겠어요 편집할때 하늘이 아닌 부분까지 다 적용되니까 아쉽더라구요 ㅠ', 'star': 5, 'date': '2018년 10월 29일'}\n",
      "{'text': '카메라 어떻게 찍는건가요ㅠㅠ 필터보정하고 화면 터치해도 찍혀지질 않습니다. 제폰이 삼성 폴드3입니다. 넓게 펼친 상태에선 카메라 버튼이 아예 없고, 접은 상태에서만 버튼이 보이더라구요ㅜㅜ', 'star': 5, 'date': '2024년 4월 11일'}\n",
      "{'text': '여행사진에선 날씨가 진짜 중요한데 흐린날씨 맑게, 그리고 수정하기도 쉽고, 렌즈 안닦아서 흐리게 나온사진도 어느정도 선명하게 보이게하는 효과도 있는것 같아요. ♡여행엔 사진♡ ♡배경엔 피크닉♡', 'star': 5, 'date': '2021년 6월 14일'}\n",
      "{'text': '와...진짜 이런 사진편집 어플 처음 봤습니다.... 넘 좋아요!! 구름도 진짜 자연스럽게 넣어지고 우중충한 하늘도 맑고 이쁘게 만들어요ㅜㅜ 제작자님ㅜㅜ 이런 어플이 제가찾던 그 앱입니다!! 여러분들도 꼭한번 써보세요!! 진짜 강추입니다!! 벌써 제 갤러리에 이쁜 사진들로 가득찼어요!! 사진첨부하고 싶지만.... 첨부가 안되요ㅜㅜ 피크닉으로 편집한 이쁜 사진들 보여드리고 싶은데ㅜㅜ 그리고 아무생각없이 찍은사진이 작품이되요!!', 'star': 5, 'date': '2020년 6월 8일'}\n",
      "{'text': '적용 정도를 자유롭게 조절해서 자연스러운 하늘을 만들 수 있어요! 덕분에 흐린날 찍은 아쉬운 사진을 잘 살려서 너무 좋아요~♡', 'star': 5, 'date': '2024년 4월 2일'}\n",
      "{'text': '나무 좋아요 !! ❤ 제가 왠만하면 리뷰 안남기는데 이건 안남길 수 가 없어용 😭 진짜 진짜 좋아용 !! 강추 ☺ 우선 필터를 넘길 때 마다 필터 이름? 을 설명해주는게 너무 좋아요 ! 친구들한테 설명할 때도 너무 편리하구요 필터들도 너무너무 예뻐요 ! 💕 진짜 미세먼지에 극복할 수 있을 느낌 ? ㅋㅋ 하여튼 피크닉 진짜 너무 좋네요 ! 주변인한테 홍보 하러 가보겠습니다 ♡ 아 하나 더 !! 여행 사진이나 풍경사진 찍을때 좋아요 ♡인생 카메라인 것 같네요 ♡♡', 'star': 5, 'date': '2019년 3월 26일'}\n",
      "{'text': '안드로이드 파이 환경에서, 높은 빈도로 앱 실행 시 검은 화면만 뜹니다. 그럴 때마다 삭제 후 재설치를 해야 하고, 최초 실행 이후에 재차 사용 시 에러가 재발합니다. 확인 부탁드립니다.', 'star': 5, 'date': '2019년 5월 26일'}\n",
      "{'text': '와 이거 진짜 물건입니다 ㅋㅋㅋㅋㅋ 사진의 분위기가 바뀌네요 옛날에 찍은 사진중에서 흐려서 망한 사진들 다 복구했어요 ㅠㅠ 개발자에게 그저 감사합니다ㅠㅠㅜㅜ 이런 어플은 광고 많이 나와도 이해합니다♡', 'star': 5, 'date': '2020년 6월 27일'}\n",
      "{'text': '색감이 너무 예쁘고 밤하늘도 이쁘게 찍혀서 너무 좋아요ㅠㅠ근데 사진이 조금 늦게 찍혀서 아쉽습니다! ㅠ 그래도 저는 거의 보정만 하기도 하고 불편하진 않아요!! 추천 입니다❤', 'star': 5, 'date': '2020년 9월 11일'}\n",
      "{'text': '제가 이앱을 써봤거든요 그 미리 준비된 사진3장 있잖아요 그건 필터느낌같은게 잘나더라구요 그래서 기대를한뒤 직접사진을 찍어봤거든요?근데 피크닉이랑은 안어울리는 장소라뜬데요 (전분명 하늘을 찍었어요)하지만 이건 별로문제없어요 제가 하늘에대고 필터를꼈더니 그필터감성이 사진3장보더 덜 나는거있죠ㅜ 그래도 괜찮은것도있어서 잘쓰겠지만 사진감성이 더 잘 나타났으면 좋겠어요 이앱사랑해요 ♥♥ 너무좋아서 친구한테 알려주기도 싫을정도ㅎㅎ', 'star': 5, 'date': '2019년 2월 1일'}\n",
      "{'text': '필터강도 조절하는 바가 사진 아래부분을 가려서 좀 답답한데 이부분 업그레이드 좀 부탁드려요.. 사진 색감 너무 이뻐서 좋은데 바 위치가 너무 불편하네요....', 'star': 5, 'date': '2020년 11월 23일'}\n",
      "{'text': '제가 제일 애정하는 어플입니다 필터도 너무 예쁘고 진짜 하늘 찍을 때 뿐 아니라 다방면으로 유용합니다 다만 AI가 하늘 인식을 잘 못하더군요 ㅜㅜ 특히 흐린날은 아예 인식을 못하고 맑은날에도 가끔 그러고 네이비컬러 아파트랑 맑은 하늘이랑 같이 인식해서 아파트에 구름이 껴지기도 해요 그리고.. 셔터소리 해제가 옛날 폰에서는 잘 됐는데 새로 바꾼 폰에서는 어쩐 일인지 계속 나더라구요 이외에는 다 정말 좋습니다 :)', 'star': 5, 'date': '2021년 1월 3일'}\n",
      "{'text': '왜 이제야 알게된건지...너무좋다 이어플 다만 아쉬운점은 동영상기능ㅜㅜ있었음좋겠어요 그리고 필터 즐겨찾기 기능이랑 무음이요ㅜㅜ 이것만있다면 유료어플이여도 구매할꺼같아요ㅜㅜ', 'star': 5, 'date': '2020년 3월 24일'}\n",
      "{'text': '최고입니다 말할게 없습니다! 단 아쉬운 점은, 어두운 하늘에서는 우주배경 적용이 어렵네요 ㅠㅠ 시스템 자체에서 인식을 안하는 건가요 ㅠㅠ 아무튼 이거 진짜 추천합니다 괜히 ★4.7이 아니네요', 'star': 5, 'date': '2018년 11월 23일'}\n",
      "{'text': '하늘은 무조건 이걸로 보정해요 너무 예쁘게 잘나와요ㅎㅎ 그리고 하늘 표시된건 하늘을 더 만들어주는데 물론 이것도 놀랍게 자연스럽지만 더 자연스러운걸 원하시는 분들은 하늘마크 없는걸로 파랑 계열이나 아니면 더 드라마틱한걸 원하는 분들은 하늘 마크없는 파스텔 계열 필터들과 하늘 마크 있는 필터 추천!', 'star': 5, 'date': '2023년 8월 8일'}\n",
      "{'text': '와 이건 진짜 여태 써본것중에 최고에요♥♥ 써보면서 별다른 터치없이 클릭 한번만했는데 사진이 어엄청 예쁘게 나오네요♥ 하면서 감탄사가 절로 나왔습니다! 이런 어플은 어플 1위 해야하는데! 1년동안 설치한 어플중 가장 최고입니다!', 'star': 5, 'date': '2019년 4월 6일'}\n",
      "{'text': '와~~~진짜 좋고 잘 사용중 입니다ㅠㅠ근데 아쉬운점이 하나 있어용ㅠㅠ 갤러리 에서 동영상을 못가져온다는게 아쉽답니다ㅠㅠ 동영상까지 가져와서 설정하면 별 5개로 다 채울수 있답니다ㅠㅠ', 'star': 5, 'date': '2020년 6월 13일'}\n",
      "{'text': '와 므친 필터가 댕이뻐요.. 나만하고시푼 어플이랄까..?☆ 하늘 편집은 안해봤는데 필터썸네일?들이 딱 느낌파악하기 좋은 사진들이라 원하는 느낌 찾기도 편할거 같더라구요 ㄹㅇㄹㅇ 글구 제가 반한 건 독특한 필터색감들이에요! 색감이 엄청 자기주장하는것도 아니고 흔치않고 특이한데 촌스럽지도 않아욧.. 필터이름도 대박..ㅠㅠ 섬세하네요 >_<♡', 'star': 5, 'date': '2021년 6월 14일'}\n",
      "{'text': '감성더하기 너무 좋은앱. 모든 사진에 완벽하게 적용할 순 없으나 단순한 조건만 갖춰진 사진은 원본이라고 믿을 정도의 퀄리티를 지녔음. 선택지가 더욱 다양해지길 바람.', 'star': 5, 'date': '2019년 11월 26일'}\n",
      "{'text': '추천 받아서 사용 중이예요~ 너무 너무 잘 쓰고 있어요! 이과 만세입니다😆 오늘 눈이 와서 아침부터 산책을 하고 왔는데 찍은 사진을 보정하려고 보니 피크닉에는 눈이 담긴 장면이 없더라구요 그래서 무지 아쉬웠어요... 응원의 인사와 스노우 필터도 만들어주십사하는 부탁을 담아요~♡', 'star': 5, 'date': '2018년 11월 23일'}\n",
      "{'text': '필터가 너무 많아도 별로인데 딱 필요한 것만 있고 개성 있고 광고도 없고 다 좋은데, 필터 순서를 바꿀 수 있으명 좋겠어요 자주 쓰는 것만 앞으로 오게요!', 'star': 5, 'date': '2021년 10월 24일'}\n",
      "{'text': '예쁜 필터가 많아서 그때그때마다 다른 사진을 찍을수 있어서 너무 좋아요!! 그리고 광고도 거의 나오지 않아서 편하고요...ㅎㅎ 이 피크닉 앱 추천 합니다👍 별⛤⛤⛤⛤⛤5개!!👍👍', 'star': 5, 'date': '2020년 3월 23일'}\n",
      "{'text': '가끔 바지나 물 등, 하늘이 아닌 부분에 필터가 입혀져 곤란할 때가 있는데, 일정 부분만 필터를 지울 수 있는 기능이 있다면 정말 좋을 것 같네요.', 'star': 5, 'date': '2019년 8월 19일'}\n",
      "{'text': '사진 정말 잘 나오고.. 진정 내 실력인가 의심될거 같이 필터도 너무 예뻐요~ 근데 사진 찍을 때 나는 소리가 좀 아쉽습니다ㅠ 찰칵 소리도 진동이나 무음시 안 났으면 하는 아쉬움에...글 남겨요', 'star': 5, 'date': '2020년 6월 15일'}\n",
      "{'text': '제가요😊스노우로 항상 찍는데 이거뭐죠? 화면빨이 흐리게나오지도않구, 너무좋아요 내인생앱이될정도예요!! 사실 유튜브에서 추천받아서 왔는데 이거 진짜좋아용😭😭❤❤필터완전좋은것두많구영 여행놀러갈때 하늘찍고,풍경찍고하잖아요🌸그때 날씨가흐리거나하면 썩 사진좋게않나오고할때 완전 꿀탬이예요 흐린날에서 햇빛쨍쨍한날로 바뀌고❤이거 진짜 필수탬! 인생사진도 많이 건져가용!😭😭❤❤❤❤', 'star': 5, 'date': '2019년 10월 25일'}\n",
      "{'text': '너무나 찾고있었던 앱이에요. 요즘 미세먼지농도가 많이 좋아졌다고 해도, 흐린날이 더 많은게 사실이죠. 그런 요즘 필터로는 제일 좋은 앱이에요. 한가지 건의드릴 점은 앱 종료시에 뜨는 광고가 거슬려요.,, 개발자님의 수익창출을 위해 광고표시가 필요하다고 생각하지만 유저들을 위해 후원하기를 추가해 광고를 안보고싶은 사람들에게 선택권을 주시는게 어떨까요. ?', 'star': 5, 'date': '2020년 6월 12일'}\n",
      "{'text': '너무 만족하고 있어요 자연물 찍는거 좋아하는데 하늘 보정이 되니까 아무리 흐린 날에 사진을 찍어도 이쁜 배경이 나타나서 좋아요 다른 어플과 다른 점이네요!!', 'star': 5, 'date': '2019년 4월 14일'}\n",
      "{'text': '진짜 구름 영역지정 가능한 기능만 추가되면 완전 최고 어플!! 피크닉이 구름사진이 필요없다고 인식 못하는 사진이나 구간들도 지정할수 있게 해주세요! 그리고 옷도 파란색이면 같이 적용되던데 그러한 부분도 혹시 개발자분쪽에서 수정할수 있는지 여쭤봅니댱!', 'star': 5, 'date': '2022년 2월 24일'}\n",
      "{'text': '안녕하세요 사용정보등에 접근권한 전부 다 허용했는데ㅠㅠ 갤러리 선택하구 앨범 선택해서 기존에 찍은 사진 편집하고 싶은데 아무리 해당앨범 터치를 해도 활성화가 안돼요ㅠㅠ 도와주세요ㅠ', 'star': 5, 'date': '2024년 3월 13일'}\n",
      "{'text': '필터가 걸려서 이쁘게 잘 나오네요 ㅎㅎ 그런데 저기 혹시 줌인은 어떻게 하나요?? 확대할려고 재스처하니까 필터가 바뀌고 볼륨키로 해도 안되던데.. 줌인 기능은 없는건가요???', 'star': 5, 'date': '2019년 10월 4일'}\n",
      "{'text': '칭찬받을만한 어플. 사진을 멋진 분위기로 바꿀 수 있습니다. 그리고 어플 내 모션이나 글씨체 등이 잘 되어있어 완성도가 높다고 느낍니다.', 'star': 5, 'date': '2021년 6월 10일'}\n",
      "{'text': '색감 너무 예뻐요ㅠㅠ 하늘 보정도 동화나 일러스트처럼 예쁘게 잘 되고, 특히 라라랜드 필터 진짜 애정합니다ㅠㅠ 더 많은 필터 업데이트 되었으면 좋겠어요😳 개발자님 감사합니다💞', 'star': 5, 'date': '2018년 12월 4일'}\n",
      "{'text': '갤러리 어플에 있는 사진이 인식 안돼요. 갤러리에는 13800장이 있는데 이 어플의 전체 사진에는 8040장으로 대략 6천장이나 인식을 안하고 날려버려요...... 오늘 찍고 필터 씌우고 싶은 사진이 있는데, 인식이 안되니 할 수가 없어요 ㅠㅠ 왜 이래요???', 'star': 5, 'date': '2021년 5월 17일'}\n",
      "{'text': '헐~~징짜 완죤완젼 좋아욜!!!!👍진짜 이런앱 본적없습니다ㅠㅠㅠ제작자님 진짜ㅜㅜ감사드려요ㅎㅎ💘 필터도 예쁘장하고 친구랑 찍을때 분위기여신으로 나와서 무엇보다 만족이구요,제가 풍경샷을 되게 많이 찍는데 찍어서 카톡프사하기 딱좋은 어플입니당😆❣친구들한테도 알려주고있어요ㅋㅋ 제 사진찍는 어플중 최애 앱입니다👏👏 감사드려요♡><좋은하루되세여!☆💚', 'star': 5, 'date': '2018년 12월 4일'}\n",
      "{'text': '동영상도 찍을 수 있으면 좋을 텐데 아쉬워요 ㅠㅠ 그리고 이게 아침에는 그래도 필터가 적용되는데 왜 밤에는 필터 적용이 안 되나요? 이 점 고쳐주세요 이 두 가지만 빼면 다 좋아요!! 최대한 빨리 개선해주세요', 'star': 5, 'date': '2019년 10월 6일'}\n",
      "{'text': '너무 좋아요ㅠㅠ 사진 찍는 걸 좋아하는데 휴대폰 카메라 성능으로는 풍경 특유의 색이나 분위기를 못 담아서 카메라를 살까 고민 중에 있는데 이 앱 덕분에 좀 나아졌어요ㅠㅠ', 'star': 5, 'date': '2019년 6월 26일'}\n",
      "{'text': '자연스럽게 예쁜 하늘 합성 가능해요!! 예뻐요!! 다만 청바지에도 같이 돼서ㅋㅋㅋㅋ 선택 부분만 지우는 기능도 있었으면 좋겠어요', 'star': 5, 'date': '2020년 5월 24일'}\n",
      "{'text': '진짜 무조건 다운로드 하세요~~!! 제가 사진찍는거 진짜 좋아하는데 하늘사진찍을때마다 하늘이 뭐라하더라 굉장히 어두컴컴해서 밋밋하고 별로였는데 이걸로 편집하니까 진짜 좋아요 단점없는어플 처음이에요~~왠만한 유료어플보다 훨씬 좋은듯 ㅋㅋㅋ', 'star': 5, 'date': '2020년 2월 17일'}\n",
      "{'text': '작동하는것도 쉬워서 처음 부터 잘 이용할수있어서 넘나 좋구 !! 제가 하늘을 찍는데 이상하게 나온것두 이거 하니까 넘 이뻐가지구 잘 쓸것같아용 ! 동영상이 안돼서 아쉽지만 그래두 앱이 좋은것 가타용 ㅎ', 'star': 5, 'date': '2019년 10월 4일'}\n",
      "{'text': '여러분 이앱꼭쓰세요... 광고가 뜬다고불만이신가요...? 이정도 퀄리티사진을 무료로쓰시는데 그정도광고 감당 못하실거면 지갑을여셔야합니다.. (팩트는 광고 그렇게많이 뜨지도않아요) 사진길쭉하게나오고 아니무엇보다 풍경이 진짜너무이뻐요..이번에 단풍사진찍었는데 너무이쁘고..찍은 후필터바꾸는기능은세상,..나는왜 이런 앱을 지금에서야 찾았나... 낮풍경찍으실때 walk필터였나? 그거쓰세요~ 근데 가끔 Ai인식인가? 그거 부적합이면 아예 앱이 멈추는경우가 있더라구요...그건좀개선부탁드려요...그리구 광고뜨면 나가기버튼 누르면 앱이나가짐...광고만끄고싶은데 ㅠㅠ 이거도아쉬워요ㅠㅠㅜ', 'star': 5, 'date': '2020년 11월 1일'}\n",
      "{'text': '이 앱 완전 좋아요!! 제가 예쁜 하늘을 완전 좋아하는데 이 앱 완전 제 스타일이예요!! 하늘 색감 엄청 좋고 편집도 자연스럽게 잘 되서 진짜 그 하늘을 찍은 것 같아요! 지금까지 많은 앱들을 찾았봤는데 저는 이 앱이 가장 좋습니다!! 이런 앱 만들어주셔서 감사합니다!!!', 'star': 5, 'date': '2019년 1월 19일'}\n",
      "{'text': 'Dslr로 raw 파일로 라룸으로 보정후 살짝 날씨 별로면 피크닉 어플로 하면 ㄹㅇ 싹임 날씨 조작 가능 개선 했으면 하는 점은 조금 더 하늘이 진하게 느껴질수 있게 해주면 좋을듯 함. Ex ) 노을 빛이 좀더 강했느면 좋겠늠', 'star': 5, 'date': '2020년 8월 8일'}\n",
      "{'text': '그동안 피크닉 어플로 찍은 사진들이 다 사라졌습니다. 앨범 자체가 사라졌습니다. 무슨 오류인지 모르겠는데 엄청난 추억이 갑자기 사라지게되었습니다. 복구를 해주시면 감사하겠습니다. 기종은 갤럭시S8입니다.', 'star': 5, 'date': '2018년 10월 11일'}\n",
      "{'text': '원래 하늘 안이쁘고 미세먼지에 비와서 잘 안찍는데 완전 좋아요 특히 필터가 너무 다양하고 그라데이션이 너무 이뻐요 이앱 친구로 통해서 알게됐는데 완전 강추요!!! 너무이뻐요 감사해요', 'star': 5, 'date': '2019년 7월 25일'}\n",
      "{'text': '흐린사진에 구름을 적용시킬때 하늘이 아닌 파란물체가 하얗게 변해요ㅠㅠ ex)파란표지판 -> 하얀표지판 파란자동차 -> 하얀자동차 이 버그만 수정시켜주시면 완벽한 어플입니다', 'star': 5, 'date': '2020년 3월 31일'}\n",
      "{'text': '산뜻해요💙 사진 한장을 가지고 여러 분위기에 잘 어울리게 연출이 되요!~💙그리고,쎌카 찍으려는데, 스티커 부치기엔 좀 에바(?) 일떼 이걸로 하니까 너무 이쁘게 잘 나오고,화질도 좋아요💙💜💛❤', 'star': 5, 'date': '2019년 7월 7일'}\n",
      "{'text': '다 너무 예쁘도 좋은데 필터 선택하는 아이콘이 원본 사진을 안가리는 위치에 있으면 좋을 것 같아요! 농도 조절하는 아이콘도요!', 'star': 5, 'date': '2021년 8월 19일'}\n",
      "{'text': '너무 좋아요!!꼭 사용해 보시면 좋을것같아용 근데 아쉬운 점이 동영상을 못 찍는거에요ㅠㅠ 하디만 5점드릴게용! 동영상만 찍게 해주시면..ㅎㅎ 그것 빼구 다 좋아용', 'star': 5, 'date': '2020년 3월 30일'}\n",
      "{'text': '잘 쓰고 있어요 :) 제가 못찾는거일수도 있는데..동영상도 필터 편집 가능하면 좋을거 같아요 ㅠㅠ 사진이랑 동영상이랑 통일감을 못줘서 아쉬워요 ㅠ', 'star': 5, 'date': '2021년 8월 31일'}\n",
      "{'text': '되게 필터가 예쁜것두 많구 광고도 없구 정말좋아요!!!특히 하늘사진,그리고 가족사진 이런곳에 분위기 추가하고 싶을때!!!그때 딱!!!그래서 별5개!!☆☆☆☆☆근디 동영상 찍을수있으면 좋겠네요ㅠㅠ그래도 이앱 짱입니댜!!!', 'star': 5, 'date': '2020년 4월 7일'}\n",
      "{'text': '진짜.. 이건.. 너무 좋아요! 제가 필터 사용했던 다른 맵은 사진이 어둡고 안 예뻤는데 이 맵은 너무너무 좋네요!!! 이 맵 강추 합니닷!!♥ 근데 한게에 단점은 동영상을 할수 없다는 것이에요..ㅠ', 'star': 5, 'date': '2020년 6월 19일'}\n",
      "{'text': '징짜 최고예요 세상 이렇게 좋은 카메라 앱이 없어요 근데 제 폰만 이런 건지 모르겠는데 화질이 약간 떨어지네용... 그 외엔 진짜진짜 좋아서 별 5개 드려요!!!! 이런 좋은 앱 만들어주셔서 감사합니다♡', 'star': 5, 'date': '2018년 9월 27일'}\n",
      "{'text': '완전 짱짱짱! 이 앱으로 인생샷 몇개 건졌어요!! 필터를 넣지 않은 사진에다 필터를 한개 넣고 또 나와서 그 위에다 필터를 하나 더! 완전 예뻐요!', 'star': 5, 'date': '2018년 10월 31일'}\n",
      "{'text': '와 이건 진짜 인생앱이네요...안써본 사람있으면 당장 써보라고 하고 싶습니다.풍경사진에 필터넣으니까 죽이네요..ㅠ 필터 더 만들어주면 더더더 좋을거 같아요!이런앱 만들어주셔서 너무 감사합니다♥', 'star': 5, 'date': '2018년 11월 25일'}\n",
      "{'text': '너무 예뻐요♡ 제가 하고 싶은 느낌의 필터가 가득해서 넘 좋습니당! 근데 셀카를 찍을 때 스티커 기능이 있으면 좋겠네요 어쨌든 이앱 강추 합니당', 'star': 5, 'date': '2021년 3월 31일'}\n",
      "{'text': '다 좋은데 가끔 하늘이 아닌 아파트나 옷을 하늘로 인식하는 일이 생겨 불편하네요....자동 인식 후 수동으로 범위를 조절할 수 있으면 좋겠네요! 그 외엔 하늘도 너무 예쁘고 좋아요^^', 'star': 5, 'date': '2019년 8월 31일'}\n",
      "{'text': '다 좋은데 전체사진으로 봐도 최근에 찍은사진이 몇몇개가 뜨지않던데 해결방안이 있나요? 아무리 찾아봐도 보이질않네요 물론 사진입니다', 'star': 5, 'date': '2020년 8월 24일'}\n",
      "{'text': '틱톡에서 어떤 분이 알려주신 앱! 하늘사진도 이쁘게 편집이 되고 피크닉에 딱맞는 사진인지도 척척알려주고 넘 좋은 앱이닷!!!!!!!!!! 내가 필요했던 앱중 하나닷!~~~', 'star': 5, 'date': '2020년 2월 18일'}\n",
      "{'text': '최근에 사용한 어플중에 가장 매력있는것 같아요~ 다른 사진 어플로는 할수없는것들이라 앞으로 나올 것들도 기대됩니다! 화이팅!', 'star': 5, 'date': '2018년 12월 6일'}\n",
      "{'text': '다 좋은데 사진 고를때 한번에 내릴수있게 스크롤이 있었으면 좋겠어요ㅠ 사진이 너무많아서 손으로 스크롤하기 힘듭니다ㅠ', 'star': 5, 'date': '2018년 10월 7일'}\n",
      "{'text': '색감이 너무 좋아요 근데 한가지 아쉬운 점은 뒷 배경만 살짝 했음 좋겠눈데 전체다 색깔이 바뀌어버려서 좀 아쉬워요', 'star': 5, 'date': '2020년 3월 27일'}\n",
      "{'text': '제가 다른 카메라를 사용중이었는데 필터가 제가 좋아하고 하늘 사진에 알맞은 필터는 없었어요.이제는 피크닉으로 예쁜 하늘사진을 많이 찍어야겠어요.물론 가족들과 소풍을 갔을 때도 유용하겠군요!', 'star': 5, 'date': '2019년 2월 4일'}\n",
      "{'text': '너무 잘 나오구 진짜 추천 드리는 제 인생 사진 앱 이예요 엉엉ㅜㅜ 하늘 인식도 잘하고,필터도 예쁘고 정말 너무 예뻐요,,꼭 한번씩 다운받아아서 쓰세요! 절대절대 후회 안 하실거예요 너무 이뻐요 개발자님 감사합니다ㅜㅜ 이런 예쁜 앱으로 매일 피크닉 간 기분처럼 살게요! 정말 감사합니다,,♡♡제 하트 다 드세요! 하트하트', 'star': 5, 'date': '2018년 11월 25일'}\n",
      "{'text': '하늘이 심심했서 별로였던 사진이 이걸 사용하고나니까 심심했던 하늘이 보안이되서 너무좋구여 필터가 많아서 골라 마음에 드는 하늘을 만들수있어서 너무 좋구여 진짜 잘쓰고있어요 별이 다섯개밖에 없는게 아쉬울정도로 진짜좋아요 이앱 완전 잘만든듯👍👍', 'star': 5, 'date': '2019년 1월 23일'}\n",
      "{'text': '리뷰 잘안쓰는데,.이건 $$ 진짜 꼭 $$써야겠네요. 우연히 다운 받았는데, 흐린날 맑은날 하얀 하늘 모든 하늘에 써먹기 최곱니다. 몽환적, 동화같은 느낌 좋아한다 하면 그냥 다운받으십시오. 보정을 자주 하긴 하지만, 전문가가 아니라서 신비? 그런 느킴은 어려웠는데, 이어플로 끝. 광고도 얄라구진 위치의 거슬리는 광고가 아닙니다. 진짜 유료 구매 고민 되는 어플입니다.', 'star': 5, 'date': '2024년 7월 23일'}\n",
      "{'text': \"진짜 필터두 예쁘구 다 좋은데 하나 걸리는게 필터 바꿀때 첨에 오리지널에 있을때 구름이랑 '피크닉에 필요한 사진은 아니네요'로 떠요ㅜㅜ그것만 없어주세용ㅜㅜ그것만 없으면 진짜 짱❤ 근데 이 필터 기준이 하늘 배경이여야 이쁜것 같아용!\", 'star': 5, 'date': '2020년 3월 19일'}\n",
      "{'text': '배경색깔 보정하기 너무 편리하고 좋네요 좀더 디테일하게 수정과 보정도 되고 다양한 기능이 있었음하는 바램이 있네요', 'star': 5, 'date': '2021년 2월 4일'}\n",
      "{'text': '와...진짜 너무 좋아요♥👍 필터 진짜 이쁘고💖 말로 설명 못하겠어요🙅 하나부터 열까지 모든게 완to the벽⭐ 그리고 하나하나 댓 달아주시는데 댓에서 정성이 뚝뚝 흘러요💦 하...진짜 이앱 너무 좋아요👍👍 아직 깔지말지 망걸이고 있다면 당장!! 라잇 나우! 지금 깔아요! 오늘도 크닉크닉 피크닉한하루 감사합니다🌈', 'star': 5, 'date': '2019년 5월 14일'}\n",
      "{'text': '너무 예뻐요ㅜㅜ 풍경사진 찍을때 예쁘게 찍을 수 있어요!!ㅜ 쓸때 바로 찍지 말고 찍은 사진을 편집하는게 더 예쁘고 자연스럽게 예쁘게 됩니다..!', 'star': 5, 'date': '2019년 7월 12일'}\n",
      "{'text': '예쁜필터가 많고 적용하면 어색하지 않고 자연스러워요!! 이걸로 하늘찍으면 완전 예쁘고 화질도 괜찮은것 같아요☺', 'star': 5, 'date': '2018년 11월 11일'}\n",
      "{'text': '렉이 심한걸까요 사진을 찍는데 렉걸려서 더 안찍혀요 ㅠㅠㅠㅠ 필터랑 너무 이뻐서 잔뜩 기대하고 신혼여행온건데 ㅜ ㅜㅜ 결국 서로 찍어줄때만 할 수 있고 블루투스리모컨 쓰면 10장중 1~2장만 찍히네요...ㅠㅠ', 'star': 5, 'date': '2021년 6월 16일'}\n",
      "{'text': '건의사항: 풍경사진 아닌경우, 실내에서 그냥 찍을때, 자꾸 피크닉에 적합한 풍경이 아니라고 뜨면서 진동이 울려서 조금 불편합니다. 그런거는 이미 알고 있는데 자꾸 뜨니까 불편합니다.. 제가 깐 것중 풍경 가장 예뻐요. 그리고 알약이랑 같은 회사여서 더 믿음이 가네요', 'star': 5, 'date': '2022년 3월 13일'}\n",
      "{'text': '깔고나서 딱 한번 들어갔고 사진을 찍은것도 아니고 필터만 보고 껐어요. 근데 다시 앱을 실행하려니까 앱이 중단되었다는 알림만 뜨네요 지금 아예 못들어가고 있어요', 'star': 5, 'date': '2018년 12월 4일'}\n",
      "{'text': '풍경사진 찍을 때 너무 좋아요 ㅜㅜ 내 인생 카메라 ㅜㅜ 피크닉만한 카메라 앱은 없을 것 같네요 ..!! 심지어 무료인데도 쓸 수 있는 필터도 많고 풍경 사진 진짜 많이 찍는데 딱 저한테 필요한 앱입니다 ㅜㅜ', 'star': 5, 'date': '2020년 3월 18일'}\n",
      "{'text': '사진하늘이 너무 예쁘게나와요 적용이 잘안되는 사진도있긴한데 그래도 흐린날사진 예쁘게 편집가능해서 좋습니다', 'star': 5, 'date': '2019년 6월 17일'}\n",
      "{'text': '와 필터가 너무 이뻐요 ㅠㅠㅠ 혹시나 이런 앱이 또 있나하고 리뷰보고 딴 앱들도 깔아봐서 필터를 덮어봤는데 이만큼 좋은게 없네요 ㅜㅜ 절말 필터 너무너무 이쁘고 하늘색 같은것도 보정할 수 있는게 좋아요 ❤ 별 5개 드리고 가요 (ू•ᴗ•ू❁)', 'star': 5, 'date': '2020년 4월 10일'}\n",
      "{'text': '전 원래 작성하는거 되게 싫어하고 귀찮아 하는 성격인데요 이앱은 아무생각없이 깔아서 실행해봤는데 생각보다 너무너무 예쁘게 만들어지고 자연스러워서 개인적으로 제가쓴 필터 앱중 최고였던것 갔아요 잘쓸게용😊🖐💛', 'star': 5, 'date': '2019년 8월 11일'}\n",
      "{'text': '예전엔 과한 필터때문에 좀 부담스러웠는데, 간만에써보니 필터/구름 분리도되고 피크닉 로고도 안찍히고 엄청 좋아졌네요~ 너무만족스러워요', 'star': 5, 'date': '2018년 11월 25일'}\n",
      "{'text': '색감이 다 이뻐요! 다만 아쉬운점은 사진저장시 해상도를 선택할 수 있다면 더 좋을것 같아요ㅎㅎ', 'star': 5, 'date': '2020년 8월 28일'}\n",
      "{'text': '하늘이 흐렸을때 찍기 진짜 좋구 유용하게 쓰는데 한가지가 없어서 조금 불편했어요 동영상기능이요 사진만 찍고 편집할 수 있다는게 아쉬워요', 'star': 5, 'date': '2020년 4월 5일'}\n",
      "{'text': '!!!!!!필터도 이쁘고 엄청좋아요오 그런데 혹시 사진 찍을때 무소음으로 찍는 기능 만들어주시면 안될까요..?? 소리가 너무 커요ㅠㅠ', 'star': 5, 'date': '2019년 4월 6일'}\n",
      "{'text': '엄...필터가 예쁘고 좋아요!! 근데 카메라에 지원하지 않은 이미지 입니다라고 떠서 카메라파일에 있는 사진을 편집 할수 없네여ㅠ 그거 빼고 좋아요!!!', 'star': 5, 'date': '2020년 10월 31일'}\n",
      "{'text': '색감 진짜 이쁨!!! 진짜 맘에들어요 원래 후기 안쓰는데 이건 진짜 너무예뻐서 후기쓰네요 색감도 다양하고 제가 원하는 색감도 많고 완전 사진이 바꿔요!! 대박 추천이에용 ㅠㅠ', 'star': 5, 'date': '2020년 5월 22일'}\n",
      "{'text': '별 10개를 주고싶을만큼좋아요!!!! 필터를 썻는데도 티가 별로안나서 너무좋고 또 필터를 조절할수 있는부분도 자연스럽게 수정할수있어서 좋습니다!! 진짜 인생앱 입니다!! 강추!!', 'star': 5, 'date': '2020년 6월 12일'}\n",
      "{'text': '겨우 시간내서 간 여행내내 흐린날씨라 걱정이 많았는데 평생 남겨지는 사진들을 이쁘게 꾸밀수있어 너무 좋습니다 유용해요:)', 'star': 5, 'date': '2019년 7월 8일'}\n",
      "{'text': '구름추가가 되어서 좋긴한데 선택하면 밝기 이런거에서 나머지 배경도 같이 되는 그런거라 인물색까지 변해서요 색 조절이 애매할때가 있네요', 'star': 5, 'date': '2020년 9월 13일'}\n",
      "{'text': '진짜 좋은데 왜 기본카메라로 찍었는데도 지원되지않는 파일이라고 뜨는것들이 많을까요ㅠ 필터는 너무이쁜데 사진을 편집할수가 없어요...ㅜ', 'star': 5, 'date': '2020년 10월 23일'}\n",
      "{'text': '왠만해서는 리뷰 안남기는데 사진마다 분위기 있게 필터를 맞출수있고 너무 잘맞아서 좋아요 그리고 스티커보다 필터만 사용하는 저에게는 너무 만족 👍', 'star': 5, 'date': '2018년 10월 26일'}\n",
      "{'text': '제가 사진 편집하는 거나 보정하는 거 좋아하는 편인데 하늘이 자연스럽고, 예쁘게 보정? 되는 것 같아서 마음에 들어요 ㅠㅠ ❤ 앞으로도 잘 쓸게요!', 'star': 5, 'date': '2020년 2월 6일'}\n",
      "{'text': '이 어플만큼 이쁘 색보정 어플 없어요 진짜...다른 어플들은 색보정되면서 노란끼가 항상있어서 마음에 안들었는데 피크닉은 정말 청량 보정 그자체입니당...♡ 영상도 같이 되면 너무 좋을 것같아용 감사합니당 ㅠㅠ', 'star': 5, 'date': '2021년 8월 17일'}\n",
      "{'text': '정말 너~~~무 좋네여! 완죤 취.저 예여!!♡ 벚꽃구경 왔는데 벚꽃도 넘 이쁘게 나오고!! 짱짱! 이에영 근뎅 셀카는 좀 안예쁘게 나와서... 셀카 기능좀 넣어주셨으면 해여 꼭 답글 달아주시길 바랄게요!♡', 'star': 5, 'date': '2019년 4월 13일'}\n",
      "{'text': '다좋은데.폰을 가로로 찰영해서 편집하려면.사진이 가로로 나타나지않아요.세로찰영과 편집은 좋은데. 가로사진은 편집이 안되네요. 가로사진은 가로로 편집할수있게 업데이트해주세요?', 'star': 5, 'date': '2018년 11월 30일'}\n",
      "{'text': '진짜 사용방법도 쉽고 필터들도 다 이뻐용 피크닉이 가능한 사진이라면 덤으로 구름도 같이 나와요 너무 강추입니다..!', 'star': 5, 'date': '2020년 11월 10일'}\n",
      "{'text': '이거는 내가 용량이 부족해서 삭제했다가도 나중에 다시 깔게 되는 앱임. 진짜 사진 이쁘게 되고 이것만한 앱은 없음. 다른 사람들은 해상도 떨어진다고 하는거 같은데 절대 안떨어져. 짱임', 'star': 5, 'date': '2018년 10월 6일'}\n",
      "{'text': '일단 배경 찍기 너무 좋아요!!!!별로 써보지 않은 사용자 이지만 앞으로 더 좋은 어플이 될 수 있을 것 같아요💖그런데 얼굴도 찍을 수 있게끔 하면 더 좋을듯 해요!!그래도 넘 좋습니다.잘 사용하겠습니다!!><', 'star': 5, 'date': '2020년 5월 25일'}\n",
      "{'text': '블로그 보다가 알게되었는데유 !! 🥕 진짜진짜 쪼아요 〰️❣🍍 일단 항상 같은곳만 찍고 그러다보니 지루했는데이앱 하나로 맨날 새로운곳을 보는 기분이에요 !! 진짜 짱 좋아요 ♡♡♡ 추천해요 주변에 입소문 내러가요 !!', 'star': 5, 'date': '2019년 4월 9일'}\n",
      "{'text': '넘좋아여!필터도많고 추천도 해주셔서 첨엔\\' 뭐지 ?\" 이랬는데 지금보니까 안예쁘던사진도 예뻐지는 마술이 라고해야하나? 그런좋은점도있고 찍으면서 예쁜필터낄슈 있어서넘좋아요', 'star': 5, 'date': '2019년 4월 28일'}\n",
      "{'text': '이번에 벚꽃축제를 갔는데요. 먹구름도 잔뜩 껴있고, 나중에 비까지 왔어요 ㅠㅠ 미세먼지도 있어서 뭔가 화창한 느낌 하나 없었는데.. 피크닉 앱으로 보정하니까 너무 좋아요!! 앞으로도 계속 애용할거예요^^ 감사합니다', 'star': 5, 'date': '2019년 4월 7일'}\n",
      "{'text': '필터 새로운거 안 바라니까 옷이랑 얼굴에도 필터 씨우지 맙시다ㅠ 밤하늘 배경이 넘 이뻐서 하고 싶었는데 옷이 하양이어서 그런지 옷이랑 얼굴도 퍼래졌네요 어쩌라는건지.... 사람 클릭하면 그것만 원본으로 돌아오면 좋겠네요', 'star': 5, 'date': '2020년 1월 11일'}\n",
      "{'text': '보정이 필요한 사진을 알아서 찾아주는데 그게 저하고 너무 잘 맞아서 잘 쓰고 있어요. 색감도 너무 이뻐요ㅎㅎ', 'star': 5, 'date': '2020년 8월 23일'}\n",
      "{'text': '역광은 색감이 별루구요. 저녁때 찍으니까 느낌이 그림입니다. 폰 바탕화면용으로 잘 사용하고 있습니다', 'star': 5, 'date': '2018년 10월 30일'}\n",
      "{'text': '필터가 예쁘지않는 사진에 이 앱을 사용하니까 생기가있어서 예쁜거 같아요!!이 앱을 사용사지 않으셨다면 꼭 사용하기를 추천드립니다!!👍', 'star': 5, 'date': '2018년 10월 15일'}\n",
      "{'text': '제가 하늘사진 찍는 것을 좋아해서 한번 깔아봤는데 필터도 다양하고 자연스럽게 적용되어서 너무 좋습니다!', 'star': 5, 'date': '2020년 9월 3일'}\n",
      "{'text': '옵션이 다양하고 좋아요', 'star': 5, 'date': '2024년 9월 12일'}\n",
      "{'text': '필터가 정말 예쁘기 잘 나오네요 아쉬운게 있다면, 필터 적용 전후 비교가 더 간편했으면 하네요', 'star': 5, 'date': '2021년 4월 13일'}\n",
      "{'text': '와...진짜 심심한 사진에...완전 짱이다....♡근데 하늘이 안보이는 사진은.. 눈물 흘리는 슬픈 구름이 나와서 편집을 할 수가 없어요..하지만 그런 점 빼고는 좋은거 같아요!♡', 'star': 5, 'date': '2020년 8월 19일'}\n",
      "{'text': '미초버린듯 ㅋㅋㅋ이거 진짜 물건임ㅋㅋㅋㅋ여행 갈 준비하다가 카메라 앱 깔아봤는데 갤러리 사진들에 적용해보고 리뷰안남길 수 없어서 왔음!!!!!! ㄱ이거 유료해도 되겠지만 계속무료해듀세요♡♡♡♡♡', 'star': 5, 'date': '2019년 3월 22일'}\n",
      "{'text': '필터앱 유목민인데요. 다시 돌아왔습니다! 똥손, 보정 초보, 보정하는것을 귀찮아 하는 분들 강력히 추천합니다.', 'star': 5, 'date': '2020년 11월 15일'}\n",
      "{'text': '그냥 너무 좋습니다 !! 친구들과 찍은 서진이 있는데 , 그 사진 하늘이 안 좋아서 실험 겸 해봣는데 .. 너무 좋네요!!!! 광고도 별로 없구.. 강추합니다!!', 'star': 5, 'date': '2020년 11월 1일'}\n",
      "{'text': '갤럭시 폰인데 아이폰 색감처럼 표현하는 앱을 찾고 있는데 좀더 사용해보구요 필터별로 조절기능 있어서 좋아요', 'star': 5, 'date': '2019년 11월 26일'}\n",
      "{'text': '너무 좋아요😘 이게 배경화면으로 하니 억쑤로 맘에 들어요! 하지만...조금만 더 많이 있었으묜 좋겠오요ㅎ 광고도 없어서 매일해도 짜증이 나질 않아여ㅎㅋㅎㅋ', 'star': 5, 'date': '2020년 2월 18일'}\n",
      "{'text': '너무 그냥 화질이 너무좋아요! 그치만 찍히는게 조금 느려요.그치만 하늘에 다가 배경이~~완전 기가 막혀요!', 'star': 5, 'date': '2021년 3월 7일'}\n",
      "{'text': '밋밋한사진에 구름만넣었을뿐인데 인생사진!!! 근데 저장하면 해상도가 떨어져요 ㅜㅜ 고해상도였으면좋겠어요', 'star': 5, 'date': '2018년 10월 3일'}\n",
      "{'text': '흐리게 나온 사진이 밝게 보정되서 좋았어요 다양한 느낌으로 사진을 표현할 수 있는것 같네요!', 'star': 5, 'date': '2018년 11월 2일'}\n",
      "{'text': '와 진짜 미쳤어요...먼저 별점 주러 오는 경우는 처음이에요 진짜 필터 디테일도 실물같이 잘 나오고 계속 돌아다니면서 사진 찍고싶네요ㅋㅋㅋㅋ진짜 굳굳 짱짱', 'star': 5, 'date': '2020년 7월 21일'}\n",
      "{'text': '다 좋은데 보정하고나면 원본 화질손실 됩니다 이것만 수정하면 거의 완벽함 그리고 얼굴이나 몸매 교정도 업그레이드 해주시면 금상첨화', 'star': 5, 'date': '2019년 3월 13일'}\n",
      "{'text': '너무 마음에 들어요♡♡ 제가 배경사진을 자주찍는데 핸드폰이란 카메라 앱은 별로 안이쁘게 나오거든요.. 그래서 이 앱을 깔아서 써봤는데 너무 이쁘게 나와서 너무 좋아요♡', 'star': 5, 'date': '2019년 4월 11일'}\n",
      "{'text': '풍경 찍었을때 좀 흐린 사진이었거든요!!근데 밤처럼 보정할수도있고 다 예쁜필터밖에없더라고요...완전 짱!!강추입니닷!', 'star': 5, 'date': '2019년 10월 20일'}\n",
      "{'text': '와!!제가 사용한 카메라 어플 중 방법도 간단하구 필터도 많고 광고도 별로 안 나오는 최고의 어플이에요!피크닉 강추강추!', 'star': 5, 'date': '2020년 11월 15일'}\n",
      "{'text': '촬영한 사진을 수정하고싶다면 최고의 분위기로 꾸밀 수 있다. 무척이나 만족스러운 앱이다', 'star': 5, 'date': '2019년 8월 29일'}\n",
      "{'text': '필터 하나같이 이뿌고 실제같아서 유용하네요ㅋㅋ 근데 기능이 별로 없어서 약간? 불편한게있어요.. 그래도 충분히 만족해요!', 'star': 5, 'date': '2020년 2월 29일'}\n",
      "{'text': '잘쓰는중. 다만 필터지우개브러쉬나 하늘배경입히는브러쉬 기능이 생기면 더 좋을듯.', 'star': 5, 'date': '2020년 1월 11일'}\n",
      "{'text': '예전에쓰다 지웠는데 너무잘썼던 기억이있어서 다시깔았어요.정말 여행가서 쓰시기 딱입니다❤ 다만,보라색하늘을했을때 살짝 부자연스런면이있어요 그래도 너무너무좋아요😍', 'star': 5, 'date': '2020년 5월 7일'}\n",
      "{'text': '제가 젤 좋아하는 앱 입니당❤ 별 100점을 주고 싶은데 5점 밖에 못 주네요ㅜㅇㅜ 글고 필터가 넘나 예뻐요:) 하늘목장 가는 길 필터가 제 최의 필터입니다❤ 그런데 동영상만 찍을수 있게 해주세요 그 단점 고쳐주신다면 감사하겠습니다🤗', 'star': 5, 'date': '2020년 8월 12일'}\n",
      "{'text': '제가 다른앱을 보다가 우연히 봤는데 찐짜 좋아서 리뷰 함 해봤어요 (아이폰쓰다가 안드로이드에 이앱이 있으면 좋겠다고 생각했는데 있어서 진짜좋아요!! 하늘도 이쁜거 많아서 좋아요❤).', 'star': 5, 'date': '2019년 8월 22일'}\n",
      "{'text': '진짜 다 완벽하고 예쁘게 쓰고있는데 전체사진에 몇몇 사진들이 없어서 불편해요 그것 빼고는 정말 좋게 쓰고있어요 추천이요', 'star': 5, 'date': '2021년 5월 6일'}\n",
      "{'text': '아름답고 이쁜 필터들이 많아서 좋은데요 약간 오류가 있나보네요 옷 색깔이 흰옷이나 하늘색 입고 찍으면 옷을 하늘로 인식해서 옷이 별이나 구름으로 변해버려요 ㅋㅋ 이점 고쳐주시면 좋을것같아요 ㅎㅎ', 'star': 5, 'date': '2019년 2월 9일'}\n",
      "{'text': '오늘처음 깐 앱인데요, 제가 본것중에 제일 좋아요! 별점더드려도 모자랄만큼 강추! 사진작가 꿈이신분들은 한버써보셔도 될것같아요! 사진작가가 꿈이 아니신 분들은 재미로 하셔도 좋을것같아요!!', 'star': 5, 'date': '2021년 7월 18일'}\n",
      "{'text': '호오오오 넘 좋아요 필터들 다 이쁘구.. 근데 좀 아쉬운건 하늘은 이쁘지만 벚꽃처럼 하얀 계열의 그런 것들은 색이 좀 이상해진다는.. 그래도 만족입니다!', 'star': 5, 'date': '2019년 11월 2일'}\n",
      "{'text': '방향은 굿! 구름이 카테고리별로 훨씬 많야합니다. 사용자들 구름이 겹치는 순간 안쓰게됩니다. 일러스트 느낌의 구름은 실제 찍은 사진과 괴리가 큽니다. 더 안늘려도 충분해요. 꾸안꾸 느낌의 자연스러운 구름들이 많이 필요합니다.', 'star': 5, 'date': '2022년 11월 19일'}\n",
      "{'text': '피크닉은 여전해요 필터는 최고!! 비오는날 흐린날은 사진찍어도 두렵지 않아요', 'star': 5, 'date': '2024년 7월 18일'}\n",
      "{'text': '배경이 우중충한게 예쁘게 바뀌어서 넘 좋아요! 더 좋은건 이 앱이 무료라는거❣ 무료로 사진 배경 예쁘게 꾸며서 인생샷 겟 할 수 있는게 젤 좋아용💕', 'star': 5, 'date': '2019년 2월 16일'}\n",
      "{'text': '저 이거 친구 추천으로 다운받았는데 진짜좋아요...그냥 동네 아무곳이나 찍어도 감성 배경화면으로 변신하고..하늘밖에 못찍어서 아쉽긴하지만 정말좋아요!!!', 'star': 5, 'date': '2020년 4월 10일'}\n",
      "{'text': '정말 좋네요. 사진 퀄이 확 삽니다. 하늘 부분을 수동으로 지정해서 할수도 있으면 좋겟네요.', 'star': 5, 'date': '2019년 7월 1일'}\n",
      "{'text': '제 원래 카메라가 하늘의 색감을 제대로 담지 못해서 답답해는데 이건 딱 좋아요. 구름 추가 가능하고, 색감 좋아서 많이 쓰게 되는 어플.', 'star': 5, 'date': '2020년 11월 25일'}\n",
      "{'text': '일단 배경너무이뻐요 아래,위 조절도 돼구 좋은데 건물은 인식이 안돼서 조금 안타까워요 그래도 예쁘게 잘쓰구 있습니다', 'star': 5, 'date': '2021년 4월 28일'}\n",
      "{'text': '전체적으로 블루톤 사진을 좋아 하는데 회색 벽에서 찍은 사진도 블루톤으로 바꿀수 있어서 넘 좋네요^^', 'star': 5, 'date': '2019년 8월 19일'}\n",
      "{'text': '정말 좋아요! 하늘말고 필터처럼 배경도 되서 분위기도 바뀌고...게다가 필터 종류가 너무 예뻐요! 강력추천합니다!', 'star': 5, 'date': '2021년 4월 13일'}\n",
      "{'text': '차이가너무나서 깜짝놀랍습니다😲 더이쁜거같고 풍경사진이 확 달라졌어요♡♡ 이게 이사진이맞나? 싶을정도로 달라요♡ 찐추천! 짱으로 추천합니당♡♡ 만족도100%로!!!', 'star': 5, 'date': '2021년 5월 9일'}\n",
      "{'text': 'aㅏ 찌인짜 이건 꼬오오오오오옥 깔아야 돼요! 정말 필터 이름하나하나까지도 사랑스럽고 진짜 색감이 쩔어요! 진짜로 아~무 것도 없는 하늘을 찍어도 무지개가 생기고,별이 생기고 하..... 진짜 너무 좋쟈나요♡ 저 이거 깔고나서 이거없으면 사진 못찍어요ㅠ 이게 무료라는게 말이 됩니까? 으아..♡ 제작자님 중말로~~!!! 감사하구 앞으로도 잘 쓰겠습니댜♡♡사랑해얌 (제작자님 끝가지 보셨으면 좋겠댜..ʕ≧ᴥ≦ʔ)', 'star': 5, 'date': '2019년 1월 29일'}\n",
      "{'text': '좋아요. 근데 진동 끄는 기능이 있으면 좋겠어요. 필터 누를 때마다 울려서 불편해요', 'star': 5, 'date': '2020년 3월 13일'}\n",
      "{'text': '와우 정말 재밌구여 필터도 많아서 좋네요 잘 어울리는것도 많네요 정말 추천드립니다 정말정말로 제가 본 앱중에 화질이 가장 좋네욥', 'star': 5, 'date': '2021년 4월 19일'}\n",
      "{'text': '필터 다양하고 광고도 잘 안뜨고 사용방법도 편하고 간단하고 그래서 너무 편하고 좋은 앱이에요🙃🙃', 'star': 5, 'date': '2021년 1월 19일'}\n",
      "{'text': '노을배경에 새 3마리있는 필터 꿈을 담은 새벽(?) 없어졌나요??ㅠㅠ 하늘배경 예뻐서 잘 쓰다가 용량문제때문에 한동안 못쓰다가 다시 깔았더니 없네요ㅜㅜ 다시 안나오나요??', 'star': 5, 'date': '2021년 4월 5일'}\n",
      "{'text': '너무너무너무너무 마음에들어요! 사진찍기를 좋아하는데 사진의 배경이 마음에 안들때 종종 이 어플을 쓰면 기분도 좋아집니다!!', 'star': 5, 'date': '2019년 2월 2일'}\n",
      "{'text': '확실이 색감?을 넣으니까 사진이 확 달라보이고 예쁘네요! 사진을찍어도 뭔가 부족했었는데 이제는 피크닉 앱이 있어서 좋네요ㅎㅎ 친구들한테도 많이 알려줘야 겠네요^^~', 'star': 5, 'date': '2020년 5월 16일'}\n",
      "{'text': '사용해본 보정앱중에 제일 좋은듯해요. 하늘까지 찍힌 사진보정에는 이게 제일인듯.', 'star': 5, 'date': '2021년 9월 23일'}\n",
      "{'text': '미세먼지심한요즘 하늘합성 넘좋아요 근데 정확히하늘만따지는건아니고 사물이나사람도물들어요 점점나아지겠죠♡ 색감보정아예없이 하늘만합성할수있으면더좋을거같아요!', 'star': 5, 'date': '2021년 4월 17일'}\n",
      "{'text': '와 긴가 민가하는 마음으로 다운받았는데 정말 죽은사진을 살려주네요! 정말 너무 좋은어플입니다 모두 깔아요!!', 'star': 5, 'date': '2018년 11월 11일'}\n",
      "{'text': '다양한 모습으로 사진들을 편집해서 보여주고, 내가 선택할 수 있어서 좋습니다.', 'star': 5, 'date': '2022년 8월 1일'}\n",
      "{'text': '좋아요. 배경 합성 , 변화주는거 좋아요 . 좀더 자연스럽게 되면 짱일듯 계속 무료였음 좋겠어요', 'star': 5, 'date': '2021년 12월 17일'}\n",
      "{'text': '너무 좋아요 🌙 이상하게 찍은 망친 풍경사진도 이 앱만 있으면 완벽해요💕 요즘 미세먼지때문에 풍경찍을만한 날이 없었는데 이 앱 덕분에 찍을 수 있습니다🧡', 'star': 5, 'date': '2019년 3월 16일'}\n",
      "{'text': '필터 다 이쁘고 좋은데 밤 풍경은 너무 티가 나요ㅠㅠ 그리고 필터 좀만 더 추가해주셨으면 좋겠습니다 :) 그래도 너무 잘 쓰고 있어요~', 'star': 5, 'date': '2021년 7월 18일'}\n"
     ]
    },
    {
     "data": {
      "text/html": [
       "<div>\n",
       "<style scoped>\n",
       "    .dataframe tbody tr th:only-of-type {\n",
       "        vertical-align: middle;\n",
       "    }\n",
       "\n",
       "    .dataframe tbody tr th {\n",
       "        vertical-align: top;\n",
       "    }\n",
       "\n",
       "    .dataframe thead th {\n",
       "        text-align: right;\n",
       "    }\n",
       "</style>\n",
       "<table border=\"1\" class=\"dataframe\">\n",
       "  <thead>\n",
       "    <tr style=\"text-align: right;\">\n",
       "      <th></th>\n",
       "      <th>text</th>\n",
       "      <th>rat</th>\n",
       "      <th>date</th>\n",
       "    </tr>\n",
       "  </thead>\n",
       "  <tbody>\n",
       "    <tr>\n",
       "      <th>0</th>\n",
       "      <td>많고 많은 필터어플들이 개성은 별로 없는편인데 피크닉은 독보적인 필터들이 많아서 계...</td>\n",
       "      <td>5</td>\n",
       "      <td>2019년 4월 14일</td>\n",
       "    </tr>\n",
       "    <tr>\n",
       "      <th>1</th>\n",
       "      <td>저 웬만하면 리뷰 잘 안 쓰는데 이 앱 너무 좋아서 쓰러 왔어요ㅠㅠㅠ♡♡ 평소에 사...</td>\n",
       "      <td>5</td>\n",
       "      <td>2019년 1월 3일</td>\n",
       "    </tr>\n",
       "    <tr>\n",
       "      <th>2</th>\n",
       "      <td>제품사진을 찍을 화질좋은 필터앱을 찾다 평점이 제일 높길래 골랐는데 너무 예쁘네요!...</td>\n",
       "      <td>5</td>\n",
       "      <td>2023년 2월 1일</td>\n",
       "    </tr>\n",
       "    <tr>\n",
       "      <th>3</th>\n",
       "      <td>배경이 자연스럽게 들어가 흐린날에도 사진찍기 좋고 필터 하나하나 색감도 너무 마음에...</td>\n",
       "      <td>5</td>\n",
       "      <td>2019년 2월 4일</td>\n",
       "    </tr>\n",
       "    <tr>\n",
       "      <th>4</th>\n",
       "      <td>진짜 이 앱은 남이 알까 무서울 정도로 좋은 앱이네요ㅠㅜㅜ 사진이 세상 예쁘게 되고...</td>\n",
       "      <td>4</td>\n",
       "      <td>2019년 6월 1일</td>\n",
       "    </tr>\n",
       "    <tr>\n",
       "      <th>...</th>\n",
       "      <td>...</td>\n",
       "      <td>...</td>\n",
       "      <td>...</td>\n",
       "    </tr>\n",
       "    <tr>\n",
       "      <th>215</th>\n",
       "      <td>와 긴가 민가하는 마음으로 다운받았는데 정말 죽은사진을 살려주네요! 정말 너무 좋은...</td>\n",
       "      <td>5</td>\n",
       "      <td>2018년 11월 11일</td>\n",
       "    </tr>\n",
       "    <tr>\n",
       "      <th>216</th>\n",
       "      <td>다양한 모습으로 사진들을 편집해서 보여주고, 내가 선택할 수 있어서 좋습니다.</td>\n",
       "      <td>5</td>\n",
       "      <td>2022년 8월 1일</td>\n",
       "    </tr>\n",
       "    <tr>\n",
       "      <th>217</th>\n",
       "      <td>좋아요. 배경 합성 , 변화주는거 좋아요 . 좀더 자연스럽게 되면 짱일듯 계속 무료...</td>\n",
       "      <td>4</td>\n",
       "      <td>2021년 12월 17일</td>\n",
       "    </tr>\n",
       "    <tr>\n",
       "      <th>218</th>\n",
       "      <td>너무 좋아요 🌙 이상하게 찍은 망친 풍경사진도 이 앱만 있으면 완벽해요💕 요즘 미세...</td>\n",
       "      <td>5</td>\n",
       "      <td>2019년 3월 16일</td>\n",
       "    </tr>\n",
       "    <tr>\n",
       "      <th>219</th>\n",
       "      <td>필터 다 이쁘고 좋은데 밤 풍경은 너무 티가 나요ㅠㅠ 그리고 필터 좀만 더 추가해주...</td>\n",
       "      <td>4</td>\n",
       "      <td>2021년 7월 18일</td>\n",
       "    </tr>\n",
       "  </tbody>\n",
       "</table>\n",
       "<p>220 rows × 3 columns</p>\n",
       "</div>"
      ],
      "text/plain": [
       "                                                  text  rat           date\n",
       "0    많고 많은 필터어플들이 개성은 별로 없는편인데 피크닉은 독보적인 필터들이 많아서 계...    5   2019년 4월 14일\n",
       "1    저 웬만하면 리뷰 잘 안 쓰는데 이 앱 너무 좋아서 쓰러 왔어요ㅠㅠㅠ♡♡ 평소에 사...    5    2019년 1월 3일\n",
       "2    제품사진을 찍을 화질좋은 필터앱을 찾다 평점이 제일 높길래 골랐는데 너무 예쁘네요!...    5    2023년 2월 1일\n",
       "3    배경이 자연스럽게 들어가 흐린날에도 사진찍기 좋고 필터 하나하나 색감도 너무 마음에...    5    2019년 2월 4일\n",
       "4    진짜 이 앱은 남이 알까 무서울 정도로 좋은 앱이네요ㅠㅜㅜ 사진이 세상 예쁘게 되고...    4    2019년 6월 1일\n",
       "..                                                 ...  ...            ...\n",
       "215  와 긴가 민가하는 마음으로 다운받았는데 정말 죽은사진을 살려주네요! 정말 너무 좋은...    5  2018년 11월 11일\n",
       "216        다양한 모습으로 사진들을 편집해서 보여주고, 내가 선택할 수 있어서 좋습니다.    5    2022년 8월 1일\n",
       "217  좋아요. 배경 합성 , 변화주는거 좋아요 . 좀더 자연스럽게 되면 짱일듯 계속 무료...    4  2021년 12월 17일\n",
       "218  너무 좋아요 🌙 이상하게 찍은 망친 풍경사진도 이 앱만 있으면 완벽해요💕 요즘 미세...    5   2019년 3월 16일\n",
       "219  필터 다 이쁘고 좋은데 밤 풍경은 너무 티가 나요ㅠㅠ 그리고 필터 좀만 더 추가해주...    4   2021년 7월 18일\n",
       "\n",
       "[220 rows x 3 columns]"
      ]
     },
     "execution_count": 234,
     "metadata": {},
     "output_type": "execute_result"
    }
   ],
   "source": [
    "for i in reviews:\n",
    "    review = {}\n",
    "    review['text'] = i.find_element(By.CSS_SELECTOR, '.h3YV2d').text\n",
    "    review['star'] = len(i.find_elements(By.CSS_SELECTOR, '.F7XJmb'))\n",
    "    review['date'] = i.find_element(By.CSS_SELECTOR, '.bp9Aid').text\n",
    "    result.append(review)\n",
    "    print(review)\n",
    "# 요소별 추출\n",
    "def get_content(review):\n",
    "    condic = {}\n",
    "    condic['text'] = review.find_element(By.CSS_SELECTOR, 'div.h3YV2d').text\n",
    "    condic['rat'] = len(review.find_elements(By.CSS_SELECTOR, 'span.Z1Dz7b'))\n",
    "    condic['date'] = review.find_element(By.CSS_SELECTOR, 'span.bp9Aid').text\n",
    "    return condic\n",
    "result = [get_content(review) for review in reviews]\n",
    "df = pd.DataFrame(result)\n",
    "df"
   ]
  },
  {
   "cell_type": "code",
   "execution_count": 235,
   "id": "8d1cac34-d697-422f-860a-5a8a45cbfc26",
   "metadata": {},
   "outputs": [
    {
     "data": {
      "text/html": [
       "<div>\n",
       "<style scoped>\n",
       "    .dataframe tbody tr th:only-of-type {\n",
       "        vertical-align: middle;\n",
       "    }\n",
       "\n",
       "    .dataframe tbody tr th {\n",
       "        vertical-align: top;\n",
       "    }\n",
       "\n",
       "    .dataframe thead th {\n",
       "        text-align: right;\n",
       "    }\n",
       "</style>\n",
       "<table border=\"1\" class=\"dataframe\">\n",
       "  <thead>\n",
       "    <tr style=\"text-align: right;\">\n",
       "      <th></th>\n",
       "      <th>text</th>\n",
       "      <th>rat</th>\n",
       "      <th>date</th>\n",
       "    </tr>\n",
       "  </thead>\n",
       "  <tbody>\n",
       "    <tr>\n",
       "      <th>0</th>\n",
       "      <td>많고 많은 필터어플들이 개성은 별로 없는편인데 피크닉은 독보적인 필터들이 많아서 계...</td>\n",
       "      <td>5</td>\n",
       "      <td>2019년 4월 14일</td>\n",
       "    </tr>\n",
       "    <tr>\n",
       "      <th>1</th>\n",
       "      <td>저 웬만하면 리뷰 잘 안 쓰는데 이 앱 너무 좋아서 쓰러 왔어요ㅠㅠㅠ♡♡ 평소에 사...</td>\n",
       "      <td>5</td>\n",
       "      <td>2019년 1월 3일</td>\n",
       "    </tr>\n",
       "    <tr>\n",
       "      <th>2</th>\n",
       "      <td>제품사진을 찍을 화질좋은 필터앱을 찾다 평점이 제일 높길래 골랐는데 너무 예쁘네요!...</td>\n",
       "      <td>5</td>\n",
       "      <td>2023년 2월 1일</td>\n",
       "    </tr>\n",
       "    <tr>\n",
       "      <th>3</th>\n",
       "      <td>배경이 자연스럽게 들어가 흐린날에도 사진찍기 좋고 필터 하나하나 색감도 너무 마음에...</td>\n",
       "      <td>5</td>\n",
       "      <td>2019년 2월 4일</td>\n",
       "    </tr>\n",
       "    <tr>\n",
       "      <th>4</th>\n",
       "      <td>진짜 이 앱은 남이 알까 무서울 정도로 좋은 앱이네요ㅠㅜㅜ 사진이 세상 예쁘게 되고...</td>\n",
       "      <td>4</td>\n",
       "      <td>2019년 6월 1일</td>\n",
       "    </tr>\n",
       "    <tr>\n",
       "      <th>...</th>\n",
       "      <td>...</td>\n",
       "      <td>...</td>\n",
       "      <td>...</td>\n",
       "    </tr>\n",
       "    <tr>\n",
       "      <th>215</th>\n",
       "      <td>와 긴가 민가하는 마음으로 다운받았는데 정말 죽은사진을 살려주네요! 정말 너무 좋은...</td>\n",
       "      <td>5</td>\n",
       "      <td>2018년 11월 11일</td>\n",
       "    </tr>\n",
       "    <tr>\n",
       "      <th>216</th>\n",
       "      <td>다양한 모습으로 사진들을 편집해서 보여주고, 내가 선택할 수 있어서 좋습니다.</td>\n",
       "      <td>5</td>\n",
       "      <td>2022년 8월 1일</td>\n",
       "    </tr>\n",
       "    <tr>\n",
       "      <th>217</th>\n",
       "      <td>좋아요. 배경 합성 , 변화주는거 좋아요 . 좀더 자연스럽게 되면 짱일듯 계속 무료...</td>\n",
       "      <td>4</td>\n",
       "      <td>2021년 12월 17일</td>\n",
       "    </tr>\n",
       "    <tr>\n",
       "      <th>218</th>\n",
       "      <td>너무 좋아요 🌙 이상하게 찍은 망친 풍경사진도 이 앱만 있으면 완벽해요💕 요즘 미세...</td>\n",
       "      <td>5</td>\n",
       "      <td>2019년 3월 16일</td>\n",
       "    </tr>\n",
       "    <tr>\n",
       "      <th>219</th>\n",
       "      <td>필터 다 이쁘고 좋은데 밤 풍경은 너무 티가 나요ㅠㅠ 그리고 필터 좀만 더 추가해주...</td>\n",
       "      <td>4</td>\n",
       "      <td>2021년 7월 18일</td>\n",
       "    </tr>\n",
       "  </tbody>\n",
       "</table>\n",
       "<p>220 rows × 3 columns</p>\n",
       "</div>"
      ],
      "text/plain": [
       "                                                  text  rat           date\n",
       "0    많고 많은 필터어플들이 개성은 별로 없는편인데 피크닉은 독보적인 필터들이 많아서 계...    5   2019년 4월 14일\n",
       "1    저 웬만하면 리뷰 잘 안 쓰는데 이 앱 너무 좋아서 쓰러 왔어요ㅠㅠㅠ♡♡ 평소에 사...    5    2019년 1월 3일\n",
       "2    제품사진을 찍을 화질좋은 필터앱을 찾다 평점이 제일 높길래 골랐는데 너무 예쁘네요!...    5    2023년 2월 1일\n",
       "3    배경이 자연스럽게 들어가 흐린날에도 사진찍기 좋고 필터 하나하나 색감도 너무 마음에...    5    2019년 2월 4일\n",
       "4    진짜 이 앱은 남이 알까 무서울 정도로 좋은 앱이네요ㅠㅜㅜ 사진이 세상 예쁘게 되고...    4    2019년 6월 1일\n",
       "..                                                 ...  ...            ...\n",
       "215  와 긴가 민가하는 마음으로 다운받았는데 정말 죽은사진을 살려주네요! 정말 너무 좋은...    5  2018년 11월 11일\n",
       "216        다양한 모습으로 사진들을 편집해서 보여주고, 내가 선택할 수 있어서 좋습니다.    5    2022년 8월 1일\n",
       "217  좋아요. 배경 합성 , 변화주는거 좋아요 . 좀더 자연스럽게 되면 짱일듯 계속 무료...    4  2021년 12월 17일\n",
       "218  너무 좋아요 🌙 이상하게 찍은 망친 풍경사진도 이 앱만 있으면 완벽해요💕 요즘 미세...    5   2019년 3월 16일\n",
       "219  필터 다 이쁘고 좋은데 밤 풍경은 너무 티가 나요ㅠㅠ 그리고 필터 좀만 더 추가해주...    4   2021년 7월 18일\n",
       "\n",
       "[220 rows x 3 columns]"
      ]
     },
     "execution_count": 235,
     "metadata": {},
     "output_type": "execute_result"
    }
   ],
   "source": [
    "df"
   ]
  },
  {
   "cell_type": "code",
   "execution_count": null,
   "id": "ef24866d-fa4a-48a7-86b0-d5132a5fec98",
   "metadata": {},
   "outputs": [],
   "source": []
  }
 ],
 "metadata": {
  "kernelspec": {
   "display_name": "Python 3 (ipykernel)",
   "language": "python",
   "name": "python3"
  },
  "language_info": {
   "codemirror_mode": {
    "name": "ipython",
    "version": 3
   },
   "file_extension": ".py",
   "mimetype": "text/x-python",
   "name": "python",
   "nbconvert_exporter": "python",
   "pygments_lexer": "ipython3",
   "version": "3.12.4"
  }
 },
 "nbformat": 4,
 "nbformat_minor": 5
}
